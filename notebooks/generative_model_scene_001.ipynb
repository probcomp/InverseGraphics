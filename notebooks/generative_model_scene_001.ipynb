{
 "cells": [
  {
   "cell_type": "code",
   "execution_count": 1,
   "id": "41096b2a-c55b-47b8-b934-20df1d69384b",
   "metadata": {},
   "outputs": [],
   "source": [
    "using Revise"
   ]
  },
  {
   "cell_type": "code",
   "execution_count": 2,
   "id": "517db6a4-28f2-436d-a3e4-e39d09fd01f0",
   "metadata": {},
   "outputs": [
    {
     "name": "stderr",
     "output_type": "stream",
     "text": [
      "┌ Info: Precompiling OccGrid [edab0b8f-8780-4496-95e4-2972e6434f91]\n",
      "└ @ Base loading.jl:1342\n",
      "┌ Info: Precompiling PointCloud [febe334d-ce8c-46bf-a83a-c33eb062e54c]\n",
      "└ @ Base loading.jl:1342\n"
     ]
    },
    {
     "data": {
      "text/plain": [
       "PyObject <module 'numpy' from '/usr/local/lib/python3.8/dist-packages/numpy/__init__.py'>"
      ]
     },
     "execution_count": 2,
     "metadata": {},
     "output_type": "execute_result"
    }
   ],
   "source": [
    "import PyCall\n",
    "\n",
    "import OccGrid as O\n",
    "import PointCloud as PC\n",
    "\n",
    "# If undefined: (@v1.6) pkg> dev PointCloud\n",
    "import PointCloud: CameraIntrinsics\n",
    "\n",
    "import Control: BeliefState, execute_command!\n",
    "import PoseComposition: Pose, IDENTITY_POSE, IDENTITY_ORN\n",
    "using StaticArrays\n",
    "\n",
    "global MCS = PyCall.pyimport(\"machine_common_sense\")\n",
    "global np = PyCall.pyimport(\"numpy\")"
   ]
  },
  {
   "cell_type": "code",
   "execution_count": 3,
   "id": "18d8a12d-5f21-402b-b14e-e6c856fbedaf",
   "metadata": {
    "collapsed": true,
    "jupyter": {
     "outputs_hidden": true
    },
    "tags": []
   },
   "outputs": [
    {
     "name": "stdout",
     "output_type": "stream",
     "text": [
      "\u001b[36m\u001b[1m     Project\u001b[22m\u001b[39m InverseGraphics v0.1.0\n",
      "\u001b[32m\u001b[1m      Status\u001b[22m\u001b[39m `/cora/InverseGraphics/Project.toml`\n",
      " \u001b[90m [aaaa29a8] \u001b[39mClustering v0.14.2\n",
      " \u001b[90m [35d6a980] \u001b[39mColorSchemes v3.17.1\n",
      " \u001b[90m [5ae59095] \u001b[39mColors v0.12.8\n",
      " \u001b[90m [150eb455] \u001b[39mCoordinateTransformations v0.6.2\n",
      " \u001b[90m [864edb3b] \u001b[39mDataStructures v0.18.11\n",
      " \u001b[90m [b4f34e82] \u001b[39mDistances v0.10.7\n",
      " \u001b[90m [31c24e10] \u001b[39mDistributions v0.25.52\n",
      " \u001b[90m [b7d42ee7] \u001b[39mEinsum v0.4.1\n",
      " \u001b[90m [5789e2e9] \u001b[39mFileIO v1.13.0\n",
      " \u001b[90m [f7f18e0c] \u001b[39mGLFW v3.4.1\n",
      " \u001b[90m [d1e26eb4] \u001b[39mGLRenderer v0.1.4\n",
      " \u001b[90m [ea4f424c] \u001b[39mGen v0.4.4\n",
      " \u001b[90m [85d806fb] \u001b[39mGenDirectionalStats v0.1.1\n",
      " \u001b[90m [5c1252a2] \u001b[39mGeometryBasics v0.3.13\n",
      " \u001b[90m [7073ff75] \u001b[39mIJulia v1.23.2\n",
      " \u001b[90m [916415d5] \u001b[39mImages v0.24.1\n",
      " \u001b[90m [682c06a0] \u001b[39mJSON v0.21.3\n",
      " \u001b[90m [093fc24a] \u001b[39mLightGraphs v1.3.5\n",
      " \u001b[90m [23992714] \u001b[39mMAT v0.10.3\n",
      " \u001b[90m [442fdcdd] \u001b[39mMeasures v0.3.1\n",
      " \u001b[90m [c03570c3] \u001b[39mMemoize v0.4.4\n",
      " \u001b[90m [3bb1c1c2] \u001b[39mMeshCatViz v0.1.0\n",
      " \u001b[90m [7269a6da] \u001b[39mMeshIO v0.4.7\n",
      " \u001b[90m [626554b9] \u001b[39mMetaGraphs v0.6.8\n",
      " \u001b[90m [888bd7f2] \u001b[39mMiniGSG v0.1.0\n",
      " \u001b[90m [66fc600b] \u001b[39mModernGL v1.1.4\n",
      " \u001b[90m [b8a86587] \u001b[39mNearestNeighbors v0.4.9\n",
      " \u001b[90m [d96e819e] \u001b[39mParameters v0.12.3\n",
      " \u001b[90m [54e51dfa] \u001b[39mPerceptualColourMaps v0.3.5\n",
      " \u001b[90m [91a5bcdd] \u001b[39mPlots v1.27.1\n",
      " \u001b[90m [0a8ab332] \u001b[39mPoseComposition v0.1.2\n",
      " \u001b[90m [438e738f] \u001b[39mPyCall v1.93.1\n",
      " \u001b[90m [295af30f] \u001b[39mRevise v3.3.3\n",
      " \u001b[90m [6038ab10] \u001b[39mRotations v1.3.0\n",
      " \u001b[90m [90137ffa] \u001b[39mStaticArrays v1.4.2\n",
      " \u001b[90m [4c63d2b9] \u001b[39mStatsFuns v0.9.16\n",
      " \u001b[90m [37e2e46d] \u001b[39mLinearAlgebra\n",
      " \u001b[90m [10745b16] \u001b[39mStatistics\n"
     ]
    }
   ],
   "source": [
    "import Pkg; Pkg.status()"
   ]
  },
  {
   "cell_type": "code",
   "execution_count": 4,
   "id": "ead65403-0b0b-430a-b855-4dc71a89cba9",
   "metadata": {},
   "outputs": [
    {
     "name": "stdout",
     "output_type": "stream",
     "text": [
      "Found path: /root/.mcs/0.5.2/MCS-AI2-THOR-Unity-App-v0.5.2.x86_64\n"
     ]
    },
    {
     "data": {
      "text/plain": [
       "Dict{Any, Any} with 8 entries:\n",
       "  \"performerStart\"  => Dict{Any, Any}(\"rotation\"=>Dict{Any, Any}(\"x\"=>0, \"y\"=>0…\n",
       "  \"name\"            => \"soccer_ball_retrieval_example\"\n",
       "  \"floorMaterial\"   => \"AI2-THOR/Materials/Fabrics/CarpetWhite 3\"\n",
       "  \"ceilingMaterial\" => \"AI2-THOR/Materials/Walls/Drywall\"\n",
       "  \"objects\"         => Dict{Any, Any}[Dict(\"salientMaterials\"=>[\"fabric\"], \"mat…\n",
       "  \"wallMaterial\"    => \"AI2-THOR/Materials/Walls/DrywallBeige\"\n",
       "  \"goal\"            => Dict{Any, Any}(\"metadata\"=>Dict{Any, Any}(\"target\"=>Dict…\n",
       "  \"version\"         => 2"
      ]
     },
     "execution_count": 4,
     "metadata": {},
     "output_type": "execute_result"
    }
   ],
   "source": [
    "cora_path = get(ENV, \"CORA_PATH\", \"/cora\")\n",
    "cora_agent_path = joinpath(cora_path, \"cora-agent\")\n",
    "scene_path = joinpath(cora_agent_path, \"test/data/eval5/ball_behind_sofa.json\")\n",
    "config_path = joinpath(cora_agent_path, \"test/data/config_level2.ini\")\n",
    "\n",
    "if \"MCS_CONFIG_FILE_PATH\" ∈ keys(ENV)\n",
    "    println(\"\\nWARNING: MCS_CONFIG_FILE_PATH is set and might interfere with your defined information level.\")\n",
    "end\n",
    "\n",
    "if isfile(config_path)\n",
    "    controller = MCS.create_controller(config_file_or_dict=config_path)\n",
    "else\n",
    "    println(\"Error: Config file path \\\"$(config_path)\\\" does not exist.\")\n",
    "end\n",
    "\n",
    "if isfile(scene_path)\n",
    "    scene_config = MCS.load_scene_json_file(scene_path);\n",
    "else\n",
    "    println(\"Error: Scene path \\\"$(scene_path)\\\" does not exist.\")\n",
    "end"
   ]
  },
  {
   "cell_type": "code",
   "execution_count": 5,
   "id": "7f53554a-e418-4e28-b13d-c522c88e7055",
   "metadata": {},
   "outputs": [
    {
     "data": {
      "text/plain": [
       "PyObject <machine_common_sense.step_metadata.StepMetadata object at 0x7ffabf34c580>"
      ]
     },
     "execution_count": 5,
     "metadata": {},
     "output_type": "execute_result"
    }
   ],
   "source": [
    "step_metadata = controller.start_scene(scene_config)"
   ]
  },
  {
   "cell_type": "code",
   "execution_count": 6,
   "id": "f210bdf9-dcf7-4496-a4a4-17875ac087bc",
   "metadata": {},
   "outputs": [
    {
     "data": {
      "text/plain": [
       "Geometry.CameraIntrinsics\n",
       "  width: Int64 600\n",
       "  height: Int64 400\n",
       "  fx: Float64 514.2991467983065\n",
       "  fy: Float64 514.2991467983065\n",
       "  cx: Float64 300.0\n",
       "  cy: Float64 200.0\n",
       "  near: Float64 9.999999747378752e-5\n",
       "  far: Float64 9999.0\n"
      ]
     },
     "execution_count": 6,
     "metadata": {},
     "output_type": "execute_result"
    }
   ],
   "source": [
    "intrinsics = CameraIntrinsics(step_metadata)"
   ]
  },
  {
   "cell_type": "code",
   "execution_count": 7,
   "id": "67f4bb5a-1883-4206-9f6a-db3cb329459e",
   "metadata": {},
   "outputs": [],
   "source": [
    "belief_state = BeliefState(\n",
    "    intrinsics=intrinsics,\n",
    "    step_metadata_history=[step_metadata],\n",
    "    action_history=[],\n",
    "    pose_history=[IDENTITY_POSE],\n",
    "    information_level=\"level2\",\n",
    "    time_to_live=0\n",
    ");\n",
    "\n",
    "# obs = [step_metadata] ∪ [execute_command!(controller, belief_state, \"RotateRight\") for _  in 1:35];\n",
    "for _  in 1:35\n",
    "    execute_command!(controller, belief_state, \"RotateRight\")\n",
    "end"
   ]
  },
  {
   "cell_type": "code",
   "execution_count": 8,
   "id": "98a64033-3172-41d1-b2ca-073a80663b14",
   "metadata": {},
   "outputs": [],
   "source": [
    "PC.realign_world!(belief_state)"
   ]
  },
  {
   "cell_type": "code",
   "execution_count": 9,
   "id": "5711e0b1-dae9-4ab9-be33-e31b31094bac",
   "metadata": {},
   "outputs": [
    {
     "data": {
      "text/plain": [
       "OccGrid.OccupancyGrid(OccGrid.OccupancyGridConfig([0.3, 0.3, 0.3], 1), Dict{SVector{3, Int64}, Int64}(), Dict{SVector{3, Int64}, Int64}(), [0, 0, 0], [0, 0, 0], [0, 0, 0])"
      ]
     },
     "execution_count": 9,
     "metadata": {},
     "output_type": "execute_result"
    }
   ],
   "source": [
    "occupancy_grid_config = O.OccupancyGridConfig(SVector{3, Float64}([0.3, 0.3, 0.3]))\n",
    "occupancy_grid = O.OccupancyGrid(occupancy_grid_config)"
   ]
  },
  {
   "cell_type": "code",
   "execution_count": 10,
   "id": "6a4b5c21-0ee3-4691-a6d3-89edb01e2160",
   "metadata": {},
   "outputs": [],
   "source": [
    "objects_only_cloud, world_bbox, perception_updated_until = PC.perception_initializiation(belief_state, occupancy_grid, 1, length(belief_state.pose_history));"
   ]
  },
  {
   "cell_type": "markdown",
   "id": "26f5e1d5-fb62-4fb8-9337-da261dab4cc3",
   "metadata": {},
   "source": [
    "## Render Naively\n",
    "The following will render the `objects_only_cloud` just extracted."
   ]
  },
  {
   "cell_type": "code",
   "execution_count": null,
   "id": "0aadc0e2-ff2f-44c7-a3c5-1d218eaf2b85",
   "metadata": {},
   "outputs": [],
   "source": [
    "try\n",
    "    import MeshCatViz as V\n",
    "catch\n",
    "    import MeshCatViz as V    \n",
    "end\n",
    "V.setup_visualizer()"
   ]
  },
  {
   "cell_type": "code",
   "execution_count": null,
   "id": "8f76acbb-9388-46ca-a99f-e382e18bb0c5",
   "metadata": {},
   "outputs": [],
   "source": [
    "import Images as I\n",
    "\n",
    "V.viz(objects_only_cloud[1:3, :] ./ 5.0; color=I.colorant\"black\", channel_name=:gen_cloud)"
   ]
  },
  {
   "cell_type": "markdown",
   "id": "657607c1-d4d7-4b1b-89c4-2537a8dc4b14",
   "metadata": {},
   "source": [
    "## Compute Mesh"
   ]
  },
  {
   "cell_type": "code",
   "execution_count": 16,
   "id": "41f2df2d-bdf0-4dd8-837e-74eeba121e50",
   "metadata": {},
   "outputs": [
    {
     "data": {
      "text/plain": [
       "GLRenderer.Mesh\n",
       "  vertices: Array{Float64}((3, 328560)) [4.65 4.75 … -2.55 -2.45; 0.65 0.65 … -1.45 -1.45; -2.2500000000000004 -2.2500000000000004 … 4.95 4.95]\n",
       "  indices: Array{Int64}((3, 164280)) [0 1 … 328556 328557; 2 2 … 328558 328558; 1 3 … 328557 328559]\n",
       "  normals: Array{Float64}((3, 328560)) [0.0 0.0 … 0.0 0.0; 0.0 0.0 … 1.0 1.0; 1.0 1.0 … 0.0 0.0]\n",
       "  tex_coords: Nothing nothing\n",
       "  tex_path: Nothing nothing\n"
      ]
     },
     "execution_count": 16,
     "metadata": {},
     "output_type": "execute_result"
    }
   ],
   "source": [
    "resolution = 0.1  # 0.05\n",
    "\n",
    "# import SceneGenerativeModel as SGM\n",
    "# Note: occupancy_grid_config.grid_resolution is vector of length 3, but function needs single value\n",
    "# mesh = SGM.cloud_to_mesh(objects_only_cloud[1:3, :], resolution)\n",
    "\n",
    "import GLRenderer as GL\n",
    "\n",
    "# TODO function occupancy_grid_to_mesh(occupancy_grid)\n",
    "voxel_grid = GL.voxelize(objects_only_cloud[1:3, :], resolution)\n",
    "mesh = GL.mesh_from_voxelized_cloud(voxel_grid, resolution)"
   ]
  },
  {
   "cell_type": "code",
   "execution_count": 17,
   "id": "b9845bee-0f84-44f6-9380-0ab49129e772",
   "metadata": {},
   "outputs": [],
   "source": [
    "import InverseGraphics as T\n",
    "\n",
    "IDX = 1000\n",
    "YCB_DIR = joinpath(dirname(pwd()),\"data\")\n",
    "world_scaling_factor = 10.0\n",
    "id_to_cloud, id_to_shift, id_to_box  = T.load_ycbv_models_adjusted(YCB_DIR, world_scaling_factor);\n",
    "# all_ids = sort(collect(keys(id_to_cloud)));\n",
    "# names = T.load_ycb_model_list(YCB_DIR)\n",
    "\n",
    "gt_poses, ids, gt_rgb_image, gt_depth_image, cam_pose, original_camera = T.load_ycbv_scene_adjusted(\n",
    "    YCB_DIR, IDX, world_scaling_factor, id_to_shift\n",
    ");"
   ]
  },
  {
   "cell_type": "code",
   "execution_count": 52,
   "id": "7e21b643-5a90-4358-b3ab-b968f07072ae",
   "metadata": {},
   "outputs": [],
   "source": [
    "import PoseComposition: Pose, IDENTITY_POSE, IDENTITY_ORN, QuatRotation"
   ]
  },
  {
   "cell_type": "code",
   "execution_count": 54,
   "id": "28903734-d93e-458e-9b87-3c05409ecc0b",
   "metadata": {},
   "outputs": [
    {
     "data": {
      "text/plain": [
       "Pose⟨pos=[0.7400052114043696, 0.8726610699919363, 8.712766016937628], orientation=(w=0.436824847195757, x=0.7508444627918286, y=0.47275777555610404, z=-0.148043004625341)⟩"
      ]
     },
     "execution_count": 54,
     "metadata": {},
     "output_type": "execute_result"
    }
   ],
   "source": [
    "pose = Pose([0.7400052114043696, 0.8726610699919363, 8.712766016937628], QuatRotation(0.43682484719575687, 0.7508444627918284, 0.47275777555610393, -0.14804300462534098))"
   ]
  },
  {
   "cell_type": "code",
   "execution_count": 23,
   "id": "92eeae98-d0a0-45ce-977d-fdad42be43b4",
   "metadata": {},
   "outputs": [
    {
     "name": "stdout",
     "output_type": "stream",
     "text": [
      "gl_version_for_shaders = \"410\"\n",
      "true\n"
     ]
    },
    {
     "data": {
      "text/plain": [
       "GLRenderer.Renderer{GLRenderer.DepthMode}(GLFW.Window(Ptr{Nothing} @0x0000000018049840), GLRenderer.CameraIntrinsics\n",
       "  width: Int64 160\n",
       "  height: Int64 120\n",
       "  fx: Float64 266.6945\n",
       "  fy: Float64 266.87175\n",
       "  cx: Float64 78.246725\n",
       "  cy: Float64 60.327725\n",
       "  near: Float64 1.0\n",
       "  far: Float64 50000.0\n",
       ", 0x00000003, Any[], Any[], Any[], Float32[3.333681 0.0 0.021915913 0.0; 0.0 4.447863 0.0054620504 0.0; 0.0 0.0 -1.0000398 -2.00004; 0.0 0.0 -1.0 0.0])"
      ]
     },
     "execution_count": 23,
     "metadata": {},
     "output_type": "execute_result"
    }
   ],
   "source": [
    "camera = T.scale_down_camera(original_camera, 4)\n",
    "renderer = GL.setup_renderer(camera, GL.DepthMode())"
   ]
  },
  {
   "cell_type": "code",
   "execution_count": 27,
   "id": "4c14a833-d16c-46f5-ad61-4d7c358b9395",
   "metadata": {},
   "outputs": [
    {
     "data": {
      "text/plain": [
       "MeshCat Visualizer with path /meshcat at http://127.0.0.1:8702"
      ]
     },
     "execution_count": 27,
     "metadata": {},
     "output_type": "execute_result"
    }
   ],
   "source": [
    "V.reset_visualizer()"
   ]
  },
  {
   "cell_type": "code",
   "execution_count": 29,
   "id": "b0c8dac7-c277-4912-a6a5-6da96d50900d",
   "metadata": {},
   "outputs": [
    {
     "data": {
      "text/plain": [
       "get_cloud (generic function with 1 method)"
      ]
     },
     "execution_count": 29,
     "metadata": {},
     "output_type": "execute_result"
    }
   ],
   "source": [
    "function get_cloud(poses, ids, camera_pose)\n",
    "    depth_image = GL.gl_render(renderer, ids, poses, camera_pose)\n",
    "    cloud = GL.depth_image_to_point_cloud(depth_image, camera)\n",
    "    if isnothing(cloud)\n",
    "        cloud = zeros(3,1)\n",
    "    end\n",
    "    cloud\n",
    "end"
   ]
  },
  {
   "cell_type": "code",
   "execution_count": 31,
   "id": "fd61d26c-ece4-431f-9b53-efc61171f401",
   "metadata": {},
   "outputs": [
    {
     "data": {
      "text/plain": [
       "true"
      ]
     },
     "execution_count": 31,
     "metadata": {},
     "output_type": "execute_result"
    }
   ],
   "source": [
    "GL.load_object!(renderer, mesh)"
   ]
  },
  {
   "cell_type": "code",
   "execution_count": 55,
   "id": "40fcdc7d-4bac-465d-840a-abd81cf0633e",
   "metadata": {},
   "outputs": [
    {
     "data": {
      "image/png": "[encoded data removed]",
      "text/plain": [
       "120×160 Array{RGBA{Float64},2} with eltype ColorTypes.RGBA{Float64}:\n",
       " RGBA{Float64}(1.0,1.0,1.0,1.0)  …  RGBA{Float64}(1.0,1.0,1.0,1.0)\n",
       " RGBA{Float64}(1.0,1.0,1.0,1.0)     RGBA{Float64}(1.0,1.0,1.0,1.0)\n",
       " RGBA{Float64}(1.0,1.0,1.0,1.0)     RGBA{Float64}(1.0,1.0,1.0,1.0)\n",
       " RGBA{Float64}(1.0,1.0,1.0,1.0)     RGBA{Float64}(1.0,1.0,1.0,1.0)\n",
       " RGBA{Float64}(1.0,1.0,1.0,1.0)     RGBA{Float64}(1.0,1.0,1.0,1.0)\n",
       " RGBA{Float64}(1.0,1.0,1.0,1.0)  …  RGBA{Float64}(1.0,1.0,1.0,1.0)\n",
       " RGBA{Float64}(1.0,1.0,1.0,1.0)     RGBA{Float64}(1.0,1.0,1.0,1.0)\n",
       " RGBA{Float64}(1.0,1.0,1.0,1.0)     RGBA{Float64}(1.0,1.0,1.0,1.0)\n",
       " RGBA{Float64}(1.0,1.0,1.0,1.0)     RGBA{Float64}(1.0,1.0,1.0,1.0)\n",
       " RGBA{Float64}(1.0,1.0,1.0,1.0)     RGBA{Float64}(1.0,1.0,1.0,1.0)\n",
       " RGBA{Float64}(1.0,1.0,1.0,1.0)  …  RGBA{Float64}(1.0,1.0,1.0,1.0)\n",
       " RGBA{Float64}(1.0,1.0,1.0,1.0)     RGBA{Float64}(1.0,1.0,1.0,1.0)\n",
       " RGBA{Float64}(1.0,1.0,1.0,1.0)     RGBA{Float64}(1.0,1.0,1.0,1.0)\n",
       " ⋮                               ⋱  \n",
       " RGBA{Float64}(1.0,1.0,1.0,1.0)     RGBA{Float64}(0.0372407,0.0372407,0.0372407,1.0)\n",
       " RGBA{Float64}(1.0,1.0,1.0,1.0)     RGBA{Float64}(0.037273,0.037273,0.037273,1.0)\n",
       " RGBA{Float64}(1.0,1.0,1.0,1.0)  …  RGBA{Float64}(0.0373053,0.0373053,0.0373053,1.0)\n",
       " RGBA{Float64}(1.0,1.0,1.0,1.0)     RGBA{Float64}(0.0373377,0.0373377,0.0373377,1.0)\n",
       " RGBA{Float64}(1.0,1.0,1.0,1.0)     RGBA{Float64}(0.0373702,0.0373702,0.0373702,1.0)\n",
       " RGBA{Float64}(1.0,1.0,1.0,1.0)     RGBA{Float64}(0.0374027,0.0374027,0.0374027,1.0)\n",
       " RGBA{Float64}(1.0,1.0,1.0,1.0)     RGBA{Float64}(0.0374354,0.0374354,0.0374354,1.0)\n",
       " RGBA{Float64}(1.0,1.0,1.0,1.0)  …  RGBA{Float64}(0.037468,0.037468,0.037468,1.0)\n",
       " RGBA{Float64}(1.0,1.0,1.0,1.0)     RGBA{Float64}(0.0375008,0.0375008,0.0375008,1.0)\n",
       " RGBA{Float64}(1.0,1.0,1.0,1.0)     RGBA{Float64}(0.0375335,0.0375335,0.0375335,1.0)\n",
       " RGBA{Float64}(1.0,1.0,1.0,1.0)     RGBA{Float64}(0.0375662,0.0375662,0.0375662,1.0)\n",
       " RGBA{Float64}(1.0,1.0,1.0,1.0)     RGBA{Float64}(0.0375991,0.0375991,0.0375991,1.0)"
      ]
     },
     "execution_count": 55,
     "metadata": {},
     "output_type": "execute_result"
    }
   ],
   "source": [
    "ids = [1]\n",
    "gt_poses = [pose]\n",
    "depth_image = GL.gl_render(renderer, ids, gt_poses, IDENTITY_POSE)\n",
    "GL.view_depth_image(clamp.(depth_image, 0.0, 200.0))"
   ]
  },
  {
   "cell_type": "code",
   "execution_count": null,
   "id": "ce9af337-b29e-4a01-b3b5-ccd9f7391916",
   "metadata": {},
   "outputs": [],
   "source": []
  },
  {
   "cell_type": "code",
   "execution_count": null,
   "id": "a1e48db6-df9a-4b2b-8ec7-63787cf2a3d2",
   "metadata": {},
   "outputs": [],
   "source": []
  },
  {
   "cell_type": "code",
   "execution_count": null,
   "id": "b1f43f04-1400-47cd-9705-8d99688f944a",
   "metadata": {},
   "outputs": [],
   "source": []
  },
  {
   "cell_type": "code",
   "execution_count": null,
   "id": "a140797b-cf4d-437f-9ef1-70d96b3cbf97",
   "metadata": {},
   "outputs": [],
   "source": []
  }
 ],
 "metadata": {
  "kernelspec": {
   "display_name": "Julia 1.6.5",
   "language": "julia",
   "name": "julia-1.6"
  },
  "language_info": {
   "file_extension": ".jl",
   "mimetype": "application/julia",
   "name": "julia",
   "version": "1.6.5"
  }
 },
 "nbformat": 4,
 "nbformat_minor": 5
}
