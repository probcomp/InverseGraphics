{
 "cells": [
  {
   "cell_type": "code",
   "execution_count": 1,
   "id": "41096b2a-c55b-47b8-b934-20df1d69384b",
   "metadata": {},
   "outputs": [],
   "source": [
    "using Revise\n",
    "# import Pkg; Pkg.status()"
   ]
  },
  {
   "cell_type": "code",
   "execution_count": 2,
   "id": "517db6a4-28f2-436d-a3e4-e39d09fd01f0",
   "metadata": {},
   "outputs": [
    {
     "data": {
      "text/plain": [
       "PyObject <module 'numpy' from '/usr/local/lib/python3.8/dist-packages/numpy/__init__.py'>"
      ]
     },
     "execution_count": 2,
     "metadata": {},
     "output_type": "execute_result"
    }
   ],
   "source": [
    "import PyCall\n",
    "\n",
    "import OccGrid as O\n",
    "import PointCloud as PC\n",
    "\n",
    "# If undefined: (@v1.6) pkg> dev PointCloud\n",
    "import PointCloud: CameraIntrinsics\n",
    "\n",
    "import Control: BeliefState, execute_command!\n",
    "import PoseComposition: Pose, IDENTITY_POSE, IDENTITY_ORN\n",
    "import Rotations\n",
    "using StaticArrays\n",
    "\n",
    "global MCS = PyCall.pyimport(\"machine_common_sense\")\n",
    "global np = PyCall.pyimport(\"numpy\")"
   ]
  },
  {
   "cell_type": "code",
   "execution_count": 3,
   "id": "ead65403-0b0b-430a-b855-4dc71a89cba9",
   "metadata": {},
   "outputs": [
    {
     "name": "stdout",
     "output_type": "stream",
     "text": [
      "Found path: /root/.mcs/0.5.2/MCS-AI2-THOR-Unity-App-v0.5.2.x86_64\n"
     ]
    },
    {
     "data": {
      "text/plain": [
       "Dict{Any, Any} with 8 entries:\n",
       "  \"performerStart\"  => Dict{Any, Any}(\"rotation\"=>Dict{Any, Any}(\"x\"=>0, \"y\"=>0…\n",
       "  \"name\"            => \"soccer_ball_retrieval_example\"\n",
       "  \"floorMaterial\"   => \"AI2-THOR/Materials/Fabrics/CarpetWhite 3\"\n",
       "  \"ceilingMaterial\" => \"AI2-THOR/Materials/Walls/Drywall\"\n",
       "  \"objects\"         => Dict{Any, Any}[Dict(\"salientMaterials\"=>[\"fabric\"], \"mat…\n",
       "  \"wallMaterial\"    => \"AI2-THOR/Materials/Walls/DrywallBeige\"\n",
       "  \"goal\"            => Dict{Any, Any}(\"metadata\"=>Dict{Any, Any}(\"target\"=>Dict…\n",
       "  \"version\"         => 2"
      ]
     },
     "execution_count": 3,
     "metadata": {},
     "output_type": "execute_result"
    }
   ],
   "source": [
    "cora_path = get(ENV, \"CORA_PATH\", \"/cora\")\n",
    "cora_agent_path = joinpath(cora_path, \"cora-agent\")\n",
    "scene_path = joinpath(cora_agent_path, \"test/data/eval5/ball_behind_sofa.json\")\n",
    "config_path = joinpath(cora_agent_path, \"test/data/config_level2.ini\")\n",
    "\n",
    "if \"MCS_CONFIG_FILE_PATH\" ∈ keys(ENV)\n",
    "    println(\"\\nWARNING: MCS_CONFIG_FILE_PATH is set and might interfere with your defined information level.\")\n",
    "end\n",
    "\n",
    "if isfile(config_path)\n",
    "    controller = MCS.create_controller(config_file_or_dict=config_path)\n",
    "else\n",
    "    println(\"Error: Config file path \\\"$(config_path)\\\" does not exist.\")\n",
    "end\n",
    "\n",
    "if isfile(scene_path)\n",
    "    scene_config = MCS.load_scene_json_file(scene_path);\n",
    "else\n",
    "    println(\"Error: Scene path \\\"$(scene_path)\\\" does not exist.\")\n",
    "end\n",
    "\n",
    "# Agent starts in (3, 3) without rotation\n",
    "# scene_config[\"performerStart\"][\"position\"] = Dict{Any, Any}(\"x\"=>0, \"z\"=>0) would be in sofa"
   ]
  },
  {
   "cell_type": "code",
   "execution_count": 4,
   "id": "7f53554a-e418-4e28-b13d-c522c88e7055",
   "metadata": {},
   "outputs": [
    {
     "data": {
      "text/plain": [
       "PyObject <machine_common_sense.step_metadata.StepMetadata object at 0x7fa74c2b5580>"
      ]
     },
     "execution_count": 4,
     "metadata": {},
     "output_type": "execute_result"
    }
   ],
   "source": [
    "step_metadata = controller.start_scene(scene_config)"
   ]
  },
  {
   "cell_type": "code",
   "execution_count": 5,
   "id": "f210bdf9-dcf7-4496-a4a4-17875ac087bc",
   "metadata": {},
   "outputs": [
    {
     "data": {
      "text/plain": [
       "Geometry.CameraIntrinsics\n",
       "  width: Int64 600\n",
       "  height: Int64 400\n",
       "  fx: Float64 514.2991467983065\n",
       "  fy: Float64 514.2991467983065\n",
       "  cx: Float64 300.0\n",
       "  cy: Float64 200.0\n",
       "  near: Float64 9.999999747378752e-5\n",
       "  far: Float64 9999.0\n"
      ]
     },
     "execution_count": 5,
     "metadata": {},
     "output_type": "execute_result"
    }
   ],
   "source": [
    "intrinsics = CameraIntrinsics(step_metadata)"
   ]
  },
  {
   "cell_type": "code",
   "execution_count": 6,
   "id": "67f4bb5a-1883-4206-9f6a-db3cb329459e",
   "metadata": {},
   "outputs": [],
   "source": [
    "belief_state = BeliefState(\n",
    "    intrinsics=intrinsics,\n",
    "    step_metadata_history=[step_metadata],\n",
    "    action_history=[],\n",
    "    pose_history=[IDENTITY_POSE],\n",
    "    information_level=\"level2\",\n",
    "    time_to_live=0\n",
    ");\n",
    "\n",
    "# obs = [step_metadata] ∪ [execute_command!(controller, belief_state, \"RotateRight\") for _  in 1:35];\n",
    "for _  in 1:35\n",
    "    execute_command!(controller, belief_state, \"RotateRight\")\n",
    "end"
   ]
  },
  {
   "cell_type": "code",
   "execution_count": 7,
   "id": "98a64033-3172-41d1-b2ca-073a80663b14",
   "metadata": {},
   "outputs": [],
   "source": [
    "# PC.realign_world!(belief_state)"
   ]
  },
  {
   "cell_type": "code",
   "execution_count": 8,
   "id": "5711e0b1-dae9-4ab9-be33-e31b31094bac",
   "metadata": {},
   "outputs": [
    {
     "data": {
      "text/plain": [
       "OccGrid.OccupancyGrid(OccGrid.OccupancyGridConfig([0.1, 0.1, 0.1], 1), Dict{SVector{3, Int64}, Int64}(), Dict{SVector{3, Int64}, Int64}(), [0, 0, 0], [0, 0, 0], [0, 0, 0])"
      ]
     },
     "execution_count": 8,
     "metadata": {},
     "output_type": "execute_result"
    }
   ],
   "source": [
    "occupancy_grid_config = O.OccupancyGridConfig(SVector{3, Float64}([0.1, 0.1, 0.1]))\n",
    "occupancy_grid = O.OccupancyGrid(occupancy_grid_config)"
   ]
  },
  {
   "cell_type": "code",
   "execution_count": 9,
   "id": "6a4b5c21-0ee3-4691-a6d3-89edb01e2160",
   "metadata": {},
   "outputs": [],
   "source": [
    "objects_only_cloud, world_bbox, perception_updated_until = PC.perception_initializiation(belief_state, occupancy_grid, 1, length(belief_state.pose_history));"
   ]
  },
  {
   "cell_type": "markdown",
   "id": "26f5e1d5-fb62-4fb8-9337-da261dab4cc3",
   "metadata": {
    "tags": []
   },
   "source": [
    "## Render Naively\n",
    "The following will render the `objects_only_cloud` just extracted."
   ]
  },
  {
   "cell_type": "code",
   "execution_count": 10,
   "id": "0aadc0e2-ff2f-44c7-a3c5-1d218eaf2b85",
   "metadata": {},
   "outputs": [
    {
     "name": "stderr",
     "output_type": "stream",
     "text": [
      "┌ Info: MeshCat server started. You can open the visualizer by visiting the following URL in your browser:\n",
      "│ http://127.0.0.1:8702\n",
      "└ @ MeshCat /root/.julia/packages/MeshCat/Ax8pH/src/visualizer.jl:73\n"
     ]
    },
    {
     "name": "stdout",
     "output_type": "stream",
     "text": [
      "Could not open browser automatically: Base.IOError(\"could not spawn `xdg-open http://127.0.0.1:8702`: no such file or directory (ENOENT)\", -2)\n",
      "Please open the following URL in your browser:\n",
      "http://127.0.0.1:8702\n"
     ]
    }
   ],
   "source": [
    "import Images as I\n",
    "try\n",
    "    import MeshCatViz as V\n",
    "catch\n",
    "    import MeshCatViz as V    \n",
    "end\n",
    "\n",
    "V.setup_visualizer()"
   ]
  },
  {
   "cell_type": "code",
   "execution_count": 11,
   "id": "8f76acbb-9388-46ca-a99f-e382e18bb0c5",
   "metadata": {},
   "outputs": [
    {
     "data": {
      "text/plain": [
       "MeshCat Visualizer with path /meshcat/gen_cloud at http://127.0.0.1:8702"
      ]
     },
     "execution_count": 11,
     "metadata": {},
     "output_type": "execute_result"
    }
   ],
   "source": [
    "V.viz(objects_only_cloud[1:3, :] ./ 5.0; color=I.colorant\"black\", channel_name=:gen_cloud)"
   ]
  },
  {
   "cell_type": "markdown",
   "id": "657607c1-d4d7-4b1b-89c4-2537a8dc4b14",
   "metadata": {},
   "source": [
    "## Compute Mesh\n",
    "The following will turn the object point cloud into a mesh and render out a depth map based on it."
   ]
  },
  {
   "cell_type": "code",
   "execution_count": 12,
   "id": "41f2df2d-bdf0-4dd8-837e-74eeba121e50",
   "metadata": {},
   "outputs": [
    {
     "data": {
      "text/plain": [
       "get_cloud (generic function with 1 method)"
      ]
     },
     "execution_count": 12,
     "metadata": {},
     "output_type": "execute_result"
    }
   ],
   "source": [
    "import GLRenderer as GL\n",
    "import InverseGraphics as T\n",
    "import PoseComposition  # Temp?\n",
    "import PoseComposition: Pose, IDENTITY_POSE, IDENTITY_ORN, QuatRotation, RotZYX\n",
    "\n",
    "function get_cloud(poses, ids, camera_pose)\n",
    "    depth_image = GL.gl_render(renderer, ids, poses, camera_pose)\n",
    "    cloud = GL.depth_image_to_point_cloud(depth_image, camera)\n",
    "    if isnothing(cloud)\n",
    "        cloud = zeros(3,1)\n",
    "    end\n",
    "    cloud\n",
    "end"
   ]
  },
  {
   "cell_type": "code",
   "execution_count": 13,
   "id": "92eeae98-d0a0-45ce-977d-fdad42be43b4",
   "metadata": {},
   "outputs": [
    {
     "name": "stdout",
     "output_type": "stream",
     "text": [
      "gl_version_for_shaders = \"410\"\n",
      "true\n"
     ]
    },
    {
     "data": {
      "text/plain": [
       "GLRenderer.Renderer{GLRenderer.DepthMode}(GLFW.Window(Ptr{Nothing} @0x00000000100b3340), GLRenderer.CameraIntrinsics\n",
       "  width: Int64 600\n",
       "  height: Int64 400\n",
       "  fx: Float64 514.2991467983065\n",
       "  fy: Float64 514.2991467983065\n",
       "  cx: Float64 300.0\n",
       "  cy: Float64 200.0\n",
       "  near: Float64 0.1\n",
       "  far: Float64 25.0\n",
       ", 0x00000003, Any[], Any[], Any[], Float32[1.7143304 0.0 0.0 0.0; 0.0 2.5714955 0.0 0.0; 0.0 0.0 -1.0080321 -0.2008032; 0.0 0.0 -1.0 0.0])"
      ]
     },
     "execution_count": 13,
     "metadata": {},
     "output_type": "execute_result"
    }
   ],
   "source": [
    "function GlCameraIntrinsics(step_metadata::PyCall.PyObject)::GL.CameraIntrinsics\n",
    "    width, height = step_metadata.camera_aspect_ratio\n",
    "    aspect_ratio = width / height\n",
    "\n",
    "    # Camera principal point is the center of the image.\n",
    "    cx, cy = width / 2.0, height / 2.0\n",
    "\n",
    "    # Vertical field of view is given.\n",
    "    fov_y = deg2rad(step_metadata.camera_field_of_view)\n",
    "    # Convert field of view to distance to scale by aspect ratio and\n",
    "    # convert back to radians to recover the horizontal field of view.\n",
    "    fov_x = 2 * atan(aspect_ratio * tan(fov_y / 2.0))\n",
    "\n",
    "    # Use the following relation to recover the focal length:\n",
    "    #   FOV = 2 * atan( (0.5 * IMAGE_PLANE_SIZE) / FOCAL_LENGTH )\n",
    "    fx = cx / tan(fov_x / 2.0)\n",
    "    fy = cy / tan(fov_y / 2.0)\n",
    "\n",
    "    # clipping_near, clipping_far = step_metadata.camera_clipping_planes\n",
    "    clipping_near, clipping_far = 0.1, 25\n",
    "\n",
    "    GL.CameraIntrinsics(width, height,\n",
    "        fx, fy, cx, cy,\n",
    "        clipping_near, clipping_far)\n",
    "end\n",
    "\n",
    "# Instead of YCB camera scaled down by factor 4, use MCS camera without scaling\n",
    "# camera = T.scale_down_camera(original_camera, 4)\n",
    "camera = GlCameraIntrinsics(step_metadata)\n",
    "renderer = GL.setup_renderer(camera, GL.DepthMode())"
   ]
  },
  {
   "cell_type": "code",
   "execution_count": 14,
   "id": "ae9e7333-f113-46fa-90eb-d7936dc13e34",
   "metadata": {},
   "outputs": [],
   "source": [
    "# camera.near = intrinsics.near\n",
    "# step_metadata.camera_clipping_planes"
   ]
  },
  {
   "cell_type": "code",
   "execution_count": 15,
   "id": "4c14a833-d16c-46f5-ad61-4d7c358b9395",
   "metadata": {},
   "outputs": [
    {
     "data": {
      "text/plain": [
       "MeshCat Visualizer with path /meshcat at http://127.0.0.1:8702"
      ]
     },
     "execution_count": 15,
     "metadata": {},
     "output_type": "execute_result"
    }
   ],
   "source": [
    "V.reset_visualizer()"
   ]
  },
  {
   "cell_type": "code",
   "execution_count": 21,
   "id": "fd61d26c-ece4-431f-9b53-efc61171f401",
   "metadata": {},
   "outputs": [
    {
     "data": {
      "text/plain": [
       "true"
      ]
     },
     "execution_count": 21,
     "metadata": {},
     "output_type": "execute_result"
    }
   ],
   "source": [
    "resolution = 0.1\n",
    "\n",
    "voxel_grid = GL.voxelize(objects_only_cloud[1:3, :], resolution)\n",
    "\n",
    "l = [keys(occupancy_grid.occupied_cell_map)...]\n",
    "voxel_grid2 = transpose(np.stack(l)) .* 0.1\n",
    "\n",
    "\n",
    "mesh = GL.mesh_from_voxelized_cloud(voxel_grid2, resolution)\n",
    "GL.load_object!(renderer, mesh)"
   ]
  },
  {
   "cell_type": "code",
   "execution_count": 22,
   "id": "8b610a12-7548-4dd1-8f42-228a748c599f",
   "metadata": {},
   "outputs": [
    {
     "data": {
      "text/plain": [
       "(-8.0, 2.0)"
      ]
     },
     "execution_count": 22,
     "metadata": {},
     "output_type": "execute_result"
    }
   ],
   "source": [
    "minimum(voxel_grid[3,:]), maximum(voxel_grid[3,:])  # -8 to 2, -2.2 to 0.7, -8 to 2"
   ]
  },
  {
   "cell_type": "code",
   "execution_count": 52,
   "id": "40fcdc7d-4bac-465d-840a-abd81cf0633e",
   "metadata": {},
   "outputs": [
    {
     "data": {
      "image/png": "[encoded data removed]",
      "text/plain": [
       "400×600 Array{RGBA{Float64},2} with eltype ColorTypes.RGBA{Float64}:\n",
       " RGBA{Float64}(0.222244,0.222244,0.222244,1.0)  …  RGBA{Float64}(0.221703,0.221703,0.221703,1.0)\n",
       " RGBA{Float64}(0.222819,0.222819,0.222819,1.0)     RGBA{Float64}(0.226242,0.226242,0.226242,1.0)\n",
       " RGBA{Float64}(0.223947,0.223947,0.223947,1.0)     RGBA{Float64}(0.226242,0.226242,0.226242,1.0)\n",
       " RGBA{Float64}(0.225087,0.225087,0.225087,1.0)     RGBA{Float64}(0.226242,0.226242,0.226242,1.0)\n",
       " RGBA{Float64}(0.226239,0.226239,0.226239,1.0)     RGBA{Float64}(0.226242,0.226242,0.226242,1.0)\n",
       " RGBA{Float64}(0.227403,0.227403,0.227403,1.0)  …  RGBA{Float64}(0.227401,0.227401,0.227401,1.0)\n",
       " RGBA{Float64}(0.228578,0.228578,0.228578,1.0)     RGBA{Float64}(0.228575,0.228575,0.228575,1.0)\n",
       " RGBA{Float64}(0.229766,0.229766,0.229766,1.0)     RGBA{Float64}(0.229762,0.229762,0.229762,1.0)\n",
       " RGBA{Float64}(0.230965,0.230965,0.230965,1.0)     RGBA{Float64}(0.230964,0.230964,0.230964,1.0)\n",
       " RGBA{Float64}(0.232177,0.232177,0.232177,1.0)     RGBA{Float64}(0.232176,0.232176,0.232176,1.0)\n",
       " RGBA{Float64}(0.233402,0.233402,0.233402,1.0)  …  RGBA{Float64}(0.233403,0.233403,0.233403,1.0)\n",
       " RGBA{Float64}(0.23464,0.23464,0.23464,1.0)        RGBA{Float64}(0.234641,0.234641,0.234641,1.0)\n",
       " RGBA{Float64}(0.23589,0.23589,0.23589,1.0)        RGBA{Float64}(0.235892,0.235892,0.235892,1.0)\n",
       " ⋮                                              ⋱  \n",
       " RGBA{Float64}(1.0,1.0,1.0,1.0)                    RGBA{Float64}(1.0,1.0,1.0,1.0)\n",
       " RGBA{Float64}(1.0,1.0,1.0,1.0)                    RGBA{Float64}(1.0,1.0,1.0,1.0)\n",
       " RGBA{Float64}(1.0,1.0,1.0,1.0)                 …  RGBA{Float64}(1.0,1.0,1.0,1.0)\n",
       " RGBA{Float64}(1.0,1.0,1.0,1.0)                    RGBA{Float64}(1.0,1.0,1.0,1.0)\n",
       " RGBA{Float64}(1.0,1.0,1.0,1.0)                    RGBA{Float64}(1.0,1.0,1.0,1.0)\n",
       " RGBA{Float64}(1.0,1.0,1.0,1.0)                    RGBA{Float64}(1.0,1.0,1.0,1.0)\n",
       " RGBA{Float64}(1.0,1.0,1.0,1.0)                    RGBA{Float64}(1.0,1.0,1.0,1.0)\n",
       " RGBA{Float64}(1.0,1.0,1.0,1.0)                 …  RGBA{Float64}(1.0,1.0,1.0,1.0)\n",
       " RGBA{Float64}(1.0,1.0,1.0,1.0)                    RGBA{Float64}(1.0,1.0,1.0,1.0)\n",
       " RGBA{Float64}(1.0,1.0,1.0,1.0)                    RGBA{Float64}(1.0,1.0,1.0,1.0)\n",
       " RGBA{Float64}(1.0,1.0,1.0,1.0)                    RGBA{Float64}(1.0,1.0,1.0,1.0)\n",
       " RGBA{Float64}(1.0,1.0,1.0,1.0)                    RGBA{Float64}(1.0,1.0,1.0,1.0)"
      ]
     },
     "execution_count": 52,
     "metadata": {},
     "output_type": "execute_result"
    }
   ],
   "source": [
    "ids = [1]\n",
    "time_step = 24\n",
    "pose_mcs = belief_state.pose_history[time_step]\n",
    "\n",
    "# Cora uses Euler angle order YPR (zxy) in radians, left-handed -> right-handed => invert sign\n",
    "pose = Pose(pose_mcs.pos, Rotations.RotZXY(0, 0, -Rotations.RotZXY(pose_mcs.orientation).theta3))  # 130.0\n",
    "\n",
    "depth_image = GL.gl_render(renderer, ids, [pose], IDENTITY_POSE)\n",
    "GL.view_depth_image(clamp.(depth_image, 0.0, 200.0))"
   ]
  },
  {
   "cell_type": "code",
   "execution_count": 75,
   "id": "a1e48db6-df9a-4b2b-8ec7-63787cf2a3d2",
   "metadata": {},
   "outputs": [
    {
     "data": {
      "image/png": "[encoded data removed]",
      "text/plain": [
       "PyPlot.Figure(PyObject <Figure size 720x480 with 2 Axes>)"
      ]
     },
     "metadata": {},
     "output_type": "display_data"
    }
   ],
   "source": [
    "PyCall.py\"\"\"\n",
    "import matplotlib.pyplot as plt\n",
    "\n",
    "def matshow(mat):\n",
    "    plt.matshow(mat)\n",
    "    plt.colorbar()\n",
    "\"\"\"\n",
    "\n",
    "depth_map_gt = last(belief_state.step_metadata_history[time_step].depth_map_list)\n",
    "PyCall.py\"matshow\"(depth_map_gt)\n",
    "# RGB: last(belief_state.step_metadata_history[24].image_list)"
   ]
  },
  {
   "cell_type": "code",
   "execution_count": 76,
   "id": "b1f43f04-1400-47cd-9705-8d99688f944a",
   "metadata": {},
   "outputs": [
    {
     "data": {
      "image/png": "[encoded data removed]",
      "text/plain": [
       "PyPlot.Figure(PyObject <Figure size 720x480 with 2 Axes>)"
      ]
     },
     "metadata": {},
     "output_type": "display_data"
    }
   ],
   "source": [
    "diff = depth_image - depth_map_gt\n",
    "PyCall.py\"matshow\"(diff)"
   ]
  },
  {
   "cell_type": "code",
   "execution_count": 77,
   "id": "a140797b-cf4d-437f-9ef1-70d96b3cbf97",
   "metadata": {},
   "outputs": [
    {
     "name": "stdout",
     "output_type": "stream",
     "text": [
      "2.1753250690179966 to 24.999999999999645 versus 1.9668484 to 11.259877\n"
     ]
    }
   ],
   "source": [
    "min_rendered, max_rendered = minimum(depth_image), maximum(depth_image)\n",
    "min_gt, max_gt = minimum(depth_map_gt), maximum(depth_map_gt)\n",
    "println(\"$(min_rendered) to $(max_rendered) versus $(min_gt) to $(max_gt)\")\n",
    "# max_a / max_b"
   ]
  },
  {
   "cell_type": "code",
   "execution_count": 78,
   "id": "b2685a8a-fc5a-4b2c-9b31-04bb41147ae6",
   "metadata": {},
   "outputs": [
    {
     "data": {
      "image/png": "[encoded data removed]",
      "text/plain": [
       "PyPlot.Figure(PyObject <Figure size 720x480 with 2 Axes>)"
      ]
     },
     "metadata": {},
     "output_type": "display_data"
    },
    {
     "name": "stdout",
     "output_type": "stream",
     "text": [
      "0.0 to 1.0 versus 0.0 to 1.0\n"
     ]
    }
   ],
   "source": [
    "# Naive metric: Scale both to [0,1] and compare\n",
    "depth_image_normalized = (depth_image .- min_rendered) / (max_rendered - min_rendered)\n",
    "depth_map_gt_normalized = (depth_map_gt .- min_gt) / (max_gt - min_gt)\n",
    "diff2 = depth_image_normalized .- depth_map_gt_normalized\n",
    "\n",
    "min_rendered_normalized, max_rendered_normalized = minimum(depth_image_normalized), maximum(depth_image_normalized)\n",
    "min_gt_normalized, max_gt_normalized = minimum(depth_map_gt_normalized), maximum(depth_map_gt_normalized)\n",
    "println(\"$(min_rendered_normalized) to $(max_rendered_normalized) versus $(min_gt_normalized) to $(max_gt_normalized)\")\n",
    "\n",
    "PyCall.py\"matshow\"(diff2)"
   ]
  },
  {
   "cell_type": "code",
   "execution_count": 71,
   "id": "0f98e37d-6cbd-4ef0-977f-9b5e35b2b1cd",
   "metadata": {},
   "outputs": [
    {
     "data": {
      "text/plain": [
       "0.10383452966446727"
      ]
     },
     "execution_count": 71,
     "metadata": {},
     "output_type": "execute_result"
    }
   ],
   "source": [
    "# TODO This metric is not too expressive\n",
    "sum(diff2) / prod(size(diff2))"
   ]
  },
  {
   "cell_type": "code",
   "execution_count": 32,
   "id": "6f9a2314-7c96-45bf-ba08-451463de30ab",
   "metadata": {},
   "outputs": [
    {
     "data": {
      "text/plain": [
       "240000"
      ]
     },
     "execution_count": 32,
     "metadata": {},
     "output_type": "execute_result"
    }
   ],
   "source": []
  }
 ],
 "metadata": {
  "kernelspec": {
   "display_name": "Julia 1.6.5",
   "language": "julia",
   "name": "julia-1.6"
  },
  "language_info": {
   "file_extension": ".jl",
   "mimetype": "application/julia",
   "name": "julia",
   "version": "1.6.5"
  }
 },
 "nbformat": 4,
 "nbformat_minor": 5
}
