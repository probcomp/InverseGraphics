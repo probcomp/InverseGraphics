{
 "cells": [
  {
   "cell_type": "code",
   "execution_count": 1,
   "id": "814d6892",
   "metadata": {},
   "outputs": [],
   "source": [
    "import torch\n",
    "from torch import nn\n",
    "import pickle as pkl\n",
    "import numpy as np\n",
    "import MinkowskiEngine as ME"
   ]
  },
  {
   "cell_type": "code",
   "execution_count": 2,
   "id": "052bbc1c",
   "metadata": {},
   "outputs": [],
   "source": [
    "filehandler = open(\"data.pkl\",\"rb\")\n",
    "dataset = pkl.load(filehandler)\n",
    "filehandler.close()"
   ]
  },
  {
   "cell_type": "code",
   "execution_count": 3,
   "id": "8df50f8e",
   "metadata": {},
   "outputs": [
    {
     "data": {
      "text/plain": [
       "True"
      ]
     },
     "execution_count": 3,
     "metadata": {},
     "output_type": "execute_result"
    }
   ],
   "source": [
    "torch.cuda.is_available()"
   ]
  },
  {
   "cell_type": "code",
   "execution_count": 4,
   "id": "fa921bf7",
   "metadata": {},
   "outputs": [
    {
     "data": {
      "text/plain": [
       "device(type='cuda')"
      ]
     },
     "execution_count": 4,
     "metadata": {},
     "output_type": "execute_result"
    }
   ],
   "source": [
    "dev = torch.device(\"cuda\")\n",
    "dev"
   ]
  },
  {
   "cell_type": "code",
   "execution_count": 5,
   "id": "1800f12c",
   "metadata": {},
   "outputs": [],
   "source": [
    "class Conv3DFeatureDetector(nn.Module):\n",
    "    def __init__(self, kernel_size):\n",
    "        super().__init__()\n",
    "        size_1 = 100\n",
    "        size_2 = 200\n",
    "        self.conv1 = nn.Sequential(\n",
    "            ME.MinkowskiConvolution(1, 20, \n",
    "                      kernel_size=(kernel_size),\n",
    "                      dimension=3,\n",
    "                                   ),\n",
    "            ME.MinkowskiConvolution(20, size_1, \n",
    "                      kernel_size=(kernel_size),\n",
    "                      dimension=3,\n",
    "                                   ),\n",
    "            ME.MinkowskiTanh(),\n",
    "#             nn.MaxPool3d((2, 2, 2)),\n",
    "        )\n",
    "        self.fc1 = ME.MinkowskiLinear(size_1, size_2)\n",
    "        self.relu = ME.MinkowskiTanh()\n",
    "        self.fc2 = ME.MinkowskiLinear(size_2, 1)\n",
    "        \n",
    "    def forward(self, x):\n",
    "        out = self.conv1(x)\n",
    "        out = self.fc1(out)\n",
    "        out = self.relu(out)\n",
    "        out = self.fc2(out)\n",
    "        out = ME.MinkowskiFunctional.sigmoid(out)\n",
    "        return out\n",
    "    \n",
    "# class Conv3DFeatureDetector(nn.Module):\n",
    "#     def __init__(self, kernel_size):\n",
    "#         super().__init__()\n",
    "        \n",
    "#         size_1 = 100\n",
    "#         size_2 = 200\n",
    "#         self.conv1 = nn.Sequential(\n",
    "#             nn.Conv3d(1, size_1, kernel_size=(kernel_size, kernel_size, kernel_size), padding= (kernel_size - 1)//2),\n",
    "#             nn.Tanh(),\n",
    "# #             nn.MaxPool3d((2, 2, 2)),\n",
    "#         )\n",
    "#         self.fc1 = nn.Linear(size_1, size_2)\n",
    "#         self.relu = nn.Tanh()\n",
    "#         self.fc2 = nn.Linear(size_2, 1)\n",
    "        \n",
    "#     def forward(self, x):\n",
    "#         out = self.conv1(x)\n",
    "#         out = out.permute(0,2,3,4,1)\n",
    "#         out = self.fc1(out)\n",
    "#         out = self.relu(out)\n",
    "#         out = self.fc2(out)\n",
    "#         out = torch.sigmoid(out)\n",
    "#         return out"
   ]
  },
  {
   "cell_type": "code",
   "execution_count": 6,
   "id": "d8417998",
   "metadata": {
    "scrolled": false
   },
   "outputs": [
    {
     "name": "stdout",
     "output_type": "stream",
     "text": [
      "torch.Size([1000, 1, 45, 45, 42])\n",
      "torch.Size([1000, 45, 45, 42, 1])\n"
     ]
    }
   ],
   "source": [
    "X = np.vstack([x[None,None,:,:,:] for (x,y) in dataset])\n",
    "X = X.astype(np.float32)\n",
    "X = torch.from_numpy(X)\n",
    "\n",
    "Y = np.vstack([y[None,:,:,:,None] for (x,y) in dataset])\n",
    "Y = Y.astype(np.float32)\n",
    "Y = torch.from_numpy(Y)\n",
    "print(X.shape)\n",
    "print(Y.shape)\n",
    "\n",
    "X_train = X[:500]\n",
    "Y_train = Y[:500]\n",
    "\n",
    "def get_sparse_tensor_from_numpy(X, d=None):\n",
    "    idxs = torch.where(X)\n",
    "    num_nonzero_elements = idxs[0].shape[0]\n",
    "    num_dimensions = len(idxs)\n",
    "    coords = torch.vstack(idxs)\n",
    "    coords = coords.type(torch.int32)\n",
    "    coords = torch.transpose(coords, 0,1).contiguous()\n",
    "    feat = torch.ones(coords.shape[0],1)\n",
    "    if d is None:\n",
    "        X = ME.SparseTensor(feat, coordinates=coords)\n",
    "    else:\n",
    "        X = ME.SparseTensor(feat, coordinates=coords, device=d)\n",
    "    \n",
    "    return X\n"
   ]
  },
  {
   "cell_type": "code",
   "execution_count": 7,
   "id": "52cdca77",
   "metadata": {},
   "outputs": [
    {
     "data": {
      "text/plain": [
       "tensor(0.0265)"
      ]
     },
     "execution_count": 7,
     "metadata": {},
     "output_type": "execute_result"
    }
   ],
   "source": [
    "X_train.mean()"
   ]
  },
  {
   "cell_type": "code",
   "execution_count": 8,
   "id": "d29049e6",
   "metadata": {},
   "outputs": [
    {
     "data": {
      "text/plain": [
       "Conv3DFeatureDetector(\n",
       "  (conv1): Sequential(\n",
       "    (0): MinkowskiConvolution(in=1, out=20, kernel_size=[9, 9, 9], stride=[1, 1, 1], dilation=[1, 1, 1])\n",
       "    (1): MinkowskiConvolution(in=20, out=100, kernel_size=[9, 9, 9], stride=[1, 1, 1], dilation=[1, 1, 1])\n",
       "    (2): MinkowskiTanh()\n",
       "  )\n",
       "  (fc1): MinkowskiLinear(in_features=100, out_features=200, bias=True)\n",
       "  (relu): MinkowskiTanh()\n",
       "  (fc2): MinkowskiLinear(in_features=200, out_features=1, bias=True)\n",
       ")"
      ]
     },
     "execution_count": 8,
     "metadata": {},
     "output_type": "execute_result"
    }
   ],
   "source": [
    "# X.cuda()\n",
    "model = Conv3DFeatureDetector(9)\n",
    "model.to(dev)\n",
    "\n"
   ]
  },
  {
   "cell_type": "code",
   "execution_count": 9,
   "id": "6ce2ae47",
   "metadata": {},
   "outputs": [],
   "source": [
    "learning_rate = 1.0\n",
    "optimizer = torch.optim.SGD(model.parameters(), lr=learning_rate)"
   ]
  },
  {
   "cell_type": "code",
   "execution_count": 10,
   "id": "0822c7da",
   "metadata": {},
   "outputs": [
    {
     "data": {
      "text/plain": [
       "torch.Size([10, 45, 45, 42])"
      ]
     },
     "execution_count": 10,
     "metadata": {},
     "output_type": "execute_result"
    }
   ],
   "source": [
    "X_train[:10,0,:,:,:].shape"
   ]
  },
  {
   "cell_type": "code",
   "execution_count": 11,
   "id": "324e72fb",
   "metadata": {
    "scrolled": true
   },
   "outputs": [
    {
     "name": "stderr",
     "output_type": "stream",
     "text": [
      "/home/nishadg/mcs/InverseGraphics/venv/lib/python3.8/site-packages/torch/nn/functional.py:1806: UserWarning: nn.functional.sigmoid is deprecated. Use torch.sigmoid instead.\n",
      "  warnings.warn(\"nn.functional.sigmoid is deprecated. Use torch.sigmoid instead.\")\n",
      "/home/nishadg/mcs/InverseGraphics/venv/lib/python3.8/site-packages/MinkowskiEngine/MinkowskiSparseTensor.py:525: UserWarning: __floordiv__ is deprecated, and its behavior will change in a future version of pytorch. It currently rounds toward 0 (like the 'trunc' function NOT 'floor'). This results in incorrect rounding for negative values. To keep the current behavior, use torch.div(a, b, rounding_mode='trunc'), or for actual floor division, use torch.div(a, b, rounding_mode='floor').\n",
      "  coords = coords // tensor_stride\n"
     ]
    },
    {
     "name": "stdout",
     "output_type": "stream",
     "text": [
      "total loss:  1.2712226584553719\n",
      "total loss:  1.190705068409443\n",
      "total loss:  1.1751085286960006\n",
      "total loss:  1.1595068145543337\n",
      "total loss:  1.1388595951721072\n",
      "total loss:  1.108972323127091\n",
      "total loss:  1.0727880513295531\n",
      "total loss:  1.0446845619007945\n",
      "total loss:  1.0278302757069468\n",
      "total loss:  1.0170968677848577\n",
      "total loss:  1.0093665169551969\n",
      "total loss:  1.003336863592267\n",
      "total loss:  0.9984182761982083\n",
      "total loss:  0.9942986089736223\n",
      "total loss:  0.9907877948135138\n",
      "total loss:  0.9877576166763902\n",
      "total loss:  0.9851150820031762\n",
      "total loss:  0.982789684087038\n",
      "total loss:  0.9807261601090431\n",
      "total loss:  0.9788802973926067\n",
      "total loss:  0.9772161776199937\n",
      "total loss:  0.9757043644785881\n",
      "total loss:  0.9743206119164824\n",
      "total loss:  0.9730449439957738\n",
      "total loss:  0.971860914491117\n",
      "total loss:  0.9707549829035997\n",
      "total loss:  0.9697159808129072\n",
      "total loss:  0.968734691850841\n",
      "total loss:  0.9678035750985146\n",
      "total loss:  0.9669163171201944\n",
      "total loss:  0.9660677090287209\n",
      "total loss:  0.9652533950284123\n",
      "total loss:  0.9644697410985827\n",
      "total loss:  0.9637136850506067\n",
      "total loss:  0.9629826257005334\n"
     ]
    },
    {
     "ename": "KeyboardInterrupt",
     "evalue": "",
     "output_type": "error",
     "traceback": [
      "\u001b[0;31m---------------------------------------------------------------------------\u001b[0m",
      "\u001b[0;31mKeyboardInterrupt\u001b[0m                         Traceback (most recent call last)",
      "\u001b[0;32m/tmp/ipykernel_361295/1180111013.py\u001b[0m in \u001b[0;36m<module>\u001b[0;34m\u001b[0m\n\u001b[1;32m     18\u001b[0m \u001b[0;34m\u001b[0m\u001b[0m\n\u001b[1;32m     19\u001b[0m         \u001b[0;31m# in case you wanted a semi-full example\u001b[0m\u001b[0;34m\u001b[0m\u001b[0;34m\u001b[0m\u001b[0;34m\u001b[0m\u001b[0m\n\u001b[0;32m---> 20\u001b[0;31m         \u001b[0moutputs\u001b[0m \u001b[0;34m=\u001b[0m \u001b[0mmodel\u001b[0m\u001b[0;34m.\u001b[0m\u001b[0mforward\u001b[0m\u001b[0;34m(\u001b[0m\u001b[0mbatch_x\u001b[0m\u001b[0;34m)\u001b[0m\u001b[0;34m\u001b[0m\u001b[0;34m\u001b[0m\u001b[0m\n\u001b[0m\u001b[1;32m     21\u001b[0m \u001b[0;34m\u001b[0m\u001b[0m\n\u001b[1;32m     22\u001b[0m         \u001b[0moutputs\u001b[0m \u001b[0;34m=\u001b[0m \u001b[0moutputs\u001b[0m\u001b[0;34m.\u001b[0m\u001b[0mdense\u001b[0m\u001b[0;34m(\u001b[0m\u001b[0mshape\u001b[0m\u001b[0;34m=\u001b[0m\u001b[0mbatch_y\u001b[0m\u001b[0;34m.\u001b[0m\u001b[0mshape\u001b[0m\u001b[0;34m)\u001b[0m\u001b[0;34m[\u001b[0m\u001b[0;36m0\u001b[0m\u001b[0;34m]\u001b[0m\u001b[0;34m.\u001b[0m\u001b[0mcpu\u001b[0m\u001b[0;34m(\u001b[0m\u001b[0;34m)\u001b[0m\u001b[0;34m\u001b[0m\u001b[0;34m\u001b[0m\u001b[0m\n",
      "\u001b[0;32m/tmp/ipykernel_361295/3892274466.py\u001b[0m in \u001b[0;36mforward\u001b[0;34m(self, x)\u001b[0m\n\u001b[1;32m     21\u001b[0m \u001b[0;34m\u001b[0m\u001b[0m\n\u001b[1;32m     22\u001b[0m     \u001b[0;32mdef\u001b[0m \u001b[0mforward\u001b[0m\u001b[0;34m(\u001b[0m\u001b[0mself\u001b[0m\u001b[0;34m,\u001b[0m \u001b[0mx\u001b[0m\u001b[0;34m)\u001b[0m\u001b[0;34m:\u001b[0m\u001b[0;34m\u001b[0m\u001b[0;34m\u001b[0m\u001b[0m\n\u001b[0;32m---> 23\u001b[0;31m         \u001b[0mout\u001b[0m \u001b[0;34m=\u001b[0m \u001b[0mself\u001b[0m\u001b[0;34m.\u001b[0m\u001b[0mconv1\u001b[0m\u001b[0;34m(\u001b[0m\u001b[0mx\u001b[0m\u001b[0;34m)\u001b[0m\u001b[0;34m\u001b[0m\u001b[0;34m\u001b[0m\u001b[0m\n\u001b[0m\u001b[1;32m     24\u001b[0m         \u001b[0mout\u001b[0m \u001b[0;34m=\u001b[0m \u001b[0mself\u001b[0m\u001b[0;34m.\u001b[0m\u001b[0mfc1\u001b[0m\u001b[0;34m(\u001b[0m\u001b[0mout\u001b[0m\u001b[0;34m)\u001b[0m\u001b[0;34m\u001b[0m\u001b[0;34m\u001b[0m\u001b[0m\n\u001b[1;32m     25\u001b[0m         \u001b[0mout\u001b[0m \u001b[0;34m=\u001b[0m \u001b[0mself\u001b[0m\u001b[0;34m.\u001b[0m\u001b[0mrelu\u001b[0m\u001b[0;34m(\u001b[0m\u001b[0mout\u001b[0m\u001b[0;34m)\u001b[0m\u001b[0;34m\u001b[0m\u001b[0;34m\u001b[0m\u001b[0m\n",
      "\u001b[0;32m~/mcs/InverseGraphics/venv/lib/python3.8/site-packages/torch/nn/modules/module.py\u001b[0m in \u001b[0;36m_call_impl\u001b[0;34m(self, *input, **kwargs)\u001b[0m\n\u001b[1;32m   1100\u001b[0m         if not (self._backward_hooks or self._forward_hooks or self._forward_pre_hooks or _global_backward_hooks\n\u001b[1;32m   1101\u001b[0m                 or _global_forward_hooks or _global_forward_pre_hooks):\n\u001b[0;32m-> 1102\u001b[0;31m             \u001b[0;32mreturn\u001b[0m \u001b[0mforward_call\u001b[0m\u001b[0;34m(\u001b[0m\u001b[0;34m*\u001b[0m\u001b[0minput\u001b[0m\u001b[0;34m,\u001b[0m \u001b[0;34m**\u001b[0m\u001b[0mkwargs\u001b[0m\u001b[0;34m)\u001b[0m\u001b[0;34m\u001b[0m\u001b[0;34m\u001b[0m\u001b[0m\n\u001b[0m\u001b[1;32m   1103\u001b[0m         \u001b[0;31m# Do not call functions when jit is used\u001b[0m\u001b[0;34m\u001b[0m\u001b[0;34m\u001b[0m\u001b[0;34m\u001b[0m\u001b[0m\n\u001b[1;32m   1104\u001b[0m         \u001b[0mfull_backward_hooks\u001b[0m\u001b[0;34m,\u001b[0m \u001b[0mnon_full_backward_hooks\u001b[0m \u001b[0;34m=\u001b[0m \u001b[0;34m[\u001b[0m\u001b[0;34m]\u001b[0m\u001b[0;34m,\u001b[0m \u001b[0;34m[\u001b[0m\u001b[0;34m]\u001b[0m\u001b[0;34m\u001b[0m\u001b[0;34m\u001b[0m\u001b[0m\n",
      "\u001b[0;32m~/mcs/InverseGraphics/venv/lib/python3.8/site-packages/torch/nn/modules/container.py\u001b[0m in \u001b[0;36mforward\u001b[0;34m(self, input)\u001b[0m\n\u001b[1;32m    139\u001b[0m     \u001b[0;32mdef\u001b[0m \u001b[0mforward\u001b[0m\u001b[0;34m(\u001b[0m\u001b[0mself\u001b[0m\u001b[0;34m,\u001b[0m \u001b[0minput\u001b[0m\u001b[0;34m)\u001b[0m\u001b[0;34m:\u001b[0m\u001b[0;34m\u001b[0m\u001b[0;34m\u001b[0m\u001b[0m\n\u001b[1;32m    140\u001b[0m         \u001b[0;32mfor\u001b[0m \u001b[0mmodule\u001b[0m \u001b[0;32min\u001b[0m \u001b[0mself\u001b[0m\u001b[0;34m:\u001b[0m\u001b[0;34m\u001b[0m\u001b[0;34m\u001b[0m\u001b[0m\n\u001b[0;32m--> 141\u001b[0;31m             \u001b[0minput\u001b[0m \u001b[0;34m=\u001b[0m \u001b[0mmodule\u001b[0m\u001b[0;34m(\u001b[0m\u001b[0minput\u001b[0m\u001b[0;34m)\u001b[0m\u001b[0;34m\u001b[0m\u001b[0;34m\u001b[0m\u001b[0m\n\u001b[0m\u001b[1;32m    142\u001b[0m         \u001b[0;32mreturn\u001b[0m \u001b[0minput\u001b[0m\u001b[0;34m\u001b[0m\u001b[0;34m\u001b[0m\u001b[0m\n\u001b[1;32m    143\u001b[0m \u001b[0;34m\u001b[0m\u001b[0m\n",
      "\u001b[0;32m~/mcs/InverseGraphics/venv/lib/python3.8/site-packages/torch/nn/modules/module.py\u001b[0m in \u001b[0;36m_call_impl\u001b[0;34m(self, *input, **kwargs)\u001b[0m\n\u001b[1;32m   1100\u001b[0m         if not (self._backward_hooks or self._forward_hooks or self._forward_pre_hooks or _global_backward_hooks\n\u001b[1;32m   1101\u001b[0m                 or _global_forward_hooks or _global_forward_pre_hooks):\n\u001b[0;32m-> 1102\u001b[0;31m             \u001b[0;32mreturn\u001b[0m \u001b[0mforward_call\u001b[0m\u001b[0;34m(\u001b[0m\u001b[0;34m*\u001b[0m\u001b[0minput\u001b[0m\u001b[0;34m,\u001b[0m \u001b[0;34m**\u001b[0m\u001b[0mkwargs\u001b[0m\u001b[0;34m)\u001b[0m\u001b[0;34m\u001b[0m\u001b[0;34m\u001b[0m\u001b[0m\n\u001b[0m\u001b[1;32m   1103\u001b[0m         \u001b[0;31m# Do not call functions when jit is used\u001b[0m\u001b[0;34m\u001b[0m\u001b[0;34m\u001b[0m\u001b[0;34m\u001b[0m\u001b[0m\n\u001b[1;32m   1104\u001b[0m         \u001b[0mfull_backward_hooks\u001b[0m\u001b[0;34m,\u001b[0m \u001b[0mnon_full_backward_hooks\u001b[0m \u001b[0;34m=\u001b[0m \u001b[0;34m[\u001b[0m\u001b[0;34m]\u001b[0m\u001b[0;34m,\u001b[0m \u001b[0;34m[\u001b[0m\u001b[0;34m]\u001b[0m\u001b[0;34m\u001b[0m\u001b[0;34m\u001b[0m\u001b[0m\n",
      "\u001b[0;32m~/mcs/InverseGraphics/venv/lib/python3.8/site-packages/MinkowskiEngine/MinkowskiConvolution.py\u001b[0m in \u001b[0;36mforward\u001b[0;34m(self, input, coordinates)\u001b[0m\n\u001b[1;32m    312\u001b[0m                 \u001b[0minput\u001b[0m\u001b[0;34m,\u001b[0m \u001b[0mcoordinates\u001b[0m\u001b[0;34m,\u001b[0m \u001b[0mself\u001b[0m\u001b[0;34m.\u001b[0m\u001b[0mkernel_generator\u001b[0m\u001b[0;34m.\u001b[0m\u001b[0mexpand_coordinates\u001b[0m\u001b[0;34m\u001b[0m\u001b[0;34m\u001b[0m\u001b[0m\n\u001b[1;32m    313\u001b[0m             )\n\u001b[0;32m--> 314\u001b[0;31m             outfeat = self.conv.apply(\n\u001b[0m\u001b[1;32m    315\u001b[0m                 \u001b[0minput\u001b[0m\u001b[0;34m.\u001b[0m\u001b[0mF\u001b[0m\u001b[0;34m,\u001b[0m\u001b[0;34m\u001b[0m\u001b[0;34m\u001b[0m\u001b[0m\n\u001b[1;32m    316\u001b[0m                 \u001b[0mself\u001b[0m\u001b[0;34m.\u001b[0m\u001b[0mkernel\u001b[0m\u001b[0;34m,\u001b[0m\u001b[0;34m\u001b[0m\u001b[0;34m\u001b[0m\u001b[0m\n",
      "\u001b[0;32m~/mcs/InverseGraphics/venv/lib/python3.8/site-packages/MinkowskiEngine/MinkowskiConvolution.py\u001b[0m in \u001b[0;36mforward\u001b[0;34m(ctx, input_features, kernel_weights, kernel_generator, convolution_mode, in_coordinate_map_key, out_coordinate_map_key, coordinate_manager)\u001b[0m\n\u001b[1;32m     70\u001b[0m \u001b[0;34m\u001b[0m\u001b[0m\n\u001b[1;32m     71\u001b[0m         \u001b[0mfw_fn\u001b[0m \u001b[0;34m=\u001b[0m \u001b[0mget_minkowski_function\u001b[0m\u001b[0;34m(\u001b[0m\u001b[0;34m\"ConvolutionForward\"\u001b[0m\u001b[0;34m,\u001b[0m \u001b[0minput_features\u001b[0m\u001b[0;34m)\u001b[0m\u001b[0;34m\u001b[0m\u001b[0;34m\u001b[0m\u001b[0m\n\u001b[0;32m---> 72\u001b[0;31m         return fw_fn(\n\u001b[0m\u001b[1;32m     73\u001b[0m             \u001b[0mctx\u001b[0m\u001b[0;34m.\u001b[0m\u001b[0minput_features\u001b[0m\u001b[0;34m,\u001b[0m\u001b[0;34m\u001b[0m\u001b[0;34m\u001b[0m\u001b[0m\n\u001b[1;32m     74\u001b[0m             \u001b[0mkernel_weights\u001b[0m\u001b[0;34m,\u001b[0m\u001b[0;34m\u001b[0m\u001b[0;34m\u001b[0m\u001b[0m\n",
      "\u001b[0;31mKeyboardInterrupt\u001b[0m: "
     ]
    }
   ],
   "source": [
    "batch_size = 10\n",
    "output = None\n",
    "batch_y = None\n",
    "batch_x = None\n",
    "for epoch in range(1000):\n",
    "#     permutation = torch.randperm(X_torch.size()[0])\n",
    "    permutation = torch.arange(X_train.size()[0])\n",
    "    \n",
    "    total_loss = 0.0\n",
    "    for i in range(0,X_train.size()[0], batch_size):\n",
    "#         print(i)\n",
    "        optimizer.zero_grad()\n",
    "\n",
    "        indices = permutation[i:i+batch_size]\n",
    "        batch_x, batch_y = X_train[indices], Y_train[indices]\n",
    "        batch_y = batch_y.permute(0,4,1,2,3)\n",
    "        batch_x = get_sparse_tensor_from_numpy(batch_x[:,0,:,:,:],d=dev)\n",
    "        \n",
    "        # in case you wanted a semi-full example\n",
    "        outputs = model.forward(batch_x)\n",
    "        \n",
    "        outputs = outputs.dense(shape=batch_y.shape)[0].cpu()\n",
    "        \n",
    "        loss = (outputs - batch_y)**2\n",
    "        loss[batch_y == 1.0] *= 100.0\n",
    "        loss = loss.mean()\n",
    "        \n",
    "        loss.backward()\n",
    "        optimizer.step()\n",
    "        \n",
    "        total_loss += loss.item()\n",
    "    print(\"total loss: \", total_loss)"
   ]
  },
  {
   "cell_type": "code",
   "execution_count": 12,
   "id": "73be82b8",
   "metadata": {},
   "outputs": [],
   "source": [
    "X_test = X[-50:]\n",
    "Y_test = Y[-50:]"
   ]
  },
  {
   "cell_type": "code",
   "execution_count": 13,
   "id": "35315e99",
   "metadata": {},
   "outputs": [],
   "source": [
    "model_cpu = model.cpu()"
   ]
  },
  {
   "cell_type": "code",
   "execution_count": 14,
   "id": "10918455",
   "metadata": {},
   "outputs": [],
   "source": [
    "pred_Y = model.forward(get_sparse_tensor_from_numpy(X_test[:,0,:,:,:]))"
   ]
  },
  {
   "cell_type": "code",
   "execution_count": 15,
   "id": "3f05e20c",
   "metadata": {},
   "outputs": [
    {
     "data": {
      "text/plain": [
       "torch.Size([50, 45, 45, 42, 1])"
      ]
     },
     "execution_count": 15,
     "metadata": {},
     "output_type": "execute_result"
    }
   ],
   "source": [
    "permuted_Y_test = Y_test.permute(0,4,1,2,3)\n",
    "pred_Y = pred_Y.dense(shape=permuted_Y_test.shape)[0]\n",
    "pred_Y = pred_Y.permute(0,2,3,4,1)\n",
    "pred_Y.shape"
   ]
  },
  {
   "cell_type": "code",
   "execution_count": 16,
   "id": "15a8554e",
   "metadata": {},
   "outputs": [
    {
     "data": {
      "text/plain": [
       "tensor([0.6641, 0.9367, 0.9761,  ..., 0.7604, 0.0000, 0.0000],\n",
       "       grad_fn=<IndexBackward0>)"
      ]
     },
     "execution_count": 16,
     "metadata": {},
     "output_type": "execute_result"
    }
   ],
   "source": [
    "pred_Y[Y_test[-100:] == 1.0]"
   ]
  },
  {
   "cell_type": "code",
   "execution_count": 17,
   "id": "26613ac5",
   "metadata": {},
   "outputs": [
    {
     "data": {
      "text/plain": [
       "tensor([0., 0., 0.,  ..., 0., 0., 0.], grad_fn=<IndexBackward0>)"
      ]
     },
     "execution_count": 17,
     "metadata": {},
     "output_type": "execute_result"
    }
   ],
   "source": [
    "pred_Y[Y_test[-100:] == 0.0]"
   ]
  },
  {
   "cell_type": "code",
   "execution_count": 18,
   "id": "f900e040",
   "metadata": {},
   "outputs": [],
   "source": [
    "with open(\"result.pkl\",\"wb\") as f:\n",
    "    pkl.dump((X_test.cpu().detach().numpy(), pred_Y.cpu().detach().numpy()), f)"
   ]
  },
  {
   "cell_type": "code",
   "execution_count": null,
   "id": "0e08dfca",
   "metadata": {},
   "outputs": [],
   "source": []
  },
  {
   "cell_type": "code",
   "execution_count": null,
   "id": "aa89aa07",
   "metadata": {},
   "outputs": [],
   "source": []
  },
  {
   "cell_type": "code",
   "execution_count": null,
   "id": "200d6cd7",
   "metadata": {},
   "outputs": [],
   "source": []
  },
  {
   "cell_type": "code",
   "execution_count": null,
   "id": "5893f930",
   "metadata": {},
   "outputs": [],
   "source": []
  },
  {
   "cell_type": "code",
   "execution_count": null,
   "id": "b5d5d1c6",
   "metadata": {},
   "outputs": [],
   "source": []
  },
  {
   "cell_type": "code",
   "execution_count": null,
   "id": "ece80e69",
   "metadata": {},
   "outputs": [],
   "source": []
  }
 ],
 "metadata": {
  "kernelspec": {
   "display_name": "Python 3 (ipykernel)",
   "language": "python",
   "name": "python3"
  },
  "language_info": {
   "codemirror_mode": {
    "name": "ipython",
    "version": 3
   },
   "file_extension": ".py",
   "mimetype": "text/x-python",
   "name": "python",
   "nbconvert_exporter": "python",
   "pygments_lexer": "ipython3",
   "version": "3.8.10"
  }
 },
 "nbformat": 4,
 "nbformat_minor": 5
}
