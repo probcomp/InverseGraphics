{
 "cells": [
  {
   "cell_type": "code",
   "execution_count": 32,
   "id": "814d6892",
   "metadata": {},
   "outputs": [],
   "source": [
    "import torch\n",
    "from torch import nn\n",
    "import pickle as pkl\n",
    "import numpy as np\n",
    "import MinkowskiEngine as ME"
   ]
  },
  {
   "cell_type": "code",
   "execution_count": 33,
   "id": "052bbc1c",
   "metadata": {},
   "outputs": [],
   "source": [
    "filehandler = open(\"data.pkl\",\"rb\")\n",
    "dataset = pkl.load(filehandler)\n",
    "filehandler.close()"
   ]
  },
  {
   "cell_type": "code",
   "execution_count": 34,
   "id": "8df50f8e",
   "metadata": {},
   "outputs": [
    {
     "data": {
      "text/plain": [
       "True"
      ]
     },
     "execution_count": 34,
     "metadata": {},
     "output_type": "execute_result"
    }
   ],
   "source": [
    "torch.cuda.is_available()"
   ]
  },
  {
   "cell_type": "code",
   "execution_count": 35,
   "id": "fa921bf7",
   "metadata": {},
   "outputs": [
    {
     "data": {
      "text/plain": [
       "device(type='cuda')"
      ]
     },
     "execution_count": 35,
     "metadata": {},
     "output_type": "execute_result"
    }
   ],
   "source": [
    "dev = torch.device(\"cuda\")\n",
    "dev"
   ]
  },
  {
   "cell_type": "code",
   "execution_count": 36,
   "id": "1800f12c",
   "metadata": {},
   "outputs": [],
   "source": [
    "class Conv3DFeatureDetector(nn.Module):\n",
    "    def __init__(self, kernel_size):\n",
    "        super().__init__()\n",
    "        size_1 = 100\n",
    "        size_2 = 200\n",
    "        self.conv1 = nn.Sequential(\n",
    "            ME.MinkowskiConvolution(1, 20, \n",
    "                      kernel_size=(kernel_size),\n",
    "                      dimension=3,\n",
    "                                   ),\n",
    "            ME.MinkowskiConvolution(20, size_1, \n",
    "                      kernel_size=(kernel_size),\n",
    "                      dimension=3,\n",
    "                                   ),\n",
    "            ME.MinkowskiTanh(),\n",
    "#             nn.MaxPool3d((2, 2, 2)),\n",
    "        )\n",
    "        self.fc1 = ME.MinkowskiLinear(size_1, size_2)\n",
    "        self.relu = ME.MinkowskiTanh()\n",
    "        self.fc2 = ME.MinkowskiLinear(size_2, 1)\n",
    "        \n",
    "    def forward(self, x):\n",
    "        out = self.conv1(x)\n",
    "        out = self.fc1(out)\n",
    "        out = self.relu(out)\n",
    "        out = self.fc2(out)\n",
    "        out = ME.MinkowskiFunctional.sigmoid(out)\n",
    "        return out\n",
    "    \n",
    "# class Conv3DFeatureDetector(nn.Module):\n",
    "#     def __init__(self, kernel_size):\n",
    "#         super().__init__()\n",
    "        \n",
    "#         size_1 = 100\n",
    "#         size_2 = 200\n",
    "#         self.conv1 = nn.Sequential(\n",
    "#             nn.Conv3d(1, size_1, kernel_size=(kernel_size, kernel_size, kernel_size), padding= (kernel_size - 1)//2),\n",
    "#             nn.Tanh(),\n",
    "# #             nn.MaxPool3d((2, 2, 2)),\n",
    "#         )\n",
    "#         self.fc1 = nn.Linear(size_1, size_2)\n",
    "#         self.relu = nn.Tanh()\n",
    "#         self.fc2 = nn.Linear(size_2, 1)\n",
    "        \n",
    "#     def forward(self, x):\n",
    "#         out = self.conv1(x)\n",
    "#         out = out.permute(0,2,3,4,1)\n",
    "#         out = self.fc1(out)\n",
    "#         out = self.relu(out)\n",
    "#         out = self.fc2(out)\n",
    "#         out = torch.sigmoid(out)\n",
    "#         return out"
   ]
  },
  {
   "cell_type": "code",
   "execution_count": 37,
   "id": "d8417998",
   "metadata": {
    "scrolled": false
   },
   "outputs": [
    {
     "name": "stdout",
     "output_type": "stream",
     "text": [
      "torch.Size([1000, 1, 45, 45, 42])\n",
      "torch.Size([1000, 45, 45, 42, 1])\n"
     ]
    }
   ],
   "source": [
    "X = np.vstack([x[None,None,:,:,:] for (x,y) in dataset])\n",
    "X = X.astype(np.float32)\n",
    "X = torch.from_numpy(X)\n",
    "\n",
    "Y = np.vstack([y[None,:,:,:,None] for (x,y) in dataset])\n",
    "Y = Y.astype(np.float32)\n",
    "Y = torch.from_numpy(Y)\n",
    "print(X.shape)\n",
    "print(Y.shape)\n",
    "\n",
    "X_train = X[:500]\n",
    "Y_train = Y[:500]\n",
    "\n",
    "def get_sparse_tensor_from_numpy(X, d=None):\n",
    "    idxs = torch.where(X)\n",
    "    num_nonzero_elements = idxs[0].shape[0]\n",
    "    num_dimensions = len(idxs)\n",
    "    coords = torch.vstack(idxs)\n",
    "    coords = coords.type(torch.int32)\n",
    "    coords = torch.transpose(coords, 0,1).contiguous()\n",
    "    feat = torch.ones(coords.shape[0],1)\n",
    "    if d is None:\n",
    "        X = ME.SparseTensor(feat, coordinates=coords)\n",
    "    else:\n",
    "        X = ME.SparseTensor(feat, coordinates=coords, device=d)\n",
    "    \n",
    "    return X\n"
   ]
  },
  {
   "cell_type": "code",
   "execution_count": 7,
   "id": "52cdca77",
   "metadata": {},
   "outputs": [
    {
     "data": {
      "text/plain": [
       "tensor(0.0107)"
      ]
     },
     "execution_count": 7,
     "metadata": {},
     "output_type": "execute_result"
    }
   ],
   "source": [
    "X_train.mean()"
   ]
  },
  {
   "cell_type": "code",
   "execution_count": 8,
   "id": "d29049e6",
   "metadata": {},
   "outputs": [
    {
     "data": {
      "text/plain": [
       "Conv3DFeatureDetector(\n",
       "  (conv1): Sequential(\n",
       "    (0): MinkowskiConvolution(in=1, out=20, kernel_size=[9, 9, 9], stride=[1, 1, 1], dilation=[1, 1, 1])\n",
       "    (1): MinkowskiConvolution(in=20, out=100, kernel_size=[9, 9, 9], stride=[1, 1, 1], dilation=[1, 1, 1])\n",
       "    (2): MinkowskiTanh()\n",
       "  )\n",
       "  (fc1): MinkowskiLinear(in_features=100, out_features=200, bias=True)\n",
       "  (relu): MinkowskiTanh()\n",
       "  (fc2): MinkowskiLinear(in_features=200, out_features=1, bias=True)\n",
       ")"
      ]
     },
     "execution_count": 8,
     "metadata": {},
     "output_type": "execute_result"
    }
   ],
   "source": [
    "# X.cuda()\n",
    "model = Conv3DFeatureDetector(9)\n",
    "model.to(dev)\n",
    "\n"
   ]
  },
  {
   "cell_type": "code",
   "execution_count": 9,
   "id": "6ce2ae47",
   "metadata": {},
   "outputs": [],
   "source": [
    "learning_rate = 1.0\n",
    "optimizer = torch.optim.SGD(model.parameters(), lr=learning_rate)"
   ]
  },
  {
   "cell_type": "code",
   "execution_count": 10,
   "id": "0822c7da",
   "metadata": {},
   "outputs": [
    {
     "data": {
      "text/plain": [
       "torch.Size([10, 29, 29, 28])"
      ]
     },
     "execution_count": 10,
     "metadata": {},
     "output_type": "execute_result"
    }
   ],
   "source": [
    "X_train[:10,0,:,:,:].shape"
   ]
  },
  {
   "cell_type": "code",
   "execution_count": 11,
   "id": "324e72fb",
   "metadata": {
    "scrolled": true
   },
   "outputs": [
    {
     "name": "stderr",
     "output_type": "stream",
     "text": [
      "/home/nishadg/mcs/InverseGraphics/venv/lib/python3.8/site-packages/torch/nn/functional.py:1806: UserWarning: nn.functional.sigmoid is deprecated. Use torch.sigmoid instead.\n",
      "  warnings.warn(\"nn.functional.sigmoid is deprecated. Use torch.sigmoid instead.\")\n",
      "/home/nishadg/mcs/InverseGraphics/venv/lib/python3.8/site-packages/MinkowskiEngine/MinkowskiSparseTensor.py:525: UserWarning: __floordiv__ is deprecated, and its behavior will change in a future version of pytorch. It currently rounds toward 0 (like the 'trunc' function NOT 'floor'). This results in incorrect rounding for negative values. To keep the current behavior, use torch.div(a, b, rounding_mode='trunc'), or for actual floor division, use torch.div(a, b, rounding_mode='floor').\n",
      "  coords = coords // tensor_stride\n"
     ]
    },
    {
     "name": "stdout",
     "output_type": "stream",
     "text": [
      "total loss:  3.8851121962070465\n",
      "total loss:  3.7883780635893345\n",
      "total loss:  3.7587246783077717\n",
      "total loss:  3.730585116893053\n",
      "total loss:  3.658859457820654\n",
      "total loss:  3.57476107403636\n",
      "total loss:  3.5028116293251514\n",
      "total loss:  3.456698015332222\n",
      "total loss:  3.4325627870857716\n",
      "total loss:  3.4195246137678623\n",
      "total loss:  3.411555614322424\n",
      "total loss:  3.4061134792864323\n",
      "total loss:  3.4020851626992226\n",
      "total loss:  3.398930359631777\n",
      "total loss:  3.396358869969845\n",
      "total loss:  3.394200701266527\n",
      "total loss:  3.3923488818109035\n",
      "total loss:  3.390732277184725\n",
      "total loss:  3.389301221817732\n",
      "total loss:  3.388019882142544\n",
      "total loss:  3.3868612870573997\n",
      "total loss:  3.385805308818817\n",
      "total loss:  3.384835969656706\n",
      "total loss:  3.383940849453211\n",
      "total loss:  3.3831100203096867\n",
      "total loss:  3.3823353201150894\n",
      "total loss:  3.381610121577978\n",
      "total loss:  3.380928948521614\n",
      "total loss:  3.380286894738674\n",
      "total loss:  3.3796800449490547\n"
     ]
    },
    {
     "ename": "KeyboardInterrupt",
     "evalue": "",
     "output_type": "error",
     "traceback": [
      "\u001b[0;31m---------------------------------------------------------------------------\u001b[0m",
      "\u001b[0;31mKeyboardInterrupt\u001b[0m                         Traceback (most recent call last)",
      "\u001b[0;32m/tmp/ipykernel_15683/1180111013.py\u001b[0m in \u001b[0;36m<module>\u001b[0;34m\u001b[0m\n\u001b[1;32m     23\u001b[0m \u001b[0;34m\u001b[0m\u001b[0m\n\u001b[1;32m     24\u001b[0m         \u001b[0mloss\u001b[0m \u001b[0;34m=\u001b[0m \u001b[0;34m(\u001b[0m\u001b[0moutputs\u001b[0m \u001b[0;34m-\u001b[0m \u001b[0mbatch_y\u001b[0m\u001b[0;34m)\u001b[0m\u001b[0;34m**\u001b[0m\u001b[0;36m2\u001b[0m\u001b[0;34m\u001b[0m\u001b[0;34m\u001b[0m\u001b[0m\n\u001b[0;32m---> 25\u001b[0;31m         \u001b[0mloss\u001b[0m\u001b[0;34m[\u001b[0m\u001b[0mbatch_y\u001b[0m \u001b[0;34m==\u001b[0m \u001b[0;36m1.0\u001b[0m\u001b[0;34m]\u001b[0m \u001b[0;34m*=\u001b[0m \u001b[0;36m100.0\u001b[0m\u001b[0;34m\u001b[0m\u001b[0;34m\u001b[0m\u001b[0m\n\u001b[0m\u001b[1;32m     26\u001b[0m         \u001b[0mloss\u001b[0m \u001b[0;34m=\u001b[0m \u001b[0mloss\u001b[0m\u001b[0;34m.\u001b[0m\u001b[0mmean\u001b[0m\u001b[0;34m(\u001b[0m\u001b[0;34m)\u001b[0m\u001b[0;34m\u001b[0m\u001b[0;34m\u001b[0m\u001b[0m\n\u001b[1;32m     27\u001b[0m \u001b[0;34m\u001b[0m\u001b[0m\n",
      "\u001b[0;31mKeyboardInterrupt\u001b[0m: "
     ]
    }
   ],
   "source": [
    "batch_size = 10\n",
    "output = None\n",
    "batch_y = None\n",
    "batch_x = None\n",
    "for epoch in range(1000):\n",
    "#     permutation = torch.randperm(X_torch.size()[0])\n",
    "    permutation = torch.arange(X_train.size()[0])\n",
    "    \n",
    "    total_loss = 0.0\n",
    "    for i in range(0,X_train.size()[0], batch_size):\n",
    "#         print(i)\n",
    "        optimizer.zero_grad()\n",
    "\n",
    "        indices = permutation[i:i+batch_size]\n",
    "        batch_x, batch_y = X_train[indices], Y_train[indices]\n",
    "        batch_y = batch_y.permute(0,4,1,2,3)\n",
    "        batch_x = get_sparse_tensor_from_numpy(batch_x[:,0,:,:,:],d=dev)\n",
    "        \n",
    "        # in case you wanted a semi-full example\n",
    "        outputs = model.forward(batch_x)\n",
    "        \n",
    "        outputs = outputs.dense(shape=batch_y.shape)[0].cpu()\n",
    "        \n",
    "        loss = (outputs - batch_y)**2\n",
    "        loss[batch_y == 1.0] *= 100.0\n",
    "        loss = loss.mean()\n",
    "        \n",
    "        loss.backward()\n",
    "        optimizer.step()\n",
    "        \n",
    "        total_loss += loss.item()\n",
    "    print(\"total loss: \", total_loss)"
   ]
  },
  {
   "cell_type": "code",
   "execution_count": 38,
   "id": "73be82b8",
   "metadata": {},
   "outputs": [],
   "source": [
    "X_test = X[-50:]\n",
    "Y_test = Y[-50:]"
   ]
  },
  {
   "cell_type": "code",
   "execution_count": 39,
   "id": "35315e99",
   "metadata": {},
   "outputs": [],
   "source": [
    "model_cpu = model.cpu()"
   ]
  },
  {
   "cell_type": "code",
   "execution_count": 40,
   "id": "10918455",
   "metadata": {},
   "outputs": [],
   "source": [
    "pred_Y = model.forward(get_sparse_tensor_from_numpy(X_test[:,0,:,:,:]))"
   ]
  },
  {
   "cell_type": "code",
   "execution_count": 41,
   "id": "3f05e20c",
   "metadata": {},
   "outputs": [
    {
     "data": {
      "text/plain": [
       "torch.Size([50, 45, 45, 42, 1])"
      ]
     },
     "execution_count": 41,
     "metadata": {},
     "output_type": "execute_result"
    }
   ],
   "source": [
    "permuted_Y_test = Y_test.permute(0,4,1,2,3)\n",
    "pred_Y = pred_Y.dense(shape=permuted_Y_test.shape)[0]\n",
    "pred_Y = pred_Y.permute(0,2,3,4,1)\n",
    "pred_Y.shape"
   ]
  },
  {
   "cell_type": "code",
   "execution_count": 42,
   "id": "15a8554e",
   "metadata": {},
   "outputs": [
    {
     "data": {
      "text/plain": [
       "tensor([0.0000, 0.0000, 0.0000,  ..., 0.2067, 0.1023, 0.0441],\n",
       "       grad_fn=<IndexBackward0>)"
      ]
     },
     "execution_count": 42,
     "metadata": {},
     "output_type": "execute_result"
    }
   ],
   "source": [
    "pred_Y[Y_test[-100:] == 1.0]"
   ]
  },
  {
   "cell_type": "code",
   "execution_count": 43,
   "id": "26613ac5",
   "metadata": {},
   "outputs": [
    {
     "data": {
      "text/plain": [
       "tensor([0., 0., 0.,  ..., 0., 0., 0.], grad_fn=<IndexBackward0>)"
      ]
     },
     "execution_count": 43,
     "metadata": {},
     "output_type": "execute_result"
    }
   ],
   "source": [
    "pred_Y[Y_test[-100:] == 0.0]"
   ]
  },
  {
   "cell_type": "code",
   "execution_count": 44,
   "id": "f900e040",
   "metadata": {},
   "outputs": [],
   "source": [
    "with open(\"result.pkl\",\"wb\") as f:\n",
    "    pkl.dump((X_test.cpu().detach().numpy(), pred_Y.cpu().detach().numpy()), f)"
   ]
  },
  {
   "cell_type": "code",
   "execution_count": null,
   "id": "0e08dfca",
   "metadata": {},
   "outputs": [],
   "source": []
  },
  {
   "cell_type": "code",
   "execution_count": null,
   "id": "aa89aa07",
   "metadata": {},
   "outputs": [],
   "source": []
  },
  {
   "cell_type": "code",
   "execution_count": null,
   "id": "200d6cd7",
   "metadata": {},
   "outputs": [],
   "source": []
  },
  {
   "cell_type": "code",
   "execution_count": null,
   "id": "5893f930",
   "metadata": {},
   "outputs": [],
   "source": []
  },
  {
   "cell_type": "code",
   "execution_count": null,
   "id": "b5d5d1c6",
   "metadata": {},
   "outputs": [],
   "source": []
  },
  {
   "cell_type": "code",
   "execution_count": null,
   "id": "ece80e69",
   "metadata": {},
   "outputs": [],
   "source": []
  }
 ],
 "metadata": {
  "kernelspec": {
   "display_name": "Python 3 (ipykernel)",
   "language": "python",
   "name": "python3"
  },
  "language_info": {
   "codemirror_mode": {
    "name": "ipython",
    "version": 3
   },
   "file_extension": ".py",
   "mimetype": "text/x-python",
   "name": "python",
   "nbconvert_exporter": "python",
   "pygments_lexer": "ipython3",
   "version": "3.8.10"
  }
 },
 "nbformat": 4,
 "nbformat_minor": 5
}
