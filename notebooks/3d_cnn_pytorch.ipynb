{
 "cells": [
  {
   "cell_type": "code",
   "execution_count": 1,
   "id": "814d6892",
   "metadata": {},
   "outputs": [],
   "source": [
    "import torch\n",
    "from torch import nn\n",
    "import pickle as pkl\n",
    "import numpy as np\n",
    "import MinkowskiEngine as ME"
   ]
  },
  {
   "cell_type": "code",
   "execution_count": 2,
   "id": "052bbc1c",
   "metadata": {},
   "outputs": [],
   "source": [
    "filehandler = open(\"data.pkl\",\"rb\")\n",
    "dataset = pkl.load(filehandler)\n",
    "filehandler.close()"
   ]
  },
  {
   "cell_type": "code",
   "execution_count": 3,
   "id": "8df50f8e",
   "metadata": {},
   "outputs": [
    {
     "data": {
      "text/plain": [
       "True"
      ]
     },
     "execution_count": 3,
     "metadata": {},
     "output_type": "execute_result"
    }
   ],
   "source": [
    "torch.cuda.is_available()"
   ]
  },
  {
   "cell_type": "code",
   "execution_count": 4,
   "id": "fa921bf7",
   "metadata": {},
   "outputs": [
    {
     "data": {
      "text/plain": [
       "device(type='cuda')"
      ]
     },
     "execution_count": 4,
     "metadata": {},
     "output_type": "execute_result"
    }
   ],
   "source": [
    "dev = torch.device(\"cuda\")\n",
    "dev"
   ]
  },
  {
   "cell_type": "code",
   "execution_count": 9,
   "id": "1800f12c",
   "metadata": {},
   "outputs": [],
   "source": [
    "class Conv3DFeatureDetector(nn.Module):\n",
    "    def __init__(self, kernel_size):\n",
    "        super().__init__()\n",
    "        size_1 = 100\n",
    "        size_2 = 200\n",
    "        self.conv1 = nn.Sequential(\n",
    "            ME.MinkowskiConvolution(1, size_1, \n",
    "                      kernel_size=(kernel_size),\n",
    "                      dimension=3,\n",
    "                                   ),\n",
    "            ME.MinkowskiTanh(),\n",
    "#             nn.MaxPool3d((2, 2, 2)),\n",
    "        )\n",
    "        self.fc1 = ME.MinkowskiLinear(size_1, size_2)\n",
    "        self.relu = ME.MinkowskiTanh()\n",
    "        self.fc2 = ME.MinkowskiLinear(size_2, 1)\n",
    "        \n",
    "    def forward(self, x):\n",
    "        out = self.conv1(x)\n",
    "        out = self.fc1(out)\n",
    "        out = self.relu(out)\n",
    "        out = self.fc2(out)\n",
    "        out = ME.MinkowskiFunctional.sigmoid(out)\n",
    "        return out\n",
    "    \n",
    "# class Conv3DFeatureDetector(nn.Module):\n",
    "#     def __init__(self, kernel_size):\n",
    "#         super().__init__()\n",
    "        \n",
    "#         size_1 = 100\n",
    "#         size_2 = 200\n",
    "#         self.conv1 = nn.Sequential(\n",
    "#             nn.Conv3d(1, size_1, kernel_size=(kernel_size, kernel_size, kernel_size), padding= (kernel_size - 1)//2),\n",
    "#             nn.Tanh(),\n",
    "# #             nn.MaxPool3d((2, 2, 2)),\n",
    "#         )\n",
    "#         self.fc1 = nn.Linear(size_1, size_2)\n",
    "#         self.relu = nn.Tanh()\n",
    "#         self.fc2 = nn.Linear(size_2, 1)\n",
    "        \n",
    "#     def forward(self, x):\n",
    "#         out = self.conv1(x)\n",
    "#         out = out.permute(0,2,3,4,1)\n",
    "#         out = self.fc1(out)\n",
    "#         out = self.relu(out)\n",
    "#         out = self.fc2(out)\n",
    "#         out = torch.sigmoid(out)\n",
    "#         return out"
   ]
  },
  {
   "cell_type": "code",
   "execution_count": 41,
   "id": "d8417998",
   "metadata": {
    "scrolled": false
   },
   "outputs": [
    {
     "name": "stdout",
     "output_type": "stream",
     "text": [
      "torch.Size([1000, 1, 35, 35, 32])\n",
      "torch.Size([1000, 35, 35, 32, 1])\n"
     ]
    }
   ],
   "source": [
    "X = np.vstack([x[None,None,:,:,:] for (x,y) in dataset])\n",
    "X = X.astype(np.float32)\n",
    "X = torch.from_numpy(X)\n",
    "\n",
    "Y = np.vstack([y[None,:,:,:,None] for (x,y) in dataset])\n",
    "Y = Y.astype(np.float32)\n",
    "Y = torch.from_numpy(Y)\n",
    "print(X.shape)\n",
    "print(Y.shape)\n",
    "\n",
    "X_train = X[:500]\n",
    "Y_train = Y[:500]\n",
    "\n",
    "def get_sparse_tensor_from_numpy(X, d=None):\n",
    "    idxs = torch.where(X)\n",
    "    num_nonzero_elements = idxs[0].shape[0]\n",
    "    num_dimensions = len(idxs)\n",
    "    coords = torch.vstack(idxs)\n",
    "    coords = coords.type(torch.int32)\n",
    "    coords = torch.transpose(coords, 0,1).contiguous()\n",
    "    feat = torch.ones(coords.shape[0],1)\n",
    "    if d is None:\n",
    "        X = ME.SparseTensor(feat, coordinates=coords)\n",
    "    else:\n",
    "        X = ME.SparseTensor(feat, coordinates=coords, device=d)\n",
    "    \n",
    "    return X\n"
   ]
  },
  {
   "cell_type": "code",
   "execution_count": 42,
   "id": "52cdca77",
   "metadata": {},
   "outputs": [
    {
     "data": {
      "text/plain": [
       "tensor(0.0345)"
      ]
     },
     "execution_count": 42,
     "metadata": {},
     "output_type": "execute_result"
    }
   ],
   "source": [
    "X_train.mean()"
   ]
  },
  {
   "cell_type": "code",
   "execution_count": 43,
   "id": "d29049e6",
   "metadata": {},
   "outputs": [
    {
     "data": {
      "text/plain": [
       "Conv3DFeatureDetector(\n",
       "  (conv1): Sequential(\n",
       "    (0): MinkowskiConvolution(in=1, out=100, kernel_size=[9, 9, 9], stride=[1, 1, 1], dilation=[1, 1, 1])\n",
       "    (1): MinkowskiTanh()\n",
       "  )\n",
       "  (fc1): MinkowskiLinear(in_features=100, out_features=200, bias=True)\n",
       "  (relu): MinkowskiTanh()\n",
       "  (fc2): MinkowskiLinear(in_features=200, out_features=1, bias=True)\n",
       ")"
      ]
     },
     "execution_count": 43,
     "metadata": {},
     "output_type": "execute_result"
    }
   ],
   "source": [
    "# X.cuda()\n",
    "model = Conv3DFeatureDetector(9)\n",
    "model.to(dev)\n",
    "\n"
   ]
  },
  {
   "cell_type": "code",
   "execution_count": 44,
   "id": "6ce2ae47",
   "metadata": {},
   "outputs": [],
   "source": [
    "learning_rate = 1.0\n",
    "optimizer = torch.optim.SGD(model.parameters(), lr=learning_rate)"
   ]
  },
  {
   "cell_type": "code",
   "execution_count": 45,
   "id": "0822c7da",
   "metadata": {},
   "outputs": [
    {
     "data": {
      "text/plain": [
       "torch.Size([10, 35, 35, 32])"
      ]
     },
     "execution_count": 45,
     "metadata": {},
     "output_type": "execute_result"
    }
   ],
   "source": [
    "X_train[:10,0,:,:,:].shape"
   ]
  },
  {
   "cell_type": "code",
   "execution_count": 46,
   "id": "324e72fb",
   "metadata": {
    "scrolled": true
   },
   "outputs": [
    {
     "name": "stdout",
     "output_type": "stream",
     "text": [
      "total loss:  11.682123735547066\n",
      "total loss:  11.50080032646656\n",
      "total loss:  11.21671311557293\n",
      "total loss:  11.03125473856926\n",
      "total loss:  10.950746968388557\n",
      "total loss:  10.907248809933662\n",
      "total loss:  10.87880676984787\n",
      "total loss:  10.858369797468185\n",
      "total loss:  10.842954576015472\n",
      "total loss:  10.830983027815819\n",
      "total loss:  10.821486189961433\n",
      "total loss:  10.81381580233574\n",
      "total loss:  10.807520359754562\n",
      "total loss:  10.802278146147728\n",
      "total loss:  10.797856554389\n",
      "total loss:  10.794084787368774\n",
      "total loss:  10.790835857391357\n",
      "total loss:  10.788012146949768\n",
      "total loss:  10.78553955256939\n",
      "total loss:  10.78335927426815\n",
      "total loss:  10.781424343585968\n",
      "total loss:  10.779697820544243\n",
      "total loss:  10.77814881503582\n",
      "total loss:  10.776752784848213\n",
      "total loss:  10.775488585233688\n",
      "total loss:  10.774339467287064\n",
      "total loss:  10.773290857672691\n",
      "total loss:  10.772330582141876\n",
      "total loss:  10.771448493003845\n",
      "total loss:  10.770635426044464\n",
      "total loss:  10.769883766770363\n",
      "total loss:  10.769187331199646\n",
      "total loss:  10.768540158867836\n"
     ]
    },
    {
     "ename": "KeyboardInterrupt",
     "evalue": "",
     "output_type": "error",
     "traceback": [
      "\u001b[0;31m---------------------------------------------------------------------------\u001b[0m",
      "\u001b[0;31mKeyboardInterrupt\u001b[0m                         Traceback (most recent call last)",
      "\u001b[0;32m/tmp/ipykernel_30476/1180111013.py\u001b[0m in \u001b[0;36m<module>\u001b[0;34m\u001b[0m\n\u001b[1;32m     22\u001b[0m         \u001b[0moutputs\u001b[0m \u001b[0;34m=\u001b[0m \u001b[0moutputs\u001b[0m\u001b[0;34m.\u001b[0m\u001b[0mdense\u001b[0m\u001b[0;34m(\u001b[0m\u001b[0mshape\u001b[0m\u001b[0;34m=\u001b[0m\u001b[0mbatch_y\u001b[0m\u001b[0;34m.\u001b[0m\u001b[0mshape\u001b[0m\u001b[0;34m)\u001b[0m\u001b[0;34m[\u001b[0m\u001b[0;36m0\u001b[0m\u001b[0;34m]\u001b[0m\u001b[0;34m.\u001b[0m\u001b[0mcpu\u001b[0m\u001b[0;34m(\u001b[0m\u001b[0;34m)\u001b[0m\u001b[0;34m\u001b[0m\u001b[0;34m\u001b[0m\u001b[0m\n\u001b[1;32m     23\u001b[0m \u001b[0;34m\u001b[0m\u001b[0m\n\u001b[0;32m---> 24\u001b[0;31m         \u001b[0mloss\u001b[0m \u001b[0;34m=\u001b[0m \u001b[0;34m(\u001b[0m\u001b[0moutputs\u001b[0m \u001b[0;34m-\u001b[0m \u001b[0mbatch_y\u001b[0m\u001b[0;34m)\u001b[0m\u001b[0;34m**\u001b[0m\u001b[0;36m2\u001b[0m\u001b[0;34m\u001b[0m\u001b[0;34m\u001b[0m\u001b[0m\n\u001b[0m\u001b[1;32m     25\u001b[0m         \u001b[0mloss\u001b[0m\u001b[0;34m[\u001b[0m\u001b[0mbatch_y\u001b[0m \u001b[0;34m==\u001b[0m \u001b[0;36m1.0\u001b[0m\u001b[0;34m]\u001b[0m \u001b[0;34m*=\u001b[0m \u001b[0;36m100.0\u001b[0m\u001b[0;34m\u001b[0m\u001b[0;34m\u001b[0m\u001b[0m\n\u001b[1;32m     26\u001b[0m         \u001b[0mloss\u001b[0m \u001b[0;34m=\u001b[0m \u001b[0mloss\u001b[0m\u001b[0;34m.\u001b[0m\u001b[0mmean\u001b[0m\u001b[0;34m(\u001b[0m\u001b[0;34m)\u001b[0m\u001b[0;34m\u001b[0m\u001b[0;34m\u001b[0m\u001b[0m\n",
      "\u001b[0;32m~/mcs/InverseGraphics/venv/lib/python3.8/site-packages/torch/_tensor.py\u001b[0m in \u001b[0;36mwrapped\u001b[0;34m(*args, **kwargs)\u001b[0m\n\u001b[1;32m     28\u001b[0m             \u001b[0;32mreturn\u001b[0m \u001b[0mhandle_torch_function\u001b[0m\u001b[0;34m(\u001b[0m\u001b[0mwrapped\u001b[0m\u001b[0;34m,\u001b[0m \u001b[0margs\u001b[0m\u001b[0;34m,\u001b[0m \u001b[0;34m*\u001b[0m\u001b[0margs\u001b[0m\u001b[0;34m,\u001b[0m \u001b[0;34m**\u001b[0m\u001b[0mkwargs\u001b[0m\u001b[0;34m)\u001b[0m\u001b[0;34m\u001b[0m\u001b[0;34m\u001b[0m\u001b[0m\n\u001b[1;32m     29\u001b[0m         \u001b[0;32mtry\u001b[0m\u001b[0;34m:\u001b[0m\u001b[0;34m\u001b[0m\u001b[0;34m\u001b[0m\u001b[0m\n\u001b[0;32m---> 30\u001b[0;31m             \u001b[0;32mreturn\u001b[0m \u001b[0mf\u001b[0m\u001b[0;34m(\u001b[0m\u001b[0;34m*\u001b[0m\u001b[0margs\u001b[0m\u001b[0;34m,\u001b[0m \u001b[0;34m**\u001b[0m\u001b[0mkwargs\u001b[0m\u001b[0;34m)\u001b[0m\u001b[0;34m\u001b[0m\u001b[0;34m\u001b[0m\u001b[0m\n\u001b[0m\u001b[1;32m     31\u001b[0m         \u001b[0;32mexcept\u001b[0m \u001b[0mTypeError\u001b[0m\u001b[0;34m:\u001b[0m\u001b[0;34m\u001b[0m\u001b[0;34m\u001b[0m\u001b[0m\n\u001b[1;32m     32\u001b[0m             \u001b[0;32mreturn\u001b[0m \u001b[0mNotImplemented\u001b[0m\u001b[0;34m\u001b[0m\u001b[0;34m\u001b[0m\u001b[0m\n",
      "\u001b[0;31mKeyboardInterrupt\u001b[0m: "
     ]
    }
   ],
   "source": [
    "batch_size = 10\n",
    "output = None\n",
    "batch_y = None\n",
    "batch_x = None\n",
    "for epoch in range(1000):\n",
    "#     permutation = torch.randperm(X_torch.size()[0])\n",
    "    permutation = torch.arange(X_train.size()[0])\n",
    "    \n",
    "    total_loss = 0.0\n",
    "    for i in range(0,X_train.size()[0], batch_size):\n",
    "#         print(i)\n",
    "        optimizer.zero_grad()\n",
    "\n",
    "        indices = permutation[i:i+batch_size]\n",
    "        batch_x, batch_y = X_train[indices], Y_train[indices]\n",
    "        batch_y = batch_y.permute(0,4,1,2,3)\n",
    "        batch_x = get_sparse_tensor_from_numpy(batch_x[:,0,:,:,:],d=dev)\n",
    "        \n",
    "        # in case you wanted a semi-full example\n",
    "        outputs = model.forward(batch_x)\n",
    "        \n",
    "        outputs = outputs.dense(shape=batch_y.shape)[0].cpu()\n",
    "        \n",
    "        loss = (outputs - batch_y)**2\n",
    "        loss[batch_y == 1.0] *= 100.0\n",
    "        loss = loss.mean()\n",
    "        \n",
    "        loss.backward()\n",
    "        optimizer.step()\n",
    "        \n",
    "        total_loss += loss.item()\n",
    "    print(\"total loss: \", total_loss)"
   ]
  },
  {
   "cell_type": "code",
   "execution_count": 47,
   "id": "73be82b8",
   "metadata": {},
   "outputs": [],
   "source": [
    "X_test = X[-50:]\n",
    "Y_test = Y[-50:]"
   ]
  },
  {
   "cell_type": "code",
   "execution_count": 48,
   "id": "35315e99",
   "metadata": {},
   "outputs": [],
   "source": [
    "model_cpu = model.cpu()"
   ]
  },
  {
   "cell_type": "code",
   "execution_count": 49,
   "id": "10918455",
   "metadata": {},
   "outputs": [],
   "source": [
    "pred_Y = model.forward(get_sparse_tensor_from_numpy(X_test[:,0,:,:,:]))"
   ]
  },
  {
   "cell_type": "code",
   "execution_count": 50,
   "id": "3f05e20c",
   "metadata": {},
   "outputs": [
    {
     "data": {
      "text/plain": [
       "torch.Size([50, 35, 35, 32, 1])"
      ]
     },
     "execution_count": 50,
     "metadata": {},
     "output_type": "execute_result"
    }
   ],
   "source": [
    "permuted_Y_test = Y_test.permute(0,4,1,2,3)\n",
    "pred_Y = pred_Y.dense(shape=permuted_Y_test.shape)[0]\n",
    "pred_Y = pred_Y.permute(0,2,3,4,1)\n",
    "pred_Y.shape"
   ]
  },
  {
   "cell_type": "code",
   "execution_count": 51,
   "id": "15a8554e",
   "metadata": {},
   "outputs": [
    {
     "data": {
      "text/plain": [
       "tensor([0., 0., 0.,  ..., 0., 0., 0.], grad_fn=<IndexBackward0>)"
      ]
     },
     "execution_count": 51,
     "metadata": {},
     "output_type": "execute_result"
    }
   ],
   "source": [
    "pred_Y[Y_test[-100:] == 1.0]"
   ]
  },
  {
   "cell_type": "code",
   "execution_count": 52,
   "id": "26613ac5",
   "metadata": {},
   "outputs": [
    {
     "data": {
      "text/plain": [
       "tensor([0., 0., 0.,  ..., 0., 0., 0.], grad_fn=<IndexBackward0>)"
      ]
     },
     "execution_count": 52,
     "metadata": {},
     "output_type": "execute_result"
    }
   ],
   "source": [
    "pred_Y[Y_test[-100:] == 0.0]"
   ]
  },
  {
   "cell_type": "code",
   "execution_count": 53,
   "id": "f900e040",
   "metadata": {},
   "outputs": [],
   "source": [
    "with open(\"result.pkl\",\"wb\") as f:\n",
    "    pkl.dump((X_test.cpu().detach().numpy(), pred_Y.cpu().detach().numpy()), f)"
   ]
  },
  {
   "cell_type": "code",
   "execution_count": null,
   "id": "0e08dfca",
   "metadata": {},
   "outputs": [],
   "source": []
  }
 ],
 "metadata": {
  "kernelspec": {
   "display_name": "Python 3 (ipykernel)",
   "language": "python",
   "name": "python3"
  },
  "language_info": {
   "codemirror_mode": {
    "name": "ipython",
    "version": 3
   },
   "file_extension": ".py",
   "mimetype": "text/x-python",
   "name": "python",
   "nbconvert_exporter": "python",
   "pygments_lexer": "ipython3",
   "version": "3.8.10"
  }
 },
 "nbformat": 4,
 "nbformat_minor": 5
}
