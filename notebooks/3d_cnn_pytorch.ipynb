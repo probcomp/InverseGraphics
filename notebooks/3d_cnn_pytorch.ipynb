{
 "cells": [
  {
   "cell_type": "code",
   "execution_count": 1,
   "id": "814d6892",
   "metadata": {},
   "outputs": [],
   "source": [
    "import torch\n",
    "from torch import nn\n",
    "import pickle as pkl\n",
    "import numpy as np"
   ]
  },
  {
   "cell_type": "code",
   "execution_count": 2,
   "id": "052bbc1c",
   "metadata": {},
   "outputs": [],
   "source": [
    "filehandler = open(\"data.pkl\",\"rb\")\n",
    "dataset = pkl.load(filehandler)\n",
    "filehandler.close()"
   ]
  },
  {
   "cell_type": "code",
   "execution_count": 3,
   "id": "beb20eed",
   "metadata": {},
   "outputs": [
    {
     "name": "stdout",
     "output_type": "stream",
     "text": [
      "(1000, 1, 27, 27, 26)\n",
      "(1000, 27, 27, 26, 1)\n"
     ]
    }
   ],
   "source": [
    "X = np.vstack([x[None,None,:,:,:] for (x,y) in dataset])\n",
    "X = X.astype(np.float32)\n",
    "X[X == 0.0] = -1.0\n",
    "print(X.shape)\n",
    "\n",
    "Y = np.vstack([y[None,:,:,:,None] for (x,y) in dataset])\n",
    "Y = Y.astype(np.float32)\n",
    "print(Y.shape)"
   ]
  },
  {
   "cell_type": "code",
   "execution_count": 58,
   "id": "f8f0200b",
   "metadata": {},
   "outputs": [],
   "source": [
    "class Conv3DFeatureDetector(nn.Module):\n",
    "    def __init__(self, inplanes, outplanes, kernel_size):\n",
    "        super().__init__()\n",
    "\n",
    "        self.conv = nn.Conv3d(\n",
    "            inplanes, outplanes, \n",
    "            kernel_size=kernel_size, stride=1, padding=(kernel_size-1)//2,padding_mode='zeros'\n",
    "        )\n",
    "        self.linear1 = nn.Linear(outplanes, 1)\n",
    "#         self.relu = nn.Tanh()\n",
    "#         self.linear2 = nn.Linear(100, 1)\n",
    "\n",
    "    def forward(self, x):\n",
    "        out = self.conv(x)\n",
    "        out = out.permute(0,2,3,4,1)\n",
    "        out = self.linear1(out)\n",
    "        out = torch.sigmoid(out)\n",
    "        return out"
   ]
  },
  {
   "cell_type": "code",
   "execution_count": 59,
   "id": "77934272",
   "metadata": {},
   "outputs": [],
   "source": [
    "dev = torch.device(\"cpu\")"
   ]
  },
  {
   "cell_type": "code",
   "execution_count": 61,
   "id": "d081002f",
   "metadata": {},
   "outputs": [],
   "source": [
    "model = Conv3DFeatureDetector(1, 50, 5)\n",
    "model.to(dev)\n",
    "\n",
    "error = nn.BCELoss()\n",
    "\n",
    "\n",
    "# learning_rate = 0.1\n",
    "# optimizer = torch.optim.SGD(model.parameters(), lr=learning_rate)\n",
    "\n",
    "optimizer = torch.optim.Adam(model.parameters(), betas=(0.9, 0.95))"
   ]
  },
  {
   "cell_type": "code",
   "execution_count": null,
   "id": "daa1fcfe",
   "metadata": {},
   "outputs": [],
   "source": []
  },
  {
   "cell_type": "code",
   "execution_count": 62,
   "id": "2382bdc1",
   "metadata": {},
   "outputs": [],
   "source": [
    "X_torch = torch.from_numpy(X[1:100]).to(dev)\n",
    "Y_torch = torch.from_numpy(Y[1:100]).to(dev)"
   ]
  },
  {
   "cell_type": "code",
   "execution_count": 92,
   "id": "b0efb957",
   "metadata": {},
   "outputs": [
    {
     "name": "stdout",
     "output_type": "stream",
     "text": [
      "epoch  0\n",
      "0\n",
      "total loss:  0.09145272523164749\n",
      "epoch  1\n",
      "0\n",
      "total loss:  0.09015856683254242\n",
      "epoch  2\n",
      "0\n",
      "total loss:  0.08888415992259979\n",
      "epoch  3\n",
      "0\n",
      "total loss:  0.08762956410646439\n",
      "epoch  4\n",
      "0\n",
      "total loss:  0.08639457076787949\n",
      "epoch  5\n",
      "0\n",
      "total loss:  0.08517926186323166\n",
      "epoch  6\n",
      "0\n",
      "total loss:  0.08398348838090897\n",
      "epoch  7\n",
      "0\n",
      "total loss:  0.08280691504478455\n",
      "epoch  8\n",
      "0\n",
      "total loss:  0.08164922147989273\n",
      "epoch  9\n",
      "0\n",
      "total loss:  0.08051007986068726\n",
      "epoch  10\n",
      "0\n",
      "total loss:  0.07938934862613678\n",
      "epoch  11\n",
      "0\n",
      "total loss:  0.0782870352268219\n",
      "epoch  12\n",
      "0\n",
      "total loss:  0.0772029459476471\n",
      "epoch  13\n",
      "0\n",
      "total loss:  0.07613690197467804\n",
      "epoch  14\n",
      "0\n",
      "total loss:  0.07508842647075653\n",
      "epoch  15\n",
      "0\n",
      "total loss:  0.07405740767717361\n",
      "epoch  16\n",
      "0\n",
      "total loss:  0.07304371893405914\n",
      "epoch  17\n",
      "0\n",
      "total loss:  0.07204721868038177\n",
      "epoch  18\n",
      "0\n",
      "total loss:  0.07106771320104599\n",
      "epoch  19\n",
      "0\n",
      "total loss:  0.07010496407747269\n",
      "epoch  20\n",
      "0\n",
      "total loss:  0.06915866583585739\n",
      "epoch  21\n",
      "0\n",
      "total loss:  0.06822860985994339\n",
      "epoch  22\n",
      "0\n",
      "total loss:  0.06731484085321426\n",
      "epoch  23\n",
      "0\n",
      "total loss:  0.0664171576499939\n",
      "epoch  24\n",
      "0\n",
      "total loss:  0.06553522497415543\n",
      "epoch  25\n",
      "0\n",
      "total loss:  0.06466885656118393\n",
      "epoch  26\n",
      "0\n",
      "total loss:  0.06381797790527344\n",
      "epoch  27\n",
      "0\n",
      "total loss:  0.06298238039016724\n",
      "epoch  28\n",
      "0\n",
      "total loss:  0.062161896377801895\n",
      "epoch  29\n",
      "0\n",
      "total loss:  0.06135629117488861\n",
      "epoch  30\n",
      "0\n",
      "total loss:  0.06056538596749306\n",
      "epoch  31\n",
      "0\n",
      "total loss:  0.059789028018713\n",
      "epoch  32\n",
      "0\n",
      "total loss:  0.059027086943387985\n",
      "epoch  33\n",
      "0\n",
      "total loss:  0.05827930197119713\n",
      "epoch  34\n",
      "0\n",
      "total loss:  0.057545438408851624\n",
      "epoch  35\n",
      "0\n",
      "total loss:  0.05682547762989998\n",
      "epoch  36\n",
      "0\n",
      "total loss:  0.05611909180879593\n",
      "epoch  37\n",
      "0\n",
      "total loss:  0.055426135659217834\n",
      "epoch  38\n",
      "0\n",
      "total loss:  0.05474642291665077\n",
      "epoch  39\n",
      "0\n",
      "total loss:  0.05407978594303131\n",
      "epoch  40\n",
      "0\n",
      "total loss:  0.05342599004507065\n",
      "epoch  41\n",
      "0\n",
      "total loss:  0.05278483033180237\n",
      "epoch  42\n",
      "0\n",
      "total loss:  0.05215614289045334\n",
      "epoch  43\n",
      "0\n",
      "total loss:  0.051539789885282516\n",
      "epoch  44\n",
      "0\n",
      "total loss:  0.05093551427125931\n",
      "epoch  45\n",
      "0\n",
      "total loss:  0.05034314841032028\n",
      "epoch  46\n",
      "0\n",
      "total loss:  0.04976252093911171\n",
      "epoch  47\n",
      "0\n",
      "total loss:  0.04919343441724777\n",
      "epoch  48\n",
      "0\n",
      "total loss:  0.048635706305503845\n",
      "epoch  49\n",
      "0\n",
      "total loss:  0.04808920621871948\n",
      "epoch  50\n",
      "0\n",
      "total loss:  0.047553688287734985\n",
      "epoch  51\n",
      "0\n",
      "total loss:  0.047029003500938416\n",
      "epoch  52\n",
      "0\n",
      "total loss:  0.04651500657200813\n",
      "epoch  53\n",
      "0\n",
      "total loss:  0.046011485159397125\n",
      "epoch  54\n",
      "0\n",
      "total loss:  0.04551830515265465\n",
      "epoch  55\n",
      "0\n",
      "total loss:  0.045035313814878464\n",
      "epoch  56\n",
      "0\n",
      "total loss:  0.04456232115626335\n",
      "epoch  57\n",
      "0\n",
      "total loss:  0.04409915581345558\n",
      "epoch  58\n",
      "0\n",
      "total loss:  0.04364565759897232\n",
      "epoch  59\n",
      "0\n",
      "total loss:  0.04320170357823372\n",
      "epoch  60\n",
      "0\n"
     ]
    },
    {
     "ename": "KeyboardInterrupt",
     "evalue": "",
     "output_type": "error",
     "traceback": [
      "\u001b[0;31m---------------------------------------------------------------------------\u001b[0m",
      "\u001b[0;31mKeyboardInterrupt\u001b[0m                         Traceback (most recent call last)",
      "\u001b[0;32m/tmp/ipykernel_11822/1825549918.py\u001b[0m in \u001b[0;36m<module>\u001b[0;34m\u001b[0m\n\u001b[1;32m     23\u001b[0m         \u001b[0mloss\u001b[0m \u001b[0;34m=\u001b[0m \u001b[0merror\u001b[0m\u001b[0;34m(\u001b[0m\u001b[0moutputs\u001b[0m\u001b[0;34m,\u001b[0m\u001b[0mbatch_y\u001b[0m\u001b[0;34m)\u001b[0m\u001b[0;34m\u001b[0m\u001b[0;34m\u001b[0m\u001b[0m\n\u001b[1;32m     24\u001b[0m \u001b[0;34m\u001b[0m\u001b[0m\n\u001b[0;32m---> 25\u001b[0;31m         \u001b[0mloss\u001b[0m\u001b[0;34m.\u001b[0m\u001b[0mbackward\u001b[0m\u001b[0;34m(\u001b[0m\u001b[0;34m)\u001b[0m\u001b[0;34m\u001b[0m\u001b[0;34m\u001b[0m\u001b[0m\n\u001b[0m\u001b[1;32m     26\u001b[0m         \u001b[0moptimizer\u001b[0m\u001b[0;34m.\u001b[0m\u001b[0mstep\u001b[0m\u001b[0;34m(\u001b[0m\u001b[0;34m)\u001b[0m\u001b[0;34m\u001b[0m\u001b[0;34m\u001b[0m\u001b[0m\n\u001b[1;32m     27\u001b[0m \u001b[0;34m\u001b[0m\u001b[0m\n",
      "\u001b[0;32m~/mcs/InverseGraphics/venv/lib/python3.8/site-packages/torch/_tensor.py\u001b[0m in \u001b[0;36mbackward\u001b[0;34m(self, gradient, retain_graph, create_graph, inputs)\u001b[0m\n\u001b[1;32m    305\u001b[0m                 \u001b[0mcreate_graph\u001b[0m\u001b[0;34m=\u001b[0m\u001b[0mcreate_graph\u001b[0m\u001b[0;34m,\u001b[0m\u001b[0;34m\u001b[0m\u001b[0;34m\u001b[0m\u001b[0m\n\u001b[1;32m    306\u001b[0m                 inputs=inputs)\n\u001b[0;32m--> 307\u001b[0;31m         \u001b[0mtorch\u001b[0m\u001b[0;34m.\u001b[0m\u001b[0mautograd\u001b[0m\u001b[0;34m.\u001b[0m\u001b[0mbackward\u001b[0m\u001b[0;34m(\u001b[0m\u001b[0mself\u001b[0m\u001b[0;34m,\u001b[0m \u001b[0mgradient\u001b[0m\u001b[0;34m,\u001b[0m \u001b[0mretain_graph\u001b[0m\u001b[0;34m,\u001b[0m \u001b[0mcreate_graph\u001b[0m\u001b[0;34m,\u001b[0m \u001b[0minputs\u001b[0m\u001b[0;34m=\u001b[0m\u001b[0minputs\u001b[0m\u001b[0;34m)\u001b[0m\u001b[0;34m\u001b[0m\u001b[0;34m\u001b[0m\u001b[0m\n\u001b[0m\u001b[1;32m    308\u001b[0m \u001b[0;34m\u001b[0m\u001b[0m\n\u001b[1;32m    309\u001b[0m     \u001b[0;32mdef\u001b[0m \u001b[0mregister_hook\u001b[0m\u001b[0;34m(\u001b[0m\u001b[0mself\u001b[0m\u001b[0;34m,\u001b[0m \u001b[0mhook\u001b[0m\u001b[0;34m)\u001b[0m\u001b[0;34m:\u001b[0m\u001b[0;34m\u001b[0m\u001b[0;34m\u001b[0m\u001b[0m\n",
      "\u001b[0;32m~/mcs/InverseGraphics/venv/lib/python3.8/site-packages/torch/autograd/__init__.py\u001b[0m in \u001b[0;36mbackward\u001b[0;34m(tensors, grad_tensors, retain_graph, create_graph, grad_variables, inputs)\u001b[0m\n\u001b[1;32m    152\u001b[0m         \u001b[0mretain_graph\u001b[0m \u001b[0;34m=\u001b[0m \u001b[0mcreate_graph\u001b[0m\u001b[0;34m\u001b[0m\u001b[0;34m\u001b[0m\u001b[0m\n\u001b[1;32m    153\u001b[0m \u001b[0;34m\u001b[0m\u001b[0m\n\u001b[0;32m--> 154\u001b[0;31m     Variable._execution_engine.run_backward(\n\u001b[0m\u001b[1;32m    155\u001b[0m         \u001b[0mtensors\u001b[0m\u001b[0;34m,\u001b[0m \u001b[0mgrad_tensors_\u001b[0m\u001b[0;34m,\u001b[0m \u001b[0mretain_graph\u001b[0m\u001b[0;34m,\u001b[0m \u001b[0mcreate_graph\u001b[0m\u001b[0;34m,\u001b[0m \u001b[0minputs\u001b[0m\u001b[0;34m,\u001b[0m\u001b[0;34m\u001b[0m\u001b[0;34m\u001b[0m\u001b[0m\n\u001b[1;32m    156\u001b[0m         allow_unreachable=True, accumulate_grad=True)  # allow_unreachable flag\n",
      "\u001b[0;31mKeyboardInterrupt\u001b[0m: "
     ]
    }
   ],
   "source": [
    "loss_list = []\n",
    "iteration_list = []\n",
    "accuracy_list = []\n",
    "\n",
    "batch_size = 100\n",
    "\n",
    "for epoch in range(1000):\n",
    "#     permutation = torch.randperm(X_torch.size()[0])\n",
    "    permutation = torch.arange(X_torch.size()[0])\n",
    "    \n",
    "    print(\"epoch \", epoch)\n",
    "    total_loss = 0.0\n",
    "    for i in range(0,X_torch.size()[0], batch_size):\n",
    "        print(i)\n",
    "        optimizer.zero_grad()\n",
    "\n",
    "        indices = permutation[i:i+batch_size]\n",
    "        batch_x, batch_y = X_torch[indices], Y_torch[indices]\n",
    "\n",
    "        # in case you wanted a semi-full example\n",
    "        outputs = model.forward(batch_x)\n",
    "        batch_y.cuda()\n",
    "        loss = error(outputs,batch_y)\n",
    "\n",
    "        loss.backward()\n",
    "        optimizer.step()\n",
    "        \n",
    "        total_loss += loss.item()\n",
    "    print(\"total loss: \", total_loss)"
   ]
  },
  {
   "cell_type": "code",
   "execution_count": 93,
   "id": "10918455",
   "metadata": {},
   "outputs": [],
   "source": [
    "outputs = model.forward(X_torch)"
   ]
  },
  {
   "cell_type": "code",
   "execution_count": 94,
   "id": "3d1a4373",
   "metadata": {},
   "outputs": [
    {
     "data": {
      "text/plain": [
       "(tensor([ 0,  0,  0,  ..., 98, 98, 98]),\n",
       " tensor([ 1,  1,  1,  ..., 33, 33, 33]),\n",
       " tensor([23, 23, 23,  ..., 26, 26, 26]),\n",
       " tensor([12, 13, 14,  ..., 20, 21, 22]),\n",
       " tensor([0, 0, 0,  ..., 0, 0, 0]))"
      ]
     },
     "execution_count": 94,
     "metadata": {},
     "output_type": "execute_result"
    }
   ],
   "source": [
    "torch.where(Y_torch == 1.0)"
   ]
  },
  {
   "cell_type": "code",
   "execution_count": 95,
   "id": "3f164559",
   "metadata": {},
   "outputs": [
    {
     "data": {
      "text/plain": [
       "tensor(1.)"
      ]
     },
     "execution_count": 95,
     "metadata": {},
     "output_type": "execute_result"
    }
   ],
   "source": [
    "Y_torch[0,1,23,12,0]"
   ]
  },
  {
   "cell_type": "code",
   "execution_count": 96,
   "id": "a2876c36",
   "metadata": {},
   "outputs": [
    {
     "data": {
      "text/plain": [
       "tensor(0.0294, grad_fn=<SelectBackward0>)"
      ]
     },
     "execution_count": 96,
     "metadata": {},
     "output_type": "execute_result"
    }
   ],
   "source": [
    "outputs[0,1,23,12,0]"
   ]
  },
  {
   "cell_type": "code",
   "execution_count": 69,
   "id": "66e7d64a",
   "metadata": {},
   "outputs": [
    {
     "data": {
      "text/plain": [
       "torch.Size([20, 35, 35, 32, 1])"
      ]
     },
     "execution_count": 69,
     "metadata": {},
     "output_type": "execute_result"
    }
   ],
   "source": [
    "in_tensor = torch.ones(20, 1, 35, 35, 32)\n",
    "out_tensor = model(in_tensor)\n",
    "out_tensor.shape"
   ]
  },
  {
   "cell_type": "code",
   "execution_count": null,
   "id": "18b0346b",
   "metadata": {},
   "outputs": [],
   "source": []
  }
 ],
 "metadata": {
  "kernelspec": {
   "display_name": "Python 3 (ipykernel)",
   "language": "python",
   "name": "python3"
  },
  "language_info": {
   "codemirror_mode": {
    "name": "ipython",
    "version": 3
   },
   "file_extension": ".py",
   "mimetype": "text/x-python",
   "name": "python",
   "nbconvert_exporter": "python",
   "pygments_lexer": "ipython3",
   "version": "3.8.10"
  }
 },
 "nbformat": 4,
 "nbformat_minor": 5
}
