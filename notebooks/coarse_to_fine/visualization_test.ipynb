{
 "cells": [
  {
   "cell_type": "code",
   "execution_count": 1,
   "id": "5bb9d88c",
   "metadata": {},
   "outputs": [],
   "source": [
    "using PyCall\n",
    "import PoseComposition: Pose, IDENTITY_POSE, IDENTITY_ORN\n",
    "import Rotations as R\n",
    "\n",
    "function __init__()\n",
    "    global o3d = PyCall.pyimport(\"open3d\");\n",
    "    PyCall.py\"\"\"\n",
    "    import open3d as o3d\n",
    "    import numpy as np\n",
    "    \"\"\"\n",
    "end\n",
    "__init__()"
   ]
  },
  {
   "cell_type": "code",
   "execution_count": 3,
   "id": "c5b1ed0b",
   "metadata": {},
   "outputs": [
    {
     "data": {
      "text/plain": [
       "sync (generic function with 1 method)"
      ]
     },
     "execution_count": 3,
     "metadata": {},
     "output_type": "execute_result"
    }
   ],
   "source": [
    "function pose_to_transformation_matrix(pose::Pose)::Matrix\n",
    "    transform = zeros(4,4)\n",
    "    transform[1:3,1:3] .= Matrix(R.RotMatrix{3}(pose.orientation))\n",
    "    transform[1:3, 4] .= pose.pos\n",
    "    transform[4,4] = 1.\n",
    "    transform\n",
    "end\n",
    "\n",
    "function make_axes(size::Real=1.0)\n",
    "    return o3d.geometry.TriangleMesh.create_coordinate_frame(size=size)\n",
    "end\n",
    "\n",
    "function move_mesh_to_pose(m, pose::Pose)\n",
    "    m.transform(pose_to_transformation_matrix(pose))\n",
    "    m\n",
    "end\n",
    "\n",
    "function add(geometry; update=true)\n",
    "    vis.add_geometry(geometry)\n",
    "    if update \n",
    "        sync() \n",
    "    end\n",
    "end\n",
    "\n",
    "function sync()\n",
    "    vis.poll_events()\n",
    "    vis.update_renderer()\n",
    "end"
   ]
  },
  {
   "cell_type": "markdown",
   "id": "0d547342",
   "metadata": {},
   "source": [
    "### get data to visualize"
   ]
  },
  {
   "cell_type": "code",
   "execution_count": null,
   "id": "5a84e42c",
   "metadata": {},
   "outputs": [],
   "source": [
    "import JLD\n",
    "import PoseComposition: Pose, IDENTITY_POSE, IDENTITY_ORN\n",
    "import Rotations as R\n",
    "import StaticArrays"
   ]
  },
  {
   "cell_type": "code",
   "execution_count": 28,
   "id": "e2d3fce1",
   "metadata": {},
   "outputs": [
    {
     "data": {
      "text/plain": [
       "Dict{String, Any} with 4 entries:\n",
       "  \"gt_pose_ori\" => [-0.350653, 0.184601, -0.249942, 0.883456]\n",
       "  \"trace_info\"  => Tuple{Float64, StaticArrays.SVector{4, Float64}}[(-3293.3, […\n",
       "  \"gt_pose_pos\" => [0.0, 0.0, 5.0]\n",
       "  \"gt_obj_id\"   => 1"
      ]
     },
     "execution_count": 28,
     "metadata": {},
     "output_type": "execute_result"
    }
   ],
   "source": [
    "data = JLD.load(\"pf_traces.jld\")"
   ]
  },
  {
   "cell_type": "code",
   "execution_count": 31,
   "id": "bb2f0d44",
   "metadata": {},
   "outputs": [
    {
     "name": "stdout",
     "output_type": "stream",
     "text": [
      "gt_pose_ori = R.QuatRotation(data[\"gt_pose_ori\"]) = [-0.6859300732558756 0.5272925866063544 0.5014603301490256; -0.7118515197246732 -0.6291430970229324 -0.3121640231257706; 0.1508885299446667 -0.5710879893487288 0.8069021997446556]\n",
      "gt_pose = Pose(pos = data[\"gt_pose_pos\"], orientation = gt_pose_ori) = Pose⟨pos=[0.0, 0.0, 5.0], orientation=(w=-0.35065261636905254, x=0.1846014788824844, y=-0.24994238160438492, z=0.8834556256574894)⟩\n"
     ]
    },
    {
     "data": {
      "text/plain": [
       "15-element Vector{Tuple{Float64, QuatRotation{Float64}}}:\n",
       " (-3293.298472949294, [-0.6927053805835386 0.5233721255856485 0.4962266355916166; -0.7083795815724727 -0.6229856229474158 -0.33179403552810993; 0.13549031006615653 -0.5813523301413528 0.8022916203709198])\n",
       " (-3293.298472949294, [-0.6927053805835386 0.5233721255856485 0.4962266355916166; -0.7083795815724727 -0.6229856229474158 -0.33179403552810993; 0.13549031006615653 -0.5813523301413528 0.8022916203709198])\n",
       " (-3293.298472949294, [-0.6927053805835386 0.5233721255856485 0.4962266355916166; -0.7083795815724727 -0.6229856229474158 -0.33179403552810993; 0.13549031006615653 -0.5813523301413528 0.8022916203709198])\n",
       " (-3293.298472949294, [-0.6927053805835386 0.5233721255856485 0.4962266355916166; -0.7083795815724727 -0.6229856229474158 -0.33179403552810993; 0.13549031006615653 -0.5813523301413528 0.8022916203709198])\n",
       " (-3293.298472949294, [-0.6927053805835386 0.5233721255856485 0.4962266355916166; -0.7083795815724727 -0.6229856229474158 -0.33179403552810993; 0.13549031006615653 -0.5813523301413528 0.8022916203709198])\n",
       " (-3293.298472949294, [-0.6927053805835386 0.5233721255856485 0.4962266355916166; -0.7083795815724727 -0.6229856229474158 -0.33179403552810993; 0.13549031006615653 -0.5813523301413528 0.8022916203709198])\n",
       " (-3293.298472949294, [-0.6927053805835386 0.5233721255856485 0.4962266355916166; -0.7083795815724727 -0.6229856229474158 -0.33179403552810993; 0.13549031006615653 -0.5813523301413528 0.8022916203709198])\n",
       " (-3293.298472949294, [-0.6927053805835386 0.5233721255856485 0.4962266355916166; -0.7083795815724727 -0.6229856229474158 -0.33179403552810993; 0.13549031006615653 -0.5813523301413528 0.8022916203709198])\n",
       " (-3293.298472949294, [-0.6927053805835386 0.5233721255856485 0.4962266355916166; -0.7083795815724727 -0.6229856229474158 -0.33179403552810993; 0.13549031006615653 -0.5813523301413528 0.8022916203709198])\n",
       " (-3293.298472949294, [-0.6927053805835386 0.5233721255856485 0.4962266355916166; -0.7083795815724727 -0.6229856229474158 -0.33179403552810993; 0.13549031006615653 -0.5813523301413528 0.8022916203709198])\n",
       " (-3293.298472949294, [-0.6927053805835386 0.5233721255856485 0.4962266355916166; -0.7083795815724727 -0.6229856229474158 -0.33179403552810993; 0.13549031006615653 -0.5813523301413528 0.8022916203709198])\n",
       " (-3293.298472949294, [-0.6927053805835386 0.5233721255856485 0.4962266355916166; -0.7083795815724727 -0.6229856229474158 -0.33179403552810993; 0.13549031006615653 -0.5813523301413528 0.8022916203709198])\n",
       " (-3293.298472949294, [-0.6927053805835386 0.5233721255856485 0.4962266355916166; -0.7083795815724727 -0.6229856229474158 -0.33179403552810993; 0.13549031006615653 -0.5813523301413528 0.8022916203709198])\n",
       " (-3293.298472949294, [-0.6927053805835386 0.5233721255856485 0.4962266355916166; -0.7083795815724727 -0.6229856229474158 -0.33179403552810993; 0.13549031006615653 -0.5813523301413528 0.8022916203709198])\n",
       " (-3293.298472949294, [-0.6927053805835386 0.5233721255856485 0.4962266355916166; -0.7083795815724727 -0.6229856229474158 -0.33179403552810993; 0.13549031006615653 -0.5813523301413528 0.8022916203709198])"
      ]
     },
     "execution_count": 31,
     "metadata": {},
     "output_type": "execute_result"
    }
   ],
   "source": [
    "# process JLD\n",
    "\n",
    "gt_obj_id = data[\"gt_obj_id\"]\n",
    "@show gt_pose_ori = R.QuatRotation(data[\"gt_pose_ori\"])\n",
    "@show gt_pose = Pose(pos=data[\"gt_pose_pos\"], orientation=gt_pose_ori)\n",
    "traces = [(trace[1], R.QuatRotation(trace[2])) for trace in data[\"trace_info\"]]\n"
   ]
  },
  {
   "cell_type": "markdown",
   "id": "d3d55a4f",
   "metadata": {},
   "source": [
    "### Visualize with axes\n",
    "Size = (normalized) probability of particle "
   ]
  },
  {
   "cell_type": "code",
   "execution_count": 4,
   "id": "8c229c1f",
   "metadata": {},
   "outputs": [
    {
     "data": {
      "text/plain": [
       "true"
      ]
     },
     "execution_count": 4,
     "metadata": {},
     "output_type": "execute_result"
    }
   ],
   "source": [
    "vis = o3d.visualization.Visualizer()\n",
    "vis.create_window()"
   ]
  },
  {
   "cell_type": "code",
   "execution_count": 5,
   "id": "3094d615",
   "metadata": {},
   "outputs": [],
   "source": [
    "a1 = make_axes(1.0)\n",
    "a1 = move_mesh_to_pose(a1, IDENTITY_POSE)\n",
    "add(a1)"
   ]
  },
  {
   "cell_type": "code",
   "execution_count": 6,
   "id": "df8743bd",
   "metadata": {},
   "outputs": [],
   "source": [
    "a2 = make_axes(0.5)\n",
    "a2 = move_mesh_to_pose(a2, Pose(ones(3), R.RotXYZ(0.1, 0.4, -2.0)))\n",
    "add(a2)"
   ]
  },
  {
   "cell_type": "code",
   "execution_count": 7,
   "id": "a229965e",
   "metadata": {},
   "outputs": [],
   "source": [
    "a3 = make_axes(0.1)\n",
    "a3 = move_mesh_to_pose(a3, Pose(-2.0 * ones(3), R.RotXYZ(-1.1, 0.4, -1.0)))\n",
    "add(a3)"
   ]
  },
  {
   "cell_type": "code",
   "execution_count": null,
   "id": "978153e1",
   "metadata": {},
   "outputs": [],
   "source": []
  }
 ],
 "metadata": {
  "kernelspec": {
   "display_name": "Julia 1.7.2",
   "language": "julia",
   "name": "julia-1.7"
  },
  "language_info": {
   "file_extension": ".jl",
   "mimetype": "application/julia",
   "name": "julia",
   "version": "1.7.2"
  },
  "toc": {
   "base_numbering": 1,
   "nav_menu": {},
   "number_sections": true,
   "sideBar": true,
   "skip_h1_title": false,
   "title_cell": "Table of Contents",
   "title_sidebar": "Contents",
   "toc_cell": false,
   "toc_position": {},
   "toc_section_display": true,
   "toc_window_display": false
  },
  "varInspector": {
   "cols": {
    "lenName": 16,
    "lenType": 16,
    "lenVar": 40
   },
   "kernels_config": {
    "python": {
     "delete_cmd_postfix": "",
     "delete_cmd_prefix": "del ",
     "library": "var_list.py",
     "varRefreshCmd": "print(var_dic_list())"
    },
    "r": {
     "delete_cmd_postfix": ") ",
     "delete_cmd_prefix": "rm(",
     "library": "var_list.r",
     "varRefreshCmd": "cat(var_dic_list()) "
    }
   },
   "types_to_exclude": [
    "module",
    "function",
    "builtin_function_or_method",
    "instance",
    "_Feature"
   ],
   "window_display": false
  }
 },
 "nbformat": 4,
 "nbformat_minor": 5
}
