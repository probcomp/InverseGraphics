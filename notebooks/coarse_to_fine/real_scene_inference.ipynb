{
 "cells": [
  {
   "cell_type": "code",
   "execution_count": 57,
   "id": "2578a13f",
   "metadata": {},
   "outputs": [
    {
     "name": "stderr",
     "output_type": "stream",
     "text": [
      "\u001b[32m\u001b[1m  Activating\u001b[22m\u001b[39m project at `C:\\SY\\MIT\\UROP\\InverseGraphics\\InverseGraphics`\n"
     ]
    }
   ],
   "source": [
    "import Pkg\n",
    "Pkg.activate(\"../../\");"
   ]
  },
  {
   "cell_type": "code",
   "execution_count": 72,
   "id": "282f1623",
   "metadata": {},
   "outputs": [],
   "source": [
    "import Revise\n",
    "import GLRenderer as GL\n",
    "import Images as I\n",
    "import MiniGSG as S\n",
    "import Rotations as R\n",
    "import PoseComposition: Pose, IDENTITY_POSE, IDENTITY_ORN\n",
    "import InverseGraphics as T\n",
    "import NearestNeighbors\n",
    "import LightGraphs as LG\n",
    "import StaticArrays\n",
    "import ProgressMeter\n",
    "import GenDirectionalStats as GDS\n",
    "import Serialization\n",
    "using Distributions\n",
    "import Gen\n",
    "using Plots\n",
    "using ProgressMeter\n",
    "try\n",
    "    import MeshCatViz as V\n",
    "catch\n",
    "    import MeshCatViz as V    \n",
    "end"
   ]
  },
  {
   "cell_type": "code",
   "execution_count": 4,
   "id": "f4fb0045",
   "metadata": {},
   "outputs": [
    {
     "name": "stderr",
     "output_type": "stream",
     "text": [
      "┌ Info: MeshCat server started. You can open the visualizer by visiting the following URL in your browser:\n",
      "│ http://127.0.0.1:8718\n",
      "└ @ MeshCat C:\\Users\\karen\\.julia\\packages\\MeshCat\\Ax8pH\\src\\visualizer.jl:73\n"
     ]
    },
    {
     "data": {
      "text/plain": [
       "Process(`\u001b[4mcmd.exe\u001b[24m \u001b[4m/C\u001b[24m \u001b[4m'start http://127.0.0.1:8718'\u001b[24m`, ProcessExited(0))"
      ]
     },
     "execution_count": 4,
     "metadata": {},
     "output_type": "execute_result"
    }
   ],
   "source": [
    "# # Initialize the renderer\n",
    "V.setup_visualizer()"
   ]
  },
  {
   "cell_type": "markdown",
   "id": "1fb2024a",
   "metadata": {},
   "source": [
    "## Data loading / Camera setup"
   ]
  },
  {
   "cell_type": "code",
   "execution_count": 73,
   "id": "ed750894",
   "metadata": {},
   "outputs": [
    {
     "data": {
      "text/plain": [
       "5-element Vector{Int64}:\n",
       " 1\n",
       " 2\n",
       " 3\n",
       " 4\n",
       " 5"
      ]
     },
     "execution_count": 73,
     "metadata": {},
     "output_type": "execute_result"
    }
   ],
   "source": [
    "# Loading the YCB object models\n",
    "# YCB_DIR = joinpath(dirname(dirname(pwd())),\"data\")\n",
    "# world_scaling_factor = 10.0\n",
    "# id_to_cloud, id_to_shift, id_to_box  = T.load_ycbv_models_adjusted(YCB_DIR, world_scaling_factor);\n",
    "# all_ids = sort(collect(keys(id_to_cloud)));\n",
    "# names = T.load_ycb_model_list(YCB_DIR)\n",
    "\n",
    "mesh_names = [\"cube_triangulated.obj\",\n",
    "              \"sphere_triangulated.obj\",\n",
    "              \"cylinder_small_triangulated.obj\",\n",
    "              \"triangular_prism_triangulated.obj\",\n",
    "              \"crescent_triangulated.obj\",\n",
    "             ]\n",
    "all_ids = collect(1:length(mesh_names))\n"
   ]
  },
  {
   "cell_type": "code",
   "execution_count": 128,
   "id": "d736430a",
   "metadata": {},
   "outputs": [
    {
     "name": "stdout",
     "output_type": "stream",
     "text": [
      "gl_version_for_shaders = \"460\"\n",
      "true\n",
      "true\n"
     ]
    },
    {
     "name": "stderr",
     "output_type": "stream",
     "text": [
      "┌ Info: MeshCat server started. You can open the visualizer by visiting the following URL in your browser:\n",
      "│ http://127.0.0.1:8768\n",
      "└ @ MeshCat C:\\Users\\karen\\.julia\\packages\\MeshCat\\Ax8pH\\src\\visualizer.jl:73\n"
     ]
    }
   ],
   "source": [
    "# # Initialize the canera intrinsics and renderer that will render using those intrinsics.\n",
    "# camera = GL.CameraIntrinsics()\n",
    "# camera = T.scale_down_camera(camera, 5.5)\n",
    "\n",
    "# renderer = GL.setup_renderer(camera, GL.DepthMode())\n",
    "# resolution = 0.05\n",
    "\n",
    "# @show camera;\n",
    "\n",
    "\n",
    "V.setup_visualizer()\n",
    "camera_intrinsics = T.GL.CameraIntrinsics(\n",
    "\t640, 480,\n",
    "\t507.8159715323307,\n",
    "\t508.9675493512412,\n",
    "\t307.0591715498334,\n",
    "\t231.8315010235393,\n",
    "\t0.01,\n",
    "\t10000.0\n",
    ")\n",
    "\n",
    "renderer = GL.setup_renderer(camera_intrinsics, GL.RGBMode())#GL.DepthMode())\n",
    "\n",
    "# Reset the intrinsics inside of the renderer.\n",
    "GL.set_intrinsics!(renderer, camera_intrinsics) "
   ]
  },
  {
   "cell_type": "code",
   "execution_count": 129,
   "id": "7eca87fa",
   "metadata": {},
   "outputs": [
    {
     "name": "stderr",
     "output_type": "stream",
     "text": [
      "Excessive output truncated after 1044908 bytes."
     ]
    },
    {
     "name": "stdout",
     "output_type": "stream",
     "text": [
      "mesh = GeometryBasics.TriangleP{3, Float32, GeometryBasics.PointMeta{3, Float32, GeometryBasics.Point{3, Float32}, (:uv, :normals), Tuple{GeometryBasics.Vec{2, Float32}, GeometryBasics.Vec{3, Float32}}}}[Triangle(Float32[-5.8, 6.0, -5.9], Float32[5.8, 6.0, 5.9], Float32[5.8, 6.0, -5.9]), Triangle(Float32[5.8, 6.0, 5.9], Float32[-5.8, -6.0, 5.9], Float32[5.8, -6.0, 5.9]), Triangle(Float32[-5.8, 6.0, 5.9], Float32[-5.8, -6.0, -5.9], Float32[-5.8, -6.0, 5.9]), Triangle(Float32[5.8, -6.0, -5.9], Float32[-5.8, -6.0, 5.9], Float32[-5.8, -6.0, -5.9]), Triangle(Float32[5.8, 6.0, -5.9], Float32[5.8, -6.0, 5.9], Float32[5.8, -6.0, -5.9]), Triangle(Float32[-5.8, 6.0, -5.9], Float32[5.8, -6.0, -5.9], Float32[-5.8, -6.0, -5.9]), Triangle(Float32[-5.8, 6.0, -5.9], Float32[-5.8, 6.0, 5.9], Float32[5.8, 6.0, 5.9]), Triangle(Float32[5.8, 6.0, 5.9], Float32[-5.8, 6.0, 5.9], Float32[-5.8, -6.0, 5.9]), Triangle(Float32[-5.8, 6.0, 5.9], Float32[-5.8, 6.0, -5.9], Float32[-5.8, -6.0, -5.9]), Triangle(Float32[5.8, -6.0, -5.9], Float32[5.8, -6.0, 5.9], Float32[-5.8, -6.0, 5.9]), Triangle(Float32[5.8, 6.0, -5.9], Float32[5.8, 6.0, 5.9], Float32[5.8, -6.0, 5.9]), Triangle(Float32[-5.8, 6.0, -5.9], Float32[5.8, 6.0, -5.9], Float32[5.8, -6.0, -5.9])]\n"
     ]
    }
   ],
   "source": [
    "\n",
    "# # Load a cube (id = 1) and all ycb objects\n",
    "# # box_mesh = GL.box_mesh_from_dims([2.0, 2.0, 2.0])\n",
    "# # GL.load_object!(renderer, box_mesh)\n",
    "\n",
    "# for id in all_ids\n",
    "#     cloud = id_to_cloud[id]\n",
    "#     mesh = GL.mesh_from_voxelized_cloud(GL.voxelize(cloud, resolution), resolution);\n",
    "#     GL.load_object!(renderer, mesh)\n",
    "# end\n",
    "\n",
    "# @show length(all_ids)\n",
    "\n",
    "mesh_names = [\"cube_triangulated.obj\",\n",
    "              \"sphere_triangulated.obj\",\n",
    "              \"cylinder_small_triangulated.obj\",\n",
    "              \"triangular_prism_triangulated.obj\",\n",
    "              \"crescent_triangulated.obj\",\n",
    "             ]\n",
    "all_ids = collect(1:length(mesh_names))\n",
    "\n",
    "meshdir = joinpath(dirname(dirname(pathof(T))),\"notebooks/coarse_to_fine/shape_models\");\n",
    "meshes = [\n",
    "    T.GL.get_mesh_data_from_obj_file(joinpath(meshdir, m))\n",
    "    for m in mesh_names\n",
    "];\n"
   ]
  },
  {
   "cell_type": "code",
   "execution_count": 130,
   "id": "bca783d1",
   "metadata": {},
   "outputs": [],
   "source": [
    "# load meshes into renderer\n",
    "for id in all_ids\n",
    "    GL.load_object!(renderer, meshes[id])\n",
    "end\n",
    "\n"
   ]
  },
  {
   "cell_type": "code",
   "execution_count": 133,
   "id": "b93687f5",
   "metadata": {},
   "outputs": [
    {
     "data": {
      "image/png": "[encoded data removed]",
      "text/plain": [
       "480×640 Array{RGBA{Float64},2} with eltype RGBA{Float64}:\n",
       " RGBA{Float64}(0.3741,0.5564,1.0,1.0)  …  RGBA{Float64}(0.3741,0.5564,1.0,1.0)\n",
       " RGBA{Float64}(0.3741,0.5564,1.0,1.0)     RGBA{Float64}(0.3741,0.5564,1.0,1.0)\n",
       " RGBA{Float64}(0.3741,0.5564,1.0,1.0)     RGBA{Float64}(0.3741,0.5564,1.0,1.0)\n",
       " RGBA{Float64}(0.3741,0.5564,1.0,1.0)     RGBA{Float64}(0.3741,0.5564,1.0,1.0)\n",
       " RGBA{Float64}(0.3741,0.5564,1.0,1.0)     RGBA{Float64}(0.3741,0.5564,1.0,1.0)\n",
       " RGBA{Float64}(0.3741,0.5564,1.0,1.0)  …  RGBA{Float64}(0.3741,0.5564,1.0,1.0)\n",
       " RGBA{Float64}(0.3741,0.5564,1.0,1.0)     RGBA{Float64}(0.3741,0.5564,1.0,1.0)\n",
       " RGBA{Float64}(0.3741,0.5564,1.0,1.0)     RGBA{Float64}(0.3741,0.5564,1.0,1.0)\n",
       " RGBA{Float64}(0.3741,0.5564,1.0,1.0)     RGBA{Float64}(0.3741,0.5564,1.0,1.0)\n",
       " RGBA{Float64}(0.3741,0.5564,1.0,1.0)     RGBA{Float64}(0.3741,0.5564,1.0,1.0)\n",
       " RGBA{Float64}(0.3741,0.5564,1.0,1.0)  …  RGBA{Float64}(0.3741,0.5564,1.0,1.0)\n",
       " RGBA{Float64}(0.3741,0.5564,1.0,1.0)     RGBA{Float64}(0.3741,0.5564,1.0,1.0)\n",
       " RGBA{Float64}(0.3741,0.5564,1.0,1.0)     RGBA{Float64}(0.3741,0.5564,1.0,1.0)\n",
       " ⋮                                     ⋱  \n",
       " RGBA{Float64}(0.3741,0.5564,1.0,1.0)     RGBA{Float64}(0.3741,0.5564,1.0,1.0)\n",
       " RGBA{Float64}(0.3741,0.5564,1.0,1.0)     RGBA{Float64}(0.3741,0.5564,1.0,1.0)\n",
       " RGBA{Float64}(0.3741,0.5564,1.0,1.0)  …  RGBA{Float64}(0.3741,0.5564,1.0,1.0)\n",
       " RGBA{Float64}(0.3741,0.5564,1.0,1.0)     RGBA{Float64}(0.3741,0.5564,1.0,1.0)\n",
       " RGBA{Float64}(0.3741,0.5564,1.0,1.0)     RGBA{Float64}(0.3741,0.5564,1.0,1.0)\n",
       " RGBA{Float64}(0.3741,0.5564,1.0,1.0)     RGBA{Float64}(0.3741,0.5564,1.0,1.0)\n",
       " RGBA{Float64}(0.3741,0.5564,1.0,1.0)     RGBA{Float64}(0.3741,0.5564,1.0,1.0)\n",
       " RGBA{Float64}(0.3741,0.5564,1.0,1.0)  …  RGBA{Float64}(0.3741,0.5564,1.0,1.0)\n",
       " RGBA{Float64}(0.3741,0.5564,1.0,1.0)     RGBA{Float64}(0.3741,0.5564,1.0,1.0)\n",
       " RGBA{Float64}(0.3741,0.5564,1.0,1.0)     RGBA{Float64}(0.3741,0.5564,1.0,1.0)\n",
       " RGBA{Float64}(0.3741,0.5564,1.0,1.0)     RGBA{Float64}(0.3741,0.5564,1.0,1.0)\n",
       " RGBA{Float64}(0.3741,0.5564,1.0,1.0)     RGBA{Float64}(0.3741,0.5564,1.0,1.0)"
      ]
     },
     "metadata": {},
     "output_type": "display_data"
    },
    {
     "data": {
      "image/png": "[encoded data removed]",
      "text/plain": [
       "480×640 reinterpret(reshape, RGBA{Float32}, ::Array{Float32, 3}) with eltype RGBA{Float32}:\n",
       " RGBA{Float32}(1.0,1.0,1.0,1.0)  …  RGBA{Float32}(1.0,1.0,1.0,1.0)\n",
       " RGBA{Float32}(1.0,1.0,1.0,1.0)     RGBA{Float32}(1.0,1.0,1.0,1.0)\n",
       " RGBA{Float32}(1.0,1.0,1.0,1.0)     RGBA{Float32}(1.0,1.0,1.0,1.0)\n",
       " RGBA{Float32}(1.0,1.0,1.0,1.0)     RGBA{Float32}(1.0,1.0,1.0,1.0)\n",
       " RGBA{Float32}(1.0,1.0,1.0,1.0)     RGBA{Float32}(1.0,1.0,1.0,1.0)\n",
       " RGBA{Float32}(1.0,1.0,1.0,1.0)  …  RGBA{Float32}(1.0,1.0,1.0,1.0)\n",
       " RGBA{Float32}(1.0,1.0,1.0,1.0)     RGBA{Float32}(1.0,1.0,1.0,1.0)\n",
       " RGBA{Float32}(1.0,1.0,1.0,1.0)     RGBA{Float32}(1.0,1.0,1.0,1.0)\n",
       " RGBA{Float32}(1.0,1.0,1.0,1.0)     RGBA{Float32}(1.0,1.0,1.0,1.0)\n",
       " RGBA{Float32}(1.0,1.0,1.0,1.0)     RGBA{Float32}(1.0,1.0,1.0,1.0)\n",
       " RGBA{Float32}(1.0,1.0,1.0,1.0)  …  RGBA{Float32}(1.0,1.0,1.0,1.0)\n",
       " RGBA{Float32}(1.0,1.0,1.0,1.0)     RGBA{Float32}(1.0,1.0,1.0,1.0)\n",
       " RGBA{Float32}(1.0,1.0,1.0,1.0)     RGBA{Float32}(1.0,1.0,1.0,1.0)\n",
       " ⋮                               ⋱  \n",
       " RGBA{Float32}(1.0,1.0,1.0,1.0)     RGBA{Float32}(1.0,1.0,1.0,1.0)\n",
       " RGBA{Float32}(1.0,1.0,1.0,1.0)     RGBA{Float32}(1.0,1.0,1.0,1.0)\n",
       " RGBA{Float32}(1.0,1.0,1.0,1.0)  …  RGBA{Float32}(1.0,1.0,1.0,1.0)\n",
       " RGBA{Float32}(1.0,1.0,1.0,1.0)     RGBA{Float32}(1.0,1.0,1.0,1.0)\n",
       " RGBA{Float32}(1.0,1.0,1.0,1.0)     RGBA{Float32}(1.0,1.0,1.0,1.0)\n",
       " RGBA{Float32}(1.0,1.0,1.0,1.0)     RGBA{Float32}(1.0,1.0,1.0,1.0)\n",
       " RGBA{Float32}(1.0,1.0,1.0,1.0)     RGBA{Float32}(1.0,1.0,1.0,1.0)\n",
       " RGBA{Float32}(1.0,1.0,1.0,1.0)  …  RGBA{Float32}(1.0,1.0,1.0,1.0)\n",
       " RGBA{Float32}(1.0,1.0,1.0,1.0)     RGBA{Float32}(1.0,1.0,1.0,1.0)\n",
       " RGBA{Float32}(1.0,1.0,1.0,1.0)     RGBA{Float32}(1.0,1.0,1.0,1.0)\n",
       " RGBA{Float32}(1.0,1.0,1.0,1.0)     RGBA{Float32}(1.0,1.0,1.0,1.0)\n",
       " RGBA{Float32}(1.0,1.0,1.0,1.0)     RGBA{Float32}(1.0,1.0,1.0,1.0)"
      ]
     },
     "metadata": {},
     "output_type": "display_data"
    },
    {
     "ename": "LoadError",
     "evalue": "MethodError: no method matching depth_image_to_point_cloud(::Tuple{Array{Float32, 3}, Matrix{Float64}}, ::GLRenderer.CameraIntrinsics)\n\u001b[0mClosest candidates are:\n\u001b[0m  depth_image_to_point_cloud(\u001b[91m::Matrix\u001b[39m, ::GLRenderer.CameraIntrinsics; stride_x, stride_y, flatten, cut_far_plane) at C:\\Users\\karen\\.julia\\packages\\GLRenderer\\TkAsH\\src\\point_cloud.jl:1",
     "output_type": "error",
     "traceback": [
      "MethodError: no method matching depth_image_to_point_cloud(::Tuple{Array{Float32, 3}, Matrix{Float64}}, ::GLRenderer.CameraIntrinsics)\n\u001b[0mClosest candidates are:\n\u001b[0m  depth_image_to_point_cloud(\u001b[91m::Matrix\u001b[39m, ::GLRenderer.CameraIntrinsics; stride_x, stride_y, flatten, cut_far_plane) at C:\\Users\\karen\\.julia\\packages\\GLRenderer\\TkAsH\\src\\point_cloud.jl:1",
      "",
      "Stacktrace:",
      " [1] get_cloud_nocache(poses::Vector{Pose}, ids::Vector{Int64})",
      "   @ Main .\\In[15]:5",
      " [2] top-level scope",
      "   @ In[133]:18",
      " [3] eval",
      "   @ .\\boot.jl:373 [inlined]",
      " [4] include_string(mapexpr::typeof(REPL.softscope), mod::Module, code::String, filename::String)",
      "   @ Base .\\loading.jl:1196"
     ]
    }
   ],
   "source": [
    "# visualize an object\n",
    "\n",
    "bounds = (-100.0, 100.0, -100.0, 100.0, 0.0, 200.0)\n",
    "\n",
    "i = 1\n",
    "pose = Pose([0.0, 0.0, 3.0], R.RotXYZ(0.4, -0.2, 0.4))\n",
    "\n",
    "# ex) render img at identity pose\n",
    "rgb, gt_depth_image = GL.gl_render(renderer, [i], [pose], cam_pose)\n",
    "IJulia.display(GL.view_depth_image(gt_depth_image))\n",
    "IJulia.display(GL.view_rgb_image(rgb))\n",
    "\n",
    "\n",
    "# Create point cloud corresponding to that rendered depth image.\n",
    "gt_cloud = GL.depth_image_to_point_cloud(gt_depth_image, camera_intrinsics)\n",
    "# print(size(gt_cloud))\n",
    "\n",
    "gt_cloud2 = get_cloud_nocache([pose], [i])\n",
    "\n",
    "@show mesh_names[i]\n",
    "\n",
    "radius = 0.01  # \"tight\" radius\n",
    "sampled_cloud = T.voxelize(gt_cloud2, 1e-20)\n",
    "# Visualize that point cloud.\n",
    "# V.setup_visualizer()\n",
    "V.viz(gt_cloud ./ 10, color=I.colorant\"red\", channel_name=:new)  \n"
   ]
  },
  {
   "cell_type": "code",
   "execution_count": 10,
   "id": "e83e2746",
   "metadata": {},
   "outputs": [
    {
     "data": {
      "image/png": "[encoded data removed]",
      "text/plain": [
       "480×640 Array{RGBA{Float64},2} with eltype RGBA{Float64}:\n",
       " RGBA{Float64}(1.0,0.0475,0.0,1.0)  …  RGBA{Float64}(1.0,0.0475,0.0,1.0)\n",
       " RGBA{Float64}(1.0,0.0475,0.0,1.0)     RGBA{Float64}(1.0,0.0475,0.0,1.0)\n",
       " RGBA{Float64}(1.0,0.0475,0.0,1.0)     RGBA{Float64}(1.0,0.0475,0.0,1.0)\n",
       " RGBA{Float64}(1.0,0.0475,0.0,1.0)     RGBA{Float64}(1.0,0.0475,0.0,1.0)\n",
       " RGBA{Float64}(1.0,0.0475,0.0,1.0)     RGBA{Float64}(1.0,0.0475,0.0,1.0)\n",
       " RGBA{Float64}(1.0,0.0475,0.0,1.0)  …  RGBA{Float64}(1.0,0.0475,0.0,1.0)\n",
       " RGBA{Float64}(1.0,0.0475,0.0,1.0)     RGBA{Float64}(1.0,0.0475,0.0,1.0)\n",
       " RGBA{Float64}(1.0,0.0475,0.0,1.0)     RGBA{Float64}(1.0,0.0475,0.0,1.0)\n",
       " RGBA{Float64}(1.0,0.0475,0.0,1.0)     RGBA{Float64}(1.0,0.0475,0.0,1.0)\n",
       " RGBA{Float64}(1.0,0.0475,0.0,1.0)     RGBA{Float64}(1.0,0.0475,0.0,1.0)\n",
       " RGBA{Float64}(1.0,0.0475,0.0,1.0)  …  RGBA{Float64}(1.0,0.0475,0.0,1.0)\n",
       " RGBA{Float64}(1.0,0.0475,0.0,1.0)     RGBA{Float64}(1.0,0.0475,0.0,1.0)\n",
       " RGBA{Float64}(1.0,0.0475,0.0,1.0)     RGBA{Float64}(1.0,0.0475,0.0,1.0)\n",
       " ⋮                                  ⋱  \n",
       " RGBA{Float64}(1.0,0.0475,0.0,1.0)     RGBA{Float64}(1.0,0.0475,0.0,1.0)\n",
       " RGBA{Float64}(1.0,0.0475,0.0,1.0)     RGBA{Float64}(1.0,0.0475,0.0,1.0)\n",
       " RGBA{Float64}(1.0,0.0475,0.0,1.0)  …  RGBA{Float64}(1.0,0.0475,0.0,1.0)\n",
       " RGBA{Float64}(1.0,0.0475,0.0,1.0)     RGBA{Float64}(1.0,0.0475,0.0,1.0)\n",
       " RGBA{Float64}(1.0,0.0475,0.0,1.0)     RGBA{Float64}(1.0,0.0475,0.0,1.0)\n",
       " RGBA{Float64}(1.0,0.0475,0.0,1.0)     RGBA{Float64}(1.0,0.0475,0.0,1.0)\n",
       " RGBA{Float64}(1.0,0.0475,0.0,1.0)     RGBA{Float64}(1.0,0.0475,0.0,1.0)\n",
       " RGBA{Float64}(1.0,0.0475,0.0,1.0)  …  RGBA{Float64}(1.0,0.0475,0.0,1.0)\n",
       " RGBA{Float64}(1.0,0.0475,0.0,1.0)     RGBA{Float64}(1.0,0.0475,0.0,1.0)\n",
       " RGBA{Float64}(1.0,0.0475,0.0,1.0)     RGBA{Float64}(1.0,0.0475,0.0,1.0)\n",
       " RGBA{Float64}(1.0,0.0475,0.0,1.0)     RGBA{Float64}(1.0,0.0475,0.0,1.0)\n",
       " RGBA{Float64}(1.0,0.0475,0.0,1.0)     RGBA{Float64}(1.0,0.0475,0.0,1.0)"
      ]
     },
     "metadata": {},
     "output_type": "display_data"
    }
   ],
   "source": [
    "# load a test image (+ corresponding depth img)\n",
    "\n",
    "data_path = joinpath(dirname(dirname(pathof(T))),\"notebooks/coarse_to_fine/ibm_data\")\n",
    "IDX = 476\n",
    "rgb_image = T.load_rgb(joinpath(data_path, \"color_$(lpad(IDX,4,\"0\")).png\"));\n",
    "\n",
    "d = T.load_depth(joinpath(data_path, \"depth_$(lpad(IDX,4,\"0\")).png\"));\n",
    "d = d ./ 5.0;\n",
    "\n",
    "IJulia.display(GL.view_depth_image((d)))\n"
   ]
  },
  {
   "cell_type": "code",
   "execution_count": 11,
   "id": "fb2f379f",
   "metadata": {},
   "outputs": [
    {
     "data": {
      "text/plain": [
       "3×10038 Matrix{Float64}:\n",
       " -75.5554   -75.5792   -75.6031   -75.784    …   60.7315   60.7084   60.8625\n",
       " -39.7654   -39.8844   -40.0034   -39.7503      -51.6015  -51.7167  -51.4764\n",
       "   7.99456    7.69184    7.38912    6.91717      11.2037   10.9109   10.4519"
      ]
     },
     "execution_count": 11,
     "metadata": {},
     "output_type": "execute_result"
    }
   ],
   "source": [
    "# filter background / faraway \n",
    "c = T.GL.depth_image_to_point_cloud(d, camera_intrinsics);\n",
    "c = c[:,c[3,:] .> 1e-4]\n",
    "c = c[:, c[3,:] .< 200.1]\n",
    "\n",
    "best_eq, sub_cloud, _ = T.find_plane(c;threshold=0.01);\n",
    "cam_pose = T.camera_pose_from_table_eq(best_eq);\n",
    "c = T.move_points_to_frame_b(c, cam_pose);\n",
    "c = c[:, c[3,:] .> 1.0]\n"
   ]
  },
  {
   "cell_type": "code",
   "execution_count": 12,
   "id": "a82b95af",
   "metadata": {},
   "outputs": [
    {
     "name": "stdout",
     "output_type": "stream",
     "text": [
      "length(entities) = 5\n"
     ]
    },
    {
     "data": {
      "text/plain": [
       "5"
      ]
     },
     "execution_count": 12,
     "metadata": {},
     "output_type": "execute_result"
    }
   ],
   "source": [
    "## These are the clouds of entities to infer\n",
    "\n",
    "assign =T.dbscan_cluster(c; radius=1.0, min_cluster_size=50);\n",
    "entities = T.get_entities_from_assignment(c, assign)\n",
    "@show length(entities)\n",
    "# ENTITIES )left to right: \n",
    "# 1 = sphere\n",
    "# 2 = sphere\n",
    "# 3 = cube\n",
    "# 4 = cube\n",
    "# 5 = rect prism with hole in middle"
   ]
  },
  {
   "cell_type": "code",
   "execution_count": 123,
   "id": "3796fe55",
   "metadata": {},
   "outputs": [
    {
     "name": "stderr",
     "output_type": "stream",
     "text": [
      "┌ Info: MeshCat server started. You can open the visualizer by visiting the following URL in your browser:\n",
      "│ http://127.0.0.1:8758\n",
      "└ @ MeshCat C:\\Users\\karen\\.julia\\packages\\MeshCat\\Ax8pH\\src\\visualizer.jl:73\n"
     ]
    },
    {
     "data": {
      "text/plain": [
       "MeshCat Visualizer with path /meshcat/e at http://127.0.0.1:8758"
      ]
     },
     "execution_count": 123,
     "metadata": {},
     "output_type": "execute_result"
    }
   ],
   "source": [
    "# V.open_window()\n",
    "V.setup_visualizer()\n",
    "e = T.voxelize(entities[4], 0.00005)\n",
    "V.viz(c ./ 10;channel_name=:c, color=T.I.colorant\"red\")  # whole scene\n",
    "V.viz(entities[4] ./ 10;channel_name=:e, color=T.I.colorant\"blue\")   # entity\n",
    "\n",
    "# check position stuff; put some random obj at the spot of `e` (of same size)\n",
    "# centroid = T.centroid(e)\n",
    "# @show p_ = Pose(centroid...)\n",
    "\n",
    "# newcloud = T.voxelize(get_cloud_nocache([p_], [1]), 0.00005)\n",
    "# V.viz(newcloud ./ 10, color=I.colorant\"green\", channel_name=:centroid) \n"
   ]
  },
  {
   "cell_type": "markdown",
   "id": "9d56301b",
   "metadata": {},
   "source": [
    "# Demo: object pose estimation"
   ]
  },
  {
   "cell_type": "markdown",
   "id": "3652db75",
   "metadata": {},
   "source": [
    "### Cloud visualization / generation helpers"
   ]
  },
  {
   "cell_type": "code",
   "execution_count": 14,
   "id": "40f23381",
   "metadata": {},
   "outputs": [
    {
     "data": {
      "text/plain": [
       "viz_trace (generic function with 1 method)"
      ]
     },
     "execution_count": 14,
     "metadata": {},
     "output_type": "execute_result"
    }
   ],
   "source": [
    "function viz_trace(trace)\n",
    "    V.setup_visualizer()\n",
    "    V.viz(Gen.get_retval(trace).voxelized_cloud  ./ 10.0; color=I.colorant\"red\", channel_name=:gen);\n",
    "    V.viz(Gen.get_retval(trace).obs_cloud ./ 10.0; color=I.colorant\"blue\", channel_name=:obs);\n",
    "end"
   ]
  },
  {
   "cell_type": "code",
   "execution_count": 52,
   "id": "a0024a36",
   "metadata": {},
   "outputs": [
    {
     "data": {
      "text/plain": [
       "viz_trace2 (generic function with 4 methods)"
      ]
     },
     "execution_count": 52,
     "metadata": {},
     "output_type": "execute_result"
    }
   ],
   "source": [
    "# hacky viz for multiple objs\n",
    "function viz_trace2(trace, channel1::Symbol, channel2::Symbol)\n",
    "    V.viz(Gen.get_retval(trace).voxelized_cloud  ./ 10.0; color=I.colorant\"red\", channel_name=channel1);\n",
    "    V.viz(Gen.get_retval(trace).obs_cloud ./ 10.0; color=I.colorant\"blue\", channel_name=channel2);\n",
    "end\n"
   ]
  },
  {
   "cell_type": "code",
   "execution_count": 15,
   "id": "3329c5ef",
   "metadata": {},
   "outputs": [
    {
     "data": {
      "text/plain": [
       "get_cloud_nocache (generic function with 1 method)"
      ]
     },
     "execution_count": 15,
     "metadata": {},
     "output_type": "execute_result"
    }
   ],
   "source": [
    "# Helper function to get point cloud from the object ids, object poses, and camera pose\n",
    "# (see demo.jl)\n",
    "function get_cloud_nocache(poses, ids)\n",
    "    depth_image = GL.gl_render(renderer, ids, poses, cam_pose)\n",
    "    cloud = GL.depth_image_to_point_cloud(depth_image, renderer.camera_intrinsics)\n",
    "    if isnothing(cloud)\n",
    "        cloud = zeros(3,1)\n",
    "    else\n",
    "        cloud = T.move_points_to_frame_b(cloud, cam_pose)\n",
    "    end\n",
    "    cloud\n",
    "end"
   ]
  },
  {
   "cell_type": "markdown",
   "id": "3635f841",
   "metadata": {},
   "source": [
    "### Model helpers"
   ]
  },
  {
   "cell_type": "code",
   "execution_count": 16,
   "id": "2e2164c6",
   "metadata": {},
   "outputs": [
    {
     "data": {
      "text/plain": [
       "icp_move_no_unexplained (generic function with 1 method)"
      ]
     },
     "execution_count": 16,
     "metadata": {},
     "output_type": "execute_result"
    }
   ],
   "source": [
    "function icp_move_no_unexplained(trace, i, inf_radius, renderer, cam_pose; iterations=10)\n",
    "    # get_cloud_func needs to give the points in the world frame\n",
    "    get_cloud_func = (poses, ids, cam_pose) -> get_cloud_nocache([poses], [ids])  \n",
    "#     get_cloud_func = (pose, id, cam_pose) -> get_cloud_func_cached(pose, id);\n",
    "\n",
    "    id = Gen.get_choices(trace)[:id]  \n",
    "    addr = T.floating_pose_addr(1)\n",
    "    \n",
    "    obs_cloud = T.move_points_to_frame_b(T.get_obs_cloud(trace), cam_pose)\n",
    "    c1_tree = NearestNeighbors.KDTree(obs_cloud);\n",
    "\n",
    "    refined_pose = trace[addr]\n",
    "    \n",
    "    refined_pose = T.icp_object_pose(\n",
    "        refined_pose,\n",
    "        obs_cloud,\n",
    "        p -> T.voxelize(get_cloud_func(p, id, cam_pose), v_resolution(inf_radius)),\n",
    "        c1_tree=c1_tree,\n",
    "        iterations=iterations\n",
    "    );\n",
    "\n",
    "    acceptances = false\n",
    "     \n",
    "    for _ in 1:iterations\n",
    "        trace, acc = T.pose_mixture_move(\n",
    "            trace, addr, [trace[addr], refined_pose], [0.5, 0.5], 1e-2, 5000.0\n",
    "        )\n",
    "        acceptances = acc || acceptances\n",
    "    end\n",
    "    \n",
    "    trace, acceptances, refined_pose\n",
    "end"
   ]
  },
  {
   "cell_type": "code",
   "execution_count": 17,
   "id": "f1d1ec7a",
   "metadata": {},
   "outputs": [
    {
     "data": {
      "text/plain": [
       "generate_initial_pf_state"
      ]
     },
     "execution_count": 17,
     "metadata": {},
     "output_type": "execute_result"
    }
   ],
   "source": [
    "\"\"\"Selecting from a set of traces over all enumerated angles, generate a set of initial particles\"\"\"\n",
    "Gen.@gen function generate_initial_pf_state(scored_traces, num_particles, num_candidate_objs, U=Gen.DynamicDSLTrace{Gen.DynamicDSLFunction{Any}})\n",
    "    # unpack traces\n",
    "    traces = (t -> t[1]).(scored_traces)\n",
    "    log_weights = (t -> t[1].score).(scored_traces)# \n",
    "    \n",
    "     _, norm_log_weights = Gen.normalize_weights(log_weights)    \n",
    "    flush(stdout)\n",
    "    \n",
    "    # sample initial set of particles\n",
    "    num_particles_per_obj = num_particles ÷ num_candidate_objs\n",
    "    selected_traces = Vector{Gen.DynamicDSLTrace{Gen.DynamicDSLFunction{Any}}}(undef, num_particles_per_obj * num_candidate_objs)\n",
    "    selected_log_weights = Vector{Float64}(undef, num_particles_per_obj * num_candidate_objs)\n",
    "        \n",
    "    stepsize = length(scored_traces) ÷ num_candidate_objs\n",
    "    for i=0:num_candidate_objs-1\n",
    "        for j = 1:num_particles_per_obj\n",
    "            trace_idx = stepsize * i + \n",
    "                        Gen.random(Gen.categorical, \n",
    "                        exp.(Gen.normalize_weights(log_weights[stepsize*i+1:stepsize*(i+1)])[2]))   \n",
    "            selected_traces[num_particles_per_obj*i+j] = traces[trace_idx]\n",
    "            selected_log_weights[num_particles_per_obj*i+j] = norm_log_weights[trace_idx]\n",
    "        end        \n",
    "    end\n",
    "     \n",
    "    \n",
    "    println(\"Initial particle state computed ($num_particles_per_obj particles per object)\"); flush(stdout)\n",
    "\n",
    "    \n",
    "    # see intermediate results\n",
    "    top_n = min(10, num_particles-1)\n",
    "    _, norm_log_weights = Gen.normalize_weights(selected_log_weights)\n",
    "    p = sortperm(norm_log_weights)[end-top_n:end]; \n",
    "\n",
    "    best_trace = selected_traces[argmax(norm_log_weights)];\n",
    "\n",
    "    \n",
    "    if topnprint\n",
    "        println(\"top$top_n traces:\")\n",
    "        for idx in p\n",
    "           println(\"curr_weight=\", norm_log_weights[idx], \" ori=\", (Gen.get_retval(selected_traces[idx]).ori)[1:3], \"id=\", Gen.get_retval(selected_traces[idx]).id) \n",
    "        end\n",
    "        flush(stdout)\n",
    "    end\n",
    "    \n",
    "    return Gen.ParticleFilterState{U}(selected_traces, Vector{U}(undef, num_particles), selected_log_weights, 0., collect(1:num_particles))\n",
    "\n",
    "end"
   ]
  },
  {
   "cell_type": "markdown",
   "id": "1fa124d8",
   "metadata": {},
   "source": [
    "consider doing 20x random pose initialization+ICP moves"
   ]
  },
  {
   "cell_type": "code",
   "execution_count": 18,
   "id": "a4c88c75",
   "metadata": {},
   "outputs": [
    {
     "data": {
      "text/plain": [
       "particle_filter_step!"
      ]
     },
     "execution_count": 18,
     "metadata": {},
     "output_type": "execute_result"
    }
   ],
   "source": [
    "\"\"\"adapted from gen pf_step:\n",
    "Perform a particle filter update, where the model arguments are adjusted, new observations are added, and the default proposal is used for new latent state.\n",
    "\"\"\"\n",
    "function particle_filter_step!(state::Gen.ParticleFilterState{U}, new_args::Tuple, argdiffs::Tuple,\n",
    "        observations) where {U}    \n",
    "    log_incremental_weights = Vector{Float64}(undef, num_particles) \n",
    "    radius::Float64 = new_args[1]\n",
    "#     centroid::Vector{Float64} = new_args[end]\n",
    "    \n",
    "   @showprogress for i=1:num_particles\n",
    "    ## do mh, drift moves, etc. tune particle before update (i.e. new likelihood)\n",
    "        state.traces[i], acc, _ = icp_move_no_unexplained(state.traces[i], Gen.get_retval(state.traces[i]).id, \n",
    "                                            radius, renderer, cam_pose; iterations=15)\n",
    "\n",
    "        state.traces[i], acc = T.drift_move(state.traces[i], T.floating_pose_addr(1), 0.001, 10.0)\n",
    "        state.traces[i], acc = T.drift_move(state.traces[i], T.floating_pose_addr(1), 0.0005, 50.0) \n",
    "        state.traces[i], acc = T.drift_move(state.traces[i], T.floating_pose_addr(1), 0.1, 100.0)\n",
    "        state.traces[i], acc = T.drift_move(state.traces[i], T.floating_pose_addr(1), 0.5, 100.0)\n",
    "        state.traces[i], acc = T.drift_move(state.traces[i], T.floating_pose_addr(1), 0.5, 500.0)\n",
    "        state.traces[i], acc = T.drift_move(state.traces[i], T.floating_pose_addr(1), 1.0, 1000.0)\n",
    "        state.traces[i], acc = T.drift_move(state.traces[i], T.floating_pose_addr(1), 1.0, 1000.0)\n",
    "        \n",
    "        \n",
    "        # evolve the particle (with new radius involved in new_args)\n",
    "        (state.new_traces[i], increment, _, discard) = Gen.update(\n",
    "            state.traces[i], new_args, argdiffs, observations)\n",
    "#         if !isempty(discard)\n",
    "#             error(\"Choices were updated or deleted inside particle filter step: $discard\")\n",
    "#         end\n",
    "        log_incremental_weights[i] = increment\n",
    "        state.log_weights[i] += increment\n",
    "    end\n",
    "    \n",
    "    # swap references\n",
    "    tmp = state.traces\n",
    "    state.traces = state.new_traces\n",
    "    state.new_traces = tmp\n",
    "    \n",
    "    return log_incremental_weights\n",
    "end"
   ]
  },
  {
   "cell_type": "code",
   "execution_count": 19,
   "id": "31c8e92f",
   "metadata": {},
   "outputs": [
    {
     "data": {
      "text/plain": [
       "model"
      ]
     },
     "execution_count": 19,
     "metadata": {},
     "output_type": "execute_result"
    }
   ],
   "source": [
    "bounds = (-100.0, 100.0, -100.0, 100.0,-100.0,300.0)\n",
    "\n",
    "v_resolution = radius -> radius * 0.5  # distance between two points on the pointcloud \n",
    "\n",
    "\"\"\"sample point clouds at the given camera resolution and radius\"\"\"\n",
    "Gen.@gen function model(radius, renderer, centroid, num_candidate_objs)\n",
    "    \n",
    "    # sample object id\n",
    "    i = {:id} ~ Gen.categorical(fill(1.0/num_candidate_objs, (num_candidate_objs,)))\n",
    "    \n",
    "    # sample pose\n",
    "    xc, yc, zc = centroid\n",
    "    delta = 5.0\n",
    "    p = {T.floating_pose_addr(1)} ~ T.uniformPose(xc-delta, xc+delta, yc-delta, yc+delta, zc-delta, zc+delta)\n",
    "    gt_cloud = get_cloud_nocache([p], [i])    \n",
    "#     gt_cloud = get_cloud_func_cached(p, i);\n",
    "\n",
    "    voxelized_cloud = GL.voxelize(gt_cloud, v_resolution(radius))\n",
    "    obs_cloud = {T.obs_addr()} ~ T.uniform_mixture_from_template(voxelized_cloud, 0.0001, radius, bounds)\n",
    "         \n",
    "    (id=i, pose=p, pos=p.pos, ori=p.orientation, cloud=gt_cloud, voxelized_cloud=voxelized_cloud, rendered_clouds=[voxelized_cloud], obs_cloud=obs_cloud)\n",
    "\n",
    "end\n",
    " "
   ]
  },
  {
   "cell_type": "markdown",
   "id": "6b463d3c",
   "metadata": {},
   "source": [
    "### control resolution with radius (fixed camera intrinsics)"
   ]
  },
  {
   "cell_type": "code",
   "execution_count": 124,
   "id": "2f3ac3b7",
   "metadata": {},
   "outputs": [
    {
     "data": {
      "text/plain": [
       "particle_filter"
      ]
     },
     "execution_count": 124,
     "metadata": {},
     "output_type": "execute_result"
    }
   ],
   "source": [
    "\"\"\"Particle filter on the evolution of agent knowledge over time; resolution control with radius\"\"\"\n",
    "function particle_filter(renderer, init_radius::Float64, final_radius::Float64, radius_step::Float64, scored_traces,\n",
    "                        gt_obj_id::Int, centroid, num_candidate_objs::Int, num_particles::Int, num_samples::Int, U=Gen.DynamicDSLTrace{Gen.DynamicDSLFunction{Any}})\n",
    "\n",
    "#     # initialize renderer and particle filter\n",
    "#     GL.set_intrinsics!(renderer, camera)  \n",
    "#     gt_cloud = get_cloud_nocache([gt_pose], [gt_obj_id])\n",
    "# #     gt_cloud = get_cloud_func_cached(gt_pose, gt_obj_id)\n",
    "#     gt_voxelized_cloud = GL.voxelize(gt_cloud, v_resolution(init_radius))\n",
    "    \n",
    "    println(\"\\ninitializing particle filter at radius $init_radius\") \n",
    "    flush(stdout)\n",
    "    \n",
    "    \n",
    "    # initialize a state of initial particles with various rotations  \n",
    "#     state::Gen.ParticleFilterState{U} = generate_initial_pf_state_from_enum(scored_traces, num_particles)\n",
    "    state::Gen.ParticleFilterState{U} = generate_initial_pf_state(scored_traces, num_particles, num_candidate_objs)\n",
    "\n",
    "    \n",
    "    # evolve over resolutions (modify sphere radius `r` of mixture point cloud likelihood)\n",
    "    @assert(radius_step < 0.0); best_trace = Nothing\n",
    "    for radius in init_radius+radius_step:radius_step:final_radius-eps()\n",
    "        println(\"\\n========Radius=$radius========\"); flush(stdout)\n",
    "        Gen.maybe_resample!(state, ess_threshold=num_particles/3, verbose=true)  \n",
    "        \n",
    "        # update pf \n",
    "        gt_voxelized_cloud = GL.voxelize(gt_cloud, v_resolution(radius))\n",
    "        observations = Gen.choicemap(T.obs_addr() => gt_voxelized_cloud)#:id => gt_obj_id) \n",
    "        current_log_weights = particle_filter_step!(state, (radius, renderer, centroid, num_candidate_objs),   \n",
    "                                                    (Gen.UnknownChange(),), observations)    \n",
    "        \n",
    "        # see intermediate results\n",
    "        top_n = min(5, num_particles-1)\n",
    "        _, norm_log_weights = Gen.normalize_weights(current_log_weights)\n",
    "        p = sortperm(norm_log_weights)[end-top_n:end]; \n",
    "        \n",
    "        best_trace = state.traces[argmax(norm_log_weights)];\n",
    "        \n",
    "        \n",
    "        if topnprint\n",
    "            println(\"top$top_n traces:\")\n",
    "            for idx in p\n",
    "               println(\"weight=\", norm_log_weights[idx], \" ori=\", (Gen.get_retval(state.traces[idx]).ori)[1:3], \"  id=\", Gen.get_retval(state.traces[idx]).id) \n",
    "            end\n",
    "            flush(stdout)\n",
    "        end\n",
    "        \n",
    "    end;\n",
    "    \n",
    "    if vis\n",
    "        randomchannel1, randomchannel2 = rand(2)\n",
    "        viz_trace2(best_trace, Symbol(randomchannel1), Symbol(randomchannel2));\n",
    "    end\n",
    "    # normalize final weights\n",
    "    log_total_weight, norm_weights = Gen.normalize_weights(state.log_weights)\n",
    "    return [norm_weights, Gen.sample_unweighted_traces(state, num_samples)]\n",
    "    \n",
    "end"
   ]
  },
  {
   "cell_type": "code",
   "execution_count": 21,
   "id": "6d5d20bb",
   "metadata": {},
   "outputs": [
    {
     "data": {
      "text/plain": [
       "3×25 Matrix{Float64}:\n",
       " 0.0  -0.294691   0.0483264  0.402444  …  -0.453747   0.0877163   0.0\n",
       " 1.0   0.916667   0.833333   0.75         -0.833333  -0.916667   -1.0\n",
       " 0.0   0.269961  -0.550654   0.524918      0.315705  -0.389908    0.0"
      ]
     },
     "execution_count": 21,
     "metadata": {},
     "output_type": "execute_result"
    }
   ],
   "source": [
    "unit_sphere_directions = T.fibonacci_sphere(25);\n",
    "other_rotation_angle = collect(0:0.30:(2*π));\n",
    "rotations_to_enumerate_over = [\n",
    "    let\n",
    "        T.geodesicHopf_select_axis(StaticArrays.SVector(dir...), ang, 1)\n",
    "    end\n",
    "    for dir in unit_sphere_directions, \n",
    "        ang in other_rotation_angle\n",
    "];\n",
    "# @show length(rotations_to_enumerate_over)\n",
    "dirs = hcat(unit_sphere_directions...)"
   ]
  },
  {
   "cell_type": "code",
   "execution_count": 40,
   "id": "87503201",
   "metadata": {},
   "outputs": [
    {
     "data": {
      "text/plain": [
       "precompute_enumerations_icp (generic function with 1 method)"
      ]
     },
     "execution_count": 40,
     "metadata": {},
     "output_type": "execute_result"
    }
   ],
   "source": [
    "function precompute_enumerations(gt_voxelized_cloud, gt_position, init_radius, renderer, num_candidate_objs, rotations_to_enumerate_over)\n",
    "    # initialize a state of initial particles with various rotations\n",
    "    all_scored_traces = []\n",
    "    x, y, z = gt_position\n",
    "    @showprogress for id=1:num_candidate_objs\n",
    "#         scored_traces = map(orn -> \n",
    "#                         Gen.generate(model, (init_radius, renderer, gt_position),                 \n",
    "#                                     Gen.choicemap(T.obs_addr() => gt_voxelized_cloud, \n",
    "#                                                 :id => obj_id, \n",
    "#                                                 T.floating_pose_addr(1) => Pose(gt_position, orn))),\n",
    "#                                     rotations_to_enumerate_over[:]);\n",
    "        scored_traces = map(orn -> \n",
    "                Gen.generate(model, (init_radius, renderer, gt_position),                 \n",
    "                            Gen.choicemap(T.obs_addr() => gt_voxelized_cloud, \n",
    "                                        :id => id, \n",
    "                                        T.floating_pose_addr(1) => Pose(gt_position, orn))),\n",
    "                            rotations_to_enumerate_over[:]);\n",
    "    \n",
    "        all_scored_traces = vcat(all_scored_traces, scored_traces)\n",
    "    end\n",
    "    return all_scored_traces\n",
    "    \n",
    "end  \n",
    "\n",
    "function precompute_enumerations_icp(gt_voxelized_cloud, gt_position, init_radius, renderer, num_candidate_objs)\n",
    "#     pose_hypotheses = []\n",
    "#     latent_clouds = []\n",
    "#     likelihood_scores = []\n",
    "#     ids = []\n",
    "    c1_tree = NearestNeighbors.KDTree(gt_voxelized_cloud);\n",
    "\n",
    "    function sample_and_refine(id, init_pose)\n",
    "        # Run ICP to refine that initial pose. (Use the KDTree to accelerate this.)\n",
    "        refined_pose = T.icp_object_pose(\n",
    "                init_pose, \n",
    "                gt_voxelized_cloud,\n",
    "                p ->  get_cloud_nocache([p], [id]);\n",
    "                c1_tree=c1_tree,\n",
    "                outer_iterations=4,\n",
    "                iterations=5\n",
    "        );\n",
    "        tr, _ = Gen.generate(model, (init_radius, renderer, gt_position, num_candidate_objs),                 \n",
    "                    Gen.choicemap(T.obs_addr() => gt_voxelized_cloud, \n",
    "                                :id => id, \n",
    "                                T.floating_pose_addr(1) => refined_pose))\n",
    "        tr_score = Gen.logpdf(\n",
    "                T.uniform_mixture_from_template,\n",
    "                gt_voxelized_cloud,\n",
    "                get_cloud_nocache([refined_pose], [id]),\n",
    "                0.05,\n",
    "                0.01,\n",
    "                (-100.0,100.0,-100.0,100.0,-100.0,300.0)\n",
    "        )\n",
    "        tr.score = tr_score\n",
    "        \n",
    "        return tr, tr_score    \n",
    "    end\n",
    "    \n",
    "    all_scored_traces = []\n",
    "    @showprogress for id=1:num_candidate_objs\n",
    "        for i=1:10\n",
    "            scored_traces = sample_and_refine(id, Pose(centroid, GDS.uniform_rot3()))    \n",
    "            all_scored_traces = vcat(all_scored_traces, scored_traces)\n",
    "        end\n",
    "    end\n",
    "    return all_scored_traces  \n",
    "end"
   ]
  },
  {
   "cell_type": "code",
   "execution_count": 54,
   "id": "7dbd3b8b",
   "metadata": {},
   "outputs": [
    {
     "name": "stdout",
     "output_type": "stream",
     "text": [
      "num_samples = num_particles = 6\n"
     ]
    },
    {
     "data": {
      "text/plain": [
       "(true, true)"
      ]
     },
     "execution_count": 54,
     "metadata": {},
     "output_type": "execute_result"
    }
   ],
   "source": [
    "final_radius = float(0.6)  # low to high \"focus\"\n",
    "init_radius = float(1.5)  # high num = faster enum\n",
    "\n",
    "num_particles_per_obj = 2\n",
    "num_candidate_objs = 3#length(mesh_names)\n",
    "num_particles = num_particles_per_obj * num_candidate_objs\n",
    "@show num_samples = num_particles\n",
    "num_steps = 1\n",
    "radius_step = (final_radius - init_radius)/num_steps\n",
    "\n",
    "topnprint, vis = true, true  # print top particles / meshcat viz\n",
    "\n"
   ]
  },
  {
   "cell_type": "markdown",
   "id": "2576307c",
   "metadata": {},
   "source": [
    "### single object trial"
   ]
  },
  {
   "cell_type": "code",
   "execution_count": 105,
   "id": "9248a4aa",
   "metadata": {},
   "outputs": [
    {
     "name": "stderr",
     "output_type": "stream",
     "text": [
      "┌ Info: MeshCat server started. You can open the visualizer by visiting the following URL in your browser:\n",
      "│ http://127.0.0.1:8746\n",
      "└ @ MeshCat C:\\Users\\karen\\.julia\\packages\\MeshCat\\Ax8pH\\src\\visualizer.jl:73\n",
      "\u001b[32mProgress: 100%|█████████████████████████████████████████| Time: 0:00:10\u001b[39m\n"
     ]
    },
    {
     "name": "stdout",
     "output_type": "stream",
     "text": [
      "object = mesh_names[gt_obj_id] = \"sphere_triangulated.obj\"\n",
      "centroid = T.centroid(GL.voxelize(gt_cloud, v_resolution(1.0e-10))) = [-68.67828108193599, -39.79812584676757, 7.565887590904762]\n",
      " 10.642866 seconds (2.24 M allocations: 7.818 GiB, 17.59% gc time)\n",
      "\n",
      "initializing particle filter at radius 1.5\n",
      "Initial particle state computed (2 particles per object)\n",
      "top5 traces:\n",
      "curr_weight=-1.791759469228055 ori=[0.9125221647725824, -0.2528277050037286, -0.3215298592375306]id=1\n",
      "curr_weight=-1.791759469228055 ori=[-0.3690654471237675, 0.4663491073190736, 0.8039335829793638]id=1\n",
      "curr_weight=-1.791759469228055 ori=[-0.3987836125496746, 0.6417144049149704, 0.6551139235937904]id=2\n",
      "curr_weight=-1.791759469228055 ori=[0.552153313197912, -0.4254202774673594, -0.7170385667759889]id=2\n",
      "curr_weight=-1.791759469228055 ori=[0.3855877637247468, 0.6663501803852052, -0.6382002143264729]id=3\n",
      "curr_weight=-1.791759469228055 ori=[-0.8978937685113687, 0.3824468725578658, -0.2179935093968569]id=3\n",
      "\n",
      "========Radius=0.6========\n"
     ]
    },
    {
     "name": "stderr",
     "output_type": "stream",
     "text": [
      "\u001b[32mProgress: 100%|█████████████████████████████████████████| Time: 0:00:07\u001b[39m\n"
     ]
    },
    {
     "name": "stdout",
     "output_type": "stream",
     "text": [
      "effective sample size: 6.0, doing resample: false\n",
      "top5 traces:\n",
      "weight=-7835.328593227159 ori=[0.9122881632685479, -0.3584846401338441, -0.19803805176835923]  id=1\n",
      "weight=-6870.878452135637 ori=[-0.9485731106659936, 0.01490752376906059, -0.3162069250609747]  id=1\n",
      "weight=-6245.19748383982 ori=[0.49008715659636437, 0.6106875559462196, -0.6219929967063347]  id=3\n",
      "weight=-6098.245189270749 ori=[0.2261355578666351, -0.11279441669621323, -0.9675433473651236]  id=2\n",
      "weight=-4415.33789404153 ori=[-0.8979349211679092, 0.3601410679682799, -0.2530045227063087]  id=3\n",
      "weight=0.0 ori=[-0.43585512619346806, 0.8931435277003444, 0.11101778189937442]  id=2\n"
     ]
    },
    {
     "name": "stderr",
     "output_type": "stream",
     "text": [
      "\u001b[32mProgress: 100%|█████████████████████████████████████████| Time: 0:00:09\u001b[39m\n"
     ]
    },
    {
     "name": "stdout",
     "output_type": "stream",
     "text": [
      "  7.909526 seconds (748.84 k allocations: 6.302 GiB, 18.54% gc time)\n",
      "object = mesh_names[gt_obj_id] = \"sphere_triangulated.obj\"\n",
      "centroid = T.centroid(GL.voxelize(gt_cloud, v_resolution(1.0e-10))) = [-33.64302452178544, -54.89634407826161, 7.9465414932450935]\n",
      "  9.587790 seconds (2.53 M allocations: 7.858 GiB, 17.27% gc time)\n",
      "\n",
      "initializing particle filter at radius 1.5\n",
      "Initial particle state computed (2 particles per object)\n",
      "top5 traces:\n",
      "curr_weight=-1.791759469228055 ori=[-0.2911272884153947, 0.830173032427486, 0.47545519049648577]id=1\n",
      "curr_weight=-1.791759469228055 ori=[-0.5222947850284696, -0.34903659021941436, 0.7780627328307599]id=1\n",
      "curr_weight=-1.791759469228055 ori=[-0.6487544798015784, -0.49401950871439837, 0.578845704784073]id=2\n",
      "curr_weight=-1.791759469228055 ori=[0.31818443895135406, 0.5302397863676802, 0.7858781278047952]id=2\n",
      "curr_weight=-1.791759469228055 ori=[0.14912574177336832, 0.5363158641448995, -0.8307387116338377]id=3\n",
      "curr_weight=-1.791759469228055 ori=[0.14912574177336832, 0.5363158641448995, -0.8307387116338377]id=3\n",
      "\n",
      "========Radius=0.6========\n"
     ]
    },
    {
     "name": "stderr",
     "output_type": "stream",
     "text": [
      "\u001b[32mProgress: 100%|█████████████████████████████████████████| Time: 0:00:08\u001b[39m\n"
     ]
    },
    {
     "name": "stdout",
     "output_type": "stream",
     "text": [
      "effective sample size: 6.0, doing resample: false\n",
      "top5 traces:\n",
      "weight=-7865.1802678487875 ori=[-0.6056878272405664, -0.4833297573586342, 0.6320874951968654]  id=1\n",
      "weight=-7422.461428849458 ori=[0.08410940606584465, 0.7764872521298475, 0.624494319502657]  id=1\n",
      "weight=-3628.7200264400726 ori=[0.1621375917997903, 0.5153894709316318, -0.8414779228109157]  id=3\n",
      "weight=-3257.444067898361 ori=[0.1042554570458101, 0.4821001090683339, -0.8698909612775994]  id=3\n",
      "weight=-354.2816497454223 ori=[0.20209242407588446, 0.7645506246588821, 0.6120629007421119]  id=2\n",
      "weight=0.0 ori=[-0.6065325298990136, -0.2298432138021575, 0.7611112844015651]  id=2\n"
     ]
    },
    {
     "name": "stderr",
     "output_type": "stream",
     "text": [
      "\u001b[32mProgress: 100%|█████████████████████████████████████████| Time: 0:00:09\u001b[39m\n"
     ]
    },
    {
     "name": "stdout",
     "output_type": "stream",
     "text": [
      "  8.276442 seconds (780.21 k allocations: 6.307 GiB, 18.25% gc time)\n",
      "object = mesh_names[gt_obj_id] = \"cube_triangulated.obj\"\n",
      "centroid = T.centroid(GL.voxelize(gt_cloud, v_resolution(1.0e-10))) = [-10.153006743115485, -35.70291998347662, 7.326533120299944]\n",
      "  9.554947 seconds (2.00 M allocations: 7.783 GiB, 17.52% gc time)\n",
      "\n",
      "initializing particle filter at radius 1.5\n",
      "Initial particle state computed (2 particles per object)\n",
      "top5 traces:\n",
      "curr_weight=-1.791759469228055 ori=[0.3463026048186974, -0.9313681282802349, -0.11237399841402952]id=1\n",
      "curr_weight=-1.791759469228055 ori=[0.8952200759818542, 0.4384195385908464, 0.07980804308359153]id=1\n",
      "curr_weight=-1.791759469228055 ori=[0.668815727735729, -0.7431808254512318, 0.019177669695547038]id=2\n",
      "curr_weight=-1.791759469228055 ori=[-0.04553720608908758, 0.770929995923901, 0.6352899371518297]id=2\n",
      "curr_weight=-1.791759469228055 ori=[-0.631748300040241, -0.4590899572762512, 0.6246042719389253]id=3\n",
      "curr_weight=-1.791759469228055 ori=[-0.10588844651971863, -0.9937810217664612, -0.034451671518861054]id=3\n",
      "\n",
      "========Radius=0.6========\n"
     ]
    },
    {
     "name": "stderr",
     "output_type": "stream",
     "text": [
      "\u001b[32mProgress: 100%|█████████████████████████████████████████| Time: 0:00:08\u001b[39m\n"
     ]
    },
    {
     "name": "stdout",
     "output_type": "stream",
     "text": [
      "effective sample size: 6.0, doing resample: false\n",
      "top5 traces:\n",
      "weight=-12077.594047727402 ori=[-0.1156007494397604, 0.9594805311878745, 0.2569699924123482]  id=2\n",
      "weight=-11968.601462117076 ori=[0.6703680166541423, -0.7408137367131715, -0.042446787207722686]  id=2\n",
      "weight=-8181.851585188098 ori=[-0.05971646466051291, -0.9980696036640955, -0.01705901785681897]  id=3\n",
      "weight=-8096.606674640592 ori=[-0.6488268810058605, -0.39385459670808404, 0.651077748917992]  id=3\n",
      "weight=-3660.094419237703 ori=[0.3778737386698914, -0.9236482305308359, -0.06391700760278052]  id=1\n",
      "weight=0.0 ori=[0.9005597671773604, 0.434639719397924, -0.008967723409656994]  id=1\n"
     ]
    },
    {
     "name": "stderr",
     "output_type": "stream",
     "text": [
      "\u001b[32mProgress: 100%|█████████████████████████████████████████| Time: 0:00:09\u001b[39m\n"
     ]
    },
    {
     "name": "stdout",
     "output_type": "stream",
     "text": [
      "  8.166915 seconds (702.37 k allocations: 6.296 GiB, 18.57% gc time)\n",
      "object = mesh_names[gt_obj_id] = \"cube_triangulated.obj\"\n",
      "centroid = T.centroid(GL.voxelize(gt_cloud, v_resolution(1.0e-10))) = [13.43116204742328, -22.119554456378808, 7.139353152772268]\n",
      "  9.560514 seconds (1.68 M allocations: 7.735 GiB, 16.68% gc time)\n",
      "\n",
      "initializing particle filter at radius 1.5\n",
      "Initial particle state computed (2 particles per object)\n",
      "top5 traces:\n",
      "curr_weight=-1.791759469228055 ori=[0.814518683706415, 0.5742246484153382, 0.08261577963955481]id=1\n",
      "curr_weight=-1.791759469228055 ori=[-0.304842302094998, 0.18781425971837978, -0.9337006879615397]id=1\n",
      "curr_weight=-1.791759469228055 ori=[0.8007608391514037, 0.46586237885503085, 0.3765027522463479]id=2\n",
      "curr_weight=-1.791759469228055 ori=[-0.37220977657103854, 0.9153699198187094, -0.15348547851840144]id=2\n",
      "curr_weight=-1.791759469228055 ori=[-0.1018994409156189, -0.9946792118861163, -0.01515814575403036]id=3\n",
      "curr_weight=-1.791759469228055 ori=[-0.1018994409156189, -0.9946792118861163, -0.01515814575403036]id=3\n",
      "\n",
      "========Radius=0.6========\n"
     ]
    },
    {
     "name": "stderr",
     "output_type": "stream",
     "text": [
      "\u001b[32mProgress: 100%|█████████████████████████████████████████| Time: 0:00:07\u001b[39m\n"
     ]
    },
    {
     "name": "stdout",
     "output_type": "stream",
     "text": [
      "effective sample size: 6.0, doing resample: false\n",
      "top5 traces:\n",
      "weight=-1387.3107773808515 ori=[0.036158532813291594, -0.9951600019701246, 0.09137357924265686]  id=3\n",
      "weight=-1118.4992903523525 ori=[-0.17490236737416134, 0.9098649577481746, -0.376237851031527]  id=2\n",
      "weight=-1102.0684280969745 ori=[0.7736832729312388, 0.6202693033326898, 0.12915178872005278]  id=1\n",
      "weight=-656.938355781349 ori=[0.8062541016019402, 0.4456712399831164, 0.3890134567106427]  id=2\n",
      "weight=-232.0135890315596 ori=[-0.003838555990274614, -0.9935191537243829, -0.11359998534638116]  id=3\n",
      "weight=0.0 ori=[-0.37129085611023266, 0.16400789330788382, -0.9139171248541267]  id=1\n",
      "  7.917232 seconds (636.09 k allocations: 6.285 GiB, 17.96% gc time)\n"
     ]
    }
   ],
   "source": [
    "# mesh_names = [\"cube_triangulated.obj\",\n",
    "#               \"sphere_triangulated.obj\",\n",
    "#               \"cylinder_small_triangulated.obj\",\n",
    "#               \"triangular_prism_triangulated.obj\",\n",
    "#               \"crescent_triangulated.obj\",\n",
    "#              ]\n",
    "# ENTITIES )left to right: \n",
    "# 1 = sphere\n",
    "# 2 = sphere\n",
    "# 3 = cube\n",
    "# 4 = cube\n",
    "# 5 = rect prism with hole in middle\n",
    "\n",
    "predicted_scene = Dict()\n",
    "V.setup_visualizer()\n",
    "for (ii, jj) in [(2, 1), (2, 2), (1, 3), (1, 4)]\n",
    "    gt_obj_id, gt_cloud = ii, entities[jj]   # (2, 1), (2, 2), (1, 3), (1, 4), (?, 5)\n",
    "    @show object = mesh_names[gt_obj_id]\n",
    "\n",
    "    gt_voxelized_cloud = GL.voxelize(gt_cloud, v_resolution(init_radius))\n",
    "    # V.setup_visualizer()\n",
    "    # V.viz(gt_voxelized_cloud ./ 10)\n",
    "\n",
    "    # get centroid (at a finer resolution)\n",
    "    @show centroid = T.centroid(GL.voxelize(gt_cloud, v_resolution(1e-10)))\n",
    "\n",
    "    @time enum_ori_traces = precompute_enumerations_icp(gt_voxelized_cloud, centroid, init_radius, renderer, \n",
    "        num_candidate_objs);\n",
    "\n",
    "    @time weights, pf_traces = particle_filter(renderer, init_radius, final_radius, radius_step,\n",
    "                                    enum_ori_traces, gt_obj_id, centroid, num_candidate_objs, num_particles, num_samples);\n",
    "    \n",
    "    predicted_scene[jj] = pf_traces[argmax(weights)]  # save best trace\n",
    "end\n",
    "\n"
   ]
  },
  {
   "cell_type": "code",
   "execution_count": 144,
   "id": "aaa6dd25",
   "metadata": {},
   "outputs": [
    {
     "data": {
      "image/png": "[encoded data removed]",
      "text/plain": [
       "480×640 reinterpret(reshape, RGBA{Float32}, ::Array{Float32, 3}) with eltype RGBA{Float32}:\n",
       " RGBA{Float32}(1.0,1.0,1.0,1.0)  …  RGBA{Float32}(1.0,1.0,1.0,1.0)\n",
       " RGBA{Float32}(1.0,1.0,1.0,1.0)     RGBA{Float32}(1.0,1.0,1.0,1.0)\n",
       " RGBA{Float32}(1.0,1.0,1.0,1.0)     RGBA{Float32}(1.0,1.0,1.0,1.0)\n",
       " RGBA{Float32}(1.0,1.0,1.0,1.0)     RGBA{Float32}(1.0,1.0,1.0,1.0)\n",
       " RGBA{Float32}(1.0,1.0,1.0,1.0)     RGBA{Float32}(1.0,1.0,1.0,1.0)\n",
       " RGBA{Float32}(1.0,1.0,1.0,1.0)  …  RGBA{Float32}(1.0,1.0,1.0,1.0)\n",
       " RGBA{Float32}(1.0,1.0,1.0,1.0)     RGBA{Float32}(1.0,1.0,1.0,1.0)\n",
       " RGBA{Float32}(1.0,1.0,1.0,1.0)     RGBA{Float32}(1.0,1.0,1.0,1.0)\n",
       " RGBA{Float32}(1.0,1.0,1.0,1.0)     RGBA{Float32}(1.0,1.0,1.0,1.0)\n",
       " RGBA{Float32}(1.0,1.0,1.0,1.0)     RGBA{Float32}(1.0,1.0,1.0,1.0)\n",
       " RGBA{Float32}(1.0,1.0,1.0,1.0)  …  RGBA{Float32}(1.0,1.0,1.0,1.0)\n",
       " RGBA{Float32}(1.0,1.0,1.0,1.0)     RGBA{Float32}(1.0,1.0,1.0,1.0)\n",
       " RGBA{Float32}(1.0,1.0,1.0,1.0)     RGBA{Float32}(1.0,1.0,1.0,1.0)\n",
       " ⋮                               ⋱  \n",
       " RGBA{Float32}(1.0,1.0,1.0,1.0)     RGBA{Float32}(1.0,1.0,1.0,1.0)\n",
       " RGBA{Float32}(1.0,1.0,1.0,1.0)     RGBA{Float32}(1.0,1.0,1.0,1.0)\n",
       " RGBA{Float32}(1.0,1.0,1.0,1.0)  …  RGBA{Float32}(1.0,1.0,1.0,1.0)\n",
       " RGBA{Float32}(1.0,1.0,1.0,1.0)     RGBA{Float32}(1.0,1.0,1.0,1.0)\n",
       " RGBA{Float32}(1.0,1.0,1.0,1.0)     RGBA{Float32}(1.0,1.0,1.0,1.0)\n",
       " RGBA{Float32}(1.0,1.0,1.0,1.0)     RGBA{Float32}(1.0,1.0,1.0,1.0)\n",
       " RGBA{Float32}(1.0,1.0,1.0,1.0)     RGBA{Float32}(1.0,1.0,1.0,1.0)\n",
       " RGBA{Float32}(1.0,1.0,1.0,1.0)  …  RGBA{Float32}(1.0,1.0,1.0,1.0)\n",
       " RGBA{Float32}(1.0,1.0,1.0,1.0)     RGBA{Float32}(1.0,1.0,1.0,1.0)\n",
       " RGBA{Float32}(1.0,1.0,1.0,1.0)     RGBA{Float32}(1.0,1.0,1.0,1.0)\n",
       " RGBA{Float32}(1.0,1.0,1.0,1.0)     RGBA{Float32}(1.0,1.0,1.0,1.0)\n",
       " RGBA{Float32}(1.0,1.0,1.0,1.0)     RGBA{Float32}(1.0,1.0,1.0,1.0)"
      ]
     },
     "metadata": {},
     "output_type": "display_data"
    },
    {
     "data": {
      "text/plain": [
       "3×1307 Matrix{Float64}:\n",
       "  -8.80678   -8.78506   -8.81768  …    8.39145    8.41235    8.42284\n",
       "  -7.47135   -7.04636   -6.66446       1.093      1.50634    1.91935\n",
       " 207.439    206.928    207.696       208.471    208.99     209.251"
      ]
     },
     "execution_count": 144,
     "metadata": {},
     "output_type": "execute_result"
    }
   ],
   "source": [
    "# visualize an object\n",
    "\n",
    "channel_names = [:sphere1, :sphere2, :sphere3, :sphere4]\n",
    "gt_channel_names = [:gtsphere1, :gtsphere2, :gtsphere3, :gtsphere4]\n",
    "\n",
    "# rgb, gt_depth_image = GL.gl_render(renderer, [i], [pose], cam_pose)\n",
    "# IJulia.display(GL.view_depth_image(gt_depth_image))\n",
    "# IJulia.display(GL.view_rgb_image(rgb))\n",
    "\n",
    "\n",
    "# V.setup_visualizer()\n",
    "rgb_pred = Nothing\n",
    "# for object=1:4\n",
    "    gt_cloud = GL.depth_image_to_point_cloud(gt_depth_image, camera_intrinsics)\n",
    "    rgb_pred, depth_pred = GL.gl_render(renderer, [Gen.get_retval(predicted_scene[object]).id for object in 1:4], \n",
    "                                            [Gen.get_retval(predicted_scene[object]).pose for object in 1:4], cam_pose,\n",
    "                                                colors=[I.colorant\"red\" for object=1:4])\n",
    "\n",
    "#     rgb_pred, depth_pred = GL.gl_render(renderer, [Gen.get_retval(predicted_scene[object]).id for object in 1:4], \n",
    "#                                             [Gen.get_retval(predicted_scene[object]).pose for object in 1:4], cam_pose)\n",
    "    \n",
    "    IJulia.display(GL.view_rgb_image(rgb_pred))\n",
    "    pred_cloud = GL.depth_image_to_point_cloud(gt_depth_image, camera_intrinsics)\n",
    "#     V.viz(entities[4], color=I.colorant\"blue\", channel_name=gt_channel_names[object])  \n",
    "#     V.viz(gt_cloud ./ 10, color=I.colorant\"red\", channel_name=channel_names[object])  \n",
    "# end"
   ]
  },
  {
   "cell_type": "code",
   "execution_count": 106,
   "id": "dbdbf8d1",
   "metadata": {},
   "outputs": [
    {
     "data": {
      "text/plain": [
       "Pose⟨pos=[-69.3015968171328, -36.42192462283158, 6.715346141626198], orientation=(w=0.3607136142723325, x=-0.38981806702852556, y=-0.6881372621277094, z=0.49436289461094746)⟩"
      ]
     },
     "execution_count": 106,
     "metadata": {},
     "output_type": "execute_result"
    }
   ],
   "source": [
    "Gen.get_retval(predicted_scene[1]).pose"
   ]
  },
  {
   "cell_type": "code",
   "execution_count": null,
   "id": "e38455c4",
   "metadata": {},
   "outputs": [],
   "source": []
  }
 ],
 "metadata": {
  "jupytext": {
   "cell_metadata_filter": "-all",
   "encoding": "# -*- coding: utf-8 -*-",
   "notebook_metadata_filter": "-all"
  },
  "kernelspec": {
   "display_name": "Julia multithread 1.7.2",
   "language": "julia",
   "name": "julia-multithread-1.7"
  },
  "language_info": {
   "file_extension": ".jl",
   "mimetype": "application/julia",
   "name": "julia",
   "version": "1.7.2"
  },
  "toc": {
   "base_numbering": 1,
   "nav_menu": {},
   "number_sections": true,
   "sideBar": true,
   "skip_h1_title": false,
   "title_cell": "Table of Contents",
   "title_sidebar": "Contents",
   "toc_cell": false,
   "toc_position": {},
   "toc_section_display": true,
   "toc_window_display": false
  },
  "varInspector": {
   "cols": {
    "lenName": 16,
    "lenType": 16,
    "lenVar": 40
   },
   "kernels_config": {
    "python": {
     "delete_cmd_postfix": "",
     "delete_cmd_prefix": "del ",
     "library": "var_list.py",
     "varRefreshCmd": "print(var_dic_list())"
    },
    "r": {
     "delete_cmd_postfix": ") ",
     "delete_cmd_prefix": "rm(",
     "library": "var_list.r",
     "varRefreshCmd": "cat(var_dic_list()) "
    }
   },
   "types_to_exclude": [
    "module",
    "function",
    "builtin_function_or_method",
    "instance",
    "_Feature"
   ],
   "window_display": false
  }
 },
 "nbformat": 4,
 "nbformat_minor": 5
}
