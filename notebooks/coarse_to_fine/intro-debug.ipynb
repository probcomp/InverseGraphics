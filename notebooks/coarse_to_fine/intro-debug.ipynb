{
 "cells": [
  {
   "cell_type": "code",
   "execution_count": 1,
   "id": "2578a13f",
   "metadata": {},
   "outputs": [
    {
     "name": "stdout",
     "output_type": "stream",
     "text": [
      "\u001b[36m\u001b[1m     Project\u001b[22m\u001b[39m InverseGraphics v0.1.1\n",
      "\u001b[32m\u001b[1m      Status\u001b[22m\u001b[39m `~/mit/InverseGraphics/Project.toml`\n",
      " \u001b[90m [aaaa29a8] \u001b[39mClustering v0.14.2\n",
      " \u001b[90m [35d6a980] \u001b[39mColorSchemes v3.17.1\n",
      " \u001b[90m [5ae59095] \u001b[39mColors v0.12.8\n",
      " \u001b[90m [150eb455] \u001b[39mCoordinateTransformations v0.6.2\n",
      " \u001b[90m [864edb3b] \u001b[39mDataStructures v0.18.11\n",
      " \u001b[90m [b4f34e82] \u001b[39mDistances v0.10.7\n",
      " \u001b[90m [31c24e10] \u001b[39mDistributions v0.24.18\n",
      " \u001b[90m [5789e2e9] \u001b[39mFileIO v1.14.0\n",
      " \u001b[90m [f7f18e0c] \u001b[39mGLFW v3.4.1\n",
      " \u001b[90m [e9467ef8] \u001b[39mGLMakie v0.1.30\n",
      " \u001b[90m [d1e26eb4] \u001b[39mGLRenderer v0.1.6 `../GLRenderer.jl`\n",
      " \u001b[90m [ea4f424c] \u001b[39mGen v0.4.4\n",
      " \u001b[90m [85d806fb] \u001b[39mGenDirectionalStats v0.1.1\n",
      " \u001b[90m [5c1252a2] \u001b[39mGeometryBasics v0.3.12\n",
      " \u001b[90m [7073ff75] \u001b[39mIJulia v1.23.3\n",
      " \u001b[90m [86fae568] \u001b[39mImageView v0.10.14\n",
      " \u001b[90m [916415d5] \u001b[39mImages v0.24.1\n",
      " \u001b[90m [682c06a0] \u001b[39mJSON v0.21.3\n",
      " \u001b[90m [093fc24a] \u001b[39mLightGraphs v1.3.5\n",
      " \u001b[90m [23992714] \u001b[39mMAT v0.10.3\n",
      " \u001b[90m [ee78f7c6] \u001b[39mMakie v0.14.2\n",
      " \u001b[90m [442fdcdd] \u001b[39mMeasures v0.3.1\n",
      " \u001b[90m [c03570c3] \u001b[39mMemoize v0.4.4\n",
      " \u001b[90m [3bb1c1c2] \u001b[39mMeshCatViz v0.1.0\n",
      " \u001b[90m [7269a6da] \u001b[39mMeshIO v0.4.7\n",
      " \u001b[90m [626554b9] \u001b[39mMetaGraphs v0.6.8\n",
      " \u001b[90m [888bd7f2] \u001b[39mMiniGSG v0.1.0\n",
      " \u001b[90m [66fc600b] \u001b[39mModernGL v1.1.4\n",
      " \u001b[90m [b8a86587] \u001b[39mNearestNeighbors v0.4.10\n",
      " \u001b[90m [5fbb99ef] \u001b[39mOpen3DVisualizer v0.1.2\n",
      " \u001b[90m [d96e819e] \u001b[39mParameters v0.12.3\n",
      " \u001b[90m [91a5bcdd] \u001b[39mPlots v1.28.1\n",
      " \u001b[90m [0a8ab332] \u001b[39mPoseComposition v0.1.2\n",
      " \u001b[90m [92933f4c] \u001b[39mProgressMeter v1.7.2\n",
      " \u001b[90m [438e738f] \u001b[39mPyCall v1.93.1\n",
      " \u001b[90m [d330b81b] \u001b[39mPyPlot v2.10.0\n",
      " \u001b[90m [295af30f] \u001b[39mRevise v3.3.3\n",
      " \u001b[90m [6038ab10] \u001b[39mRotations v1.3.1\n",
      " \u001b[90m [90137ffa] \u001b[39mStaticArrays v1.4.4\n",
      " \u001b[90m [4c63d2b9] \u001b[39mStatsFuns v0.9.18\n",
      " \u001b[90m [37e2e46d] \u001b[39mLinearAlgebra\n",
      " \u001b[90m [10745b16] \u001b[39mStatistics\n"
     ]
    }
   ],
   "source": [
    "import Pkg\n",
    "Pkg.activate(\"../../\");\n",
    "Pkg.status()"
   ]
  },
  {
   "cell_type": "code",
   "execution_count": 2,
   "id": "282f1623",
   "metadata": {},
   "outputs": [
    {
     "name": "stderr",
     "output_type": "stream",
     "text": [
      "┌ Info: Precompiling GLRenderer [d1e26eb4-c061-4a47-b8d4-4152ce573b03]\n",
      "└ @ Base loading.jl:1342\n",
      "┌ Info: Precompiling InverseGraphics [4b85a743-8232-4f48-902e-cd249a333b61]\n",
      "└ @ Base loading.jl:1342\n",
      "WARNING: Method definition _vmflck(Any, Any) in module Distributions at /Users/nishadgothoskar/.julia/packages/Distributions/Xrm9e/src/multivariate/vonmisesfisher.jl:63 overwritten in module GenDirectionalStats at /Users/nishadgothoskar/.julia/packages/GenDirectionalStats/pbUYs/src/vonmisesfisher.jl:50.\n",
      "  ** incremental compilation may be fatally broken for this module **\n",
      "\n",
      "WARNING: Method definition (::Type{Distributions.VonMisesFisherSampler})(Array{Float64, 1}, Float64) in module Distributions at /Users/nishadgothoskar/.julia/packages/Distributions/Xrm9e/src/samplers/vonmisesfisher.jl:12 overwritten in module GenDirectionalStats at /Users/nishadgothoskar/.julia/packages/GenDirectionalStats/pbUYs/src/vonmisesfisher.jl:69.\n",
      "  ** incremental compilation may be fatally broken for this module **\n",
      "\n"
     ]
    }
   ],
   "source": [
    "import Revise\n",
    "import GLRenderer as GL\n",
    "import Images as I\n",
    "import MiniGSG as S\n",
    "import Rotations as R\n",
    "import PoseComposition: Pose, IDENTITY_POSE, IDENTITY_ORN\n",
    "import InverseGraphics as T\n",
    "import NearestNeighbors\n",
    "import LightGraphs as LG\n",
    "import StaticArrays\n",
    "import ProgressMeter\n",
    "using Distributions\n",
    "import Gen\n",
    "using Plots\n",
    "using ProgressMeter\n",
    "try\n",
    "    import MeshCatViz as V\n",
    "catch\n",
    "    import MeshCatViz as V    \n",
    "end"
   ]
  },
  {
   "cell_type": "code",
   "execution_count": 3,
   "id": "f4fb0045",
   "metadata": {},
   "outputs": [],
   "source": [
    "# # Initialize the renderer\n",
    "# V.setup_visualizer()"
   ]
  },
  {
   "cell_type": "code",
   "execution_count": 6,
   "id": "ed750894",
   "metadata": {},
   "outputs": [
    {
     "data": {
      "text/plain": [
       "21-element Vector{String}:\n",
       " \"002_master_chef_can\"\n",
       " \"003_cracker_box\"\n",
       " \"004_sugar_box\"\n",
       " \"005_tomato_soup_can\"\n",
       " \"006_mustard_bottle\"\n",
       " \"007_tuna_fish_can\"\n",
       " \"008_pudding_box\"\n",
       " \"009_gelatin_box\"\n",
       " \"010_potted_meat_can\"\n",
       " \"011_banana\"\n",
       " \"019_pitcher_base\"\n",
       " \"021_bleach_cleanser\"\n",
       " \"024_bowl\"\n",
       " \"025_mug\"\n",
       " \"035_power_drill\"\n",
       " \"036_wood_block\"\n",
       " \"037_scissors\"\n",
       " \"040_large_marker\"\n",
       " \"051_large_clamp\"\n",
       " \"052_extra_large_clamp\"\n",
       " \"061_foam_brick\""
      ]
     },
     "execution_count": 6,
     "metadata": {},
     "output_type": "execute_result"
    }
   ],
   "source": [
    "# Loading the YCB object models\n",
    "YCB_DIR = joinpath(dirname(dirname(pwd())),\"data\")\n",
    "world_scaling_factor = 10.0\n",
    "id_to_cloud, id_to_shift, id_to_box  = T.load_ycbv_models_adjusted(YCB_DIR, world_scaling_factor);\n",
    "all_ids = sort(collect(keys(id_to_cloud)));\n",
    "names = T.load_ycb_model_list(YCB_DIR)"
   ]
  },
  {
   "cell_type": "code",
   "execution_count": 8,
   "id": "d736430a",
   "metadata": {},
   "outputs": [
    {
     "name": "stdout",
     "output_type": "stream",
     "text": [
      "gl_version_for_shaders = \"410\"\n",
      "true\n",
      "camera = GLRenderer.CameraIntrinsics\n",
      "  width: Int64 640\n",
      "  height: Int64 480\n",
      "  fx: Float64 640.0\n",
      "  fy: Float64 640.0\n",
      "  cx: Float64 320.0\n",
      "  cy: Float64 240.0\n",
      "  near: Float64 0.001\n",
      "  far: Float64 100.0\n",
      "\n"
     ]
    }
   ],
   "source": [
    "# Initialize the canera intrinsics and renderer that will render using those intrinsics.\n",
    "camera = GL.CameraIntrinsics()\n",
    "# renderer = GL.setup_renderer(camera, GL.DepthMode())\n",
    "# renderer = GL.setup_renderer(camera, GL.DepthMode();gl_version=(4,1))\n",
    "resolution = 0.05\n",
    "# for id in all_ids\n",
    "#     cloud = id_to_cloud[id]\n",
    "#     mesh = GL.mesh_from_voxelized_cloud(GL.voxelize(cloud, resolution), resolution);\n",
    "#     GL.load_object!(renderer, mesh)\n",
    "# end\n",
    "\n",
    "\n",
    "box_mesh = GL.box_mesh_from_dims([2.0, 2.0, 2.0])\n",
    "GL.load_object!(renderer, box_mesh)\n",
    "\n",
    "@show camera;"
   ]
  },
  {
   "cell_type": "code",
   "execution_count": null,
   "id": "7eca87fa",
   "metadata": {},
   "outputs": [],
   "source": []
  },
  {
   "cell_type": "markdown",
   "id": "aea02c1b",
   "metadata": {},
   "source": [
    "## introductory visualizations\n",
    "to get a better sense of resolution effect on likelihood + qualitative results "
   ]
  },
  {
   "cell_type": "code",
   "execution_count": 9,
   "id": "b85f67e4",
   "metadata": {},
   "outputs": [],
   "source": [
    "# #########\n",
    "# # radius scaling\n",
    "# #########\n",
    "# bounds = (-100.0, 100.0, -100.0, 100.0,-100.0,100.0)\n",
    "\n",
    "# i = 1\n",
    "# pose = Pose([0.0, 0.0, 3.0], R.RotXYZ(0.4, -0.2, 0.4))\n",
    "\n",
    "# # Reset the intrinsics inside of the renderer.\n",
    "# GL.set_intrinsics!(renderer, camera) \n",
    "\n",
    "# # And render the same image as above.\n",
    "# gt_depth_image = GL.gl_render(renderer, [i], [pose], IDENTITY_POSE)\n",
    "# IJulia.display(GL.view_depth_image(gt_depth_image))\n",
    "\n",
    "# # Create point cloud corresponding to that rendered depth image.\n",
    "# gt_cloud = GL.depth_image_to_point_cloud(gt_depth_image, camera)\n",
    "# # print(size(gt_cloud))\n",
    "\n",
    "\n",
    "# @show i\n",
    "\n",
    "# radius = 0.01  # \"tight\" radius\n",
    "# sampled_cloud = Gen.random(T.uniform_mixture_from_template, gt_cloud, 0.0001, radius, bounds)\n",
    "# # Visualize that point cloud.\n",
    "# V.setup_visualizer()\n",
    "# V.viz(sampled_cloud)  # = V.viz(T.move_points_to_frame_b(c, camera_pose))\n",
    "\n",
    " \n",
    "# radius = float(1)  # \"loose\" radius (can still pick out general shape)\n",
    "# sampled_cloud = Gen.random(T.uniform_mixture_from_template, gt_cloud, 0.0001, radius, bounds)\n",
    "# # Visualize that point cloud.\n",
    "# V.setup_visualizer()\n",
    "# V.viz(sampled_cloud)  # = V.viz(T.move_points_to_frame_b(c, camera_pose))\n",
    "\n",
    " \n",
    "# radius = float(10)  # very loose radius; points on a sphere (w/ some concentration on center with shape of obj)\n",
    "# sampled_cloud = Gen.random(T.uniform_mixture_from_template, gt_cloud, 0.0001, radius, bounds)\n",
    "# # # Visualize that point cloud.\n",
    "# # V.setup_visualizer()\n",
    "# # V.viz(sampled_cloud)  # = V.viz(T.move_points_to_frame_b(c, camera_pose))"
   ]
  },
  {
   "cell_type": "code",
   "execution_count": 10,
   "id": "4deb070c",
   "metadata": {},
   "outputs": [],
   "source": [
    "# ########\n",
    "# # camera downscaling\n",
    "# ########\n",
    "# using IJulia\n",
    "\n",
    "# final = 24\n",
    "# for downscale_factor=1:3.0:final\n",
    "#     println(\"scale down by $downscale_factor\")\n",
    "    \n",
    "#     # scale camera according to resolution; reset renderer\n",
    "#     scaled_camera = GL.scale_down_camera(camera, downscale_factor)\n",
    "        \n",
    "#     # Set the renderer to now have those scaled down intrinsics.\n",
    "#     GL.set_intrinsics!(renderer, scaled_camera)\n",
    " \n",
    "#     d = GL.gl_render(renderer, [i], [pose], IDENTITY_POSE)\n",
    "\n",
    "#     img = GL.view_depth_image(d)\n",
    "#     img = I.imresize(img, (camera.height, camera.width));\n",
    "#     IJulia.display(img)\n",
    "  \n",
    "#     # revert intrinsics\n",
    "#     GL.set_intrinsics!(renderer, camera)\n",
    "\n",
    "# end\n"
   ]
  },
  {
   "cell_type": "markdown",
   "id": "9d56301b",
   "metadata": {},
   "source": [
    "# Intro demo of coarse-to-fine with particle filtering"
   ]
  },
  {
   "cell_type": "markdown",
   "id": "3e9be6e7",
   "metadata": {},
   "source": [
    "## Particle Filtering + Orientation enumeration"
   ]
  },
  {
   "cell_type": "markdown",
   "id": "cd28dd51",
   "metadata": {},
   "source": [
    "### Orientation enumeration"
   ]
  },
  {
   "cell_type": "code",
   "execution_count": 11,
   "id": "7035b31c",
   "metadata": {},
   "outputs": [
    {
     "data": {
      "text/plain": [
       "fibonacci_sphere (generic function with 1 method)"
      ]
     },
     "execution_count": 11,
     "metadata": {},
     "output_type": "execute_result"
    }
   ],
   "source": [
    "function fibonacci_sphere(samples)\n",
    "    points = []\n",
    "    phi = π * (3. - sqrt(5.))\n",
    " \n",
    "    for i in 0:(samples-1)\n",
    "        y = 1 - (i / Float64(samples - 1)) * 2\n",
    "        #@show y\n",
    "        radius = sqrt(1 - y * y)\n",
    "\n",
    "        theta = phi * i\n",
    "\n",
    "        x = cos(theta) * radius\n",
    "        z = sin(theta) * radius\n",
    "\n",
    "        push!(points, (x, y, z))\n",
    "    end\n",
    "    return points\n",
    "end"
   ]
  },
  {
   "cell_type": "code",
   "execution_count": 12,
   "id": "272863cd",
   "metadata": {},
   "outputs": [],
   "source": [
    "unit_sphere_directions = fibonacci_sphere(50);\n",
    "other_rotation_angle = collect(0:0.2:(2*π));\n",
    "\n",
    "rotations_to_enumerate_over = [\n",
    "    let\n",
    "        T.geodesicHopf_select_axis(StaticArrays.SVector(dir), ang, 1)\n",
    "    end\n",
    "    for dir in unit_sphere_directions, \n",
    "        ang in other_rotation_angle\n",
    "];\n",
    "num_rotations_to_enumerate_over = length(rotations_to_enumerate_over);"
   ]
  },
  {
   "cell_type": "markdown",
   "id": "3652db75",
   "metadata": {},
   "source": [
    "### Helpers"
   ]
  },
  {
   "cell_type": "code",
   "execution_count": 14,
   "id": "40f23381",
   "metadata": {},
   "outputs": [
    {
     "data": {
      "text/plain": [
       "viz_trace (generic function with 1 method)"
      ]
     },
     "execution_count": 14,
     "metadata": {},
     "output_type": "execute_result"
    }
   ],
   "source": [
    "function viz_trace(trace)\n",
    "    V.setup_visualizer()\n",
    "#     V.reset_visualizer()\n",
    "    V.viz(Gen.get_retval(trace).voxelized_cloud  ./ 10.0; color=I.colorant\"red\", channel_name=:gen);\n",
    "    V.viz(Gen.get_retval(trace).obs_cloud ./ 10.0; color=I.colorant\"blue\", channel_name=:obs);\n",
    "end"
   ]
  },
  {
   "cell_type": "code",
   "execution_count": 15,
   "id": "339bd385",
   "metadata": {},
   "outputs": [
    {
     "data": {
      "text/plain": [
       "get_cloud (generic function with 1 method)"
      ]
     },
     "execution_count": 15,
     "metadata": {},
     "output_type": "execute_result"
    }
   ],
   "source": [
    "# Helper function to get point cloud from the object ids, object poses, and camera pose\n",
    "# (see demo.jl)\n",
    "function get_cloud(poses, ids, renderer, camera_pose)\n",
    "#     @show poses, ids\n",
    "    depth_image = GL.gl_render(renderer, ids, poses, camera_pose)\n",
    "    cloud = GL.depth_image_to_point_cloud(depth_image, renderer.camera_intrinsics)\n",
    "    if isnothing(cloud)\n",
    "        cloud = zeros(3,1)\n",
    "    else\n",
    "        cloud = T.move_points_to_frame_b(cloud, camera_pose)\n",
    "    end\n",
    "    cloud\n",
    "end"
   ]
  },
  {
   "cell_type": "code",
   "execution_count": 21,
   "id": "47cf2328",
   "metadata": {},
   "outputs": [
    {
     "data": {
      "text/plain": [
       "scale_factor"
      ]
     },
     "execution_count": 21,
     "metadata": {},
     "output_type": "execute_result"
    }
   ],
   "source": [
    "bounds = (-100.0, 100.0, -100.0, 100.0,-100.0,300.0)\n",
    "num_candidate_objs = 1\n",
    "\n",
    "v_resolution = radius -> (radius * 0.5)  # distance between two points on the pointcloud \n",
    "\n",
    "\"\"\"sample point clouds at the given camera resolution and radius\"\"\"\n",
    "Gen.@gen function model(radius, renderer)\n",
    "    \n",
    "    # fixed object (TODO: generalize to any obj id) and pose\n",
    "    i = {:id} ~ Gen.categorical(fill(1.0/num_candidate_objs, (num_candidate_objs,)))\n",
    "    p = {T.floating_pose_addr(1)} ~ T.uniformPose(-0.001, 0.001, -0.001, 0.001, 4.999, 5.001)\n",
    "    \n",
    "    gt_cloud = get_cloud([p], [i], renderer, camera_pose)    \n",
    "    voxelized_cloud = GL.voxelize(gt_cloud, v_resolution(radius))\n",
    "    obs_cloud = {T.obs_addr()} ~ T.uniform_mixture_from_template(voxelized_cloud, 0.0001, radius, bounds)\n",
    "#     print(\".\"); flush(stdout)\n",
    "         \n",
    "    (id=i, pose=p, ori=p.orientation, cloud=gt_cloud, voxelized_cloud=voxelized_cloud, rendered_clouds=[voxelized_cloud], obs_cloud=obs_cloud)\n",
    "\n",
    "end\n",
    " \n",
    "\"\"\"return scale down factor of camera given desired resolution\"\"\"\n",
    "function scale_factor(resolution, final_resolution)\n",
    "   return final_resolution-resolution+1 \n",
    "end"
   ]
  },
  {
   "cell_type": "code",
   "execution_count": 22,
   "id": "9c4a5277",
   "metadata": {},
   "outputs": [
    {
     "data": {
      "text/plain": [
       "generate_initial_pf_state"
      ]
     },
     "execution_count": 22,
     "metadata": {},
     "output_type": "execute_result"
    }
   ],
   "source": [
    "\"\"\"Selecting from a set of traces over all enumerated angles, generate a set of initial particles\"\"\"\n",
    "Gen.@gen function generate_initial_pf_state(scored_traces, num_particles, U=Gen.DynamicDSLTrace{Gen.DynamicDSLFunction{Any}})\n",
    "    # unpack traces\n",
    "    traces = (t -> t[1]).(scored_traces)\n",
    "    log_weights = (t -> t[2]).(scored_traces) #; log_weights = log_weights .- Gen.logsumexp(log_weights)  # ∝ likelihood\n",
    "    \n",
    "    _, norm_log_weights = Gen.normalize_weights(log_weights)       \n",
    "    \n",
    "    # sample initial set of particles\n",
    "    selected_traces = Vector{Gen.DynamicDSLTrace{Gen.DynamicDSLFunction{Any}}}(undef, num_particles)\n",
    "    selected_log_weights = Vector{Float64}(undef, num_particles)\n",
    "    for i=1:num_particles\n",
    "        trace_idx = {:t_idx => i} ~ Gen.categorical(exp.(norm_log_weights))   \n",
    "        selected_traces[i] = traces[trace_idx]\n",
    "        selected_log_weights[i] = log_weights[trace_idx]\n",
    "    end\n",
    "    \n",
    "    println(\"Initial particle state computed\"); flush(stdout)\n",
    "\n",
    "#     # visualize pdf of initial weights (?)\n",
    "#     plot(selected_log_weights, seriestype=:stephist, fmt = :png)\n",
    "    \n",
    "    # see intermediate results\n",
    "    top_n = 10\n",
    "    _, norm_log_weights = Gen.normalize_weights(selected_log_weights)\n",
    "    p = sortperm(norm_log_weights)[end-top_n:end]; \n",
    "\n",
    "    best_trace = selected_traces[argmax(norm_log_weights)];\n",
    "    viz_trace(best_trace);\n",
    "    println(\"top$top_n traces:\")\n",
    "    for idx in p\n",
    "       println(\"current weight=\", norm_log_weights[idx], \"\\t orientation=\", Gen.get_retval(selected_traces[idx]).ori[1:3]) \n",
    "    end\n",
    "    flush(stdout)\n",
    "    \n",
    "    return Gen.ParticleFilterState{U}(selected_traces, Vector{U}(undef, num_particles), selected_log_weights, 0., collect(1:num_particles))\n",
    "\n",
    "end"
   ]
  },
  {
   "cell_type": "code",
   "execution_count": 52,
   "id": "4e52a49d",
   "metadata": {},
   "outputs": [
    {
     "data": {
      "text/plain": [
       "icp_move_no_unexplained (generic function with 1 method)"
      ]
     },
     "execution_count": 52,
     "metadata": {},
     "output_type": "execute_result"
    }
   ],
   "source": [
    "\n",
    "function icp_move_no_unexplained(trace, i, inf_radius, renderer, cam_pose; iterations=10)\n",
    "    # get_cloud_func needs to give the points in the world frame\n",
    "    get_cloud_func = (poses, ids, cam_pose, i) -> get_cloud(poses, ids, renderer, cam_pose)  \n",
    "    id = Gen.get_choices(trace)[:id]  \n",
    "    addr = T.floating_pose_addr(i)\n",
    "    \n",
    "    obs_cloud = T.move_points_to_frame_b(T.get_obs_cloud(trace), cam_pose)\n",
    "    \n",
    "    refined_pose = trace[addr]\n",
    "    refined_pose = T.icp_object_pose(\n",
    "        refined_pose,\n",
    "        obs_cloud,\n",
    "        p -> T.voxelize(get_cloud_func([p], [id], cam_pose, 1),inf_radius)\n",
    "    )\n",
    "\n",
    "    acceptances = false\n",
    "     \n",
    "    for _ in 1:iterations\n",
    "        trace, acc = T.pose_mixture_move(\n",
    "            trace, addr, [trace[addr], refined_pose], [0.5, 0.5], 1e-2, 5000.0\n",
    "        )\n",
    "        acceptances = acc || acceptances\n",
    "    end\n",
    "    \n",
    "    trace, acceptances, refined_pose\n",
    "end"
   ]
  },
  {
   "cell_type": "code",
   "execution_count": 63,
   "id": "a4c88c75",
   "metadata": {},
   "outputs": [
    {
     "data": {
      "text/plain": [
       "particle_filter_step!"
      ]
     },
     "execution_count": 63,
     "metadata": {},
     "output_type": "execute_result"
    }
   ],
   "source": [
    "\"\"\"adapted from gen pf_step:\n",
    "Perform a particle filter update, where the model arguments are adjusted, new observations are added, and the default proposal is used for new latent state.\n",
    "\"\"\"\n",
    "function particle_filter_step!(state::Gen.ParticleFilterState{U}, new_args::Tuple, argdiffs::Tuple,\n",
    "        observations) where {U}    \n",
    "    radius, renderer = new_args\n",
    "    log_incremental_weights = Vector{Float64}(undef, num_particles) \n",
    "    radius::Float64 = new_args[1]\n",
    "    \n",
    "    @showprogress for i=1:num_particles\n",
    "    ## do mh, drift moves, etc. tune particle before update (i.e. new likelihood)\n",
    "        @time state.traces[i], acc, _ = icp_move_no_unexplained(state.traces[i], Gen.get_retval(state.traces[i]).id, \n",
    "                                            radius, renderer, camera_pose; iterations=15)\n",
    "\n",
    "#         state.traces[i], acc = T.drift_move(state.traces[i], T.floating_pose_addr(1), 0.001, 10.0)\n",
    "#         state.traces[i], acc = T.drift_move(state.traces[i], T.floating_pose_addr(1), 0.001, 100.0)\n",
    "#         state.traces[i], acc = T.drift_move(state.traces[i], T.floating_pose_addr(1), 0.001, 1000.0)\n",
    "\n",
    "        \n",
    "        # evolve the particle (with new radius involved in new_args)\n",
    "        (state.new_traces[i], increment, _, discard) = Gen.update(\n",
    "            state.traces[i], new_args, argdiffs, observations)\n",
    "#         if !isempty(discard)\n",
    "#             error(\"Choices were updated or deleted inside particle filter step: $discard\")\n",
    "#         end\n",
    "        log_incremental_weights[i] = increment\n",
    "        state.log_weights[i] += increment\n",
    "    end\n",
    "    \n",
    "    # swap references\n",
    "    tmp = state.traces\n",
    "    state.traces = state.new_traces\n",
    "    state.new_traces = tmp\n",
    "\n",
    "    return log_incremental_weights\n",
    "end"
   ]
  },
  {
   "cell_type": "markdown",
   "id": "6b463d3c",
   "metadata": {},
   "source": [
    "### control resolution with radius (fixed camera intrinsics)"
   ]
  },
  {
   "cell_type": "code",
   "execution_count": 64,
   "id": "2f3ac3b7",
   "metadata": {},
   "outputs": [
    {
     "data": {
      "text/plain": [
       "particle_filter (generic function with 2 methods)"
      ]
     },
     "execution_count": 64,
     "metadata": {},
     "output_type": "execute_result"
    }
   ],
   "source": [
    "\"\"\"Particle filter on the evolution of agent knowledge over time; resolution control with radius\"\"\"\n",
    "\n",
    "\n",
    "function particle_filter(renderer, init_radius::Float64, final_radius::Float64, enum_ori_traces,\n",
    "                        gt_obj_id::Int, gt_pose::Pose, num_particles::Int, num_samples::Int, U=Gen.DynamicDSLTrace{Gen.DynamicDSLFunction{Any}})\n",
    "    \n",
    "    # initialize renderer and particle filter\n",
    "    GL.set_intrinsics!(renderer, camera)  \n",
    "    gt_cloud = get_cloud([gt_pose], [gt_obj_id], renderer, camera_pose)\n",
    "    gt_voxelized_cloud = GL.voxelize(gt_cloud, v_resolution(init_radius))\n",
    "#     V.setup_visualizer()\n",
    "#     V.viz(gt_voxelized_cloud)\n",
    "    println(\"\\ninitializing particle filter at radius $init_radius\") \n",
    "    flush(stdout)\n",
    "    \n",
    "    \n",
    "    # initialize a state of initial particles with various rotations\n",
    "    scored_traces = enum_ori_traces  # get precomputed\n",
    "    \n",
    "    state::Gen.ParticleFilterState{U} = generate_initial_pf_state(scored_traces, num_particles)\n",
    "    \n",
    "    \n",
    "    # evolve over resolutions (modify sphere radius `r` of mixture point cloud likelihood)\n",
    "    @assert(final_radius <= init_radius)\n",
    "    step = -0.3 \n",
    "    for radius in init_radius+step:step:final_radius\n",
    "        println(\"\\n========Radius=$radius========\"); flush(stdout)\n",
    "        Gen.maybe_resample!(state, ess_threshold=num_particles/3, verbose=true)  \n",
    "        \n",
    "        # update pf \n",
    "        observations = Gen.choicemap(T.obs_addr() => GL.voxelize(gt_cloud, v_resolution(radius)), :id => gt_obj_id)\n",
    "        current_log_weights = particle_filter_step!(state, (radius, renderer), (Gen.UnknownChange(),), observations)    \n",
    "        \n",
    "        # see intermediate results\n",
    "        top_n = 10\n",
    "        _, norm_log_weights = Gen.normalize_weights(current_log_weights)\n",
    "        p = sortperm(norm_log_weights)[end-top_n:end]; \n",
    "        \n",
    "        best_trace = state.traces[argmax(norm_log_weights)];\n",
    "        viz_trace(best_trace);\n",
    "        println(\"top$top_n traces:\")\n",
    "        for idx in p\n",
    "           println(\"current weight=\", norm_log_weights[idx], \"\\t orientation=\", Gen.get_retval(state.traces[idx]).ori[1:3]) \n",
    "        end\n",
    "        flush(stdout)\n",
    "        \n",
    "    end;\n",
    "    \n",
    "     return Gen.sample_unweighted_traces(state, num_samples)\n",
    "    \n",
    "end"
   ]
  },
  {
   "cell_type": "code",
   "execution_count": 68,
   "id": "87503201",
   "metadata": {},
   "outputs": [
    {
     "name": "stdout",
     "output_type": "stream",
     "text": [
      "true\n",
      "Enumerating over all angles:\n"
     ]
    },
    {
     "name": "stderr",
     "output_type": "stream",
     "text": [
      "\u001b[32mProgress: 100%|█████████████████████████████████████████| Time: 0:01:34\u001b[39m\n"
     ]
    },
    {
     "data": {
      "text/plain": [
       "1600"
      ]
     },
     "execution_count": 68,
     "metadata": {},
     "output_type": "execute_result"
    }
   ],
   "source": [
    "# Initialize the canera intrinsics and renderer that will render using those intrinsics.\n",
    "GL.set_intrinsics!(renderer, camera)\n",
    " \n",
    "init_radius, final_radius = float(1.0), float(0.1)  # low to high \"focus\"\n",
    "camera_pose = IDENTITY_POSE\n",
    "\n",
    "gt_obj_id = 1   # cube\n",
    "# gt_pose = T.Pose(pos=[0.0, 0.0, 5.0], orientation=R.QuatRotation(0.2, -0.5, 0.1, -0.8))\n",
    "tr, _ = Gen.generate(model, (init_radius, renderer),                 \n",
    "            Gen.choicemap(:id => 1))\n",
    "gt_pose = T.Pose(pos=[0.0, 0.0, 5.0], orientation=Gen.get_retval(tr).ori)\n",
    "\n",
    "function precompute_enumerations(gt_voxelized_cloud, gt_pose, init_radius, renderer, rotations_to_enumerate_over)\n",
    "    # initialize a state of initial particles with various rotations\n",
    "    println(\"Enumerating over all angles:\")\n",
    "    scored_traces = @showprogress map(orn -> \n",
    "                    Gen.generate(model, (init_radius, renderer),                 \n",
    "                                Gen.choicemap(T.obs_addr() => gt_voxelized_cloud, \n",
    "                                            :id => 1, \n",
    "                                            T.floating_pose_addr(1) => Pose(gt_pose.pos, orn))),\n",
    "                                rotations_to_enumerate_over[:]);   \n",
    "    return scored_traces\n",
    "end \n",
    "gt_cloud = get_cloud([gt_pose], [gt_obj_id], renderer, camera_pose)\n",
    "gt_voxelized_cloud = GL.voxelize(gt_cloud, v_resolution(init_radius))\n",
    "# precompute enumeration; run the below code once and comment out\n",
    "enum_ori_traces = precompute_enumerations(gt_voxelized_cloud, gt_pose, init_radius, renderer, rotations_to_enumerate_over)\n",
    "\n",
    "num_rotations_to_enumerate_over = length(enum_ori_traces)\n"
   ]
  },
  {
   "cell_type": "code",
   "execution_count": 69,
   "id": "dcced642",
   "metadata": {
    "scrolled": true
   },
   "outputs": [
    {
     "name": "stdout",
     "output_type": "stream",
     "text": [
      "num_rotations_to_enumerate_over = 1600\n",
      "true\n",
      "\n",
      "initializing particle filter at radius 1.0\n",
      "Initial particle state computed\n"
     ]
    },
    {
     "name": "stderr",
     "output_type": "stream",
     "text": [
      "┌ Info: MeshCat server started. You can open the visualizer by visiting the following URL in your browser:\n",
      "│ http://127.0.0.1:8726\n",
      "└ @ MeshCat /Users/nishadgothoskar/.julia/packages/MeshCat/Ax8pH/src/visualizer.jl:73\n"
     ]
    },
    {
     "name": "stdout",
     "output_type": "stream",
     "text": [
      "top10 traces:\n",
      "current weight=-3.5594177737912105\t orientation=[0.24974992098221005, 0.5510204081632651, 0.796242103104934]\n",
      "current weight=-3.4419522481359763\t orientation=[0.24974992098221002, 0.5510204081632653, 0.7962421031049342]\n",
      "current weight=-3.4419522481359763\t orientation=[0.24974992098221002, 0.5510204081632653, 0.7962421031049342]\n",
      "current weight=-3.4419522481359763\t orientation=[0.24974992098221002, 0.5510204081632653, 0.7962421031049342]\n",
      "current weight=-3.10922956678138\t orientation=[0.2497499209822101, 0.5510204081632653, 0.796242103104934]\n",
      "current weight=-3.10922956678138\t orientation=[0.2497499209822101, 0.5510204081632653, 0.796242103104934]\n",
      "current weight=-3.10922956678138\t orientation=[0.2497499209822101, 0.5510204081632653, 0.796242103104934]\n",
      "current weight=-3.10922956678138\t orientation=[0.2497499209822101, 0.5510204081632653, 0.796242103104934]\n",
      "current weight=-3.10922956678138\t orientation=[0.2497499209822101, 0.5510204081632653, 0.796242103104934]\n",
      "current weight=-3.10125708275757\t orientation=[0.004307480436436639, -0.4693877551020411, -0.8829816424889914]\n",
      "current weight=-3.10125708275757\t orientation=[0.004307480436436639, -0.4693877551020411, -0.8829816424889914]\n",
      "\n",
      "========Radius=0.7========\n",
      "effective sample size: 32.89565428243914, doing resample: false\n"
     ]
    },
    {
     "name": "stderr",
     "output_type": "stream",
     "text": [
      "\u001b[32mProgress: 100%|█████████████████████████████████████████| Time: 0:00:04\u001b[39m\n",
      "┌ Info: MeshCat server started. You can open the visualizer by visiting the following URL in your browser:\n",
      "│ http://127.0.0.1:8727\n",
      "└ @ MeshCat /Users/nishadgothoskar/.julia/packages/MeshCat/Ax8pH/src/visualizer.jl:73\n"
     ]
    },
    {
     "name": "stdout",
     "output_type": "stream",
     "text": [
      "top10 traces:\n",
      "current weight=-3.8040747930821794\t orientation=[0.24974992098221002, 0.5510204081632653, 0.7962421031049342]\n",
      "current weight=-3.8040747930821794\t orientation=[0.24974992098221002, 0.5510204081632653, 0.7962421031049342]\n",
      "current weight=-2.8256542490809125\t orientation=[0.2497499209822101, 0.5510204081632653, 0.796242103104934]\n",
      "current weight=-2.8256542490809125\t orientation=[0.2497499209822101, 0.5510204081632653, 0.796242103104934]\n",
      "current weight=-2.8256542490809125\t orientation=[0.2497499209822101, 0.5510204081632653, 0.796242103104934]\n",
      "current weight=-2.8256542490809125\t orientation=[0.2497499209822101, 0.5510204081632653, 0.796242103104934]\n",
      "current weight=-2.8256542490809125\t orientation=[0.2497499209822101, 0.5510204081632653, 0.796242103104934]\n",
      "current weight=-2.267011193670271\t orientation=[0.24974992098221005, 0.5510204081632651, 0.796242103104934]\n",
      "current weight=-2.267011193670271\t orientation=[0.24974992098221005, 0.5510204081632651, 0.796242103104934]\n",
      "current weight=-1.6073231527548728\t orientation=[0.2497499209822101, 0.5510204081632651, 0.796242103104934]\n",
      "current weight=-1.6073231527548728\t orientation=[0.2497499209822101, 0.5510204081632651, 0.796242103104934]\n",
      "\n",
      "========Radius=0.4========\n",
      "effective sample size: 9.77813118021315, doing resample: true\n"
     ]
    },
    {
     "name": "stderr",
     "output_type": "stream",
     "text": [
      "\u001b[32mProgress: 100%|█████████████████████████████████████████| Time: 0:00:03\u001b[39m\n",
      "┌ Info: MeshCat server started. You can open the visualizer by visiting the following URL in your browser:\n",
      "│ http://127.0.0.1:8728\n",
      "└ @ MeshCat /Users/nishadgothoskar/.julia/packages/MeshCat/Ax8pH/src/visualizer.jl:73\n"
     ]
    },
    {
     "name": "stdout",
     "output_type": "stream",
     "text": [
      "top10 traces:\n",
      "current weight=-3.9774623009642482\t orientation=[0.2497499209822101, 0.5510204081632653, 0.796242103104934]\n",
      "current weight=-3.9774623009642482\t orientation=[0.2497499209822101, 0.5510204081632653, 0.796242103104934]\n",
      "current weight=-3.9774623009642482\t orientation=[0.2497499209822101, 0.5510204081632653, 0.796242103104934]\n",
      "current weight=-3.9774623009642482\t orientation=[0.2497499209822101, 0.5510204081632653, 0.796242103104934]\n",
      "current weight=-3.9774623009642482\t orientation=[0.2497499209822101, 0.5510204081632653, 0.796242103104934]\n",
      "current weight=-2.3833332213608855\t orientation=[0.24974992098221002, 0.5510204081632653, 0.7962421031049342]\n",
      "current weight=-2.3833332213608855\t orientation=[0.24974992098221002, 0.5510204081632653, 0.7962421031049342]\n",
      "current weight=-2.3833332213608855\t orientation=[0.24974992098221002, 0.5510204081632653, 0.7962421031049342]\n",
      "current weight=-2.3833332213608855\t orientation=[0.24974992098221002, 0.5510204081632653, 0.7962421031049342]\n",
      "current weight=-2.3833332213608855\t orientation=[0.24974992098221002, 0.5510204081632653, 0.7962421031049342]\n",
      "current weight=-2.3833332213608855\t orientation=[0.24974992098221002, 0.5510204081632653, 0.7962421031049342]\n",
      "\n",
      "========Radius=0.1========\n",
      "effective sample size: 17.126483472892637, doing resample: false\n"
     ]
    },
    {
     "name": "stderr",
     "output_type": "stream",
     "text": [
      "\u001b[32mProgress: 100%|█████████████████████████████████████████| Time: 0:00:04\u001b[39m\n",
      "┌ Info: MeshCat server started. You can open the visualizer by visiting the following URL in your browser:\n",
      "│ http://127.0.0.1:8729\n",
      "└ @ MeshCat /Users/nishadgothoskar/.julia/packages/MeshCat/Ax8pH/src/visualizer.jl:73\n"
     ]
    },
    {
     "name": "stdout",
     "output_type": "stream",
     "text": [
      "top10 traces:\n",
      "current weight=-2.9957322735535854\t orientation=[0.2497499209822101, 0.5510204081632653, 0.796242103104934]\n",
      "current weight=-2.9957322735535854\t orientation=[0.2497499209822101, 0.5510204081632653, 0.796242103104934]\n",
      "current weight=-2.9957322735535854\t orientation=[0.2497499209822101, 0.5510204081632653, 0.796242103104934]\n",
      "current weight=-2.9957322735535854\t orientation=[0.2497499209822101, 0.5510204081632653, 0.796242103104934]\n",
      "current weight=-2.9957322735535854\t orientation=[0.2497499209822101, 0.5510204081632653, 0.796242103104934]\n",
      "current weight=-2.9957322735535854\t orientation=[0.2497499209822101, 0.5510204081632653, 0.796242103104934]\n",
      "current weight=-2.9957322735535854\t orientation=[0.2497499209822101, 0.5510204081632653, 0.796242103104934]\n",
      "current weight=-2.9957322735535854\t orientation=[0.2497499209822101, 0.5510204081632653, 0.796242103104934]\n",
      "current weight=-2.9957322735535854\t orientation=[0.2497499209822101, 0.5510204081632653, 0.796242103104934]\n",
      "current weight=-2.9957322735535854\t orientation=[0.2497499209822101, 0.5510204081632653, 0.796242103104934]\n",
      "current weight=-2.9957322735535854\t orientation=[0.2497499209822101, 0.5510204081632653, 0.796242103104934]\n",
      " 13.147887 seconds (19.83 M allocations: 9.315 GiB, 30.57% gc time)\n"
     ]
    }
   ],
   "source": [
    "@show num_rotations_to_enumerate_over\n",
    "num_particles = 50\n",
    "num_samples = num_particles\n",
    "@time pf_traces = particle_filter(renderer, init_radius, final_radius, enum_ori_traces, gt_obj_id, gt_pose, num_particles, num_samples);\n"
   ]
  },
  {
   "cell_type": "code",
   "execution_count": null,
   "id": "35be0190",
   "metadata": {},
   "outputs": [],
   "source": []
  },
  {
   "cell_type": "markdown",
   "id": "ec4bae27",
   "metadata": {},
   "source": [
    "### visualization of the enumerated posterior at multiple different resolutions"
   ]
  },
  {
   "cell_type": "code",
   "execution_count": null,
   "id": "b4fc9cc8",
   "metadata": {},
   "outputs": [],
   "source": [
    "# xyz = [\n",
    "#     rotations_to_enumerate_over[i,1] * [1, 0, 0]\n",
    "#     for i in 1:size(rotations_to_enumerate_over)[1] \n",
    "# ];\n",
    "# log_weights_xyz = zeros(size(rotations_to_enumerate_over)[1])\n",
    "# weights_xyz = exp.(log_weights_xyz)\n",
    "# order = sortperm(weights_xyz,rev=true)\n",
    "# weights_xyz = weights_xyz[order]\n",
    "# xyz = xyz[order]\n",
    "# weights_xyz\n"
   ]
  },
  {
   "cell_type": "code",
   "execution_count": null,
   "id": "287564a7",
   "metadata": {},
   "outputs": [],
   "source": [
    "# using PyCall\n",
    "# using PyPlot\n",
    "\n",
    "# plt = pyimport(\"matplotlib.pyplot\")\n",
    "# mpl_toolkits = pyimport(\"mpl_toolkits\")\n",
    "# x = range(0;stop=2*pi,length=1000); y = sin.(3*x + 4*cos.(2*x));\n",
    "# plot(x, y, color=\"red\", linewidth=2.0, linestyle=\"--\")\n",
    "# # plt.show()\n",
    "\n",
    "# function run_viz(x, y, z, c)\n",
    "#     fig = plt.figure(figsize=(9, 6))\n",
    "#     ax = plt.axes(projection=\"3d\")\n",
    "#     ax.scatter3D(x, y, z, c=c)\n",
    "#     p = ax.set_title(\"3D scatterplot\", pad=25, size=15)\n",
    "#     ax.set_xlabel(\"X\") \n",
    "#     ax.set_ylabel(\"Y\") \n",
    "#     ax.set_zlabel(\"Z\")\n",
    "#     plt.show()\n",
    "# end\n",
    "\n",
    "\n",
    "\n",
    "# # PyCall.py\"\"\"\n",
    "# # import matplotlib.pyplot as plt\n",
    "# # from mpl_toolkits import mplot3d\n",
    "# # def run_viz(x,y,z,c):\n",
    "# #     fig = plt.figure(figsize=(9, 6))\n",
    "# #     ax = plt.axes(projection='3d')\n",
    "# #     ax.scatter3D(x, y, z, c=c)\n",
    "# #     p = ax.set_title(\"3D scatterplot\", pad=25, size=15)\n",
    "# #     ax.set_xlabel(\"X\") \n",
    "# #     ax.set_ylabel(\"Y\") \n",
    "# #     ax.set_zlabel(\"Z\")\n",
    "# #     plt.show()\n",
    "# # \"\"\"\n",
    "\n",
    "# run_viz( (i->i[1]).(xyz), (i->i[2]).(xyz), (i->i[3]).(xyz), weights_xyz)"
   ]
  },
  {
   "cell_type": "code",
   "execution_count": null,
   "id": "dbdbf8d1",
   "metadata": {},
   "outputs": [],
   "source": []
  }
 ],
 "metadata": {
  "jupytext": {
   "cell_metadata_filter": "-all",
   "encoding": "# -*- coding: utf-8 -*-",
   "formats": "ipynb,auto:light",
   "notebook_metadata_filter": "-all"
  },
  "kernelspec": {
   "display_name": "Julia 1.6.5",
   "language": "julia",
   "name": "julia-1.6"
  },
  "language_info": {
   "file_extension": ".jl",
   "mimetype": "application/julia",
   "name": "julia",
   "version": "1.6.5"
  },
  "toc": {
   "base_numbering": 1,
   "nav_menu": {},
   "number_sections": true,
   "sideBar": true,
   "skip_h1_title": false,
   "title_cell": "Table of Contents",
   "title_sidebar": "Contents",
   "toc_cell": false,
   "toc_position": {},
   "toc_section_display": true,
   "toc_window_display": false
  },
  "varInspector": {
   "cols": {
    "lenName": 16,
    "lenType": 16,
    "lenVar": 40
   },
   "kernels_config": {
    "python": {
     "delete_cmd_postfix": "",
     "delete_cmd_prefix": "del ",
     "library": "var_list.py",
     "varRefreshCmd": "print(var_dic_list())"
    },
    "r": {
     "delete_cmd_postfix": ") ",
     "delete_cmd_prefix": "rm(",
     "library": "var_list.r",
     "varRefreshCmd": "cat(var_dic_list()) "
    }
   },
   "types_to_exclude": [
    "module",
    "function",
    "builtin_function_or_method",
    "instance",
    "_Feature"
   ],
   "window_display": false
  }
 },
 "nbformat": 4,
 "nbformat_minor": 5
}
