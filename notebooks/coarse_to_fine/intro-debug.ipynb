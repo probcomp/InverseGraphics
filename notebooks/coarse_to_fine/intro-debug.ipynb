{
 "cells": [
  {
   "cell_type": "code",
   "execution_count": null,
   "id": "2578a13f",
   "metadata": {},
   "outputs": [],
   "source": [
    "import Pkg\n",
    "Pkg.activate(\"../../\");"
   ]
  },
  {
   "cell_type": "code",
   "execution_count": 2,
   "id": "282f1623",
   "metadata": {},
   "outputs": [],
   "source": [
    "import Revise\n",
    "import GLRenderer as GL\n",
    "import Images as I\n",
    "import MiniGSG as S\n",
    "import Rotations as R\n",
    "import PoseComposition: Pose, IDENTITY_POSE, IDENTITY_ORN\n",
    "import InverseGraphics as T\n",
    "import NearestNeighbors\n",
    "import LightGraphs as LG\n",
    "import StaticArrays\n",
    "import ProgressMeter\n",
    "using Distributions\n",
    "import Gen\n",
    "using Plots\n",
    "using ProgressMeter\n",
    "try\n",
    "    import MeshCatViz as V\n",
    "catch\n",
    "    import MeshCatViz as V    \n",
    "end"
   ]
  },
  {
   "cell_type": "code",
   "execution_count": 3,
   "id": "f4fb0045",
   "metadata": {},
   "outputs": [
    {
     "name": "stderr",
     "output_type": "stream",
     "text": [
      "┌ Info: MeshCat server started. You can open the visualizer by visiting the following URL in your browser:\n",
      "│ http://127.0.0.1:8700\n",
      "└ @ MeshCat C:\\Users\\karen\\.julia\\packages\\MeshCat\\Ax8pH\\src\\visualizer.jl:73\n"
     ]
    },
    {
     "data": {
      "text/plain": [
       "Process(`\u001b[4mcmd.exe\u001b[24m \u001b[4m/C\u001b[24m \u001b[4m'start http://127.0.0.1:8700'\u001b[24m`, ProcessExited(0))"
      ]
     },
     "execution_count": 3,
     "metadata": {},
     "output_type": "execute_result"
    }
   ],
   "source": [
    "# # Initialize the renderer\n",
    "V.setup_visualizer()"
   ]
  },
  {
   "cell_type": "code",
   "execution_count": 4,
   "id": "ed750894",
   "metadata": {},
   "outputs": [
    {
     "data": {
      "text/plain": [
       "21-element Vector{String}:\n",
       " \"002_master_chef_can\"\n",
       " \"003_cracker_box\"\n",
       " \"004_sugar_box\"\n",
       " \"005_tomato_soup_can\"\n",
       " \"006_mustard_bottle\"\n",
       " \"007_tuna_fish_can\"\n",
       " \"008_pudding_box\"\n",
       " \"009_gelatin_box\"\n",
       " \"010_potted_meat_can\"\n",
       " \"011_banana\"\n",
       " \"019_pitcher_base\"\n",
       " \"021_bleach_cleanser\"\n",
       " \"024_bowl\"\n",
       " \"025_mug\"\n",
       " \"035_power_drill\"\n",
       " \"036_wood_block\"\n",
       " \"037_scissors\"\n",
       " \"040_large_marker\"\n",
       " \"051_large_clamp\"\n",
       " \"052_extra_large_clamp\"\n",
       " \"061_foam_brick\""
      ]
     },
     "execution_count": 4,
     "metadata": {},
     "output_type": "execute_result"
    }
   ],
   "source": [
    "# Loading the YCB object models\n",
    "YCB_DIR = joinpath(dirname(dirname(pwd())),\"data\")\n",
    "world_scaling_factor = 10.0\n",
    "id_to_cloud, id_to_shift, id_to_box  = T.load_ycbv_models_adjusted(YCB_DIR, world_scaling_factor);\n",
    "all_ids = sort(collect(keys(id_to_cloud)));\n",
    "names = T.load_ycb_model_list(YCB_DIR)"
   ]
  },
  {
   "cell_type": "code",
   "execution_count": 5,
   "id": "d736430a",
   "metadata": {},
   "outputs": [
    {
     "name": "stdout",
     "output_type": "stream",
     "text": [
      "gl_version_for_shaders = \"460\"\n",
      "true\n",
      "camera = GLRenderer.CameraIntrinsics\n",
      "  width: Int64 116\n",
      "  height: Int64 87\n",
      "  fx: Float64 116.36363636363636\n",
      "  fy: Float64 116.36363636363636\n",
      "  cx: Float64 58.18181818181818\n",
      "  cy: Float64 43.63636363636363\n",
      "  near: Float64 0.001\n",
      "  far: Float64 100.0\n",
      "\n"
     ]
    }
   ],
   "source": [
    "# Initialize the canera intrinsics and renderer that will render using those intrinsics.\n",
    "camera = GL.CameraIntrinsics()\n",
    "camera = T.scale_down_camera(camera, 5.5)\n",
    "camera_pose = IDENTITY_POSE\n",
    "\n",
    "renderer = GL.setup_renderer(camera, GL.DepthMode())\n",
    "resolution = 0.05\n",
    "\n",
    "@show camera;"
   ]
  },
  {
   "cell_type": "code",
   "execution_count": 6,
   "id": "7eca87fa",
   "metadata": {},
   "outputs": [
    {
     "name": "stdout",
     "output_type": "stream",
     "text": [
      "length(all_ids) = 21\n"
     ]
    },
    {
     "data": {
      "text/plain": [
       "21"
      ]
     },
     "execution_count": 6,
     "metadata": {},
     "output_type": "execute_result"
    }
   ],
   "source": [
    "\n",
    "# Load a cube (id = 1) and all ycb objects\n",
    "# box_mesh = GL.box_mesh_from_dims([2.0, 2.0, 2.0])\n",
    "# GL.load_object!(renderer, box_mesh)\n",
    "\n",
    "for id in all_ids\n",
    "    cloud = id_to_cloud[id]\n",
    "    mesh = GL.mesh_from_voxelized_cloud(GL.voxelize(cloud, resolution), resolution);\n",
    "    GL.load_object!(renderer, mesh)\n",
    "end\n",
    "\n",
    "@show length(all_ids)"
   ]
  },
  {
   "cell_type": "markdown",
   "id": "aea02c1b",
   "metadata": {},
   "source": [
    "## introductory visualizations\n",
    "to get a better sense of resolution effect on likelihood + qualitative results "
   ]
  },
  {
   "cell_type": "code",
   "execution_count": 34,
   "id": "b85f67e4",
   "metadata": {},
   "outputs": [
    {
     "name": "stdout",
     "output_type": "stream",
     "text": [
      "true\n"
     ]
    },
    {
     "data": {
      "image/png": "[encoded data removed]",
      "text/plain": [
       "87×116 Array{RGBA{Float64},2} with eltype RGBA{Float64}:\n",
       " RGBA{Float64}(0.3741,0.5564,1.0,1.0)  …  RGBA{Float64}(0.3741,0.5564,1.0,1.0)\n",
       " RGBA{Float64}(0.3741,0.5564,1.0,1.0)     RGBA{Float64}(0.3741,0.5564,1.0,1.0)\n",
       " RGBA{Float64}(0.3741,0.5564,1.0,1.0)     RGBA{Float64}(0.3741,0.5564,1.0,1.0)\n",
       " RGBA{Float64}(0.3741,0.5564,1.0,1.0)     RGBA{Float64}(0.3741,0.5564,1.0,1.0)\n",
       " RGBA{Float64}(0.3741,0.5564,1.0,1.0)     RGBA{Float64}(0.3741,0.5564,1.0,1.0)\n",
       " RGBA{Float64}(0.3741,0.5564,1.0,1.0)  …  RGBA{Float64}(0.3741,0.5564,1.0,1.0)\n",
       " RGBA{Float64}(0.3741,0.5564,1.0,1.0)     RGBA{Float64}(0.3741,0.5564,1.0,1.0)\n",
       " RGBA{Float64}(0.3741,0.5564,1.0,1.0)     RGBA{Float64}(0.3741,0.5564,1.0,1.0)\n",
       " RGBA{Float64}(0.3741,0.5564,1.0,1.0)     RGBA{Float64}(0.3741,0.5564,1.0,1.0)\n",
       " RGBA{Float64}(0.3741,0.5564,1.0,1.0)     RGBA{Float64}(0.3741,0.5564,1.0,1.0)\n",
       " RGBA{Float64}(0.3741,0.5564,1.0,1.0)  …  RGBA{Float64}(0.3741,0.5564,1.0,1.0)\n",
       " RGBA{Float64}(0.3741,0.5564,1.0,1.0)     RGBA{Float64}(0.3741,0.5564,1.0,1.0)\n",
       " RGBA{Float64}(0.3741,0.5564,1.0,1.0)     RGBA{Float64}(0.3741,0.5564,1.0,1.0)\n",
       " ⋮                                     ⋱  ⋮\n",
       " RGBA{Float64}(0.3741,0.5564,1.0,1.0)  …  RGBA{Float64}(0.3741,0.5564,1.0,1.0)\n",
       " RGBA{Float64}(0.3741,0.5564,1.0,1.0)     RGBA{Float64}(0.3741,0.5564,1.0,1.0)\n",
       " RGBA{Float64}(0.3741,0.5564,1.0,1.0)     RGBA{Float64}(0.3741,0.5564,1.0,1.0)\n",
       " RGBA{Float64}(0.3741,0.5564,1.0,1.0)     RGBA{Float64}(0.3741,0.5564,1.0,1.0)\n",
       " RGBA{Float64}(0.3741,0.5564,1.0,1.0)     RGBA{Float64}(0.3741,0.5564,1.0,1.0)\n",
       " RGBA{Float64}(0.3741,0.5564,1.0,1.0)  …  RGBA{Float64}(0.3741,0.5564,1.0,1.0)\n",
       " RGBA{Float64}(0.3741,0.5564,1.0,1.0)     RGBA{Float64}(0.3741,0.5564,1.0,1.0)\n",
       " RGBA{Float64}(0.3741,0.5564,1.0,1.0)     RGBA{Float64}(0.3741,0.5564,1.0,1.0)\n",
       " RGBA{Float64}(0.3741,0.5564,1.0,1.0)     RGBA{Float64}(0.3741,0.5564,1.0,1.0)\n",
       " RGBA{Float64}(0.3741,0.5564,1.0,1.0)     RGBA{Float64}(0.3741,0.5564,1.0,1.0)\n",
       " RGBA{Float64}(0.3741,0.5564,1.0,1.0)  …  RGBA{Float64}(0.3741,0.5564,1.0,1.0)\n",
       " RGBA{Float64}(0.3741,0.5564,1.0,1.0)     RGBA{Float64}(0.3741,0.5564,1.0,1.0)"
      ]
     },
     "metadata": {},
     "output_type": "display_data"
    },
    {
     "name": "stdout",
     "output_type": "stream",
     "text": [
      "names[i] = \"010_potted_meat_can\"\n"
     ]
    },
    {
     "data": {
      "text/plain": [
       "\"010_potted_meat_can\""
      ]
     },
     "execution_count": 34,
     "metadata": {},
     "output_type": "execute_result"
    }
   ],
   "source": [
    "#########\n",
    "# radius scaling\n",
    "#########\n",
    "bounds = (-100.0, 100.0, -100.0, 100.0,-100.0,100.0)\n",
    "\n",
    "i = 9 #rand(all_ids)\n",
    "pose = Pose([0.0, 0.0, 3.0], R.RotXYZ(0.4, -0.2, 0.4))\n",
    "\n",
    "# Reset the intrinsics inside of the renderer.\n",
    "GL.set_intrinsics!(renderer, camera) \n",
    "\n",
    "# And render the same image as above.\n",
    "gt_depth_image = GL.gl_render(renderer, [i], [pose], camera_pose)\n",
    "IJulia.display(GL.view_depth_image(gt_depth_image))\n",
    "\n",
    "# Create point cloud corresponding to that rendered depth image.\n",
    "gt_cloud = GL.depth_image_to_point_cloud(gt_depth_image, camera)\n",
    "# print(size(gt_cloud))\n",
    "\n",
    "\n",
    "@show names[i]\n",
    "\n",
    "# radius = 0.01  # \"tight\" radius\n",
    "# sampled_cloud = Gen.random(T.uniform_mixture_from_template, gt_cloud, 0.0001, radius, bounds)\n",
    "# # Visualize that point cloud.\n",
    "# # V.setup_visualizer()\n",
    "# # V.viz(sampled_cloud)  # = V.viz(T.move_points_to_frame_b(c, camera_pose))\n",
    "\n",
    " \n",
    "# radius = float(1)  # \"loose\" radius (can still pick out general shape)\n",
    "# sampled_cloud = Gen.random(T.uniform_mixture_from_template, gt_cloud, 0.0001, radius, bounds)\n",
    "# # Visualize that point cloud.\n",
    "# # V.setup_visualizer()\n",
    "# # V.viz(sampled_cloud)  # = V.viz(T.move_points_to_frame_b(c, camera_pose))\n",
    "\n",
    " \n",
    "# radius = float(10)  # very loose radius; points on a sphere (w/ some concentration on center with shape of obj)\n",
    "# sampled_cloud = Gen.random(T.uniform_mixture_from_template, gt_cloud, 0.0001, radius, bounds)\n",
    "# # # Visualize that point cloud.\n",
    "# # V.setup_visualizer()\n",
    "# # V.viz(sampled_cloud)  # = V.viz(T.move_points_to_frame_b(c, camera_pose))"
   ]
  },
  {
   "cell_type": "code",
   "execution_count": 8,
   "id": "4deb070c",
   "metadata": {},
   "outputs": [],
   "source": [
    "# ########\n",
    "# # camera downscaling\n",
    "# ########\n",
    "# using IJulia\n",
    "\n",
    "# final = 24\n",
    "# for downscale_factor=1:3.0:final\n",
    "#     println(\"scale down by $downscale_factor\")\n",
    "    \n",
    "#     # scale camera according to resolution; reset renderer\n",
    "#     scaled_camera = GL.scale_down_camera(camera, downscale_factor)\n",
    "        \n",
    "#     # Set the renderer to now have those scaled down intrinsics.\n",
    "#     GL.set_intrinsics!(renderer, scaled_camera)\n",
    " \n",
    "#     d = GL.gl_render(renderer, [i], [pose], IDENTITY_POSE)\n",
    "\n",
    "#     img = GL.view_depth_image(d)\n",
    "#     img = I.imresize(img, (camera.height, camera.width));\n",
    "#     IJulia.display(img)\n",
    "  \n",
    "#     # revert intrinsics\n",
    "#     GL.set_intrinsics!(renderer, camera)\n",
    "\n",
    "# end\n"
   ]
  },
  {
   "cell_type": "markdown",
   "id": "9d56301b",
   "metadata": {},
   "source": [
    "# Intro demo of coarse-to-fine with particle filtering"
   ]
  },
  {
   "cell_type": "markdown",
   "id": "3e9be6e7",
   "metadata": {},
   "source": [
    "## Particle Filtering + Orientation enumeration"
   ]
  },
  {
   "cell_type": "markdown",
   "id": "cd28dd51",
   "metadata": {},
   "source": [
    "### Orientation enumeration"
   ]
  },
  {
   "cell_type": "code",
   "execution_count": 9,
   "id": "7035b31c",
   "metadata": {},
   "outputs": [
    {
     "data": {
      "text/plain": [
       "fibonacci_sphere (generic function with 1 method)"
      ]
     },
     "execution_count": 9,
     "metadata": {},
     "output_type": "execute_result"
    }
   ],
   "source": [
    "function fibonacci_sphere(samples)\n",
    "    points = []\n",
    "    phi = π * (3. - sqrt(5.))\n",
    " \n",
    "    for i in 0:(samples-1)\n",
    "        y = 1 - (i / Float64(samples - 1)) * 2\n",
    "        #@show y\n",
    "        radius = sqrt(1 - y * y)\n",
    "\n",
    "        theta = phi * i\n",
    "\n",
    "        x = cos(theta) * radius\n",
    "        z = sin(theta) * radius\n",
    "\n",
    "        push!(points, (x, y, z))\n",
    "    end\n",
    "    return points\n",
    "end"
   ]
  },
  {
   "cell_type": "code",
   "execution_count": 10,
   "id": "272863cd",
   "metadata": {},
   "outputs": [],
   "source": [
    "unit_sphere_directions = fibonacci_sphere(150);\n",
    "other_rotation_angle = collect(0:0.20:(2*π));\n",
    "\n",
    "rotations_to_enumerate_over = [\n",
    "    let\n",
    "        T.geodesicHopf_select_axis(StaticArrays.SVector(dir), ang, 1)\n",
    "    end\n",
    "    for dir in unit_sphere_directions, \n",
    "        ang in other_rotation_angle\n",
    "];\n",
    "num_rotations_to_enumerate_over = length(rotations_to_enumerate_over);"
   ]
  },
  {
   "cell_type": "markdown",
   "id": "3652db75",
   "metadata": {},
   "source": [
    "### Helpers"
   ]
  },
  {
   "cell_type": "code",
   "execution_count": 11,
   "id": "40f23381",
   "metadata": {},
   "outputs": [
    {
     "data": {
      "text/plain": [
       "viz_trace (generic function with 1 method)"
      ]
     },
     "execution_count": 11,
     "metadata": {},
     "output_type": "execute_result"
    }
   ],
   "source": [
    "function viz_trace(trace)\n",
    "    V.setup_visualizer()\n",
    "#     V.reset_visualizer()\n",
    "    V.viz(Gen.get_retval(trace).voxelized_cloud  ./ 10.0; color=I.colorant\"red\", channel_name=:gen);\n",
    "    V.viz(Gen.get_retval(trace).obs_cloud ./ 10.0; color=I.colorant\"blue\", channel_name=:obs);\n",
    "end"
   ]
  },
  {
   "cell_type": "code",
   "execution_count": 12,
   "id": "3329c5ef",
   "metadata": {},
   "outputs": [
    {
     "data": {
      "text/plain": [
       "get_cloud (generic function with 1 method)"
      ]
     },
     "execution_count": 12,
     "metadata": {},
     "output_type": "execute_result"
    }
   ],
   "source": [
    "# Helper function to get point cloud from the object ids, object poses, and camera pose\n",
    "# (see demo.jl)\n",
    "function get_cloud(poses, ids, renderer, camera_pose)\n",
    "#     @show poses, ids\n",
    "    depth_image = GL.gl_render(renderer, ids, poses, camera_pose)\n",
    "    cloud = GL.depth_image_to_point_cloud(depth_image, renderer.camera_intrinsics)\n",
    "    if isnothing(cloud)\n",
    "        cloud = zeros(3,1)\n",
    "    else\n",
    "        cloud = T.move_points_to_frame_b(cloud, camera_pose)\n",
    "    end\n",
    "    cloud\n",
    "end"
   ]
  },
  {
   "cell_type": "code",
   "execution_count": 13,
   "id": "841d3672",
   "metadata": {},
   "outputs": [
    {
     "data": {
      "text/plain": [
       "icp_move (generic function with 1 method)"
      ]
     },
     "execution_count": 13,
     "metadata": {},
     "output_type": "execute_result"
    }
   ],
   "source": [
    "function icp_move(trace, i, inf_radius, renderer, cam_pose; iterations=10, unexplained_radius=0.2, crazy_pose=Pose([-100.0,-100.0,-100.0]))\n",
    "    # get_cloud_func needs to give the points in the world frame\n",
    "    get_cloud_func = (poses, ids, cam_pose, i) -> get_cloud(poses, ids, renderer, cam_pose)  \n",
    "    id = Gen.get_choices(trace)[:id]  \n",
    "    addr = T.floating_pose_addr(1)\n",
    "    \n",
    "#     crazy_voxelized_cloud = GL.voxelize(get_cloud([crazy_pose], [id], renderer, cam_pose), v_resolution(inf_radius))\n",
    "#     observations = Gen.choicemap(T.obs_addr() => crazy_voxelized_cloud, :id => id)\n",
    "#     t, _,_,_ = Gen.update(trace, observations)\n",
    "    \n",
    "    t, = Gen.update(trace, Gen.choicemap(T.floating_pose_addr(1) => crazy_pose))\n",
    "    obs_cloud = T.move_points_to_frame_b(\n",
    "            T.get_unexplained_obs_cloud(t, unexplained_radius)[1], cam_pose)\n",
    "    refined_pose = trace[addr]\n",
    "    refined_pose = T.icp_object_pose(\n",
    "        refined_pose,\n",
    "        obs_cloud,\n",
    "        p -> get_cloud_func([p], [id], cam_pose, 1) \n",
    "    )\n",
    "\n",
    "    acceptances = false\n",
    "     \n",
    "    for _ in 1:iterations\n",
    "        trace, acc = T.pose_mixture_move(\n",
    "            trace, addr, [trace[addr], refined_pose], [0.5, 0.5], 1e-2, 5000.0\n",
    "        )\n",
    "        acceptances = acc || acceptances\n",
    "    end\n",
    "    \n",
    "    trace, acceptances, refined_pose\n",
    "end\n"
   ]
  },
  {
   "cell_type": "code",
   "execution_count": 14,
   "id": "2e2164c6",
   "metadata": {},
   "outputs": [
    {
     "data": {
      "text/plain": [
       "icp_move_no_unexplained (generic function with 1 method)"
      ]
     },
     "execution_count": 14,
     "metadata": {},
     "output_type": "execute_result"
    }
   ],
   "source": [
    "function icp_move_no_unexplained(trace, i, inf_radius, renderer, cam_pose; iterations=10)\n",
    "    # get_cloud_func needs to give the points in the world frame\n",
    "    get_cloud_func = (poses, ids, cam_pose, i) -> get_cloud(poses, ids, renderer, cam_pose)  \n",
    "    id = Gen.get_choices(trace)[:id]  \n",
    "    addr = T.floating_pose_addr(1)\n",
    "    \n",
    "    obs_cloud = T.move_points_to_frame_b(T.get_obs_cloud(trace), cam_pose)\n",
    "    \n",
    "    refined_pose = trace[addr]\n",
    "    refined_pose = T.icp_object_pose(\n",
    "        refined_pose,\n",
    "        obs_cloud,\n",
    "        p -> T.voxelize(get_cloud_func([p], [id], cam_pose, 1),inf_radius)\n",
    "    )\n",
    "\n",
    "    acceptances = false\n",
    "     \n",
    "    for _ in 1:iterations\n",
    "        trace, acc = T.pose_mixture_move(\n",
    "            trace, addr, [trace[addr], refined_pose], [0.5, 0.5], 1e-2, 5000.0\n",
    "        )\n",
    "        acceptances = acc || acceptances\n",
    "    end\n",
    "    \n",
    "    trace, acceptances, refined_pose\n",
    "end"
   ]
  },
  {
   "cell_type": "code",
   "execution_count": 15,
   "id": "9c4a5277",
   "metadata": {},
   "outputs": [
    {
     "data": {
      "text/plain": [
       "generate_initial_pf_state"
      ]
     },
     "execution_count": 15,
     "metadata": {},
     "output_type": "execute_result"
    }
   ],
   "source": [
    "\"\"\"Selecting from a set of traces over all enumerated angles, generate a set of initial particles\"\"\"\n",
    "Gen.@gen function generate_initial_pf_state(scored_traces, num_particles, U=Gen.DynamicDSLTrace{Gen.DynamicDSLFunction{Any}})\n",
    "    # unpack traces\n",
    "    traces = (t -> t[1]).(scored_traces)\n",
    "    log_weights = (t -> t[1].score).(scored_traces)#(t -> t[2]).(scored_traces)  \n",
    "    \n",
    "    _, norm_log_weights = Gen.normalize_weights(log_weights)       \n",
    "    \n",
    "    # sample initial set of particles\n",
    "    selected_traces = Vector{Gen.DynamicDSLTrace{Gen.DynamicDSLFunction{Any}}}(undef, num_particles)\n",
    "    selected_log_weights = Vector{Float64}(undef, num_particles)\n",
    "    for i=1:num_particles\n",
    "        trace_idx = Gen.random(Gen.categorical, exp.(norm_log_weights))   \n",
    "        selected_traces[i] = traces[trace_idx]\n",
    "        selected_log_weights[i] = norm_log_weights[trace_idx]\n",
    "    end\n",
    "    \n",
    "    println(\"Initial particle state computed\"); flush(stdout)\n",
    "\n",
    "#     # visualize pdf of initial weights (?)\n",
    "#     plot(selected_log_weights, seriestype=:stephist, fmt = :png)\n",
    "    \n",
    "    # see intermediate results\n",
    "    top_n = max(10, num_particles-1)\n",
    "    _, norm_log_weights = Gen.normalize_weights(selected_log_weights)\n",
    "    p = sortperm(norm_log_weights)[end-top_n:end]; \n",
    "\n",
    "    best_trace = selected_traces[argmax(norm_log_weights)];\n",
    "    viz_trace(best_trace);\n",
    "    println(\"top$top_n traces:\")\n",
    "    for idx in p\n",
    "       println(\"curr_weight=\", norm_log_weights[idx], \" ori=\", R.params(Gen.get_retval(selected_traces[idx]).ori), \" id=\", Gen.get_retval(selected_traces[idx]).id) \n",
    "    end\n",
    "    flush(stdout)\n",
    "    \n",
    "    return Gen.ParticleFilterState{U}(selected_traces, Vector{U}(undef, num_particles), selected_log_weights, 0., collect(1:num_particles))\n",
    "\n",
    "end"
   ]
  },
  {
   "cell_type": "code",
   "execution_count": 53,
   "id": "a4c88c75",
   "metadata": {},
   "outputs": [
    {
     "data": {
      "text/plain": [
       "particle_filter_step!"
      ]
     },
     "execution_count": 53,
     "metadata": {},
     "output_type": "execute_result"
    }
   ],
   "source": [
    "\"\"\"adapted from gen pf_step:\n",
    "Perform a particle filter update, where the model arguments are adjusted, new observations are added, and the default proposal is used for new latent state.\n",
    "\"\"\"\n",
    "function particle_filter_step!(state::Gen.ParticleFilterState{U}, new_args::Tuple, argdiffs::Tuple,\n",
    "        observations) where {U}    \n",
    "    radius, renderer = new_args\n",
    "    log_incremental_weights = Vector{Float64}(undef, num_particles) \n",
    "    radius::Float64 = new_args[1]\n",
    "    \n",
    "    @showprogress for i=1:num_particles\n",
    "    ## do mh, drift moves, etc. tune particle before update (i.e. new likelihood)\n",
    "        state.traces[i], acc, _ = icp_move_no_unexplained(state.traces[i], Gen.get_retval(state.traces[i]).id, \n",
    "                                            radius, renderer, camera_pose; iterations=15)\n",
    "\n",
    "        state.traces[i], acc = T.drift_move(state.traces[i], T.floating_pose_addr(1), 0.001, 100.0)\n",
    "        state.traces[i], acc = T.drift_move(state.traces[i], T.floating_pose_addr(1), 0.0005, 100.0)\n",
    "        state.traces[i], acc = T.drift_move(state.traces[i], T.floating_pose_addr(1), 0.0005, 500.0)\n",
    "        state.traces[i], acc = T.drift_move(state.traces[i], T.floating_pose_addr(1), 0.001, 1000.0)\n",
    "        state.traces[i], acc = T.drift_move(state.traces[i], T.floating_pose_addr(1), 0.0005, 1000.0)\n",
    "\n",
    "        \n",
    "        # evolve the particle (with new radius involved in new_args)\n",
    "        (state.new_traces[i], increment, _, discard) = Gen.update(\n",
    "            state.traces[i], new_args, argdiffs, observations)\n",
    "#         if !isempty(discard)\n",
    "#             error(\"Choices were updated or deleted inside particle filter step: $discard\")\n",
    "#         end\n",
    "        log_incremental_weights[i] = increment\n",
    "        state.log_weights[i] += increment\n",
    "    end\n",
    "    \n",
    "    # swap references\n",
    "    tmp = state.traces\n",
    "    state.traces = state.new_traces\n",
    "    state.new_traces = tmp\n",
    "\n",
    "    return log_incremental_weights\n",
    "end"
   ]
  },
  {
   "cell_type": "code",
   "execution_count": 17,
   "id": "31c8e92f",
   "metadata": {},
   "outputs": [
    {
     "data": {
      "text/plain": [
       "scale_factor"
      ]
     },
     "execution_count": 17,
     "metadata": {},
     "output_type": "execute_result"
    }
   ],
   "source": [
    "bounds = (-100.0, 100.0, -100.0, 100.0,-100.0,300.0)\n",
    "\n",
    "v_resolution = radius -> radius * 0.5  # distance between two points on the pointcloud \n",
    "\n",
    "\"\"\"sample point clouds at the given camera resolution and radius\"\"\"\n",
    "Gen.@gen function model(radius, renderer)\n",
    "    \n",
    "    # sample object id\n",
    "    i = {:id} ~ Gen.categorical(fill(1.0/num_candidate_objs, (num_candidate_objs,)))\n",
    "    \n",
    "    # sample pose\n",
    "    p = {T.floating_pose_addr(1)} ~ T.uniformPose(-0.001, 0.001, -0.001, 0.001, 4.999, 5.001)\n",
    "    \n",
    "    gt_cloud = get_cloud([p], [i], renderer, camera_pose)    \n",
    "    voxelized_cloud = GL.voxelize(gt_cloud, v_resolution(radius))\n",
    "    obs_cloud = {T.obs_addr()} ~ T.uniform_mixture_from_template(voxelized_cloud, 0.0001, radius, bounds)\n",
    "#     print(\".\"); flush(stdout)\n",
    "         \n",
    "    (id=i, pose=p, ori=p.orientation, cloud=gt_cloud, voxelized_cloud=voxelized_cloud, rendered_clouds=[voxelized_cloud], obs_cloud=obs_cloud)\n",
    "\n",
    "end\n",
    " \n",
    "\"\"\"return scale down factor of camera given desired resolution\"\"\"\n",
    "function scale_factor(resolution, final_resolution)\n",
    "   return final_resolution-resolution+1 \n",
    "end"
   ]
  },
  {
   "cell_type": "markdown",
   "id": "6b463d3c",
   "metadata": {},
   "source": [
    "### control resolution with radius (fixed camera intrinsics)"
   ]
  },
  {
   "cell_type": "code",
   "execution_count": 29,
   "id": "2f3ac3b7",
   "metadata": {},
   "outputs": [
    {
     "data": {
      "text/plain": [
       "particle_filter (generic function with 2 methods)"
      ]
     },
     "execution_count": 29,
     "metadata": {},
     "output_type": "execute_result"
    }
   ],
   "source": [
    "\"\"\"Particle filter on the evolution of agent knowledge over time; resolution control with radius\"\"\"\n",
    "\n",
    "\n",
    "function particle_filter(renderer, init_radius::Float64, final_radius::Float64, scored_traces,\n",
    "                        gt_obj_id::Int, gt_pose::Pose, num_particles::Int, num_samples::Int, U=Gen.DynamicDSLTrace{Gen.DynamicDSLFunction{Any}})\n",
    "    \n",
    "    # initialize renderer and particle filter\n",
    "    GL.set_intrinsics!(renderer, camera)  \n",
    "    gt_cloud = get_cloud([gt_pose], [gt_obj_id], renderer, camera_pose)\n",
    "    gt_voxelized_cloud = GL.voxelize(gt_cloud, v_resolution(init_radius))\n",
    "#     V.setup_visualizer()\n",
    "#     V.viz(gt_voxelized_cloud)\n",
    "    println(\"\\ninitializing particle filter at radius $init_radius\") \n",
    "    flush(stdout)\n",
    "    \n",
    "    \n",
    "    # initialize a state of initial particles with various rotations  \n",
    "    state::Gen.ParticleFilterState{U} = generate_initial_pf_state(scored_traces, num_particles)\n",
    "    \n",
    "    \n",
    "    # evolve over resolutions (modify sphere radius `r` of mixture point cloud likelihood)\n",
    "    @assert(final_radius <= init_radius)\n",
    "    step = -final_radius\n",
    "    for radius in init_radius+step:step:final_radius\n",
    "        println(\"\\n========Radius=$radius========\"); flush(stdout)\n",
    "        Gen.maybe_resample!(state, ess_threshold=num_particles/3, verbose=true)  \n",
    "        \n",
    "        # update pf \n",
    "        observations = Gen.choicemap(T.obs_addr() => GL.voxelize(gt_cloud, v_resolution(radius)) \n",
    "                                    ,:id => gt_obj_id)\n",
    "        current_log_weights = particle_filter_step!(state, (radius, renderer), (Gen.UnknownChange(),), observations)    \n",
    "        \n",
    "        # see intermediate results\n",
    "        top_n = max(10, num_particles-1)\n",
    "        _, norm_log_weights = Gen.normalize_weights(current_log_weights)\n",
    "        p = sortperm(norm_log_weights)[end-top_n:end]; \n",
    "        \n",
    "        best_trace = state.traces[argmax(norm_log_weights)];\n",
    "        viz_trace(best_trace);\n",
    "        println(\"top$top_n traces:\")\n",
    "        for idx in p\n",
    "           println(\"weight=\", norm_log_weights[idx], \" ori=\", R.params(Gen.get_retval(state.traces[idx]).ori), \"  id=\", Gen.get_retval(state.traces[idx]).id) \n",
    "        end\n",
    "        flush(stdout)\n",
    "        \n",
    "    end;\n",
    "    \n",
    "    # normalize final weights\n",
    "    log_total_weight, _ = Gen.normalize_weights(state.log_weights)\n",
    "    return Gen.sample_unweighted_traces(state, num_samples)\n",
    "    \n",
    "end"
   ]
  },
  {
   "cell_type": "code",
   "execution_count": 30,
   "id": "25f87741",
   "metadata": {},
   "outputs": [
    {
     "name": "stdout",
     "output_type": "stream",
     "text": [
      "true\n"
     ]
    },
    {
     "data": {
      "text/plain": [
       "Pose⟨pos=[0, 0, 0], orientation=(w=1.0, x=0.0, y=0.0, z=0.0)⟩"
      ]
     },
     "execution_count": 30,
     "metadata": {},
     "output_type": "execute_result"
    }
   ],
   "source": [
    "# Initialize the canera intrinsics and renderer that will render using those intrinsics.\n",
    "GL.set_intrinsics!(renderer, camera)\n",
    " \n",
    "final_radius = float(0.05)  # low to high \"focus\"\n",
    "init_radius = final_radius * 5\n",
    "camera_pose = IDENTITY_POSE\n"
   ]
  },
  {
   "cell_type": "code",
   "execution_count": 40,
   "id": "87503201",
   "metadata": {},
   "outputs": [
    {
     "data": {
      "text/plain": [
       "precompute_enumerations (generic function with 1 method)"
      ]
     },
     "execution_count": 40,
     "metadata": {},
     "output_type": "execute_result"
    }
   ],
   "source": [
    "function precompute_enumerations(gt_voxelized_cloud, gt_pose, init_radius, renderer, num_candidate_objs, rotations_to_enumerate_over)\n",
    "    # initialize a state of initial particles with various rotations\n",
    "    all_scored_traces = Nothing\n",
    "    println(\"Enumerating over all objects, angles:\")\n",
    "    for obj_id=1:num_candidate_objs\n",
    "        scored_traces = @showprogress map(orn -> \n",
    "                        Gen.generate(model, (init_radius, renderer),                 \n",
    "                                    Gen.choicemap(T.obs_addr() => gt_voxelized_cloud, \n",
    "                                                :id => obj_id, \n",
    "                                                T.floating_pose_addr(1) => Pose(gt_pose.pos, orn))),\n",
    "                                    rotations_to_enumerate_over[:]);\n",
    "        \n",
    "        if all_scored_traces == Nothing\n",
    "            all_scored_traces = scored_traces\n",
    "        else\n",
    "            all_scored_traces = vcat(all_scored_traces, scored_traces)\n",
    "        end\n",
    "    end\n",
    "    return all_scored_traces \n",
    "    \n",
    "end \n",
    "\n",
    "\n",
    "# precompute enumeration; run the below code once and comment out\n",
    "num_candidate_objs = 10 #length(all_ids)+1  #set to 1 for fixed object id\n",
    "\n",
    "gt_obj_id = 7#rand(1:num_candidate_objs)\n",
    "object = names[gt_obj_id]\n",
    "println(\"Object id$gt_obj_id  $object\")\n",
    "\n",
    "tr, _ = Gen.generate(model, (init_radius, renderer), Gen.choicemap(:id => gt_obj_id))\n",
    "gt_pose = T.Pose(pos=[0.0, 0.0, 5.0], orientation=Gen.get_retval(tr).ori)\n",
    "\n",
    "gt_cloud = get_cloud([gt_pose], [gt_obj_id], renderer, camera_pose)\n",
    "gt_voxelized_cloud = GL.voxelize(gt_cloud, v_resolution(init_radius))\n",
    "\n",
    "# enum_ori_traces_10 = precompute_enumerations(gt_voxelized_cloud, gt_pose, init_radius, renderer, num_candidate_objs, rotations_to_enumerate_over)\n",
    "\n",
    "num_rotations_to_enumerate_over = length(enum_ori_traces)\n"
   ]
  },
  {
   "cell_type": "code",
   "execution_count": 45,
   "id": "ca4d0e9d",
   "metadata": {},
   "outputs": [
    {
     "data": {
      "text/plain": [
       "4"
      ]
     },
     "execution_count": 45,
     "metadata": {},
     "output_type": "execute_result"
    }
   ],
   "source": [
    "# precompute enumeration; run the below code once and comment out\n",
    "num_candidate_objs = 21 #length(all_ids)+1  #set to 1 for fixed object id\n",
    "\n",
    "gt_obj_id = rand(1:num_candidate_objs)\n",
    "# gt_pose, enum_ori_traces = precompute_enumerations(gt_obj_id, init_radius, renderer, num_candidate_objs, rotations_to_enumerate_over)\n",
    "\n"
   ]
  },
  {
   "cell_type": "code",
   "execution_count": 51,
   "id": "8a8451a3",
   "metadata": {},
   "outputs": [
    {
     "data": {
      "text/plain": [
       "4"
      ]
     },
     "execution_count": 51,
     "metadata": {},
     "output_type": "execute_result"
    }
   ],
   "source": [
    "# enum_ori_traces_full = enum_ori_traces\n",
    "# gt_pose_full = gt_pose\n",
    "# gt_obj_id_full = gt_obj_id"
   ]
  },
  {
   "cell_type": "code",
   "execution_count": 52,
   "id": "a3062fb6",
   "metadata": {},
   "outputs": [
    {
     "name": "stdout",
     "output_type": "stream",
     "text": [
      "num_rotations_to_enumerate_over = length(enum_ori_traces) = 100800\n",
      "gt_obj_id = 4\n",
      "true\n",
      "\n",
      "initializing particle filter at radius 0.25\n",
      "Initial particle state computed\n",
      "top19 traces:\n",
      "curr_weight=-2.995732273553991 ori=[0.40996497674712196, 0.8054826471976271, -0.41213673480418045, -0.11519433462277356] id=10\n",
      "curr_weight=-2.995732273553991 ori=[0.40996497674712196, 0.8054826471976271, -0.41213673480418045, -0.11519433462277356] id=10\n",
      "curr_weight=-2.995732273553991 ori=[0.40996497674712196, 0.8054826471976271, -0.41213673480418045, -0.11519433462277356] id=10\n",
      "curr_weight=-2.995732273553991 ori=[0.40996497674712196, 0.8054826471976271, -0.41213673480418045, -0.11519433462277356] id=10\n",
      "curr_weight=-2.995732273553991 ori=[0.40996497674712196, 0.8054826471976271, -0.41213673480418045, -0.11519433462277356] id=10\n",
      "curr_weight=-2.995732273553991 ori=[0.40996497674712196, 0.8054826471976271, -0.41213673480418045, -0.11519433462277356] id=10\n",
      "curr_weight=-2.995732273553991 ori=[0.40996497674712196, 0.8054826471976271, -0.41213673480418045, -0.11519433462277356] id=10\n",
      "curr_weight=-2.995732273553991 ori=[0.40996497674712196, 0.8054826471976271, -0.41213673480418045, -0.11519433462277356] id=10\n",
      "curr_weight=-2.995732273553991 ori=[0.40996497674712196, 0.8054826471976271, -0.41213673480418045, -0.11519433462277356] id=10\n",
      "curr_weight=-2.995732273553991 ori=[0.40996497674712196, 0.8054826471976271, -0.41213673480418045, -0.11519433462277356] id=10\n",
      "curr_weight=-2.995732273553991 ori=[0.40996497674712196, 0.8054826471976271, -0.41213673480418045, -0.11519433462277356] id=10\n",
      "curr_weight=-2.995732273553991 ori=[0.40996497674712196, 0.8054826471976271, -0.41213673480418045, -0.11519433462277356] id=10\n",
      "curr_weight=-2.995732273553991 ori=[0.40996497674712196, 0.8054826471976271, -0.41213673480418045, -0.11519433462277356] id=10\n",
      "curr_weight=-2.995732273553991 ori=[0.40996497674712196, 0.8054826471976271, -0.41213673480418045, -0.11519433462277356] id=10\n",
      "curr_weight=-2.995732273553991 ori=[0.40996497674712196, 0.8054826471976271, -0.41213673480418045, -0.11519433462277356] id=10\n",
      "curr_weight=-2.995732273553991 ori=[0.40996497674712196, 0.8054826471976271, -0.41213673480418045, -0.11519433462277356] id=10\n",
      "curr_weight=-2.995732273553991 ori=[0.40996497674712196, 0.8054826471976271, -0.41213673480418045, -0.11519433462277356] id=10\n",
      "curr_weight=-2.995732273553991 ori=[0.40996497674712196, 0.8054826471976271, -0.41213673480418045, -0.11519433462277356] id=10\n",
      "curr_weight=-2.995732273553991 ori=[0.40996497674712196, 0.8054826471976271, -0.41213673480418045, -0.11519433462277356] id=10\n",
      "curr_weight=-2.995732273553991 ori=[0.40996497674712196, 0.8054826471976271, -0.41213673480418045, -0.11519433462277356] id=10\n",
      "\n",
      "========Radius=0.2========\n"
     ]
    },
    {
     "name": "stderr",
     "output_type": "stream",
     "text": [
      "┌ Info: MeshCat server started. You can open the visualizer by visiting the following URL in your browser:\n",
      "│ http://127.0.0.1:8726\n",
      "└ @ MeshCat C:\\Users\\karen\\.julia\\packages\\MeshCat\\Ax8pH\\src\\visualizer.jl:73\n",
      "\u001b[32mProgress: 100%|█████████████████████████████████████████| Time: 0:00:02\u001b[39m\n"
     ]
    },
    {
     "name": "stdout",
     "output_type": "stream",
     "text": [
      "effective sample size: 19.999999999999996, doing resample: false\n",
      "top19 traces:\n",
      "weight=-26.088262945727553 ori=[0.4428766400442645, 0.7453789446745275, -0.45318406160010016, -0.20711039773663548]  id=4\n",
      "weight=-16.228770708822463 ori=[0.4068302706101596, 0.7790662127985211, -0.4566518691196661, -0.1378913971955807]  id=4\n",
      "weight=-16.153435171507407 ori=[0.4192733350249716, 0.7739299194408891, -0.4537660658779721, -0.13906368249433357]  id=4\n",
      "weight=-15.095525813783606 ori=[0.4111847952542571, 0.7953489063887708, -0.4194980534811884, -0.14956123957561723]  id=4\n",
      "weight=-10.58392796155584 ori=[0.419678744414805, 0.8037036782297382, -0.387649984015264, -0.16630585972649253]  id=4\n",
      "weight=-8.289300929515338 ori=[0.4146759025484466, 0.801148433697454, -0.4189353621166647, -0.10343232279092723]  id=4\n",
      "weight=-7.782639850692693 ori=[0.40996497674712196, 0.8054826471976271, -0.41213673480418045, -0.11519433462277356]  id=4\n",
      "weight=-7.782639850692693 ori=[0.40996497674712196, 0.8054826471976271, -0.41213673480418045, -0.11519433462277356]  id=4\n",
      "weight=-7.782639850692693 ori=[0.40996497674712196, 0.8054826471976271, -0.41213673480418045, -0.11519433462277356]  id=4\n",
      "weight=-7.782639850692693 ori=[0.40996497674712196, 0.8054826471976271, -0.41213673480418045, -0.11519433462277356]  id=4\n",
      "weight=-7.782639850692693 ori=[0.40996497674712196, 0.8054826471976271, -0.41213673480418045, -0.11519433462277356]  id=4\n",
      "weight=-5.855155697603781 ori=[0.44066294810217554, 0.787551000034974, -0.4202660505138122, -0.09463633181465646]  id=4\n",
      "weight=-5.280076874329875 ori=[0.4130675056205347, 0.8071949475440167, -0.4088333098645884, -0.10328057515819368]  id=4\n",
      "weight=-4.697018978186204 ori=[0.4483107827093395, 0.7977082075868132, -0.3990967407221321, -0.058316800324987844]  id=4\n",
      "weight=-4.256411543129079 ori=[0.40738983543265483, 0.7907668230796625, -0.4460376545507403, -0.0988522342970894]  id=4\n",
      "weight=-4.196675686844106 ori=[0.4307184767451993, 0.7591530364107115, -0.47520113612355724, -0.11114018771611242]  id=4\n",
      "weight=-3.1866334841170065 ori=[0.41291763600889086, 0.8142068323488021, -0.39472754650346265, -0.10371318171146632]  id=4\n",
      "weight=-1.6114411182052741 ori=[0.4533555482481169, 0.7877062732392954, -0.40733544166244884, -0.0898076385268403]  id=4\n",
      "weight=-1.2872123008780072 ori=[0.4211300646035512, 0.8240853051887683, -0.3597258384097971, -0.11887051627427266]  id=4\n",
      "weight=-0.8338110586777354 ori=[0.4426299497447271, 0.7910628654146529, -0.4089167650281514, -0.10528698794177233]  id=4\n",
      "\n",
      "========Radius=0.15========\n"
     ]
    },
    {
     "name": "stderr",
     "output_type": "stream",
     "text": [
      "┌ Info: MeshCat server started. You can open the visualizer by visiting the following URL in your browser:\n",
      "│ http://127.0.0.1:8727\n",
      "└ @ MeshCat C:\\Users\\karen\\.julia\\packages\\MeshCat\\Ax8pH\\src\\visualizer.jl:73\n",
      "\u001b[32mProgress: 100%|█████████████████████████████████████████| Time: 0:00:02\u001b[39m\n"
     ]
    },
    {
     "name": "stdout",
     "output_type": "stream",
     "text": [
      "effective sample size: 3.2574875858349652, doing resample: true\n",
      "top19 traces:\n",
      "weight=-9.651447513741516 ori=[0.4449562149558956, 0.8094317271060225, -0.3564196766586027, -0.14070984335455045]  id=4\n",
      "weight=-9.180766911593679 ori=[0.43280800472631326, 0.8264513637559977, -0.33210370821158375, -0.13914920546950657]  id=4\n",
      "weight=-6.299226447200539 ori=[0.4211300646035512, 0.8240853051887683, -0.3597258384097971, -0.11887051627427266]  id=4\n",
      "weight=-6.299226447200539 ori=[0.4211300646035512, 0.8240853051887683, -0.3597258384097971, -0.11887051627427266]  id=4\n",
      "weight=-6.299226447200539 ori=[0.4211300646035512, 0.8240853051887683, -0.3597258384097971, -0.11887051627427266]  id=4\n",
      "weight=-6.000783322274657 ori=[0.4309136256570496, 0.7910988102435556, -0.4066290207216485, -0.15208208034242643]  id=4\n",
      "weight=-4.043608836161525 ori=[0.4533555482481169, 0.7877062732392954, -0.40733544166244884, -0.0898076385268403]  id=4\n",
      "weight=-4.043608836161525 ori=[0.4533555482481169, 0.7877062732392954, -0.40733544166244884, -0.0898076385268403]  id=4\n",
      "weight=-4.043608836161525 ori=[0.4533555482481169, 0.7877062732392954, -0.40733544166244884, -0.0898076385268403]  id=4\n",
      "weight=-3.456823354863616 ori=[0.43313857336678385, 0.8090595823120836, -0.38422102197990143, -0.10093450747640426]  id=4\n",
      "weight=-2.8811049060500977 ori=[0.4426299497447271, 0.7910628654146529, -0.4089167650281514, -0.10528698794177233]  id=4\n",
      "weight=-2.8811049060500977 ori=[0.4426299497447271, 0.7910628654146529, -0.4089167650281514, -0.10528698794177233]  id=4\n",
      "weight=-2.8811049060500977 ori=[0.4426299497447271, 0.7910628654146529, -0.4089167650281514, -0.10528698794177233]  id=4\n",
      "weight=-2.8811049060500977 ori=[0.4426299497447271, 0.7910628654146529, -0.4089167650281514, -0.10528698794177233]  id=4\n",
      "weight=-2.8811049060500977 ori=[0.4426299497447271, 0.7910628654146529, -0.4089167650281514, -0.10528698794177233]  id=4\n",
      "weight=-2.8811049060500977 ori=[0.4426299497447271, 0.7910628654146529, -0.4089167650281514, -0.10528698794177233]  id=4\n",
      "weight=-2.8811049060500977 ori=[0.4426299497447271, 0.7910628654146529, -0.4089167650281514, -0.10528698794177233]  id=4\n",
      "weight=-2.8811049060500977 ori=[0.4426299497447271, 0.7910628654146529, -0.4089167650281514, -0.10528698794177233]  id=4\n",
      "weight=-1.4865399199202898 ori=[0.428208951533938, 0.8196827328095248, -0.3739236954880297, -0.0702736174726343]  id=4\n",
      "weight=-1.4568255316790726 ori=[0.41291763600889086, 0.8142068323488021, -0.39472754650346265, -0.10371318171146632]  id=4\n",
      "\n",
      "========Radius=0.1========\n"
     ]
    },
    {
     "name": "stderr",
     "output_type": "stream",
     "text": [
      "┌ Info: MeshCat server started. You can open the visualizer by visiting the following URL in your browser:\n",
      "│ http://127.0.0.1:8728\n",
      "└ @ MeshCat C:\\Users\\karen\\.julia\\packages\\MeshCat\\Ax8pH\\src\\visualizer.jl:73\n",
      "\u001b[32mProgress: 100%|█████████████████████████████████████████| Time: 0:00:03\u001b[39m\n"
     ]
    },
    {
     "name": "stdout",
     "output_type": "stream",
     "text": [
      "effective sample size: 7.5466724801656815, doing resample: false\n",
      "top19 traces:\n",
      "weight=-68.47564847419272 ori=[0.42606475839430286, 0.7844217800539234, -0.4293050052823533, -0.13728985785904718]  id=4\n",
      "weight=-64.56704379598455 ori=[0.4449562149558956, 0.8094317271060225, -0.3564196766586027, -0.14070984335455045]  id=4\n",
      "weight=-63.79833483785933 ori=[0.4211300646035512, 0.8240853051887683, -0.3597258384097971, -0.11887051627427266]  id=4\n",
      "weight=-63.79833483785933 ori=[0.4211300646035512, 0.8240853051887683, -0.3597258384097971, -0.11887051627427266]  id=4\n",
      "weight=-57.65133134617702 ori=[0.4533555482481169, 0.7877062732392954, -0.40733544166244884, -0.0898076385268403]  id=4\n",
      "weight=-57.65133134617702 ori=[0.4533555482481169, 0.7877062732392954, -0.40733544166244884, -0.0898076385268403]  id=4\n",
      "weight=-34.229923896183436 ori=[0.428208951533938, 0.8196827328095248, -0.3739236954880297, -0.0702736174726343]  id=4\n",
      "weight=-20.684071618039752 ori=[0.41291763600889086, 0.8142068323488021, -0.39472754650346265, -0.10371318171146632]  id=4\n",
      "weight=-17.113761818647788 ori=[0.43280800472631326, 0.8264513637559977, -0.33210370821158375, -0.13914920546950657]  id=4\n",
      "weight=-14.857633922523462 ori=[0.4383032880699343, 0.807416213858705, -0.38217347667835033, -0.09956263851837581]  id=4\n",
      "weight=-12.561525432978783 ori=[0.43313857336678385, 0.8090595823120836, -0.38422102197990143, -0.10093450747640426]  id=4\n",
      "weight=-11.304629564667607 ori=[0.44256541636198177, 0.7831257423513148, -0.4302040654492333, -0.07598938069230533]  id=4\n",
      "weight=-2.079457752559449 ori=[0.4426299497447271, 0.7910628654146529, -0.4089167650281514, -0.10528698794177233]  id=4\n",
      "weight=-2.079457752559449 ori=[0.4426299497447271, 0.7910628654146529, -0.4089167650281514, -0.10528698794177233]  id=4\n",
      "weight=-2.079457752559449 ori=[0.4426299497447271, 0.7910628654146529, -0.4089167650281514, -0.10528698794177233]  id=4\n",
      "weight=-2.079457752559449 ori=[0.4426299497447271, 0.7910628654146529, -0.4089167650281514, -0.10528698794177233]  id=4\n",
      "weight=-2.079457752559449 ori=[0.4426299497447271, 0.7910628654146529, -0.4089167650281514, -0.10528698794177233]  id=4\n",
      "weight=-2.079457752559449 ori=[0.4426299497447271, 0.7910628654146529, -0.4089167650281514, -0.10528698794177233]  id=4\n",
      "weight=-2.079457752559449 ori=[0.4426299497447271, 0.7910628654146529, -0.4089167650281514, -0.10528698794177233]  id=4\n",
      "weight=-2.079457752559449 ori=[0.4426299497447271, 0.7910628654146529, -0.4089167650281514, -0.10528698794177233]  id=4\n",
      "\n",
      "========Radius=0.05========\n"
     ]
    },
    {
     "name": "stderr",
     "output_type": "stream",
     "text": [
      "┌ Info: MeshCat server started. You can open the visualizer by visiting the following URL in your browser:\n",
      "│ http://127.0.0.1:8729\n",
      "└ @ MeshCat C:\\Users\\karen\\.julia\\packages\\MeshCat\\Ax8pH\\src\\visualizer.jl:73\n",
      "\u001b[32mProgress: 100%|█████████████████████████████████████████| Time: 0:00:02\u001b[39m\n"
     ]
    },
    {
     "name": "stdout",
     "output_type": "stream",
     "text": [
      "effective sample size: 8.000093401835915, doing resample: false\n",
      "top19 traces:\n",
      "weight=-1915.4947260304564 ori=[0.428208951533938, 0.8196827328095248, -0.3739236954880297, -0.0702736174726343]  id=4\n",
      "weight=-1803.5835054381944 ori=[0.4100336522000608, 0.8331144129306834, -0.3512056222286068, -0.1201972959165891]  id=4\n",
      "weight=-1507.1293214224695 ori=[0.4211300646035512, 0.8240853051887683, -0.3597258384097971, -0.11887051627427266]  id=4\n",
      "weight=-1385.4928941102755 ori=[0.43280800472631326, 0.8264513637559977, -0.33210370821158375, -0.13914920546950657]  id=4\n",
      "weight=-1224.6927804462568 ori=[0.4449562149558956, 0.8094317271060225, -0.3564196766586027, -0.14070984335455045]  id=4\n",
      "weight=-610.9368026508016 ori=[0.43313857336678385, 0.8090595823120836, -0.38422102197990143, -0.10093450747640426]  id=4\n",
      "weight=-494.958825395547 ori=[0.44256541636198177, 0.7831257423513148, -0.4302040654492333, -0.07598938069230533]  id=4\n",
      "weight=-376.5494768378954 ori=[0.4533555482481169, 0.7877062732392954, -0.40733544166244884, -0.0898076385268403]  id=4\n",
      "weight=-376.5494768378954 ori=[0.4533555482481169, 0.7877062732392954, -0.40733544166244884, -0.0898076385268403]  id=4\n",
      "weight=-289.9561441947341 ori=[0.4311277291137074, 0.8018645902848873, -0.3998161725529029, -0.10625012094889558]  id=4\n",
      "weight=-26.578707287729003 ori=[0.4397597927591917, 0.7940792983543135, -0.40574770483107503, -0.10685594331542433]  id=4\n",
      "weight=-25.23605190547039 ori=[0.4426299497447271, 0.7910628654146529, -0.4089167650281514, -0.10528698794177233]  id=4\n",
      "weight=-25.23605190547039 ori=[0.4426299497447271, 0.7910628654146529, -0.4089167650281514, -0.10528698794177233]  id=4\n",
      "weight=-25.23605190547039 ori=[0.4426299497447271, 0.7910628654146529, -0.4089167650281514, -0.10528698794177233]  id=4\n",
      "weight=-25.23605190547039 ori=[0.4426299497447271, 0.7910628654146529, -0.4089167650281514, -0.10528698794177233]  id=4\n",
      "weight=-25.23605190547039 ori=[0.4426299497447271, 0.7910628654146529, -0.4089167650281514, -0.10528698794177233]  id=4\n",
      "weight=-25.23605190547039 ori=[0.4426299497447271, 0.7910628654146529, -0.4089167650281514, -0.10528698794177233]  id=4\n",
      "weight=-25.23605190547039 ori=[0.4426299497447271, 0.7910628654146529, -0.4089167650281514, -0.10528698794177233]  id=4\n",
      "weight=-25.23605190547039 ori=[0.4426299497447271, 0.7910628654146529, -0.4089167650281514, -0.10528698794177233]  id=4\n"
     ]
    },
    {
     "name": "stderr",
     "output_type": "stream",
     "text": [
      "┌ Info: MeshCat server started. You can open the visualizer by visiting the following URL in your browser:\n",
      "│ http://127.0.0.1:8730\n",
      "└ @ MeshCat C:\\Users\\karen\\.julia\\packages\\MeshCat\\Ax8pH\\src\\visualizer.jl:73\n"
     ]
    },
    {
     "ename": "LoadError",
     "evalue": "MethodError: no method matching params(::Rotations.RotMatrix3{Float64})\n\u001b[0mClosest candidates are:\n\u001b[0m  params(\u001b[91m::Rotations.Angle2d\u001b[39m) at C:\\Users\\karen\\.julia\\packages\\Rotations\\oI2Iq\\src\\core_types.jl:152\n\u001b[0m  params(\u001b[91m::Rotations.QuatRotation\u001b[39m) at C:\\Users\\karen\\.julia\\packages\\Rotations\\oI2Iq\\src\\unitquaternion.jl:228\n\u001b[0m  params(\u001b[91m::Rotations.RotXZY\u001b[39m) at C:\\Users\\karen\\.julia\\packages\\Rotations\\oI2Iq\\src\\euler_types.jl:548\n\u001b[0m  ...",
     "output_type": "error",
     "traceback": [
      "MethodError: no method matching params(::Rotations.RotMatrix3{Float64})\n\u001b[0mClosest candidates are:\n\u001b[0m  params(\u001b[91m::Rotations.Angle2d\u001b[39m) at C:\\Users\\karen\\.julia\\packages\\Rotations\\oI2Iq\\src\\core_types.jl:152\n\u001b[0m  params(\u001b[91m::Rotations.QuatRotation\u001b[39m) at C:\\Users\\karen\\.julia\\packages\\Rotations\\oI2Iq\\src\\unitquaternion.jl:228\n\u001b[0m  params(\u001b[91m::Rotations.RotXZY\u001b[39m) at C:\\Users\\karen\\.julia\\packages\\Rotations\\oI2Iq\\src\\euler_types.jl:548\n\u001b[0m  ...",
      "",
      "Stacktrace:",
      " [1] particle_filter(renderer::GLRenderer.Renderer{GLRenderer.DepthMode}, init_radius::Float64, final_radius::Float64, scored_traces::Vector{Tuple{Gen.DynamicDSLTrace{Gen.DynamicDSLFunction{Any}}, Float64}}, gt_obj_id::Int64, gt_pose::Pose, num_particles::Int64, num_samples::Int64, U::Type)",
      "   @ Main .\\In[29]:42",
      " [2] particle_filter(renderer::GLRenderer.Renderer{GLRenderer.DepthMode}, init_radius::Float64, final_radius::Float64, scored_traces::Vector{Tuple{Gen.DynamicDSLTrace{Gen.DynamicDSLFunction{Any}}, Float64}}, gt_obj_id::Int64, gt_pose::Pose, num_particles::Int64, num_samples::Int64)",
      "   @ Main .\\In[29]:8",
      " [3] top-level scope",
      "   @ .\\timing.jl:220 [inlined]",
      " [4] top-level scope",
      "   @ .\\In[52]:0",
      " [5] eval",
      "   @ .\\boot.jl:373 [inlined]",
      " [6] include_string(mapexpr::typeof(REPL.softscope), mod::Module, code::String, filename::String)",
      "   @ Base .\\loading.jl:1196"
     ]
    }
   ],
   "source": [
    "@show num_rotations_to_enumerate_over = length(enum_ori_traces)\n",
    "@show gt_obj_id\n",
    "num_particles = 20\n",
    "num_samples = num_particles\n",
    "@time pf_traces = particle_filter(renderer, init_radius, final_radius, \n",
    "                                    enum_ori_traces_full, gt_obj_id_full, gt_pose_full, num_particles, num_samples);\n"
   ]
  },
  {
   "cell_type": "code",
   "execution_count": 54,
   "id": "010a4bb5",
   "metadata": {},
   "outputs": [],
   "source": [
    "# @show num_rotations_to_enumerate_over\n",
    "# @show gt_obj_id\n",
    "# num_particles = 20\n",
    "# num_samples = num_particles\n",
    "# @time pf_traces = particle_filter(renderer, init_radius, final_radius, \n",
    "#                                     enum_ori_traces_10, 7, gt_pose_10, num_particles, num_samples);\n"
   ]
  },
  {
   "cell_type": "code",
   "execution_count": null,
   "id": "24de2052",
   "metadata": {},
   "outputs": [],
   "source": []
  },
  {
   "cell_type": "code",
   "execution_count": 24,
   "id": "e8030518",
   "metadata": {},
   "outputs": [
    {
     "data": {
      "text/plain": [
       "7"
      ]
     },
     "execution_count": 24,
     "metadata": {},
     "output_type": "execute_result"
    }
   ],
   "source": [
    "gt_obj_id"
   ]
  },
  {
   "cell_type": "code",
   "execution_count": 25,
   "id": "a5998097",
   "metadata": {},
   "outputs": [
    {
     "ename": "LoadError",
     "evalue": "UndefVarError: pf_traces not defined",
     "output_type": "error",
     "traceback": [
      "UndefVarError: pf_traces not defined",
      "",
      "Stacktrace:",
      " [1] top-level scope",
      "   @ In[25]:9",
      " [2] eval",
      "   @ .\\boot.jl:373 [inlined]",
      " [3] include_string(mapexpr::typeof(REPL.softscope), mod::Module, code::String, filename::String)",
      "   @ Base .\\loading.jl:1196"
     ]
    }
   ],
   "source": [
    "# p = R.params(Gen.get_retval(pf_traces[1]).ori)\n",
    "# @show R.QuatRotation(p)\n",
    "# @show Gen.get_retval(pf_traces[1]).ori\n",
    "\n",
    "# p1 = R.params(gt_pose.orientation)\n",
    "# @show R.QuatRotation(p1)\n",
    "# @show gt_pose.orientation\n",
    "\n",
    "trace_info = [(Gen.get_score(trace), R.params(Gen.get_retval(trace).ori)) for trace in pf_traces]\n",
    "\n",
    "import JLD\n",
    "JLD.save(\"pf_traces.jld\", \"trace_info\", trace_info, \"gt_pose_pos\", gt_pose.pos, \n",
    "    \"gt_pose_ori\", R.params(gt_pose.orientation), \"gt_obj_id\", gt_obj_id)"
   ]
  },
  {
   "cell_type": "markdown",
   "id": "ec4bae27",
   "metadata": {},
   "source": [
    "### visualization of the enumerated posterior at multiple different resolutions"
   ]
  },
  {
   "cell_type": "code",
   "execution_count": 26,
   "id": "8604fc37",
   "metadata": {},
   "outputs": [],
   "source": [
    "\n",
    "# # save(\"../pf_traces.jld\", \"x\", [1])\n",
    "# save(\"../pf_traces.jld\", \"pf_traces\", d)"
   ]
  },
  {
   "cell_type": "code",
   "execution_count": 27,
   "id": "b4fc9cc8",
   "metadata": {},
   "outputs": [],
   "source": [
    "# xyz = [\n",
    "#     rotations_to_enumerate_over[i,1] * [1, 0, 0]\n",
    "#     for i in 1:size(rotations_to_enumerate_over)[1] \n",
    "# ];\n",
    "# log_weights_xyz = zeros(size(rotations_to_enumerate_over)[1])\n",
    "# weights_xyz = exp.(log_weights_xyz)\n",
    "# order = sortperm(weights_xyz,rev=true)\n",
    "# weights_xyz = weights_xyz[order]\n",
    "# xyz = xyz[order]\n",
    "# weights_xyz\n"
   ]
  },
  {
   "cell_type": "code",
   "execution_count": 28,
   "id": "287564a7",
   "metadata": {},
   "outputs": [],
   "source": [
    "# using PyCall\n",
    "# using PyPlot\n",
    "\n",
    "# plt = pyimport(\"matplotlib.pyplot\")\n",
    "# mpl_toolkits = pyimport(\"mpl_toolkits\")\n",
    "# x = range(0;stop=2*pi,length=1000); y = sin.(3*x + 4*cos.(2*x));\n",
    "# plot(x, y, color=\"red\", linewidth=2.0, linestyle=\"--\")\n",
    "# # plt.show()\n",
    "\n",
    "# function run_viz(x, y, z, c)\n",
    "#     fig = plt.figure(figsize=(9, 6))\n",
    "#     ax = plt.axes(projection=\"3d\")\n",
    "#     ax.scatter3D(x, y, z, c=c)\n",
    "#     p = ax.set_title(\"3D scatterplot\", pad=25, size=15)\n",
    "#     ax.set_xlabel(\"X\") \n",
    "#     ax.set_ylabel(\"Y\") \n",
    "#     ax.set_zlabel(\"Z\")\n",
    "#     plt.show()\n",
    "# end\n",
    "\n",
    "\n",
    "\n",
    "# # PyCall.py\"\"\"\n",
    "# # import matplotlib.pyplot as plt\n",
    "# # from mpl_toolkits import mplot3d\n",
    "# # def run_viz(x,y,z,c):\n",
    "# #     fig = plt.figure(figsize=(9, 6))\n",
    "# #     ax = plt.axes(projection='3d')\n",
    "# #     ax.scatter3D(x, y, z, c=c)\n",
    "# #     p = ax.set_title(\"3D scatterplot\", pad=25, size=15)\n",
    "# #     ax.set_xlabel(\"X\") \n",
    "# #     ax.set_ylabel(\"Y\") \n",
    "# #     ax.set_zlabel(\"Z\")\n",
    "# #     plt.show()\n",
    "# # \"\"\"\n",
    "\n",
    "# run_viz( (i->i[1]).(xyz), (i->i[2]).(xyz), (i->i[3]).(xyz), weights_xyz)"
   ]
  },
  {
   "cell_type": "code",
   "execution_count": null,
   "id": "dbdbf8d1",
   "metadata": {},
   "outputs": [],
   "source": []
  }
 ],
 "metadata": {
  "jupytext": {
   "cell_metadata_filter": "-all",
   "encoding": "# -*- coding: utf-8 -*-",
   "notebook_metadata_filter": "-all"
  },
  "kernelspec": {
   "display_name": "Julia 1.7.2",
   "language": "julia",
   "name": "julia-1.7"
  },
  "language_info": {
   "file_extension": ".jl",
   "mimetype": "application/julia",
   "name": "julia",
   "version": "1.7.2"
  },
  "toc": {
   "base_numbering": 1,
   "nav_menu": {},
   "number_sections": true,
   "sideBar": true,
   "skip_h1_title": false,
   "title_cell": "Table of Contents",
   "title_sidebar": "Contents",
   "toc_cell": false,
   "toc_position": {},
   "toc_section_display": true,
   "toc_window_display": false
  },
  "varInspector": {
   "cols": {
    "lenName": 16,
    "lenType": 16,
    "lenVar": 40
   },
   "kernels_config": {
    "python": {
     "delete_cmd_postfix": "",
     "delete_cmd_prefix": "del ",
     "library": "var_list.py",
     "varRefreshCmd": "print(var_dic_list())"
    },
    "r": {
     "delete_cmd_postfix": ") ",
     "delete_cmd_prefix": "rm(",
     "library": "var_list.r",
     "varRefreshCmd": "cat(var_dic_list()) "
    }
   },
   "types_to_exclude": [
    "module",
    "function",
    "builtin_function_or_method",
    "instance",
    "_Feature"
   ],
   "window_display": false
  }
 },
 "nbformat": 4,
 "nbformat_minor": 5
}
