{
 "cells": [
  {
   "cell_type": "code",
   "execution_count": 1,
   "id": "2578a13f",
   "metadata": {},
   "outputs": [
    {
     "name": "stderr",
     "output_type": "stream",
     "text": [
      "\u001b[32m\u001b[1m  Activating\u001b[22m\u001b[39m project at `C:\\SY\\MIT\\UROP\\InverseGraphics\\InverseGraphics`\n"
     ]
    }
   ],
   "source": [
    "import Pkg\n",
    "Pkg.activate(\"../../\");"
   ]
  },
  {
   "cell_type": "code",
   "execution_count": 2,
   "id": "282f1623",
   "metadata": {},
   "outputs": [],
   "source": [
    "import Revise\n",
    "import GLRenderer as GL\n",
    "import Images as I\n",
    "import MiniGSG as S\n",
    "import Rotations as R\n",
    "import PoseComposition: Pose, IDENTITY_POSE, IDENTITY_ORN\n",
    "import InverseGraphics as T\n",
    "import NearestNeighbors\n",
    "import LightGraphs as LG\n",
    "import StaticArrays\n",
    "import ProgressMeter\n",
    "using Distributions\n",
    "import Gen\n",
    "using Plots\n",
    "using ProgressMeter\n",
    "try\n",
    "    import MeshCatViz as V\n",
    "catch\n",
    "    import MeshCatViz as V    \n",
    "end"
   ]
  },
  {
   "cell_type": "code",
   "execution_count": 3,
   "id": "f4fb0045",
   "metadata": {},
   "outputs": [],
   "source": [
    "# # Initialize the renderer\n",
    "# V.setup_visualizer()"
   ]
  },
  {
   "cell_type": "code",
   "execution_count": 4,
   "id": "ed750894",
   "metadata": {},
   "outputs": [
    {
     "data": {
      "text/plain": [
       "21-element Vector{String}:\n",
       " \"002_master_chef_can\"\n",
       " \"003_cracker_box\"\n",
       " \"004_sugar_box\"\n",
       " \"005_tomato_soup_can\"\n",
       " \"006_mustard_bottle\"\n",
       " \"007_tuna_fish_can\"\n",
       " \"008_pudding_box\"\n",
       " \"009_gelatin_box\"\n",
       " \"010_potted_meat_can\"\n",
       " \"011_banana\"\n",
       " \"019_pitcher_base\"\n",
       " \"021_bleach_cleanser\"\n",
       " \"024_bowl\"\n",
       " \"025_mug\"\n",
       " \"035_power_drill\"\n",
       " \"036_wood_block\"\n",
       " \"037_scissors\"\n",
       " \"040_large_marker\"\n",
       " \"051_large_clamp\"\n",
       " \"052_extra_large_clamp\"\n",
       " \"061_foam_brick\""
      ]
     },
     "execution_count": 4,
     "metadata": {},
     "output_type": "execute_result"
    }
   ],
   "source": [
    "# Loading the YCB object models\n",
    "YCB_DIR = joinpath(dirname(dirname(pwd())),\"data\")\n",
    "world_scaling_factor = 10.0\n",
    "id_to_cloud, id_to_shift, id_to_box  = T.load_ycbv_models_adjusted(YCB_DIR, world_scaling_factor);\n",
    "all_ids = sort(collect(keys(id_to_cloud)));\n",
    "names = T.load_ycb_model_list(YCB_DIR)"
   ]
  },
  {
   "cell_type": "code",
   "execution_count": 5,
   "id": "d736430a",
   "metadata": {},
   "outputs": [
    {
     "name": "stdout",
     "output_type": "stream",
     "text": [
      "gl_version_for_shaders = \"410\"\n",
      "true\n",
      "camera = GLRenderer.CameraIntrinsics\n",
      "  width: Int64 640\n",
      "  height: Int64 480\n",
      "  fx: Float64 640.0\n",
      "  fy: Float64 640.0\n",
      "  cx: Float64 320.0\n",
      "  cy: Float64 240.0\n",
      "  near: Float64 0.001\n",
      "  far: Float64 100.0\n",
      "\n"
     ]
    }
   ],
   "source": [
    "# Initialize the canera intrinsics and renderer that will render using those intrinsics.\n",
    "camera = GL.CameraIntrinsics()\n",
    "renderer = GL.setup_renderer(camera, GL.DepthMode())\n",
    "resolution = 0.05\n",
    "# for id in all_ids\n",
    "#     cloud = id_to_cloud[id]\n",
    "#     mesh = GL.mesh_from_voxelized_cloud(GL.voxelize(cloud, resolution), resolution);\n",
    "#     GL.load_object!(renderer, mesh)\n",
    "# end\n",
    "\n",
    "\n",
    "box_mesh = GL.box_mesh_from_dims([2.0, 2.0, 2.0])\n",
    "GL.load_object!(renderer, box_mesh)\n",
    "\n",
    "@show camera;"
   ]
  },
  {
   "cell_type": "code",
   "execution_count": 6,
   "id": "118868ec",
   "metadata": {},
   "outputs": [],
   "source": [
    "# Also to make nice visualizations, you can rendering RGB mode!"
   ]
  },
  {
   "cell_type": "code",
   "execution_count": 7,
   "id": "8974a1e1",
   "metadata": {},
   "outputs": [],
   "source": [
    "# renderer = GL.setup_renderer(camera, GL.RGBMode())\n",
    "# obj_paths = T.load_ycb_model_obj_file_paths(YCB_DIR)\n",
    "# for id in all_ids\n",
    "#     mesh = GL.get_mesh_data_from_obj_file(obj_paths[id])\n",
    "#     mesh = T.scale_and_shift_mesh(mesh, world_scaling_factor, id_to_shift[id])\n",
    "#     GL.load_object!(renderer, mesh)\n",
    "# end"
   ]
  },
  {
   "cell_type": "code",
   "execution_count": null,
   "id": "136c790f",
   "metadata": {},
   "outputs": [],
   "source": []
  },
  {
   "cell_type": "markdown",
   "id": "aea02c1b",
   "metadata": {},
   "source": [
    "## introductory visualizations\n",
    "to get a better sense of resolution effect on likelihood + qualitative results "
   ]
  },
  {
   "cell_type": "code",
   "execution_count": 8,
   "id": "b85f67e4",
   "metadata": {},
   "outputs": [],
   "source": [
    "# #########\n",
    "# # radius scaling\n",
    "# #########\n",
    "# bounds = (-100.0, 100.0, -100.0, 100.0,-100.0,100.0)\n",
    "\n",
    "# i = 1\n",
    "# pose = Pose([0.0, 0.0, 3.0], R.RotXYZ(0.4, -0.2, 0.4))\n",
    "\n",
    "# # Reset the intrinsics inside of the renderer.\n",
    "# GL.set_intrinsics!(renderer, camera) \n",
    "\n",
    "# # And render the same image as above.\n",
    "# gt_depth_image = GL.gl_render(renderer, [i], [pose], IDENTITY_POSE)\n",
    "# IJulia.display(GL.view_depth_image(gt_depth_image))\n",
    "\n",
    "# # Create point cloud corresponding to that rendered depth image.\n",
    "# gt_cloud = GL.depth_image_to_point_cloud(gt_depth_image, camera)\n",
    "# # print(size(gt_cloud))\n",
    "\n",
    "\n",
    "# @show i\n",
    "\n",
    "# radius = 0.01  # \"tight\" radius\n",
    "# sampled_cloud = Gen.random(T.uniform_mixture_from_template, gt_cloud, 0.0001, radius, bounds)\n",
    "# # Visualize that point cloud.\n",
    "# V.setup_visualizer()\n",
    "# V.viz(sampled_cloud)  # = V.viz(T.move_points_to_frame_b(c, camera_pose))\n",
    "\n",
    " \n",
    "# radius = float(1)  # \"loose\" radius (can still pick out general shape)\n",
    "# sampled_cloud = Gen.random(T.uniform_mixture_from_template, gt_cloud, 0.0001, radius, bounds)\n",
    "# # Visualize that point cloud.\n",
    "# V.setup_visualizer()\n",
    "# V.viz(sampled_cloud)  # = V.viz(T.move_points_to_frame_b(c, camera_pose))\n",
    "\n",
    " \n",
    "# radius = float(10)  # very loose radius; points on a sphere (w/ some concentration on center with shape of obj)\n",
    "# sampled_cloud = Gen.random(T.uniform_mixture_from_template, gt_cloud, 0.0001, radius, bounds)\n",
    "# # # Visualize that point cloud.\n",
    "# # V.setup_visualizer()\n",
    "# # V.viz(sampled_cloud)  # = V.viz(T.move_points_to_frame_b(c, camera_pose))"
   ]
  },
  {
   "cell_type": "code",
   "execution_count": 9,
   "id": "4deb070c",
   "metadata": {},
   "outputs": [],
   "source": [
    "# ########\n",
    "# # camera downscaling\n",
    "# ########\n",
    "# using IJulia\n",
    "\n",
    "# final = 24\n",
    "# for downscale_factor=1:3.0:final\n",
    "#     println(\"scale down by $downscale_factor\")\n",
    "    \n",
    "#     # scale camera according to resolution; reset renderer\n",
    "#     scaled_camera = GL.scale_down_camera(camera, downscale_factor)\n",
    "        \n",
    "#     # Set the renderer to now have those scaled down intrinsics.\n",
    "#     GL.set_intrinsics!(renderer, scaled_camera)\n",
    " \n",
    "#     d = GL.gl_render(renderer, [i], [pose], IDENTITY_POSE)\n",
    "\n",
    "#     img = GL.view_depth_image(d)\n",
    "#     img = I.imresize(img, (camera.height, camera.width));\n",
    "#     IJulia.display(img)\n",
    "  \n",
    "#     # revert intrinsics\n",
    "#     GL.set_intrinsics!(renderer, camera)\n",
    "\n",
    "# end\n"
   ]
  },
  {
   "cell_type": "markdown",
   "id": "9d56301b",
   "metadata": {},
   "source": [
    "# Intro demo of coarse-to-fine with particle filtering"
   ]
  },
  {
   "cell_type": "markdown",
   "id": "3e9be6e7",
   "metadata": {},
   "source": [
    "## Particle Filtering + Orientation enumeration"
   ]
  },
  {
   "cell_type": "markdown",
   "id": "cd28dd51",
   "metadata": {},
   "source": [
    "### Orientation enumeration"
   ]
  },
  {
   "cell_type": "code",
   "execution_count": 10,
   "id": "7035b31c",
   "metadata": {},
   "outputs": [
    {
     "data": {
      "text/plain": [
       "fibonacci_sphere (generic function with 1 method)"
      ]
     },
     "execution_count": 10,
     "metadata": {},
     "output_type": "execute_result"
    }
   ],
   "source": [
    "function fibonacci_sphere(samples)\n",
    "    points = []\n",
    "    phi = π * (3. - sqrt(5.))\n",
    " \n",
    "    for i in 0:(samples-1)\n",
    "        y = 1 - (i / Float64(samples - 1)) * 2\n",
    "        #@show y\n",
    "        radius = sqrt(1 - y * y)\n",
    "\n",
    "        theta = phi * i\n",
    "\n",
    "        x = cos(theta) * radius\n",
    "        z = sin(theta) * radius\n",
    "\n",
    "        push!(points, (x, y, z))\n",
    "    end\n",
    "    return points\n",
    "end"
   ]
  },
  {
   "cell_type": "code",
   "execution_count": 42,
   "id": "f5a05172",
   "metadata": {},
   "outputs": [],
   "source": [
    "unit_sphere_directions = fibonacci_sphere(25);\n",
    "other_rotation_angle = collect(0:0.2:(2*π));\n",
    "\n",
    "rotations_to_enumerate_over = [\n",
    "    let\n",
    "        T.geodesicHopf_select_axis(StaticArrays.SVector(dir), ang, 1)\n",
    "    end\n",
    "    for dir in unit_sphere_directions, \n",
    "        ang in other_rotation_angle\n",
    "];\n",
    "num_rotations_to_enumerate_over = length(rotations_to_enumerate_over);"
   ]
  },
  {
   "cell_type": "markdown",
   "id": "3652db75",
   "metadata": {},
   "source": [
    "### Helpers"
   ]
  },
  {
   "cell_type": "code",
   "execution_count": 43,
   "id": "fcff9903",
   "metadata": {},
   "outputs": [
    {
     "data": {
      "text/plain": [
       "viz_trace (generic function with 1 method)"
      ]
     },
     "execution_count": 43,
     "metadata": {},
     "output_type": "execute_result"
    }
   ],
   "source": [
    "function viz_trace(trace)\n",
    "    V.setup_visualizer()\n",
    "#     V.reset_visualizer()\n",
    "    V.viz(Gen.get_retval(trace).voxelized_cloud  ./ 10.0; color=I.colorant\"red\", channel_name=:gen);\n",
    "    V.viz(Gen.get_retval(trace).obs_cloud ./ 10.0; color=I.colorant\"blue\", channel_name=:obs);\n",
    "end"
   ]
  },
  {
   "cell_type": "code",
   "execution_count": 77,
   "id": "a4c88c75",
   "metadata": {},
   "outputs": [
    {
     "data": {
      "text/plain": [
       "particle_filter_step!"
      ]
     },
     "execution_count": 77,
     "metadata": {},
     "output_type": "execute_result"
    }
   ],
   "source": [
    "\"\"\"adapted from gen pf_step:\n",
    "Perform a particle filter update, where the model arguments are adjusted, new observations are added, and the default proposal is used for new latent state.\n",
    "\"\"\"\n",
    "function particle_filter_step!(state::Gen.ParticleFilterState{U}, new_args::Tuple, argdiffs::Tuple,\n",
    "        observations) where {U}    \n",
    "    \n",
    "    log_incremental_weights = Vector{Float64}(undef, num_particles) \n",
    "    radius::Float64 = new_args[1]\n",
    "    @showprogress for i=1:num_particles\n",
    "        # TODO? do mh, drift moves, etc. tune particle before update (i.e. new likelihood)\n",
    "        #\n",
    "        #\n",
    "        \n",
    "        # construct observations \n",
    "        particle_ori = Gen.get_retval(state.traces[i]).ori\n",
    "#         observations = observations_func(particle_ori)\n",
    "         \n",
    "        \n",
    "        # evolve the particle (with new radius involved in new_args)\n",
    "        (state.new_traces[i], increment, _, discard) = Gen.update(\n",
    "            state.traces[i], new_args, argdiffs, observations)\n",
    "#         if !isempty(discard)\n",
    "#             error(\"Choices were updated or deleted inside particle filter step: $discard\")\n",
    "#         end\n",
    "        log_incremental_weights[i] = increment\n",
    "        state.log_weights[i] += increment\n",
    "    end\n",
    "    \n",
    "    # swap references\n",
    "    tmp = state.traces\n",
    "    state.traces = state.new_traces\n",
    "    state.new_traces = tmp\n",
    "\n",
    "    return log_incremental_weights\n",
    "end"
   ]
  },
  {
   "cell_type": "code",
   "execution_count": 78,
   "id": "31c8e92f",
   "metadata": {},
   "outputs": [
    {
     "data": {
      "text/plain": [
       "scale_factor"
      ]
     },
     "execution_count": 78,
     "metadata": {},
     "output_type": "execute_result"
    }
   ],
   "source": [
    "bounds = (-100.0, 100.0, -100.0, 100.0,-100.0,300.0)\n",
    "v_resolution = 0.2  # distance between two points on the pointcloud \n",
    "\n",
    "\"\"\"sample point clouds at the given camera resolution and radius\"\"\"\n",
    "Gen.@gen function model(radius, renderer)\n",
    "    num_candidate_objs = 6\n",
    "    \n",
    "    # fixed object (TODO: generalize to any obj id) and pose\n",
    "    i = {:id} ~ Gen.categorical(fill(1.0/num_candidate_objs, (num_candidate_objs,)))\n",
    "    p = {T.floating_pose_addr(1)} ~ T.uniformPose(-0.001, 0.001, -0.001, 0.001, 4.999, 5.001)\n",
    "    \n",
    "    \n",
    "    rendered_depth = GL.gl_render(renderer, [i], [p], IDENTITY_POSE)\n",
    "    gt_cloud = GL.depth_image_to_point_cloud(rendered_depth, renderer.camera_intrinsics)\n",
    "    voxelized_cloud = GL.voxelize(gt_cloud, v_resolution)\n",
    "    obs_cloud = {:obs => :cloud} ~ T.uniform_mixture_from_template(voxelized_cloud, 0.0001, radius, bounds)\n",
    "#     print(\".\"); flush(stdout)\n",
    "         \n",
    "    (id=i, pose=p, ori=p.orientation, cloud=gt_cloud, voxelized_cloud=voxelized_cloud, obs_cloud=obs_cloud)\n",
    "\n",
    "end\n",
    " \n",
    "\"\"\"return scale down factor of camera given desired resolution\"\"\"\n",
    "function scale_factor(resolution, final_resolution)\n",
    "   return final_resolution-resolution+1 \n",
    "end"
   ]
  },
  {
   "cell_type": "code",
   "execution_count": 91,
   "id": "3874d715",
   "metadata": {},
   "outputs": [
    {
     "data": {
      "text/plain": [
       "generate_initial_pf_state"
      ]
     },
     "execution_count": 91,
     "metadata": {},
     "output_type": "execute_result"
    }
   ],
   "source": [
    "\"\"\"Selecting from a set of traces over all enumerated angles, generate a set of initial particles\"\"\"\n",
    "Gen.@gen function generate_initial_pf_state(scored_traces, num_particles, U=Gen.DynamicDSLTrace{Gen.DynamicDSLFunction{Any}})\n",
    "    # unpack traces\n",
    "    traces = (t -> t[1]).(scored_traces)\n",
    "    log_weights = (t -> t[2]).(scored_traces) #; log_weights = log_weights .- Gen.logsumexp(log_weights)  # ∝ likelihood\n",
    "    \n",
    "    _, norm_log_weights = Gen.normalize_weights(log_weights)       \n",
    "    \n",
    "    # sample initial set of particles\n",
    "    selected_traces = Vector{Gen.DynamicDSLTrace{Gen.DynamicDSLFunction{Any}}}(undef, num_particles)\n",
    "    selected_log_weights = Vector{Float64}(undef, num_particles)\n",
    "    for i=1:num_particles\n",
    "        trace_idx = {:t_idx => i} ~ Gen.categorical(exp.(norm_log_weights))   \n",
    "        selected_traces[i] = traces[trace_idx]\n",
    "        selected_log_weights[i] = log_weights[trace_idx]\n",
    "    end\n",
    "    \n",
    "    println(\"Initial particle state computed\"); flush(stdout)\n",
    "    sleep(5)\n",
    "\n",
    "    # visualize pdf of initial weights\n",
    "    plot(selected_log_weights, seriestype=:stephist, fmt = :png)\n",
    "    \n",
    "    # intermediate results\n",
    "    _, norm_log_weights = Gen.normalize_weights(selected_log_weights)\n",
    "    best_trace = traces[argmax(norm_log_weights)];\n",
    "    viz_trace(best_trace);\n",
    "    \n",
    "    sleep(5)\n",
    "    println(sort(norm_log_weights[:])[end-5:end]); \n",
    "    \n",
    "    \n",
    "    \n",
    "    flush(stdout)\n",
    "    \n",
    "    return Gen.ParticleFilterState{U}(selected_traces, Vector{U}(undef, num_particles), selected_log_weights, 0., collect(1:num_particles))\n",
    "\n",
    "end"
   ]
  },
  {
   "cell_type": "markdown",
   "id": "6b463d3c",
   "metadata": {},
   "source": [
    "### control resolution with radius (fixed camera intrinsics)"
   ]
  },
  {
   "cell_type": "code",
   "execution_count": 92,
   "id": "2f3ac3b7",
   "metadata": {},
   "outputs": [
    {
     "data": {
      "text/plain": [
       "particle_filter (generic function with 4 methods)"
      ]
     },
     "execution_count": 92,
     "metadata": {},
     "output_type": "execute_result"
    }
   ],
   "source": [
    "\"\"\"Particle filter on the evolution of agent knowledge over time; resolution control with radius\"\"\"\n",
    "\n",
    "\n",
    "function particle_filter(renderer, init_radius::Float64, final_radius::Float64, enum_ori_traces,\n",
    "                        gt_obj_id::Int, gt_pose::Pose, num_particles::Int, num_samples::Int, U=Gen.DynamicDSLTrace{Gen.DynamicDSLFunction{Any}})\n",
    "    \n",
    "    # initialize renderer and particle filter\n",
    "    GL.set_intrinsics!(renderer, camera) \n",
    "    gt_depth_image = GL.gl_render(renderer, [gt_object_id], [gt_pose], IDENTITY_POSE)\n",
    "    gt_cloud = GL.depth_image_to_point_cloud(gt_depth_image, renderer.camera_intrinsics)\n",
    "    gt_voxelized_cloud = GL.voxelize(gt_cloud, v_resolution)\n",
    "    V.setup_visualizer()\n",
    "    V.viz(gt_voxelized_cloud)\n",
    "    println(\"\\ninitializing particle filter at radius $init_radius\") \n",
    "    flush(stdout)\n",
    "    \n",
    "    \n",
    "    # initialize a state of initial particles with various rotations\n",
    "    scored_traces = enum_ori_traces  # get precomputed\n",
    "    \n",
    "    state::Gen.ParticleFilterState{U} = generate_initial_pf_state(scored_traces, num_particles)\n",
    "    \n",
    "    \n",
    "    # evolve over resolutions (modify sphere radius `r` of mixture point cloud likelihood)\n",
    "    @assert(final_radius <= init_radius)\n",
    "    observations = Gen.choicemap((:obs => :cloud) => gt_voxelized_cloud, :id => gt_obj_id)\n",
    "    step = -0.05 \n",
    "    for radius in init_radius+step:step:final_radius\n",
    "        println(\"\\n========Radius=$radius========\"); flush(stdout)\n",
    "        Gen.maybe_resample!(state, ess_threshold=num_particles/3, verbose=true)  \n",
    "        \n",
    "        # update pf \n",
    "        current_log_weights = particle_filter_step!(state, (radius, renderer), (Gen.UnknownChange(),), observations)    \n",
    "        \n",
    "        # see intermediate results\n",
    "        top_n = 10\n",
    "        _, norm_log_weights = Gen.normalize_weights(current_log_weights)\n",
    "        p = sortperm(norm_log_weights)[end-top_n:end]; \n",
    "        \n",
    "        best_trace = state.traces[argmax(norm_log_weights)];\n",
    "        viz_trace(best_trace);\n",
    "        println(\"top$top_n traces:\")\n",
    "        for idx in p\n",
    "           println(\"current weight=\", norm_log_weights[idx], \"\\t orientation=\", Gen.get_retval(state.traces[idx]).ori[1:3]) \n",
    "        end\n",
    "        flush(stdout)\n",
    "        \n",
    "    end;\n",
    "    \n",
    "     return Gen.sample_unweighted_traces(state, num_samples)\n",
    "    \n",
    "end"
   ]
  },
  {
   "cell_type": "code",
   "execution_count": 93,
   "id": "87503201",
   "metadata": {},
   "outputs": [
    {
     "name": "stdout",
     "output_type": "stream",
     "text": [
      "true\n",
      "num_rotations_to_enumerate_over = 800\n",
      "true\n",
      "\n",
      "initializing particle filter at radius 1.0\n",
      "Initial particle state computed\n",
      "[-5.780065703163018, -5.780065703163018, -5.780065703163018, -5.780065703163018, -5.780065703163018, -5.780065703163018]\n",
      "\n",
      "========Radius=0.95========\n"
     ]
    },
    {
     "name": "stderr",
     "output_type": "stream",
     "text": [
      "┌ Info: MeshCat server started. You can open the visualizer by visiting the following URL in your browser:\n",
      "│ http://127.0.0.1:8731\n",
      "└ @ MeshCat C:\\Users\\karen\\.julia\\packages\\MeshCat\\Ax8pH\\src\\visualizer.jl:73\n",
      "┌ Info: MeshCat server started. You can open the visualizer by visiting the following URL in your browser:\n",
      "│ http://127.0.0.1:8732\n",
      "└ @ MeshCat C:\\Users\\karen\\.julia\\packages\\MeshCat\\Ax8pH\\src\\visualizer.jl:73\n",
      "\u001b[32mProgress: 100%|█████████████████████████████████████████| Time: 0:00:21\u001b[39m\n"
     ]
    },
    {
     "name": "stdout",
     "output_type": "stream",
     "text": [
      "effective sample size: 359.024604170306, doing resample: false\n",
      "top10 traces:\n",
      "current weight=-4.979509647520359\t orientation=[-0.8652112097532296, 2.7755575615628914e-17, -0.5014075812324267]\n",
      "current weight=-4.979509647520359\t orientation=[-0.8652112097532296, 2.7755575615628914e-17, -0.5014075812324267]\n",
      "current weight=-4.979509647520359\t orientation=[-0.8652112097532296, 2.7755575615628914e-17, -0.5014075812324267]\n",
      "current weight=-4.979509647520359\t orientation=[-0.8652112097532296, 2.7755575615628914e-17, -0.5014075812324267]\n",
      "current weight=-4.979509647520359\t orientation=[-0.8652112097532296, 2.7755575615628914e-17, -0.5014075812324267]\n",
      "current weight=-4.979509647520359\t orientation=[-0.8652112097532296, 2.7755575615628914e-17, -0.5014075812324267]\n",
      "current weight=-4.979509647520359\t orientation=[-0.8652112097532296, 2.7755575615628914e-17, -0.5014075812324267]\n",
      "current weight=-4.612990854920241\t orientation=[0.08771630578430317, -0.9166666666666669, -0.3899077736103459]\n",
      "current weight=-4.612990854920241\t orientation=[0.08771630578430317, -0.9166666666666669, -0.3899077736103459]\n",
      "current weight=-4.612990854920241\t orientation=[0.08771630578430317, -0.9166666666666669, -0.3899077736103459]\n",
      "current weight=-4.4726011079989405\t orientation=[-0.2946914091498113, 0.9166666666666664, 0.2699614705759335]\n",
      "\n",
      "========Radius=0.9========\n"
     ]
    },
    {
     "name": "stderr",
     "output_type": "stream",
     "text": [
      "┌ Info: MeshCat server started. You can open the visualizer by visiting the following URL in your browser:\n",
      "│ http://127.0.0.1:8733\n",
      "└ @ MeshCat C:\\Users\\karen\\.julia\\packages\\MeshCat\\Ax8pH\\src\\visualizer.jl:73\n",
      "\u001b[32mProgress: 100%|█████████████████████████████████████████| Time: 0:00:21\u001b[39m\n"
     ]
    },
    {
     "name": "stdout",
     "output_type": "stream",
     "text": [
      "effective sample size: 397.5102915700524, doing resample: false\n",
      "top10 traces:\n",
      "current weight=-5.770186296780452\t orientation=[0.08771630578430328, -0.916666666666667, -0.389907773610346]\n",
      "current weight=-5.770186296780452\t orientation=[0.08771630578430328, -0.916666666666667, -0.389907773610346]\n",
      "current weight=-5.770186296780452\t orientation=[0.08771630578430328, -0.916666666666667, -0.389907773610346]\n",
      "current weight=-5.770186296780452\t orientation=[0.08771630578430328, -0.916666666666667, -0.389907773610346]\n",
      "current weight=-5.770186296780452\t orientation=[0.08771630578430328, -0.916666666666667, -0.389907773610346]\n",
      "current weight=-5.7489142377370115\t orientation=[0.08771630578430323, -0.9166666666666669, -0.3899077736103458]\n",
      "current weight=-5.610176986761957\t orientation=[0.08771630578430317, -0.9166666666666669, -0.3899077736103459]\n",
      "current weight=-5.610176986761957\t orientation=[0.08771630578430317, -0.9166666666666669, -0.3899077736103459]\n",
      "current weight=-5.610176986761957\t orientation=[0.08771630578430317, -0.9166666666666669, -0.3899077736103459]\n",
      "current weight=-5.579372502986274\t orientation=[0.08771630578430331, -0.9166666666666669, -0.38990777361034584]\n",
      "current weight=-5.099426826238727\t orientation=[0.08771630578430331, -0.9166666666666669, -0.3899077736103459]\n",
      "\n",
      "========Radius=0.85========\n"
     ]
    },
    {
     "name": "stderr",
     "output_type": "stream",
     "text": [
      "┌ Info: MeshCat server started. You can open the visualizer by visiting the following URL in your browser:\n",
      "│ http://127.0.0.1:8734\n",
      "└ @ MeshCat C:\\Users\\karen\\.julia\\packages\\MeshCat\\Ax8pH\\src\\visualizer.jl:73\n",
      "\u001b[32mProgress: 100%|█████████████████████████████████████████| Time: 0:00:22\u001b[39m\n"
     ]
    },
    {
     "name": "stdout",
     "output_type": "stream",
     "text": [
      "effective sample size: 389.91345944020156, doing resample: false\n",
      "top10 traces:\n",
      "current weight=-6.118146625336699\t orientation=[-0.8652112097532297, 0.0, -0.5014075812324268]\n",
      "current weight=-6.118146625336699\t orientation=[-0.8652112097532297, 0.0, -0.5014075812324268]\n",
      "current weight=-6.118146625336699\t orientation=[-0.8652112097532297, 0.0, -0.5014075812324268]\n",
      "current weight=-6.118146625336699\t orientation=[-0.8652112097532297, 0.0, -0.5014075812324268]\n",
      "current weight=-6.118146625336699\t orientation=[-0.8652112097532297, 0.0, -0.5014075812324268]\n",
      "current weight=-6.118146625336699\t orientation=[-0.8652112097532297, 0.0, -0.5014075812324268]\n",
      "current weight=-6.118146625336699\t orientation=[-0.8652112097532297, 0.0, -0.5014075812324268]\n",
      "current weight=-6.118146625336699\t orientation=[-0.8652112097532297, 0.0, -0.5014075812324268]\n",
      "current weight=-6.118146625336699\t orientation=[-0.8652112097532297, 0.0, -0.5014075812324268]\n",
      "current weight=-6.118146625336699\t orientation=[-0.8652112097532297, 0.0, -0.5014075812324268]\n",
      "current weight=-6.118146625336699\t orientation=[-0.8652112097532297, 0.0, -0.5014075812324268]\n",
      "\n",
      "========Radius=0.8========\n"
     ]
    },
    {
     "name": "stderr",
     "output_type": "stream",
     "text": [
      "┌ Info: MeshCat server started. You can open the visualizer by visiting the following URL in your browser:\n",
      "│ http://127.0.0.1:8735\n",
      "└ @ MeshCat C:\\Users\\karen\\.julia\\packages\\MeshCat\\Ax8pH\\src\\visualizer.jl:73\n",
      "\u001b[32mProgress: 100%|█████████████████████████████████████████| Time: 0:00:22\u001b[39m\n"
     ]
    },
    {
     "name": "stdout",
     "output_type": "stream",
     "text": [
      "effective sample size: 394.4137829624594, doing resample: false\n",
      "top10 traces:\n",
      "current weight=-4.589266726905288\t orientation=[-0.8652112097532297, 1.3877787807814457e-17, -0.5014075812324268]\n",
      "current weight=-4.589266726905288\t orientation=[-0.8652112097532297, 1.3877787807814457e-17, -0.5014075812324268]\n",
      "current weight=-4.589266726905288\t orientation=[-0.8652112097532297, 1.3877787807814457e-17, -0.5014075812324268]\n",
      "current weight=-4.589266726905288\t orientation=[-0.8652112097532297, 1.3877787807814457e-17, -0.5014075812324268]\n",
      "current weight=-4.589266726905288\t orientation=[-0.8652112097532297, 1.3877787807814457e-17, -0.5014075812324268]\n",
      "current weight=-4.589266726905288\t orientation=[-0.8652112097532297, 1.3877787807814457e-17, -0.5014075812324268]\n",
      "current weight=-4.589266726905288\t orientation=[-0.8652112097532297, 1.3877787807814457e-17, -0.5014075812324268]\n",
      "current weight=-4.589266726905288\t orientation=[-0.8652112097532297, 1.3877787807814457e-17, -0.5014075812324268]\n",
      "current weight=-4.589266726905288\t orientation=[-0.8652112097532297, 1.3877787807814457e-17, -0.5014075812324268]\n",
      "current weight=-4.589266726905288\t orientation=[-0.8652112097532297, 1.3877787807814457e-17, -0.5014075812324268]\n",
      "current weight=-4.589266726905288\t orientation=[-0.8652112097532297, 1.3877787807814457e-17, -0.5014075812324268]\n",
      "\n",
      "========Radius=0.75========\n"
     ]
    },
    {
     "name": "stderr",
     "output_type": "stream",
     "text": [
      "┌ Info: MeshCat server started. You can open the visualizer by visiting the following URL in your browser:\n",
      "│ http://127.0.0.1:8736\n",
      "└ @ MeshCat C:\\Users\\karen\\.julia\\packages\\MeshCat\\Ax8pH\\src\\visualizer.jl:73\n",
      "\u001b[32mProgress: 100%|█████████████████████████████████████████| Time: 0:00:22\u001b[39m\n"
     ]
    },
    {
     "name": "stdout",
     "output_type": "stream",
     "text": [
      "effective sample size: 330.4928711147266, doing resample: false\n",
      "top10 traces:\n",
      "current weight=-5.443469841086966\t orientation=[-0.8652112097532297, 1.3877787807814457e-17, -0.5014075812324268]\n",
      "current weight=-5.443469841086966\t orientation=[-0.8652112097532297, 1.3877787807814457e-17, -0.5014075812324268]\n",
      "current weight=-5.443469841086966\t orientation=[-0.8652112097532297, 1.3877787807814457e-17, -0.5014075812324268]\n",
      "current weight=-5.443469841086966\t orientation=[-0.8652112097532297, 1.3877787807814457e-17, -0.5014075812324268]\n",
      "current weight=-5.443469841086966\t orientation=[-0.8652112097532297, 1.3877787807814457e-17, -0.5014075812324268]\n",
      "current weight=-5.443469841086966\t orientation=[-0.8652112097532297, 1.3877787807814457e-17, -0.5014075812324268]\n",
      "current weight=-5.443469841086966\t orientation=[-0.8652112097532297, 1.3877787807814457e-17, -0.5014075812324268]\n",
      "current weight=-5.443469841086966\t orientation=[-0.8652112097532297, 1.3877787807814457e-17, -0.5014075812324268]\n",
      "current weight=-5.443469841086966\t orientation=[-0.8652112097532297, 1.3877787807814457e-17, -0.5014075812324268]\n",
      "current weight=-5.443469841086966\t orientation=[-0.8652112097532297, 1.3877787807814457e-17, -0.5014075812324268]\n",
      "current weight=-5.443469841086966\t orientation=[-0.8652112097532297, 1.3877787807814457e-17, -0.5014075812324268]\n",
      "\n",
      "========Radius=0.7========\n"
     ]
    },
    {
     "name": "stderr",
     "output_type": "stream",
     "text": [
      "┌ Info: MeshCat server started. You can open the visualizer by visiting the following URL in your browser:\n",
      "│ http://127.0.0.1:8737\n",
      "└ @ MeshCat C:\\Users\\karen\\.julia\\packages\\MeshCat\\Ax8pH\\src\\visualizer.jl:73\n",
      "\u001b[32mProgress: 100%|█████████████████████████████████████████| Time: 0:00:22\u001b[39m\n"
     ]
    },
    {
     "name": "stdout",
     "output_type": "stream",
     "text": [
      "effective sample size: 319.3876469178703, doing resample: false\n",
      "top10 traces:\n",
      "current weight=-6.009062417211147\t orientation=[-0.8652112097532296, 2.7755575615628914e-17, -0.5014075812324267]\n",
      "current weight=-6.009062417211147\t orientation=[-0.8652112097532296, 2.7755575615628914e-17, -0.5014075812324267]\n",
      "current weight=-6.009062417211147\t orientation=[-0.8652112097532296, 2.7755575615628914e-17, -0.5014075812324267]\n",
      "current weight=-6.009062417211147\t orientation=[-0.8652112097532296, 2.7755575615628914e-17, -0.5014075812324267]\n",
      "current weight=-6.009062417211147\t orientation=[-0.8652112097532296, 2.7755575615628914e-17, -0.5014075812324267]\n",
      "current weight=-6.009062417211147\t orientation=[-0.8652112097532296, 2.7755575615628914e-17, -0.5014075812324267]\n",
      "current weight=-5.8093847950023365\t orientation=[0.08771630578430331, -0.9166666666666669, -0.38990777361034584]\n",
      "current weight=-5.554928105463808\t orientation=[0.08771630578430323, -0.9166666666666669, -0.3899077736103458]\n",
      "current weight=-5.072983017015679\t orientation=[0.08771630578430317, -0.9166666666666669, -0.3899077736103459]\n",
      "current weight=-5.072983017015679\t orientation=[0.08771630578430317, -0.9166666666666669, -0.3899077736103459]\n",
      "current weight=-5.072983017015679\t orientation=[0.08771630578430317, -0.9166666666666669, -0.3899077736103459]\n",
      "\n",
      "========Radius=0.65========"
     ]
    },
    {
     "name": "stderr",
     "output_type": "stream",
     "text": [
      "┌ Info: MeshCat server started. You can open the visualizer by visiting the following URL in your browser:\n",
      "│ http://127.0.0.1:8738\n",
      "└ @ MeshCat C:\\Users\\karen\\.julia\\packages\\MeshCat\\Ax8pH\\src\\visualizer.jl:73\n",
      "\u001b[32mProgress: 100%|█████████████████████████████████████████| Time: 0:00:22\u001b[39m\n"
     ]
    },
    {
     "name": "stdout",
     "output_type": "stream",
     "text": [
      "\n",
      "effective sample size: 318.49674122155767, doing resample: false\n",
      "top10 traces:\n",
      "current weight=-5.529744828445715\t orientation=[-0.8652112097532296, 0.0, -0.5014075812324268]\n",
      "current weight=-5.529744828445715\t orientation=[-0.8652112097532296, 0.0, -0.5014075812324268]\n",
      "current weight=-5.529744828445715\t orientation=[-0.8652112097532296, 0.0, -0.5014075812324268]\n",
      "current weight=-5.529744828445715\t orientation=[-0.8652112097532296, 0.0, -0.5014075812324268]\n",
      "current weight=-5.529744828445715\t orientation=[-0.8652112097532296, 0.0, -0.5014075812324268]\n",
      "current weight=-5.529744828445715\t orientation=[-0.8652112097532296, 0.0, -0.5014075812324268]\n",
      "current weight=-5.529744828445715\t orientation=[-0.8652112097532296, 0.0, -0.5014075812324268]\n",
      "current weight=-5.529744828445715\t orientation=[-0.8652112097532296, 0.0, -0.5014075812324268]\n",
      "current weight=-5.529744828445715\t orientation=[-0.8652112097532296, 0.0, -0.5014075812324268]\n",
      "current weight=-5.529744828445715\t orientation=[-0.8652112097532296, 0.0, -0.5014075812324268]\n",
      "current weight=-5.529744828445715\t orientation=[-0.8652112097532296, 0.0, -0.5014075812324268]\n",
      "\n",
      "========Radius=0.6========\n"
     ]
    },
    {
     "name": "stderr",
     "output_type": "stream",
     "text": [
      "┌ Info: MeshCat server started. You can open the visualizer by visiting the following URL in your browser:\n",
      "│ http://127.0.0.1:8739\n",
      "└ @ MeshCat C:\\Users\\karen\\.julia\\packages\\MeshCat\\Ax8pH\\src\\visualizer.jl:73\n",
      "\u001b[32mProgress: 100%|█████████████████████████████████████████| Time: 0:00:22\u001b[39m\n"
     ]
    },
    {
     "name": "stdout",
     "output_type": "stream",
     "text": [
      "effective sample size: 325.59888633636126, doing resample: false\n",
      "top10 traces:\n",
      "current weight=-4.204890847360305\t orientation=[-0.8652112097532296, 0.0, -0.5014075812324268]\n",
      "current weight=-4.204890847360305\t orientation=[-0.8652112097532296, 0.0, -0.5014075812324268]\n",
      "current weight=-4.204890847360305\t orientation=[-0.8652112097532296, 0.0, -0.5014075812324268]\n",
      "current weight=-4.204890847360305\t orientation=[-0.8652112097532296, 0.0, -0.5014075812324268]\n",
      "current weight=-4.204890847360305\t orientation=[-0.8652112097532296, 0.0, -0.5014075812324268]\n",
      "current weight=-4.204890847360305\t orientation=[-0.8652112097532296, 0.0, -0.5014075812324268]\n",
      "current weight=-4.204890847360305\t orientation=[-0.8652112097532296, 0.0, -0.5014075812324268]\n",
      "current weight=-4.204890847360305\t orientation=[-0.8652112097532296, 0.0, -0.5014075812324268]\n",
      "current weight=-4.204890847360305\t orientation=[-0.8652112097532296, 0.0, -0.5014075812324268]\n",
      "current weight=-4.204890847360305\t orientation=[-0.8652112097532296, 0.0, -0.5014075812324268]\n",
      "current weight=-4.204890847360305\t orientation=[-0.8652112097532296, 0.0, -0.5014075812324268]\n",
      "\n",
      "========Radius=0.55========\n"
     ]
    },
    {
     "name": "stderr",
     "output_type": "stream",
     "text": [
      "┌ Info: MeshCat server started. You can open the visualizer by visiting the following URL in your browser:\n",
      "│ http://127.0.0.1:8740\n",
      "└ @ MeshCat C:\\Users\\karen\\.julia\\packages\\MeshCat\\Ax8pH\\src\\visualizer.jl:73\n",
      "\u001b[32mProgress: 100%|█████████████████████████████████████████| Time: 0:00:21\u001b[39m\n"
     ]
    },
    {
     "name": "stdout",
     "output_type": "stream",
     "text": [
      "effective sample size: 354.44644613573007, doing resample: false\n",
      "top10 traces:\n",
      "current weight=-5.778390823662008\t orientation=[0.08771630578430328, -0.916666666666667, -0.389907773610346]\n",
      "current weight=-5.778390823662008\t orientation=[0.08771630578430328, -0.916666666666667, -0.389907773610346]\n",
      "current weight=-5.778390823662008\t orientation=[0.08771630578430328, -0.916666666666667, -0.389907773610346]\n",
      "current weight=-5.778390823662008\t orientation=[0.08771630578430328, -0.916666666666667, -0.389907773610346]\n",
      "current weight=-5.778390823662008\t orientation=[0.08771630578430328, -0.916666666666667, -0.389907773610346]\n",
      "current weight=-5.537134097103049\t orientation=[-0.2946914091498113, 0.9166666666666664, 0.2699614705759335]\n",
      "current weight=-4.494620272301759\t orientation=[0.08771630578430331, -0.9166666666666669, -0.38990777361034584]\n",
      "current weight=-4.091296861858851\t orientation=[0.08771630578430323, -0.9166666666666669, -0.3899077736103458]\n",
      "current weight=-3.311401322930365\t orientation=[0.08771630578430317, -0.9166666666666669, -0.3899077736103459]\n",
      "current weight=-3.311401322930365\t orientation=[0.08771630578430317, -0.9166666666666669, -0.3899077736103459]\n",
      "current weight=-3.311401322930365\t orientation=[0.08771630578430317, -0.9166666666666669, -0.3899077736103459]\n",
      "\n",
      "========Radius=0.5========\n"
     ]
    },
    {
     "name": "stderr",
     "output_type": "stream",
     "text": [
      "┌ Info: MeshCat server started. You can open the visualizer by visiting the following URL in your browser:\n",
      "│ http://127.0.0.1:8741\n",
      "└ @ MeshCat C:\\Users\\karen\\.julia\\packages\\MeshCat\\Ax8pH\\src\\visualizer.jl:73\n",
      "\u001b[32mProgress:  33%|██████████████                           |  ETA: 0:00:15\u001b[39m"
     ]
    },
    {
     "name": "stdout",
     "output_type": "stream",
     "text": [
      "effective sample size: 333.4981339078575, doing resample: false\n"
     ]
    },
    {
     "name": "stderr",
     "output_type": "stream",
     "text": [
      "\r"
     ]
    },
    {
     "ename": "LoadError",
     "evalue": "InterruptException:",
     "output_type": "error",
     "traceback": [
      "InterruptException:",
      "",
      "Stacktrace:",
      "  [1] try_yieldto(undo::typeof(Base.ensure_rescheduled))",
      "    @ Base .\\task.jl:777",
      "  [2] wait()",
      "    @ Base .\\task.jl:837",
      "  [3] uv_write(s::Base.PipeEndpoint, p::Ptr{UInt8}, n::UInt64)",
      "    @ Base .\\stream.jl:992",
      "  [4] unsafe_write(s::Base.PipeEndpoint, p::Ptr{UInt8}, n::UInt64)",
      "    @ Base .\\stream.jl:1064",
      "  [5] unsafe_write",
      "    @ .\\io.jl:362 [inlined]",
      "  [6] write",
      "    @ .\\strings\\io.jl:244 [inlined]",
      "  [7] print",
      "    @ .\\strings\\io.jl:246 [inlined]",
      "  [8] printover(io::IJulia.IJuliaStdio{Base.PipeEndpoint}, s::String, color::Symbol)",
      "    @ ProgressMeter C:\\Users\\karen\\.julia\\packages\\ProgressMeter\\sN2xr\\src\\ProgressMeter.jl:628",
      "  [9] updateProgress!(p::Progress; showvalues::Tuple{}, truncate_lines::Bool, valuecolor::Symbol, offset::Int64, keep::Bool, desc::Nothing, ignore_predictor::Bool)",
      "    @ ProgressMeter C:\\Users\\karen\\.julia\\packages\\ProgressMeter\\sN2xr\\src\\ProgressMeter.jl:320",
      " [10] #17",
      "    @ C:\\Users\\karen\\.julia\\packages\\ProgressMeter\\sN2xr\\src\\ProgressMeter.jl:495 [inlined]",
      " [11] lock_if_threading",
      "    @ C:\\Users\\karen\\.julia\\packages\\ProgressMeter\\sN2xr\\src\\ProgressMeter.jl:480 [inlined]",
      " [12] #next!#16",
      "    @ C:\\Users\\karen\\.julia\\packages\\ProgressMeter\\sN2xr\\src\\ProgressMeter.jl:493 [inlined]",
      " [13] next!",
      "    @ C:\\Users\\karen\\.julia\\packages\\ProgressMeter\\sN2xr\\src\\ProgressMeter.jl:493 [inlined]",
      " [14] iterate(wrap::ProgressMeter.ProgressWrapper{UnitRange{Int64}}, state::Int64)",
      "    @ ProgressMeter C:\\Users\\karen\\.julia\\packages\\ProgressMeter\\sN2xr\\src\\ProgressMeter.jl:738",
      " [15] macro expansion",
      "    @ C:\\Users\\karen\\.julia\\packages\\ProgressMeter\\sN2xr\\src\\ProgressMeter.jl:938 [inlined]",
      " [16] particle_filter_step!(state::Gen.ParticleFilterState{Gen.DynamicDSLTrace{Gen.DynamicDSLFunction{Any}}}, new_args::Tuple{Float64, GLRenderer.Renderer{GLRenderer.DepthMode}}, argdiffs::Tuple{Gen.UnknownChange}, observations::Gen.DynamicChoiceMap)",
      "    @ Main .\\In[77]:9",
      " [17] particle_filter(renderer::GLRenderer.Renderer{GLRenderer.DepthMode}, init_radius::Float64, final_radius::Float64, enum_ori_traces::Vector{Tuple{Gen.DynamicDSLTrace{Gen.DynamicDSLFunction{Any}}, Float64}}, gt_obj_id::Int64, gt_pose::Pose, num_particles::Int64, num_samples::Int64, U::Type)",
      "    @ Main .\\In[92]:33",
      " [18] particle_filter(renderer::GLRenderer.Renderer{GLRenderer.DepthMode}, init_radius::Float64, final_radius::Float64, enum_ori_traces::Vector{Tuple{Gen.DynamicDSLTrace{Gen.DynamicDSLFunction{Any}}, Float64}}, gt_obj_id::Int64, gt_pose::Pose, num_particles::Int64, num_samples::Int64)",
      "    @ Main .\\In[92]:8",
      " [19] top-level scope",
      "    @ .\\timing.jl:220 [inlined]",
      " [20] top-level scope",
      "    @ .\\In[93]:0",
      " [21] eval",
      "    @ .\\boot.jl:373 [inlined]",
      " [22] include_string(mapexpr::typeof(REPL.softscope), mod::Module, code::String, filename::String)",
      "    @ Base .\\loading.jl:1196"
     ]
    }
   ],
   "source": [
    "# Initialize the canera intrinsics and renderer that will render using those intrinsics.\n",
    "GL.set_intrinsics!(renderer, camera)\n",
    " \n",
    "init_radius, final_radius = float(1), float(0.1)  # low to high \"focus\"\n",
    "\n",
    "gt_object_id = 1   # cube\n",
    "gt_pose = T.Pose(pos=[0.0, 0.0, 5.0], orientation=QuatRotation(0.2, -0.5, 0.1, -0.8))\n",
    "\n",
    "\n",
    "function precompute_enumerations(gt_cloud, gt_pose, init_radius, renderer, rotations_to_enumerate_over)\n",
    "    # initialize a state of initial particles with various rotations\n",
    "    println(\"Enumerating over all angles:\")\n",
    "    scored_traces = @showprogress map(orn -> \n",
    "                    Gen.generate(model, (init_radius, renderer),                 \n",
    "                                Gen.choicemap((:obs => :cloud) => gt_cloud, \n",
    "                                            :id => 1, \n",
    "                                            T.floating_pose_addr(1) => Pose(gt_pose.pos, orn))),\n",
    "                                rotations_to_enumerate_over[:]);   \n",
    "    return scored_traces\n",
    "end \n",
    "enum_ori_traces = precompute_enumerations(gt_voxelized_cloud, gt_pose, init_radius, renderer, rotations_to_enumerate_over)\n",
    "\n",
    "num_rotations_to_enumerate_over = length(enum_ori_traces)\n",
    "@show num_rotations_to_enumerate_over\n",
    "num_particles = 500\n",
    "num_samples = num_particles\n",
    "@time pf_traces = particle_filter(renderer, init_radius, final_radius, enum_ori_traces, gt_object_id, gt_pose, num_particles, num_samples);\n"
   ]
  },
  {
   "cell_type": "code",
   "execution_count": 85,
   "id": "0dad5071",
   "metadata": {},
   "outputs": [
    {
     "data": {
      "text/plain": [
       "Pose⟨pos=[0.0, 0.0, 5.0], orientation=(w=0.20628424925175867, x=-0.5157106231293966, y=0.10314212462587934, z=-0.8251369970070347)⟩"
      ]
     },
     "execution_count": 85,
     "metadata": {},
     "output_type": "execute_result"
    }
   ],
   "source": [
    "gt_pose"
   ]
  },
  {
   "cell_type": "code",
   "execution_count": 66,
   "id": "71f29e85",
   "metadata": {},
   "outputs": [
    {
     "data": {
      "text/plain": [
       "3×3 QuatRotation{Float64} with indices SOneTo(3)×SOneTo(3)(QuaternionF64(0.217001, -0.484508, 0.132558, -0.837013, true)):\n",
       " -0.436325   0.234815   0.86861\n",
       " -0.491716  -0.870678  -0.0116281\n",
       "  0.753549  -0.432183   0.495361"
      ]
     },
     "execution_count": 66,
     "metadata": {},
     "output_type": "execute_result"
    }
   ],
   "source": [
    "QuatRotation(0.217001, -0.484508, 0.132558, -0.837013)"
   ]
  },
  {
   "cell_type": "code",
   "execution_count": 67,
   "id": "384b13f1",
   "metadata": {},
   "outputs": [
    {
     "data": {
      "text/plain": [
       "Pose⟨pos=[-0.0003268263967760272, -2.2696846958917714e-5, 4.99912328284441], orientation=(w=0.2170010193567088, x=-0.48450804321860386, y=0.13255801182430774, z=-0.8370130746624066)⟩"
      ]
     },
     "execution_count": 67,
     "metadata": {},
     "output_type": "execute_result"
    }
   ],
   "source": [
    "new_pose = T.Pose(pos=[0.0, 0.0, 5.0],\n",
    "                orientation=QuatRotation(0.2, -0.5, 0.1, -0.8))"
   ]
  },
  {
   "cell_type": "code",
   "execution_count": 38,
   "id": "7dbe0468",
   "metadata": {},
   "outputs": [
    {
     "ename": "LoadError",
     "evalue": "LoadError: UndefVarError: PyCall not defined\nin expression starting at In[38]:1",
     "output_type": "error",
     "traceback": [
      "LoadError: UndefVarError: PyCall not defined\nin expression starting at In[38]:1",
      "",
      "Stacktrace:",
      " [1] top-level scope",
      "   @ :0",
      " [2] eval",
      "   @ .\\boot.jl:373 [inlined]",
      " [3] include_string(mapexpr::typeof(REPL.softscope), mod::Module, code::String, filename::String)",
      "   @ Base .\\loading.jl:1196"
     ]
    }
   ],
   "source": [
    "PyCall.py\"\"\"\n",
    "import matplotlib.pyplot as plt\n",
    "from mpl_toolkits import mplot3d\n",
    "def run_viz(x,y,z,c):\n",
    "    fig = plt.figure(figsize=(9, 6))\n",
    "    ax = plt.axes(projection='3d')\n",
    "    ax.scatter3D(x, y, z, c=c)\n",
    "    p = ax.set_title(\"3D scatterplot\", pad=25, size=15)\n",
    "    ax.set_xlabel(\"X\") \n",
    "    ax.set_ylabel(\"Y\") \n",
    "    ax.set_zlabel(\"Z\")\n",
    "    plt.show()\n",
    "\"\"\"\n",
    "\n",
    "PyCall.py\"run_viz\"( (i->i[1]).(xyz), (i->i[2]).(xyz), (i->i[3]).(xyz), weights_xyz)"
   ]
  },
  {
   "cell_type": "markdown",
   "id": "ac74aac0",
   "metadata": {},
   "source": [
    "### control resolution with camera intrinsics (fixed radius)"
   ]
  },
  {
   "cell_type": "code",
   "execution_count": 19,
   "id": "493650b4",
   "metadata": {},
   "outputs": [],
   "source": [
    "# \"\"\"Particle filter on the evolution of agent knowledge over time; resolution control with radius\"\"\"\n",
    "# function particle_filter(camera, init_resolution, final_resolution, gt_obj_id, gt_pose, num_particles::Int, num_samples::Int)\n",
    "\n",
    "#     # initialize particle filter\n",
    "#     init_obs = Gen.choicemap()\n",
    "#     GL.set_intrinsics!(renderer, camera) # initial renderer\n",
    "#     init_gt_depth_image = GL.gl_render(renderer, [gt_object_id], [gt_pose], IDENTITY_POSE)\n",
    "#     init_obs[:obs => init_resolution => :cloud] = GL.depth_image_to_point_cloud(init_gt_depth_image, camera)\n",
    "#     GL.view_depth_image(init_gt_depth_image)\n",
    "    \n",
    "#     print(\"initializing particle filter at resolution $init_resolution\")\n",
    "#     state = Gen.initialize_particle_filter(cloud_sampler, \n",
    "#                             (init_resolution, renderer), init_obs, num_particles)\n",
    "\n",
    "#     # evolve over resolutions (coarsen by scaling down the resolution of the rendered image)\n",
    "\n",
    "#     for resolution in init_resolution+1:final_resolution\n",
    "#         println(\"Camera Resolution $resolution\")\n",
    "#         Gen.maybe_resample!(state, ess_threshold=num_particles/3, verbose=true)\n",
    "#         obs = Gen.choicemap() \n",
    "        \n",
    "#         # scale camera according to resolution; reset renderer\n",
    "#         scaled_camera = GL.scale_down_camera(camera, scale_factor(resolution, final_resolution))\n",
    "        \n",
    "#         # Set the renderer to now have those scaled down intrinsics.\n",
    "#         GL.set_intrinsics!(renderer, scaled_camera)\n",
    "\n",
    "#         # render depth image and revert intrinsics afterwards\n",
    "#         gt_depth_image = GL.gl_render(renderer, [gt_object_id], [gt_pose], IDENTITY_POSE)\n",
    "#         GL.set_intrinsics!(renderer, camera)\n",
    "        \n",
    "#         # Create GT (latent) point cloud corresponding to that rendered depth image.\n",
    "#         obs[:obs => resolution => :cloud] = GL.depth_image_to_point_cloud(gt_depth_image, scaled_camera)\n",
    "#         Gen.particle_filter_step!(state, (resolution, renderer, scaled_camera), (UnknownChange(),), obs)\n",
    "        \n",
    "# #         # Debug: Visualize gt point cloud.\n",
    "# #         V.viz(c)  # = V.viz(T.move_points_to_frame_b(c, camera_pose))\n",
    "# #         img = GL.view_depth_image(gt_depth_image)\n",
    "# #         img = I.imresize(img, (camera.height, camera.width))\n",
    "        \n",
    "#         pf_traces = Gen.sample_unweighted_traces(state, num_samples)\n",
    "        \n",
    "# #         # Debug: current results\n",
    "# #         for pf_trace in pf_traces\n",
    "# #             # visualize intermediate result?\n",
    "# #             # get_score(pf_trace)\n",
    "# #         end\n",
    "        \n",
    "#     end;\n",
    "    \n",
    "#      return Gen.sample_unweighted_traces(state, num_samples)\n",
    "# end;\n",
    "\n",
    "\n",
    "\n",
    "# # Initialize the canera intrinsics and renderer that will render using those intrinsics.\n",
    "\n",
    "# # try the drill example\n",
    "# println(\"entering pf (camera scaling gradient)\")\n",
    "# gt_object_id = 15\n",
    "# gt_pose = Pose([0.0, 0.0, 5.0], R.RotXYZ(0.1, 0.2, -0.4))\n",
    "\n",
    "# init_resolution, final_resolution = float(1), float(10)  # low to high res\n",
    "# num_particles = 10\n",
    "# num_samples = 5\n",
    "# @time pf_traces = particle_filter(camera, init_resolution, final_resolution, gt_object_id, gt_pose, num_particles, num_samples);\n"
   ]
  }
 ],
 "metadata": {
  "jupytext": {
   "cell_metadata_filter": "-all",
   "encoding": "# -*- coding: utf-8 -*-",
   "notebook_metadata_filter": "-all"
  },
  "kernelspec": {
   "display_name": "Julia 1.7.2",
   "language": "julia",
   "name": "julia-1.7"
  },
  "language_info": {
   "file_extension": ".jl",
   "mimetype": "application/julia",
   "name": "julia",
   "version": "1.7.2"
  },
  "toc": {
   "base_numbering": 1,
   "nav_menu": {},
   "number_sections": true,
   "sideBar": true,
   "skip_h1_title": false,
   "title_cell": "Table of Contents",
   "title_sidebar": "Contents",
   "toc_cell": false,
   "toc_position": {},
   "toc_section_display": true,
   "toc_window_display": false
  },
  "varInspector": {
   "cols": {
    "lenName": 16,
    "lenType": 16,
    "lenVar": 40
   },
   "kernels_config": {
    "python": {
     "delete_cmd_postfix": "",
     "delete_cmd_prefix": "del ",
     "library": "var_list.py",
     "varRefreshCmd": "print(var_dic_list())"
    },
    "r": {
     "delete_cmd_postfix": ") ",
     "delete_cmd_prefix": "rm(",
     "library": "var_list.r",
     "varRefreshCmd": "cat(var_dic_list()) "
    }
   },
   "types_to_exclude": [
    "module",
    "function",
    "builtin_function_or_method",
    "instance",
    "_Feature"
   ],
   "window_display": false
  }
 },
 "nbformat": 4,
 "nbformat_minor": 5
}
