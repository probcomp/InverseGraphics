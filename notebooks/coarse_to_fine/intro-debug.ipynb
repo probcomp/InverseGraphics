{
 "cells": [
  {
   "cell_type": "code",
   "execution_count": 1,
   "id": "2578a13f",
   "metadata": {},
   "outputs": [
    {
     "name": "stderr",
     "output_type": "stream",
     "text": [
      "\u001b[32m\u001b[1m  Activating\u001b[22m\u001b[39m project at `C:\\SY\\MIT\\UROP\\InverseGraphics\\InverseGraphics`\n"
     ]
    }
   ],
   "source": [
    "import Pkg\n",
    "Pkg.activate(\"../../\")"
   ]
  },
  {
   "cell_type": "code",
   "execution_count": 158,
   "id": "677014f6",
   "metadata": {},
   "outputs": [],
   "source": [
    "# ENV[\"PYTHON\"] = \"C:\\\\Users\\\\karen\\\\Miniconda3\\\\envs\\\\inversegraphics_env\\\\python.exe\"\n",
    "# Pkg.build(\"PyCall\")\n",
    "# Pkg.precompile()"
   ]
  },
  {
   "cell_type": "code",
   "execution_count": 3,
   "id": "282f1623",
   "metadata": {},
   "outputs": [],
   "source": [
    "import Revise\n",
    "import GLRenderer as GL\n",
    "import Images as I\n",
    "import MiniGSG as S\n",
    "import Rotations as R\n",
    "import PoseComposition: Pose, IDENTITY_POSE, IDENTITY_ORN\n",
    "import InverseGraphics as T\n",
    "import NearestNeighbors\n",
    "import LightGraphs as LG\n",
    "import StaticArrays\n",
    "import ProgressMeter\n",
    "using Distributions\n",
    "import Gen\n",
    "using Plots\n",
    "using ProgressMeter\n",
    "try\n",
    "    import MeshCatViz as V\n",
    "catch\n",
    "    import MeshCatViz as V    \n",
    "end"
   ]
  },
  {
   "cell_type": "code",
   "execution_count": 4,
   "id": "f4fb0045",
   "metadata": {},
   "outputs": [],
   "source": [
    "# # Initialize the renderer\n",
    "# V.setup_visualizer()"
   ]
  },
  {
   "cell_type": "code",
   "execution_count": 63,
   "id": "ed750894",
   "metadata": {},
   "outputs": [
    {
     "data": {
      "text/plain": [
       "21-element Vector{String}:\n",
       " \"002_master_chef_can\"\n",
       " \"003_cracker_box\"\n",
       " \"004_sugar_box\"\n",
       " \"005_tomato_soup_can\"\n",
       " \"006_mustard_bottle\"\n",
       " \"007_tuna_fish_can\"\n",
       " \"008_pudding_box\"\n",
       " \"009_gelatin_box\"\n",
       " \"010_potted_meat_can\"\n",
       " \"011_banana\"\n",
       " \"019_pitcher_base\"\n",
       " \"021_bleach_cleanser\"\n",
       " \"024_bowl\"\n",
       " \"025_mug\"\n",
       " \"035_power_drill\"\n",
       " \"036_wood_block\"\n",
       " \"037_scissors\"\n",
       " \"040_large_marker\"\n",
       " \"051_large_clamp\"\n",
       " \"052_extra_large_clamp\"\n",
       " \"061_foam_brick\""
      ]
     },
     "execution_count": 63,
     "metadata": {},
     "output_type": "execute_result"
    }
   ],
   "source": [
    "# Loading the YCB object models\n",
    "YCB_DIR = joinpath(dirname(dirname(pwd())),\"data\")\n",
    "world_scaling_factor = 10.0\n",
    "id_to_cloud, id_to_shift, id_to_box  = T.load_ycbv_models_adjusted(YCB_DIR, world_scaling_factor);\n",
    "all_ids = sort(collect(keys(id_to_cloud)));\n",
    "names = T.load_ycb_model_list(YCB_DIR)"
   ]
  },
  {
   "cell_type": "code",
   "execution_count": 64,
   "id": "d736430a",
   "metadata": {},
   "outputs": [
    {
     "name": "stdout",
     "output_type": "stream",
     "text": [
      "gl_version_for_shaders = \"410\"\n",
      "true\n",
      "camera = GLRenderer.CameraIntrinsics\n",
      "  width: Int64 640\n",
      "  height: Int64 480\n",
      "  fx: Float64 640.0\n",
      "  fy: Float64 640.0\n",
      "  cx: Float64 320.0\n",
      "  cy: Float64 240.0\n",
      "  near: Float64 0.001\n",
      "  far: Float64 100.0\n",
      "\n"
     ]
    }
   ],
   "source": [
    "# Initialize the canera intrinsics and renderer that will render using those intrinsics.\n",
    "camera = GL.CameraIntrinsics()\n",
    "renderer = GL.setup_renderer(camera, GL.DepthMode())\n",
    "resolution = 0.05\n",
    "for id in all_ids\n",
    "    cloud = id_to_cloud[id]\n",
    "    mesh = GL.mesh_from_voxelized_cloud(GL.voxelize(cloud, resolution), resolution);\n",
    "    GL.load_object!(renderer, mesh)\n",
    "end\n",
    "@show camera;"
   ]
  },
  {
   "cell_type": "code",
   "execution_count": 7,
   "id": "4b0f0536",
   "metadata": {},
   "outputs": [],
   "source": [
    "object_id = 15\n",
    "pose = Pose([0.0, 0.0, 5.0], R.RotXYZ(0.1, 0.2, -0.4))\n",
    "camera_pose = IDENTITY_POSE\n",
    "# Render object of type object_id at the specified pose viewed from a camera at camera_pose.\n",
    "gt_depth_image = GL.gl_render(renderer, [object_id], [pose], camera_pose);"
   ]
  },
  {
   "cell_type": "code",
   "execution_count": 8,
   "id": "1328d193",
   "metadata": {},
   "outputs": [],
   "source": [
    "# # Create point cloud corresponding to that rendered depth image.\n",
    "# c = GL.depth_image_to_point_cloud(gt_depth_image, camera)\n",
    "# # Visualize that point cloud.\n",
    "# V.viz(c)\n",
    "# GL.view_depth_image(gt_depth_image)"
   ]
  },
  {
   "cell_type": "code",
   "execution_count": 55,
   "id": "2701098b",
   "metadata": {},
   "outputs": [
    {
     "name": "stdout",
     "output_type": "stream",
     "text": [
      "GLRenderer.CameraIntrinsics\n",
      "  width: Int64 107\n",
      "  height: Int64 80\n",
      "  fx: Float64 106.66666666666667\n",
      "  fy: Float64 106.66666666666667\n",
      "  cx: Float64 53.333333333333336\n",
      "  cy: Float64 40.0\n",
      "  near: Float64 0.001\n",
      "  far: Float64 100.0\n",
      "true\n",
      "(80, 107)true\n",
      "(3, 923)"
     ]
    }
   ],
   "source": [
    "# One way to do coarsen is to scale down the resolution of the rendered image\n",
    "\n",
    "# Here we scale down the camera by a factor of 6.\n",
    "scaled_camera = GL.scale_down_camera(camera, 6)\n",
    "print(scaled_camera)\n",
    "\n",
    "# Set the renderer to now have those scaled down intrinsics.\n",
    "GL.set_intrinsics!(renderer, scaled_camera)\n",
    "\n",
    "# And render the same image as above.\n",
    "gt_depth_image = GL.gl_render(renderer, [object_id], [pose], camera_pose)\n",
    "print(size(gt_depth_image))\n",
    "\n",
    "\n",
    "# Remember to revert the intrinsics inside of the renderer.\n",
    "GL.set_intrinsics!(renderer, camera)\n",
    "\n",
    "# Create point cloud corresponding to that rendered depth image.\n",
    "c = GL.depth_image_to_point_cloud(gt_depth_image, scaled_camera)\n",
    "print(size(c))\n"
   ]
  },
  {
   "cell_type": "code",
   "execution_count": 10,
   "id": "860d701e",
   "metadata": {},
   "outputs": [],
   "source": [
    "# # Visualize that point cloud.\n",
    "# V.viz(c)  # = V.viz(T.move_points_to_frame_b(c, camera_pose))\n",
    "# img = GL.view_depth_image(gt_depth_image)\n",
    "# img = I.imresize(img, (camera.height, camera.width))"
   ]
  },
  {
   "cell_type": "code",
   "execution_count": 11,
   "id": "2290196c",
   "metadata": {},
   "outputs": [
    {
     "name": "stdout",
     "output_type": "stream",
     "text": [
      "true\n",
      "  0.004783 seconds (92 allocations: 8.208 MiB)\n",
      "true\n",
      "  0.001105 seconds (92 allocations: 239.016 KiB)\n",
      "true\n"
     ]
    }
   ],
   "source": [
    "# Let's see how resolution effects the rendering speed\n",
    "\n",
    "GL.set_intrinsics!(renderer, camera)\n",
    "@time gt_depth_image = GL.gl_render(renderer, [object_id], [pose], camera_pose)\n",
    "\n",
    "# Set the renderer to now have those scaled down intrinsics.\n",
    "GL.set_intrinsics!(renderer, scaled_camera)\n",
    "# And render the same image as above.\n",
    "@time gt_depth_image = GL.gl_render(renderer, [object_id], [pose], camera_pose)\n",
    "\n",
    "# Remember to revert the intrinsics inside of the renderer.\n",
    "GL.set_intrinsics!(renderer, camera)"
   ]
  },
  {
   "cell_type": "code",
   "execution_count": 12,
   "id": "d92ea2ca",
   "metadata": {
    "lines_to_next_cell": 2
   },
   "outputs": [
    {
     "ename": "LoadError",
     "evalue": "LoadError: UndefVarError: @gen not defined\nin expression starting at In[12]:2",
     "output_type": "error",
     "traceback": [
      "LoadError: UndefVarError: @gen not defined\nin expression starting at In[12]:2",
      "",
      "Stacktrace:",
      " [1] top-level scope",
      "   @ :0",
      " [2] eval",
      "   @ .\\boot.jl:373 [inlined]",
      " [3] include_string(mapexpr::typeof(REPL.softscope), mod::Module, code::String, filename::String)",
      "   @ Base .\\loading.jl:1196"
     ]
    }
   ],
   "source": [
    "# Sketch of the structure of a simplified single object 3DP3 generative model.\n",
    "@gen function single_object_model(resolution)\n",
    "    i ~ categorical(1:21)\n",
    "    p ~ T.uniformPose(-10,10,-10,10,-10,10) \n",
    "    rendered_d = GL.gl_render(renderer, [i], [p], IDENTITY_POSE)\n",
    "    cloud_inliers = GL.depth_image_to_point_cloud(rendered_d, camera) \n",
    "    d ~ T.uniform_mixture_from_template(\n",
    "        cloud_inliers, 0.0001, resolution,\n",
    "    (-100.0, 100.0, -100.0, 100.0,-100.0,100.0))\n",
    "end"
   ]
  },
  {
   "cell_type": "code",
   "execution_count": 13,
   "id": "a9e875ba",
   "metadata": {},
   "outputs": [
    {
     "data": {
      "text/plain": [
       "score_clouds (generic function with 1 method)"
      ]
     },
     "execution_count": 13,
     "metadata": {},
     "output_type": "execute_result"
    }
   ],
   "source": [
    "# Below, I show how this likelihood is computed between two point clouds (the latent and observed clouds).\n",
    "bounds = (-100.0, 100.0, -100.0, 100.0,-100.0,100.0)\n",
    "score_clouds(obs_cloud, latent_cloud, resolution) = Gen.logpdf(\n",
    "    T.uniform_mixture_from_template,\n",
    "    obs_cloud, latent_cloud, 0.0001, resolution, bounds)\n",
    "\n"
   ]
  },
  {
   "cell_type": "code",
   "execution_count": 14,
   "id": "ed283327",
   "metadata": {},
   "outputs": [],
   "source": [
    "# Two randomly generated point clouds.\n",
    "c = rand(3,10000) * 10.0;\n",
    "c2 = rand(3,10000) * 10.0;"
   ]
  },
  {
   "cell_type": "code",
   "execution_count": 15,
   "id": "aa085e60",
   "metadata": {},
   "outputs": [
    {
     "name": "stdout",
     "output_type": "stream",
     "text": [
      "score_clouds(c, c2, 0.1) = -248750.3926606152\n",
      "score_clouds(c, c2, 5.0) = -83053.8814655096\n",
      "score_clouds(c, c, 0.1) = -44015.56714786968\n"
     ]
    },
    {
     "data": {
      "text/plain": [
       "-44015.56714786968"
      ]
     },
     "execution_count": 15,
     "metadata": {},
     "output_type": "execute_result"
    }
   ],
   "source": [
    "@show score_clouds(c, c2, 0.1)\n",
    "@show score_clouds(c, c2, 5.0)  # coarsen can \"improve\" likelihood\n",
    "@show score_clouds(c, c, 0.1)  # higher likelihood"
   ]
  },
  {
   "cell_type": "code",
   "execution_count": 16,
   "id": "c969c691",
   "metadata": {},
   "outputs": [
    {
     "name": "stdout",
     "output_type": "stream",
     "text": [
      "  0.004686 seconds (30.45 k allocations: 2.254 MiB)\n",
      "  0.120486 seconds (68.75 k allocations: 89.258 MiB)\n"
     ]
    },
    {
     "data": {
      "text/plain": [
       "-78808.09483690344"
      ]
     },
     "execution_count": 16,
     "metadata": {},
     "output_type": "execute_result"
    }
   ],
   "source": [
    "# Lets see how likelihood changes with the size of the spheres.\n",
    "@time score_clouds(c, c2, 0.1) \n",
    "@time score_clouds(c, c2, 2.0)"
   ]
  },
  {
   "cell_type": "code",
   "execution_count": 17,
   "id": "118868ec",
   "metadata": {},
   "outputs": [],
   "source": [
    "# Also to make nice visualizations, you can rendering RGB mode!"
   ]
  },
  {
   "cell_type": "code",
   "execution_count": 18,
   "id": "8974a1e1",
   "metadata": {},
   "outputs": [],
   "source": [
    "# renderer = GL.setup_renderer(camera, GL.RGBMode())\n",
    "# obj_paths = T.load_ycb_model_obj_file_paths(YCB_DIR)\n",
    "# for id in all_ids\n",
    "#     mesh = GL.get_mesh_data_from_obj_file(obj_paths[id])\n",
    "#     mesh = T.scale_and_shift_mesh(mesh, world_scaling_factor, id_to_shift[id])\n",
    "#     GL.load_object!(renderer, mesh)\n",
    "# end"
   ]
  },
  {
   "cell_type": "markdown",
   "id": "9d56301b",
   "metadata": {},
   "source": [
    "# Intro demo of coarse-to-fine with particle filtering"
   ]
  },
  {
   "cell_type": "code",
   "execution_count": 19,
   "id": "8d1c4fc2",
   "metadata": {},
   "outputs": [
    {
     "data": {
      "text/plain": [
       "Pose⟨pos=[0.0, 0.0, 5.0], orientation=(w=0.9257544967612822, x=0.30713052585829886, y=-0.03505587323819195, z=-0.21776257154014744)⟩"
      ]
     },
     "execution_count": 19,
     "metadata": {},
     "output_type": "execute_result"
    }
   ],
   "source": [
    "## pick some obj / pose to test\n",
    "i = 4\n",
    "pose = Pose([0.0, 0.0, 5.0], R.RotXYZ(0.6, -0.2, -0.4))"
   ]
  },
  {
   "cell_type": "markdown",
   "id": "aea02c1b",
   "metadata": {},
   "source": [
    "## introductory visualizations\n",
    "to get a better sense of resolution effect on likelihood + qualitative results "
   ]
  },
  {
   "cell_type": "code",
   "execution_count": 20,
   "id": "4deb070c",
   "metadata": {},
   "outputs": [
    {
     "name": "stdout",
     "output_type": "stream",
     "text": [
      "scale down by 1.0\n",
      "true\n"
     ]
    },
    {
     "data": {
      "image/png": "[encoded data removed]",
      "text/plain": [
       "480×640 Array{RGBA{Float64},2} with eltype ColorTypes.RGBA{Float64}:\n",
       " RGBA{Float64}(1.0,1.0,1.0,1.0)  …  RGBA{Float64}(1.0,1.0,1.0,1.0)\n",
       " RGBA{Float64}(1.0,1.0,1.0,1.0)     RGBA{Float64}(1.0,1.0,1.0,1.0)\n",
       " RGBA{Float64}(1.0,1.0,1.0,1.0)     RGBA{Float64}(1.0,1.0,1.0,1.0)\n",
       " RGBA{Float64}(1.0,1.0,1.0,1.0)     RGBA{Float64}(1.0,1.0,1.0,1.0)\n",
       " RGBA{Float64}(1.0,1.0,1.0,1.0)     RGBA{Float64}(1.0,1.0,1.0,1.0)\n",
       " RGBA{Float64}(1.0,1.0,1.0,1.0)  …  RGBA{Float64}(1.0,1.0,1.0,1.0)\n",
       " RGBA{Float64}(1.0,1.0,1.0,1.0)     RGBA{Float64}(1.0,1.0,1.0,1.0)\n",
       " RGBA{Float64}(1.0,1.0,1.0,1.0)     RGBA{Float64}(1.0,1.0,1.0,1.0)\n",
       " RGBA{Float64}(1.0,1.0,1.0,1.0)     RGBA{Float64}(1.0,1.0,1.0,1.0)\n",
       " RGBA{Float64}(1.0,1.0,1.0,1.0)     RGBA{Float64}(1.0,1.0,1.0,1.0)\n",
       " RGBA{Float64}(1.0,1.0,1.0,1.0)  …  RGBA{Float64}(1.0,1.0,1.0,1.0)\n",
       " RGBA{Float64}(1.0,1.0,1.0,1.0)     RGBA{Float64}(1.0,1.0,1.0,1.0)\n",
       " RGBA{Float64}(1.0,1.0,1.0,1.0)     RGBA{Float64}(1.0,1.0,1.0,1.0)\n",
       " ⋮                               ⋱  \n",
       " RGBA{Float64}(1.0,1.0,1.0,1.0)     RGBA{Float64}(1.0,1.0,1.0,1.0)\n",
       " RGBA{Float64}(1.0,1.0,1.0,1.0)     RGBA{Float64}(1.0,1.0,1.0,1.0)\n",
       " RGBA{Float64}(1.0,1.0,1.0,1.0)  …  RGBA{Float64}(1.0,1.0,1.0,1.0)\n",
       " RGBA{Float64}(1.0,1.0,1.0,1.0)     RGBA{Float64}(1.0,1.0,1.0,1.0)\n",
       " RGBA{Float64}(1.0,1.0,1.0,1.0)     RGBA{Float64}(1.0,1.0,1.0,1.0)\n",
       " RGBA{Float64}(1.0,1.0,1.0,1.0)     RGBA{Float64}(1.0,1.0,1.0,1.0)\n",
       " RGBA{Float64}(1.0,1.0,1.0,1.0)     RGBA{Float64}(1.0,1.0,1.0,1.0)\n",
       " RGBA{Float64}(1.0,1.0,1.0,1.0)  …  RGBA{Float64}(1.0,1.0,1.0,1.0)\n",
       " RGBA{Float64}(1.0,1.0,1.0,1.0)     RGBA{Float64}(1.0,1.0,1.0,1.0)\n",
       " RGBA{Float64}(1.0,1.0,1.0,1.0)     RGBA{Float64}(1.0,1.0,1.0,1.0)\n",
       " RGBA{Float64}(1.0,1.0,1.0,1.0)     RGBA{Float64}(1.0,1.0,1.0,1.0)\n",
       " RGBA{Float64}(1.0,1.0,1.0,1.0)     RGBA{Float64}(1.0,1.0,1.0,1.0)"
      ]
     },
     "metadata": {},
     "output_type": "display_data"
    },
    {
     "name": "stdout",
     "output_type": "stream",
     "text": [
      "true\n",
      "scale down by 4.0\n",
      "true\n"
     ]
    },
    {
     "data": {
      "image/png": "[encoded data removed]",
      "text/plain": [
       "480×640 Array{RGBA{Float64},2} with eltype ColorTypes.RGBA{Float64}:\n",
       " RGBA{Float64}(1.0,1.0,1.0,1.0)  …  RGBA{Float64}(1.0,1.0,1.0,1.0)\n",
       " RGBA{Float64}(1.0,1.0,1.0,1.0)     RGBA{Float64}(1.0,1.0,1.0,1.0)\n",
       " RGBA{Float64}(1.0,1.0,1.0,1.0)     RGBA{Float64}(1.0,1.0,1.0,1.0)\n",
       " RGBA{Float64}(1.0,1.0,1.0,1.0)     RGBA{Float64}(1.0,1.0,1.0,1.0)\n",
       " RGBA{Float64}(1.0,1.0,1.0,1.0)     RGBA{Float64}(1.0,1.0,1.0,1.0)\n",
       " RGBA{Float64}(1.0,1.0,1.0,1.0)  …  RGBA{Float64}(1.0,1.0,1.0,1.0)\n",
       " RGBA{Float64}(1.0,1.0,1.0,1.0)     RGBA{Float64}(1.0,1.0,1.0,1.0)\n",
       " RGBA{Float64}(1.0,1.0,1.0,1.0)     RGBA{Float64}(1.0,1.0,1.0,1.0)\n",
       " RGBA{Float64}(1.0,1.0,1.0,1.0)     RGBA{Float64}(1.0,1.0,1.0,1.0)\n",
       " RGBA{Float64}(1.0,1.0,1.0,1.0)     RGBA{Float64}(1.0,1.0,1.0,1.0)\n",
       " RGBA{Float64}(1.0,1.0,1.0,1.0)  …  RGBA{Float64}(1.0,1.0,1.0,1.0)\n",
       " RGBA{Float64}(1.0,1.0,1.0,1.0)     RGBA{Float64}(1.0,1.0,1.0,1.0)\n",
       " RGBA{Float64}(1.0,1.0,1.0,1.0)     RGBA{Float64}(1.0,1.0,1.0,1.0)\n",
       " ⋮                               ⋱  \n",
       " RGBA{Float64}(1.0,1.0,1.0,1.0)     RGBA{Float64}(1.0,1.0,1.0,1.0)\n",
       " RGBA{Float64}(1.0,1.0,1.0,1.0)     RGBA{Float64}(1.0,1.0,1.0,1.0)\n",
       " RGBA{Float64}(1.0,1.0,1.0,1.0)  …  RGBA{Float64}(1.0,1.0,1.0,1.0)\n",
       " RGBA{Float64}(1.0,1.0,1.0,1.0)     RGBA{Float64}(1.0,1.0,1.0,1.0)\n",
       " RGBA{Float64}(1.0,1.0,1.0,1.0)     RGBA{Float64}(1.0,1.0,1.0,1.0)\n",
       " RGBA{Float64}(1.0,1.0,1.0,1.0)     RGBA{Float64}(1.0,1.0,1.0,1.0)\n",
       " RGBA{Float64}(1.0,1.0,1.0,1.0)     RGBA{Float64}(1.0,1.0,1.0,1.0)\n",
       " RGBA{Float64}(1.0,1.0,1.0,1.0)  …  RGBA{Float64}(1.0,1.0,1.0,1.0)\n",
       " RGBA{Float64}(1.0,1.0,1.0,1.0)     RGBA{Float64}(1.0,1.0,1.0,1.0)\n",
       " RGBA{Float64}(1.0,1.0,1.0,1.0)     RGBA{Float64}(1.0,1.0,1.0,1.0)\n",
       " RGBA{Float64}(1.0,1.0,1.0,1.0)     RGBA{Float64}(1.0,1.0,1.0,1.0)\n",
       " RGBA{Float64}(1.0,1.0,1.0,1.0)     RGBA{Float64}(1.0,1.0,1.0,1.0)"
      ]
     },
     "metadata": {},
     "output_type": "display_data"
    },
    {
     "name": "stdout",
     "output_type": "stream",
     "text": [
      "true\n",
      "scale down by 7.0\n",
      "true\n"
     ]
    },
    {
     "data": {
      "image/png": "[encoded data removed]",
      "text/plain": [
       "480×640 Array{RGBA{Float64},2} with eltype ColorTypes.RGBA{Float64}:\n",
       " RGBA{Float64}(1.0,1.0,1.0,1.0)  …  RGBA{Float64}(1.0,1.0,1.0,1.0)\n",
       " RGBA{Float64}(1.0,1.0,1.0,1.0)     RGBA{Float64}(1.0,1.0,1.0,1.0)\n",
       " RGBA{Float64}(1.0,1.0,1.0,1.0)     RGBA{Float64}(1.0,1.0,1.0,1.0)\n",
       " RGBA{Float64}(1.0,1.0,1.0,1.0)     RGBA{Float64}(1.0,1.0,1.0,1.0)\n",
       " RGBA{Float64}(1.0,1.0,1.0,1.0)     RGBA{Float64}(1.0,1.0,1.0,1.0)\n",
       " RGBA{Float64}(1.0,1.0,1.0,1.0)  …  RGBA{Float64}(1.0,1.0,1.0,1.0)\n",
       " RGBA{Float64}(1.0,1.0,1.0,1.0)     RGBA{Float64}(1.0,1.0,1.0,1.0)\n",
       " RGBA{Float64}(1.0,1.0,1.0,1.0)     RGBA{Float64}(1.0,1.0,1.0,1.0)\n",
       " RGBA{Float64}(1.0,1.0,1.0,1.0)     RGBA{Float64}(1.0,1.0,1.0,1.0)\n",
       " RGBA{Float64}(1.0,1.0,1.0,1.0)     RGBA{Float64}(1.0,1.0,1.0,1.0)\n",
       " RGBA{Float64}(1.0,1.0,1.0,1.0)  …  RGBA{Float64}(1.0,1.0,1.0,1.0)\n",
       " RGBA{Float64}(1.0,1.0,1.0,1.0)     RGBA{Float64}(1.0,1.0,1.0,1.0)\n",
       " RGBA{Float64}(1.0,1.0,1.0,1.0)     RGBA{Float64}(1.0,1.0,1.0,1.0)\n",
       " ⋮                               ⋱  \n",
       " RGBA{Float64}(1.0,1.0,1.0,1.0)     RGBA{Float64}(1.0,1.0,1.0,1.0)\n",
       " RGBA{Float64}(1.0,1.0,1.0,1.0)     RGBA{Float64}(1.0,1.0,1.0,1.0)\n",
       " RGBA{Float64}(1.0,1.0,1.0,1.0)  …  RGBA{Float64}(1.0,1.0,1.0,1.0)\n",
       " RGBA{Float64}(1.0,1.0,1.0,1.0)     RGBA{Float64}(1.0,1.0,1.0,1.0)\n",
       " RGBA{Float64}(1.0,1.0,1.0,1.0)     RGBA{Float64}(1.0,1.0,1.0,1.0)\n",
       " RGBA{Float64}(1.0,1.0,1.0,1.0)     RGBA{Float64}(1.0,1.0,1.0,1.0)\n",
       " RGBA{Float64}(1.0,1.0,1.0,1.0)     RGBA{Float64}(1.0,1.0,1.0,1.0)\n",
       " RGBA{Float64}(1.0,1.0,1.0,1.0)  …  RGBA{Float64}(1.0,1.0,1.0,1.0)\n",
       " RGBA{Float64}(1.0,1.0,1.0,1.0)     RGBA{Float64}(1.0,1.0,1.0,1.0)\n",
       " RGBA{Float64}(1.0,1.0,1.0,1.0)     RGBA{Float64}(1.0,1.0,1.0,1.0)\n",
       " RGBA{Float64}(1.0,1.0,1.0,1.0)     RGBA{Float64}(1.0,1.0,1.0,1.0)\n",
       " RGBA{Float64}(1.0,1.0,1.0,1.0)     RGBA{Float64}(1.0,1.0,1.0,1.0)"
      ]
     },
     "metadata": {},
     "output_type": "display_data"
    },
    {
     "name": "stdout",
     "output_type": "stream",
     "text": [
      "true\n",
      "scale down by 10.0\n",
      "true\n"
     ]
    },
    {
     "data": {
      "image/png": "[encoded data removed]",
      "text/plain": [
       "480×640 Array{RGBA{Float64},2} with eltype ColorTypes.RGBA{Float64}:\n",
       " RGBA{Float64}(1.0,1.0,1.0,1.0)  …  RGBA{Float64}(1.0,1.0,1.0,1.0)\n",
       " RGBA{Float64}(1.0,1.0,1.0,1.0)     RGBA{Float64}(1.0,1.0,1.0,1.0)\n",
       " RGBA{Float64}(1.0,1.0,1.0,1.0)     RGBA{Float64}(1.0,1.0,1.0,1.0)\n",
       " RGBA{Float64}(1.0,1.0,1.0,1.0)     RGBA{Float64}(1.0,1.0,1.0,1.0)\n",
       " RGBA{Float64}(1.0,1.0,1.0,1.0)     RGBA{Float64}(1.0,1.0,1.0,1.0)\n",
       " RGBA{Float64}(1.0,1.0,1.0,1.0)  …  RGBA{Float64}(1.0,1.0,1.0,1.0)\n",
       " RGBA{Float64}(1.0,1.0,1.0,1.0)     RGBA{Float64}(1.0,1.0,1.0,1.0)\n",
       " RGBA{Float64}(1.0,1.0,1.0,1.0)     RGBA{Float64}(1.0,1.0,1.0,1.0)\n",
       " RGBA{Float64}(1.0,1.0,1.0,1.0)     RGBA{Float64}(1.0,1.0,1.0,1.0)\n",
       " RGBA{Float64}(1.0,1.0,1.0,1.0)     RGBA{Float64}(1.0,1.0,1.0,1.0)\n",
       " RGBA{Float64}(1.0,1.0,1.0,1.0)  …  RGBA{Float64}(1.0,1.0,1.0,1.0)\n",
       " RGBA{Float64}(1.0,1.0,1.0,1.0)     RGBA{Float64}(1.0,1.0,1.0,1.0)\n",
       " RGBA{Float64}(1.0,1.0,1.0,1.0)     RGBA{Float64}(1.0,1.0,1.0,1.0)\n",
       " ⋮                               ⋱  \n",
       " RGBA{Float64}(1.0,1.0,1.0,1.0)     RGBA{Float64}(1.0,1.0,1.0,1.0)\n",
       " RGBA{Float64}(1.0,1.0,1.0,1.0)     RGBA{Float64}(1.0,1.0,1.0,1.0)\n",
       " RGBA{Float64}(1.0,1.0,1.0,1.0)  …  RGBA{Float64}(1.0,1.0,1.0,1.0)\n",
       " RGBA{Float64}(1.0,1.0,1.0,1.0)     RGBA{Float64}(1.0,1.0,1.0,1.0)\n",
       " RGBA{Float64}(1.0,1.0,1.0,1.0)     RGBA{Float64}(1.0,1.0,1.0,1.0)\n",
       " RGBA{Float64}(1.0,1.0,1.0,1.0)     RGBA{Float64}(1.0,1.0,1.0,1.0)\n",
       " RGBA{Float64}(1.0,1.0,1.0,1.0)     RGBA{Float64}(1.0,1.0,1.0,1.0)\n",
       " RGBA{Float64}(1.0,1.0,1.0,1.0)  …  RGBA{Float64}(1.0,1.0,1.0,1.0)\n",
       " RGBA{Float64}(1.0,1.0,1.0,1.0)     RGBA{Float64}(1.0,1.0,1.0,1.0)\n",
       " RGBA{Float64}(1.0,1.0,1.0,1.0)     RGBA{Float64}(1.0,1.0,1.0,1.0)\n",
       " RGBA{Float64}(1.0,1.0,1.0,1.0)     RGBA{Float64}(1.0,1.0,1.0,1.0)\n",
       " RGBA{Float64}(1.0,1.0,1.0,1.0)     RGBA{Float64}(1.0,1.0,1.0,1.0)"
      ]
     },
     "metadata": {},
     "output_type": "display_data"
    },
    {
     "name": "stdout",
     "output_type": "stream",
     "text": [
      "true\n",
      "scale down by 13.0\n",
      "true\n"
     ]
    },
    {
     "data": {
      "image/png": "[encoded data removed]",
      "text/plain": [
       "480×640 Array{RGBA{Float64},2} with eltype ColorTypes.RGBA{Float64}:\n",
       " RGBA{Float64}(1.0,1.0,1.0,1.0)  …  RGBA{Float64}(1.0,1.0,1.0,1.0)\n",
       " RGBA{Float64}(1.0,1.0,1.0,1.0)     RGBA{Float64}(1.0,1.0,1.0,1.0)\n",
       " RGBA{Float64}(1.0,1.0,1.0,1.0)     RGBA{Float64}(1.0,1.0,1.0,1.0)\n",
       " RGBA{Float64}(1.0,1.0,1.0,1.0)     RGBA{Float64}(1.0,1.0,1.0,1.0)\n",
       " RGBA{Float64}(1.0,1.0,1.0,1.0)     RGBA{Float64}(1.0,1.0,1.0,1.0)\n",
       " RGBA{Float64}(1.0,1.0,1.0,1.0)  …  RGBA{Float64}(1.0,1.0,1.0,1.0)\n",
       " RGBA{Float64}(1.0,1.0,1.0,1.0)     RGBA{Float64}(1.0,1.0,1.0,1.0)\n",
       " RGBA{Float64}(1.0,1.0,1.0,1.0)     RGBA{Float64}(1.0,1.0,1.0,1.0)\n",
       " RGBA{Float64}(1.0,1.0,1.0,1.0)     RGBA{Float64}(1.0,1.0,1.0,1.0)\n",
       " RGBA{Float64}(1.0,1.0,1.0,1.0)     RGBA{Float64}(1.0,1.0,1.0,1.0)\n",
       " RGBA{Float64}(1.0,1.0,1.0,1.0)  …  RGBA{Float64}(1.0,1.0,1.0,1.0)\n",
       " RGBA{Float64}(1.0,1.0,1.0,1.0)     RGBA{Float64}(1.0,1.0,1.0,1.0)\n",
       " RGBA{Float64}(1.0,1.0,1.0,1.0)     RGBA{Float64}(1.0,1.0,1.0,1.0)\n",
       " ⋮                               ⋱  \n",
       " RGBA{Float64}(1.0,1.0,1.0,1.0)     RGBA{Float64}(1.0,1.0,1.0,1.0)\n",
       " RGBA{Float64}(1.0,1.0,1.0,1.0)     RGBA{Float64}(1.0,1.0,1.0,1.0)\n",
       " RGBA{Float64}(1.0,1.0,1.0,1.0)  …  RGBA{Float64}(1.0,1.0,1.0,1.0)\n",
       " RGBA{Float64}(1.0,1.0,1.0,1.0)     RGBA{Float64}(1.0,1.0,1.0,1.0)\n",
       " RGBA{Float64}(1.0,1.0,1.0,1.0)     RGBA{Float64}(1.0,1.0,1.0,1.0)\n",
       " RGBA{Float64}(1.0,1.0,1.0,1.0)     RGBA{Float64}(1.0,1.0,1.0,1.0)\n",
       " RGBA{Float64}(1.0,1.0,1.0,1.0)     RGBA{Float64}(1.0,1.0,1.0,1.0)\n",
       " RGBA{Float64}(1.0,1.0,1.0,1.0)  …  RGBA{Float64}(1.0,1.0,1.0,1.0)\n",
       " RGBA{Float64}(1.0,1.0,1.0,1.0)     RGBA{Float64}(1.0,1.0,1.0,1.0)\n",
       " RGBA{Float64}(1.0,1.0,1.0,1.0)     RGBA{Float64}(1.0,1.0,1.0,1.0)\n",
       " RGBA{Float64}(1.0,1.0,1.0,1.0)     RGBA{Float64}(1.0,1.0,1.0,1.0)\n",
       " RGBA{Float64}(1.0,1.0,1.0,1.0)     RGBA{Float64}(1.0,1.0,1.0,1.0)"
      ]
     },
     "metadata": {},
     "output_type": "display_data"
    },
    {
     "name": "stdout",
     "output_type": "stream",
     "text": [
      "true\n",
      "scale down by 16.0\n",
      "true\n"
     ]
    },
    {
     "data": {
      "image/png": "[encoded data removed]",
      "text/plain": [
       "480×640 Array{RGBA{Float64},2} with eltype ColorTypes.RGBA{Float64}:\n",
       " RGBA{Float64}(1.0,1.0,1.0,1.0)  …  RGBA{Float64}(1.0,1.0,1.0,1.0)\n",
       " RGBA{Float64}(1.0,1.0,1.0,1.0)     RGBA{Float64}(1.0,1.0,1.0,1.0)\n",
       " RGBA{Float64}(1.0,1.0,1.0,1.0)     RGBA{Float64}(1.0,1.0,1.0,1.0)\n",
       " RGBA{Float64}(1.0,1.0,1.0,1.0)     RGBA{Float64}(1.0,1.0,1.0,1.0)\n",
       " RGBA{Float64}(1.0,1.0,1.0,1.0)     RGBA{Float64}(1.0,1.0,1.0,1.0)\n",
       " RGBA{Float64}(1.0,1.0,1.0,1.0)  …  RGBA{Float64}(1.0,1.0,1.0,1.0)\n",
       " RGBA{Float64}(1.0,1.0,1.0,1.0)     RGBA{Float64}(1.0,1.0,1.0,1.0)\n",
       " RGBA{Float64}(1.0,1.0,1.0,1.0)     RGBA{Float64}(1.0,1.0,1.0,1.0)\n",
       " RGBA{Float64}(1.0,1.0,1.0,1.0)     RGBA{Float64}(1.0,1.0,1.0,1.0)\n",
       " RGBA{Float64}(1.0,1.0,1.0,1.0)     RGBA{Float64}(1.0,1.0,1.0,1.0)\n",
       " RGBA{Float64}(1.0,1.0,1.0,1.0)  …  RGBA{Float64}(1.0,1.0,1.0,1.0)\n",
       " RGBA{Float64}(1.0,1.0,1.0,1.0)     RGBA{Float64}(1.0,1.0,1.0,1.0)\n",
       " RGBA{Float64}(1.0,1.0,1.0,1.0)     RGBA{Float64}(1.0,1.0,1.0,1.0)\n",
       " ⋮                               ⋱  \n",
       " RGBA{Float64}(1.0,1.0,1.0,1.0)     RGBA{Float64}(1.0,1.0,1.0,1.0)\n",
       " RGBA{Float64}(1.0,1.0,1.0,1.0)     RGBA{Float64}(1.0,1.0,1.0,1.0)\n",
       " RGBA{Float64}(1.0,1.0,1.0,1.0)  …  RGBA{Float64}(1.0,1.0,1.0,1.0)\n",
       " RGBA{Float64}(1.0,1.0,1.0,1.0)     RGBA{Float64}(1.0,1.0,1.0,1.0)\n",
       " RGBA{Float64}(1.0,1.0,1.0,1.0)     RGBA{Float64}(1.0,1.0,1.0,1.0)\n",
       " RGBA{Float64}(1.0,1.0,1.0,1.0)     RGBA{Float64}(1.0,1.0,1.0,1.0)\n",
       " RGBA{Float64}(1.0,1.0,1.0,1.0)     RGBA{Float64}(1.0,1.0,1.0,1.0)\n",
       " RGBA{Float64}(1.0,1.0,1.0,1.0)  …  RGBA{Float64}(1.0,1.0,1.0,1.0)\n",
       " RGBA{Float64}(1.0,1.0,1.0,1.0)     RGBA{Float64}(1.0,1.0,1.0,1.0)\n",
       " RGBA{Float64}(1.0,1.0,1.0,1.0)     RGBA{Float64}(1.0,1.0,1.0,1.0)\n",
       " RGBA{Float64}(1.0,1.0,1.0,1.0)     RGBA{Float64}(1.0,1.0,1.0,1.0)\n",
       " RGBA{Float64}(1.0,1.0,1.0,1.0)     RGBA{Float64}(1.0,1.0,1.0,1.0)"
      ]
     },
     "metadata": {},
     "output_type": "display_data"
    },
    {
     "name": "stdout",
     "output_type": "stream",
     "text": [
      "true\n",
      "scale down by 19.0\n",
      "true\n"
     ]
    },
    {
     "data": {
      "image/png": "[encoded data removed]",
      "text/plain": [
       "480×640 Array{RGBA{Float64},2} with eltype ColorTypes.RGBA{Float64}:\n",
       " RGBA{Float64}(1.0,1.0,1.0,1.0)  …  RGBA{Float64}(1.0,1.0,1.0,1.0)\n",
       " RGBA{Float64}(1.0,1.0,1.0,1.0)     RGBA{Float64}(1.0,1.0,1.0,1.0)\n",
       " RGBA{Float64}(1.0,1.0,1.0,1.0)     RGBA{Float64}(1.0,1.0,1.0,1.0)\n",
       " RGBA{Float64}(1.0,1.0,1.0,1.0)     RGBA{Float64}(1.0,1.0,1.0,1.0)\n",
       " RGBA{Float64}(1.0,1.0,1.0,1.0)     RGBA{Float64}(1.0,1.0,1.0,1.0)\n",
       " RGBA{Float64}(1.0,1.0,1.0,1.0)  …  RGBA{Float64}(1.0,1.0,1.0,1.0)\n",
       " RGBA{Float64}(1.0,1.0,1.0,1.0)     RGBA{Float64}(1.0,1.0,1.0,1.0)\n",
       " RGBA{Float64}(1.0,1.0,1.0,1.0)     RGBA{Float64}(1.0,1.0,1.0,1.0)\n",
       " RGBA{Float64}(1.0,1.0,1.0,1.0)     RGBA{Float64}(1.0,1.0,1.0,1.0)\n",
       " RGBA{Float64}(1.0,1.0,1.0,1.0)     RGBA{Float64}(1.0,1.0,1.0,1.0)\n",
       " RGBA{Float64}(1.0,1.0,1.0,1.0)  …  RGBA{Float64}(1.0,1.0,1.0,1.0)\n",
       " RGBA{Float64}(1.0,1.0,1.0,1.0)     RGBA{Float64}(1.0,1.0,1.0,1.0)\n",
       " RGBA{Float64}(1.0,1.0,1.0,1.0)     RGBA{Float64}(1.0,1.0,1.0,1.0)\n",
       " ⋮                               ⋱  \n",
       " RGBA{Float64}(1.0,1.0,1.0,1.0)     RGBA{Float64}(1.0,1.0,1.0,1.0)\n",
       " RGBA{Float64}(1.0,1.0,1.0,1.0)     RGBA{Float64}(1.0,1.0,1.0,1.0)\n",
       " RGBA{Float64}(1.0,1.0,1.0,1.0)  …  RGBA{Float64}(1.0,1.0,1.0,1.0)\n",
       " RGBA{Float64}(1.0,1.0,1.0,1.0)     RGBA{Float64}(1.0,1.0,1.0,1.0)\n",
       " RGBA{Float64}(1.0,1.0,1.0,1.0)     RGBA{Float64}(1.0,1.0,1.0,1.0)\n",
       " RGBA{Float64}(1.0,1.0,1.0,1.0)     RGBA{Float64}(1.0,1.0,1.0,1.0)\n",
       " RGBA{Float64}(1.0,1.0,1.0,1.0)     RGBA{Float64}(1.0,1.0,1.0,1.0)\n",
       " RGBA{Float64}(1.0,1.0,1.0,1.0)  …  RGBA{Float64}(1.0,1.0,1.0,1.0)\n",
       " RGBA{Float64}(1.0,1.0,1.0,1.0)     RGBA{Float64}(1.0,1.0,1.0,1.0)\n",
       " RGBA{Float64}(1.0,1.0,1.0,1.0)     RGBA{Float64}(1.0,1.0,1.0,1.0)\n",
       " RGBA{Float64}(1.0,1.0,1.0,1.0)     RGBA{Float64}(1.0,1.0,1.0,1.0)\n",
       " RGBA{Float64}(1.0,1.0,1.0,1.0)     RGBA{Float64}(1.0,1.0,1.0,1.0)"
      ]
     },
     "metadata": {},
     "output_type": "display_data"
    },
    {
     "name": "stdout",
     "output_type": "stream",
     "text": [
      "true\n",
      "scale down by 22.0\n",
      "true\n"
     ]
    },
    {
     "data": {
      "image/png": "[encoded data removed]",
      "text/plain": [
       "480×640 Array{RGBA{Float64},2} with eltype ColorTypes.RGBA{Float64}:\n",
       " RGBA{Float64}(1.0,1.0,1.0,1.0)  …  RGBA{Float64}(1.0,1.0,1.0,1.0)\n",
       " RGBA{Float64}(1.0,1.0,1.0,1.0)     RGBA{Float64}(1.0,1.0,1.0,1.0)\n",
       " RGBA{Float64}(1.0,1.0,1.0,1.0)     RGBA{Float64}(1.0,1.0,1.0,1.0)\n",
       " RGBA{Float64}(1.0,1.0,1.0,1.0)     RGBA{Float64}(1.0,1.0,1.0,1.0)\n",
       " RGBA{Float64}(1.0,1.0,1.0,1.0)     RGBA{Float64}(1.0,1.0,1.0,1.0)\n",
       " RGBA{Float64}(1.0,1.0,1.0,1.0)  …  RGBA{Float64}(1.0,1.0,1.0,1.0)\n",
       " RGBA{Float64}(1.0,1.0,1.0,1.0)     RGBA{Float64}(1.0,1.0,1.0,1.0)\n",
       " RGBA{Float64}(1.0,1.0,1.0,1.0)     RGBA{Float64}(1.0,1.0,1.0,1.0)\n",
       " RGBA{Float64}(1.0,1.0,1.0,1.0)     RGBA{Float64}(1.0,1.0,1.0,1.0)\n",
       " RGBA{Float64}(1.0,1.0,1.0,1.0)     RGBA{Float64}(1.0,1.0,1.0,1.0)\n",
       " RGBA{Float64}(1.0,1.0,1.0,1.0)  …  RGBA{Float64}(1.0,1.0,1.0,1.0)\n",
       " RGBA{Float64}(1.0,1.0,1.0,1.0)     RGBA{Float64}(1.0,1.0,1.0,1.0)\n",
       " RGBA{Float64}(1.0,1.0,1.0,1.0)     RGBA{Float64}(1.0,1.0,1.0,1.0)\n",
       " ⋮                               ⋱  \n",
       " RGBA{Float64}(1.0,1.0,1.0,1.0)     RGBA{Float64}(1.0,1.0,1.0,1.0)\n",
       " RGBA{Float64}(1.0,1.0,1.0,1.0)     RGBA{Float64}(1.0,1.0,1.0,1.0)\n",
       " RGBA{Float64}(1.0,1.0,1.0,1.0)  …  RGBA{Float64}(1.0,1.0,1.0,1.0)\n",
       " RGBA{Float64}(1.0,1.0,1.0,1.0)     RGBA{Float64}(1.0,1.0,1.0,1.0)\n",
       " RGBA{Float64}(1.0,1.0,1.0,1.0)     RGBA{Float64}(1.0,1.0,1.0,1.0)\n",
       " RGBA{Float64}(1.0,1.0,1.0,1.0)     RGBA{Float64}(1.0,1.0,1.0,1.0)\n",
       " RGBA{Float64}(1.0,1.0,1.0,1.0)     RGBA{Float64}(1.0,1.0,1.0,1.0)\n",
       " RGBA{Float64}(1.0,1.0,1.0,1.0)  …  RGBA{Float64}(1.0,1.0,1.0,1.0)\n",
       " RGBA{Float64}(1.0,1.0,1.0,1.0)     RGBA{Float64}(1.0,1.0,1.0,1.0)\n",
       " RGBA{Float64}(1.0,1.0,1.0,1.0)     RGBA{Float64}(1.0,1.0,1.0,1.0)\n",
       " RGBA{Float64}(1.0,1.0,1.0,1.0)     RGBA{Float64}(1.0,1.0,1.0,1.0)\n",
       " RGBA{Float64}(1.0,1.0,1.0,1.0)     RGBA{Float64}(1.0,1.0,1.0,1.0)"
      ]
     },
     "metadata": {},
     "output_type": "display_data"
    },
    {
     "name": "stdout",
     "output_type": "stream",
     "text": [
      "true\n"
     ]
    }
   ],
   "source": [
    "########\n",
    "# camera downscaling\n",
    "########\n",
    "using IJulia\n",
    "\n",
    "final = 24\n",
    "for downscale_factor=1:3.0:final\n",
    "    println(\"scale down by $downscale_factor\")\n",
    "    \n",
    "    # scale camera according to resolution; reset renderer\n",
    "    scaled_camera = GL.scale_down_camera(camera, downscale_factor)\n",
    "        \n",
    "    # Set the renderer to now have those scaled down intrinsics.\n",
    "    GL.set_intrinsics!(renderer, scaled_camera)\n",
    " \n",
    "    d = GL.gl_render(renderer, [i], [pose], IDENTITY_POSE)\n",
    "\n",
    "    img = GL.view_depth_image(d)\n",
    "    img = I.imresize(img, (camera.height, camera.width));\n",
    "    IJulia.display(img)\n",
    "  \n",
    "    # revert intrinsics\n",
    "    GL.set_intrinsics!(renderer, camera)\n",
    "\n",
    "end\n"
   ]
  },
  {
   "cell_type": "code",
   "execution_count": 21,
   "id": "b85f67e4",
   "metadata": {},
   "outputs": [
    {
     "name": "stdout",
     "output_type": "stream",
     "text": [
      "true\n"
     ]
    },
    {
     "data": {
      "image/png": "[encoded data removed]",
      "text/plain": [
       "480×640 Array{RGBA{Float64},2} with eltype ColorTypes.RGBA{Float64}:\n",
       " RGBA{Float64}(1.0,1.0,1.0,1.0)  …  RGBA{Float64}(1.0,1.0,1.0,1.0)\n",
       " RGBA{Float64}(1.0,1.0,1.0,1.0)     RGBA{Float64}(1.0,1.0,1.0,1.0)\n",
       " RGBA{Float64}(1.0,1.0,1.0,1.0)     RGBA{Float64}(1.0,1.0,1.0,1.0)\n",
       " RGBA{Float64}(1.0,1.0,1.0,1.0)     RGBA{Float64}(1.0,1.0,1.0,1.0)\n",
       " RGBA{Float64}(1.0,1.0,1.0,1.0)     RGBA{Float64}(1.0,1.0,1.0,1.0)\n",
       " RGBA{Float64}(1.0,1.0,1.0,1.0)  …  RGBA{Float64}(1.0,1.0,1.0,1.0)\n",
       " RGBA{Float64}(1.0,1.0,1.0,1.0)     RGBA{Float64}(1.0,1.0,1.0,1.0)\n",
       " RGBA{Float64}(1.0,1.0,1.0,1.0)     RGBA{Float64}(1.0,1.0,1.0,1.0)\n",
       " RGBA{Float64}(1.0,1.0,1.0,1.0)     RGBA{Float64}(1.0,1.0,1.0,1.0)\n",
       " RGBA{Float64}(1.0,1.0,1.0,1.0)     RGBA{Float64}(1.0,1.0,1.0,1.0)\n",
       " RGBA{Float64}(1.0,1.0,1.0,1.0)  …  RGBA{Float64}(1.0,1.0,1.0,1.0)\n",
       " RGBA{Float64}(1.0,1.0,1.0,1.0)     RGBA{Float64}(1.0,1.0,1.0,1.0)\n",
       " RGBA{Float64}(1.0,1.0,1.0,1.0)     RGBA{Float64}(1.0,1.0,1.0,1.0)\n",
       " ⋮                               ⋱  \n",
       " RGBA{Float64}(1.0,1.0,1.0,1.0)     RGBA{Float64}(1.0,1.0,1.0,1.0)\n",
       " RGBA{Float64}(1.0,1.0,1.0,1.0)     RGBA{Float64}(1.0,1.0,1.0,1.0)\n",
       " RGBA{Float64}(1.0,1.0,1.0,1.0)  …  RGBA{Float64}(1.0,1.0,1.0,1.0)\n",
       " RGBA{Float64}(1.0,1.0,1.0,1.0)     RGBA{Float64}(1.0,1.0,1.0,1.0)\n",
       " RGBA{Float64}(1.0,1.0,1.0,1.0)     RGBA{Float64}(1.0,1.0,1.0,1.0)\n",
       " RGBA{Float64}(1.0,1.0,1.0,1.0)     RGBA{Float64}(1.0,1.0,1.0,1.0)\n",
       " RGBA{Float64}(1.0,1.0,1.0,1.0)     RGBA{Float64}(1.0,1.0,1.0,1.0)\n",
       " RGBA{Float64}(1.0,1.0,1.0,1.0)  …  RGBA{Float64}(1.0,1.0,1.0,1.0)\n",
       " RGBA{Float64}(1.0,1.0,1.0,1.0)     RGBA{Float64}(1.0,1.0,1.0,1.0)\n",
       " RGBA{Float64}(1.0,1.0,1.0,1.0)     RGBA{Float64}(1.0,1.0,1.0,1.0)\n",
       " RGBA{Float64}(1.0,1.0,1.0,1.0)     RGBA{Float64}(1.0,1.0,1.0,1.0)\n",
       " RGBA{Float64}(1.0,1.0,1.0,1.0)     RGBA{Float64}(1.0,1.0,1.0,1.0)"
      ]
     },
     "metadata": {},
     "output_type": "display_data"
    },
    {
     "name": "stdout",
     "output_type": "stream",
     "text": [
      "i = 4\n"
     ]
    },
    {
     "name": "stderr",
     "output_type": "stream",
     "text": [
      "┌ Info: MeshCat server started. You can open the visualizer by visiting the following URL in your browser:\n",
      "│ http://127.0.0.1:8703\n",
      "└ @ MeshCat C:\\Users\\karen\\.julia\\packages\\MeshCat\\Ax8pH\\src\\visualizer.jl:73\n",
      "┌ Info: MeshCat server started. You can open the visualizer by visiting the following URL in your browser:\n",
      "│ http://127.0.0.1:8704\n",
      "└ @ MeshCat C:\\Users\\karen\\.julia\\packages\\MeshCat\\Ax8pH\\src\\visualizer.jl:73\n"
     ]
    },
    {
     "data": {
      "text/plain": [
       "3×9313 Matrix{Float64}:\n",
       "  0.219406   3.44035  -2.50768  -6.84692  …   5.32369  1.70701    5.9159\n",
       " -0.51418    1.20199   1.07296  -4.41164     -1.80044  0.307496  -3.63765\n",
       "  4.89239   11.5152    6.91074   2.50345      2.8665   4.64787    4.34035"
      ]
     },
     "execution_count": 21,
     "metadata": {},
     "output_type": "execute_result"
    }
   ],
   "source": [
    "#########\n",
    "# radius scaling\n",
    "#########\n",
    "bounds = (-100.0, 100.0, -100.0, 100.0,-100.0,100.0)\n",
    "\n",
    "\n",
    "# Reset the intrinsics inside of the renderer.\n",
    "GL.set_intrinsics!(renderer, camera) \n",
    "\n",
    "# And render the same image as above.\n",
    "gt_depth_image = GL.gl_render(renderer, [i], [pose], IDENTITY_POSE)\n",
    "IJulia.display(GL.view_depth_image(gt_depth_image))\n",
    "\n",
    "# Create point cloud corresponding to that rendered depth image.\n",
    "gt_cloud = GL.depth_image_to_point_cloud(gt_depth_image, camera)\n",
    "# print(size(gt_cloud))\n",
    "\n",
    "\n",
    "@show i\n",
    "\n",
    "radius = 0.01  # \"tight\" radius\n",
    "sampled_cloud = Gen.random(T.uniform_mixture_from_template, gt_cloud, 0.0001, radius, bounds)\n",
    "# Visualize that point cloud.\n",
    "V.setup_visualizer()\n",
    "V.viz(sampled_cloud)  # = V.viz(T.move_points_to_frame_b(c, camera_pose))\n",
    "\n",
    " \n",
    "radius = float(1)  # \"loose\" radius (can still pick out general shape)\n",
    "sampled_cloud = Gen.random(T.uniform_mixture_from_template, gt_cloud, 0.0001, radius, bounds)\n",
    "# Visualize that point cloud.\n",
    "V.setup_visualizer()\n",
    "V.viz(sampled_cloud)  # = V.viz(T.move_points_to_frame_b(c, camera_pose))\n",
    "\n",
    " \n",
    "radius = float(10)  # very loose radius; points on a sphere (w/ some concentration on center with shape of obj)\n",
    "sampled_cloud = Gen.random(T.uniform_mixture_from_template, gt_cloud, 0.0001, radius, bounds)\n",
    "# # Visualize that point cloud.\n",
    "# V.setup_visualizer()\n",
    "# V.viz(sampled_cloud)  # = V.viz(T.move_points_to_frame_b(c, camera_pose))"
   ]
  },
  {
   "cell_type": "markdown",
   "id": "3e9be6e7",
   "metadata": {},
   "source": [
    "## Particle Filtering + Orientation enumeration"
   ]
  },
  {
   "cell_type": "markdown",
   "id": "cd28dd51",
   "metadata": {},
   "source": [
    "Get angles to enumerate over"
   ]
  },
  {
   "cell_type": "code",
   "execution_count": 22,
   "id": "7035b31c",
   "metadata": {},
   "outputs": [
    {
     "data": {
      "text/plain": [
       "fibonacci_sphere (generic function with 1 method)"
      ]
     },
     "execution_count": 22,
     "metadata": {},
     "output_type": "execute_result"
    }
   ],
   "source": [
    "function fibonacci_sphere(samples)\n",
    "    points = []\n",
    "    phi = π * (3. - sqrt(5.))\n",
    " \n",
    "    for i in 0:(samples-1)\n",
    "        y = 1 - (i / Float64(samples - 1)) * 2\n",
    "        @show y\n",
    "        radius = sqrt(1 - y * y)\n",
    "\n",
    "        theta = phi * i\n",
    "\n",
    "        x = cos(theta) * radius\n",
    "        z = sin(theta) * radius\n",
    "\n",
    "        push!(points, (x, y, z))\n",
    "    end\n",
    "    return points\n",
    "end"
   ]
  },
  {
   "cell_type": "code",
   "execution_count": 165,
   "id": "cea2934d",
   "metadata": {
    "collapsed": true
   },
   "outputs": [
    {
     "name": "stdout",
     "output_type": "stream",
     "text": [
      "y = 1.0\n",
      "y = 0.9797979797979798\n",
      "y = 0.9595959595959596\n",
      "y = 0.9393939393939394\n",
      "y = 0.9191919191919192\n",
      "y = 0.898989898989899\n",
      "y = 0.8787878787878788\n",
      "y = 0.8585858585858586\n",
      "y = 0.8383838383838383\n",
      "y = 0.8181818181818181\n",
      "y = 0.797979797979798\n",
      "y = 0.7777777777777778\n",
      "y = 0.7575757575757576\n",
      "y = 0.7373737373737373\n",
      "y = 0.7171717171717171\n",
      "y = 0.696969696969697\n",
      "y = 0.6767676767676767\n",
      "y = 0.6565656565656566\n",
      "y = 0.6363636363636364\n",
      "y = 0.6161616161616161\n",
      "y = 0.595959595959596\n",
      "y = 0.5757575757575757\n",
      "y = 0.5555555555555556\n",
      "y = 0.5353535353535354\n",
      "y = 0.5151515151515151\n",
      "y = 0.4949494949494949\n",
      "y = 0.4747474747474747\n",
      "y = 0.4545454545454546\n",
      "y = 0.43434343434343436\n",
      "y = 0.41414141414141414\n",
      "y = 0.3939393939393939\n",
      "y = 0.3737373737373737\n",
      "y = 0.3535353535353535\n",
      "y = 0.33333333333333337\n",
      "y = 0.31313131313131315\n",
      "y = 0.29292929292929293\n",
      "y = 0.2727272727272727\n",
      "y = 0.2525252525252525\n",
      "y = 0.23232323232323238\n",
      "y = 0.21212121212121215\n",
      "y = 0.19191919191919193\n",
      "y = 0.1717171717171717\n",
      "y = 0.1515151515151515\n",
      "y = 0.13131313131313127\n",
      "y = 0.11111111111111116\n",
      "y = 0.09090909090909094\n",
      "y = 0.07070707070707072\n",
      "y = 0.0505050505050505\n",
      "y = 0.030303030303030276\n",
      "y = 0.010101010101010055\n",
      "y = -0.010101010101010166\n",
      "y = -0.030303030303030276\n",
      "y = -0.05050505050505061\n",
      "y = -0.07070707070707072\n",
      "y = -0.09090909090909083\n",
      "y = -0.11111111111111116\n",
      "y = -0.13131313131313127\n",
      "y = -0.1515151515151516\n",
      "y = -0.1717171717171717\n",
      "y = -0.19191919191919182\n",
      "y = -0.21212121212121215\n",
      "y = -0.23232323232323226\n",
      "y = -0.2525252525252526\n",
      "y = -0.2727272727272727\n",
      "y = -0.29292929292929304\n",
      "y = -0.31313131313131315\n",
      "y = -0.33333333333333326\n",
      "y = -0.3535353535353536\n",
      "y = -0.3737373737373737\n",
      "y = -0.39393939393939403\n",
      "y = -0.41414141414141414\n",
      "y = -0.43434343434343425\n",
      "y = -0.4545454545454546\n",
      "y = -0.4747474747474747\n",
      "y = -0.49494949494949503\n",
      "y = -0.5151515151515151\n",
      "y = -0.5353535353535352\n",
      "y = -0.5555555555555556\n",
      "y = -0.5757575757575757\n",
      "y = -0.595959595959596\n",
      "y = -0.6161616161616161\n",
      "y = -0.6363636363636365\n",
      "y = -0.6565656565656566\n",
      "y = -0.6767676767676767\n",
      "y = -0.696969696969697\n",
      "y = -0.7171717171717171\n",
      "y = -0.7373737373737375\n",
      "y = -0.7575757575757576\n",
      "y = -0.7777777777777777\n",
      "y = -0.797979797979798\n",
      "y = -0.8181818181818181\n",
      "y = -0.8383838383838385\n",
      "y = -0.8585858585858586\n",
      "y = -0.8787878787878789\n",
      "y = -0.898989898989899\n",
      "y = -0.9191919191919191\n",
      "y = -0.9393939393939394\n",
      "y = -0.9595959595959596\n",
      "y = -0.9797979797979799\n",
      "y = -1.0\n"
     ]
    }
   ],
   "source": [
    "unit_sphere_directions = fibonacci_sphere(100)#fibonacci_sphere(200);\n",
    "other_rotation_angle = collect(0:0.2:(2*π));\n"
   ]
  },
  {
   "cell_type": "code",
   "execution_count": 164,
   "id": "8caf8c14",
   "metadata": {},
   "outputs": [
    {
     "name": "stderr",
     "output_type": "stream",
     "text": [
      "Excessive output truncated after 1163941 bytes."
     ]
    },
    {
     "name": "stdout",
     "output_type": "stream",
     "text": [
      "rotations_to_enumerate_over = [let\n",
      "        #= In[164]:3 =#\n",
      "        T.geodesicHopf_select_axis(StaticArrays.SVector(dir), ang, 1)\n",
      "    end for dir = unit_sphere_directions, ang = other_rotation_angle] = "
     ]
    },
    {
     "data": {
      "text/plain": [
       "6400"
      ]
     },
     "execution_count": 164,
     "metadata": {},
     "output_type": "execute_result"
    }
   ],
   "source": [
    "@show rotations_to_enumerate_over = [\n",
    "    let\n",
    "        T.geodesicHopf_select_axis(StaticArrays.SVector(dir), ang, 1)\n",
    "    end\n",
    "    for dir in unit_sphere_directions, \n",
    "        ang in other_rotation_angle\n",
    "]\n",
    "num_rotations_to_enumerate_over = length(rotations_to_enumerate_over)"
   ]
  },
  {
   "cell_type": "code",
   "execution_count": 24,
   "id": "4ee7492f",
   "metadata": {},
   "outputs": [],
   "source": [
    "# traces = (orn -> Gen.generate(model, args,\n",
    "#         Gen.choicemap(T.obs_addr() => gt_cloud,\n",
    "#         :id => gt_trace[:id],\n",
    "#         T.floating_pose_addr(1) => Pose([0.0, 0.0, 5.0], orn)))).(rotations_to_enumerate_over);\n",
    "# scores = (i -> i[2]).(traces);\n",
    "\n",
    "# log_weights = [i[2] for i in traces];\n",
    "# log_weights = log_weights .- Gen.logsumexp(log_weights);\n",
    "# weights = exp.(log_weights)\n",
    "# best_trace, _ = traces[argmax(weights)];\n",
    "# viz_trace(best_trace);\n",
    "# sort(weights[:])"
   ]
  },
  {
   "cell_type": "code",
   "execution_count": 25,
   "id": "337b7b83",
   "metadata": {
    "collapsed": true
   },
   "outputs": [
    {
     "name": "stdout",
     "output_type": "stream",
     "text": [
      "true\n",
      "Pose⟨pos=[0.0, 0.0, 5.0], orientation=(w=0.7071067811865476, x=0.0, y=0.0, z=0.7071067811865475)⟩"
     ]
    },
    {
     "data": {
      "image/png": "[encoded data removed]",
      "text/plain": [
       "480×640 Array{RGBA{Float64},2} with eltype ColorTypes.RGBA{Float64}:\n",
       " RGBA{Float64}(1.0,1.0,1.0,1.0)  …  RGBA{Float64}(1.0,1.0,1.0,1.0)\n",
       " RGBA{Float64}(1.0,1.0,1.0,1.0)     RGBA{Float64}(1.0,1.0,1.0,1.0)\n",
       " RGBA{Float64}(1.0,1.0,1.0,1.0)     RGBA{Float64}(1.0,1.0,1.0,1.0)\n",
       " RGBA{Float64}(1.0,1.0,1.0,1.0)     RGBA{Float64}(1.0,1.0,1.0,1.0)\n",
       " RGBA{Float64}(1.0,1.0,1.0,1.0)     RGBA{Float64}(1.0,1.0,1.0,1.0)\n",
       " RGBA{Float64}(1.0,1.0,1.0,1.0)  …  RGBA{Float64}(1.0,1.0,1.0,1.0)\n",
       " RGBA{Float64}(1.0,1.0,1.0,1.0)     RGBA{Float64}(1.0,1.0,1.0,1.0)\n",
       " RGBA{Float64}(1.0,1.0,1.0,1.0)     RGBA{Float64}(1.0,1.0,1.0,1.0)\n",
       " RGBA{Float64}(1.0,1.0,1.0,1.0)     RGBA{Float64}(1.0,1.0,1.0,1.0)\n",
       " RGBA{Float64}(1.0,1.0,1.0,1.0)     RGBA{Float64}(1.0,1.0,1.0,1.0)\n",
       " RGBA{Float64}(1.0,1.0,1.0,1.0)  …  RGBA{Float64}(1.0,1.0,1.0,1.0)\n",
       " RGBA{Float64}(1.0,1.0,1.0,1.0)     RGBA{Float64}(1.0,1.0,1.0,1.0)\n",
       " RGBA{Float64}(1.0,1.0,1.0,1.0)     RGBA{Float64}(1.0,1.0,1.0,1.0)\n",
       " ⋮                               ⋱  \n",
       " RGBA{Float64}(1.0,1.0,1.0,1.0)     RGBA{Float64}(1.0,1.0,1.0,1.0)\n",
       " RGBA{Float64}(1.0,1.0,1.0,1.0)     RGBA{Float64}(1.0,1.0,1.0,1.0)\n",
       " RGBA{Float64}(1.0,1.0,1.0,1.0)  …  RGBA{Float64}(1.0,1.0,1.0,1.0)\n",
       " RGBA{Float64}(1.0,1.0,1.0,1.0)     RGBA{Float64}(1.0,1.0,1.0,1.0)\n",
       " RGBA{Float64}(1.0,1.0,1.0,1.0)     RGBA{Float64}(1.0,1.0,1.0,1.0)\n",
       " RGBA{Float64}(1.0,1.0,1.0,1.0)     RGBA{Float64}(1.0,1.0,1.0,1.0)\n",
       " RGBA{Float64}(1.0,1.0,1.0,1.0)     RGBA{Float64}(1.0,1.0,1.0,1.0)\n",
       " RGBA{Float64}(1.0,1.0,1.0,1.0)  …  RGBA{Float64}(1.0,1.0,1.0,1.0)\n",
       " RGBA{Float64}(1.0,1.0,1.0,1.0)     RGBA{Float64}(1.0,1.0,1.0,1.0)\n",
       " RGBA{Float64}(1.0,1.0,1.0,1.0)     RGBA{Float64}(1.0,1.0,1.0,1.0)\n",
       " RGBA{Float64}(1.0,1.0,1.0,1.0)     RGBA{Float64}(1.0,1.0,1.0,1.0)\n",
       " RGBA{Float64}(1.0,1.0,1.0,1.0)     RGBA{Float64}(1.0,1.0,1.0,1.0)"
      ]
     },
     "metadata": {},
     "output_type": "display_data"
    },
    {
     "name": "stdout",
     "output_type": "stream",
     "text": [
      "Pose⟨pos=[0.0, 0.0, 5.0], orientation=(w=0.6692240319403541, x=0.0, y=-0.07137187461300806, z=0.7396250743368028)⟩"
     ]
    },
    {
     "data": {
      "image/png": "[encoded data removed]",
      "text/plain": [
       "480×640 Array{RGBA{Float64},2} with eltype ColorTypes.RGBA{Float64}:\n",
       " RGBA{Float64}(1.0,1.0,1.0,1.0)  …  RGBA{Float64}(1.0,1.0,1.0,1.0)\n",
       " RGBA{Float64}(1.0,1.0,1.0,1.0)     RGBA{Float64}(1.0,1.0,1.0,1.0)\n",
       " RGBA{Float64}(1.0,1.0,1.0,1.0)     RGBA{Float64}(1.0,1.0,1.0,1.0)\n",
       " RGBA{Float64}(1.0,1.0,1.0,1.0)     RGBA{Float64}(1.0,1.0,1.0,1.0)\n",
       " RGBA{Float64}(1.0,1.0,1.0,1.0)     RGBA{Float64}(1.0,1.0,1.0,1.0)\n",
       " RGBA{Float64}(1.0,1.0,1.0,1.0)  …  RGBA{Float64}(1.0,1.0,1.0,1.0)\n",
       " RGBA{Float64}(1.0,1.0,1.0,1.0)     RGBA{Float64}(1.0,1.0,1.0,1.0)\n",
       " RGBA{Float64}(1.0,1.0,1.0,1.0)     RGBA{Float64}(1.0,1.0,1.0,1.0)\n",
       " RGBA{Float64}(1.0,1.0,1.0,1.0)     RGBA{Float64}(1.0,1.0,1.0,1.0)\n",
       " RGBA{Float64}(1.0,1.0,1.0,1.0)     RGBA{Float64}(1.0,1.0,1.0,1.0)\n",
       " RGBA{Float64}(1.0,1.0,1.0,1.0)  …  RGBA{Float64}(1.0,1.0,1.0,1.0)\n",
       " RGBA{Float64}(1.0,1.0,1.0,1.0)     RGBA{Float64}(1.0,1.0,1.0,1.0)\n",
       " RGBA{Float64}(1.0,1.0,1.0,1.0)     RGBA{Float64}(1.0,1.0,1.0,1.0)\n",
       " ⋮                               ⋱  \n",
       " RGBA{Float64}(1.0,1.0,1.0,1.0)     RGBA{Float64}(1.0,1.0,1.0,1.0)\n",
       " RGBA{Float64}(1.0,1.0,1.0,1.0)     RGBA{Float64}(1.0,1.0,1.0,1.0)\n",
       " RGBA{Float64}(1.0,1.0,1.0,1.0)  …  RGBA{Float64}(1.0,1.0,1.0,1.0)\n",
       " RGBA{Float64}(1.0,1.0,1.0,1.0)     RGBA{Float64}(1.0,1.0,1.0,1.0)\n",
       " RGBA{Float64}(1.0,1.0,1.0,1.0)     RGBA{Float64}(1.0,1.0,1.0,1.0)\n",
       " RGBA{Float64}(1.0,1.0,1.0,1.0)     RGBA{Float64}(1.0,1.0,1.0,1.0)\n",
       " RGBA{Float64}(1.0,1.0,1.0,1.0)     RGBA{Float64}(1.0,1.0,1.0,1.0)\n",
       " RGBA{Float64}(1.0,1.0,1.0,1.0)  …  RGBA{Float64}(1.0,1.0,1.0,1.0)\n",
       " RGBA{Float64}(1.0,1.0,1.0,1.0)     RGBA{Float64}(1.0,1.0,1.0,1.0)\n",
       " RGBA{Float64}(1.0,1.0,1.0,1.0)     RGBA{Float64}(1.0,1.0,1.0,1.0)\n",
       " RGBA{Float64}(1.0,1.0,1.0,1.0)     RGBA{Float64}(1.0,1.0,1.0,1.0)\n",
       " RGBA{Float64}(1.0,1.0,1.0,1.0)     RGBA{Float64}(1.0,1.0,1.0,1.0)"
      ]
     },
     "metadata": {},
     "output_type": "display_data"
    },
    {
     "name": "stdout",
     "output_type": "stream",
     "text": [
      "Pose⟨pos=[0.0, 0.0, 5.0], orientation=(w=0.7132463510020844, x=0.0, y=0.13931227630781293, z=0.6869292048327448)⟩"
     ]
    },
    {
     "data": {
      "image/png": "[encoded data removed]",
      "text/plain": [
       "480×640 Array{RGBA{Float64},2} with eltype ColorTypes.RGBA{Float64}:\n",
       " RGBA{Float64}(1.0,1.0,1.0,1.0)  …  RGBA{Float64}(1.0,1.0,1.0,1.0)\n",
       " RGBA{Float64}(1.0,1.0,1.0,1.0)     RGBA{Float64}(1.0,1.0,1.0,1.0)\n",
       " RGBA{Float64}(1.0,1.0,1.0,1.0)     RGBA{Float64}(1.0,1.0,1.0,1.0)\n",
       " RGBA{Float64}(1.0,1.0,1.0,1.0)     RGBA{Float64}(1.0,1.0,1.0,1.0)\n",
       " RGBA{Float64}(1.0,1.0,1.0,1.0)     RGBA{Float64}(1.0,1.0,1.0,1.0)\n",
       " RGBA{Float64}(1.0,1.0,1.0,1.0)  …  RGBA{Float64}(1.0,1.0,1.0,1.0)\n",
       " RGBA{Float64}(1.0,1.0,1.0,1.0)     RGBA{Float64}(1.0,1.0,1.0,1.0)\n",
       " RGBA{Float64}(1.0,1.0,1.0,1.0)     RGBA{Float64}(1.0,1.0,1.0,1.0)\n",
       " RGBA{Float64}(1.0,1.0,1.0,1.0)     RGBA{Float64}(1.0,1.0,1.0,1.0)\n",
       " RGBA{Float64}(1.0,1.0,1.0,1.0)     RGBA{Float64}(1.0,1.0,1.0,1.0)\n",
       " RGBA{Float64}(1.0,1.0,1.0,1.0)  …  RGBA{Float64}(1.0,1.0,1.0,1.0)\n",
       " RGBA{Float64}(1.0,1.0,1.0,1.0)     RGBA{Float64}(1.0,1.0,1.0,1.0)\n",
       " RGBA{Float64}(1.0,1.0,1.0,1.0)     RGBA{Float64}(1.0,1.0,1.0,1.0)\n",
       " ⋮                               ⋱  \n",
       " RGBA{Float64}(1.0,1.0,1.0,1.0)     RGBA{Float64}(1.0,1.0,1.0,1.0)\n",
       " RGBA{Float64}(1.0,1.0,1.0,1.0)     RGBA{Float64}(1.0,1.0,1.0,1.0)\n",
       " RGBA{Float64}(1.0,1.0,1.0,1.0)  …  RGBA{Float64}(1.0,1.0,1.0,1.0)\n",
       " RGBA{Float64}(1.0,1.0,1.0,1.0)     RGBA{Float64}(1.0,1.0,1.0,1.0)\n",
       " RGBA{Float64}(1.0,1.0,1.0,1.0)     RGBA{Float64}(1.0,1.0,1.0,1.0)\n",
       " RGBA{Float64}(1.0,1.0,1.0,1.0)     RGBA{Float64}(1.0,1.0,1.0,1.0)\n",
       " RGBA{Float64}(1.0,1.0,1.0,1.0)     RGBA{Float64}(1.0,1.0,1.0,1.0)\n",
       " RGBA{Float64}(1.0,1.0,1.0,1.0)  …  RGBA{Float64}(1.0,1.0,1.0,1.0)\n",
       " RGBA{Float64}(1.0,1.0,1.0,1.0)     RGBA{Float64}(1.0,1.0,1.0,1.0)\n",
       " RGBA{Float64}(1.0,1.0,1.0,1.0)     RGBA{Float64}(1.0,1.0,1.0,1.0)\n",
       " RGBA{Float64}(1.0,1.0,1.0,1.0)     RGBA{Float64}(1.0,1.0,1.0,1.0)\n",
       " RGBA{Float64}(1.0,1.0,1.0,1.0)     RGBA{Float64}(1.0,1.0,1.0,1.0)"
      ]
     },
     "metadata": {},
     "output_type": "display_data"
    },
    {
     "name": "stdout",
     "output_type": "stream",
     "text": [
      "Pose⟨pos=[0.0, 0.0, 5.0], orientation=(w=0.7577202593259571, x=0.0, y=-0.12762294370665705, z=0.6399784315480106)⟩"
     ]
    },
    {
     "data": {
      "image/png": "[encoded data removed]",
      "text/plain": [
       "480×640 Array{RGBA{Float64},2} with eltype ColorTypes.RGBA{Float64}:\n",
       " RGBA{Float64}(1.0,1.0,1.0,1.0)  …  RGBA{Float64}(1.0,1.0,1.0,1.0)\n",
       " RGBA{Float64}(1.0,1.0,1.0,1.0)     RGBA{Float64}(1.0,1.0,1.0,1.0)\n",
       " RGBA{Float64}(1.0,1.0,1.0,1.0)     RGBA{Float64}(1.0,1.0,1.0,1.0)\n",
       " RGBA{Float64}(1.0,1.0,1.0,1.0)     RGBA{Float64}(1.0,1.0,1.0,1.0)\n",
       " RGBA{Float64}(1.0,1.0,1.0,1.0)     RGBA{Float64}(1.0,1.0,1.0,1.0)\n",
       " RGBA{Float64}(1.0,1.0,1.0,1.0)  …  RGBA{Float64}(1.0,1.0,1.0,1.0)\n",
       " RGBA{Float64}(1.0,1.0,1.0,1.0)     RGBA{Float64}(1.0,1.0,1.0,1.0)\n",
       " RGBA{Float64}(1.0,1.0,1.0,1.0)     RGBA{Float64}(1.0,1.0,1.0,1.0)\n",
       " RGBA{Float64}(1.0,1.0,1.0,1.0)     RGBA{Float64}(1.0,1.0,1.0,1.0)\n",
       " RGBA{Float64}(1.0,1.0,1.0,1.0)     RGBA{Float64}(1.0,1.0,1.0,1.0)\n",
       " RGBA{Float64}(1.0,1.0,1.0,1.0)  …  RGBA{Float64}(1.0,1.0,1.0,1.0)\n",
       " RGBA{Float64}(1.0,1.0,1.0,1.0)     RGBA{Float64}(1.0,1.0,1.0,1.0)\n",
       " RGBA{Float64}(1.0,1.0,1.0,1.0)     RGBA{Float64}(1.0,1.0,1.0,1.0)\n",
       " ⋮                               ⋱  \n",
       " RGBA{Float64}(1.0,1.0,1.0,1.0)     RGBA{Float64}(1.0,1.0,1.0,1.0)\n",
       " RGBA{Float64}(1.0,1.0,1.0,1.0)     RGBA{Float64}(1.0,1.0,1.0,1.0)\n",
       " RGBA{Float64}(1.0,1.0,1.0,1.0)  …  RGBA{Float64}(1.0,1.0,1.0,1.0)\n",
       " RGBA{Float64}(1.0,1.0,1.0,1.0)     RGBA{Float64}(1.0,1.0,1.0,1.0)\n",
       " RGBA{Float64}(1.0,1.0,1.0,1.0)     RGBA{Float64}(1.0,1.0,1.0,1.0)\n",
       " RGBA{Float64}(1.0,1.0,1.0,1.0)     RGBA{Float64}(1.0,1.0,1.0,1.0)\n",
       " RGBA{Float64}(1.0,1.0,1.0,1.0)     RGBA{Float64}(1.0,1.0,1.0,1.0)\n",
       " RGBA{Float64}(1.0,1.0,1.0,1.0)  …  RGBA{Float64}(1.0,1.0,1.0,1.0)\n",
       " RGBA{Float64}(1.0,1.0,1.0,1.0)     RGBA{Float64}(1.0,1.0,1.0,1.0)\n",
       " RGBA{Float64}(1.0,1.0,1.0,1.0)     RGBA{Float64}(1.0,1.0,1.0,1.0)\n",
       " RGBA{Float64}(1.0,1.0,1.0,1.0)     RGBA{Float64}(1.0,1.0,1.0,1.0)\n",
       " RGBA{Float64}(1.0,1.0,1.0,1.0)     RGBA{Float64}(1.0,1.0,1.0,1.0)"
      ]
     },
     "metadata": {},
     "output_type": "display_data"
    },
    {
     "name": "stdout",
     "output_type": "stream",
     "text": [
      "Pose⟨pos=[0.0, 0.0, 5.0], orientation=(w=0.6014991699281986, x=0.0, y=0.04064080874864923, z=0.7978390020799583)⟩"
     ]
    },
    {
     "data": {
      "image/png": "[encoded data removed]",
      "text/plain": [
       "480×640 Array{RGBA{Float64},2} with eltype ColorTypes.RGBA{Float64}:\n",
       " RGBA{Float64}(1.0,1.0,1.0,1.0)  …  RGBA{Float64}(1.0,1.0,1.0,1.0)\n",
       " RGBA{Float64}(1.0,1.0,1.0,1.0)     RGBA{Float64}(1.0,1.0,1.0,1.0)\n",
       " RGBA{Float64}(1.0,1.0,1.0,1.0)     RGBA{Float64}(1.0,1.0,1.0,1.0)\n",
       " RGBA{Float64}(1.0,1.0,1.0,1.0)     RGBA{Float64}(1.0,1.0,1.0,1.0)\n",
       " RGBA{Float64}(1.0,1.0,1.0,1.0)     RGBA{Float64}(1.0,1.0,1.0,1.0)\n",
       " RGBA{Float64}(1.0,1.0,1.0,1.0)  …  RGBA{Float64}(1.0,1.0,1.0,1.0)\n",
       " RGBA{Float64}(1.0,1.0,1.0,1.0)     RGBA{Float64}(1.0,1.0,1.0,1.0)\n",
       " RGBA{Float64}(1.0,1.0,1.0,1.0)     RGBA{Float64}(1.0,1.0,1.0,1.0)\n",
       " RGBA{Float64}(1.0,1.0,1.0,1.0)     RGBA{Float64}(1.0,1.0,1.0,1.0)\n",
       " RGBA{Float64}(1.0,1.0,1.0,1.0)     RGBA{Float64}(1.0,1.0,1.0,1.0)\n",
       " RGBA{Float64}(1.0,1.0,1.0,1.0)  …  RGBA{Float64}(1.0,1.0,1.0,1.0)\n",
       " RGBA{Float64}(1.0,1.0,1.0,1.0)     RGBA{Float64}(1.0,1.0,1.0,1.0)\n",
       " RGBA{Float64}(1.0,1.0,1.0,1.0)     RGBA{Float64}(1.0,1.0,1.0,1.0)\n",
       " ⋮                               ⋱  \n",
       " RGBA{Float64}(1.0,1.0,1.0,1.0)     RGBA{Float64}(1.0,1.0,1.0,1.0)\n",
       " RGBA{Float64}(1.0,1.0,1.0,1.0)     RGBA{Float64}(1.0,1.0,1.0,1.0)\n",
       " RGBA{Float64}(1.0,1.0,1.0,1.0)  …  RGBA{Float64}(1.0,1.0,1.0,1.0)\n",
       " RGBA{Float64}(1.0,1.0,1.0,1.0)     RGBA{Float64}(1.0,1.0,1.0,1.0)\n",
       " RGBA{Float64}(1.0,1.0,1.0,1.0)     RGBA{Float64}(1.0,1.0,1.0,1.0)\n",
       " RGBA{Float64}(1.0,1.0,1.0,1.0)     RGBA{Float64}(1.0,1.0,1.0,1.0)\n",
       " RGBA{Float64}(1.0,1.0,1.0,1.0)     RGBA{Float64}(1.0,1.0,1.0,1.0)\n",
       " RGBA{Float64}(1.0,1.0,1.0,1.0)  …  RGBA{Float64}(1.0,1.0,1.0,1.0)\n",
       " RGBA{Float64}(1.0,1.0,1.0,1.0)     RGBA{Float64}(1.0,1.0,1.0,1.0)\n",
       " RGBA{Float64}(1.0,1.0,1.0,1.0)     RGBA{Float64}(1.0,1.0,1.0,1.0)\n",
       " RGBA{Float64}(1.0,1.0,1.0,1.0)     RGBA{Float64}(1.0,1.0,1.0,1.0)\n",
       " RGBA{Float64}(1.0,1.0,1.0,1.0)     RGBA{Float64}(1.0,1.0,1.0,1.0)"
      ]
     },
     "metadata": {},
     "output_type": "display_data"
    },
    {
     "name": "stdout",
     "output_type": "stream",
     "text": [
      "Pose⟨pos=[0.0, 0.0, 5.0], orientation=(w=0.7950178068113878, x=0.0, y=0.10565990827729538, z=0.5973128749957132)⟩"
     ]
    },
    {
     "data": {
      "image/png": "[encoded data removed]",
      "text/plain": [
       "480×640 Array{RGBA{Float64},2} with eltype ColorTypes.RGBA{Float64}:\n",
       " RGBA{Float64}(1.0,1.0,1.0,1.0)  …  RGBA{Float64}(1.0,1.0,1.0,1.0)\n",
       " RGBA{Float64}(1.0,1.0,1.0,1.0)     RGBA{Float64}(1.0,1.0,1.0,1.0)\n",
       " RGBA{Float64}(1.0,1.0,1.0,1.0)     RGBA{Float64}(1.0,1.0,1.0,1.0)\n",
       " RGBA{Float64}(1.0,1.0,1.0,1.0)     RGBA{Float64}(1.0,1.0,1.0,1.0)\n",
       " RGBA{Float64}(1.0,1.0,1.0,1.0)     RGBA{Float64}(1.0,1.0,1.0,1.0)\n",
       " RGBA{Float64}(1.0,1.0,1.0,1.0)  …  RGBA{Float64}(1.0,1.0,1.0,1.0)\n",
       " RGBA{Float64}(1.0,1.0,1.0,1.0)     RGBA{Float64}(1.0,1.0,1.0,1.0)\n",
       " RGBA{Float64}(1.0,1.0,1.0,1.0)     RGBA{Float64}(1.0,1.0,1.0,1.0)\n",
       " RGBA{Float64}(1.0,1.0,1.0,1.0)     RGBA{Float64}(1.0,1.0,1.0,1.0)\n",
       " RGBA{Float64}(1.0,1.0,1.0,1.0)     RGBA{Float64}(1.0,1.0,1.0,1.0)\n",
       " RGBA{Float64}(1.0,1.0,1.0,1.0)  …  RGBA{Float64}(1.0,1.0,1.0,1.0)\n",
       " RGBA{Float64}(1.0,1.0,1.0,1.0)     RGBA{Float64}(1.0,1.0,1.0,1.0)\n",
       " RGBA{Float64}(1.0,1.0,1.0,1.0)     RGBA{Float64}(1.0,1.0,1.0,1.0)\n",
       " ⋮                               ⋱  \n",
       " RGBA{Float64}(1.0,1.0,1.0,1.0)     RGBA{Float64}(1.0,1.0,1.0,1.0)\n",
       " RGBA{Float64}(1.0,1.0,1.0,1.0)     RGBA{Float64}(1.0,1.0,1.0,1.0)\n",
       " RGBA{Float64}(1.0,1.0,1.0,1.0)  …  RGBA{Float64}(1.0,1.0,1.0,1.0)\n",
       " RGBA{Float64}(1.0,1.0,1.0,1.0)     RGBA{Float64}(1.0,1.0,1.0,1.0)\n",
       " RGBA{Float64}(1.0,1.0,1.0,1.0)     RGBA{Float64}(1.0,1.0,1.0,1.0)\n",
       " RGBA{Float64}(1.0,1.0,1.0,1.0)     RGBA{Float64}(1.0,1.0,1.0,1.0)\n",
       " RGBA{Float64}(1.0,1.0,1.0,1.0)     RGBA{Float64}(1.0,1.0,1.0,1.0)\n",
       " RGBA{Float64}(1.0,1.0,1.0,1.0)  …  RGBA{Float64}(1.0,1.0,1.0,1.0)\n",
       " RGBA{Float64}(1.0,1.0,1.0,1.0)     RGBA{Float64}(1.0,1.0,1.0,1.0)\n",
       " RGBA{Float64}(1.0,1.0,1.0,1.0)     RGBA{Float64}(1.0,1.0,1.0,1.0)\n",
       " RGBA{Float64}(1.0,1.0,1.0,1.0)     RGBA{Float64}(1.0,1.0,1.0,1.0)\n",
       " RGBA{Float64}(1.0,1.0,1.0,1.0)     RGBA{Float64}(1.0,1.0,1.0,1.0)"
      ]
     },
     "metadata": {},
     "output_type": "display_data"
    },
    {
     "name": "stdout",
     "output_type": "stream",
     "text": [
      "Pose⟨pos=[0.0, 0.0, 5.0], orientation=(w=0.674986772668764, x=0.0, y=-0.24465548208012514, z=0.6960865979246748)⟩"
     ]
    },
    {
     "data": {
      "image/png": "[encoded data removed]",
      "text/plain": [
       "480×640 Array{RGBA{Float64},2} with eltype ColorTypes.RGBA{Float64}:\n",
       " RGBA{Float64}(1.0,1.0,1.0,1.0)  …  RGBA{Float64}(1.0,1.0,1.0,1.0)\n",
       " RGBA{Float64}(1.0,1.0,1.0,1.0)     RGBA{Float64}(1.0,1.0,1.0,1.0)\n",
       " RGBA{Float64}(1.0,1.0,1.0,1.0)     RGBA{Float64}(1.0,1.0,1.0,1.0)\n",
       " RGBA{Float64}(1.0,1.0,1.0,1.0)     RGBA{Float64}(1.0,1.0,1.0,1.0)\n",
       " RGBA{Float64}(1.0,1.0,1.0,1.0)     RGBA{Float64}(1.0,1.0,1.0,1.0)\n",
       " RGBA{Float64}(1.0,1.0,1.0,1.0)  …  RGBA{Float64}(1.0,1.0,1.0,1.0)\n",
       " RGBA{Float64}(1.0,1.0,1.0,1.0)     RGBA{Float64}(1.0,1.0,1.0,1.0)\n",
       " RGBA{Float64}(1.0,1.0,1.0,1.0)     RGBA{Float64}(1.0,1.0,1.0,1.0)\n",
       " RGBA{Float64}(1.0,1.0,1.0,1.0)     RGBA{Float64}(1.0,1.0,1.0,1.0)\n",
       " RGBA{Float64}(1.0,1.0,1.0,1.0)     RGBA{Float64}(1.0,1.0,1.0,1.0)\n",
       " RGBA{Float64}(1.0,1.0,1.0,1.0)  …  RGBA{Float64}(1.0,1.0,1.0,1.0)\n",
       " RGBA{Float64}(1.0,1.0,1.0,1.0)     RGBA{Float64}(1.0,1.0,1.0,1.0)\n",
       " RGBA{Float64}(1.0,1.0,1.0,1.0)     RGBA{Float64}(1.0,1.0,1.0,1.0)\n",
       " ⋮                               ⋱  \n",
       " RGBA{Float64}(1.0,1.0,1.0,1.0)     RGBA{Float64}(1.0,1.0,1.0,1.0)\n",
       " RGBA{Float64}(1.0,1.0,1.0,1.0)     RGBA{Float64}(1.0,1.0,1.0,1.0)\n",
       " RGBA{Float64}(1.0,1.0,1.0,1.0)  …  RGBA{Float64}(1.0,1.0,1.0,1.0)\n",
       " RGBA{Float64}(1.0,1.0,1.0,1.0)     RGBA{Float64}(1.0,1.0,1.0,1.0)\n",
       " RGBA{Float64}(1.0,1.0,1.0,1.0)     RGBA{Float64}(1.0,1.0,1.0,1.0)\n",
       " RGBA{Float64}(1.0,1.0,1.0,1.0)     RGBA{Float64}(1.0,1.0,1.0,1.0)\n",
       " RGBA{Float64}(1.0,1.0,1.0,1.0)     RGBA{Float64}(1.0,1.0,1.0,1.0)\n",
       " RGBA{Float64}(1.0,1.0,1.0,1.0)  …  RGBA{Float64}(1.0,1.0,1.0,1.0)\n",
       " RGBA{Float64}(1.0,1.0,1.0,1.0)     RGBA{Float64}(1.0,1.0,1.0,1.0)\n",
       " RGBA{Float64}(1.0,1.0,1.0,1.0)     RGBA{Float64}(1.0,1.0,1.0,1.0)\n",
       " RGBA{Float64}(1.0,1.0,1.0,1.0)     RGBA{Float64}(1.0,1.0,1.0,1.0)\n",
       " RGBA{Float64}(1.0,1.0,1.0,1.0)     RGBA{Float64}(1.0,1.0,1.0,1.0)"
      ]
     },
     "metadata": {},
     "output_type": "display_data"
    },
    {
     "name": "stdout",
     "output_type": "stream",
     "text": [
      "Pose⟨pos=[0.0, 0.0, 5.0], orientation=(w=0.6442746276361055, x=0.0, y=0.25375736407866273, z=0.7214689212711844)⟩"
     ]
    },
    {
     "data": {
      "image/png": "[encoded data removed]",
      "text/plain": [
       "480×640 Array{RGBA{Float64},2} with eltype ColorTypes.RGBA{Float64}:\n",
       " RGBA{Float64}(1.0,1.0,1.0,1.0)  …  RGBA{Float64}(1.0,1.0,1.0,1.0)\n",
       " RGBA{Float64}(1.0,1.0,1.0,1.0)     RGBA{Float64}(1.0,1.0,1.0,1.0)\n",
       " RGBA{Float64}(1.0,1.0,1.0,1.0)     RGBA{Float64}(1.0,1.0,1.0,1.0)\n",
       " RGBA{Float64}(1.0,1.0,1.0,1.0)     RGBA{Float64}(1.0,1.0,1.0,1.0)\n",
       " RGBA{Float64}(1.0,1.0,1.0,1.0)     RGBA{Float64}(1.0,1.0,1.0,1.0)\n",
       " RGBA{Float64}(1.0,1.0,1.0,1.0)  …  RGBA{Float64}(1.0,1.0,1.0,1.0)\n",
       " RGBA{Float64}(1.0,1.0,1.0,1.0)     RGBA{Float64}(1.0,1.0,1.0,1.0)\n",
       " RGBA{Float64}(1.0,1.0,1.0,1.0)     RGBA{Float64}(1.0,1.0,1.0,1.0)\n",
       " RGBA{Float64}(1.0,1.0,1.0,1.0)     RGBA{Float64}(1.0,1.0,1.0,1.0)\n",
       " RGBA{Float64}(1.0,1.0,1.0,1.0)     RGBA{Float64}(1.0,1.0,1.0,1.0)\n",
       " RGBA{Float64}(1.0,1.0,1.0,1.0)  …  RGBA{Float64}(1.0,1.0,1.0,1.0)\n",
       " RGBA{Float64}(1.0,1.0,1.0,1.0)     RGBA{Float64}(1.0,1.0,1.0,1.0)\n",
       " RGBA{Float64}(1.0,1.0,1.0,1.0)     RGBA{Float64}(1.0,1.0,1.0,1.0)\n",
       " ⋮                               ⋱  \n",
       " RGBA{Float64}(1.0,1.0,1.0,1.0)     RGBA{Float64}(1.0,1.0,1.0,1.0)\n",
       " RGBA{Float64}(1.0,1.0,1.0,1.0)     RGBA{Float64}(1.0,1.0,1.0,1.0)\n",
       " RGBA{Float64}(1.0,1.0,1.0,1.0)  …  RGBA{Float64}(1.0,1.0,1.0,1.0)\n",
       " RGBA{Float64}(1.0,1.0,1.0,1.0)     RGBA{Float64}(1.0,1.0,1.0,1.0)\n",
       " RGBA{Float64}(1.0,1.0,1.0,1.0)     RGBA{Float64}(1.0,1.0,1.0,1.0)\n",
       " RGBA{Float64}(1.0,1.0,1.0,1.0)     RGBA{Float64}(1.0,1.0,1.0,1.0)\n",
       " RGBA{Float64}(1.0,1.0,1.0,1.0)     RGBA{Float64}(1.0,1.0,1.0,1.0)\n",
       " RGBA{Float64}(1.0,1.0,1.0,1.0)  …  RGBA{Float64}(1.0,1.0,1.0,1.0)\n",
       " RGBA{Float64}(1.0,1.0,1.0,1.0)     RGBA{Float64}(1.0,1.0,1.0,1.0)\n",
       " RGBA{Float64}(1.0,1.0,1.0,1.0)     RGBA{Float64}(1.0,1.0,1.0,1.0)\n",
       " RGBA{Float64}(1.0,1.0,1.0,1.0)     RGBA{Float64}(1.0,1.0,1.0,1.0)\n",
       " RGBA{Float64}(1.0,1.0,1.0,1.0)     RGBA{Float64}(1.0,1.0,1.0,1.0)"
      ]
     },
     "metadata": {},
     "output_type": "display_data"
    },
    {
     "name": "stdout",
     "output_type": "stream",
     "text": [
      "Pose⟨pos=[0.0, 0.0, 5.0], orientation=(w=0.8273519295611297, x=0.0, y=-0.08144442226678245, z=0.5557477761836799)⟩"
     ]
    },
    {
     "data": {
      "image/png": "[encoded data removed]",
      "text/plain": [
       "480×640 Array{RGBA{Float64},2} with eltype ColorTypes.RGBA{Float64}:\n",
       " RGBA{Float64}(1.0,1.0,1.0,1.0)  …  RGBA{Float64}(1.0,1.0,1.0,1.0)\n",
       " RGBA{Float64}(1.0,1.0,1.0,1.0)     RGBA{Float64}(1.0,1.0,1.0,1.0)\n",
       " RGBA{Float64}(1.0,1.0,1.0,1.0)     RGBA{Float64}(1.0,1.0,1.0,1.0)\n",
       " RGBA{Float64}(1.0,1.0,1.0,1.0)     RGBA{Float64}(1.0,1.0,1.0,1.0)\n",
       " RGBA{Float64}(1.0,1.0,1.0,1.0)     RGBA{Float64}(1.0,1.0,1.0,1.0)\n",
       " RGBA{Float64}(1.0,1.0,1.0,1.0)  …  RGBA{Float64}(1.0,1.0,1.0,1.0)\n",
       " RGBA{Float64}(1.0,1.0,1.0,1.0)     RGBA{Float64}(1.0,1.0,1.0,1.0)\n",
       " RGBA{Float64}(1.0,1.0,1.0,1.0)     RGBA{Float64}(1.0,1.0,1.0,1.0)\n",
       " RGBA{Float64}(1.0,1.0,1.0,1.0)     RGBA{Float64}(1.0,1.0,1.0,1.0)\n",
       " RGBA{Float64}(1.0,1.0,1.0,1.0)     RGBA{Float64}(1.0,1.0,1.0,1.0)\n",
       " RGBA{Float64}(1.0,1.0,1.0,1.0)  …  RGBA{Float64}(1.0,1.0,1.0,1.0)\n",
       " RGBA{Float64}(1.0,1.0,1.0,1.0)     RGBA{Float64}(1.0,1.0,1.0,1.0)\n",
       " RGBA{Float64}(1.0,1.0,1.0,1.0)     RGBA{Float64}(1.0,1.0,1.0,1.0)\n",
       " ⋮                               ⋱  \n",
       " RGBA{Float64}(1.0,1.0,1.0,1.0)     RGBA{Float64}(1.0,1.0,1.0,1.0)\n",
       " RGBA{Float64}(1.0,1.0,1.0,1.0)     RGBA{Float64}(1.0,1.0,1.0,1.0)\n",
       " RGBA{Float64}(1.0,1.0,1.0,1.0)  …  RGBA{Float64}(1.0,1.0,1.0,1.0)\n",
       " RGBA{Float64}(1.0,1.0,1.0,1.0)     RGBA{Float64}(1.0,1.0,1.0,1.0)\n",
       " RGBA{Float64}(1.0,1.0,1.0,1.0)     RGBA{Float64}(1.0,1.0,1.0,1.0)\n",
       " RGBA{Float64}(1.0,1.0,1.0,1.0)     RGBA{Float64}(1.0,1.0,1.0,1.0)\n",
       " RGBA{Float64}(1.0,1.0,1.0,1.0)     RGBA{Float64}(1.0,1.0,1.0,1.0)\n",
       " RGBA{Float64}(1.0,1.0,1.0,1.0)  …  RGBA{Float64}(1.0,1.0,1.0,1.0)\n",
       " RGBA{Float64}(1.0,1.0,1.0,1.0)     RGBA{Float64}(1.0,1.0,1.0,1.0)\n",
       " RGBA{Float64}(1.0,1.0,1.0,1.0)     RGBA{Float64}(1.0,1.0,1.0,1.0)\n",
       " RGBA{Float64}(1.0,1.0,1.0,1.0)     RGBA{Float64}(1.0,1.0,1.0,1.0)\n",
       " RGBA{Float64}(1.0,1.0,1.0,1.0)     RGBA{Float64}(1.0,1.0,1.0,1.0)"
      ]
     },
     "metadata": {},
     "output_type": "display_data"
    },
    {
     "name": "stdout",
     "output_type": "stream",
     "text": [
      "Pose⟨pos=[0.0, 0.0, 5.0], orientation=(w=0.5549065174167958, x=0.0, y=-0.14288410055739853, z=0.8195504198865782)⟩"
     ]
    },
    {
     "data": {
      "image/png": "[encoded data removed]",
      "text/plain": [
       "480×640 Array{RGBA{Float64},2} with eltype ColorTypes.RGBA{Float64}:\n",
       " RGBA{Float64}(1.0,1.0,1.0,1.0)  …  RGBA{Float64}(1.0,1.0,1.0,1.0)\n",
       " RGBA{Float64}(1.0,1.0,1.0,1.0)     RGBA{Float64}(1.0,1.0,1.0,1.0)\n",
       " RGBA{Float64}(1.0,1.0,1.0,1.0)     RGBA{Float64}(1.0,1.0,1.0,1.0)\n",
       " RGBA{Float64}(1.0,1.0,1.0,1.0)     RGBA{Float64}(1.0,1.0,1.0,1.0)\n",
       " RGBA{Float64}(1.0,1.0,1.0,1.0)     RGBA{Float64}(1.0,1.0,1.0,1.0)\n",
       " RGBA{Float64}(1.0,1.0,1.0,1.0)  …  RGBA{Float64}(1.0,1.0,1.0,1.0)\n",
       " RGBA{Float64}(1.0,1.0,1.0,1.0)     RGBA{Float64}(1.0,1.0,1.0,1.0)\n",
       " RGBA{Float64}(1.0,1.0,1.0,1.0)     RGBA{Float64}(1.0,1.0,1.0,1.0)\n",
       " RGBA{Float64}(1.0,1.0,1.0,1.0)     RGBA{Float64}(1.0,1.0,1.0,1.0)\n",
       " RGBA{Float64}(1.0,1.0,1.0,1.0)     RGBA{Float64}(1.0,1.0,1.0,1.0)\n",
       " RGBA{Float64}(1.0,1.0,1.0,1.0)  …  RGBA{Float64}(1.0,1.0,1.0,1.0)\n",
       " RGBA{Float64}(1.0,1.0,1.0,1.0)     RGBA{Float64}(1.0,1.0,1.0,1.0)\n",
       " RGBA{Float64}(1.0,1.0,1.0,1.0)     RGBA{Float64}(1.0,1.0,1.0,1.0)\n",
       " ⋮                               ⋱  \n",
       " RGBA{Float64}(1.0,1.0,1.0,1.0)     RGBA{Float64}(1.0,1.0,1.0,1.0)\n",
       " RGBA{Float64}(1.0,1.0,1.0,1.0)     RGBA{Float64}(1.0,1.0,1.0,1.0)\n",
       " RGBA{Float64}(1.0,1.0,1.0,1.0)  …  RGBA{Float64}(1.0,1.0,1.0,1.0)\n",
       " RGBA{Float64}(1.0,1.0,1.0,1.0)     RGBA{Float64}(1.0,1.0,1.0,1.0)\n",
       " RGBA{Float64}(1.0,1.0,1.0,1.0)     RGBA{Float64}(1.0,1.0,1.0,1.0)\n",
       " RGBA{Float64}(1.0,1.0,1.0,1.0)     RGBA{Float64}(1.0,1.0,1.0,1.0)\n",
       " RGBA{Float64}(1.0,1.0,1.0,1.0)     RGBA{Float64}(1.0,1.0,1.0,1.0)\n",
       " RGBA{Float64}(1.0,1.0,1.0,1.0)  …  RGBA{Float64}(1.0,1.0,1.0,1.0)\n",
       " RGBA{Float64}(1.0,1.0,1.0,1.0)     RGBA{Float64}(1.0,1.0,1.0,1.0)\n",
       " RGBA{Float64}(1.0,1.0,1.0,1.0)     RGBA{Float64}(1.0,1.0,1.0,1.0)\n",
       " RGBA{Float64}(1.0,1.0,1.0,1.0)     RGBA{Float64}(1.0,1.0,1.0,1.0)\n",
       " RGBA{Float64}(1.0,1.0,1.0,1.0)     RGBA{Float64}(1.0,1.0,1.0,1.0)"
      ]
     },
     "metadata": {},
     "output_type": "display_data"
    },
    {
     "name": "stdout",
     "output_type": "stream",
     "text": [
      "Pose⟨pos=[0.0, 0.0, 5.0], orientation=(w=0.7698016973319283, x=0.0, y=0.2570394379447899, z=0.584239740282967)⟩"
     ]
    },
    {
     "data": {
      "image/png": "[encoded data removed]",
      "text/plain": [
       "480×640 Array{RGBA{Float64},2} with eltype ColorTypes.RGBA{Float64}:\n",
       " RGBA{Float64}(1.0,1.0,1.0,1.0)  …  RGBA{Float64}(1.0,1.0,1.0,1.0)\n",
       " RGBA{Float64}(1.0,1.0,1.0,1.0)     RGBA{Float64}(1.0,1.0,1.0,1.0)\n",
       " RGBA{Float64}(1.0,1.0,1.0,1.0)     RGBA{Float64}(1.0,1.0,1.0,1.0)\n",
       " RGBA{Float64}(1.0,1.0,1.0,1.0)     RGBA{Float64}(1.0,1.0,1.0,1.0)\n",
       " RGBA{Float64}(1.0,1.0,1.0,1.0)     RGBA{Float64}(1.0,1.0,1.0,1.0)\n",
       " RGBA{Float64}(1.0,1.0,1.0,1.0)  …  RGBA{Float64}(1.0,1.0,1.0,1.0)\n",
       " RGBA{Float64}(1.0,1.0,1.0,1.0)     RGBA{Float64}(1.0,1.0,1.0,1.0)\n",
       " RGBA{Float64}(1.0,1.0,1.0,1.0)     RGBA{Float64}(1.0,1.0,1.0,1.0)\n",
       " RGBA{Float64}(1.0,1.0,1.0,1.0)     RGBA{Float64}(1.0,1.0,1.0,1.0)\n",
       " RGBA{Float64}(1.0,1.0,1.0,1.0)     RGBA{Float64}(1.0,1.0,1.0,1.0)\n",
       " RGBA{Float64}(1.0,1.0,1.0,1.0)  …  RGBA{Float64}(1.0,1.0,1.0,1.0)\n",
       " RGBA{Float64}(1.0,1.0,1.0,1.0)     RGBA{Float64}(1.0,1.0,1.0,1.0)\n",
       " RGBA{Float64}(1.0,1.0,1.0,1.0)     RGBA{Float64}(1.0,1.0,1.0,1.0)\n",
       " ⋮                               ⋱  \n",
       " RGBA{Float64}(1.0,1.0,1.0,1.0)     RGBA{Float64}(1.0,1.0,1.0,1.0)\n",
       " RGBA{Float64}(1.0,1.0,1.0,1.0)     RGBA{Float64}(1.0,1.0,1.0,1.0)\n",
       " RGBA{Float64}(1.0,1.0,1.0,1.0)  …  RGBA{Float64}(1.0,1.0,1.0,1.0)\n",
       " RGBA{Float64}(1.0,1.0,1.0,1.0)     RGBA{Float64}(1.0,1.0,1.0,1.0)\n",
       " RGBA{Float64}(1.0,1.0,1.0,1.0)     RGBA{Float64}(1.0,1.0,1.0,1.0)\n",
       " RGBA{Float64}(1.0,1.0,1.0,1.0)     RGBA{Float64}(1.0,1.0,1.0,1.0)\n",
       " RGBA{Float64}(1.0,1.0,1.0,1.0)     RGBA{Float64}(1.0,1.0,1.0,1.0)\n",
       " RGBA{Float64}(1.0,1.0,1.0,1.0)  …  RGBA{Float64}(1.0,1.0,1.0,1.0)\n",
       " RGBA{Float64}(1.0,1.0,1.0,1.0)     RGBA{Float64}(1.0,1.0,1.0,1.0)\n",
       " RGBA{Float64}(1.0,1.0,1.0,1.0)     RGBA{Float64}(1.0,1.0,1.0,1.0)\n",
       " RGBA{Float64}(1.0,1.0,1.0,1.0)     RGBA{Float64}(1.0,1.0,1.0,1.0)\n",
       " RGBA{Float64}(1.0,1.0,1.0,1.0)     RGBA{Float64}(1.0,1.0,1.0,1.0)"
      ]
     },
     "metadata": {},
     "output_type": "display_data"
    },
    {
     "name": "stdout",
     "output_type": "stream",
     "text": [
      "Pose⟨pos=[0.0, 0.0, 5.0], orientation=(w=0.7539177872111106, x=0.0, y=-0.28921531232231756, z=0.5898834403888678)⟩"
     ]
    },
    {
     "data": {
      "image/png": "[encoded data removed]",
      "text/plain": [
       "480×640 Array{RGBA{Float64},2} with eltype ColorTypes.RGBA{Float64}:\n",
       " RGBA{Float64}(1.0,1.0,1.0,1.0)  …  RGBA{Float64}(1.0,1.0,1.0,1.0)\n",
       " RGBA{Float64}(1.0,1.0,1.0,1.0)     RGBA{Float64}(1.0,1.0,1.0,1.0)\n",
       " RGBA{Float64}(1.0,1.0,1.0,1.0)     RGBA{Float64}(1.0,1.0,1.0,1.0)\n",
       " RGBA{Float64}(1.0,1.0,1.0,1.0)     RGBA{Float64}(1.0,1.0,1.0,1.0)\n",
       " RGBA{Float64}(1.0,1.0,1.0,1.0)     RGBA{Float64}(1.0,1.0,1.0,1.0)\n",
       " RGBA{Float64}(1.0,1.0,1.0,1.0)  …  RGBA{Float64}(1.0,1.0,1.0,1.0)\n",
       " RGBA{Float64}(1.0,1.0,1.0,1.0)     RGBA{Float64}(1.0,1.0,1.0,1.0)\n",
       " RGBA{Float64}(1.0,1.0,1.0,1.0)     RGBA{Float64}(1.0,1.0,1.0,1.0)\n",
       " RGBA{Float64}(1.0,1.0,1.0,1.0)     RGBA{Float64}(1.0,1.0,1.0,1.0)\n",
       " RGBA{Float64}(1.0,1.0,1.0,1.0)     RGBA{Float64}(1.0,1.0,1.0,1.0)\n",
       " RGBA{Float64}(1.0,1.0,1.0,1.0)  …  RGBA{Float64}(1.0,1.0,1.0,1.0)\n",
       " RGBA{Float64}(1.0,1.0,1.0,1.0)     RGBA{Float64}(1.0,1.0,1.0,1.0)\n",
       " RGBA{Float64}(1.0,1.0,1.0,1.0)     RGBA{Float64}(1.0,1.0,1.0,1.0)\n",
       " ⋮                               ⋱  \n",
       " RGBA{Float64}(1.0,1.0,1.0,1.0)     RGBA{Float64}(1.0,1.0,1.0,1.0)\n",
       " RGBA{Float64}(1.0,1.0,1.0,1.0)     RGBA{Float64}(1.0,1.0,1.0,1.0)\n",
       " RGBA{Float64}(1.0,1.0,1.0,1.0)  …  RGBA{Float64}(1.0,1.0,1.0,1.0)\n",
       " RGBA{Float64}(1.0,1.0,1.0,1.0)     RGBA{Float64}(1.0,1.0,1.0,1.0)\n",
       " RGBA{Float64}(1.0,1.0,1.0,1.0)     RGBA{Float64}(1.0,1.0,1.0,1.0)\n",
       " RGBA{Float64}(1.0,1.0,1.0,1.0)     RGBA{Float64}(1.0,1.0,1.0,1.0)\n",
       " RGBA{Float64}(1.0,1.0,1.0,1.0)     RGBA{Float64}(1.0,1.0,1.0,1.0)\n",
       " RGBA{Float64}(1.0,1.0,1.0,1.0)  …  RGBA{Float64}(1.0,1.0,1.0,1.0)\n",
       " RGBA{Float64}(1.0,1.0,1.0,1.0)     RGBA{Float64}(1.0,1.0,1.0,1.0)\n",
       " RGBA{Float64}(1.0,1.0,1.0,1.0)     RGBA{Float64}(1.0,1.0,1.0,1.0)\n",
       " RGBA{Float64}(1.0,1.0,1.0,1.0)     RGBA{Float64}(1.0,1.0,1.0,1.0)\n",
       " RGBA{Float64}(1.0,1.0,1.0,1.0)     RGBA{Float64}(1.0,1.0,1.0,1.0)"
      ]
     },
     "metadata": {},
     "output_type": "display_data"
    },
    {
     "name": "stdout",
     "output_type": "stream",
     "text": [
      "Pose⟨pos=[0.0, 0.0, 5.0], orientation=(w=0.5422556003768882, x=0.0, y=0.22011275012320675, z=0.8108694352934382)⟩"
     ]
    },
    {
     "data": {
      "image/png": "[encoded data removed]",
      "text/plain": [
       "480×640 Array{RGBA{Float64},2} with eltype ColorTypes.RGBA{Float64}:\n",
       " RGBA{Float64}(1.0,1.0,1.0,1.0)  …  RGBA{Float64}(1.0,1.0,1.0,1.0)\n",
       " RGBA{Float64}(1.0,1.0,1.0,1.0)     RGBA{Float64}(1.0,1.0,1.0,1.0)\n",
       " RGBA{Float64}(1.0,1.0,1.0,1.0)     RGBA{Float64}(1.0,1.0,1.0,1.0)\n",
       " RGBA{Float64}(1.0,1.0,1.0,1.0)     RGBA{Float64}(1.0,1.0,1.0,1.0)\n",
       " RGBA{Float64}(1.0,1.0,1.0,1.0)     RGBA{Float64}(1.0,1.0,1.0,1.0)\n",
       " RGBA{Float64}(1.0,1.0,1.0,1.0)  …  RGBA{Float64}(1.0,1.0,1.0,1.0)\n",
       " RGBA{Float64}(1.0,1.0,1.0,1.0)     RGBA{Float64}(1.0,1.0,1.0,1.0)\n",
       " RGBA{Float64}(1.0,1.0,1.0,1.0)     RGBA{Float64}(1.0,1.0,1.0,1.0)\n",
       " RGBA{Float64}(1.0,1.0,1.0,1.0)     RGBA{Float64}(1.0,1.0,1.0,1.0)\n",
       " RGBA{Float64}(1.0,1.0,1.0,1.0)     RGBA{Float64}(1.0,1.0,1.0,1.0)\n",
       " RGBA{Float64}(1.0,1.0,1.0,1.0)  …  RGBA{Float64}(1.0,1.0,1.0,1.0)\n",
       " RGBA{Float64}(1.0,1.0,1.0,1.0)     RGBA{Float64}(1.0,1.0,1.0,1.0)\n",
       " RGBA{Float64}(1.0,1.0,1.0,1.0)     RGBA{Float64}(1.0,1.0,1.0,1.0)\n",
       " ⋮                               ⋱  \n",
       " RGBA{Float64}(1.0,1.0,1.0,1.0)     RGBA{Float64}(1.0,1.0,1.0,1.0)\n",
       " RGBA{Float64}(1.0,1.0,1.0,1.0)     RGBA{Float64}(1.0,1.0,1.0,1.0)\n",
       " RGBA{Float64}(1.0,1.0,1.0,1.0)  …  RGBA{Float64}(1.0,1.0,1.0,1.0)\n",
       " RGBA{Float64}(1.0,1.0,1.0,1.0)     RGBA{Float64}(1.0,1.0,1.0,1.0)\n",
       " RGBA{Float64}(1.0,1.0,1.0,1.0)     RGBA{Float64}(1.0,1.0,1.0,1.0)\n",
       " RGBA{Float64}(1.0,1.0,1.0,1.0)     RGBA{Float64}(1.0,1.0,1.0,1.0)\n",
       " RGBA{Float64}(1.0,1.0,1.0,1.0)     RGBA{Float64}(1.0,1.0,1.0,1.0)\n",
       " RGBA{Float64}(1.0,1.0,1.0,1.0)  …  RGBA{Float64}(1.0,1.0,1.0,1.0)\n",
       " RGBA{Float64}(1.0,1.0,1.0,1.0)     RGBA{Float64}(1.0,1.0,1.0,1.0)\n",
       " RGBA{Float64}(1.0,1.0,1.0,1.0)     RGBA{Float64}(1.0,1.0,1.0,1.0)\n",
       " RGBA{Float64}(1.0,1.0,1.0,1.0)     RGBA{Float64}(1.0,1.0,1.0,1.0)\n",
       " RGBA{Float64}(1.0,1.0,1.0,1.0)     RGBA{Float64}(1.0,1.0,1.0,1.0)"
      ]
     },
     "metadata": {},
     "output_type": "display_data"
    },
    {
     "name": "stdout",
     "output_type": "stream",
     "text": [
      "Pose⟨pos=[0.0, 0.0, 5.0], orientation=(w=0.8610098004500132, x=0.0, y=0.061622359128148195, z=0.5048413695256262)⟩"
     ]
    },
    {
     "data": {
      "image/png": "[encoded data removed]",
      "text/plain": [
       "480×640 Array{RGBA{Float64},2} with eltype ColorTypes.RGBA{Float64}:\n",
       " RGBA{Float64}(1.0,1.0,1.0,1.0)  …  RGBA{Float64}(1.0,1.0,1.0,1.0)\n",
       " RGBA{Float64}(1.0,1.0,1.0,1.0)     RGBA{Float64}(1.0,1.0,1.0,1.0)\n",
       " RGBA{Float64}(1.0,1.0,1.0,1.0)     RGBA{Float64}(1.0,1.0,1.0,1.0)\n",
       " RGBA{Float64}(1.0,1.0,1.0,1.0)     RGBA{Float64}(1.0,1.0,1.0,1.0)\n",
       " RGBA{Float64}(1.0,1.0,1.0,1.0)     RGBA{Float64}(1.0,1.0,1.0,1.0)\n",
       " RGBA{Float64}(1.0,1.0,1.0,1.0)  …  RGBA{Float64}(1.0,1.0,1.0,1.0)\n",
       " RGBA{Float64}(1.0,1.0,1.0,1.0)     RGBA{Float64}(1.0,1.0,1.0,1.0)\n",
       " RGBA{Float64}(1.0,1.0,1.0,1.0)     RGBA{Float64}(1.0,1.0,1.0,1.0)\n",
       " RGBA{Float64}(1.0,1.0,1.0,1.0)     RGBA{Float64}(1.0,1.0,1.0,1.0)\n",
       " RGBA{Float64}(1.0,1.0,1.0,1.0)     RGBA{Float64}(1.0,1.0,1.0,1.0)\n",
       " RGBA{Float64}(1.0,1.0,1.0,1.0)  …  RGBA{Float64}(1.0,1.0,1.0,1.0)\n",
       " RGBA{Float64}(1.0,1.0,1.0,1.0)     RGBA{Float64}(1.0,1.0,1.0,1.0)\n",
       " RGBA{Float64}(1.0,1.0,1.0,1.0)     RGBA{Float64}(1.0,1.0,1.0,1.0)\n",
       " ⋮                               ⋱  \n",
       " RGBA{Float64}(1.0,1.0,1.0,1.0)     RGBA{Float64}(1.0,1.0,1.0,1.0)\n",
       " RGBA{Float64}(1.0,1.0,1.0,1.0)     RGBA{Float64}(1.0,1.0,1.0,1.0)\n",
       " RGBA{Float64}(1.0,1.0,1.0,1.0)  …  RGBA{Float64}(1.0,1.0,1.0,1.0)\n",
       " RGBA{Float64}(1.0,1.0,1.0,1.0)     RGBA{Float64}(1.0,1.0,1.0,1.0)\n",
       " RGBA{Float64}(1.0,1.0,1.0,1.0)     RGBA{Float64}(1.0,1.0,1.0,1.0)\n",
       " RGBA{Float64}(1.0,1.0,1.0,1.0)     RGBA{Float64}(1.0,1.0,1.0,1.0)\n",
       " RGBA{Float64}(1.0,1.0,1.0,1.0)     RGBA{Float64}(1.0,1.0,1.0,1.0)\n",
       " RGBA{Float64}(1.0,1.0,1.0,1.0)  …  RGBA{Float64}(1.0,1.0,1.0,1.0)\n",
       " RGBA{Float64}(1.0,1.0,1.0,1.0)     RGBA{Float64}(1.0,1.0,1.0,1.0)\n",
       " RGBA{Float64}(1.0,1.0,1.0,1.0)     RGBA{Float64}(1.0,1.0,1.0,1.0)\n",
       " RGBA{Float64}(1.0,1.0,1.0,1.0)     RGBA{Float64}(1.0,1.0,1.0,1.0)\n",
       " RGBA{Float64}(1.0,1.0,1.0,1.0)     RGBA{Float64}(1.0,1.0,1.0,1.0)"
      ]
     },
     "metadata": {},
     "output_type": "display_data"
    },
    {
     "name": "stdout",
     "output_type": "stream",
     "text": [
      "Pose⟨pos=[0.0, 0.0, 5.0], orientation=(w=0.5940682015552042, x=0.0, y=-0.35216561272659025, z=0.7232304979146486)⟩"
     ]
    },
    {
     "data": {
      "image/png": "[encoded data removed]",
      "text/plain": [
       "480×640 Array{RGBA{Float64},2} with eltype ColorTypes.RGBA{Float64}:\n",
       " RGBA{Float64}(1.0,1.0,1.0,1.0)  …  RGBA{Float64}(1.0,1.0,1.0,1.0)\n",
       " RGBA{Float64}(1.0,1.0,1.0,1.0)     RGBA{Float64}(1.0,1.0,1.0,1.0)\n",
       " RGBA{Float64}(1.0,1.0,1.0,1.0)     RGBA{Float64}(1.0,1.0,1.0,1.0)\n",
       " RGBA{Float64}(1.0,1.0,1.0,1.0)     RGBA{Float64}(1.0,1.0,1.0,1.0)\n",
       " RGBA{Float64}(1.0,1.0,1.0,1.0)     RGBA{Float64}(1.0,1.0,1.0,1.0)\n",
       " RGBA{Float64}(1.0,1.0,1.0,1.0)  …  RGBA{Float64}(1.0,1.0,1.0,1.0)\n",
       " RGBA{Float64}(1.0,1.0,1.0,1.0)     RGBA{Float64}(1.0,1.0,1.0,1.0)\n",
       " RGBA{Float64}(1.0,1.0,1.0,1.0)     RGBA{Float64}(1.0,1.0,1.0,1.0)\n",
       " RGBA{Float64}(1.0,1.0,1.0,1.0)     RGBA{Float64}(1.0,1.0,1.0,1.0)\n",
       " RGBA{Float64}(1.0,1.0,1.0,1.0)     RGBA{Float64}(1.0,1.0,1.0,1.0)\n",
       " RGBA{Float64}(1.0,1.0,1.0,1.0)  …  RGBA{Float64}(1.0,1.0,1.0,1.0)\n",
       " RGBA{Float64}(1.0,1.0,1.0,1.0)     RGBA{Float64}(1.0,1.0,1.0,1.0)\n",
       " RGBA{Float64}(1.0,1.0,1.0,1.0)     RGBA{Float64}(1.0,1.0,1.0,1.0)\n",
       " ⋮                               ⋱  \n",
       " RGBA{Float64}(1.0,1.0,1.0,1.0)     RGBA{Float64}(1.0,1.0,1.0,1.0)\n",
       " RGBA{Float64}(1.0,1.0,1.0,1.0)     RGBA{Float64}(1.0,1.0,1.0,1.0)\n",
       " RGBA{Float64}(1.0,1.0,1.0,1.0)  …  RGBA{Float64}(1.0,1.0,1.0,1.0)\n",
       " RGBA{Float64}(1.0,1.0,1.0,1.0)     RGBA{Float64}(1.0,1.0,1.0,1.0)\n",
       " RGBA{Float64}(1.0,1.0,1.0,1.0)     RGBA{Float64}(1.0,1.0,1.0,1.0)\n",
       " RGBA{Float64}(1.0,1.0,1.0,1.0)     RGBA{Float64}(1.0,1.0,1.0,1.0)\n",
       " RGBA{Float64}(1.0,1.0,1.0,1.0)     RGBA{Float64}(1.0,1.0,1.0,1.0)\n",
       " RGBA{Float64}(1.0,1.0,1.0,1.0)  …  RGBA{Float64}(1.0,1.0,1.0,1.0)\n",
       " RGBA{Float64}(1.0,1.0,1.0,1.0)     RGBA{Float64}(1.0,1.0,1.0,1.0)\n",
       " RGBA{Float64}(1.0,1.0,1.0,1.0)     RGBA{Float64}(1.0,1.0,1.0,1.0)\n",
       " RGBA{Float64}(1.0,1.0,1.0,1.0)     RGBA{Float64}(1.0,1.0,1.0,1.0)\n",
       " RGBA{Float64}(1.0,1.0,1.0,1.0)     RGBA{Float64}(1.0,1.0,1.0,1.0)"
      ]
     },
     "metadata": {},
     "output_type": "display_data"
    },
    {
     "name": "stdout",
     "output_type": "stream",
     "text": [
      "Pose⟨pos=[0.0, 0.0, 5.0], orientation=(w=0.6826956644375012, x=0.0, y=0.38349366189431167, z=0.6219800969847268)⟩"
     ]
    },
    {
     "data": {
      "image/png": "[encoded data removed]",
      "text/plain": [
       "480×640 Array{RGBA{Float64},2} with eltype ColorTypes.RGBA{Float64}:\n",
       " RGBA{Float64}(1.0,1.0,1.0,1.0)  …  RGBA{Float64}(1.0,1.0,1.0,1.0)\n",
       " RGBA{Float64}(1.0,1.0,1.0,1.0)     RGBA{Float64}(1.0,1.0,1.0,1.0)\n",
       " RGBA{Float64}(1.0,1.0,1.0,1.0)     RGBA{Float64}(1.0,1.0,1.0,1.0)\n",
       " RGBA{Float64}(1.0,1.0,1.0,1.0)     RGBA{Float64}(1.0,1.0,1.0,1.0)\n",
       " RGBA{Float64}(1.0,1.0,1.0,1.0)     RGBA{Float64}(1.0,1.0,1.0,1.0)\n",
       " RGBA{Float64}(1.0,1.0,1.0,1.0)  …  RGBA{Float64}(1.0,1.0,1.0,1.0)\n",
       " RGBA{Float64}(1.0,1.0,1.0,1.0)     RGBA{Float64}(1.0,1.0,1.0,1.0)\n",
       " RGBA{Float64}(1.0,1.0,1.0,1.0)     RGBA{Float64}(1.0,1.0,1.0,1.0)\n",
       " RGBA{Float64}(1.0,1.0,1.0,1.0)     RGBA{Float64}(1.0,1.0,1.0,1.0)\n",
       " RGBA{Float64}(1.0,1.0,1.0,1.0)     RGBA{Float64}(1.0,1.0,1.0,1.0)\n",
       " RGBA{Float64}(1.0,1.0,1.0,1.0)  …  RGBA{Float64}(1.0,1.0,1.0,1.0)\n",
       " RGBA{Float64}(1.0,1.0,1.0,1.0)     RGBA{Float64}(1.0,1.0,1.0,1.0)\n",
       " RGBA{Float64}(1.0,1.0,1.0,1.0)     RGBA{Float64}(1.0,1.0,1.0,1.0)\n",
       " ⋮                               ⋱  \n",
       " RGBA{Float64}(1.0,1.0,1.0,1.0)     RGBA{Float64}(1.0,1.0,1.0,1.0)\n",
       " RGBA{Float64}(1.0,1.0,1.0,1.0)     RGBA{Float64}(1.0,1.0,1.0,1.0)\n",
       " RGBA{Float64}(1.0,1.0,1.0,1.0)  …  RGBA{Float64}(1.0,1.0,1.0,1.0)\n",
       " RGBA{Float64}(1.0,1.0,1.0,1.0)     RGBA{Float64}(1.0,1.0,1.0,1.0)\n",
       " RGBA{Float64}(1.0,1.0,1.0,1.0)     RGBA{Float64}(1.0,1.0,1.0,1.0)\n",
       " RGBA{Float64}(1.0,1.0,1.0,1.0)     RGBA{Float64}(1.0,1.0,1.0,1.0)\n",
       " RGBA{Float64}(1.0,1.0,1.0,1.0)     RGBA{Float64}(1.0,1.0,1.0,1.0)\n",
       " RGBA{Float64}(1.0,1.0,1.0,1.0)  …  RGBA{Float64}(1.0,1.0,1.0,1.0)\n",
       " RGBA{Float64}(1.0,1.0,1.0,1.0)     RGBA{Float64}(1.0,1.0,1.0,1.0)\n",
       " RGBA{Float64}(1.0,1.0,1.0,1.0)     RGBA{Float64}(1.0,1.0,1.0,1.0)\n",
       " RGBA{Float64}(1.0,1.0,1.0,1.0)     RGBA{Float64}(1.0,1.0,1.0,1.0)\n",
       " RGBA{Float64}(1.0,1.0,1.0,1.0)     RGBA{Float64}(1.0,1.0,1.0,1.0)"
      ]
     },
     "metadata": {},
     "output_type": "display_data"
    },
    {
     "name": "stdout",
     "output_type": "stream",
     "text": [
      "Pose⟨pos=[0.0, 0.0, 5.0], orientation=(w=0.8413793398897746, x=0.0, y=-0.20827052456735182, z=0.49870251152674894)⟩"
     ]
    },
    {
     "data": {
      "image/png": "[encoded data removed]",
      "text/plain": [
       "480×640 Array{RGBA{Float64},2} with eltype ColorTypes.RGBA{Float64}:\n",
       " RGBA{Float64}(1.0,1.0,1.0,1.0)  …  RGBA{Float64}(1.0,1.0,1.0,1.0)\n",
       " RGBA{Float64}(1.0,1.0,1.0,1.0)     RGBA{Float64}(1.0,1.0,1.0,1.0)\n",
       " RGBA{Float64}(1.0,1.0,1.0,1.0)     RGBA{Float64}(1.0,1.0,1.0,1.0)\n",
       " RGBA{Float64}(1.0,1.0,1.0,1.0)     RGBA{Float64}(1.0,1.0,1.0,1.0)\n",
       " RGBA{Float64}(1.0,1.0,1.0,1.0)     RGBA{Float64}(1.0,1.0,1.0,1.0)\n",
       " RGBA{Float64}(1.0,1.0,1.0,1.0)  …  RGBA{Float64}(1.0,1.0,1.0,1.0)\n",
       " RGBA{Float64}(1.0,1.0,1.0,1.0)     RGBA{Float64}(1.0,1.0,1.0,1.0)\n",
       " RGBA{Float64}(1.0,1.0,1.0,1.0)     RGBA{Float64}(1.0,1.0,1.0,1.0)\n",
       " RGBA{Float64}(1.0,1.0,1.0,1.0)     RGBA{Float64}(1.0,1.0,1.0,1.0)\n",
       " RGBA{Float64}(1.0,1.0,1.0,1.0)     RGBA{Float64}(1.0,1.0,1.0,1.0)\n",
       " RGBA{Float64}(1.0,1.0,1.0,1.0)  …  RGBA{Float64}(1.0,1.0,1.0,1.0)\n",
       " RGBA{Float64}(1.0,1.0,1.0,1.0)     RGBA{Float64}(1.0,1.0,1.0,1.0)\n",
       " RGBA{Float64}(1.0,1.0,1.0,1.0)     RGBA{Float64}(1.0,1.0,1.0,1.0)\n",
       " ⋮                               ⋱  \n",
       " RGBA{Float64}(1.0,1.0,1.0,1.0)     RGBA{Float64}(1.0,1.0,1.0,1.0)\n",
       " RGBA{Float64}(1.0,1.0,1.0,1.0)     RGBA{Float64}(1.0,1.0,1.0,1.0)\n",
       " RGBA{Float64}(1.0,1.0,1.0,1.0)  …  RGBA{Float64}(1.0,1.0,1.0,1.0)\n",
       " RGBA{Float64}(1.0,1.0,1.0,1.0)     RGBA{Float64}(1.0,1.0,1.0,1.0)\n",
       " RGBA{Float64}(1.0,1.0,1.0,1.0)     RGBA{Float64}(1.0,1.0,1.0,1.0)\n",
       " RGBA{Float64}(1.0,1.0,1.0,1.0)     RGBA{Float64}(1.0,1.0,1.0,1.0)\n",
       " RGBA{Float64}(1.0,1.0,1.0,1.0)     RGBA{Float64}(1.0,1.0,1.0,1.0)\n",
       " RGBA{Float64}(1.0,1.0,1.0,1.0)  …  RGBA{Float64}(1.0,1.0,1.0,1.0)\n",
       " RGBA{Float64}(1.0,1.0,1.0,1.0)     RGBA{Float64}(1.0,1.0,1.0,1.0)\n",
       " RGBA{Float64}(1.0,1.0,1.0,1.0)     RGBA{Float64}(1.0,1.0,1.0,1.0)\n",
       " RGBA{Float64}(1.0,1.0,1.0,1.0)     RGBA{Float64}(1.0,1.0,1.0,1.0)\n",
       " RGBA{Float64}(1.0,1.0,1.0,1.0)     RGBA{Float64}(1.0,1.0,1.0,1.0)"
      ]
     },
     "metadata": {},
     "output_type": "display_data"
    },
    {
     "name": "stdout",
     "output_type": "stream",
     "text": [
      "Pose⟨pos=[0.0, 0.0, 5.0], orientation=(w=0.4698110585996009, x=0.0, y=-0.024582231687169644, z=0.8824246614316719)⟩"
     ]
    },
    {
     "data": {
      "image/png": "[encoded data removed]",
      "text/plain": [
       "480×640 Array{RGBA{Float64},2} with eltype ColorTypes.RGBA{Float64}:\n",
       " RGBA{Float64}(1.0,1.0,1.0,1.0)  …  RGBA{Float64}(1.0,1.0,1.0,1.0)\n",
       " RGBA{Float64}(1.0,1.0,1.0,1.0)     RGBA{Float64}(1.0,1.0,1.0,1.0)\n",
       " RGBA{Float64}(1.0,1.0,1.0,1.0)     RGBA{Float64}(1.0,1.0,1.0,1.0)\n",
       " RGBA{Float64}(1.0,1.0,1.0,1.0)     RGBA{Float64}(1.0,1.0,1.0,1.0)\n",
       " RGBA{Float64}(1.0,1.0,1.0,1.0)     RGBA{Float64}(1.0,1.0,1.0,1.0)\n",
       " RGBA{Float64}(1.0,1.0,1.0,1.0)  …  RGBA{Float64}(1.0,1.0,1.0,1.0)\n",
       " RGBA{Float64}(1.0,1.0,1.0,1.0)     RGBA{Float64}(1.0,1.0,1.0,1.0)\n",
       " RGBA{Float64}(1.0,1.0,1.0,1.0)     RGBA{Float64}(1.0,1.0,1.0,1.0)\n",
       " RGBA{Float64}(1.0,1.0,1.0,1.0)     RGBA{Float64}(1.0,1.0,1.0,1.0)\n",
       " RGBA{Float64}(1.0,1.0,1.0,1.0)     RGBA{Float64}(1.0,1.0,1.0,1.0)\n",
       " RGBA{Float64}(1.0,1.0,1.0,1.0)  …  RGBA{Float64}(1.0,1.0,1.0,1.0)\n",
       " RGBA{Float64}(1.0,1.0,1.0,1.0)     RGBA{Float64}(1.0,1.0,1.0,1.0)\n",
       " RGBA{Float64}(1.0,1.0,1.0,1.0)     RGBA{Float64}(1.0,1.0,1.0,1.0)\n",
       " ⋮                               ⋱  \n",
       " RGBA{Float64}(1.0,1.0,1.0,1.0)     RGBA{Float64}(1.0,1.0,1.0,1.0)\n",
       " RGBA{Float64}(1.0,1.0,1.0,1.0)     RGBA{Float64}(1.0,1.0,1.0,1.0)\n",
       " RGBA{Float64}(1.0,1.0,1.0,1.0)  …  RGBA{Float64}(1.0,1.0,1.0,1.0)\n",
       " RGBA{Float64}(1.0,1.0,1.0,1.0)     RGBA{Float64}(1.0,1.0,1.0,1.0)\n",
       " RGBA{Float64}(1.0,1.0,1.0,1.0)     RGBA{Float64}(1.0,1.0,1.0,1.0)\n",
       " RGBA{Float64}(1.0,1.0,1.0,1.0)     RGBA{Float64}(1.0,1.0,1.0,1.0)\n",
       " RGBA{Float64}(1.0,1.0,1.0,1.0)     RGBA{Float64}(1.0,1.0,1.0,1.0)\n",
       " RGBA{Float64}(1.0,1.0,1.0,1.0)  …  RGBA{Float64}(1.0,1.0,1.0,1.0)\n",
       " RGBA{Float64}(1.0,1.0,1.0,1.0)     RGBA{Float64}(1.0,1.0,1.0,1.0)\n",
       " RGBA{Float64}(1.0,1.0,1.0,1.0)     RGBA{Float64}(1.0,1.0,1.0,1.0)\n",
       " RGBA{Float64}(1.0,1.0,1.0,1.0)     RGBA{Float64}(1.0,1.0,1.0,1.0)\n",
       " RGBA{Float64}(1.0,1.0,1.0,1.0)     RGBA{Float64}(1.0,1.0,1.0,1.0)"
      ]
     },
     "metadata": {},
     "output_type": "display_data"
    },
    {
     "name": "stdout",
     "output_type": "stream",
     "text": [
      "Pose⟨pos=[0.0, 0.0, 5.0], orientation=(w=0.8386373193628197, x=0.0, y=0.24125225670986422, z=0.48834905058200095)⟩"
     ]
    },
    {
     "data": {
      "image/png": "[encoded data removed]",
      "text/plain": [
       "480×640 Array{RGBA{Float64},2} with eltype ColorTypes.RGBA{Float64}:\n",
       " RGBA{Float64}(1.0,1.0,1.0,1.0)  …  RGBA{Float64}(1.0,1.0,1.0,1.0)\n",
       " RGBA{Float64}(1.0,1.0,1.0,1.0)     RGBA{Float64}(1.0,1.0,1.0,1.0)\n",
       " RGBA{Float64}(1.0,1.0,1.0,1.0)     RGBA{Float64}(1.0,1.0,1.0,1.0)\n",
       " RGBA{Float64}(1.0,1.0,1.0,1.0)     RGBA{Float64}(1.0,1.0,1.0,1.0)\n",
       " RGBA{Float64}(1.0,1.0,1.0,1.0)     RGBA{Float64}(1.0,1.0,1.0,1.0)\n",
       " RGBA{Float64}(1.0,1.0,1.0,1.0)  …  RGBA{Float64}(1.0,1.0,1.0,1.0)\n",
       " RGBA{Float64}(1.0,1.0,1.0,1.0)     RGBA{Float64}(1.0,1.0,1.0,1.0)\n",
       " RGBA{Float64}(1.0,1.0,1.0,1.0)     RGBA{Float64}(1.0,1.0,1.0,1.0)\n",
       " RGBA{Float64}(1.0,1.0,1.0,1.0)     RGBA{Float64}(1.0,1.0,1.0,1.0)\n",
       " RGBA{Float64}(1.0,1.0,1.0,1.0)     RGBA{Float64}(1.0,1.0,1.0,1.0)\n",
       " RGBA{Float64}(1.0,1.0,1.0,1.0)  …  RGBA{Float64}(1.0,1.0,1.0,1.0)\n",
       " RGBA{Float64}(1.0,1.0,1.0,1.0)     RGBA{Float64}(1.0,1.0,1.0,1.0)\n",
       " RGBA{Float64}(1.0,1.0,1.0,1.0)     RGBA{Float64}(1.0,1.0,1.0,1.0)\n",
       " ⋮                               ⋱  \n",
       " RGBA{Float64}(1.0,1.0,1.0,1.0)     RGBA{Float64}(1.0,1.0,1.0,1.0)\n",
       " RGBA{Float64}(1.0,1.0,1.0,1.0)     RGBA{Float64}(1.0,1.0,1.0,1.0)\n",
       " RGBA{Float64}(1.0,1.0,1.0,1.0)  …  RGBA{Float64}(1.0,1.0,1.0,1.0)\n",
       " RGBA{Float64}(1.0,1.0,1.0,1.0)     RGBA{Float64}(1.0,1.0,1.0,1.0)\n",
       " RGBA{Float64}(1.0,1.0,1.0,1.0)     RGBA{Float64}(1.0,1.0,1.0,1.0)\n",
       " RGBA{Float64}(1.0,1.0,1.0,1.0)     RGBA{Float64}(1.0,1.0,1.0,1.0)\n",
       " RGBA{Float64}(1.0,1.0,1.0,1.0)     RGBA{Float64}(1.0,1.0,1.0,1.0)\n",
       " RGBA{Float64}(1.0,1.0,1.0,1.0)  …  RGBA{Float64}(1.0,1.0,1.0,1.0)\n",
       " RGBA{Float64}(1.0,1.0,1.0,1.0)     RGBA{Float64}(1.0,1.0,1.0,1.0)\n",
       " RGBA{Float64}(1.0,1.0,1.0,1.0)     RGBA{Float64}(1.0,1.0,1.0,1.0)\n",
       " RGBA{Float64}(1.0,1.0,1.0,1.0)     RGBA{Float64}(1.0,1.0,1.0,1.0)\n",
       " RGBA{Float64}(1.0,1.0,1.0,1.0)     RGBA{Float64}(1.0,1.0,1.0,1.0)"
      ]
     },
     "metadata": {},
     "output_type": "display_data"
    },
    {
     "name": "stdout",
     "output_type": "stream",
     "text": [
      "Pose⟨pos=[0.0, 0.0, 5.0], orientation=(w=0.6974421640097413, x=0.0, y=-0.4209087618152762, z=0.5800088293194682)⟩"
     ]
    },
    {
     "data": {
      "image/png": "[encoded data removed]",
      "text/plain": [
       "480×640 Array{RGBA{Float64},2} with eltype ColorTypes.RGBA{Float64}:\n",
       " RGBA{Float64}(1.0,1.0,1.0,1.0)  …  RGBA{Float64}(1.0,1.0,1.0,1.0)\n",
       " RGBA{Float64}(1.0,1.0,1.0,1.0)     RGBA{Float64}(1.0,1.0,1.0,1.0)\n",
       " RGBA{Float64}(1.0,1.0,1.0,1.0)     RGBA{Float64}(1.0,1.0,1.0,1.0)\n",
       " RGBA{Float64}(1.0,1.0,1.0,1.0)     RGBA{Float64}(1.0,1.0,1.0,1.0)\n",
       " RGBA{Float64}(1.0,1.0,1.0,1.0)     RGBA{Float64}(1.0,1.0,1.0,1.0)\n",
       " RGBA{Float64}(1.0,1.0,1.0,1.0)  …  RGBA{Float64}(1.0,1.0,1.0,1.0)\n",
       " RGBA{Float64}(1.0,1.0,1.0,1.0)     RGBA{Float64}(1.0,1.0,1.0,1.0)\n",
       " RGBA{Float64}(1.0,1.0,1.0,1.0)     RGBA{Float64}(1.0,1.0,1.0,1.0)\n",
       " RGBA{Float64}(1.0,1.0,1.0,1.0)     RGBA{Float64}(1.0,1.0,1.0,1.0)\n",
       " RGBA{Float64}(1.0,1.0,1.0,1.0)     RGBA{Float64}(1.0,1.0,1.0,1.0)\n",
       " RGBA{Float64}(1.0,1.0,1.0,1.0)  …  RGBA{Float64}(1.0,1.0,1.0,1.0)\n",
       " RGBA{Float64}(1.0,1.0,1.0,1.0)     RGBA{Float64}(1.0,1.0,1.0,1.0)\n",
       " RGBA{Float64}(1.0,1.0,1.0,1.0)     RGBA{Float64}(1.0,1.0,1.0,1.0)\n",
       " ⋮                               ⋱  \n",
       " RGBA{Float64}(1.0,1.0,1.0,1.0)     RGBA{Float64}(1.0,1.0,1.0,1.0)\n",
       " RGBA{Float64}(1.0,1.0,1.0,1.0)     RGBA{Float64}(1.0,1.0,1.0,1.0)\n",
       " RGBA{Float64}(1.0,1.0,1.0,1.0)  …  RGBA{Float64}(1.0,1.0,1.0,1.0)\n",
       " RGBA{Float64}(1.0,1.0,1.0,1.0)     RGBA{Float64}(1.0,1.0,1.0,1.0)\n",
       " RGBA{Float64}(1.0,1.0,1.0,1.0)     RGBA{Float64}(1.0,1.0,1.0,1.0)\n",
       " RGBA{Float64}(1.0,1.0,1.0,1.0)     RGBA{Float64}(1.0,1.0,1.0,1.0)\n",
       " RGBA{Float64}(1.0,1.0,1.0,1.0)     RGBA{Float64}(1.0,1.0,1.0,1.0)\n",
       " RGBA{Float64}(1.0,1.0,1.0,1.0)  …  RGBA{Float64}(1.0,1.0,1.0,1.0)\n",
       " RGBA{Float64}(1.0,1.0,1.0,1.0)     RGBA{Float64}(1.0,1.0,1.0,1.0)\n",
       " RGBA{Float64}(1.0,1.0,1.0,1.0)     RGBA{Float64}(1.0,1.0,1.0,1.0)\n",
       " RGBA{Float64}(1.0,1.0,1.0,1.0)     RGBA{Float64}(1.0,1.0,1.0,1.0)\n",
       " RGBA{Float64}(1.0,1.0,1.0,1.0)     RGBA{Float64}(1.0,1.0,1.0,1.0)"
      ]
     },
     "metadata": {},
     "output_type": "display_data"
    }
   ],
   "source": [
    "GL.set_intrinsics!(renderer, camera)\n",
    "\n",
    "for idx=1:20\n",
    "    pose_ = Pose([0.0, 0.0, 5.0], rotations_to_enumerate_over[idx])\n",
    "    print(pose_)\n",
    "    d = GL.gl_render(renderer, [i], [pose_], IDENTITY_POSE)\n",
    "    img = GL.view_depth_image(d)\n",
    "    IJulia.display(img)\n",
    "end"
   ]
  },
  {
   "cell_type": "markdown",
   "id": "3652db75",
   "metadata": {},
   "source": [
    "### Helpers"
   ]
  },
  {
   "cell_type": "code",
   "execution_count": 93,
   "id": "42c5c6b5",
   "metadata": {},
   "outputs": [
    {
     "data": {
      "text/plain": [
       "viz_trace (generic function with 1 method)"
      ]
     },
     "execution_count": 93,
     "metadata": {},
     "output_type": "execute_result"
    }
   ],
   "source": [
    "function viz_trace(trace)\n",
    "    V.setup_visualizer()\n",
    "#     V.reset_visualizer()\n",
    "    V.viz(Gen.get_retval(trace).voxelized_cloud  ./ 10.0; color=I.colorant\"red\", channel_name=:gen);\n",
    "    V.viz(Gen.get_retval(trace).obs_cloud ./ 10.0; color=I.colorant\"blue\", channel_name=:obs);\n",
    "end"
   ]
  },
  {
   "cell_type": "code",
   "execution_count": 174,
   "id": "a4c88c75",
   "metadata": {},
   "outputs": [
    {
     "data": {
      "text/plain": [
       "particle_filter_step!"
      ]
     },
     "execution_count": 174,
     "metadata": {},
     "output_type": "execute_result"
    }
   ],
   "source": [
    "\"\"\"adapted from gen pf_step:\n",
    "Perform a particle filter update, where the model arguments are adjusted, new observations are added, and the default proposal is used for new latent state.\n",
    "\"\"\"\n",
    "function particle_filter_step!(state::Gen.ParticleFilterState{U}, new_args::Tuple, argdiffs::Tuple,\n",
    "        observations_func::Function) where {U}    \n",
    "    \n",
    "    log_incremental_weights = Vector{Float64}(undef, num_particles) \n",
    "    radius::Float64 = new_args[1]\n",
    "    @showprogress for i=1:num_particles\n",
    "        # TODO? do mh, drift moves, etc. tune particle before update (i.e. new likelihood)\n",
    "        #\n",
    "        #\n",
    "        \n",
    "        # construct observations \n",
    "        particle_ori = Gen.get_retval(state.traces[i]).ori\n",
    "#         observations = observations_func(particle_ori)\n",
    "        observations = observations_func()\n",
    "         \n",
    "        \n",
    "        # evolve the particle (with new radius involved in new_args)\n",
    "        (state.new_traces[i], increment, _, discard) = Gen.update(\n",
    "            state.traces[i], new_args, argdiffs, observations)\n",
    "#         if !isempty(discard)\n",
    "#             error(\"Choices were updated or deleted inside particle filter step: $discard\")\n",
    "#         end\n",
    "        log_incremental_weights[i] = increment\n",
    "        state.log_weights[i] += increment\n",
    "    end\n",
    "    \n",
    "    # swap references\n",
    "    tmp = state.traces\n",
    "    state.traces = state.new_traces\n",
    "    state.new_traces = tmp\n",
    "\n",
    "    return (log_incremental_weights,)\n",
    "end"
   ]
  },
  {
   "cell_type": "code",
   "execution_count": 179,
   "id": "31c8e92f",
   "metadata": {},
   "outputs": [
    {
     "data": {
      "text/plain": [
       "scale_factor"
      ]
     },
     "execution_count": 179,
     "metadata": {},
     "output_type": "execute_result"
    }
   ],
   "source": [
    "bounds = (-100.0, 100.0, -100.0, 100.0,-100.0,300.0)\n",
    "v_resolution = 0.05   # distance between two points on the pointcloud \n",
    "\n",
    "\"\"\"sample point clouds at the given camera resolution and radius\"\"\"\n",
    "Gen.@gen function model(radius, renderer, renderer_camera)\n",
    "    num_candidate_objs = 6\n",
    "    \n",
    "    # fixed object (TODO: generalize to any obj id) and pose\n",
    "    i = {:id} ~ Gen.categorical(fill(1.0/num_candidate_objs, (num_candidate_objs,)))\n",
    "    p = {T.floating_pose_addr(1)} ~ T.uniformPose(-0.001, 0.001, -0.001, 0.001, 4.999, 5.001)\n",
    "    \n",
    "    \n",
    "    rendered_depth = GL.gl_render(renderer, [i], [p], IDENTITY_POSE)\n",
    "    gt_cloud = GL.depth_image_to_point_cloud(rendered_depth, renderer_camera)\n",
    "    voxelized_cloud = GL.voxelize(gt_cloud, v_resolution)\n",
    "    obs_cloud = {:obs => :cloud} ~ T.uniform_mixture_from_template(voxelized_cloud, 0.0001, radius, bounds)\n",
    "#     print(\".\"); flush(stdout)\n",
    "         \n",
    "    (id=i, pose=p, ori=p.orientation, cloud=gt_cloud, voxelized_cloud=voxelized_cloud, obs_cloud=obs_cloud)\n",
    "\n",
    "end\n",
    " \n",
    "\"\"\"return scale down factor of camera given desired resolution\"\"\"\n",
    "function scale_factor(resolution, final_resolution)\n",
    "   return final_resolution-resolution+1 \n",
    "end"
   ]
  },
  {
   "cell_type": "code",
   "execution_count": 180,
   "id": "d72b7c87",
   "metadata": {},
   "outputs": [
    {
     "data": {
      "text/plain": [
       "generate_initial_pf_state"
      ]
     },
     "execution_count": 180,
     "metadata": {},
     "output_type": "execute_result"
    }
   ],
   "source": [
    "\"\"\"Selecting from a set of traces over all enumerated angles, generate a set of initial particles\"\"\"\n",
    "Gen.@gen function generate_initial_pf_state(scored_traces, num_particles, plotdist=true)\n",
    "    traces = (t -> t[1]).(scored_traces)\n",
    "    log_weights = (t -> t[2]).(scored_traces) #; log_weights = log_weights .- Gen.logsumexp(log_weights)  # ∝ likelihood\n",
    "    \n",
    "    selected_traces = Vector{Gen.DynamicDSLTrace{Gen.DynamicDSLFunction{Any}}}(undef, num_particles)\n",
    "    selected_log_weights = Vector{Float64}(undef, num_particles)\n",
    "    for i=1:num_particles\n",
    "        trace_idx = {:t_idx => i} ~ Gen.categorical(log_weights)   \n",
    "        selected_traces[i] = traces[i]\n",
    "        selected_log_weights[i] = log_weights[i]\n",
    "    end\n",
    "    \n",
    "    println(\"Initial particle state computed\")\n",
    "    # visualize pdf of initial weights\n",
    "    plot(selected_log_weights, seriestype=:stephist, size=(600,200))\n",
    "    flush(stdout)\n",
    "    \n",
    "    return Gen.ParticleFilterState{U}(selected_traces, Vector{U}(undef, num_particles), selected_log_weights, 0., collect(1:num_particles))\n",
    "\n",
    "end"
   ]
  },
  {
   "cell_type": "markdown",
   "id": "6b463d3c",
   "metadata": {},
   "source": [
    "### control resolution with radius (fixed camera intrinsics)"
   ]
  },
  {
   "cell_type": "code",
   "execution_count": 181,
   "id": "2f3ac3b7",
   "metadata": {},
   "outputs": [],
   "source": [
    "\"\"\"Particle filter on the evolution of agent knowledge over time; resolution control with radius\"\"\"\n",
    "\n",
    "\n",
    "function particle_filter(renderer, camera::GL.CameraIntrinsics, init_radius::Float64, final_radius::Float64,\n",
    "                        gt_obj_id::Int, gt_pose::Pose, num_particles::Int, num_samples::Int, U=Gen.DynamicDSLTrace{Gen.DynamicDSLFunction{Any}})\n",
    "    \n",
    "    # initialize renderer and particle filter\n",
    "    GL.set_intrinsics!(renderer, camera) \n",
    "    gt_depth_image = GL.gl_render(renderer, [gt_object_id], [gt_pose], IDENTITY_POSE)\n",
    "    gt_cloud = GL.depth_image_to_point_cloud(gt_depth_image, camera)\n",
    "    gt_voxelized_cloud = GL.voxelize(gt_cloud, v_resolution)\n",
    "    \n",
    "    println(\"\\ninitializing particle filter at radius $init_radius\") \n",
    "    flush(stdout)\n",
    "    \n",
    "    \n",
    "    # initialize a state of initial particles with various rotations\n",
    "    get_init_observations(orientation) =\n",
    "                Gen.choicemap(\n",
    "                            (:obs => :cloud) => gt_voxelized_cloud,\n",
    "                            :id => gt_obj_id,\n",
    "                            T.floating_pose_addr(1) => Pose(gt_pose.pos, orientation)\n",
    "                            )\n",
    "    get_observations() =\n",
    "                Gen.choicemap(\n",
    "                            (:obs => :cloud) => gt_voxelized_cloud,\n",
    "                            :id => gt_obj_id,\n",
    "                            )\n",
    "    \n",
    "    orn_stepsize = num_rotations_to_enumerate_over ÷ num_particles\n",
    "    args = (init_radius, renderer, camera)\n",
    "    println(\"Enumerating over all angles:\")\n",
    "    scored_traces = @showprogress map(orn -> Gen.generate(model, args, get_init_observations(orn)), rotations_to_enumerate_over);   \n",
    "    state::Gen.ParticleFilterState{U} = generate_initial_pf_state(scored_traces)\n",
    "    \n",
    "    \n",
    "    \n",
    "    \n",
    "    # intermediate results\n",
    "    norm_log_weights = (log_weights .- Gen.logsumexp(log_weights))\n",
    "    best_trace = traces[argmax(norm_log_weights)];\n",
    "    viz_trace(best_trace);\n",
    "    println(sort(norm_log_weights[:])[end-5:end]); flush(stdout)\n",
    "    \n",
    "    \n",
    "    # evolve over resolutions (modify sphere radius `r` of mixture point cloud likelihood)\n",
    "    @assert(final_radius <= init_radius)\n",
    "    step = -0.05 \n",
    "    for radius in init_radius+step:step:final_radius\n",
    "        println(\"\\n========Radius=$radius========\")\n",
    "        Gen.maybe_resample!(state, ess_threshold=num_particles/3, verbose=true)  \n",
    "        \n",
    "        # update pf \n",
    "        particle_filter_step!(state, (radius, renderer, camera), (Gen.UnknownChange(),), get_observations)    \n",
    "        \n",
    "        # intermediate results\n",
    "        weights = exp.(log_weights .- Gen.logsumexp(log_weights))\n",
    "        best_trace = traces[argmax(weights)];\n",
    "        viz_trace(best_trace);\n",
    "        println(sort(weights[:])[1:5]); flush(stdout)\n",
    "        \n",
    "    end;\n",
    "    \n",
    "     return Gen.sample_unweighted_traces(state, num_samples)\n",
    "    \n",
    "end;"
   ]
  },
  {
   "cell_type": "code",
   "execution_count": 182,
   "id": "87503201",
   "metadata": {},
   "outputs": [
    {
     "name": "stdout",
     "output_type": "stream",
     "text": [
      "true\n",
      "entering pf (radius gradient)\n",
      "num_rotations_to_enumerate_over = 6400\n",
      "true\n",
      "\n",
      "initializing particle filter at radius 0.3\n"
     ]
    },
    {
     "name": "stderr",
     "output_type": "stream",
     "text": [
      "\u001b[32mProgress: 100%|█████████████████████████████████████████| Time: 0:02:22\u001b[39m\n"
     ]
    },
    {
     "name": "stdout",
     "output_type": "stream",
     "text": [
      "Enumerating over all angles:\n"
     ]
    },
    {
     "ename": "LoadError",
     "evalue": "MethodError: no method matching var\"##generate_initial_pf_state#333\"(::Gen.GFUntracedState, ::Matrix{Tuple{Gen.DynamicDSLTrace{Gen.DynamicDSLFunction{Any}}, Float64}})\n\u001b[0mClosest candidates are:\n\u001b[0m  var\"##generate_initial_pf_state#333\"(::Any, ::Any, \u001b[91m::Any\u001b[39m) at In[180]:2\n\u001b[0m  var\"##generate_initial_pf_state#333\"(::Any, ::Any, \u001b[91m::Any\u001b[39m, \u001b[91m::Any\u001b[39m) at In[180]:2",
     "output_type": "error",
     "traceback": [
      "MethodError: no method matching var\"##generate_initial_pf_state#333\"(::Gen.GFUntracedState, ::Matrix{Tuple{Gen.DynamicDSLTrace{Gen.DynamicDSLFunction{Any}}, Float64}})\n\u001b[0mClosest candidates are:\n\u001b[0m  var\"##generate_initial_pf_state#333\"(::Any, ::Any, \u001b[91m::Any\u001b[39m) at In[180]:2\n\u001b[0m  var\"##generate_initial_pf_state#333\"(::Any, ::Any, \u001b[91m::Any\u001b[39m, \u001b[91m::Any\u001b[39m) at In[180]:2",
      "",
      "Stacktrace:",
      " [1] (::Gen.DynamicDSLFunction{Any})(args::Matrix{Tuple{Gen.DynamicDSLTrace{Gen.DynamicDSLFunction{Any}}, Float64}})",
      "   @ Gen C:\\Users\\karen\\.julia\\packages\\Gen\\thmFY\\src\\dynamic\\dynamic.jl:54",
      " [2] particle_filter(renderer::GLRenderer.Renderer{GLRenderer.DepthMode}, camera::GLRenderer.CameraIntrinsics, init_radius::Float64, final_radius::Float64, gt_obj_id::Int64, gt_pose::Pose, num_particles::Int64, num_samples::Int64, U::Type)",
      "   @ Main .\\In[181]:34",
      " [3] particle_filter(renderer::GLRenderer.Renderer{GLRenderer.DepthMode}, camera::GLRenderer.CameraIntrinsics, init_radius::Float64, final_radius::Float64, gt_obj_id::Int64, gt_pose::Pose, num_particles::Int64, num_samples::Int64)",
      "   @ Main .\\In[181]:8",
      " [4] top-level scope",
      "   @ .\\timing.jl:220 [inlined]",
      " [5] top-level scope",
      "   @ .\\In[182]:0",
      " [6] eval",
      "   @ .\\boot.jl:373 [inlined]",
      " [7] include_string(mapexpr::typeof(REPL.softscope), mod::Module, code::String, filename::String)",
      "   @ Base .\\loading.jl:1196"
     ]
    }
   ],
   "source": [
    "\n",
    "# Initialize the canera intrinsics and renderer that will render using those intrinsics.\n",
    "GL.set_intrinsics!(renderer, camera)\n",
    "\n",
    "# try the drill example\n",
    "println(\"entering pf (radius gradient)\")\n",
    "flush(stdout)\n",
    "\n",
    "gt_object_id = i\n",
    "gt_pose = pose\n",
    "\n",
    "init_radius, final_radius = float(0.3), float(0.1)  # low to high \"focus\"\n",
    "@show num_rotations_to_enumerate_over\n",
    "rot_per_axis = 5\n",
    "num_particles = rot_per_axis ^ 3\n",
    "num_samples = num_particles\n",
    "@time pf_traces = particle_filter(renderer, camera, init_radius, final_radius, gt_object_id, gt_pose, num_particles, num_samples);\n"
   ]
  },
  {
   "cell_type": "code",
   "execution_count": 116,
   "id": "ef191ecf",
   "metadata": {},
   "outputs": [
    {
     "ename": "LoadError",
     "evalue": "syntax: invalid iteration specification",
     "output_type": "error",
     "traceback": [
      "syntax: invalid iteration specification",
      "",
      "Stacktrace:",
      " [1] top-level scope",
      "   @ In[116]:3",
      " [2] eval",
      "   @ .\\boot.jl:373 [inlined]",
      " [3] include_string(mapexpr::typeof(REPL.softscope), mod::Module, code::String, filename::String)",
      "   @ Base .\\loading.jl:1196"
     ]
    }
   ],
   "source": [
    "# visualize angles in the posterior\n",
    "\n",
    "x = [Gen.get_retval(trace).ori for each trace]\n",
    "hist(x)"
   ]
  },
  {
   "cell_type": "markdown",
   "id": "ac74aac0",
   "metadata": {},
   "source": [
    "### control resolution with camera intrinsics (fixed radius)"
   ]
  },
  {
   "cell_type": "code",
   "execution_count": 31,
   "id": "493650b4",
   "metadata": {},
   "outputs": [],
   "source": [
    "# \"\"\"Particle filter on the evolution of agent knowledge over time; resolution control with radius\"\"\"\n",
    "# function particle_filter(camera, init_resolution, final_resolution, gt_obj_id, gt_pose, num_particles::Int, num_samples::Int)\n",
    "\n",
    "#     # initialize particle filter\n",
    "#     init_obs = Gen.choicemap()\n",
    "#     GL.set_intrinsics!(renderer, camera) # initial renderer\n",
    "#     init_gt_depth_image = GL.gl_render(renderer, [gt_object_id], [gt_pose], IDENTITY_POSE)\n",
    "#     init_obs[:obs => init_resolution => :cloud] = GL.depth_image_to_point_cloud(init_gt_depth_image, camera)\n",
    "#     GL.view_depth_image(init_gt_depth_image)\n",
    "    \n",
    "#     print(\"initializing particle filter at resolution $init_resolution\")\n",
    "#     state = Gen.initialize_particle_filter(cloud_sampler, \n",
    "#                             (init_resolution, renderer), init_obs, num_particles)\n",
    "\n",
    "#     # evolve over resolutions (coarsen by scaling down the resolution of the rendered image)\n",
    "\n",
    "#     for resolution in init_resolution+1:final_resolution\n",
    "#         println(\"Camera Resolution $resolution\")\n",
    "#         Gen.maybe_resample!(state, ess_threshold=num_particles/3, verbose=true)\n",
    "#         obs = Gen.choicemap() \n",
    "        \n",
    "#         # scale camera according to resolution; reset renderer\n",
    "#         scaled_camera = GL.scale_down_camera(camera, scale_factor(resolution, final_resolution))\n",
    "        \n",
    "#         # Set the renderer to now have those scaled down intrinsics.\n",
    "#         GL.set_intrinsics!(renderer, scaled_camera)\n",
    "\n",
    "#         # render depth image and revert intrinsics afterwards\n",
    "#         gt_depth_image = GL.gl_render(renderer, [gt_object_id], [gt_pose], IDENTITY_POSE)\n",
    "#         GL.set_intrinsics!(renderer, camera)\n",
    "        \n",
    "#         # Create GT (latent) point cloud corresponding to that rendered depth image.\n",
    "#         obs[:obs => resolution => :cloud] = GL.depth_image_to_point_cloud(gt_depth_image, scaled_camera)\n",
    "#         Gen.particle_filter_step!(state, (resolution, renderer, scaled_camera), (UnknownChange(),), obs)\n",
    "        \n",
    "# #         # Debug: Visualize gt point cloud.\n",
    "# #         V.viz(c)  # = V.viz(T.move_points_to_frame_b(c, camera_pose))\n",
    "# #         img = GL.view_depth_image(gt_depth_image)\n",
    "# #         img = I.imresize(img, (camera.height, camera.width))\n",
    "        \n",
    "#         pf_traces = Gen.sample_unweighted_traces(state, num_samples)\n",
    "        \n",
    "# #         # Debug: current results\n",
    "# #         for pf_trace in pf_traces\n",
    "# #             # visualize intermediate result?\n",
    "# #             # get_score(pf_trace)\n",
    "# #         end\n",
    "        \n",
    "#     end;\n",
    "    \n",
    "#      return Gen.sample_unweighted_traces(state, num_samples)\n",
    "# end;\n",
    "\n",
    "\n",
    "\n",
    "# # Initialize the canera intrinsics and renderer that will render using those intrinsics.\n",
    "\n",
    "# # try the drill example\n",
    "# println(\"entering pf (camera scaling gradient)\")\n",
    "# gt_object_id = 15\n",
    "# gt_pose = Pose([0.0, 0.0, 5.0], R.RotXYZ(0.1, 0.2, -0.4))\n",
    "\n",
    "# init_resolution, final_resolution = float(1), float(10)  # low to high res\n",
    "# num_particles = 10\n",
    "# num_samples = 5\n",
    "# @time pf_traces = particle_filter(camera, init_resolution, final_resolution, gt_object_id, gt_pose, num_particles, num_samples);\n"
   ]
  }
 ],
 "metadata": {
  "jupytext": {
   "cell_metadata_filter": "-all",
   "encoding": "# -*- coding: utf-8 -*-",
   "notebook_metadata_filter": "-all"
  },
  "kernelspec": {
   "display_name": "Julia 1.7.2",
   "language": "julia",
   "name": "julia-1.7"
  },
  "language_info": {
   "file_extension": ".jl",
   "mimetype": "application/julia",
   "name": "julia",
   "version": "1.7.2"
  },
  "toc": {
   "base_numbering": 1,
   "nav_menu": {},
   "number_sections": true,
   "sideBar": true,
   "skip_h1_title": false,
   "title_cell": "Table of Contents",
   "title_sidebar": "Contents",
   "toc_cell": false,
   "toc_position": {},
   "toc_section_display": true,
   "toc_window_display": false
  },
  "varInspector": {
   "cols": {
    "lenName": 16,
    "lenType": 16,
    "lenVar": 40
   },
   "kernels_config": {
    "python": {
     "delete_cmd_postfix": "",
     "delete_cmd_prefix": "del ",
     "library": "var_list.py",
     "varRefreshCmd": "print(var_dic_list())"
    },
    "r": {
     "delete_cmd_postfix": ") ",
     "delete_cmd_prefix": "rm(",
     "library": "var_list.r",
     "varRefreshCmd": "cat(var_dic_list()) "
    }
   },
   "types_to_exclude": [
    "module",
    "function",
    "builtin_function_or_method",
    "instance",
    "_Feature"
   ],
   "window_display": false
  }
 },
 "nbformat": 4,
 "nbformat_minor": 5
}
