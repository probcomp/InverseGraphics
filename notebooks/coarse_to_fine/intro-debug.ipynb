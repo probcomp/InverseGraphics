{
 "cells": [
  {
   "cell_type": "code",
   "execution_count": 1,
   "id": "2578a13f",
   "metadata": {},
   "outputs": [
    {
     "name": "stderr",
     "output_type": "stream",
     "text": [
      "\u001b[32m\u001b[1m  Activating\u001b[22m\u001b[39m project at `C:\\SY\\MIT\\UROP\\InverseGraphics\\InverseGraphics`\n"
     ]
    }
   ],
   "source": [
    "import Pkg\n",
    "Pkg.activate(\"../../\");"
   ]
  },
  {
   "cell_type": "code",
   "execution_count": 2,
   "id": "282f1623",
   "metadata": {},
   "outputs": [],
   "source": [
    "import Revise\n",
    "import GLRenderer as GL\n",
    "import Images as I\n",
    "import MiniGSG as S\n",
    "import Rotations as R\n",
    "import PoseComposition: Pose, IDENTITY_POSE, IDENTITY_ORN\n",
    "import InverseGraphics as T\n",
    "import NearestNeighbors\n",
    "import LightGraphs as LG\n",
    "import StaticArrays\n",
    "import ProgressMeter\n",
    "import Serialization\n",
    "using Distributions\n",
    "import Gen\n",
    "using Plots\n",
    "using ProgressMeter\n",
    "try\n",
    "    import MeshCatViz as V\n",
    "catch\n",
    "    import MeshCatViz as V    \n",
    "end"
   ]
  },
  {
   "cell_type": "code",
   "execution_count": 3,
   "id": "f4fb0045",
   "metadata": {},
   "outputs": [
    {
     "name": "stderr",
     "output_type": "stream",
     "text": [
      "┌ Info: MeshCat server started. You can open the visualizer by visiting the following URL in your browser:\n",
      "│ http://127.0.0.1:8713\n",
      "└ @ MeshCat C:\\Users\\karen\\.julia\\packages\\MeshCat\\Ax8pH\\src\\visualizer.jl:73\n"
     ]
    },
    {
     "data": {
      "text/plain": [
       "Process(`\u001b[4mcmd.exe\u001b[24m \u001b[4m/C\u001b[24m \u001b[4m'start http://127.0.0.1:8713'\u001b[24m`, ProcessExited(0))"
      ]
     },
     "execution_count": 3,
     "metadata": {},
     "output_type": "execute_result"
    }
   ],
   "source": [
    "# # Initialize the renderer\n",
    "V.setup_visualizer()"
   ]
  },
  {
   "cell_type": "code",
   "execution_count": 4,
   "id": "ed750894",
   "metadata": {},
   "outputs": [
    {
     "data": {
      "text/plain": [
       "21-element Vector{String}:\n",
       " \"002_master_chef_can\"\n",
       " \"003_cracker_box\"\n",
       " \"004_sugar_box\"\n",
       " \"005_tomato_soup_can\"\n",
       " \"006_mustard_bottle\"\n",
       " \"007_tuna_fish_can\"\n",
       " \"008_pudding_box\"\n",
       " \"009_gelatin_box\"\n",
       " \"010_potted_meat_can\"\n",
       " \"011_banana\"\n",
       " \"019_pitcher_base\"\n",
       " \"021_bleach_cleanser\"\n",
       " \"024_bowl\"\n",
       " \"025_mug\"\n",
       " \"035_power_drill\"\n",
       " \"036_wood_block\"\n",
       " \"037_scissors\"\n",
       " \"040_large_marker\"\n",
       " \"051_large_clamp\"\n",
       " \"052_extra_large_clamp\"\n",
       " \"061_foam_brick\""
      ]
     },
     "execution_count": 4,
     "metadata": {},
     "output_type": "execute_result"
    }
   ],
   "source": [
    "# Loading the YCB object models\n",
    "YCB_DIR = joinpath(dirname(dirname(pwd())),\"data\")\n",
    "world_scaling_factor = 10.0\n",
    "id_to_cloud, id_to_shift, id_to_box  = T.load_ycbv_models_adjusted(YCB_DIR, world_scaling_factor);\n",
    "all_ids = sort(collect(keys(id_to_cloud)));\n",
    "names = T.load_ycb_model_list(YCB_DIR)"
   ]
  },
  {
   "cell_type": "code",
   "execution_count": 5,
   "id": "d736430a",
   "metadata": {},
   "outputs": [
    {
     "name": "stdout",
     "output_type": "stream",
     "text": [
      "gl_version_for_shaders = \"460\"\n",
      "true\n",
      "camera = GLRenderer.CameraIntrinsics\n",
      "  width: Int64 116\n",
      "  height: Int64 87\n",
      "  fx: Float64 116.36363636363636\n",
      "  fy: Float64 116.36363636363636\n",
      "  cx: Float64 58.18181818181818\n",
      "  cy: Float64 43.63636363636363\n",
      "  near: Float64 0.001\n",
      "  far: Float64 100.0\n",
      "\n"
     ]
    }
   ],
   "source": [
    "# Initialize the canera intrinsics and renderer that will render using those intrinsics.\n",
    "camera = GL.CameraIntrinsics()\n",
    "camera = T.scale_down_camera(camera, 5.5)\n",
    "camera_pose = IDENTITY_POSE\n",
    "\n",
    "renderer = GL.setup_renderer(camera, GL.DepthMode())\n",
    "resolution = 0.05\n",
    "\n",
    "@show camera;"
   ]
  },
  {
   "cell_type": "code",
   "execution_count": 6,
   "id": "7eca87fa",
   "metadata": {},
   "outputs": [
    {
     "name": "stdout",
     "output_type": "stream",
     "text": [
      "length(all_ids) = 21\n"
     ]
    },
    {
     "data": {
      "text/plain": [
       "21"
      ]
     },
     "execution_count": 6,
     "metadata": {},
     "output_type": "execute_result"
    }
   ],
   "source": [
    "\n",
    "# Load a cube (id = 1) and all ycb objects\n",
    "# box_mesh = GL.box_mesh_from_dims([2.0, 2.0, 2.0])\n",
    "# GL.load_object!(renderer, box_mesh)\n",
    "\n",
    "for id in all_ids\n",
    "    cloud = id_to_cloud[id]\n",
    "    mesh = GL.mesh_from_voxelized_cloud(GL.voxelize(cloud, resolution), resolution);\n",
    "    GL.load_object!(renderer, mesh)\n",
    "end\n",
    "\n",
    "@show length(all_ids)"
   ]
  },
  {
   "cell_type": "markdown",
   "id": "aea02c1b",
   "metadata": {},
   "source": [
    "## introductory visualizations\n",
    "to get a better sense of resolution effect on likelihood + qualitative results "
   ]
  },
  {
   "cell_type": "code",
   "execution_count": 7,
   "id": "b85f67e4",
   "metadata": {},
   "outputs": [
    {
     "name": "stdout",
     "output_type": "stream",
     "text": [
      "true\n"
     ]
    },
    {
     "data": {
      "image/png": "[encoded data removed]",
      "text/plain": [
       "87×116 Array{RGBA{Float64},2} with eltype RGBA{Float64}:\n",
       " RGBA{Float64}(0.3741,0.5564,1.0,1.0)  …  RGBA{Float64}(0.3741,0.5564,1.0,1.0)\n",
       " RGBA{Float64}(0.3741,0.5564,1.0,1.0)     RGBA{Float64}(0.3741,0.5564,1.0,1.0)\n",
       " RGBA{Float64}(0.3741,0.5564,1.0,1.0)     RGBA{Float64}(0.3741,0.5564,1.0,1.0)\n",
       " RGBA{Float64}(0.3741,0.5564,1.0,1.0)     RGBA{Float64}(0.3741,0.5564,1.0,1.0)\n",
       " RGBA{Float64}(0.3741,0.5564,1.0,1.0)     RGBA{Float64}(0.3741,0.5564,1.0,1.0)\n",
       " RGBA{Float64}(0.3741,0.5564,1.0,1.0)  …  RGBA{Float64}(0.3741,0.5564,1.0,1.0)\n",
       " RGBA{Float64}(0.3741,0.5564,1.0,1.0)     RGBA{Float64}(0.3741,0.5564,1.0,1.0)\n",
       " RGBA{Float64}(0.3741,0.5564,1.0,1.0)     RGBA{Float64}(0.3741,0.5564,1.0,1.0)\n",
       " RGBA{Float64}(0.3741,0.5564,1.0,1.0)     RGBA{Float64}(0.3741,0.5564,1.0,1.0)\n",
       " RGBA{Float64}(0.3741,0.5564,1.0,1.0)     RGBA{Float64}(0.3741,0.5564,1.0,1.0)\n",
       " RGBA{Float64}(0.3741,0.5564,1.0,1.0)  …  RGBA{Float64}(0.3741,0.5564,1.0,1.0)\n",
       " RGBA{Float64}(0.3741,0.5564,1.0,1.0)     RGBA{Float64}(0.3741,0.5564,1.0,1.0)\n",
       " RGBA{Float64}(0.3741,0.5564,1.0,1.0)     RGBA{Float64}(0.3741,0.5564,1.0,1.0)\n",
       " ⋮                                     ⋱  ⋮\n",
       " RGBA{Float64}(0.3741,0.5564,1.0,1.0)  …  RGBA{Float64}(0.3741,0.5564,1.0,1.0)\n",
       " RGBA{Float64}(0.3741,0.5564,1.0,1.0)     RGBA{Float64}(0.3741,0.5564,1.0,1.0)\n",
       " RGBA{Float64}(0.3741,0.5564,1.0,1.0)     RGBA{Float64}(0.3741,0.5564,1.0,1.0)\n",
       " RGBA{Float64}(0.3741,0.5564,1.0,1.0)     RGBA{Float64}(0.3741,0.5564,1.0,1.0)\n",
       " RGBA{Float64}(0.3741,0.5564,1.0,1.0)     RGBA{Float64}(0.3741,0.5564,1.0,1.0)\n",
       " RGBA{Float64}(0.3741,0.5564,1.0,1.0)  …  RGBA{Float64}(0.3741,0.5564,1.0,1.0)\n",
       " RGBA{Float64}(0.3741,0.5564,1.0,1.0)     RGBA{Float64}(0.3741,0.5564,1.0,1.0)\n",
       " RGBA{Float64}(0.3741,0.5564,1.0,1.0)     RGBA{Float64}(0.3741,0.5564,1.0,1.0)\n",
       " RGBA{Float64}(0.3741,0.5564,1.0,1.0)     RGBA{Float64}(0.3741,0.5564,1.0,1.0)\n",
       " RGBA{Float64}(0.3741,0.5564,1.0,1.0)     RGBA{Float64}(0.3741,0.5564,1.0,1.0)\n",
       " RGBA{Float64}(0.3741,0.5564,1.0,1.0)  …  RGBA{Float64}(0.3741,0.5564,1.0,1.0)\n",
       " RGBA{Float64}(0.3741,0.5564,1.0,1.0)     RGBA{Float64}(0.3741,0.5564,1.0,1.0)"
      ]
     },
     "metadata": {},
     "output_type": "display_data"
    },
    {
     "name": "stdout",
     "output_type": "stream",
     "text": [
      "names[i] = \"010_potted_meat_can\"\n"
     ]
    },
    {
     "data": {
      "text/plain": [
       "3×459 Matrix{Float64}:\n",
       " 0.545  -0.255  -0.175  -0.34   0.205  …  0.075   0.405  -0.275  -0.435\n",
       " 0.23    0.145  -0.275  -0.265  0.14      0.09   -0.165   0.08   -0.315\n",
       " 2.755   2.54    2.655   2.715  2.635     2.58    3.075   2.505   3.02"
      ]
     },
     "execution_count": 7,
     "metadata": {},
     "output_type": "execute_result"
    }
   ],
   "source": [
    "#########\n",
    "# radius scaling\n",
    "#########\n",
    "bounds = (-100.0, 100.0, -100.0, 100.0,-100.0,100.0)\n",
    "\n",
    "i = 9 #rand(all_ids)\n",
    "pose = Pose([0.0, 0.0, 3.0], R.RotXYZ(0.4, -0.2, 0.4))\n",
    "\n",
    "# Reset the intrinsics inside of the renderer.\n",
    "GL.set_intrinsics!(renderer, camera) \n",
    "\n",
    "# And render the same image as above.\n",
    "gt_depth_image = GL.gl_render(renderer, [i], [pose], camera_pose)\n",
    "IJulia.display(GL.view_depth_image(gt_depth_image))\n",
    "\n",
    "# Create point cloud corresponding to that rendered depth image.\n",
    "gt_cloud = GL.depth_image_to_point_cloud(gt_depth_image, camera)\n",
    "# print(size(gt_cloud))\n",
    "\n",
    "\n",
    "@show names[i]\n",
    "\n",
    "radius = 0.01  # \"tight\" radius\n",
    "sampled_cloud = T.voxelize(Gen.random(T.uniform_mixture_from_template, gt_cloud, 0.0001, radius, bounds), 0.005)\n",
    "# Visualize that point cloud.\n",
    "# V.setup_visualizer()\n",
    "# V.viz(sampled_cloud, color=I.colorant\"red\", channel_name=:origin)  # = V.viz(T.move_points_to_frame_b(c, camera_pose))\n",
    "\n",
    "\n",
    "# function move_points_to_frame_b(points_in_frame_a::Matrix{<:Real}, b_relative_to_a::Pose)\n",
    "#     if size(points_in_frame_a)[1] != 3\n",
    "#         error(\"expected an 3 x n matrix\")\n",
    "#     end\n",
    "#     n = size(points_in_frame_a[2])\n",
    "#     return b_relative_to_a.orientation * points_in_frame_a .+ b_relative_to_a.pos\n",
    "# end\n",
    "\n",
    " \n",
    "# radius = float(1)  # \"loose\" radius (can still pick out general shape)\n",
    "# sampled_cloud = Gen.random(T.uniform_mixture_from_template, gt_cloud, 0.0001, radius, bounds)\n",
    "# # Visualize that point cloud.\n",
    "# # V.setup_visualizer()\n",
    "# # V.viz(sampled_cloud)  # = V.viz(T.move_points_to_frame_b(c, camera_pose))\n",
    "\n",
    " \n",
    "# radius = float(10)  # very loose radius; points on a sphere (w/ some concentration on center with shape of obj)\n",
    "# sampled_cloud = Gen.random(T.uniform_mixture_from_template, gt_cloud, 0.0001, radius, bounds)\n",
    "# # # Visualize that point cloud.\n",
    "# # V.setup_visualizer()\n",
    "# # V.viz(sampled_cloud)  # = V.viz(T.move_points_to_frame_b(c, camera_pose))"
   ]
  },
  {
   "cell_type": "code",
   "execution_count": 8,
   "id": "4deb070c",
   "metadata": {},
   "outputs": [],
   "source": [
    "# ########\n",
    "# # camera downscaling\n",
    "# ########\n",
    "# using IJulia\n",
    "\n",
    "# final = 24\n",
    "# for downscale_factor=1:3.0:final\n",
    "#     println(\"scale down by $downscale_factor\")\n",
    "    \n",
    "#     # scale camera according to resolution; reset renderer\n",
    "#     scaled_camera = GL.scale_down_camera(camera, downscale_factor)\n",
    "        \n",
    "#     # Set the renderer to now have those scaled down intrinsics.\n",
    "#     GL.set_intrinsics!(renderer, scaled_camera)\n",
    " \n",
    "#     d = GL.gl_render(renderer, [i], [pose], IDENTITY_POSE)\n",
    "\n",
    "#     img = GL.view_depth_image(d)\n",
    "#     img = I.imresize(img, (camera.height, camera.width));\n",
    "#     IJulia.display(img)\n",
    "  \n",
    "#     # revert intrinsics\n",
    "#     GL.set_intrinsics!(renderer, camera)\n",
    "\n",
    "# end\n"
   ]
  },
  {
   "cell_type": "markdown",
   "id": "9d56301b",
   "metadata": {},
   "source": [
    "# Intro demo of coarse-to-fine with particle filtering"
   ]
  },
  {
   "cell_type": "markdown",
   "id": "3e9be6e7",
   "metadata": {},
   "source": [
    "## Particle Filtering + Orientation enumeration"
   ]
  },
  {
   "cell_type": "markdown",
   "id": "3652db75",
   "metadata": {},
   "source": [
    "### Cloud visualization / generation helpers"
   ]
  },
  {
   "cell_type": "code",
   "execution_count": 9,
   "id": "40f23381",
   "metadata": {},
   "outputs": [
    {
     "data": {
      "text/plain": [
       "viz_trace (generic function with 1 method)"
      ]
     },
     "execution_count": 9,
     "metadata": {},
     "output_type": "execute_result"
    }
   ],
   "source": [
    "function viz_trace(trace)\n",
    "    V.setup_visualizer()\n",
    "    V.viz(Gen.get_retval(trace).voxelized_cloud  ./ 10.0; color=I.colorant\"red\", channel_name=:gen);\n",
    "    V.viz(Gen.get_retval(trace).obs_cloud ./ 10.0; color=I.colorant\"blue\", channel_name=:obs);\n",
    "end"
   ]
  },
  {
   "cell_type": "code",
   "execution_count": 10,
   "id": "3329c5ef",
   "metadata": {},
   "outputs": [
    {
     "data": {
      "text/plain": [
       "get_cloud_nocache (generic function with 1 method)"
      ]
     },
     "execution_count": 10,
     "metadata": {},
     "output_type": "execute_result"
    }
   ],
   "source": [
    "# Helper function to get point cloud from the object ids, object poses, and camera pose\n",
    "# (see demo.jl)\n",
    "function get_cloud_nocache(poses, ids)\n",
    "    depth_image = GL.gl_render(renderer, ids, poses, camera_pose)\n",
    "    cloud = GL.depth_image_to_point_cloud(depth_image, renderer.camera_intrinsics)\n",
    "    if isnothing(cloud)\n",
    "        cloud = zeros(3,1)\n",
    "    else\n",
    "        cloud = T.move_points_to_frame_b(cloud, camera_pose)\n",
    "    end\n",
    "    cloud\n",
    "end"
   ]
  },
  {
   "cell_type": "code",
   "execution_count": 11,
   "id": "8f0c7685",
   "metadata": {},
   "outputs": [
    {
     "data": {
      "text/plain": [
       "get_cloud_func_cached (generic function with 1 method)"
      ]
     },
     "execution_count": 11,
     "metadata": {},
     "output_type": "execute_result"
    }
   ],
   "source": [
    "function get_cloud_func_cached(p, id)\n",
    "    idx1 = argmin(sum((dirs .- (p.orientation * [1,0,0])).^2, dims=1))[2]\n",
    "    idx2 = argmin([abs(R.rotation_angle(inv(p.orientation) * r)) for r in rotations_to_enumerate_over[idx1,:]])\n",
    "    # closest_orientation = rotations_to_enumerate_over[idx1,idx2]\n",
    "    c = T.move_points_to_frame_b(cloud_lookup[id][idx1,idx2], p)\n",
    "end"
   ]
  },
  {
   "cell_type": "code",
   "execution_count": 12,
   "id": "2141e139",
   "metadata": {},
   "outputs": [],
   "source": [
    "# # test caching vs cloud\n",
    "\n",
    "# # Render depth from random id, pose\n",
    "# test_id, test_pose = rand(all_ids), T.uniformPose(-3.0, 3.0, -2.0, 2.0, 6.0, 12.0)\n",
    "# gt_depth = T.GL.gl_render(renderer, [test_id], [test_pose], IDENTITY_POSE);\n",
    "# # Convert to point cloud.\n",
    "# # gt_cloud = T.GL.depth_image_to_point_cloud(gt_depth, camera)\n",
    "\n",
    "# cached_cloud = get_cloud_func_cached(test_pose, test_id);\n",
    "# non_cached_cloud = get_cloud_nocache([test_pose], [test_id]);\n",
    "\n",
    "# V.setup_visualizer()\n",
    "# V.viz(T.voxelize(cached_cloud, 0.005)  ./ 10.0; color=I.colorant\"red\", channel_name=:gen);\n",
    "# V.viz(T.voxelize(non_cached_cloud, 0.005)./ 10.0; color=I.colorant\"blue\", channel_name=:obs);"
   ]
  },
  {
   "cell_type": "code",
   "execution_count": 89,
   "id": "daae9974",
   "metadata": {},
   "outputs": [
    {
     "data": {
      "text/plain": [
       "generate_cloud_cache (generic function with 1 method)"
      ]
     },
     "execution_count": 89,
     "metadata": {},
     "output_type": "execute_result"
    }
   ],
   "source": [
    "# generate cached renderings of all objects at all rotations, positioned at reference frame\n",
    "function generate_cloud_cache()\n",
    "    cloud_lookup = []\n",
    "    @showprogress for id in all_ids\n",
    "        cloud = \n",
    "        [\n",
    "            let\n",
    "                position = [0.0, 0.0, 10.0]\n",
    "                pose = Pose(position, rotations_to_enumerate_over[i,j])\n",
    "                d = T.GL.gl_render(renderer, [id], [pose], IDENTITY_POSE);\n",
    "                c = T.GL.depth_image_to_point_cloud(d, camera)\n",
    "                c = T.get_points_in_frame_b(c, pose)  # gets the cloud in the render pose reference frame\n",
    "            end\n",
    "            for i = 1:size(rotations_to_enumerate_over,1), j = 1:size(rotations_to_enumerate_over,2)\n",
    "        ]\n",
    "        push!(cloud_lookup, cloud)    \n",
    "    end \n",
    "    \n",
    "    return cloud_lookup\n",
    "end\n"
   ]
  },
  {
   "cell_type": "markdown",
   "id": "3635f841",
   "metadata": {},
   "source": [
    "### Model helpers"
   ]
  },
  {
   "cell_type": "code",
   "execution_count": 14,
   "id": "2e2164c6",
   "metadata": {},
   "outputs": [
    {
     "data": {
      "text/plain": [
       "icp_move_no_unexplained (generic function with 1 method)"
      ]
     },
     "execution_count": 14,
     "metadata": {},
     "output_type": "execute_result"
    }
   ],
   "source": [
    "function icp_move_no_unexplained(trace, i, inf_radius, renderer, cam_pose; iterations=10)\n",
    "    # get_cloud_func needs to give the points in the world frame\n",
    "#     get_cloud_func = (poses, ids, cam_pose) -> get_cloud_nocache([poses], [ids])  \n",
    "    get_cloud_func = (pose, id, cam_pose) -> get_cloud_func_cached(pose, id);\n",
    "\n",
    "    id = Gen.get_choices(trace)[:id]  \n",
    "    addr = T.floating_pose_addr(1)\n",
    "    \n",
    "    obs_cloud = T.move_points_to_frame_b(T.get_obs_cloud(trace), cam_pose)\n",
    "    c1_tree = NearestNeighbors.KDTree(obs_cloud);\n",
    "\n",
    "    refined_pose = trace[addr]\n",
    "    \n",
    "    refined_pose = T.icp_object_pose(\n",
    "        refined_pose,\n",
    "        obs_cloud,\n",
    "        p -> T.voxelize(get_cloud_func(p, id, cam_pose), v_resolution(inf_radius)),\n",
    "        c1_tree=c1_tree,\n",
    "        iterations=iterations\n",
    "    );\n",
    "\n",
    "    acceptances = false\n",
    "     \n",
    "    for _ in 1:iterations\n",
    "        trace, acc = T.pose_mixture_move(\n",
    "            trace, addr, [trace[addr], refined_pose], [0.5, 0.5], 1e-2, 5000.0\n",
    "        )\n",
    "        acceptances = acc || acceptances\n",
    "    end\n",
    "    \n",
    "    trace, acceptances, refined_pose\n",
    "end"
   ]
  },
  {
   "cell_type": "code",
   "execution_count": 15,
   "id": "9c4a5277",
   "metadata": {},
   "outputs": [
    {
     "data": {
      "text/plain": [
       "generate_initial_pf_state_from_enum"
      ]
     },
     "execution_count": 15,
     "metadata": {},
     "output_type": "execute_result"
    }
   ],
   "source": [
    "\"\"\"Selecting from a set of traces over all enumerated angles, generate a set of initial particles\"\"\"\n",
    "Gen.@gen function generate_initial_pf_state_from_enum(scored_traces, num_particles, U=Gen.DynamicDSLTrace{Gen.DynamicDSLFunction{Any}})\n",
    "    # unpack traces\n",
    "    traces = (t -> t[1]).(scored_traces)\n",
    "    log_weights = (t -> t[1].score).(scored_traces)#(t -> t[2]).(scored_traces)  \n",
    "    \n",
    "    _, norm_log_weights = Gen.normalize_weights(log_weights)       \n",
    "    \n",
    "    # sample initial set of particles\n",
    "    selected_traces = Vector{Gen.DynamicDSLTrace{Gen.DynamicDSLFunction{Any}}}(undef, num_particles)\n",
    "    selected_log_weights = Vector{Float64}(undef, num_particles)\n",
    "    for i=1:num_particles\n",
    "        trace_idx = Gen.random(Gen.categorical, exp.(norm_log_weights))   \n",
    "        selected_traces[i] = traces[trace_idx]\n",
    "        selected_log_weights[i] = norm_log_weights[trace_idx]\n",
    "    end\n",
    "    \n",
    "    println(\"Initial particle state computed\"); flush(stdout)\n",
    "\n",
    "#     # visualize pdf of initial weights (?)\n",
    "#     plot(selected_log_weights, seriestype=:stephist, fmt = :png)\n",
    "    \n",
    "    # see intermediate results\n",
    "    top_n = min(5, num_particles-1)\n",
    "    _, norm_log_weights = Gen.normalize_weights(selected_log_weights)\n",
    "    p = sortperm(norm_log_weights)[end-top_n:end]; \n",
    "\n",
    "    best_trace = selected_traces[argmax(norm_log_weights)];\n",
    "    if vis\n",
    "        viz_trace(best_trace);\n",
    "    end\n",
    "    println(\"top$top_n traces:\")\n",
    "    for idx in p\n",
    "       println(\"curr_weight=\", norm_log_weights[idx], \" ori=\", R.params(Gen.get_retval(selected_traces[idx]).ori), \" id=\", Gen.get_retval(selected_traces[idx]).id) \n",
    "    end\n",
    "    flush(stdout)\n",
    "    \n",
    "    return Gen.ParticleFilterState{U}(selected_traces, Vector{U}(undef, num_particles), selected_log_weights, 0., collect(1:num_particles))\n",
    "\n",
    "end"
   ]
  },
  {
   "cell_type": "code",
   "execution_count": 16,
   "id": "f1d1ec7a",
   "metadata": {},
   "outputs": [
    {
     "data": {
      "text/plain": [
       "generate_initial_pf_state"
      ]
     },
     "execution_count": 16,
     "metadata": {},
     "output_type": "execute_result"
    }
   ],
   "source": [
    "\"\"\"Selecting from a set of traces over all enumerated angles, generate a set of initial particles\"\"\"\n",
    "Gen.@gen function generate_initial_pf_state(scored_traces, num_particles, U=Gen.DynamicDSLTrace{Gen.DynamicDSLFunction{Any}})\n",
    "    # unpack traces\n",
    "    traces = (t -> t[1]).(scored_traces)\n",
    "    log_weights = (t -> t[1].score).(scored_traces)#(t -> t[2]).(scored_traces)  \n",
    "    \n",
    "     _, norm_log_weights = Gen.normalize_weights(log_weights)    \n",
    "    flush(stdout)\n",
    "    \n",
    "    # sample initial set of particles\n",
    "    num_particles_per_obj = num_particles ÷ num_candidate_objs\n",
    "    selected_traces = Vector{Gen.DynamicDSLTrace{Gen.DynamicDSLFunction{Any}}}(undef, num_particles_per_obj * num_candidate_objs)\n",
    "    selected_log_weights = Vector{Float64}(undef, num_particles_per_obj * num_candidate_objs)\n",
    "        \n",
    "    stepsize = num_rotations_to_enumerate_over ÷ num_candidate_objs\n",
    "    for i=0:num_candidate_objs-1\n",
    "        for j = 1:num_particles_per_obj\n",
    "            trace_idx = stepsize * i + \n",
    "                        Gen.random(Gen.categorical, \n",
    "                        exp.(Gen.normalize_weights(log_weights[stepsize*i+1:stepsize*(i+1)])[2]))   \n",
    "            selected_traces[num_particles_per_obj*i+j] = traces[trace_idx]\n",
    "            selected_log_weights[num_particles_per_obj*i+j] = norm_log_weights[trace_idx]\n",
    "        end        \n",
    "    end\n",
    "     \n",
    "    \n",
    "    println(\"Initial particle state computed ($num_particles_per_obj particles per object)\"); flush(stdout)\n",
    "\n",
    "    \n",
    "    # see intermediate results\n",
    "    top_n = min(10, num_particles-1)\n",
    "    _, norm_log_weights = Gen.normalize_weights(selected_log_weights)\n",
    "    p = sortperm(norm_log_weights)[end-top_n:end]; \n",
    "\n",
    "    best_trace = selected_traces[argmax(norm_log_weights)];\n",
    "    if vis\n",
    "        viz_trace(best_trace);\n",
    "    end\n",
    "    if topnprint\n",
    "        println(\"top$top_n traces:\")\n",
    "        for idx in p\n",
    "           println(\"curr_weight=\", norm_log_weights[idx], \" ori=\", R.params(Gen.get_retval(selected_traces[idx]).ori), \" id=\", Gen.get_retval(selected_traces[idx]).id) \n",
    "        end\n",
    "        flush(stdout)\n",
    "    end\n",
    "    \n",
    "    return Gen.ParticleFilterState{U}(selected_traces, Vector{U}(undef, num_particles), selected_log_weights, 0., collect(1:num_particles))\n",
    "\n",
    "end"
   ]
  },
  {
   "cell_type": "markdown",
   "id": "397784bc",
   "metadata": {},
   "source": [
    "consider doing 20x random pose initialization+ICP moves"
   ]
  },
  {
   "cell_type": "code",
   "execution_count": 33,
   "id": "a4c88c75",
   "metadata": {},
   "outputs": [
    {
     "data": {
      "text/plain": [
       "particle_filter_step!"
      ]
     },
     "execution_count": 33,
     "metadata": {},
     "output_type": "execute_result"
    }
   ],
   "source": [
    "\"\"\"adapted from gen pf_step:\n",
    "Perform a particle filter update, where the model arguments are adjusted, new observations are added, and the default proposal is used for new latent state.\n",
    "\"\"\"\n",
    "function particle_filter_step!(state::Gen.ParticleFilterState{U}, new_args::Tuple, argdiffs::Tuple,\n",
    "        observations) where {U}    \n",
    "    log_incremental_weights = Vector{Float64}(undef, num_particles) \n",
    "    radius::Float64 = new_args[1]\n",
    "#     centroid::Vector{Float64} = new_args[end]\n",
    "    \n",
    "    @Threads.threads for i=1:num_particles\n",
    "    ## do mh, drift moves, etc. tune particle before update (i.e. new likelihood)\n",
    "        state.traces[i], acc, _ = icp_move_no_unexplained(state.traces[i], Gen.get_retval(state.traces[i]).id, \n",
    "                                            radius, renderer, camera_pose; iterations=15)\n",
    "\n",
    "        state.traces[i], acc = T.drift_move(state.traces[i], T.floating_pose_addr(1), 0.001, 100.0)\n",
    "        state.traces[i], acc = T.drift_move(state.traces[i], T.floating_pose_addr(1), 0.0005, 100.0)\n",
    "        state.traces[i], acc = T.drift_move(state.traces[i], T.floating_pose_addr(1), 0.0005, 500.0)\n",
    "        state.traces[i], acc = T.drift_move(state.traces[i], T.floating_pose_addr(1), 0.001, 1000.0)\n",
    "        state.traces[i], acc = T.drift_move(state.traces[i], T.floating_pose_addr(1), 0.0005, 1000.0)\n",
    "        \n",
    "        \n",
    "        # evolve the particle (with new radius involved in new_args)\n",
    "        (state.new_traces[i], increment, _, discard) = Gen.update(\n",
    "            state.traces[i], new_args, argdiffs, observations)\n",
    "#         if !isempty(discard)\n",
    "#             error(\"Choices were updated or deleted inside particle filter step: $discard\")\n",
    "#         end\n",
    "        log_incremental_weights[i] = increment\n",
    "        state.log_weights[i] += increment\n",
    "    end\n",
    "    \n",
    "    # swap references\n",
    "    tmp = state.traces\n",
    "    state.traces = state.new_traces\n",
    "    state.new_traces = tmp\n",
    "    \n",
    "    return log_incremental_weights\n",
    "end"
   ]
  },
  {
   "cell_type": "code",
   "execution_count": 165,
   "id": "31c8e92f",
   "metadata": {},
   "outputs": [
    {
     "data": {
      "text/plain": [
       "model"
      ]
     },
     "execution_count": 165,
     "metadata": {},
     "output_type": "execute_result"
    }
   ],
   "source": [
    "bounds = (-100.0, 100.0, -100.0, 100.0,-100.0,300.0)\n",
    "\n",
    "v_resolution = radius -> radius * 0.6  # distance between two points on the pointcloud \n",
    "\n",
    "\"\"\"sample point clouds at the given camera resolution and radius\"\"\"\n",
    "Gen.@gen function model(radius, renderer, centroid)\n",
    "    \n",
    "    # sample object id\n",
    "    i = {:id} ~ Gen.categorical(fill(1.0/num_candidate_objs, (num_candidate_objs,)))\n",
    "    \n",
    "    # sample pose\n",
    "    xc, yc, zc = centroid\n",
    "    delta = 0.9\n",
    "    p = {T.floating_pose_addr(1)} ~ T.uniformPose(xc-delta, xc+delta, yc-delta, yc+delta, zc-delta, zc+delta)\n",
    "#     gt_cloud = get_cloud_nocache([p], [i])    \n",
    "    gt_cloud = get_cloud_func_cached(p, i);\n",
    "\n",
    "    voxelized_cloud = GL.voxelize(gt_cloud, v_resolution(radius))\n",
    "    obs_cloud = {T.obs_addr()} ~ T.uniform_mixture_from_template(voxelized_cloud, 0.0001, radius, bounds)\n",
    "         \n",
    "    (id=i, pose=p, pos=p.pos, ori=p.orientation, cloud=gt_cloud, voxelized_cloud=voxelized_cloud, rendered_clouds=[voxelized_cloud], obs_cloud=obs_cloud)\n",
    "\n",
    "end\n",
    " "
   ]
  },
  {
   "cell_type": "markdown",
   "id": "6b463d3c",
   "metadata": {},
   "source": [
    "### control resolution with radius (fixed camera intrinsics)"
   ]
  },
  {
   "cell_type": "code",
   "execution_count": 122,
   "id": "2f3ac3b7",
   "metadata": {},
   "outputs": [
    {
     "data": {
      "text/plain": [
       "particle_filter"
      ]
     },
     "execution_count": 122,
     "metadata": {},
     "output_type": "execute_result"
    }
   ],
   "source": [
    "\"\"\"Particle filter on the evolution of agent knowledge over time; resolution control with radius\"\"\"\n",
    "function particle_filter(renderer, init_radius::Float64, final_radius::Float64, radius_step::Float64, scored_traces,\n",
    "                        gt_obj_id::Int, gt_pose::Pose, centroid, num_particles::Int, num_samples::Int, U=Gen.DynamicDSLTrace{Gen.DynamicDSLFunction{Any}})\n",
    "    \n",
    "    # initialize renderer and particle filter\n",
    "    GL.set_intrinsics!(renderer, camera)  \n",
    "#     gt_cloud = get_cloud_nocache([gt_pose], [gt_obj_id])\n",
    "    gt_cloud = get_cloud_func_cached(gt_pose, gt_obj_id)\n",
    "    gt_voxelized_cloud = GL.voxelize(gt_cloud, v_resolution(init_radius))\n",
    "    \n",
    "    println(\"\\ninitializing particle filter at radius $init_radius\") \n",
    "    flush(stdout)\n",
    "    \n",
    "    \n",
    "    # initialize a state of initial particles with various rotations  \n",
    "#     state::Gen.ParticleFilterState{U} = generate_initial_pf_state_from_enum(scored_traces, num_particles)\n",
    "    state::Gen.ParticleFilterState{U} = generate_initial_pf_state(scored_traces, num_particles)\n",
    "\n",
    "    \n",
    "    # evolve over resolutions (modify sphere radius `r` of mixture point cloud likelihood)\n",
    "    @assert(radius_step < 0.0)\n",
    "    for radius in init_radius+radius_step:radius_step:final_radius-eps()\n",
    "        println(\"\\n========Radius=$radius========\"); flush(stdout)\n",
    "        Gen.maybe_resample!(state, ess_threshold=num_particles/3, verbose=true)  \n",
    "        \n",
    "        # update pf \n",
    "        gt_voxelized_cloud = GL.voxelize(gt_cloud, v_resolution(radius))\n",
    "        observations = Gen.choicemap(T.obs_addr() => gt_voxelized_cloud) \n",
    "        current_log_weights = particle_filter_step!(state, (radius, renderer, centroid),   \n",
    "                                                    (Gen.UnknownChange(),), observations)    \n",
    "        \n",
    "        # see intermediate results\n",
    "        top_n = min(5, num_particles-1)\n",
    "        _, norm_log_weights = Gen.normalize_weights(current_log_weights)\n",
    "        p = sortperm(norm_log_weights)[end-top_n:end]; \n",
    "        \n",
    "        best_trace = state.traces[argmax(norm_log_weights)];\n",
    "        \n",
    "        if vis\n",
    "            viz_trace(best_trace);\n",
    "        end\n",
    "        if topnprint\n",
    "            println(\"top$top_n traces:\")\n",
    "            for idx in p\n",
    "               println(\"weight=\", norm_log_weights[idx], \" ori=\", (Gen.get_retval(state.traces[idx]).ori)[1:3], \"  id=\", Gen.get_retval(state.traces[idx]).id) \n",
    "            end\n",
    "            flush(stdout)\n",
    "        end\n",
    "        \n",
    "    end;\n",
    "    \n",
    "    # normalize final weights\n",
    "    log_total_weight, norm_weights = Gen.normalize_weights(state.log_weights)\n",
    "    return [norm_weights, Gen.sample_unweighted_traces(state, num_samples)]\n",
    "    \n",
    "end"
   ]
  },
  {
   "cell_type": "code",
   "execution_count": 249,
   "id": "3b74026f",
   "metadata": {},
   "outputs": [
    {
     "name": "stderr",
     "output_type": "stream",
     "text": [
      "\u001b[32mProgress:  19%|████████                                 |  ETA: 0:22:49\u001b[39m"
     ]
    },
    {
     "name": "stdout",
     "output_type": "stream",
     "text": [
      "num_rotations_to_enumerate_over = length(rotations_to_enumerate_over) = 1620\n"
     ]
    },
    {
     "name": "stderr",
     "output_type": "stream",
     "text": [
      "\u001b[32mProgress:  24%|██████████                               |  ETA: 0:19:21\u001b[39m"
     ]
    },
    {
     "ename": "LoadError",
     "evalue": "InterruptException:",
     "output_type": "error",
     "traceback": [
      "InterruptException:",
      "",
      "Stacktrace:",
      "  [1] try_yieldto(undo::typeof(Base.ensure_rescheduled))",
      "    @ Base .\\task.jl:777",
      "  [2] wait()",
      "    @ Base .\\task.jl:837",
      "  [3] uv_write(s::Base.PipeEndpoint, p::Ptr{UInt8}, n::UInt64)",
      "    @ Base .\\stream.jl:992",
      "  [4] unsafe_write(s::Base.PipeEndpoint, p::Ptr{UInt8}, n::UInt64)",
      "    @ Base .\\stream.jl:1064",
      "  [5] unsafe_write",
      "    @ .\\io.jl:362 [inlined]",
      "  [6] write",
      "    @ .\\strings\\io.jl:244 [inlined]",
      "  [7] print",
      "    @ .\\strings\\io.jl:246 [inlined]",
      "  [8] with_output_color(f::Function, color::Symbol, io::IJulia.IJuliaStdio{Base.PipeEndpoint}, args::String; bold::Bool, underline::Bool, blink::Bool, reverse::Bool, hidden::Bool)",
      "    @ Base .\\util.jl:106",
      "  [9] #printstyled#868",
      "    @ .\\util.jl:129 [inlined]",
      " [10] printover(io::IJulia.IJuliaStdio{Base.PipeEndpoint}, s::String, color::Symbol)",
      "    @ ProgressMeter C:\\Users\\karen\\.julia\\packages\\ProgressMeter\\sN2xr\\src\\ProgressMeter.jl:629",
      " [11] updateProgress!(p::Progress; showvalues::Tuple{}, truncate_lines::Bool, valuecolor::Symbol, offset::Int64, keep::Bool, desc::Nothing, ignore_predictor::Bool)",
      "    @ ProgressMeter C:\\Users\\karen\\.julia\\packages\\ProgressMeter\\sN2xr\\src\\ProgressMeter.jl:320",
      " [12] #17",
      "    @ C:\\Users\\karen\\.julia\\packages\\ProgressMeter\\sN2xr\\src\\ProgressMeter.jl:495 [inlined]",
      " [13] lock_if_threading",
      "    @ C:\\Users\\karen\\.julia\\packages\\ProgressMeter\\sN2xr\\src\\ProgressMeter.jl:480 [inlined]",
      " [14] #next!#16",
      "    @ C:\\Users\\karen\\.julia\\packages\\ProgressMeter\\sN2xr\\src\\ProgressMeter.jl:493 [inlined]",
      " [15] next!",
      "    @ C:\\Users\\karen\\.julia\\packages\\ProgressMeter\\sN2xr\\src\\ProgressMeter.jl:493 [inlined]",
      " [16] iterate(wrap::ProgressMeter.ProgressWrapper{Vector{Any}}, state::Int64)",
      "    @ ProgressMeter C:\\Users\\karen\\.julia\\packages\\ProgressMeter\\sN2xr\\src\\ProgressMeter.jl:738",
      " [17] macro expansion",
      "    @ C:\\Users\\karen\\.julia\\packages\\ProgressMeter\\sN2xr\\src\\ProgressMeter.jl:938 [inlined]",
      " [18] generate_cloud_cache()",
      "    @ Main .\\In[89]:4",
      " [19] top-level scope",
      "    @ In[249]:15",
      " [20] eval",
      "    @ .\\boot.jl:373 [inlined]",
      " [21] include_string(mapexpr::typeof(REPL.softscope), mod::Module, code::String, filename::String)",
      "    @ Base .\\loading.jl:1196"
     ]
    }
   ],
   "source": [
    "## Control rotation enumeration / update render cache\n",
    "\n",
    "unit_sphere_directions = T.fibonacci_sphere(60);\n",
    "other_rotation_angle = collect(0:0.24:(2*π));\n",
    "rotations_to_enumerate_over = [\n",
    "    let\n",
    "        T.geodesicHopf_select_axis(StaticArrays.SVector(dir...), ang, 1)\n",
    "    end\n",
    "    for dir in unit_sphere_directions, \n",
    "        ang in other_rotation_angle\n",
    "];\n",
    "@show num_rotations_to_enumerate_over = length(rotations_to_enumerate_over)\n",
    "dirs = hcat(unit_sphere_directions...)\n",
    "\n",
    "cloud_lookup = generate_cloud_cache()\n",
    "# Serialization.serialize(\"render_caching_data.data\", (cloud_lookup, rotations_to_enumerate_over, unit_sphere_directions, other_rotation_angle, dirs))\n",
    "# @show length(cloud_lookup)\n",
    "\n",
    "# (cloud_lookup, rotations_to_enumerate_over, unit_sphere_directions, other_rotation_angle, dirs) = \n",
    "# Serialization.deserialize(\"render_caching_data_200_10.data\")"
   ]
  },
  {
   "cell_type": "code",
   "execution_count": 233,
   "id": "87503201",
   "metadata": {},
   "outputs": [
    {
     "name": "stdout",
     "output_type": "stream",
     "text": [
      "true\n",
      "gt_obj_id = rand(1:num_candidate_objs) = 11\n",
      "object = names[gt_obj_id] = \"019_pitcher_base\"\n",
      "R.params(gt_pose.orientation) = [-0.307805804428737, 0.062336307515123875, 0.3300596958980401, -0.8901855810273784]\n"
     ]
    },
    {
     "ename": "LoadError",
     "evalue": "InterruptException:",
     "output_type": "error",
     "traceback": [
      "InterruptException:",
      "",
      "Stacktrace:",
      "  [1] try_yieldto(undo::typeof(Base.ensure_rescheduled))",
      "    @ Base .\\task.jl:777",
      "  [2] wait()",
      "    @ Base .\\task.jl:837",
      "  [3] wait(c::Base.GenericCondition{Base.Threads.SpinLock})",
      "    @ Base .\\condition.jl:123",
      "  [4] _wait(t::Task)",
      "    @ Base .\\task.jl:293",
      "  [5] wait",
      "    @ .\\task.jl:332 [inlined]",
      "  [6] threading_run(func::Function)",
      "    @ Base.Threads .\\threadingconstructs.jl:38",
      "  [7] macro expansion",
      "    @ .\\threadingconstructs.jl:97 [inlined]",
      "  [8] precompute_enumerations(gt_voxelized_cloud::Matrix{Float64}, gt_pose::Pose, init_radius::Float64, renderer::GLRenderer.Renderer{GLRenderer.DepthMode}, num_candidate_objs::Int64, rotations_to_enumerate_over::Matrix{Rotations.QuatRotation{Float64}})",
      "    @ Main .\\In[233]:6",
      "  [9] top-level scope",
      "    @ .\\timing.jl:220 [inlined]",
      " [10] top-level scope",
      "    @ .\\In[233]:0",
      " [11] eval",
      "    @ .\\boot.jl:373 [inlined]",
      " [12] include_string(mapexpr::typeof(REPL.softscope), mod::Module, code::String, filename::String)",
      "    @ Base .\\loading.jl:1196"
     ]
    }
   ],
   "source": [
    "function precompute_enumerations(gt_voxelized_cloud, gt_pose, init_radius, renderer, num_candidate_objs, rotations_to_enumerate_over)\n",
    "    # initialize a state of initial particles with various rotations\n",
    "    all_scored_traces = []\n",
    "    x, y, z = gt_pose.pos\n",
    "    gt_position = [x,y,z]\n",
    "    @Threads.threads for obj_id=1:num_candidate_objs\n",
    "        scored_traces = map(orn -> \n",
    "                        Gen.generate(model, (init_radius, renderer, gt_position),                 \n",
    "                                    Gen.choicemap(T.obs_addr() => gt_voxelized_cloud, \n",
    "                                                :id => obj_id, \n",
    "                                                T.floating_pose_addr(1) => Pose(gt_position, orn))),\n",
    "                                    rotations_to_enumerate_over[:]);\n",
    "    \n",
    "        all_scored_traces = vcat(all_scored_traces, scored_traces)\n",
    "    end\n",
    "    return all_scored_traces\n",
    "    \n",
    "end \n",
    "\n",
    "# Initialize the canera intrinsics and renderer that will render using those intrinsics.\n",
    "GL.set_intrinsics!(renderer, camera)\n",
    " \n",
    "final_radius = float(0.05)  # low to high \"focus\"\n",
    "init_radius = float(0.30)  # high num = faster enum\n",
    "\n",
    "\n",
    "\n"
   ]
  },
  {
   "cell_type": "code",
   "execution_count": 240,
   "id": "bdd0fbd1",
   "metadata": {},
   "outputs": [
    {
     "name": "stdout",
     "output_type": "stream",
     "text": [
      "gt_obj_id = rand(1:num_candidate_objs) = 16\n",
      "object = names[gt_obj_id] = \"036_wood_block\"\n",
      "R.params(gt_pose.orientation) = [-0.2754591716872772, -0.5314778786006394, -0.7493073386848863, 0.2831819582609316]\n",
      "  2.918250 seconds (11.57 M allocations: 1.496 GiB)\n",
      "num_rotations_to_enumerate_over = length(enum_ori_traces) = 10584\n"
     ]
    },
    {
     "data": {
      "text/plain": [
       "10584"
      ]
     },
     "execution_count": 240,
     "metadata": {},
     "output_type": "execute_result"
    }
   ],
   "source": [
    "# enumeration example\n",
    "num_candidate_objs = length(all_ids)  #set to 1 for fixed object id\n",
    "\n",
    "@show gt_obj_id = rand(1:num_candidate_objs)\n",
    "@show object = names[gt_obj_id]\n",
    " \n",
    "# get GT data (to infer)\n",
    "gt_position = [0.0, 0.0, 5.0]\n",
    "tr, _ = Gen.generate(model, (init_radius, renderer, gt_position), Gen.choicemap(:id => gt_obj_id))\n",
    "gt_pose = T.Pose(pos=gt_position, orientation=Gen.get_retval(tr).ori)\n",
    "@show R.params(gt_pose.orientation)\n",
    "\n",
    "# gt_cloud = get_cloud_nocache([gt_pose], [gt_obj_id])\n",
    "gt_cloud = get_cloud_func_cached(gt_pose, gt_obj_id);\n",
    "gt_voxelized_cloud = GL.voxelize(gt_cloud, v_resolution(init_radius))\n",
    "\n",
    "# get centroid (at a finer resolution)\n",
    "centroid = T.centroid(GL.voxelize(gt_cloud, v_resolution(1e-10)))\n",
    "\n",
    "\n",
    "@time enum_ori_traces = precompute_enumerations(gt_voxelized_cloud, gt_pose, init_radius, renderer, \n",
    "    num_candidate_objs, rotations_to_enumerate_over[1:5:end][1:5:end]);\n",
    "@show num_rotations_to_enumerate_over = length(enum_ori_traces)"
   ]
  },
  {
   "cell_type": "code",
   "execution_count": 203,
   "id": "a6132a2d",
   "metadata": {},
   "outputs": [
    {
     "name": "stdout",
     "output_type": "stream",
     "text": [
      "num_samples = num_particles = 84\n"
     ]
    },
    {
     "data": {
      "text/plain": [
       "-0.25"
      ]
     },
     "execution_count": 203,
     "metadata": {},
     "output_type": "execute_result"
    }
   ],
   "source": [
    "num_particles_per_obj = 4\n",
    "num_particles = num_particles_per_obj * num_candidate_objs\n",
    "@show num_samples = num_particles\n",
    "num_steps = 1\n",
    "radius_step = (final_radius - init_radius)/num_steps\n"
   ]
  },
  {
   "cell_type": "markdown",
   "id": "41765f79",
   "metadata": {},
   "source": [
    "### single object trial"
   ]
  },
  {
   "cell_type": "code",
   "execution_count": 244,
   "id": "9248a4aa",
   "metadata": {},
   "outputs": [
    {
     "name": "stdout",
     "output_type": "stream",
     "text": [
      "gt_obj_id = 7 = 7\n",
      "object = names[gt_obj_id] = \"008_pudding_box\"\n",
      "gt_position = [gx, gy, gz] = [1.2180259943936944, 4.872867878482924, 3.3231490947871927]\n",
      "centroid = T.centroid(GL.voxelize(gt_cloud, v_resolution(1.0e-10))) = [1.2063836745961989, 4.862077668880167, 3.0295805414013226]\n",
      "  7.230344 seconds (10.83 M allocations: 1.334 GiB, 73.19% gc time)\n",
      "num_rotations_to_enumerate_over = length(enum_ori_traces) = 10584\n",
      "gt_obj_id = 7\n",
      "true\n",
      "\n",
      "initializing particle filter at radius 0.3\n",
      "Initial particle state computed (4 particles per object)\n",
      "top10 traces:\n",
      "curr_weight=-13.834427023367569 ori=[-0.416776625049933, 0.10269600849373504, -0.01919524819125018, -0.902985225293481] id=9\n",
      "curr_weight=-13.834427023367569 ori=[-0.416776625049933, 0.10269600849373504, -0.01919524819125018, -0.902985225293481] id=9\n",
      "curr_weight=-13.834427023367569 ori=[-0.416776625049933, 0.10269600849373504, -0.01919524819125018, -0.902985225293481] id=9\n",
      "curr_weight=-5.185121621251001 ori=[-0.746307810121493, 0.3528003216598131, -0.4926024340261711, 0.2754985074004679] id=8\n",
      "curr_weight=-2.8810308195889234 ori=[-0.3112334616770227, 0.5321614584846597, -0.016478677818990428, 0.7871889021152134] id=7\n",
      "curr_weight=-2.8810308195889234 ori=[-0.3112334616770227, 0.5321614584846597, -0.016478677818990428, 0.7871889021152134] id=7\n",
      "curr_weight=-2.8810308195889234 ori=[-0.3112334616770227, 0.5321614584846597, -0.016478677818990428, 0.7871889021152134] id=7\n",
      "curr_weight=-2.8810308195889234 ori=[-0.3112334616770227, 0.5321614584846597, -0.016478677818990428, 0.7871889021152134] id=7\n",
      "curr_weight=-1.3598613896579308 ori=[-0.7073581181450084, 0.42554424811758235, -0.5176454309570244, 0.2249439783539681] id=8\n",
      "curr_weight=-1.3598613896579308 ori=[-0.7073581181450084, 0.42554424811758235, -0.5176454309570244, 0.2249439783539681] id=8\n",
      "curr_weight=-1.3598613896579308 ori=[-0.7073581181450084, 0.42554424811758235, -0.5176454309570244, 0.2249439783539681] id=8\n",
      "\n",
      "========Radius=0.04999999999999999========\n",
      "effective sample size: 4.7553628451133125, doing resample: true\n",
      "top5 traces:\n",
      "weight=-713.5865298762089 ori=[-0.05408753667409971, -0.5417092396808907, 0.8388239612820376]  id=7\n",
      "weight=-684.9321881275466 ori=[0.019082951943717733, -0.5957533797133484, 0.8029406899050796]  id=7\n",
      "weight=-682.820847386686 ori=[0.10561699153801668, -0.6543239887386382, 0.7488024898861027]  id=7\n",
      "weight=-625.1670765378917 ori=[-0.025478396026168852, -0.6100930252999244, 0.7919200413023577]  id=7\n",
      "weight=-592.7352770686302 ori=[-0.00344929531897858, -0.5843362302894921, 0.8115043267493258]  id=7\n",
      "weight=0.0 ori=[0.0017346833351132075, -0.6151446762009789, 0.7884123402226327]  id=7\n",
      "  0.772759 seconds (7.34 M allocations: 979.009 MiB)\n"
     ]
    }
   ],
   "source": [
    "\n",
    "\n",
    "# precompute enumeration; run the below code once and comment out\n",
    "num_candidate_objs = length(all_ids)  #set to 1 for fixed object id\n",
    "\n",
    "@show gt_obj_id = 7#rand(1:num_candidate_objs)\n",
    "@show object = names[gt_obj_id]\n",
    " \n",
    "# get GT data (to infer)\n",
    "gx, gy, gz = Gen.uniform(0.0, 5.0), Gen.uniform(0.0, 5.0), Gen.uniform(0.0, 5.0)\n",
    "@show gt_position = [gx, gy, gz]\n",
    "tr, _ = Gen.generate(model, (init_radius, renderer, gt_position), Gen.choicemap(:id => gt_obj_id))\n",
    "gt_pose = T.Pose(pos=gt_position, orientation=Gen.get_retval(tr).ori)\n",
    "\n",
    "# gt_cloud = get_cloud_nocache([gt_pose], [gt_obj_id])\n",
    "gt_cloud = get_cloud_func_cached(gt_pose, gt_obj_id);\n",
    "gt_voxelized_cloud = GL.voxelize(gt_cloud, v_resolution(init_radius))\n",
    "\n",
    "# get centroid (at a finer resolution)\n",
    "@show centroid = T.centroid(GL.voxelize(gt_cloud, v_resolution(1e-10)))\n",
    "\n",
    "\n",
    "@time enum_ori_traces = precompute_enumerations(gt_voxelized_cloud, gt_pose, init_radius, renderer, \n",
    "    num_candidate_objs, rotations_to_enumerate_over[1:5:end][1:5:end]);\n",
    "@show num_rotations_to_enumerate_over = length(enum_ori_traces)\n",
    "\n",
    "\n",
    "@show gt_obj_id\n",
    "\n",
    "\n",
    "topnprint, vis = true, false  # print top particles / meshcat viz\n",
    "@time _, pf_traces = particle_filter(renderer, init_radius, final_radius, radius_step,\n",
    "                                    enum_ori_traces, gt_obj_id, gt_pose, centroid, num_particles, num_samples);\n"
   ]
  },
  {
   "cell_type": "markdown",
   "id": "ec4bae27",
   "metadata": {},
   "source": [
    "## Pose+ID Test"
   ]
  },
  {
   "cell_type": "code",
   "execution_count": 207,
   "id": "547a0aba",
   "metadata": {},
   "outputs": [
    {
     "data": {
      "text/plain": [
       "Dict{String, Dict{Any, Any}} with 3 entries:\n",
       "  \"errors\"   => Dict()\n",
       "  \"time\"     => Dict()\n",
       "  \"accuracy\" => Dict()"
      ]
     },
     "execution_count": 207,
     "metadata": {},
     "output_type": "execute_result"
    }
   ],
   "source": [
    "num_trials_per_obj = 25\n",
    "results_dict = Dict(\"accuracy\" => Dict(), \"time\" => Dict(), \"errors\" => Dict())"
   ]
  },
  {
   "cell_type": "code",
   "execution_count": 216,
   "id": "ac97062e",
   "metadata": {},
   "outputs": [
    {
     "ename": "LoadError",
     "evalue": "UndefVarError: all_ids__ not defined",
     "output_type": "error",
     "traceback": [
      "UndefVarError: all_ids__ not defined",
      "",
      "Stacktrace:",
      " [1] top-level scope",
      "   @ .\\In[216]:1",
      " [2] eval",
      "   @ .\\boot.jl:373 [inlined]",
      " [3] include_string(mapexpr::typeof(REPL.softscope), mod::Module, code::String, filename::String)",
      "   @ Base .\\loading.jl:1196"
     ]
    }
   ],
   "source": [
    "for gt_obj_id in all_ids__\n",
    "    accuracy = 0\n",
    "    error = 0\n",
    "    valid = 0\n",
    "    results_dict[\"accuracy\"][gt_obj_id] = 0\n",
    "    results_dict[\"errors\"][gt_obj_id] = 0\n",
    "\n",
    "\n",
    "    results_dict[\"time\"][gt_obj_id] = @elapsed for ii=1:num_trials_per_obj\n",
    "\n",
    "        # precompute enumeration; run the below code once and comment out\n",
    "        num_candidate_objs = length(all_ids)  #set to 1 for fixed object id\n",
    "\n",
    "        # get GT data (to infer)\n",
    "        gx, gy, gz = Gen.uniform(0.0, 5.0), Gen.uniform(0.0, 5.0), Gen.uniform(0.0, 5.0)\n",
    "        gt_position = [gx, gy, gz]\n",
    "        tr, _ = Gen.generate(model, (init_radius, renderer, gt_position), Gen.choicemap(:id => gt_obj_id))\n",
    "        gt_pose = T.Pose(pos=gt_position, orientation=Gen.get_retval(tr).ori)\n",
    "\n",
    "        # gt_cloud = get_cloud_nocache([gt_pose], [gt_obj_id])\n",
    "        gt_cloud = get_cloud_func_cached(gt_pose, gt_obj_id);\n",
    "        gt_voxelized_cloud = GL.voxelize(gt_cloud, v_resolution(init_radius))\n",
    "\n",
    "        # get centroid (at a finer resolution)\n",
    "        centroid = T.centroid(GL.voxelize(gt_cloud, v_resolution(1e-10)))\n",
    "\n",
    "\n",
    "        @time enum_ori_traces = precompute_enumerations(gt_voxelized_cloud, gt_pose, init_radius, renderer, num_candidate_objs, rotations_to_enumerate_over);\n",
    "\n",
    "        try\n",
    "            @time weights, pf_traces = particle_filter(renderer, init_radius, final_radius, radius_step,\n",
    "                                                enum_ori_traces, gt_obj_id, gt_pose, centroid, num_particles, num_samples);\n",
    "            accuracy += (Gen.get_retval(pf_traces[argmax(weights)]).id == gt_obj_id)\n",
    "            valid += 1\n",
    "        catch BoundsError  #result of precompute_enumerations with low # rotations\n",
    "            error += 1\n",
    "            accuracy += 0\n",
    "        end\n",
    "        println(\"$accuracy/$valid\"); flush(stdout);\n",
    "    end\n",
    "\n",
    "    @show results_dict[\"accuracy\"][gt_obj_id] = accuracy \n",
    "    @show results_dict[\"errors\"][gt_obj_id] = error / valid\n",
    "end"
   ]
  },
  {
   "cell_type": "code",
   "execution_count": 227,
   "id": "8604fc37",
   "metadata": {},
   "outputs": [],
   "source": [
    "results_dict\n",
    "using JLD\n",
    "JLD.save(\"results_$init_radius-$final_radius-$num_steps.jld\", \"results\", results_dict)  # TODO: doesnt work when jld?\n"
   ]
  },
  {
   "cell_type": "code",
   "execution_count": 226,
   "id": "056cbe26",
   "metadata": {},
   "outputs": [
    {
     "data": {
      "text/plain": [
       "0.3"
      ]
     },
     "execution_count": 226,
     "metadata": {},
     "output_type": "execute_result"
    }
   ],
   "source": []
  },
  {
   "cell_type": "code",
   "execution_count": 248,
   "id": "185aa16a",
   "metadata": {},
   "outputs": [
    {
     "data": {
      "text/plain": [
       "Dict{Any, Any} with 21 entries:\n",
       "  5  => 21\n",
       "  16 => 24\n",
       "  20 => 21\n",
       "  7  => 8\n",
       "  12 => 17\n",
       "  8  => 10\n",
       "  17 => 20\n",
       "  1  => 23\n",
       "  19 => 20\n",
       "  4  => 3\n",
       "  6  => 19\n",
       "  13 => 24\n",
       "  11 => 25\n",
       "  15 => 24\n",
       "  2  => 23\n",
       "  9  => 7\n",
       "  10 => 24\n",
       "  18 => 19\n",
       "  21 => 16\n",
       "  14 => 11\n",
       "  3  => 23"
      ]
     },
     "execution_count": 248,
     "metadata": {},
     "output_type": "execute_result"
    }
   ],
   "source": [
    "JLD.load(\"results_0.45-$final_radius-$num_steps.jld\")[\"results\"][\"accuracy\"]"
   ]
  },
  {
   "cell_type": "code",
   "execution_count": 26,
   "id": "b4fc9cc8",
   "metadata": {},
   "outputs": [],
   "source": [
    "# xyz = [\n",
    "#     rotations_to_enumerate_over[i,1] * [1, 0, 0]\n",
    "#     for i in 1:size(rotations_to_enumerate_over)[1] \n",
    "# ];\n",
    "# log_weights_xyz = zeros(size(rotations_to_enumerate_over)[1])\n",
    "# weights_xyz = exp.(log_weights_xyz)\n",
    "# order = sortperm(weights_xyz,rev=true)\n",
    "# weights_xyz = weights_xyz[order]\n",
    "# xyz = xyz[order]\n",
    "# weights_xyz\n"
   ]
  },
  {
   "cell_type": "code",
   "execution_count": 27,
   "id": "287564a7",
   "metadata": {},
   "outputs": [],
   "source": [
    "# using PyCall\n",
    "# using PyPlot\n",
    "\n",
    "# plt = pyimport(\"matplotlib.pyplot\")\n",
    "# mpl_toolkits = pyimport(\"mpl_toolkits\")\n",
    "# x = range(0;stop=2*pi,length=1000); y = sin.(3*x + 4*cos.(2*x));\n",
    "# plot(x, y, color=\"red\", linewidth=2.0, linestyle=\"--\")\n",
    "# # plt.show()\n",
    "\n",
    "# function run_viz(x, y, z, c)\n",
    "#     fig = plt.figure(figsize=(9, 6))\n",
    "#     ax = plt.axes(projection=\"3d\")\n",
    "#     ax.scatter3D(x, y, z, c=c)\n",
    "#     p = ax.set_title(\"3D scatterplot\", pad=25, size=15)\n",
    "#     ax.set_xlabel(\"X\") \n",
    "#     ax.set_ylabel(\"Y\") \n",
    "#     ax.set_zlabel(\"Z\")\n",
    "#     plt.show()\n",
    "# end\n",
    "\n",
    "\n",
    "\n",
    "# # PyCall.py\"\"\"\n",
    "# # import matplotlib.pyplot as plt\n",
    "# # from mpl_toolkits import mplot3d\n",
    "# # def run_viz(x,y,z,c):\n",
    "# #     fig = plt.figure(figsize=(9, 6))\n",
    "# #     ax = plt.axes(projection='3d')\n",
    "# #     ax.scatter3D(x, y, z, c=c)\n",
    "# #     p = ax.set_title(\"3D scatterplot\", pad=25, size=15)\n",
    "# #     ax.set_xlabel(\"X\") \n",
    "# #     ax.set_ylabel(\"Y\") \n",
    "# #     ax.set_zlabel(\"Z\")\n",
    "# #     plt.show()\n",
    "# # \"\"\"\n",
    "\n",
    "# run_viz( (i->i[1]).(xyz), (i->i[2]).(xyz), (i->i[3]).(xyz), weights_xyz)"
   ]
  },
  {
   "cell_type": "code",
   "execution_count": null,
   "id": "dbdbf8d1",
   "metadata": {},
   "outputs": [],
   "source": []
  }
 ],
 "metadata": {
  "jupytext": {
   "cell_metadata_filter": "-all",
   "encoding": "# -*- coding: utf-8 -*-",
   "notebook_metadata_filter": "-all"
  },
  "kernelspec": {
   "display_name": "Julia multithreading6 1.7.2",
   "language": "julia",
   "name": "julia-multithreading6-1.7"
  },
  "language_info": {
   "file_extension": ".jl",
   "mimetype": "application/julia",
   "name": "julia",
   "version": "1.7.2"
  },
  "toc": {
   "base_numbering": 1,
   "nav_menu": {},
   "number_sections": true,
   "sideBar": true,
   "skip_h1_title": false,
   "title_cell": "Table of Contents",
   "title_sidebar": "Contents",
   "toc_cell": false,
   "toc_position": {},
   "toc_section_display": true,
   "toc_window_display": false
  },
  "varInspector": {
   "cols": {
    "lenName": 16,
    "lenType": 16,
    "lenVar": 40
   },
   "kernels_config": {
    "python": {
     "delete_cmd_postfix": "",
     "delete_cmd_prefix": "del ",
     "library": "var_list.py",
     "varRefreshCmd": "print(var_dic_list())"
    },
    "r": {
     "delete_cmd_postfix": ") ",
     "delete_cmd_prefix": "rm(",
     "library": "var_list.r",
     "varRefreshCmd": "cat(var_dic_list()) "
    }
   },
   "types_to_exclude": [
    "module",
    "function",
    "builtin_function_or_method",
    "instance",
    "_Feature"
   ],
   "window_display": false
  }
 },
 "nbformat": 4,
 "nbformat_minor": 5
}
