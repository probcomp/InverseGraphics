{
 "cells": [
  {
   "cell_type": "code",
   "execution_count": 1,
   "id": "2578a13f",
   "metadata": {},
   "outputs": [
    {
     "name": "stderr",
     "output_type": "stream",
     "text": [
      "\u001b[32m\u001b[1m  Activating\u001b[22m\u001b[39m project at `C:\\SY\\MIT\\UROP\\InverseGraphics\\InverseGraphics`\n"
     ]
    }
   ],
   "source": [
    "import Pkg\n",
    "Pkg.activate(\"../../\");"
   ]
  },
  {
   "cell_type": "code",
   "execution_count": 2,
   "id": "282f1623",
   "metadata": {},
   "outputs": [],
   "source": [
    "import Revise\n",
    "import GLRenderer as GL\n",
    "import Images as I\n",
    "import MiniGSG as S\n",
    "import Rotations as R\n",
    "import PoseComposition: Pose, IDENTITY_POSE, IDENTITY_ORN\n",
    "import InverseGraphics as T\n",
    "import NearestNeighbors\n",
    "import LightGraphs as LG\n",
    "import StaticArrays\n",
    "import ProgressMeter\n",
    "import Serialization\n",
    "using Distributions\n",
    "import Gen\n",
    "using Plots\n",
    "using ProgressMeter\n",
    "try\n",
    "    import MeshCatViz as V\n",
    "catch\n",
    "    import MeshCatViz as V    \n",
    "end"
   ]
  },
  {
   "cell_type": "code",
   "execution_count": 3,
   "id": "f4fb0045",
   "metadata": {},
   "outputs": [
    {
     "name": "stderr",
     "output_type": "stream",
     "text": [
      "┌ Info: MeshCat server started. You can open the visualizer by visiting the following URL in your browser:\n",
      "│ http://127.0.0.1:8717\n",
      "└ @ MeshCat C:\\Users\\karen\\.julia\\packages\\MeshCat\\Ax8pH\\src\\visualizer.jl:73\n"
     ]
    },
    {
     "data": {
      "text/plain": [
       "Process(`\u001b[4mcmd.exe\u001b[24m \u001b[4m/C\u001b[24m \u001b[4m'start http://127.0.0.1:8717'\u001b[24m`, ProcessExited(0))"
      ]
     },
     "execution_count": 3,
     "metadata": {},
     "output_type": "execute_result"
    }
   ],
   "source": [
    "# # Initialize the renderer\n",
    "V.setup_visualizer()"
   ]
  },
  {
   "cell_type": "code",
   "execution_count": 4,
   "id": "ed750894",
   "metadata": {},
   "outputs": [
    {
     "data": {
      "text/plain": [
       "21-element Vector{String}:\n",
       " \"002_master_chef_can\"\n",
       " \"003_cracker_box\"\n",
       " \"004_sugar_box\"\n",
       " \"005_tomato_soup_can\"\n",
       " \"006_mustard_bottle\"\n",
       " \"007_tuna_fish_can\"\n",
       " \"008_pudding_box\"\n",
       " \"009_gelatin_box\"\n",
       " \"010_potted_meat_can\"\n",
       " \"011_banana\"\n",
       " \"019_pitcher_base\"\n",
       " \"021_bleach_cleanser\"\n",
       " \"024_bowl\"\n",
       " \"025_mug\"\n",
       " \"035_power_drill\"\n",
       " \"036_wood_block\"\n",
       " \"037_scissors\"\n",
       " \"040_large_marker\"\n",
       " \"051_large_clamp\"\n",
       " \"052_extra_large_clamp\"\n",
       " \"061_foam_brick\""
      ]
     },
     "execution_count": 4,
     "metadata": {},
     "output_type": "execute_result"
    }
   ],
   "source": [
    "# Loading the YCB object models\n",
    "YCB_DIR = joinpath(dirname(dirname(pwd())),\"data\")\n",
    "world_scaling_factor = 10.0\n",
    "id_to_cloud, id_to_shift, id_to_box  = T.load_ycbv_models_adjusted(YCB_DIR, world_scaling_factor);\n",
    "all_ids = sort(collect(keys(id_to_cloud)));\n",
    "names = T.load_ycb_model_list(YCB_DIR)"
   ]
  },
  {
   "cell_type": "code",
   "execution_count": 5,
   "id": "d736430a",
   "metadata": {},
   "outputs": [
    {
     "name": "stdout",
     "output_type": "stream",
     "text": [
      "gl_version_for_shaders = \"460\"\n",
      "true\n",
      "camera = GLRenderer.CameraIntrinsics\n",
      "  width: Int64 116\n",
      "  height: Int64 87\n",
      "  fx: Float64 116.36363636363636\n",
      "  fy: Float64 116.36363636363636\n",
      "  cx: Float64 58.18181818181818\n",
      "  cy: Float64 43.63636363636363\n",
      "  near: Float64 0.001\n",
      "  far: Float64 100.0\n",
      "\n"
     ]
    }
   ],
   "source": [
    "# Initialize the canera intrinsics and renderer that will render using those intrinsics.\n",
    "camera = GL.CameraIntrinsics()\n",
    "camera = T.scale_down_camera(camera, 5.5)\n",
    "camera_pose = IDENTITY_POSE\n",
    "\n",
    "renderer = GL.setup_renderer(camera, GL.DepthMode())\n",
    "resolution = 0.05\n",
    "\n",
    "@show camera;"
   ]
  },
  {
   "cell_type": "code",
   "execution_count": 6,
   "id": "7eca87fa",
   "metadata": {},
   "outputs": [
    {
     "name": "stdout",
     "output_type": "stream",
     "text": [
      "length(all_ids) = 21\n"
     ]
    },
    {
     "data": {
      "text/plain": [
       "21"
      ]
     },
     "execution_count": 6,
     "metadata": {},
     "output_type": "execute_result"
    }
   ],
   "source": [
    "\n",
    "# Load a cube (id = 1) and all ycb objects\n",
    "# box_mesh = GL.box_mesh_from_dims([2.0, 2.0, 2.0])\n",
    "# GL.load_object!(renderer, box_mesh)\n",
    "\n",
    "for id in all_ids\n",
    "    cloud = id_to_cloud[id]\n",
    "    mesh = GL.mesh_from_voxelized_cloud(GL.voxelize(cloud, resolution), resolution);\n",
    "    GL.load_object!(renderer, mesh)\n",
    "end\n",
    "\n",
    "@show length(all_ids)"
   ]
  },
  {
   "cell_type": "markdown",
   "id": "aea02c1b",
   "metadata": {},
   "source": [
    "## introductory visualizations\n",
    "to get a better sense of resolution effect on likelihood + qualitative results "
   ]
  },
  {
   "cell_type": "code",
   "execution_count": 7,
   "id": "b85f67e4",
   "metadata": {},
   "outputs": [
    {
     "name": "stdout",
     "output_type": "stream",
     "text": [
      "true\n"
     ]
    },
    {
     "data": {
      "image/png": "[encoded data removed]",
      "text/plain": [
       "87×116 Array{RGBA{Float64},2} with eltype RGBA{Float64}:\n",
       " RGBA{Float64}(0.3741,0.5564,1.0,1.0)  …  RGBA{Float64}(0.3741,0.5564,1.0,1.0)\n",
       " RGBA{Float64}(0.3741,0.5564,1.0,1.0)     RGBA{Float64}(0.3741,0.5564,1.0,1.0)\n",
       " RGBA{Float64}(0.3741,0.5564,1.0,1.0)     RGBA{Float64}(0.3741,0.5564,1.0,1.0)\n",
       " RGBA{Float64}(0.3741,0.5564,1.0,1.0)     RGBA{Float64}(0.3741,0.5564,1.0,1.0)\n",
       " RGBA{Float64}(0.3741,0.5564,1.0,1.0)     RGBA{Float64}(0.3741,0.5564,1.0,1.0)\n",
       " RGBA{Float64}(0.3741,0.5564,1.0,1.0)  …  RGBA{Float64}(0.3741,0.5564,1.0,1.0)\n",
       " RGBA{Float64}(0.3741,0.5564,1.0,1.0)     RGBA{Float64}(0.3741,0.5564,1.0,1.0)\n",
       " RGBA{Float64}(0.3741,0.5564,1.0,1.0)     RGBA{Float64}(0.3741,0.5564,1.0,1.0)\n",
       " RGBA{Float64}(0.3741,0.5564,1.0,1.0)     RGBA{Float64}(0.3741,0.5564,1.0,1.0)\n",
       " RGBA{Float64}(0.3741,0.5564,1.0,1.0)     RGBA{Float64}(0.3741,0.5564,1.0,1.0)\n",
       " RGBA{Float64}(0.3741,0.5564,1.0,1.0)  …  RGBA{Float64}(0.3741,0.5564,1.0,1.0)\n",
       " RGBA{Float64}(0.3741,0.5564,1.0,1.0)     RGBA{Float64}(0.3741,0.5564,1.0,1.0)\n",
       " RGBA{Float64}(0.3741,0.5564,1.0,1.0)     RGBA{Float64}(0.3741,0.5564,1.0,1.0)\n",
       " ⋮                                     ⋱  ⋮\n",
       " RGBA{Float64}(0.3741,0.5564,1.0,1.0)  …  RGBA{Float64}(0.3741,0.5564,1.0,1.0)\n",
       " RGBA{Float64}(0.3741,0.5564,1.0,1.0)     RGBA{Float64}(0.3741,0.5564,1.0,1.0)\n",
       " RGBA{Float64}(0.3741,0.5564,1.0,1.0)     RGBA{Float64}(0.3741,0.5564,1.0,1.0)\n",
       " RGBA{Float64}(0.3741,0.5564,1.0,1.0)     RGBA{Float64}(0.3741,0.5564,1.0,1.0)\n",
       " RGBA{Float64}(0.3741,0.5564,1.0,1.0)     RGBA{Float64}(0.3741,0.5564,1.0,1.0)\n",
       " RGBA{Float64}(0.3741,0.5564,1.0,1.0)  …  RGBA{Float64}(0.3741,0.5564,1.0,1.0)\n",
       " RGBA{Float64}(0.3741,0.5564,1.0,1.0)     RGBA{Float64}(0.3741,0.5564,1.0,1.0)\n",
       " RGBA{Float64}(0.3741,0.5564,1.0,1.0)     RGBA{Float64}(0.3741,0.5564,1.0,1.0)\n",
       " RGBA{Float64}(0.3741,0.5564,1.0,1.0)     RGBA{Float64}(0.3741,0.5564,1.0,1.0)\n",
       " RGBA{Float64}(0.3741,0.5564,1.0,1.0)     RGBA{Float64}(0.3741,0.5564,1.0,1.0)\n",
       " RGBA{Float64}(0.3741,0.5564,1.0,1.0)  …  RGBA{Float64}(0.3741,0.5564,1.0,1.0)\n",
       " RGBA{Float64}(0.3741,0.5564,1.0,1.0)     RGBA{Float64}(0.3741,0.5564,1.0,1.0)"
      ]
     },
     "metadata": {},
     "output_type": "display_data"
    },
    {
     "name": "stdout",
     "output_type": "stream",
     "text": [
      "names[i] = \"010_potted_meat_can\"\n"
     ]
    },
    {
     "data": {
      "text/plain": [
       "3×392 Matrix{Float64}:\n",
       " -0.105   0.14  -0.23   -0.3    -0.565  …  0.345  0.26  -0.375  0.145  -0.06\n",
       " -0.085  -0.0   -0.49   -0.2    -0.245     0.045  0.13  -0.07   0.06    0.085\n",
       "  2.47    2.56   3.105   2.535   3.175     2.62   2.64   2.48   2.59    2.545"
      ]
     },
     "execution_count": 7,
     "metadata": {},
     "output_type": "execute_result"
    }
   ],
   "source": [
    "#########\n",
    "# radius scaling\n",
    "#########\n",
    "bounds = (-100.0, 100.0, -100.0, 100.0,-100.0,100.0)\n",
    "\n",
    "i = 9 #rand(all_ids)\n",
    "pose = Pose([0.0, 0.0, 3.0], R.RotXYZ(0.4, -0.2, 0.4))\n",
    "\n",
    "# Reset the intrinsics inside of the renderer.\n",
    "GL.set_intrinsics!(renderer, camera) \n",
    "\n",
    "# And render the same image as above.\n",
    "gt_depth_image = GL.gl_render(renderer, [i], [pose], camera_pose)\n",
    "IJulia.display(GL.view_depth_image(gt_depth_image))\n",
    "\n",
    "# Create point cloud corresponding to that rendered depth image.\n",
    "gt_cloud = GL.depth_image_to_point_cloud(gt_depth_image, camera)\n",
    "# print(size(gt_cloud))\n",
    "\n",
    "\n",
    "@show names[i]\n",
    "\n",
    "radius = 0.01  # \"tight\" radius\n",
    "sampled_cloud = T.voxelize(Gen.random(T.uniform_mixture_from_template, gt_cloud, 0.0001, radius, bounds), 0.005)\n",
    "# Visualize that point cloud.\n",
    "# V.setup_visualizer()\n",
    "# V.viz(sampled_cloud, color=I.colorant\"red\", channel_name=:origin)  # = V.viz(T.move_points_to_frame_b(c, camera_pose))\n",
    "\n",
    "\n",
    "# function move_points_to_frame_b(points_in_frame_a::Matrix{<:Real}, b_relative_to_a::Pose)\n",
    "#     if size(points_in_frame_a)[1] != 3\n",
    "#         error(\"expected an 3 x n matrix\")\n",
    "#     end\n",
    "#     n = size(points_in_frame_a[2])\n",
    "#     return b_relative_to_a.orientation * points_in_frame_a .+ b_relative_to_a.pos\n",
    "# end\n",
    "\n",
    " \n",
    "# radius = float(1)  # \"loose\" radius (can still pick out general shape)\n",
    "# sampled_cloud = Gen.random(T.uniform_mixture_from_template, gt_cloud, 0.0001, radius, bounds)\n",
    "# # Visualize that point cloud.\n",
    "# # V.setup_visualizer()\n",
    "# # V.viz(sampled_cloud)  # = V.viz(T.move_points_to_frame_b(c, camera_pose))\n",
    "\n",
    " \n",
    "# radius = float(10)  # very loose radius; points on a sphere (w/ some concentration on center with shape of obj)\n",
    "# sampled_cloud = Gen.random(T.uniform_mixture_from_template, gt_cloud, 0.0001, radius, bounds)\n",
    "# # # Visualize that point cloud.\n",
    "# # V.setup_visualizer()\n",
    "# # V.viz(sampled_cloud)  # = V.viz(T.move_points_to_frame_b(c, camera_pose))"
   ]
  },
  {
   "cell_type": "code",
   "execution_count": 8,
   "id": "4deb070c",
   "metadata": {},
   "outputs": [],
   "source": [
    "# ########\n",
    "# # camera downscaling\n",
    "# ########\n",
    "# using IJulia\n",
    "\n",
    "# final = 24\n",
    "# for downscale_factor=1:3.0:final\n",
    "#     println(\"scale down by $downscale_factor\")\n",
    "    \n",
    "#     # scale camera according to resolution; reset renderer\n",
    "#     scaled_camera = GL.scale_down_camera(camera, downscale_factor)\n",
    "        \n",
    "#     # Set the renderer to now have those scaled down intrinsics.\n",
    "#     GL.set_intrinsics!(renderer, scaled_camera)\n",
    " \n",
    "#     d = GL.gl_render(renderer, [i], [pose], IDENTITY_POSE)\n",
    "\n",
    "#     img = GL.view_depth_image(d)\n",
    "#     img = I.imresize(img, (camera.height, camera.width));\n",
    "#     IJulia.display(img)\n",
    "  \n",
    "#     # revert intrinsics\n",
    "#     GL.set_intrinsics!(renderer, camera)\n",
    "\n",
    "# end\n"
   ]
  },
  {
   "cell_type": "markdown",
   "id": "9d56301b",
   "metadata": {},
   "source": [
    "# Intro demo of coarse-to-fine with particle filtering"
   ]
  },
  {
   "cell_type": "markdown",
   "id": "3e9be6e7",
   "metadata": {},
   "source": [
    "## Particle Filtering + Orientation enumeration"
   ]
  },
  {
   "cell_type": "markdown",
   "id": "3652db75",
   "metadata": {},
   "source": [
    "### Cloud visualization / generation helpers"
   ]
  },
  {
   "cell_type": "code",
   "execution_count": 9,
   "id": "40f23381",
   "metadata": {},
   "outputs": [
    {
     "data": {
      "text/plain": [
       "viz_trace (generic function with 1 method)"
      ]
     },
     "execution_count": 9,
     "metadata": {},
     "output_type": "execute_result"
    }
   ],
   "source": [
    "function viz_trace(trace)\n",
    "    V.setup_visualizer()\n",
    "    V.viz(Gen.get_retval(trace).voxelized_cloud  ./ 10.0; color=I.colorant\"red\", channel_name=:gen);\n",
    "    V.viz(Gen.get_retval(trace).obs_cloud ./ 10.0; color=I.colorant\"blue\", channel_name=:obs);\n",
    "end"
   ]
  },
  {
   "cell_type": "code",
   "execution_count": 10,
   "id": "3329c5ef",
   "metadata": {},
   "outputs": [
    {
     "data": {
      "text/plain": [
       "get_cloud_nocache (generic function with 1 method)"
      ]
     },
     "execution_count": 10,
     "metadata": {},
     "output_type": "execute_result"
    }
   ],
   "source": [
    "# Helper function to get point cloud from the object ids, object poses, and camera pose\n",
    "# (see demo.jl)\n",
    "function get_cloud_nocache(poses, ids)\n",
    "    depth_image = GL.gl_render(renderer, ids, poses, camera_pose)\n",
    "    cloud = GL.depth_image_to_point_cloud(depth_image, renderer.camera_intrinsics)\n",
    "    if isnothing(cloud)\n",
    "        cloud = zeros(3,1)\n",
    "    else\n",
    "        cloud = T.move_points_to_frame_b(cloud, camera_pose)\n",
    "    end\n",
    "    cloud\n",
    "end"
   ]
  },
  {
   "cell_type": "code",
   "execution_count": 11,
   "id": "8f0c7685",
   "metadata": {},
   "outputs": [
    {
     "data": {
      "text/plain": [
       "get_cloud_func_cached (generic function with 1 method)"
      ]
     },
     "execution_count": 11,
     "metadata": {},
     "output_type": "execute_result"
    }
   ],
   "source": [
    "function get_cloud_func_cached(p, id)\n",
    "    idx1 = argmin(sum((dirs .- (p.orientation * [1,0,0])).^2, dims=1))[2]\n",
    "    idx2 = argmin([abs(R.rotation_angle(inv(p.orientation) * r)) for r in rotations_to_enumerate_over[idx1,:]])\n",
    "    # closest_orientation = rotations_to_enumerate_over[idx1,idx2]\n",
    "    c = T.move_points_to_frame_b(cloud_lookup[id][idx1,idx2], p)\n",
    "end"
   ]
  },
  {
   "cell_type": "code",
   "execution_count": 12,
   "id": "2141e139",
   "metadata": {},
   "outputs": [],
   "source": [
    "# # test caching vs cloud\n",
    "\n",
    "# # Render depth from random id, pose\n",
    "# test_id, test_pose = rand(all_ids), T.uniformPose(-3.0, 3.0, -2.0, 2.0, 6.0, 12.0)\n",
    "# gt_depth = T.GL.gl_render(renderer, [test_id], [test_pose], IDENTITY_POSE);\n",
    "# # Convert to point cloud.\n",
    "# # gt_cloud = T.GL.depth_image_to_point_cloud(gt_depth, camera)\n",
    "\n",
    "# cached_cloud = get_cloud_func_cached(test_pose, test_id);\n",
    "# non_cached_cloud = get_cloud_nocache([test_pose], [test_id]);\n",
    "\n",
    "# V.setup_visualizer()\n",
    "# V.viz(T.voxelize(cached_cloud, 0.005)  ./ 10.0; color=I.colorant\"red\", channel_name=:gen);\n",
    "# V.viz(T.voxelize(non_cached_cloud, 0.005)./ 10.0; color=I.colorant\"blue\", channel_name=:obs);"
   ]
  },
  {
   "cell_type": "code",
   "execution_count": 13,
   "id": "daae9974",
   "metadata": {},
   "outputs": [
    {
     "data": {
      "text/plain": [
       "generate_cloud_cache (generic function with 1 method)"
      ]
     },
     "execution_count": 13,
     "metadata": {},
     "output_type": "execute_result"
    }
   ],
   "source": [
    "# generate cached renderings of all objects at all rotations, positioned at reference frame\n",
    "function generate_cloud_cache()\n",
    "    cloud_lookup = []\n",
    "    @showprogress for id in all_ids\n",
    "        cloud = \n",
    "        [\n",
    "            let\n",
    "                position = [0.0, 0.0, 10.0]\n",
    "                pose = Pose(position, rotations_to_enumerate_over[i,j])\n",
    "                d = T.GL.gl_render(renderer, [id], [pose], IDENTITY_POSE);\n",
    "                c = T.GL.depth_image_to_point_cloud(d, camera)\n",
    "                c = T.get_points_in_frame_b(c, pose)  # gets the cloud in the render pose reference frame\n",
    "            end\n",
    "            for i = 1:size(rotations_to_enumerate_over,1), j = 1:size(rotations_to_enumerate_over,2)\n",
    "        ]\n",
    "        push!(cloud_lookup, cloud)    \n",
    "    end \n",
    "    \n",
    "    return cloud_lookup\n",
    "end\n"
   ]
  },
  {
   "cell_type": "markdown",
   "id": "3635f841",
   "metadata": {},
   "source": [
    "### Model helpers"
   ]
  },
  {
   "cell_type": "code",
   "execution_count": 14,
   "id": "2e2164c6",
   "metadata": {},
   "outputs": [
    {
     "data": {
      "text/plain": [
       "icp_move_no_unexplained (generic function with 1 method)"
      ]
     },
     "execution_count": 14,
     "metadata": {},
     "output_type": "execute_result"
    }
   ],
   "source": [
    "function icp_move_no_unexplained(trace, i, inf_radius, renderer, cam_pose; iterations=10)\n",
    "    # get_cloud_func needs to give the points in the world frame\n",
    "#     get_cloud_func = (poses, ids, cam_pose) -> get_cloud_nocache([poses], [ids])  \n",
    "    get_cloud_func = (pose, id, cam_pose) -> get_cloud_func_cached(pose, id);\n",
    "\n",
    "    id = Gen.get_choices(trace)[:id]  \n",
    "    addr = T.floating_pose_addr(1)\n",
    "    \n",
    "    obs_cloud = T.move_points_to_frame_b(T.get_obs_cloud(trace), cam_pose)\n",
    "    c1_tree = NearestNeighbors.KDTree(obs_cloud);\n",
    "\n",
    "    refined_pose = trace[addr]\n",
    "    \n",
    "    refined_pose = T.icp_object_pose(\n",
    "        refined_pose,\n",
    "        obs_cloud,\n",
    "        p -> T.voxelize(get_cloud_func(p, id, cam_pose), v_resolution(inf_radius)),\n",
    "        c1_tree=c1_tree,\n",
    "        iterations=iterations\n",
    "    );\n",
    "\n",
    "    acceptances = false\n",
    "     \n",
    "    for _ in 1:iterations\n",
    "        trace, acc = T.pose_mixture_move(\n",
    "            trace, addr, [trace[addr], refined_pose], [0.5, 0.5], 1e-2, 5000.0\n",
    "        )\n",
    "        acceptances = acc || acceptances\n",
    "    end\n",
    "    \n",
    "    trace, acceptances, refined_pose\n",
    "end"
   ]
  },
  {
   "cell_type": "code",
   "execution_count": 15,
   "id": "9c4a5277",
   "metadata": {},
   "outputs": [
    {
     "data": {
      "text/plain": [
       "generate_initial_pf_state_from_enum"
      ]
     },
     "execution_count": 15,
     "metadata": {},
     "output_type": "execute_result"
    }
   ],
   "source": [
    "\"\"\"Selecting from a set of traces over all enumerated angles, generate a set of initial particles\"\"\"\n",
    "Gen.@gen function generate_initial_pf_state_from_enum(scored_traces, num_particles, U=Gen.DynamicDSLTrace{Gen.DynamicDSLFunction{Any}})\n",
    "    # unpack traces\n",
    "    traces = (t -> t[1]).(scored_traces)\n",
    "    log_weights = (t -> t[1].score).(scored_traces)#(t -> t[2]).(scored_traces)  \n",
    "    \n",
    "    _, norm_log_weights = Gen.normalize_weights(log_weights)       \n",
    "    \n",
    "    # sample initial set of particles\n",
    "    selected_traces = Vector{Gen.DynamicDSLTrace{Gen.DynamicDSLFunction{Any}}}(undef, num_particles)\n",
    "    selected_log_weights = Vector{Float64}(undef, num_particles)\n",
    "    for i=1:num_particles\n",
    "        trace_idx = Gen.random(Gen.categorical, exp.(norm_log_weights))   \n",
    "        selected_traces[i] = traces[trace_idx]\n",
    "        selected_log_weights[i] = norm_log_weights[trace_idx]\n",
    "    end\n",
    "    \n",
    "    println(\"Initial particle state computed\"); flush(stdout)\n",
    "\n",
    "#     # visualize pdf of initial weights (?)\n",
    "#     plot(selected_log_weights, seriestype=:stephist, fmt = :png)\n",
    "    \n",
    "    # see intermediate results\n",
    "    top_n = min(5, num_particles-1)\n",
    "    _, norm_log_weights = Gen.normalize_weights(selected_log_weights)\n",
    "    p = sortperm(norm_log_weights)[end-top_n:end]; \n",
    "\n",
    "    best_trace = selected_traces[argmax(norm_log_weights)];\n",
    "    if vis\n",
    "        viz_trace(best_trace);\n",
    "    end\n",
    "    println(\"top$top_n traces:\")\n",
    "    for idx in p\n",
    "       println(\"curr_weight=\", norm_log_weights[idx], \" ori=\", R.params(Gen.get_retval(selected_traces[idx]).ori), \" id=\", Gen.get_retval(selected_traces[idx]).id) \n",
    "    end\n",
    "    flush(stdout)\n",
    "    \n",
    "    return Gen.ParticleFilterState{U}(selected_traces, Vector{U}(undef, num_particles), selected_log_weights, 0., collect(1:num_particles))\n",
    "\n",
    "end"
   ]
  },
  {
   "cell_type": "code",
   "execution_count": 16,
   "id": "f1d1ec7a",
   "metadata": {},
   "outputs": [
    {
     "data": {
      "text/plain": [
       "generate_initial_pf_state"
      ]
     },
     "execution_count": 16,
     "metadata": {},
     "output_type": "execute_result"
    }
   ],
   "source": [
    "\"\"\"Selecting from a set of traces over all enumerated angles, generate a set of initial particles\"\"\"\n",
    "Gen.@gen function generate_initial_pf_state(scored_traces, num_particles, U=Gen.DynamicDSLTrace{Gen.DynamicDSLFunction{Any}})\n",
    "    # unpack traces\n",
    "    traces = (t -> t[1]).(scored_traces)\n",
    "    log_weights = (t -> t[1].score).(scored_traces)#(t -> t[2]).(scored_traces)  \n",
    "    \n",
    "     _, norm_log_weights = Gen.normalize_weights(log_weights)    \n",
    "    flush(stdout)\n",
    "    \n",
    "    # sample initial set of particles\n",
    "    num_particles_per_obj = num_particles ÷ num_candidate_objs\n",
    "    selected_traces = Vector{Gen.DynamicDSLTrace{Gen.DynamicDSLFunction{Any}}}(undef, num_particles_per_obj * num_candidate_objs)\n",
    "    selected_log_weights = Vector{Float64}(undef, num_particles_per_obj * num_candidate_objs)\n",
    "        \n",
    "    stepsize = num_rotations_to_enumerate_over ÷ num_candidate_objs\n",
    "    for i=0:num_candidate_objs-1\n",
    "        for j = 1:num_particles_per_obj\n",
    "            trace_idx = stepsize * i + \n",
    "                        Gen.random(Gen.categorical, \n",
    "                        exp.(Gen.normalize_weights(log_weights[stepsize*i+1:stepsize*(i+1)])[2]))   \n",
    "            selected_traces[num_particles_per_obj*i+j] = traces[trace_idx]\n",
    "            selected_log_weights[num_particles_per_obj*i+j] = norm_log_weights[trace_idx]\n",
    "        end        \n",
    "    end\n",
    "     \n",
    "    \n",
    "    println(\"Initial particle state computed ($num_particles_per_obj particles per object)\"); flush(stdout)\n",
    "\n",
    "    \n",
    "    # see intermediate results\n",
    "    top_n = min(10, num_particles-1)\n",
    "    _, norm_log_weights = Gen.normalize_weights(selected_log_weights)\n",
    "    p = sortperm(norm_log_weights)[end-top_n:end]; \n",
    "\n",
    "    best_trace = selected_traces[argmax(norm_log_weights)];\n",
    "    if vis\n",
    "        viz_trace(best_trace);\n",
    "    end\n",
    "    if topnprint\n",
    "        println(\"top$top_n traces:\")\n",
    "        for idx in p\n",
    "           println(\"curr_weight=\", norm_log_weights[idx], \" ori=\", R.params(Gen.get_retval(selected_traces[idx]).ori), \" id=\", Gen.get_retval(selected_traces[idx]).id) \n",
    "        end\n",
    "        flush(stdout)\n",
    "    end\n",
    "    \n",
    "    return Gen.ParticleFilterState{U}(selected_traces, Vector{U}(undef, num_particles), selected_log_weights, 0., collect(1:num_particles))\n",
    "\n",
    "end"
   ]
  },
  {
   "cell_type": "markdown",
   "id": "71d76283",
   "metadata": {},
   "source": [
    "consider doing 20x random pose initialization+ICP moves"
   ]
  },
  {
   "cell_type": "code",
   "execution_count": 17,
   "id": "a4c88c75",
   "metadata": {},
   "outputs": [
    {
     "data": {
      "text/plain": [
       "particle_filter_step!"
      ]
     },
     "execution_count": 17,
     "metadata": {},
     "output_type": "execute_result"
    }
   ],
   "source": [
    "\"\"\"adapted from gen pf_step:\n",
    "Perform a particle filter update, where the model arguments are adjusted, new observations are added, and the default proposal is used for new latent state.\n",
    "\"\"\"\n",
    "function particle_filter_step!(state::Gen.ParticleFilterState{U}, new_args::Tuple, argdiffs::Tuple,\n",
    "        observations) where {U}    \n",
    "    log_incremental_weights = Vector{Float64}(undef, num_particles) \n",
    "    radius::Float64 = new_args[1]\n",
    "#     centroid::Vector{Float64} = new_args[end]\n",
    "    \n",
    "    @Threads.threads for i=1:num_particles\n",
    "    ## do mh, drift moves, etc. tune particle before update (i.e. new likelihood)\n",
    "        state.traces[i], acc, _ = icp_move_no_unexplained(state.traces[i], Gen.get_retval(state.traces[i]).id, \n",
    "                                            radius, renderer, camera_pose; iterations=15)\n",
    "\n",
    "        state.traces[i], acc = T.drift_move(state.traces[i], T.floating_pose_addr(1), 0.001, 100.0)\n",
    "        state.traces[i], acc = T.drift_move(state.traces[i], T.floating_pose_addr(1), 0.0005, 100.0)\n",
    "        state.traces[i], acc = T.drift_move(state.traces[i], T.floating_pose_addr(1), 0.0005, 500.0)\n",
    "        state.traces[i], acc = T.drift_move(state.traces[i], T.floating_pose_addr(1), 0.001, 1000.0)\n",
    "        state.traces[i], acc = T.drift_move(state.traces[i], T.floating_pose_addr(1), 0.0005, 1000.0)\n",
    "        \n",
    "        \n",
    "        # evolve the particle (with new radius involved in new_args)\n",
    "        (state.new_traces[i], increment, _, discard) = Gen.update(\n",
    "            state.traces[i], new_args, argdiffs, observations)\n",
    "#         if !isempty(discard)\n",
    "#             error(\"Choices were updated or deleted inside particle filter step: $discard\")\n",
    "#         end\n",
    "        log_incremental_weights[i] = increment\n",
    "        state.log_weights[i] += increment\n",
    "    end\n",
    "    \n",
    "    # swap references\n",
    "    tmp = state.traces\n",
    "    state.traces = state.new_traces\n",
    "    state.new_traces = tmp\n",
    "    \n",
    "    return log_incremental_weights\n",
    "end"
   ]
  },
  {
   "cell_type": "code",
   "execution_count": 18,
   "id": "31c8e92f",
   "metadata": {},
   "outputs": [
    {
     "data": {
      "text/plain": [
       "model"
      ]
     },
     "execution_count": 18,
     "metadata": {},
     "output_type": "execute_result"
    }
   ],
   "source": [
    "bounds = (-100.0, 100.0, -100.0, 100.0,-100.0,300.0)\n",
    "\n",
    "v_resolution = radius -> radius * 0.6  # distance between two points on the pointcloud \n",
    "\n",
    "\"\"\"sample point clouds at the given camera resolution and radius\"\"\"\n",
    "Gen.@gen function model(radius, renderer, centroid)\n",
    "    \n",
    "    # sample object id\n",
    "    i = {:id} ~ Gen.categorical(fill(1.0/num_candidate_objs, (num_candidate_objs,)))\n",
    "    \n",
    "    # sample pose\n",
    "    xc, yc, zc = centroid\n",
    "    delta = 0.9\n",
    "    p = {T.floating_pose_addr(1)} ~ T.uniformPose(xc-delta, xc+delta, yc-delta, yc+delta, zc-delta, zc+delta)\n",
    "#     gt_cloud = get_cloud_nocache([p], [i])    \n",
    "    gt_cloud = get_cloud_func_cached(p, i);\n",
    "\n",
    "    voxelized_cloud = GL.voxelize(gt_cloud, v_resolution(radius))\n",
    "    obs_cloud = {T.obs_addr()} ~ T.uniform_mixture_from_template(voxelized_cloud, 0.0001, radius, bounds)\n",
    "         \n",
    "    (id=i, pose=p, pos=p.pos, ori=p.orientation, cloud=gt_cloud, voxelized_cloud=voxelized_cloud, rendered_clouds=[voxelized_cloud], obs_cloud=obs_cloud)\n",
    "\n",
    "end\n",
    " "
   ]
  },
  {
   "cell_type": "markdown",
   "id": "6b463d3c",
   "metadata": {},
   "source": [
    "### control resolution with radius (fixed camera intrinsics)"
   ]
  },
  {
   "cell_type": "code",
   "execution_count": 19,
   "id": "2f3ac3b7",
   "metadata": {},
   "outputs": [
    {
     "data": {
      "text/plain": [
       "particle_filter"
      ]
     },
     "execution_count": 19,
     "metadata": {},
     "output_type": "execute_result"
    }
   ],
   "source": [
    "\"\"\"Particle filter on the evolution of agent knowledge over time; resolution control with radius\"\"\"\n",
    "function particle_filter(renderer, init_radius::Float64, final_radius::Float64, radius_step::Float64, scored_traces,\n",
    "                        gt_obj_id::Int, gt_pose::Pose, centroid, num_particles::Int, num_samples::Int, U=Gen.DynamicDSLTrace{Gen.DynamicDSLFunction{Any}})\n",
    "    \n",
    "    # initialize renderer and particle filter\n",
    "    GL.set_intrinsics!(renderer, camera)  \n",
    "#     gt_cloud = get_cloud_nocache([gt_pose], [gt_obj_id])\n",
    "    gt_cloud = get_cloud_func_cached(gt_pose, gt_obj_id)\n",
    "    gt_voxelized_cloud = GL.voxelize(gt_cloud, v_resolution(init_radius))\n",
    "    \n",
    "    println(\"\\ninitializing particle filter at radius $init_radius\") \n",
    "    flush(stdout)\n",
    "    \n",
    "    \n",
    "    # initialize a state of initial particles with various rotations  \n",
    "#     state::Gen.ParticleFilterState{U} = generate_initial_pf_state_from_enum(scored_traces, num_particles)\n",
    "    state::Gen.ParticleFilterState{U} = generate_initial_pf_state(scored_traces, num_particles)\n",
    "\n",
    "    \n",
    "    # evolve over resolutions (modify sphere radius `r` of mixture point cloud likelihood)\n",
    "    @assert(radius_step < 0.0)\n",
    "    for radius in init_radius+radius_step:radius_step:final_radius-eps()\n",
    "        println(\"\\n========Radius=$radius========\"); flush(stdout)\n",
    "        Gen.maybe_resample!(state, ess_threshold=num_particles/3, verbose=true)  \n",
    "        \n",
    "        # update pf \n",
    "        gt_voxelized_cloud = GL.voxelize(gt_cloud, v_resolution(radius))\n",
    "        observations = Gen.choicemap(T.obs_addr() => gt_voxelized_cloud) \n",
    "        current_log_weights = particle_filter_step!(state, (radius, renderer, centroid),   \n",
    "                                                    (Gen.UnknownChange(),), observations)    \n",
    "        \n",
    "        # see intermediate results\n",
    "        top_n = min(5, num_particles-1)\n",
    "        _, norm_log_weights = Gen.normalize_weights(current_log_weights)\n",
    "        p = sortperm(norm_log_weights)[end-top_n:end]; \n",
    "        \n",
    "        best_trace = state.traces[argmax(norm_log_weights)];\n",
    "        \n",
    "        if vis\n",
    "            viz_trace(best_trace);\n",
    "        end\n",
    "        if topnprint\n",
    "            println(\"top$top_n traces:\")\n",
    "            for idx in p\n",
    "               println(\"weight=\", norm_log_weights[idx], \" ori=\", (Gen.get_retval(state.traces[idx]).ori)[1:3], \"  id=\", Gen.get_retval(state.traces[idx]).id) \n",
    "            end\n",
    "            flush(stdout)\n",
    "        end\n",
    "        \n",
    "    end;\n",
    "    \n",
    "    # normalize final weights\n",
    "    log_total_weight, norm_weights = Gen.normalize_weights(state.log_weights)\n",
    "    return [norm_weights, Gen.sample_unweighted_traces(state, num_samples)]\n",
    "    \n",
    "end"
   ]
  },
  {
   "cell_type": "code",
   "execution_count": 20,
   "id": "3b74026f",
   "metadata": {
    "collapsed": true
   },
   "outputs": [
    {
     "name": "stdout",
     "output_type": "stream",
     "text": [
      "num_rotations_to_enumerate_over = length(rotations_to_enumerate_over) = 1620\n"
     ]
    },
    {
     "data": {
      "text/plain": [
       "(Any[[[-0.2500052314967793 -0.17029341855577715 … 0.06884202026722949 0.1485538332082316; 0.45290802807387553 0.45290802807387553 … -0.5036337272181499 -0.5036337272181499; -0.724443585047025 -0.724443585047025 … -0.724443585047025 -0.724443585047025] [-0.25139509622715267 -0.17124013800979956 … 0.07668533776224228 0.16547888675010136; 0.46572951501660986 0.46572951501660986 … -0.5250323923979444 -0.5250323923979444; -0.7229848708923042 -0.7229848708923042 … 0.38668785204110306 0.38668785204110306] … [-0.10077763254215505 -0.012093315905058447 … 0.1501308608590783 0.23068888375907134; 0.5244332930998056 0.5244332930998056 … -0.4656450950264893 -0.4656450950264893; 0.4222261572526419 0.4222261572526419 … -0.7228937347257967 -0.7228937347257967] [-0.2851623045275309 -0.16954354682143047 … 0.1492137887454333 0.229279724169812; 0.4666255964320747 0.5129417674297162 … -0.44735216263589384 -0.44735216263589384; 0.6208532691881895 -0.7251752229184216 … -0.7229065699860315 -0.7229065699860315]; [-0.17499475942948833 -0.16657545664530102 … -0.1367222881494186 -0.05641814005683594; 0.4784660119335192 0.524715754920354 … -0.5077552485606857 -0.5170406637330425; 0.6269336904279282 -0.36597148851734534 … -0.7260028696707022 -0.7242662231849695] [0.13460235180865454 -0.19224512378740508 … 0.026423882677376984 0.10600931385585231; 0.5192595588105795 0.4717834801049192 … -0.5124778789730127 -0.5211128152883787; -0.7271372370166826 -0.7269439699963862 … -0.7232161134529039 -0.7257418405802931] … [0.019801858398000194 0.10658367563058789 … 0.027181460318057377 0.10880298525101957; 0.5251065829458033 0.5242927868781879 … -0.5017707656397399 -0.5115024229389707; 0.6927904626146097 0.6563036883217375 … -0.7252545463830519 -0.7251466941185559] [-0.17194300264723852 -0.08776146630998434 … 0.02844727203479968 0.108880122483541; 0.5245103366536753 0.5244458162216221 … -0.47495930005255044 -0.4831325932743158; 0.5958004557794992 0.5277732688017112 … -0.7234320391485747 -0.7274862491018963]; … ; [0.27523604367152327 0.21269609096240588 … -0.06593814881617678 -0.13806798438837525; -0.4726732995077795 -0.444040700263411 … 0.5249216891792766 0.525085471780402; -0.5078754329471655 -0.7250203035517555 … 0.28719408185385376 0.1488190555960018] [0.13693466729254908 0.36809624922479706 … -0.04278280898426627 -0.12296443536411293; -0.5193833039508076 -0.41517341964437315 … 0.5042639916844572 0.49698038724796156; -0.7211868244927196 -0.7267664429443895 … -0.7260111023998044 -0.724060485799909] … [0.1367023142133942 0.054729717882953714 … -0.17029306395025223 -0.2820948808178693; -0.5098376484270922 -0.520792362034953 … 0.5247326392728596 0.47425408728704477; -0.7269895252843678 -0.7223941337143623 … 0.46465362112613007 0.6405980006769105] [0.21598239521758278 0.1353283307997572 … -0.12695595494276635 -0.24936159838072963; -0.47393850952306776 -0.4827584371781347 … 0.5245692095634326 0.47514446410806577; -0.7240501121969385 -0.7235673471997713 … 0.09701298137008642 0.3830343339836721]; [0.25000523149677906 0.17029341855577693 … -0.06884202026722927 -0.14855383320823137; -0.45290802807387565 -0.45290802807387565 … 0.5036337272181499 0.5036337272181499; -0.724443585047025 -0.724443585047025 … -0.724443585047025 -0.724443585047025] [0.2849825925245018 0.16963691943393333 … -0.06926324245163308 -0.1494627863429975; -0.45646237558315145 -0.5248016354255023 … 0.5173249965119964 0.5173249965119964; 0.6219445315199699 -0.7113629464693979 … -0.7229474861679422 -0.7229474861679422] … [0.17219744258569766 0.09159438435409432 … -0.16130658371211126 -0.2572829386295657; -0.49574357300617855 -0.49574357300617855 … 0.5246347431113986 0.4753340837802727; -0.7231401976072114 -0.7231401976072114 … 0.17024292329150842 0.5504700627390804] [0.17104995295208134 0.09098401752770263 … -0.07832538329695884 -0.16901793237764784; -0.47636637179514274 -0.47636637179514274 … 0.5250559982170501 0.5250559982170501; -0.7253257084443718 -0.7253257084443718 … 0.5990127193194049 0.5990127193194049]], [[-0.31726346641390407 -0.24056240859955363 … 0.21964393828654943 0.29634499610089987; 0.8193067539260159 0.819306753926016 … -0.7914154601753434 -0.7914154601753433; -1.074785999784675 -1.074785999784675 … -1.074785999784675 -1.074785999784675] [-0.32033083275026963 -0.24288821384361103 … 0.21779018181910953 0.29384389610514766; 0.8014661502323066 0.8014661502323066 … -0.819961612786388 -0.819961612786388; -1.0738732518811223 -1.0738732518811223 … -1.073617291937025 -1.073617291937025] … [-0.29235232132580286 -0.19913853771467727 … 0.22356875561683082 0.3016403845623906; 0.8247971462597348 0.8247971462597348 … -0.7788761810092146 -0.7788761810092146; 1.0139061673350656 1.0139061673350656 … -1.075172713147536 -1.075172713147536] [-0.3150844289710213 -0.23891017141758758 … 0.22129205612052608 0.29856864714674136; 0.7534409756013476 0.7534409756013476 … -0.7878673850206819 -0.7878673850206819; -1.0772083149000136 -1.0772083149000136 … -1.0770024629474149 -1.0770024629474149]; [-0.028139417287016064 0.023314326946333112 … 0.19073101408890947 0.2689625654007942; 0.8242512085322362 0.8250231124844615 … -0.804773753829875 -0.8140991165728624; 0.8756516175493707 0.4408324114176778 … -1.0734817462012725 -1.072172449557597] [-0.028083045207615356 0.048874581134721554 … 0.11100364368580586 0.18774602654558192; 0.8222185592708958 0.8150340021476639 … -0.8135931810109132 -0.8220754519611106; -1.0766686835482882 -1.0745592974158635 … -1.0715791325671737 -1.074199115239789] … [0.08086358576536688 0.16876823467716534 … 0.11785473987307271 0.19751162054200155; 0.8251242533176382 0.824813720158708 … -0.8074262501848075 -0.8172478882884926; 1.0303776902523951 0.9854565007053799 … -1.0756988978564261 -1.0759791366740317] [0.07918294196795558 0.16344952662206402 … 0.19314957421157725 0.2721078200474325; 0.8253384421759006 0.8248810130202539 … -0.8134491590231605 -0.8230476800476312; 1.0094302451094503 0.9228632859101548 … -1.0706771249005305 -1.0700704673670791]; … ; [0.2777958211787428 0.20036886540535487 … -0.24513117873468493 -0.3220460314540037; -0.7737150042718696 -0.7823804720799621 … 0.8050201717307516 0.7981456925767515; -1.0741072030783498 -1.0733616511319946 … -1.0737883899339706 -1.0730527633285656] [0.3249979029986818 0.27750367690060007 … -0.26346473399979725 -0.3483975466220765; -0.8224019212002937 -0.7912062816557532 … 0.7751220951304006 0.7717935964248376; -0.6955178800497549 -1.076856636420883 … -1.0734568375260707 -1.024305552930915] … [0.27798809031556604 0.19899225850387614 … -0.2278769467767035 -0.31301680214643485; -0.7860152419617712 -0.7950889457109432 … 0.824598028005074 0.8253671362318046; -1.0731125685183716 -1.0738393529311225 … 0.7535146793504373 0.710128395037755] [0.27890323571710324 0.20080667090009438 … -0.2798156096962972 -0.3587485009659189; -0.7807794190592103 -0.7896594222580025 … 0.8250841913351301 0.8252221869180272; -1.074464105760489 -1.074375728845259 … 0.4171713968184816 0.3447776560421463]; [0.31726346641390374 0.24056240859955325 … -0.2196439382865491 -0.29634499610089954; -0.8193067539260162 -0.819306753926016 … 0.7914154601753434 0.7914154601753435; -1.074785999784675 -1.074785999784675 … -1.074785999784675 -1.074785999784675] [0.2740999473292771 0.18670576122429008 … -0.22164844730171215 -0.29904949239119893; -0.824985178840613 -0.824985178840613 … 0.7724947339072984 0.7724947339072984; 0.25313098185166627 0.25313098185166627 … -1.0758283844671979 -1.0758283844671979] … [0.3231076048656319 0.24499367841459987 … -0.25824848960071006 -0.34843050184222785; -0.808214878928107 -0.808214878928107 … 0.8249741261317038 0.824974126131704; -1.075602421986564 -1.075602421986564 … 0.6551478788530495 0.6551478788530495] [0.31981549277780974 0.24249746155680074 … -0.2180201883569935 -0.29415422238641975; -0.8167538854106604 -0.8167538854106604 … 0.8017632734323021 0.8017632734323021; -1.0745720892600779 -1.0745720892600779 … -1.0778761087175703 -1.0778761087175703]], [[-0.16760619500485302 -0.08915223138556003 … 0.14620965947231904 0.22466362309161203; 0.4457611569278008 0.44576115692780083 … -0.4172324428844218 -0.4172324428844218; -0.8708115061186366 -0.8708115061186366 … -0.8708115061186366 -0.8708115061186366] [-0.1684310404416201 -0.08959097895830848 … 0.07144911318959224 0.15417966530385657; 0.44171237875919966 0.44171237875919966 … -0.47503311759339517 -0.47503311759339517; -0.8743495162885365 -0.8743495162885365 … -0.32738349228127656 -0.32738349228127656] … [-0.1965965175083169 -0.10457261569591314 … 0.06842589041235883 0.14765586878456335; 0.4755849453779335 0.4755849453779335 … -0.42793815435615434 -0.42793815435615434; 0.8083953077601924 0.8083953077601924 … -0.8730737811831435 -0.8730737811831435] [-0.1896953092013351 -0.10090176021347605 … 0.06801476109703124 0.14676869499885645; 0.4751503060216327 0.4751503060216327 … -0.4264061643202188 -0.4264061643202188; 0.3731103805313616 0.3731103805313616 … -0.8743591559212579 -0.8743591559212579]; [-0.1700555668954006 -0.09227071083336816 … 0.173177735842232 -0.15451911010612476; 0.4748116752455411 0.4746843831331021 … -0.43785312296673845 -0.4737614221929747; 0.693557497895657 0.5320682467171994 … -0.8774837177106923 -0.9254212558342767] [-0.12631266764359994 -0.0477877763392568 … 0.09685588870619784 0.1758382854845842; 0.4573968096957998 0.4496591525866599 … -0.4334675608541241 -0.4421979341795928; -0.8747901354893843 -0.8724152830276021 … -0.8768469977170609 -0.8744679132514747] … [0.12964141884685504 -0.17631706064211794 … 0.09051553061286188 0.17089363862352708; 0.4739829412959383 0.4756919632688794 … -0.4538827500153188 -0.4634046173414113; 0.8777154470970728 0.5883133702496992 … -0.8766436804331247 -0.8767056086130798] [0.03014066125120346 0.11525324495650754 … 0.0918843316787442 0.1711111460323715; 0.4751681232470749 0.475384357500268 … -0.44547773745528596 -0.45350868028195157; 0.833631204883581 0.7625561944241998 … -0.8720041718664473 -0.876077697865332]; … ; [0.22514857873679006 0.14714353396782504 … -0.06956744808483784 -0.1377540009952023; -0.42002074726297844 -0.4267664416727055 … 0.4748044053850809 0.4751846076580454; -0.8651640789108092 -0.8740337876939257 … -0.38077040590358524 -0.4971960185378233] [0.22275402470997002 0.14429927761958228 … -0.01827828054170344 -0.09655483260620544; -0.42222837694753834 -0.4303885161824495 … 0.42032931852326766 0.4129170344559514; -0.8781202561694392 -0.8763699841160489 … -0.8717657904246087 -0.8749462075319403] … [0.22470525778856237 0.15147592116418623 … -0.10840373263800074 -0.19505687040680014; -0.4723360948321434 -0.45310101774459144 … 0.4750900944339612 0.4754338204691857; -0.8001055154929327 -0.8728719212695708 … 0.7081671429674501 0.6711144760361643] [0.2249291204622528 0.15001904976478925 … -0.08422626937399329 -0.16680789834998444; -0.44725876459759173 -0.4427693505670644 … 0.4750742840793196 0.47556235575671885; -0.8237483252465627 -0.8724651928767799 … 0.49865951672500664 0.4374338592197972]; [0.1676061950048528 0.08915223138555983 … -0.0677556958530259 -0.14620965947231887; -0.4457611569278009 -0.44576115692780083 … 0.41723244288442185 0.4172324428844219; -0.8708115061186366 -0.8708115061186366 … -0.8708115061186366 -0.8708115061186366] [0.0997347502452139 0.01196817002942537 … -0.06808914400831478 -0.1469292054916264; -0.4749340724123034 -0.4749340724123034 … 0.4131864916440471 0.4131864916440471; 0.26155942389259257 0.26155942389259257 … -0.8714873807588911 -0.8714873807588911] … [0.16935710962597006 0.0900835689499839 … -0.07759326720574218 -0.16743810291765396; -0.45751943703614306 -0.45751943703614306 … 0.4753340837802727 0.4753340837802727; -0.8733987508899592 -0.8733987508899592 … 0.5504700627390804 0.5504700627390804] [0.16833899024553026 0.08954201608804783 … -0.0703590721826469 -0.1518274715520274; -0.4556476628396203 -0.4556476628396203 … 0.4749754558032673 0.4749754558032673; -0.8717715462091061 -0.8717715462091061 … -0.48224292291693616 -0.48224292291693616]], [[-0.17394783775207426 -0.09252544561280537 … 0.15174173080500145 0.23435523900125627; 0.2997824437854898 0.29978244378548985 … -0.27017430118939234 -0.2715544832871697; -0.5253943692487102 -0.5253943692487102 … -0.5253943692487102 -0.4769934628061083] [-0.011147118859163068 0.07096050927953519 … 0.24905745247638053 -0.01199738252905248; 0.33210782021303364 0.3389314789784927 … -0.27512571170392225 -0.3542820757624505; -0.5235629994460972 -0.4752158529082126 … 0.14863913125297865 0.27450700650635323] … [-0.09901149914251715 -0.011881379897101871 … 0.15260352081774511 0.23582767797257156; 0.37582205529898616 0.37582205529898616 … -0.26177223987602083 -0.2736721051681965; 0.21076462016412867 0.21076462016412867 … -0.5281061692684373 -0.4749606514712417] [-0.18015381533162136 -0.09582649751681978 … 0.07051845629104869 0.1521714056806836; 0.3249724330778388 0.32497243307783885 … -0.30994750955629685 -0.30994750955629685; -0.16092133925909743 -0.16092133925909743 … -0.5261385788378844 -0.5261385788378844]; [0.06688823808165706 -0.21981596678826923 … 0.06856681833326875 0.15021014431830682; 0.37507380630631165 0.32465737086187635 … -0.31383205558369554 -0.32231447913058886; 0.4080272117405191 0.25206473767201565 … -0.5219949107706541 -0.5253150490915545] [-0.18809570476127527 -0.11147737403200267 … 0.07301511409840494 0.15496571140308918; 0.3205600491325684 0.3107776416930733 … -0.2816185555382789 -0.29050810996339765; -0.46998401585480226 -0.5259124962734784 … -0.5258264644341895 -0.5229598021547195] … [0.0780981152363735 -0.20105669447585672 … 0.06758042696485847 0.1510964899740643; 0.3750979983970884 0.32495234642988025 … -0.31501875084541686 -0.3264948723121459; 0.5126094950858636 0.45859884617882457 … -0.5263622497507614 -0.5208616468332026] [-0.10799488333403272 -0.03834252691703792 … 0.07089667959251761 0.15335828787399797; 0.3522006701212904 0.37525183200888695 … -0.2742533289244344 -0.2836804660012084; 0.476941387659199 0.2617119658012314 … -0.5252623971621829 -0.5240064710767509]; … ; [0.1749143312374197 0.09886141994984345 … -0.015780016393408924 -0.10887215051119285; -0.32340512551787326 -0.3221883327996372 … 0.3746499556790533 0.3614820259496606; -0.4628569357781087 -0.5254337034825203 … -0.04291144315503613 0.02362241247882038] [0.22496624518036368 0.17516847485469728 … 0.0256307576848092 -0.050494788451726245; -0.29062291867481127 -0.28219776592343987 … 0.3591507679411134 0.35027493973823703; -0.1343152607452288 -0.5193137573672938 … -0.4721097118055307 -0.5233646456093745] … [0.25800503215353937 0.175883767577907 … 0.025385423569959528 -0.059371132589712716; -0.22131596688669425 -0.23010317218050533 … 0.37466739582990555 0.3752477179580189; -0.5241392954504395 -0.5242696465610586 … 0.4067281899412042 0.3713629692430622] [0.1782977288531966 0.09622587357398575 … -0.10550077528073934 -0.21459271213278058; -0.274980749201963 -0.28372491843401965 … 0.3629750092386168 0.3247560193437341; -0.524950036048343 -0.5242327618812042 … 0.024447567136994516 0.20953767967312986]; [0.17394783775207415 0.09252544561280523 … 0.011103053473536484 -0.07031933866573242; -0.2997824437854899 -0.29978244378548985 … 0.35159669332866134 0.35159669332866134; -0.5253943692487102 -0.5253943692487102 … -0.5253943692487102 -0.5253943692487102] [0.012213514811228031 0.18089441674293458 … -0.07059841944136773 -0.15234395774189854; -0.3750861692563031 -0.32487499410471965 … 0.30253067435778935 0.30253067435778935; 0.46195328163971244 -0.11516950072234228 … -0.5205953862154877 -0.5205953862154877] … [0.09310380396771994 0.0111724564761261 … -0.07369012492411847 -0.16446602387441245; -0.2922508706865755 -0.2922508706865755 … 0.37526044448060675 0.3256841716632718; -0.5282460047310255 -0.5282460047310255 … -0.0029156748544238997 0.3340140978114008] [0.2574053143978583 0.17434165802280452 … 0.011587281800718725 -0.07338611807122002; -0.2637455029139345 -0.2575498059451594 … 0.37498326406525323 0.37498326406525323; -0.47344135526377545 -0.5271662826557489 … -0.08131022410810289 -0.08131022410810289]], [[-0.24472850128816134 -0.167606195004853 … 0.223447762045713 0.30628413442994684; 0.3653193569953713 0.3673071933085078 … -0.33694503800543985 -0.34231756200994035; -0.9202179232218342 -0.8708115061186366 … -0.9202179232218342 -0.7754425395216114] [-0.2456591422359905 -0.16824704060844464 … 0.30527704808946715 0.41795991607964145; 0.3543899199128312 0.36177873036287167 … -0.3413124409563141 -0.28374675988698084; -0.9256943678975467 -0.876401838700614 … -0.7755738621873727 0.028257223310759007] … [-0.012297547123843119 -0.3521034216892626 … 0.22393252380445153 0.3021311829107678; 0.3251801412367682 0.32541275264517716 … -0.32176580976486574 -0.32176580976486574; 0.5625549303264022 -0.035997260697437014 … -0.9754542054087936 -0.9754542054087936] [-0.3518956633358447 -0.24380488490203617 … 0.22405404307005358 0.3072978873693333; 0.32049465335470634 0.36452368714265365 … -0.3402481788983329 -0.3596296734240638; -0.0741442772232246 -0.9274042481544079 … -0.9270584380422562 -0.7774805534086036]; [-0.2993683689701226 -0.21981596678826923 … 0.1752217987360511 0.25301426949958106; 0.32490680810481953 0.32465737086187635 … -0.3519200211696531 -0.3593138637067164; 0.37365747958919787 0.25206473767201565 … -0.9191417952684859 -0.9274382613309384] [-0.3799529838010233 -0.30618871012046167 … 0.17785794079714295 0.2565852274961122; 0.3239434258268136 0.3146273114447335 … -0.3616897722831849 -0.3703042798279078; -0.9252941652164197 -0.9762658989479543 … -0.9240081627628854 -0.9216906249451263] … [-0.20105669447585672 -0.1152776183545605 … 0.09073219736658424 0.24976094093345041; 0.32495234642988025 0.32464458564661736 … -0.35267915489267687 -0.3696034890720382; 0.45859884617882457 0.42333684777203395 … -0.9216143518651079 -0.9265855598275936] [-0.3959868854879779 -0.3124014105386483 … 0.17503601240702857 0.2507356096557472; 0.3250148673174909 0.32416731244355323 … -0.36711485121426646 -0.3689155528019392; 0.24924012961104186 0.19717128513715887 … -0.8962314482738414 -0.9246119920892485]; … ; [0.3759817503790784 0.3057293281107515 … -0.3156908781516649 -0.38923478138187967; -0.3229824470164686 -0.3148021688236871 … 0.3248342724022907 0.3251192169102519; -0.8738032685527429 -0.9747906365328773 … 0.2828491422214293 0.17435172159712733] [0.28498631033501926 0.2195198860680377 … -0.3111186866967717 -0.3974241148388677; -0.3416687465656915 -0.3417370975391745 … 0.31063953960045243 0.3042398231069798; -0.7751521592666456 -0.926833274045009 … -0.9728496073445326 -0.922427641397231] … [0.31393422406399213 0.2349767263750281 … -0.28673714358006713 -0.3689232827516498; -0.311529568308744 -0.3217958255279212 … 0.32481159305747764 0.3254986430709492; -0.9767339309316899 -0.9726996723370291 … 0.12479441752859027 0.09086446738531248] [0.3101996245273162 0.227332242838584 … -0.2962485806559065 -0.3756287115981607; -0.31845101431023165 -0.34044285473288527 … 0.32400590042321464 0.3252070250644386; -0.9740584703700598 -0.9212123008544849 … 0.1630680104572402 0.10507321881164064]; [0.24472850128816118 0.16852319136154567 … -0.22344776204571284 -0.30628413442994673; -0.36531935699537144 -0.36931678106891985 … 0.33694503800543996 0.34231756200994046; -0.9202179232218342 -0.8208644705200481 … -0.9202179232218342 -0.7754425395216114] [0.3502423813533417 0.2457926690515093 … -0.22296509454599855 -0.3008259212128551; -0.32487499410471965 -0.3750245857133237 … 0.3181828196507099 0.3181828196507099; -0.11516950072234228 -0.847529890465878 … -0.9764746627953543 -0.9764746627953543] … [0.24686613200427884 0.08944425072618777 … -0.25271608546556046 -0.3409661470567085; -0.3639504880599955 -0.3639504880599955 … 0.32568417166327185 0.32568417166327185; -0.9226441351166909 -0.9226441351166909 … 0.3340140978114008 0.3340140978114008] [0.24552576041821209 0.08895860884717807 … -0.30544443564666607 -0.3866205354995365; -0.3692523757709528 -0.36925237577095277 … 0.3279481491194124 0.325175224135077; -0.9245163011103729 -0.9245163011103729 … -0.7761671860699366 -0.725503461668115]], [[-0.18036479621359336 -0.09593872139020913 … -0.011867037106769172 0.07515790167620758; 0.3952675321276622 0.39526753212766225 … -0.4628144471640129 -0.4628144471640129; -0.1758749296425659 -0.1758749296425659 … 0.12653833111002122 0.12653833111002122] [-0.18110713687378857 -0.09633358344350444 … -0.011810010563755255 0.07479673357045237; 0.3813900018303258 0.38139000183032584 … -0.4505147830985977 -0.4505147830985977; -0.1743877346425978 -0.1743877346425978 … 0.12346894154331796 0.12346894154331796] … [-0.011760560050723276 0.07448354698791552 … 0.15845290275340532 0.24347641154791533; 0.4753253024213998 0.4753253024213998 … -0.341630072541499 -0.34163007254149896; 0.12434484074087186 0.12434484074087186 … -0.1714562608060991 -0.1714562608060991] [-0.1798382678646711 -0.09565865311950583 … 0.15789424014163647 0.24261797875422172; 0.40974710718941426 0.4097471071894143 … -0.3528520699591564 -0.35285206995915636; -0.1710999250602111 -0.1710999250602111 … -0.17114776887263178 -0.17114776887263178]; [-0.2253171476558941 -0.15178266672486598 … 0.1919075573703049 -0.1562563448379147; 0.42405030614844696 0.4249871359495851 … -0.3742938959679762 -0.4212097565636953; 0.06074479768376278 -0.08856153708426498 … -0.17178556001954123 -0.17838812850697833] [-0.15553999707241672 -0.07107530204070213 … -0.047921419467281186 0.03882892101337646; 0.4123779725714785 0.40399895902640726 … -0.45984057424417674 -0.46922597726759346; -0.17648424278997568 -0.17311139833702838 … 0.1288416553314972 0.1266017152273542] … [-0.045776820450318945 0.03811101591080815 … -0.14963244555924893 -0.06405910255473618; 0.4739961363667318 0.4705243615724471 … -0.4083840744639461 -0.4185011711971277; 0.14552330127913946 0.12360958077527119 … -0.1751336945524213 -0.17436806766787905] [0.042864704321192305 -0.2253171476558941 … -0.15295806662457032 -0.06826599483323295; 0.4738431510488315 0.41753673236869726 … -0.41434056816174525 -0.4229217767192415; 0.12316403144240495 0.09576883476947903 … -0.17329249475454417 -0.17724217618479898]; … ; [0.23319849883106178 0.14890965025787348 … 0.04580592028491454 -0.041108520627106154; -0.35953565230291346 -0.36765667887732995 … 0.4564246460797041 0.44820639617993613; -0.17134442085182697 -0.17517206975730862 … 0.12330090250994737 0.12557365018571703] [0.23644427691610437 0.1525024144208585 … 0.0410764094183503 -0.04626342120915865; -0.3727660403902648 -0.3811927600496346 … 0.46806055297262694 0.46007380637179884; -0.174741391633424 -0.1777503758635959 … 0.12545975269600396 0.12861483919875757] … [0.2280437544885293 0.14268141420247904 … -0.12064347311428371 -0.2037138866551701; -0.3432933606309001 -0.3525678637042116 … 0.4257330354793886 0.42469780674435625; -0.17367522627871296 -0.17339610514102577 … 0.14198718566670523 0.11385516033547183] [0.2313317657034998 0.14580654413273475 … -0.03727474123134969 -0.21109442257798222; -0.34943740020407466 -0.3599450207470852 … 0.4416335674660534 0.42488920623298504; -0.1781402920186111 -0.17134309838225348 … 0.12676374007777083 0.12984234356811986]; [0.1803647962135932 0.09593872139020897 … 0.011867037106769377 -0.07515790167620738; -0.3952675321276623 -0.39526753212766225 … 0.4628144471640129 0.4628144471640129; -0.1758749296425659 -0.1758749296425659 … 0.12653833111002122 0.12653833111002122] [0.17962851627640083 0.09554708312574499 … -0.1579870768473479 -0.242760630277632; -0.4132492425822833 -0.41324924258228324 … 0.35071726045994367 0.3507172604599437; -0.17559987204793026 -0.17559987204793026 … -0.17131019519523866 -0.17131019519523866] … [0.2668219864854206 0.18174830963499652 … 0.011767599040557563 -0.07452812725686603; -0.37332477642584105 -0.37332477642584105 … 0.44366428500968474 0.44366428500968474; -0.17139101841530102 -0.17139101841530102 … 0.12458806469653409 0.12458806469653409] [0.18100071430870446 0.09627697569611923 … 0.011817108890646017 -0.07484168964075942; -0.38355416892084065 -0.3835541689208406 … 0.45229967630978296 0.45229967630978296; -0.1737076397256446 -0.1737076397256446 … 0.12193587243347848 0.12193587243347848]], [[0.24920777924216084 0.1573395030799434 … -0.2634027337140643 -0.17941925339943496; 0.6685097570146848 0.5641196817744306 … -0.6146063786661512 -0.6146063786661511; 0.12653833111002122 -0.1758749296425659 … -0.22737683611586235 -0.22737683611586235] [0.15826624314145213 0.24318959311979219 … -0.26309623296590584 -0.18391873176055398; 0.5528261756800973 0.5528261756800973 … -0.634659385519022 -0.6251048474669919; -0.17407033690171497 -0.17407033690171497 … -0.17626885327075748 0.08050970003189481] … [0.24623531183319122 0.32467074527144263 … -0.2665074814165348 -0.18153408154459605; 0.6484363333859168 0.6751032277383673 … -0.5910101366607226 -0.5910101366607226; 0.12598099904787974 -0.10038213891909255 … -0.22358704364840828 -0.22358704364840828] [0.2478613359478781 0.32429273189346025 … -0.2647908710369773 -0.1803647962135931; 0.6566307613834836 0.6619060133834797 … -0.6010955735489498 -0.6010955735489498; 0.12682331526174323 -0.17868646216717732 … -0.22660317367378358 -0.22660317367378358]; [0.23731309915977578 0.28580383909625773 … -0.17665925857750747 -0.2653528047783924; 0.6349496750203231 0.6393113447479262 … -0.583080979215078 -0.667748247268697; 0.12961952147580108 -0.17182583793719983 … -0.22863751915159114 -0.17658690738380728] [0.244524415156376 0.293088135201357 … -0.26463383126689166 -0.1811893264553276; 0.6482394952175307 0.6222305474577869 … -0.5900056208448523 -0.5991227422989365; 0.1261693809180825 -0.17774645694104096 … -0.22385016902588437 -0.22621320593855912] … [0.22454884166275993 0.27717411518377255 … -0.1674381752335705 -0.25630611542191517; 0.6246937285054768 0.6750820401490811 … -0.571620263766169 -0.6698510573560065; 0.13840425820343052 -0.11846413812800358 … -0.22196426307043862 -0.1740459933817167] [0.2308966327404899 0.2786040586735026 … -0.1725366242694572 -0.26126987572757504; 0.6287232164180133 0.6584734543145023 … -0.574968825302514 -0.665711421477914; 0.12835148246308656 -0.17414025992879784 … -0.22599460794944365 -0.17497394464894586]; … ; [-0.25527955167508115 -0.08608513573790835 … 0.047958005349033425 0.31160904994707755; -0.6690716385507851 -0.5570491034950387 … 0.5482930483309552 0.6664379240801445; -0.17478195734768828 -0.22114861469825944 … 0.025175530056172825 -0.17905919208037685] [-0.07958959240911821 -0.16361800263545953 … 0.04270283992093164 0.30660655597802045; -0.572200749585714 -0.5807341312726845 … 0.5502946081706392 0.6488146802913557; -0.2215428646037122 -0.2245756741353504 … 0.023570397902292803 -0.1768056255498632] … [-0.27218720977436056 -0.09730441908568345 … 0.20809853211890295 0.12595493738451233; -0.6726457078341961 -0.5418781226519471 … 0.6244220571921912 0.6257454491944628; -0.17212554734436922 -0.2262065314933874 … 0.18182411546736932 0.14231648292680532] [-0.26290994842664267 -0.09133676114099903 … -0.046311670262366926 0.3091165243189395; -0.6676851063502427 -0.5484529004406868 … 0.525182035711634 0.674604280806386; -0.17306145418842253 -0.22187737959753406 … 0.1486170823999847 -0.08947940894007997]; [-0.2417655779033279 -0.07291342825655948 … 0.26479087103697757 0.18036479621359341; -0.6485457565978149 -0.5641196817744306 … 0.6178453657529481 0.6178453657529482; -0.1758749296425659 -0.1758749296425659 … -0.1758749296425659 -0.1758749296425659] [-0.24021829966452335 -0.32410405510292817 … 0.26650748141653496 0.18153408154459622; -0.6650109040894606 -0.6650109040894606 … 0.6075441948843305 0.6075441948843305; -0.1732235436076971 -0.1732235436076971 … -0.17370722203038025 -0.17370722203038028] … [-0.15845290275340537 -0.24347641154791538 … 0.2680874649060606 0.18261030218238908; -0.6228332098834647 -0.6228332098834647 … 0.6248290116205173 0.6248290116205173; -0.22355258130685468 -0.22355258130685468 … 0.06127919468947712 0.06127919468947712] [-0.2430464371634824 -0.07325659592579695 … 0.2716302429663783 0.1853575217201545; -0.6394384852092561 -0.554043352972144 … 0.6251416240272644 0.6247701792503748; -0.1775719035501243 -0.1762823000002688 … 0.13026878209761517 0.1484945289273213]], [[0.15733950307994343 0.24176557790332764 … -0.011512646566824747 0.07291342825655946; 0.4796936069510465 0.4796936069510465 … -0.4489932161061798 -0.4489932161061798; -0.1758749296425659 -0.1758749296425659 … -0.1758749296425659 -0.1758749296425659] [-0.09690334375854007 -0.011566830935651869 … -0.011458967480168235 0.07257346070773452; 0.47439923660961597 0.4666013753103688 … -0.466798274510284 -0.466798274510284; -0.12508339172236868 -0.17710479738241935 … -0.17595807441808217 -0.17595807441808217] … [0.07448354698791552 0.15587908408870868 … -0.2674532287735708 -0.18217828626605537; 0.4753253024213998 0.5159382789977104 … -0.515723625475064 -0.515723625475064; 0.12434484074087186 -0.17602259051285507 … -0.17395362198873635 -0.17395362198873635] [0.1566972163262224 0.2407786494768783 … -0.2660371115199976 -0.18121368465854895; 0.49402899311379445 0.4940289931137945 … -0.5233051290880703 -0.5233051290880703; -0.17553710418643007 -0.17553710418643007 … -0.17371941713377742 -0.17371941713377742]; [0.1066450377186415 0.18563862319217714 … -0.24849392232271988 -0.15994815911002758; 0.48591306033923465 0.4803215221400402 … -0.49797820646038904 -0.5151811539679801; -0.12451112834837247 -0.17334268270235775 … -0.17182518312495104 -0.12333121864501251] [0.1066450377186415 0.19099259600266952 … -0.25221214259447405 -0.16415679971461403; 0.47105514764696144 0.4624855598582127 … -0.5096194685730471 -0.5218124105389002; -0.17239945233707968 -0.1747517146964246 … -0.17298018666113937 -0.12357962860264927] … [0.03634003551972404 0.09677688441309656 … -0.24220871500114233 -0.152354510880173; 0.4747506800808262 0.5222158137364619 … -0.4876878103287088 -0.5158441072458341; 0.10638124383668729 -0.12225209201258376 … -0.17713416371046198 -0.12608018087897133] [0.042268006695930525 0.10230503472585772 … -0.2455746709446438 -0.15664368519242797; 0.47468050491172015 0.5002182203759916 … -0.491712659519002 -0.5130311974017779; 0.11724611535581492 -0.12331885505363753 … -0.17310692728052207 -0.1257807251551355]; … ; [0.07164153172190917 -0.013553099573513278 … -0.2999109426561741 -0.3706265909621832; -0.4615248006983493 -0.47066466725354217 … 0.4251219854499085 0.4252803906043016; -0.17629263611443635 -0.1744169894749084 … 0.10833079662203203 -0.008328948070433405] [0.07500005315851557 -0.10495342285726848 … -0.10442791394692152 -0.36730963270548833; -0.4746727993260944 -0.49800462807579016 … 0.44399512273382835 0.4216381330901756; -0.16386708912308234 -0.07136297975369103 … -0.12347243424149489 -0.07423858638374362] … [0.06314057172402018 -0.02220040511626052 … -0.2857064268537445 -0.3681373948040989; -0.45132660747679587 -0.45877336531814744 … 0.42514387177837576 0.42411399654869336; -0.17501164374677367 -0.18027874256970028 … 0.08011274084022413 0.05220791200249816] [0.06769316552448354 -0.01785885192040365 … -0.2911941017736487 -0.37062659096218314; -0.45515669178349116 -0.46447083645548914 … 0.4246947229409979 0.42450185959693404; -0.1745744013209065 -0.17341339945351775 … 0.07822426864836793 0.02703614630919585]; [-0.1581730781540125 -0.24176557790332787 … 0.011512646566824944 -0.07291342825655926; -0.48223499437198786 -0.4796936069510464 … 0.4489932161061798 0.4489932161061798; -0.12382731526168378 -0.1758749296425659 … -0.1758749296425659 -0.1758749296425659] [-0.15743168840626806 -0.24063831708354 … 0.2661937168933372 0.1813203578838673; -0.49456034349651584 -0.49720286217042536 … 0.5212042168269866 0.5212042168269866; -0.12135157136829351 -0.17290744008530853 … -0.17674389629224993 -0.17674389629224993] … [0.09730620273587758 0.011614662379373284 … 0.27146717746672333 0.18491242523095638; -0.4718610042828231 -0.4596671872699314 … 0.5246347431113986 0.5246347431113986; -0.12387280755957886 -0.1754918143268597 … 0.17024292329150842 0.17024292329150842] [0.011560030013220177 -0.07321352341706391 … 0.011472340268598774 -0.07265815503446017; -0.46874863988383475 -0.46874863988383475 … 0.46334530973969473 0.46334530973969473; -0.17499421295447892 -0.17499421295447892 … -0.17236657928528007 -0.17236657928528007]], [[0.23569305575565005 0.31799856728936904 … 0.23569305575565017 0.31799856728936915; 0.30303392882869257 0.30303392882869257 … -0.2731046519073404 -0.2731046519073404; -0.42263138516724474 -0.42263138516724474 … -0.42263138516724474 -0.42263138516724474] [-0.34142002298793 -0.25887891852930955 … 0.33602989619829116 0.4323921104805031; 0.2629272412709241 0.2629272412709241 … -0.27512571170392225 -0.25907199091649474; -0.42358200624416015 -0.42358200624416015 … 0.14863913125297865 0.37280880261149846] … [-0.45551489909054144 -0.3641428078122216 … 0.31945746550359067 0.40214057422216704; 0.2628318244974882 0.2742531319981615 … -0.20078352768411567 -0.20078352768411567; 0.373761285627823 0.298978464453214 … -0.42233434700075123 -0.42233434700075123] [-0.19004642908883168 -0.10108852611108057 … 0.2360973842925706 0.3185440899185475; 0.2971912455269964 0.29719124552699644 … -0.2388761278190355 -0.2388761278190355; 0.37746374991255066 0.37746374991255066 … -0.4275279521452687 -0.4275279521452687]; [-0.21076846596054755 -0.12246319306292301 … 0.25284731696388724 -0.41507524781621125; 0.31566336230425796 0.30685836205460665 … -0.2631897057051783 -0.27366760185825945; 0.3769306398342121 0.3738858547665291 … -0.42390440923327644 -0.4271469667163296] [0.14175314833900027 0.2311155760715129 … -0.08046192045109185 0.08204909490293599; 0.31507793434687703 0.3061294368002165 … -0.26762206871754146 -0.3048930556370435; 0.3222427970056295 0.32641161653012685 … -0.42402471834963906 0.37548372577537514] … [-0.1152776183545605 -0.02991882861536897 … 0.08510160710311697 0.1687224247498327; 0.32464458564661736 0.32433833277964375 … -0.26282528523960447 -0.272511386352686; 0.42333684777203395 0.38824762037661636 … -0.42557025973524887 -0.4251137531010528] [0.24334255672669042 0.325237493644068 … -0.24908308101603277 -0.16642099961792575; 0.32472449129020053 0.3248132231704495 … -0.2609459464231086 -0.2704226947928881; 0.41763388915638294 0.3574489275128091 … -0.424334268079676 -0.4229539409140457]; … ; [0.4109384062986139 0.3252035109381231 … -0.3226330939294509 -0.3957041473553991; -0.22096407487719294 -0.23653705115326626 … 0.2751739526405449 0.2739396730167312; -0.4266766775638309 -0.3763300503669563 … -0.24947825187360523 -0.32560553831584943] [0.32680841199753075 0.09413239322793485 … -0.3025409849114814 -0.39899661225623434; -0.2719958869336457 -0.3217533996900217 … 0.24717194772948906 0.24031189403146525; -0.37279606009958244 0.3780637070356086 … -0.4197285009649396 -0.32911373938712585] … [0.3284434756631377 0.24961282612302577 … -0.31241090048248243 -0.396137325929087; -0.26479103765583256 -0.25548204721249834 … 0.2743247758443248 0.275148305895639; -0.3734832099904317 -0.42597369958814757 … 0.3132171195271112 0.2781660829834277] [0.409532134140991 0.32760811091219266 … -0.14588364175665197 -0.41904294121470875; -0.1896088395032503 -0.19708664184931346 … 0.30660908738831594 0.2751152530691107; -0.42228583516055745 -0.42678111682493547 … 0.37335319781620496 0.4103993828908773]; [0.4227510365141018 0.3404455249803828 … -0.23569305575565005 -0.31799856728936904; -0.22072841729497358 -0.22072841729497358 … 0.2731046519073405 0.2731046519073405; -0.42263138516724474 -0.42263138516724474 … -0.42263138516724474 -0.42263138516724474] [0.10102619403750031 0.012123143284499753 … -0.40539531649917776 0.2590272074503145; -0.29123886575473423 -0.29123886575473423 … 0.24516425315533194 0.31594338947022693; 0.3760362554504069 0.3760362554504069 … -0.3269312135658801 -0.4233720064513315] … [0.34398002256930055 0.2593242955264436 … -0.07649689552046575 -0.16507224822837324; -0.24218234451264098 -0.23034705175513104 … 0.3201701100549425 0.3201701100549425; -0.37356625422871675 -0.42781135141717946 … 0.3714887085189271 0.3714887085189271] [0.34299087718700616 0.2587307992972171 … -0.33765935540563186 -0.43265889175542604; -0.2750773455798345 -0.2693822481073806 … 0.27490294925327446 0.2649547745523656; -0.37517921824981815 -0.42456328266417076 … 0.19301423861315628 0.37477594662734415]], [[0.07364654125649069 0.1581730781540122 … -0.3492169458603615 -0.26619371689333693; 0.9108914313302786 0.9066017894193374 … -0.8711235902231009 -0.8757387497795307; -0.07709759912547476 -0.12382731526168378 … -0.1758749296425659 -0.12382731526168378] [0.07435012560533065 0.15967700529741957 … -0.34799432148083437 -0.26386382617777543; 0.9167666855769182 0.9076621900884685 … -0.8847289303491483 -0.8847289303491481; -0.07419347463395687 -0.12114380369183604 … -0.12255639704292881 -0.12255639704292881] … [0.0724467887877134 0.15633254422611828 … -0.3550380119258276 -0.27049288116663944; 0.9245510489694015 0.9245510489694015 … -0.8686187117807229 -0.88149243282272; -0.07152667666244181 -0.07152667666244181 … -0.1732459009539384 -0.12702223952903308] [0.07308460925875766 0.15697183884853314 … -0.2680874649060602 -0.18261030218238875; 0.9135124154218222 0.9131262971838355 … -0.8744683332684565 -0.8744683332684565; -0.0771742018163481 -0.12338706733247651 … -0.1266635613271606 -0.1266635613271606]; [0.06704016012837039 0.1461956082699568 … -0.28185475795909587 -0.19279226651263498; 0.9122438923688397 0.9049099666117656 … -0.8390343221840683 -0.8594456370310897; -0.07521487788298686 -0.124247902942368 … -0.17563324085234366 -0.12122189241521969] [0.0761098146068522 0.15658210582349005 … -0.28736565005704034 -0.19951699842961415; 0.9076106195561906 0.8957707317592671 … -0.8448912653528745 -0.8590554970301725; -0.07907413336122908 -0.12212155573600376 … -0.17170598443247165 -0.12229793447705552] … [0.059307843664958684 0.13916673844976707 … -0.35680365211031234 -0.26725725815306345; 0.9252832683669037 0.9247108561328824 … -0.8432318014751471 -0.8717788355968532; 0.01936518894571565 -0.018479937980118905 … -0.1717025103499368 -0.12579247186116432] [0.059307843664958726 0.13726531594434035 … -0.27705823963131493 -0.18732569851898917; 0.9225939990635967 0.9199076611124761 … -0.8407429556550151 -0.8659091439662314; -0.07310574638482858 -0.12749689879169726 … -0.17685204374012437 -0.1235020551369764]; … ; [-0.1748272375399074 -0.2477272895609723 … 0.1129317505634212 0.02828433853670693; -0.8648639481352022 -0.8520520393850342 … 0.8978732886451436 0.8903789531203881; -0.013304716544588258 -0.12298530821671974 … -0.07558867689237164 -0.07360607730162855] [-0.23643651527504667 -0.3152066138772367 … 0.1934884831548155 0.10484639934286519; -0.8512705845432552 -0.8553943351874683 … 0.896650755757077 0.89250162208911; -0.12511302615565761 -0.17433395141302246 … -0.12164773639108395 -0.07827586064543995] … [-0.18064185895610943 -0.2685677635197813 … 0.12557731382720957 0.044951411114085585; -0.8661459903921742 -0.8762786881851852 … 0.9244512163789462 0.9225902953244356; -0.12540817739324428 -0.12506381475296546 … -0.04368359344031125 -0.07052303029030871] [-0.17482723753990745 -0.2569063158542187 … 0.11982516622586958 0.03582525543564546; -0.8607678515620877 -0.8589268733796298 … 0.9089112605854798 0.9013449111075192; -0.0851197390945796 -0.12447161577016137 … -0.07433340527358945 -0.07307613745169678]; [-0.24304643716348248 -0.3279197961729524 … 0.18036479621359347 0.09593872139020924; -0.9066017894193374 -0.9066017894193373 … 0.8711235902231008 0.8711235902231008; -0.12382731526168378 -0.12382731526168378 … -0.1758749296425659 -0.1758749296425659] [-0.24077864947687855 -0.32486008262753435 … 0.18196304394352023 0.09678885316144684; -0.915217499826974 -0.915217499826974 … 0.8655848859428611 0.8655848859428611; -0.12523505155997913 -0.12523505155997913 … -0.17611557714473766 -0.17611557714473766] … [-0.2472675756906982 -0.3336149830747514 … 0.1783802102457813 0.09538021526278229; -0.9156038397055669 -0.9156038397055668 … 0.8988525429429358 0.8940178247076473; -0.12111684858898347 -0.12111684858898344 … -0.12228023614274122 -0.07140413394093253] [-0.24492071211802366 -0.33044857984177783 … 0.18004850987774557 0.09622043443773122; -0.906473451587076 -0.906473451587076 … 0.8826337824183755 0.8828768669812384; -0.12341138358884762 -0.12341138358884762 … -0.12018049932017182 -0.07392542889810688]]  …  [[-0.3119529894502465 -0.23653578320952753 … 0.21473192567203073 0.28971767749400956; 0.3530896473997296 0.3530896473997296 … -0.3238021101403634 -0.3238021101403634; -1.2241796374436102 -1.2241796374436102 … -1.2743852425333682 -1.2743852425333682] [-0.4647321178126043 -0.3867632777541904 … 0.21767536044340063 0.31281994311117817; 0.30962534979785766 0.30211137901111124 … -0.3662524539908115 -0.32507851202672167; -1.2243295669326517 -1.2744570707974407 … -1.1238292354836954 -0.5488878146852696] … [-0.012710970492426001 0.08050281311869958 … 0.14188615432756752 0.22058270101049096; 0.274872117543916 0.274872117543916 … -0.34003553723066055 -0.36544273750159056; 0.9120258298033868 0.9120258298033868 … -1.2231742902391527 -1.1219819248759968] [-0.3144199650849114 -0.23840634715229542 … 0.29062456907955697 0.3681498551315697; 0.3748504609168299 0.3748504609168299 … -0.29503443400275886 -0.302127738875753; -1.1275317988248148 -1.1275317988248148 … -1.2759983151434262 -1.2212552953749845]; [-0.07477401530978899 -0.0059874733271838634 … -0.02261530222731946 0.05349739476973901; 0.26397365389728544 0.27496125384808145 … -0.36311188688184054 -0.37174648823279; 0.9620899162359741 0.6836423634214518 … -1.2267075782472487 -1.225591293688822] [-0.24111678569082645 -0.16620154192080194 … 0.1398447669564551 -0.3199280715567721; 0.3749207032556459 0.36724076570055536 … -0.3474651716546366 -0.3733408327452232; -1.2227484716323647 -1.2253913029823174 … -1.22693931737536 -1.2244605383212508] … [0.030613426023992155 0.12005173923332915 … 0.19580770867504602 -0.26458754214808977; 0.27517338129005714 0.27497866422232 … -0.3201321546503384 -0.36638457284339954; 0.9590417378949004 0.920740027559885 … -1.2762419564868441 -1.2241142455693823] [0.022795285773758785 0.11036287552633162 … 0.05034737794512227 0.12698060577824857; 0.2752842013368698 0.27460144572323697 … -0.35345095141366123 -0.3622981281110861; 0.9310021490298134 0.87220046892633 … -1.225199521261786 -1.2247731875858099]; … ; [0.10586596028551704 0.4732658318246563 … -0.18587555537935035 -0.2618030774730813; -0.3736951673138659 -0.2669802015850694 … 0.36138610696463835 0.3541302254218295; -1.228203522348293 -1.173200991446922 … -1.2260610054168959 -1.2254935287445008] [0.39614179018027784 0.3250079742796582 … -0.3416520458915304 -0.4177027532014539; -0.3108898023172527 -0.31602982385525935 … 0.29754563811237583 0.2904495233603611; -1.2216811018223022 -1.2701754674908186 … -1.2758842180157342 -1.2746166469304365] … [0.42033950959564836 0.34023605789071665 … -0.014127766184610965 -0.10212088469901688; -0.27076265993902765 -0.29919362386396336 … 0.27470696821471996 0.27556404226621944; -1.2757487879580427 -1.2243055117063 … 0.7982646689166945 0.7605125723809273] [0.41296434325496356 0.17482240808378485 … -0.08404691337645287 -0.16867212907774942; -0.32262663202564634 -0.37525300596714173 … 0.27434451542096855 0.27480118944739795; -1.2283531559623375 -1.1238597385109388 … 0.6265999160882344 0.5702444102251927]; [0.1611185769688084 0.08570137072808941 … -0.28971767749400945 -0.3647034293159883; -0.3530896473997297 -0.35308964739972964 … 0.32380211014036353 0.32380211014036353; -1.2241796374436102 -1.2241796374436102 … -1.2743852425333682 -1.2743852425333682] [0.3765585398774821 0.2851623045275308 … -0.2169889666444196 -0.29276289150437557; -0.2742732985846785 -0.2751864942123445 … 0.35829161836471335 0.35829161836471335; 0.6237931959625682 0.6104573285240242 … -1.2245577261753358 -1.2245577261753358] … [0.16273591386415356 0.08656165631071983 … 0.012437577179350451 -0.0791216896674635; -0.36841386713557495 -0.36841386713557495 … 0.2755284414293357 0.2686515472109343; -1.2236715218216518 -1.2236715218216518 … 0.6748819732136753 0.721618653362868] [0.3113016537166747 0.23604191325769835 … -0.21529177251475323 -0.29047302640879397; -0.32289469401130405 -0.32289469401130405 … 0.3526001240814064 0.3526001240814064; -1.2737365129882554 -1.2737365129882554 … -1.226579971302351 -1.226579971302351]], [[-0.27493319242649783 -0.18681900038216684 … 0.07589080367594472 0.16376436582703807; 0.7610469529487115 0.759200618574338 … -0.8188218291351882 -0.8188218291351882; 0.20041989292514195 0.17567321230526467 … 0.22528723212722568 0.22528723212722568] [-0.1891129836971643 -0.100100352680853 … 0.07529424057567954 0.16247704545278174; 0.7946956929696065 0.7859319660927785 … -0.7938600038443292 -0.7938600038443292; 0.22239595796432354 0.17267650436856008 … 0.22528745931570238 0.22528745931570238] … [-0.1850234988321707 -0.0978875608652907 … 0.0769222001822941 0.16599001091968682; 0.8102951267101538 0.8157331190112866 … -0.7948396098214282 -0.7948396098214282; 0.22931791740368695 0.17521382121798293 … 0.22319883152055375 0.22319883152055375] [-0.27393390402203455 -0.1856927528122238 … 0.2531809863848659 0.3415933943287872; 0.74208651971259 0.7425148240730918 … -0.7568162949594699 -0.7568162949594698; 0.22578511365394133 0.17663456230893348 … 0.2258869692525934 0.2258869692525934]; [0.08506124217832535 0.1770850975305453 … 0.023409498613315406 0.11722232565903296; 0.8225525804833871 0.8130745912285473 … -0.7600612301553978 -0.7795746003584981; 0.17658512137993992 0.2222357817901526 … 0.17585287312912018 0.2284540400152326] [-0.17366367286458537 -0.09004112193229226 … -0.07572661415747067 0.011853231113245606; 0.7842803257826453 0.7725587745618572 … -0.8145079562696956 -0.8242012272552603; 0.2229218645353559 0.17757724230812605 … 0.22849372072362226 0.22629269636633026] … [-0.18283826310732165 -0.1016183349366087 … 0.09482081321871572 0.21210905478522196; 0.822423778185613 0.8245323283933156 … -0.6190759280252172 -0.7232877429304857; 0.22566206111652062 0.17491628807171195 … -0.17530773666433952 0.0784695782594663] [-0.09088227025878876 -0.0036930149139028454 … 0.03491080698645753 0.12452828734880939; 0.8248378410621339 0.8155963669645765 … -0.8031467295780784 -0.8140521003703789; 0.21583069962700463 0.2240377580289719 … 0.22829662867895836 0.23059555136952328]; … ; [0.3204818702808689 0.14402726560818296 … -0.16916351248872485 -0.2570755104272574; -0.7662244275984078 -0.7848538749673344 … 0.7812550203408923 0.7733606217383608; 0.22465616628144408 0.22334598545660406 … 0.22424092648747296 0.2266552432468309] [0.41315713867081527 0.32563253096333533 … -0.08549581059133862 -0.17864227975396388; -0.724102171783163 -0.7335968256424187 … 0.8097869910128698 0.8050219332393136; 0.221977722247379 0.2252731909399091 … 0.17865438055965696 0.22512922825255313] … [0.30303035230139985 0.22496588620724714 … -0.31828597553836446 -0.4186222805558801; -0.7548821677351057 -0.7134303113620702 … 0.7540063139347607 0.7251940306966909; 0.22544188010081495 0.08912492718371201 … 0.17085970206288126 0.2646829826857918] [0.13748177269155729 0.3966080080193888 … -0.1562825801270178 -0.24857926975667569; -0.8210488533782031 -0.7005056206872797 … 0.7726667141599456 0.7597381130369658; 0.23089087625422525 0.22985326875773401 … 0.18017142195706876 0.2236326603373339]; [0.363477007079522 0.2756034449284287 … -0.07552257462257823 -0.16376436582703768; -0.7629022895844922 -0.7629022895844922 … 0.8148488314541328 0.8188218291351882; 0.22528723212722568 0.22528723212722568 … 0.17567321230526467 0.22528723212722568] [0.09931157511930305 0.011917389014316037 … -0.16416457839659945 -0.25349187176428456; -0.824985178840613 -0.824985178840613 … 0.7540598803765393 0.7626670620782309; 0.25313098185166627 0.25313098185166627 … 0.17587437963757835 0.22560954014215567] … [0.36796223504433373 0.2790043320665826 … -0.1615004881721648 -0.24905745247638036; -0.7359485407676163 -0.7359485407676162 … 0.7787022331624334 0.774927570591182; 0.22110223014724195 0.22110223014724195 … 0.2296252580331481 0.2660438915500526] [0.10046864539081918 0.012056237446897902 … -0.07502205563508632 -0.16267377583034842; -0.7888550900195813 -0.7888550900195813 … 0.797656330392953 0.7974953509803144; 0.2232156477334235 0.2232156477334235 … 0.17511719091859174 0.2242306369739515]], [[-0.36887259671962347 -0.2594730952674652 … -0.10133862547242367 -0.012160635056690494; 0.4175151369463869 0.3873294030804191 … -0.47426476721094485 -0.47426476721094485; 0.3770752483762241 -0.3731721176128797 … 0.3770752483762241 0.3770752483762241] [-0.3435836805863419 -0.2590272074503145 … -0.1009017602134759 -0.012108211225616809; 0.3535693578965596 0.3458254938567076 … -0.43668244130520617 -0.43668244130520617; -0.3715032111451259 -0.4263702175961722 … 0.3778232886694476 0.3778232886694476] … [-0.27729346127866206 -0.18888105333474073 … -0.011313898381354765 0.0716546897485827; 0.4414773904201166 0.4414773904201166 … -0.3709270722845025 -0.3709270722845025; 0.37467887774563324 0.37467887774563324 … -0.4200708265257914 -0.4200708265257914] [-0.27848885818919417 -0.1896953092013351 … -0.011320412700112721 0.07244678878771364; 0.4751503060216327 0.4751503060216327 … -0.4117261521685878 -0.4247395939353179; 0.3731103805313616 0.3731103805313616 … -0.37542275146136006 -0.2749907084789939]; [-0.016686716475338165 0.07237049351619011 … -0.09368503367660719 -0.006441675931724039; 0.4745606926514903 0.4654901901940389 … -0.3934313365425637 -0.4096052188180305; 0.37514820767745477 0.37842723561225533 … -0.4210848694656728 -0.37522977192993345] [-0.2876710734497056 -0.2541350206690527 … -0.17949193810934927 -0.02547291038777763; 0.4501083007053557 0.41356015667387835 … -0.42239642850777637 -0.47275942360435846; 0.3771002647187078 -0.3755826715552633 … -0.4209732208441924 0.3782992884347999] … [-0.2878656144773969 -0.19970863671277014 … -0.1778694869003528 -0.09440778765697064; 0.4457744346594527 0.4349615366518843 … -0.4091659291250864 -0.41903813879194207; 0.37166047415185877 0.37915046854336065 … -0.4252388312446047 -0.4247811489802764] [-0.284603539563277 -0.19647334646127693 … -0.09120887723097981 -0.00807969195655233; 0.4738386631516556 0.4646289875940747 … -0.363496762286698 -0.3731242564647967; 0.3746731312072803 0.3771230072111157 … -0.4255226113653222 -0.4241388860150171]; … ; [0.08876602915762619 0.005838436137973739 … -0.2999109426561741 -0.4250322864191691; -0.33794567355167243 -0.3467026968153397 … 0.4251219854499085 0.39800667421339164; -0.4235882225416579 -0.42204568728702974 … 0.10833079662203203 0.37622556852999106] [0.10280226912065935 0.07514296489958959 … -0.25173834246832855 -0.24193688423194487; -0.41045307249485985 -0.38598239387519556 … 0.45155117153912677 0.4206795970833448; 0.3777693709497345 -0.24886380223452223 … 0.37858065729211515 -0.37224994490163543] … [0.08874324793569778 0.0050960932053518634 … -0.24234636823344333 -0.4238409260467784; -0.36206544154671116 -0.37115779994597997 … 0.44812720595837385 0.42477671591033556; -0.42319058028645706 -0.4232062561188653 … 0.37389189778649046 0.40009638824307503] [0.003913125968077625 -0.0736481422244245 … -0.41611528096928635 -0.24936159838072963; -0.41428073233726453 -0.4097234270739356 … 0.37506165618425336 0.47514446410806577; -0.3731836411875151 -0.4263653278350491 … 0.34555625455194044 0.3830343339836721]; [0.10133862547242369 0.011281438924672054 … -0.16619534577477565 -0.25537333619050884; -0.417515136946387 -0.38732940308041913 … 0.4742647672109449 0.4742647672109449; 0.3770752483762241 -0.3731721176128797 … 0.3770752483762241 0.3770752483762241] [0.012100758981524025 -0.07663814021632133 … -0.15400293217996305 -0.23800274123753298; -0.46913560281932504 -0.46913560281932504 … 0.39891954005895663 0.40697392545573463; 0.3746882884288317 0.3746882884288317 … -0.4261616954930079 -0.37126185927121397] … [0.011379380900735092 -0.07169594710071658 … -0.25056893085268783 -0.3418029899093834; -0.4134544097008407 -0.40187217911140727 … 0.4244303970200437 0.4089991126059263; -0.37112027714139495 -0.42015030920962204 … 0.26357392615666786 0.3750818209144799] [0.09385043748199771 0.011262052497839415 … -0.165580859608319 -0.254429125739612; -0.35294555312234155 -0.35294555312234155 … 0.4427343455994933 0.44273434559949343; -0.4204952689215509 -0.4204952689215509 … 0.37679679076846895 0.37679679076846895]], [[-0.6118096655836385 -0.5232780562961175 … 0.07253118754445306 0.15651466785908238; 0.915766059950032 0.9108914313302785 … -0.9505402999246683 -0.9505402999246683; -0.02399526182092515 -0.07709759912547476 … -0.22737683611586235 -0.22737683611586235] [-0.5257657491500393 -0.44218758912643896 … 0.07182000471227198 0.15498001016858645; 0.9076621900884684 0.9167666855769181 … -0.9687839787643843 -0.9687839787643843; -0.12114380369183603 -0.07419347463395687 … -0.22761949989160615 -0.22761949989160615] … [-0.6014386393788523 -0.5147534992811206 … 0.4118234593934905 0.49649744169869403; 0.9203561099362674 0.9245510489694014 … -0.9155378424359568 -0.9155378424359568; -0.02588109807908187 -0.07152667666244183 … -0.3191439564635653 -0.3191439564635653] [-0.607116693887117 -0.5192853815753827 … 0.4077525759690399 0.49158955420566486; 0.9139511556646864 0.9135124154218222 … -0.9252919469844813 -0.9252919469844813; -0.02466323018829178 -0.07717420181634811 … -0.32242120720623585 -0.32242120720623585]; [0.8415751037939199 -0.18217362988904337 … 0.125422936444803 0.21607174138715368; 0.9234112832299565 0.9358216363537994 … -0.9548349700232617 -0.9747148757171514; -0.07837418516521656 -0.025291650919234174 … -0.268334119964931 -0.22046720336686204] [0.7644138192319286 0.8597925038595948 … 0.03525403530936841 0.11412495353829592; 0.9233988694638242 0.919577690258922 … -0.961429315476658 -0.9659895032844785; -0.12139098737154223 -0.07097567982922429 … -0.22637878805003153 -0.27393765105484624] … [-0.1955662882232338 -0.11701934511993786 … -0.02797379427169882 0.06377945091619831; 0.957969388867804 0.960555623466819 … -0.935203832546511 -0.9664655795299909; -0.022186534916427136 -0.07597668012356606 … -0.2759342014752253 -0.2252565831710588] [-0.18848181898536048 -0.10825593497483617 … 0.05349069756095427 0.1395600127231595; 0.9423559875657903 0.938487200936774 … -0.9552632055303344 -0.9659150185087684; -0.0276456275109343 -0.07108213884558781 … -0.2250607401653778 -0.22339254591022029]; … ; [0.6249768697956662 0.5458129945732927 … -0.5659040519081769 -0.6683978809695438; -0.9217807197627639 -0.9086962528770088 … 0.9232448554559233 0.9136531569451912; -0.17124464538761072 -0.27686965226894533 … -0.12574992862228315 -0.025521092888501476] [0.5505257811865905 0.213728696600202 … -0.5028864777384232 -0.5972988748391894; -0.9213535617625116 -0.9635487287332952 … 0.9248902093775319 0.9213137805226863; -0.28048184798585274 -0.2251847183940764 … -0.07553755204361737 -0.02547627200905878] … [0.6221223807427234 0.5372645775927694 … -0.21682907809253865 -0.5705825777734436; -0.9020557728027333 -0.9097565000159981 … 0.9748619198280721 0.9248973715740512; -0.2710482512237714 -0.2763629173667993 … -0.02398751120842324 0.07261538035317208] [0.6247405360045427 0.541861218141049 … -0.575288676707919 -0.6554431418520552; -0.9060407729241602 -0.9057800028651521 … 0.9245339752471874 0.9204897770122038; -0.24164553041128886 -0.2740953843706766 … 0.008605201132404261 -0.024471369109432997]; [0.5965567581910528 0.5103000334819293 … -0.07364654125649069 -0.15892148376400614; -0.8929352749993472 -0.8883000582833591 … 0.9651573038350614 0.9651573038350614; -0.272705089368813 -0.32319936508340597 … -0.07709759912547476 -0.07709759912547476] [0.5907342658158984 0.505345024226938 … -0.07439454625762121 -0.1605355998190771; -0.9165059277219917 -0.9169265726578424 … 0.9724540441956385 0.9724540441956385; -0.27753368671571077 -0.3272560265245338 … -0.0737656983956304 -0.0737656983956304] … [0.1828270794114821 0.09673170925529154 … -0.07265815503446013 -0.15678865033751907; -0.9753803147591644 -0.9605182076379656 … 0.9745756221310492 0.9745756221310492; -0.2231707955212442 -0.2742316989117126 … -0.03329558872464061 -0.03329558872464061] [0.18100071430870432 0.09577048397752379 … -0.07308460925875765 -0.15770889366363483; -0.974569573933269 -0.9650714321804644 … 0.967178018410866 0.967178018410866; -0.2229851536461422 -0.27423793785928335 … -0.07269968647221949 -0.07269968647221949]], [[-0.317263466413904 -0.24056240859955355 … 0.2963449961008998 0.3730460539152503; 0.5125025226686142 0.5125025226686143 … -0.48461122891794156 -0.48461122891794156; -1.074785999784675 -1.074785999784675 … -1.074785999784675 -1.074785999784675] [-0.3193018082733586 -0.24210796451496414 … 0.25427243573796043 0.3430659847258195; 0.4884517227432439 0.4884517227432439 … -0.5250323923979444 -0.5250323923979443; -1.071560780288188 -1.071560780288188 … 0.38668785204110306 0.38668785204110306] … [-0.36683058245344485 -0.27814626581634827 … 0.2221254250659353 0.29969303381911894; 0.5244332930998055 0.5244332930998056 … -0.4570085602012947 -0.4570085602012947; 0.4222261572526419 0.4222261572526419 … -1.0751904199450293 -1.0751904199450293] [-0.31591896863554636 -0.23954295424013947 … 0.29777066547451697 0.3748407200679213; 0.5249000910706648 0.5249000910706648 … -0.4763267210180451 -0.47632672101804496; -1.072704908379003 -1.072704908379003 … -1.0751436379490362 -1.0751436379490362]; [-0.37499727054188725 -0.3109773566783828 … 0.2966768601475651 0.37481196827538366; 0.5145955207986526 0.5250558337274427 … -0.5002429012600148 -0.509215510747224; 0.28730088167338774 -0.06836640290344545 … -1.0757670552640155 -1.074463739510623] [-0.1363843082732757 -0.37346844760571163 … 0.2198415226297435 0.2966829992803522; 0.5249904006069871 0.4716437565937264 … -0.5159690228335061 -0.524296901468407; -1.0728987212750452 -1.0742161320970347 … -1.0753624743351562 -1.077985876184971] … [-0.3309296313131174 -0.2422733370860512 … 0.21895657601823326 0.2980290214866889; 0.5254712936032031 0.5246473145552754 … -0.48122963233868404 -0.4906100501565387; 0.8537440162074673 0.8164350155502847 … -1.0728123305031174 -1.073086978999037] [-0.3431744991006968 -0.2575130860846086 … 0.29599383094721327 0.3745933466321295; 0.5246415760019 0.5254220827327889 … -0.4989846876495072 -0.5081856964606061; 0.734172805987661 0.6580490745174523 … -1.075930098587518 -1.0753327382738593]; … ; [0.3749375363558575 0.32725041327443816 … -0.27775620371767323 -0.34550457627544356; -0.5196012726344336 -0.4541546334878471 … 0.525048203337094 0.5248558183028333; -0.6589033295138724 -1.0714618824051212 … -0.11195319379150183 -0.23488234633808952] [0.3751071523868885 0.3238876671920051 … -0.23353920780916826 -0.31109880132810264; -0.49493683205317984 -0.4786367716786812 … 0.4689603444358048 0.46189572565047565; -0.716857390706227 -1.0726356017620884 … -1.0744727877375453 -1.072963048754213] … [0.3390744099612146 0.3337215298083478 … -0.22344547160413644 -0.3109624875900535; -0.5250212974183596 -0.4394753205343398 … 0.5243925458074422 0.524615548296358; -1.0704946012261263 -1.075955839764163 … 0.859136397401134 0.8212055972907492] [0.3310264257284996 0.25357346319207275 … -0.20821825852292503 -0.29199704503357937; -0.45163722009732576 -0.46009664320153465 … 0.5249426380478207 0.5251899034321009; -1.073339671809015 -1.0732507512426601 … 0.7320942310797329 0.6683396027612111]; [0.3172634664139038 0.24056240859955333 … -0.2963449961008996 -0.3750411938962954; -0.5125025226686144 -0.5125025226686143 … 0.48461122891794167 0.487203046276496; -1.074785999784675 -1.074785999784675 … -1.074785999784675 -1.0270518095839627] [0.32844595039336055 0.24904143491364691 … -0.22093680919074316 -0.29808934573354234; -0.5248016354255023 -0.5248016354255023 … 0.45974082104864383 0.45974082104864383; -0.7113629464693979 -0.7113629464693979 … -1.0735108730327734 -1.0735108730327734] … [0.3210205417477467 0.24341118000653308 … -0.2652157421971659 -0.35783076328189045; -0.48598449491276485 -0.48598449491276485 … 0.5248893284950791 0.5248893284950793; -1.0756173626781043 -1.0756173626781043 … 0.8874847963593184 0.8874847963593184] [0.3189602677061947 0.24184899419480685 … -0.25971048145833686 -0.3504030305390259; -0.5049693559949308 -0.5049693559949308 … 0.5250559982170501 0.5250559982170502; -1.072718769240123 -1.072718769240123 … 0.5990127193194049 0.5990127193194049]], [[0.4169658230410786 0.502697113759805 … 0.15892148376400658 0.24419642627152202; 1.0014973506687586 1.0014973506687588 … -0.9651573038350614 -0.9651573038350614; -0.02399526182092515 -0.02399526182092515 … -0.07709759912547476 -0.07709759912547476] [0.4212237101072827 0.5078304542414903 … 0.15733950307994365 0.24176557790332787; 1.014444426531384 1.014444426531384 … -0.9683340919800127 -0.9683340919800127; -0.02351726037346706 -0.023517260373467075 … -0.07960049972500997 -0.07960049972500997] … [0.40941903535148594 0.49359865009665116 … 0.16179222052817469 0.2499621433490723; 1.0041796768451057 1.0041796768451057 … -0.9847590925319929 -1.0000502036020629; -0.02199809842731848 -0.02199809842731848 … -0.07855207761198024 -0.025404855668251403] [0.41352342913693496 0.498546937931445 … 0.16024837754223592 0.24623531183319153; 0.9986316825208594 0.9986316825208594 … -0.9703284302790952 -0.9703284302790952; -0.023460755154998847 -0.023460755154998847 … -0.07513145322784354 -0.07513145322784354]; [0.4210457429302195 0.5070916878786631 … 0.14742815962089947 0.23934670949336354; 0.9634035051378027 0.9552706853290719 … -0.9957749575367901 -1.015061099808532; -0.027611088877988493 -0.02493841849733129 … -0.07225202173175255 -0.02816975041334685] [0.43500792574789576 0.5210624545941118 … 0.136314659191196 0.22163048094700913; 0.9648981934330744 0.9564699712473212 … -0.9873268113251287 -0.996858096399859; -0.023927660502968018 -0.0262334067640048 … -0.07307804575296899 -0.07539790256634404] … [0.39629426057828077 0.4807622240296099 … 0.2630717153356933 0.07490468120902737; 0.9862827778213026 0.9779913750484946 … -0.9556757460634699 -1.0080343178641; -0.025889780149861152 -0.02496635619614415 … -0.07480683421628495 -0.12356357154056438] [0.41055655882915965 0.4959336499501346 … 0.06931186680673454 0.1567518066768235; 0.9693182245201042 0.9610631514453885 … -0.999645049518881 -1.0105177325322412; -0.022373259867243783 -0.020488678507984665 … -0.07526414789032838 -0.07338882013225967]; … ; [0.27539554556335283 0.19286187259921228 … 0.5224222159786374 0.43830362076932644; -0.9894006959873131 -0.9891934120378276 … 1.0175120327343632 1.0101621117705906; -0.029730556591349273 -0.07472223636412306 … -0.025237429749780743 -0.02319705780059761] [0.27494520933083616 0.2012383322007015 … 0.5173633650398719 0.4323935131268938; -0.9880979269035298 -0.9804061716589292 … 1.0187071342290184 1.0115365896886772; 0.07519852270239025 -0.07578611814175276 … -0.02813615755819522 -0.025227924306547515] … [0.0937140967832506 0.2577781638123702 … 0.36722681460356443 0.4467844113171212; -1.023182416864452 -0.9309456794972074 … 0.9243246869509392 1.0250226899392587; -0.12439145545607938 -0.0720170056809542 … 0.06516097487474462 0.021710212500435866] [0.26858331735087704 0.18583484883229343 … 0.5250599412088378 0.4434216144826772; -1.0100525665205846 -1.0042004323269607 … 1.0209409938008498 1.0167270450403312; -0.02436612091303411 -0.07573827175318976 … 0.00803012417404153 -0.024603776961971413]; [0.2688845027087324 0.18217828626605523 … 0.35461579342745925 0.4403470841461857; -1.0014973506687586 -0.9961663738377939 … 0.8845910451432228 0.9703223358619492; -0.02399526182092515 -0.07709759912547476 … -0.02399526182092515 -0.02399526182092515] [0.26619371689333704 0.18036479621359316 … 0.35759258859947773 0.44484373123479354; -0.99888400641309 -0.9988811087463184 … 0.8935251109626211 0.9831084006569463; -0.02422634287250168 -0.07653557481457393 … -0.029604014034475094 -0.02037317049289418] … [0.1856927528122235 0.09823972214271326 … 0.51685849376956 0.4326297021922984; -1.0192212155735463 -1.0038908297956275 … 0.9735859476757922 0.9735859476757922; -0.07254908469793243 -0.1252188266639554 … -0.021846192110354073 -0.021846192110354073] [0.2711416331138892 0.18380898023695807 … 0.5217351676026748 0.43671165880816487; -1.0113765804254324 -1.002581739177299 … 0.9678209531570947 0.9678209531570947; -0.024371402622946174 -0.07182911723815742 … -0.026029683362702102 -0.02602968336270209]], [[-0.09690334375854014 -0.011573639864927567 … -0.011573639864927302 0.0732997191445426; 0.5697916613002166 0.5671083533814579 … -0.6211186727511209 -0.6211186727511209; -0.07709759912547476 -0.12382731526168378 … -0.12382731526168378 -0.12382731526168378] [-0.09753791536423827 -0.011642172664325474 … -0.01173949351663078 0.07435012560533082; 0.5694479884105595 0.5610927906443847 … -0.6251048474669919 -0.6251048474669919; -0.06931368470040393 -0.1219711511667601 … 0.08050970003189481 0.08050970003189481] … [-0.09684606462248357 -0.01150590919390823 … -0.01171152192628491 0.07417297219980724; 0.5750397356190786 0.5874415817576264 … -0.6168786796708379 -0.6168786796708379; 0.02215844095756883 -0.07588398240783786 … -0.12055723210765504 -0.12055723210765504] [-0.09656068167265751 -0.011573639864927565 … -0.011628401251024418 0.07364654125649102; 0.5751349752097011 0.5754360853957291 … -0.6154936099311732 -0.6154936099311732; -0.06462203180637341 -0.07627843800435437 … -0.12868357091557298 -0.12868357091557298]; [-0.049768562663748545 0.034685404027558334 … -0.07824633139512115 0.002164535247238325; 0.58438926329014 0.5761357213821826 … -0.6194505571628105 -0.6195478900483361; -0.07555518666616842 -0.07872996089336132 … -0.07076335816236498 -0.12636381765868474] [-0.0487031186713755 0.03585090452619454 … -0.08395219243524583 -0.004035136461598317; 0.574528776359937 0.5659898319097282 … -0.6189590052340174 -0.624591075936393; -0.12196417273210741 -0.12429505396080495 … -0.07327239746573545 -0.1279224921820023] … [-0.05976675704346845 0.024317957531434172 … 0.11208319652205848 -0.07246524809422727; 0.613249181980787 0.6045092377023694 … -0.5632011163496299 -0.618853721787581; -0.07353075792376779 -0.07266115818998953 … -0.07825086431951178 -0.12073675502829295] [-0.0540054126662905 0.030050684763001722 … -0.07510243301644334 0.007871144729596456; 0.5946630415590816 0.5867426229217715 … -0.6203403830623824 -0.6216962104508283; -0.07235478884046491 -0.0762130402392418 … -0.08738096109388856 -0.12019340286035568]; … ; [0.07372763426426061 -0.012020105409199653 … -0.11201869246178371 -0.04635917383489616; -0.556380848315969 -0.5656927892920343 … 0.5385193388372533 0.625091128149917; -0.1218286057844867 -0.11987614967944543 … -0.07558983780182944 0.036102041423783406] [0.07541709217443533 -0.005899816339918776 … -0.11876011158391107 -0.0406519550937301; -0.5645241246118261 -0.5706607039258874 … 0.5306212573540755 0.6229538327249176; -0.08319572641120049 -0.12105090743888161 … -0.07084164806160594 -0.0792552652688769] … [0.06346347775828104 -0.023221469575902962 … -0.016335210865309542 -0.10008204851676548; -0.5618541478553162 -0.5715128615552265 … 0.5747695267981244 0.5680635998780191; -0.1210379456681987 -0.12069205980561065 … -0.07111139094734975 -0.07621672442417926] [0.0697621258627397 -0.016968834600394334 … -0.10668243431724292 -0.04191497202988011; -0.5546870025425061 -0.5656740718109133 … 0.5495000253906593 0.6254106028384832; -0.12772905620855277 -0.12076889649140671 … -0.07616626908510941 0.04713831676799876]; [0.09690334375853989 0.011573639864927314 … 0.011628401251024698 -0.07364654125649076; -0.5697916613002166 -0.5671083533814579 … 0.6240575338049996 0.6240575338049996; -0.07709759912547476 -0.12382731526168378 … -0.07709759912547476 -0.07709759912547476] [0.09639025779710039 0.011505909193908075 … 0.01170454984370841 -0.07412881567682146; -0.5768853677333076 -0.5791051109817003 … 0.6237963423641335 0.6237963423641335; -0.07240689719361729 -0.12443175317758613 … -0.07476670897271977 -0.07476670897271977] … [0.09800466708936188 0.011690630552553233 … 0.01165597673504595 -0.0738211859886256; -0.5731247657217834 -0.5588853373591446 … 0.6248290116205173 0.6248290116205173; -0.06989335764950916 -0.1279439159813605 … 0.06127919468947714 0.06127919468947714] [0.09736402762037727 0.01162840125102443 … 0.011519391834604799 -0.07295614828583152; -0.56803449958499 -0.5614153835484622 … 0.5460213122578176 0.5460213122578176; -0.07738882206175497 -0.12417465197578018 … -0.1251832545913387 -0.1251832545913387]], [[0.4950438023734802 0.4950438023734802 … 0.15651466785908236 0.24049814817371165; 0.8173979062445834 0.7329718314211991 … -0.8665568196100389 -0.8665568196100389; -0.1758749296425659 -0.1758749296425659 … -0.22737683611586235 -0.22737683611586235] [0.49943048231306675 0.4137674283179718 … 0.23869070036867496 0.3235393397235322; 0.8116539111959121 0.7248692842252962 … -0.8028438582768749 -0.8019355377814728; -0.17070443047825382 -0.1737518154790746 … -0.22177966336243732 -0.17657854914158572] … [0.48988044420496296 0.4881831771588066 … 0.15920396500681164 0.2446304828153445; 0.8460420615208057 0.7675590785402571 … -0.8558670328782865 -0.8558670328782865; -0.12633826823246264 -0.17513354487523108 … -0.21903136471087808 -0.21903136471087808] [0.49417569732402544 0.4921619107559573 … 0.15770889366363525 0.24233317806851246; 0.8291877638142768 0.745550365148079 … -0.8574524832166133 -0.8574524832166133; -0.1246367062200635 -0.17171238725560312 … -0.22483320817259175 -0.22483320817259175]; [0.4845738832601875 0.46991974969509753 … 0.23102335685547815 0.32337769256075904; 0.872586254039073 0.7900495091874159 … -0.8017913051666394 -0.8219476454059832; -0.1255634353337725 -0.17351674458088215 … -0.22704297288241382 -0.17299914163323304] [0.497340211639484 0.48081334265591824 … 0.1373004910261992 0.22132103329770525; 0.8627258100326884 0.7741795813934357 … -0.8039528001426779 -0.813232190128634; -0.1256724077380088 -0.17736101727368397 … -0.22370843935978782 -0.22608105671560155] … [0.4888043201282147 0.5682004229774035 … 0.16275820919069534 0.2501941552650869; 0.8750998625437127 0.8746687613675358 … -0.7921551044114169 -0.805003116027982; 0.06362433836377396 0.025272604843156105 … -0.2273816946586092 -0.22109733103421433] [0.4922066102616286 0.5664173012273545 … 0.15414150103750984 0.23946789766488497; 0.8747297848805814 0.8739945598072068 … -0.7902011433498058 -0.7990511254767061; -0.0010814906289134257 -0.07354437564256783 … -0.22137314938915711 -0.2253724387712916]; … ; [0.19833217984402501 0.27480093690344976 … -0.5617220031435708 0.5405236047597046; -0.870594603926328 -0.7772877074118107 … 0.6664463041346407 0.8516110844052244; -0.22732046547475834 -0.22044734312810133 … -0.024687514490407167 -0.07693163580403173] [0.27743712496615774 0.19739837640607535 … -0.5731151263451526 0.5362404481243204; -0.7921552282365921 -0.7964766649644462 … 0.6644350310370745 0.845902153042864; -0.17613306950669205 -0.2246303157029094 … -0.020399493385530564 -0.07532077074177035] … [0.2701630462282065 0.26361410957513665 … -0.5421697585883197 0.545842666156243; -0.8691060991977297 -0.778169652220762 … 0.6874605175917127 0.8738793489203683; -0.22412768977125241 -0.22210525530976374 … -0.021182863569889826 -0.02551202646630807] [0.2750950686214511 0.19196115531112462 … -0.5532831026865064 0.5438966145755293; -0.8686837229447918 -0.8701732856962668 … 0.672977188054632 0.8626098830597224; -0.1989729849909847 -0.2261179458743746 … -0.021228077057940817 -0.07358152727555778]; [0.26340273371406425 0.1794192533994349 … 0.5180690955071303 0.433643020683746; -0.8131127866825474 -0.8131127866825473 … 0.7866975153997164 0.7866975153997164; -0.22737683611586235 -0.22737683611586235 … -0.1758749296425659 -0.1758749296425659] [0.26142314802283373 0.1780708399575823 … 0.5223512299785766 0.43722732583391966; -0.833002365080679 -0.833002365080679 … 0.7797857934278871 0.7797857934278871; -0.2187537194716908 -0.2187537194716908 … -0.17338786940701723 -0.17338786940701723] … [0.2674532287735708 0.1821782862660553 … 0.5103000334819296 0.4271400280256151; -0.7977583439871454 -0.7977583439871454 … 0.8208095686641521 0.8208095686641521; -0.22620400307206662 -0.22620400307206662 … -0.17663400118907344 -0.17663400118907344] [0.2654125283607508 0.18078824395587356 … 0.5147534992811206 0.4308677438427157; -0.8037868802275692 -0.8037868802275692 … 0.79879727408553 0.79879727408553; -0.22035869282846313 -0.22035869282846313 … -0.17297500036920027 -0.17297500036920027]], [[0.7522865912203015 0.5852961963015836 … 0.9220333092392418 1.0069066682487118; 0.8217284304098679 0.7403415463152477 … -0.7908653907700605 -0.7908653907700605; -0.12382731526168378 -0.07709759912547476 … -0.12382731526168378 -0.12382731526168378] [0.7585378826646618 0.5898312834394936 … 0.914496723822478 0.9986763385676433; 0.820248479970965 0.7423295986035164 … -0.8009035348283798 -0.8009035348283798; -0.12426811005785948 -0.07469381165301824 … -0.1252225755671375 -0.1252225755671375] … [0.6709679795722348 0.7562933873791086 … 0.9358050818721808 1.0219461354336368; 0.82525763076522 0.82525763076522 … -0.793562686190978 -0.7935626861909779; 0.08045180768049749 0.08045180768049749 … -0.12292790949245522 -0.12292790949245519] [0.5818548439987682 0.6631193628163944 … 0.9280426252836074 1.01346914309214; 0.7446973168242527 0.7451510437353674 … -0.7883267909316377 -0.7883267909316376; -0.07381986197085805 -0.12588780686693196 … -0.12539495177674262 -0.12539495177674262]; [0.5929544836973308 0.6477139525627741 … 0.858277419483146 0.944894994466298; 0.7749231090901273 0.7722324023264893 … -0.8043319414909703 -0.813575931897713; 0.0736187919188181 -0.12283376149972242 … -0.12043665603309955 -0.12369920384869947] [0.5819073624514166 0.6610106700908172 … 0.9290863421344441 1.016248761295712; 0.7732919425560452 0.7618664189684382 … -0.8145046372868787 -0.8244831388400798; -0.07510840171308333 -0.1183994711820587 … -0.12432477924202867 -0.12083368058541023] … [0.5746297833966397 0.631859149767559 … 0.9688941303391573 0.8858428034240156; 0.7733149425674755 0.802057330364237 … -0.7225961839851331 -0.8238075401292391; 0.09810467207091014 -0.07466336180969613 … -0.1731661204523675 -0.12396008558890007] [0.5809938809131727 0.6448930691278972 … 0.8703038219803692 0.9586579143676746; 0.7746894818168232 0.7816948335354191 … -0.8092235533723644 -0.8198598035909832; 0.061163695556349464 -0.0753459444604662 … -0.12326100346078166 -0.1214447477459836]; … ; [0.9526089639954015 0.8685451336460841 … 0.6318329461998791 0.545612590184291; -0.8087633485936788 -0.8171679395764848 … 0.7756613628313022 0.7661683876008845; -0.12434562278418047 -0.12815461812995116 … -0.07609863513129841 -0.022369654322856813] [0.9532122162603687 0.8697443704440042 … 0.6306802776147957 0.5419198669736975; -0.8093722433069214 -0.8185948976441928 … 0.7660317908184815 0.764920923289804; -0.12388394013961906 -0.12112155572886367 … -0.12455017008173139 -0.023120932023271562] … [1.0283607907293921 0.9437246130280039 … 0.7213698641024485 0.6377202053514905; -0.7485705775366956 -0.7193362451070062 … 0.8255438026637125 0.8083319132637242; -0.07398521626650942 -0.17431204188910338 … -0.1198906694232944 -0.07644076515704201] [0.9520839251580085 0.8673274007984284 … 0.6343453337283087 0.5486935209637889; -0.8151061040339541 -0.8248749179684323 … 0.7867106072833225 0.77292283646595; -0.12311236954896772 -0.1218868696626885 … -0.07342338979854335 -0.021404475895483693]; [0.9451805889690962 0.8603072299596263 … 0.7791028838186639 0.690560511940687; -0.8217284304098679 -0.8217284304098679 … 0.7946074188200304 0.7908653907700606; -0.12382731526168378 -0.12382731526168378 … -0.07709759912547476 -0.12382731526168378] [1.0228287688799593 0.933639075816959 … 0.785607899658276 0.6958858328432721; -0.7473091891961079 -0.7486228647188511 … 0.7978132928071205 0.7882240307277548; -0.11909096985476796 -0.17053875571972826 … -0.07426709916323945 -0.12699182949778026] … [1.0492002324841818 0.9530347756556001 … 0.7637446394675266 0.6801506988292899; -0.7488773417890771 -0.7229400085050263 … 0.8155872380206842 0.8155872380206842; -0.07797445902004507 -0.17640314126875434 … -0.12624800185310997 -0.12624800185310997] [0.9519047666954327 0.8664276039717611 … 0.7704450400352326 0.6861177222204311; -0.8202618662759384 -0.8202618662759384 … 0.7986283214554167 0.7986283214554167; -0.12214394997836905 -0.12214394997836905 … -0.12142899365338362 -0.12142899365338362]], [[-0.26218099563810604 -0.17858705499986927 … 0.15578870755307797 0.23938264819131475; 0.39137163116992646 0.39137163116992646 … -0.36097383457420434 -0.36097383457420434; -0.272705089368813 -0.272705089368813 … -0.272705089368813 -0.272705089368813] [-0.26324939412527926 -0.17931480469403072 … 0.15515899429078375 0.23841504000778949; 0.36773552046245683 0.36773552046245683 … -0.38886906577854724 -0.3888690657785472; -0.2711327851033333 -0.2711327851033333 … -0.27457336680674765 -0.27457336680674765] … [-0.26401788260983644 -0.1798382678646711 … 0.15706359372314022 0.2413416196233616; 0.424781568470866 0.424781568470866 … -0.40553065681468276 -0.4055306568146827; -0.12933868444179492 -0.12933868444179492 … -0.2715178381285669 -0.27151783812856684] [-0.26127210393925004 -0.17796795485717026 … 0.1563325442261185 0.24021829966452335; 0.4141270235094543 0.4141270235094543 … -0.4247395939353179 -0.42473959393531785; -0.27296059280312623 -0.27296059280312623 … -0.2749907084789939 -0.2749907084789939]; [-0.22661926981374725 -0.15178266672486598 … -0.24383962189686464 -0.1641546654755049; 0.4251771846399932 0.4249871359495851 … -0.40551911267209106 -0.40660979530501135; 0.04297986576998811 -0.08856153708426498 … -0.22059899561041071 -0.2744678903152954] [-0.24642917255744232 -0.16340879494957328 … 0.25955969735369594 -0.24714906101628437; 0.41742032412538466 0.40893377133379505 … -0.39226272213837193 -0.4232470023927399; -0.2703107690738169 -0.2726883873456958 … -0.2729178972862221 -0.22448393603319627] … [-0.23092632426660387 -0.1484659215756037 … 0.09644792371940186 0.26716606387946784; 0.4246031437691456 0.42407248579624546 … -0.40409413376399467 -0.4241989630803852; 0.06261284213385418 0.02967809860307076 … -0.27197000943895816 -0.2706760635600938] [-0.22920962707994752 -0.14846592157560368 … 0.006869265964789758 0.09152404965466888; 0.42530619188266006 0.4249167557301967 … -0.4085977462194024 -0.41844141839064763; 0.04312703038960665 -0.012806773435365168 … -0.276542011078594 -0.2749604308523976]; … ; [0.2414914629133873 0.15758419958473172 … -0.15859829405882905 -0.24189429021891112; -0.3440091207203658 -0.3528954025244829 … 0.3764434062231039 0.3688658562916989; -0.27287629919371176 -0.271136967878954 … -0.27229537872019094 -0.2761260718656642] [0.24421738589595146 0.16110642825928112 … -0.2470538536430952 -0.25520477858632695; -0.3677863838564998 -0.3761272591003994 … 0.340294942781595 0.4236853378076832; -0.27088607286690797 -0.2739211125934089 … -0.27237831569492643 -0.2721015976226346] … [0.24281059044605569 0.15816658968918423 … -0.23532167889249994 -0.2037138866551701; -0.39727886986942756 -0.40654054307397774 … 0.42591885123854706 0.42469780674435625; -0.27404059050914287 -0.2738815078303797 … -0.2525496859372157 0.11385516033547183] [0.24601142562564246 0.16222217682078877 … -0.1538192326390787 -0.23750496747916888; -0.41299013161461895 -0.4207598931020846 … 0.40399793060586603 0.3959058700481585; -0.271905267602401 -0.2764098586417603 … -0.278449322832926 -0.277436940651461]; [0.2621809956381058 0.1803647962135932 … -0.1557887075530778 -0.23938264819131458; -0.39137163116992657 -0.3952675321276623 … 0.36097383457420446 0.36097383457420446; -0.272705089368813 -0.1758749296425659 … -0.272705089368813 -0.272705089368813] [0.26097053878616777 0.17962851627640083 … -0.15642355303096336 -0.24035814246221188; -0.4193270863261362 -0.4132492425822833 … 0.42088159888654386 0.420881598886544; -0.277136465115662 -0.17559987204793026 … -0.27646517945464166 -0.27646517945464166] … [0.26401788260983633 0.179838267864671 … -0.15462327787852007 -0.23759186600845755; -0.35025745961415544 -0.35025745961415544 … 0.415211270767572 0.41521127076757214; -0.2729241436559646 -0.2729241436559646 … -0.27442908346170414 -0.27442908346170414] [0.2629432499239596 0.1791062716873347 … -0.15533839230342333 -0.23869070036867476; -0.37084315595710177 -0.37084315595710177 … 0.3836809648209325 0.38368096482093256; -0.27619253400019617 -0.27619253400019617 … -0.2698757160276871 -0.2698757160276871]]], Rotations.QuatRotation{Float64}[[2.220446049250313e-16 -1.0 0.0; 1.0 2.220446049250313e-16 0.0; 0.0 0.0 1.0] [1.1102230246251565e-16 -0.9950041652780257 0.09983341664682815; 1.0 1.6653345369377348e-16 -1.3877787807814457e-17; 0.0 0.09983341664682815 0.9950041652780257] … [1.6653345369377348e-16 -0.9832684384425847 -0.18216250427209502; 1.0 1.6653345369377348e-16 4.163336342344337e-17; -1.3877787807814457e-17 -0.18216250427209502 0.9832684384425847] [2.220446049250313e-16 -0.9965420970232174 -0.0830894028174964; 0.9999999999999999 1.6653345369377348e-16 1.3877787807814457e-17; 0.0 -0.0830894028174964 0.9965420970232175]; [-0.10427839014699192 -0.9899497487437185 -0.0955275473913173; 0.9899497487437185 -0.09409050117544204 -0.10557685613240611; 0.0955275473913173 -0.10557685613240611 0.9898121110284501] [-0.10427839014699192 -0.994540964855902 0.003779758172599769; 0.9899497487437185 -0.10416053884919052 -0.09565603540234618; 0.0955275473913173 -0.00623308672632316 0.9954072715824724] … [-0.10427839014699192 -0.9559848063240917 -0.2742609476863975; 0.9899497487437185 -0.07328407565680328 -0.12095015178732339; 0.09552754739131727 -0.2841170433687798 0.9540188642562487] [-0.10427839014699197 -0.978589271695308 -0.17745155584327432; 0.9899497487437185 -0.08499282742395026 -0.11302970516077296; 0.0955275473913173 -0.1874546788141859 0.9776171188558793]; … ; [-0.09728003856802647 0.9899497487437187 0.10264545317963039; -0.9899497487437187 -0.08560854629068892 -0.11256407848085187; -0.10264545317963039 -0.11256407848085187 0.9883285077226626] [-0.09728003856802647 0.9952515697101197 0.003302587734828291; -0.9899497487437187 -0.09641851668907742 -0.10345513327876256; -0.10264545317963039 -0.013333515253715691 0.9946286383935099] … [-0.09728003856802658 0.9546881907805197 0.28125975979585366; -0.9899497487437187 -0.06367122720143292 -0.12627537285200124; -0.10264545317963038 -0.2907171016828586 0.9512872740295998] [-0.09728003856802642 0.9779978491540459 0.18454484860397355; -0.9899497487437187 -0.07595963818395662 -0.11928800580616147; -0.10264545317963039 -0.19429446831297756 0.9755580815740936]; [2.220446049250313e-16 1.0 0.0; -1.0 2.220446049250313e-16 -0.0; -0.0 0.0 1.0] [1.1102230246251565e-16 0.9950041652780257 -0.09983341664682815; -1.0 1.6653345369377348e-16 -1.3877787807814457e-17; 0.0 0.09983341664682815 0.9950041652780257] … [1.6653345369377348e-16 0.9832684384425847 0.18216250427209502; -1.0 1.6653345369377348e-16 4.163336342344337e-17; 1.3877787807814457e-17 -0.18216250427209502 0.9832684384425847] [2.220446049250313e-16 0.9965420970232174 0.0830894028174964; -0.9999999999999999 1.6653345369377348e-16 1.3877787807814457e-17; 0.0 -0.0830894028174964 0.9965420970232175]], Any[[0.0, 1.0, 0.0], [-0.10427839014699132, 0.9899497487437185, 0.0955275473913173], [0.017440714435575346, 0.9798994974874372, -0.19872794545268344], [0.1482799827859917, 0.9698492462311558, 0.19340498000270043], [-0.2763974971513765, 0.9597989949748744, -0.048890825455046374], [0.2641066262943781, 0.949748743718593, -0.16800301709301554], [-0.08878571344441365, 0.9396984924623115, 0.3302784285299686], [-0.1698204083687152, 0.9296482412060302, -0.32697886250340014], [0.36902243069704904, 0.9195979899497487, 0.13476639982882777], [-0.38415751385672703, 0.9095477386934674, 0.1585746372690745]  …  [-0.37201456702548524, -0.9095477386934674, -0.1852783661371201], [0.3776096798983558, -0.9195979899497488, -0.1083995688526613], [-0.19246269866914892, -0.9296482412060301, 0.3141850684604908], [-0.06526645545977638, -0.9396984924623115, -0.33571868142207417], [0.25159765343698054, -0.949748743718593, 0.18621478080420845], [-0.2791577580531084, -0.9597989949748744, 0.02927175027194665], [0.1615535323066301, -0.9698492462311559, -0.18246340943901426], [0.0033788520802310973, -0.9798994974874371, 0.19946317500352828], [-0.09728003856802696, -0.9899497487437185, -0.1026454531796304], [0.0, -1.0, 0.0]], [0.0, 0.1, 0.2, 0.30000000000000004, 0.4, 0.5, 0.6000000000000001, 0.7000000000000001, 0.8, 0.9  …  5.300000000000001, 5.4, 5.5, 5.6000000000000005, 5.7, 5.800000000000001, 5.9, 6.0, 6.1000000000000005, 6.2], [0.0 -0.10427839014699132 … -0.09728003856802696 0.0; 1.0 0.9899497487437185 … -0.9899497487437185 -1.0; 0.0 0.0955275473913173 … -0.1026454531796304 0.0])"
      ]
     },
     "execution_count": 20,
     "metadata": {},
     "output_type": "execute_result"
    }
   ],
   "source": [
    "## Control rotation enumeration / update render cache\n",
    "\n",
    "unit_sphere_directions = T.fibonacci_sphere(60);\n",
    "other_rotation_angle = collect(0:0.24:(2*π));\n",
    "rotations_to_enumerate_over = [\n",
    "    let\n",
    "        T.geodesicHopf_select_axis(StaticArrays.SVector(dir...), ang, 1)\n",
    "    end\n",
    "    for dir in unit_sphere_directions, \n",
    "        ang in other_rotation_angle\n",
    "];\n",
    "@show num_rotations_to_enumerate_over = length(rotations_to_enumerate_over)\n",
    "dirs = hcat(unit_sphere_directions...)\n",
    "\n",
    "# cloud_lookup = generate_cloud_cache()\n",
    "# Serialization.serialize(\"render_caching_data.data\", (cloud_lookup, rotations_to_enumerate_over, unit_sphere_directions, other_rotation_angle, dirs))\n",
    "# @show length(cloud_lookup)\n",
    "\n",
    "(cloud_lookup, rotations_to_enumerate_over, unit_sphere_directions, other_rotation_angle, dirs) = \n",
    "Serialization.deserialize(\"render_caching_data_200_10.data\");"
   ]
  },
  {
   "cell_type": "code",
   "execution_count": 23,
   "id": "de9eed3f",
   "metadata": {},
   "outputs": [],
   "source": [
    "reduced_rotations_to_enumerate_over = rotations_to_enumerate_over[1:5:end][1:5:end];"
   ]
  },
  {
   "cell_type": "code",
   "execution_count": 37,
   "id": "87503201",
   "metadata": {},
   "outputs": [
    {
     "data": {
      "text/plain": [
       "0.3"
      ]
     },
     "execution_count": 37,
     "metadata": {},
     "output_type": "execute_result"
    }
   ],
   "source": [
    "function precompute_enumerations(gt_voxelized_cloud, gt_pose, init_radius, renderer, num_candidate_objs, rotations_to_enumerate_over)\n",
    "    # initialize a state of initial particles with various rotations\n",
    "    all_scored_traces = []\n",
    "    x, y, z = gt_pose.pos\n",
    "    gt_position = [x,y,z]\n",
    "    @Threads.threads for obj_id=1:num_candidate_objs\n",
    "        scored_traces = map(orn -> \n",
    "                        Gen.generate(model, (init_radius, renderer, gt_position),                 \n",
    "                                    Gen.choicemap(T.obs_addr() => gt_voxelized_cloud, \n",
    "                                                :id => obj_id, \n",
    "                                                T.floating_pose_addr(1) => Pose(gt_position, orn))),\n",
    "                                    rotations_to_enumerate_over[:]);\n",
    "    \n",
    "        all_scored_traces = vcat(all_scored_traces, scored_traces)\n",
    "    end\n",
    "    return all_scored_traces\n",
    "    \n",
    "end \n",
    "\n",
    " \n",
    "final_radius = float(0.05)# low to high \"focus\"\n",
    "init_radius = float(0.30)  # high num = faster enum\n",
    "\n",
    "\n",
    "\n"
   ]
  },
  {
   "cell_type": "code",
   "execution_count": 42,
   "id": "1bbe6af0",
   "metadata": {},
   "outputs": [
    {
     "name": "stdout",
     "output_type": "stream",
     "text": [
      "gt_obj_id = rand(1:num_candidate_objs) = 2\n",
      "object = names[gt_obj_id] = \"003_cracker_box\"\n",
      "R.params(gt_pose.orientation) = [-0.12465799214611165, 0.8082753922099024, 0.35070300599259896, 0.4562440979670678]\n",
      "  3.557498 seconds (11.79 M allocations: 1.576 GiB, 52.64% gc time)\n",
      "num_rotations_to_enumerate_over = length(enum_ori_traces) = 10080\n"
     ]
    },
    {
     "data": {
      "text/plain": [
       "10080"
      ]
     },
     "execution_count": 42,
     "metadata": {},
     "output_type": "execute_result"
    }
   ],
   "source": [
    "# enumeration example\n",
    "num_candidate_objs = length(all_ids)  #set to 1 for fixed object id\n",
    "\n",
    "@show gt_obj_id = rand(1:num_candidate_objs)\n",
    "@show object = names[gt_obj_id]\n",
    " \n",
    "# get GT data (to infer)\n",
    "gt_position = [0.0, 0.0, 5.0]\n",
    "tr, _ = Gen.generate(model, (init_radius, renderer, gt_position), Gen.choicemap(:id => gt_obj_id))\n",
    "gt_pose = T.Pose(pos=gt_position, orientation=Gen.get_retval(tr).ori)\n",
    "\n",
    "# gt_cloud = get_cloud_nocache([gt_pose], [gt_obj_id])\n",
    "gt_cloud = get_cloud_func_cached(gt_pose, gt_obj_id);\n",
    "gt_voxelized_cloud = GL.voxelize(gt_cloud, v_resolution(init_radius))\n",
    "\n",
    "# get centroid (at a finer resolution)\n",
    "centroid = T.centroid(GL.voxelize(gt_cloud, v_resolution(1e-10)))\n",
    "\n",
    "\n",
    "@time enum_ori_traces = precompute_enumerations(gt_voxelized_cloud, gt_pose, init_radius, renderer, \n",
    "    num_candidate_objs, reduced_rotations_to_enumerate_over);\n",
    "@show num_rotations_to_enumerate_over = length(enum_ori_traces)"
   ]
  },
  {
   "cell_type": "code",
   "execution_count": 48,
   "id": "665de653",
   "metadata": {},
   "outputs": [
    {
     "name": "stdout",
     "output_type": "stream",
     "text": [
      "num_samples = num_particles = 84\n"
     ]
    },
    {
     "data": {
      "text/plain": [
       "-0.08333333333333333"
      ]
     },
     "execution_count": 48,
     "metadata": {},
     "output_type": "execute_result"
    }
   ],
   "source": [
    "num_particles_per_obj = 4\n",
    "num_particles = num_particles_per_obj * num_candidate_objs\n",
    "@show num_samples = num_particles\n",
    "num_steps = 3\n",
    "radius_step = (final_radius - init_radius)/num_steps\n"
   ]
  },
  {
   "cell_type": "markdown",
   "id": "df220321",
   "metadata": {},
   "source": [
    "### single object trial"
   ]
  },
  {
   "cell_type": "code",
   "execution_count": 50,
   "id": "9248a4aa",
   "metadata": {},
   "outputs": [
    {
     "name": "stdout",
     "output_type": "stream",
     "text": [
      "gt_obj_id = 4 = 4\n",
      "object = names[gt_obj_id] = \"005_tomato_soup_can\"\n",
      "gt_position = [gx, gy, gz] = [4.710610324632519, 0.23759414352074126, 1.4936613999911053]\n",
      "  1.306641 seconds (11.24 M allocations: 1.392 GiB)\n",
      "true\n",
      "\n",
      "initializing particle filter at radius 0.3\n",
      "Initial particle state computed (4 particles per object)\n",
      "top10 traces:\n",
      "curr_weight=-5.017923898406464 ori=[-0.10636059658841884, 0.8186151952565758, -0.4979782313159757, -0.2656581764670655] id=4\n",
      "curr_weight=-5.017923898406464 ori=[-0.10636059658841884, 0.8186151952565758, -0.4979782313159757, -0.2656581764670655] id=4\n",
      "curr_weight=-5.017923898406464 ori=[-0.10636059658841884, 0.8186151952565758, -0.4979782313159757, -0.2656581764670655] id=4\n",
      "curr_weight=-2.143985556229408 ori=[0.4801769820204271, 0.6714711314340778, -0.18328221879830145, -0.5338203947591038] id=21\n",
      "curr_weight=-2.143985556229408 ori=[0.4801769820204271, 0.6714711314340778, -0.18328221879830145, -0.5338203947591038] id=21\n",
      "curr_weight=-2.143985556229408 ori=[0.4801769820204271, 0.6714711314340778, -0.18328221879830145, -0.5338203947591038] id=21\n",
      "curr_weight=-2.143985556229408 ori=[0.4801769820204271, 0.6714711314340778, -0.18328221879830145, -0.5338203947591038] id=21\n",
      "curr_weight=-2.0687748587340504 ori=[-0.6613407376735253, 0.494036277114387, -0.5375162858525847, 0.17214188343234874] id=21\n",
      "curr_weight=-2.0687748587340504 ori=[-0.6613407376735253, 0.494036277114387, -0.5375162858525847, 0.17214188343234874] id=21\n",
      "curr_weight=-2.0687748587340504 ori=[-0.6613407376735253, 0.494036277114387, -0.5375162858525847, 0.17214188343234874] id=21\n",
      "curr_weight=-2.0687748587340504 ori=[-0.6613407376735253, 0.494036277114387, -0.5375162858525847, 0.17214188343234874] id=21\n",
      "\n",
      "========Radius=0.21666666666666667========\n",
      "effective sample size: 8.409200815824535, doing resample: true\n",
      "top5 traces:\n",
      "weight=-27.18006482723604 ori=[0.28705964471961637, -0.8099623955064501, -0.5114270996328807]  id=21\n",
      "weight=-26.720147464962825 ori=[-0.5403173351305194, -0.7389956766280337, -0.40242088325847275]  id=21\n",
      "weight=-25.31388667425855 ori=[0.043932296459891385, -0.8248108992297742, -0.5636993292878155]  id=21\n",
      "weight=-22.698461257696483 ori=[-0.3533512662377484, -0.7544805632281348, -0.5530840463791529]  id=21\n",
      "weight=-2.7997144040073643 ori=[-0.35466192824471315, -0.8236016431523976, -0.44260055360383116]  id=4\n",
      "weight=-0.06275603856605372 ori=[-0.39704678117228204, -0.8296644524689964, -0.39244203377065917]  id=21\n",
      "\n",
      "========Radius=0.13333333333333336========\n",
      "effective sample size: 1.1289929949510864, doing resample: true\n",
      "top5 traces:\n",
      "weight=-138.89084115787378 ori=[-0.34606372451591844, -0.8735518702919817, -0.3422674809028317]  id=4\n",
      "weight=-89.03146190322582 ori=[-0.35620203584380083, -0.8021735173393082, -0.479205339849457]  id=4\n",
      "weight=-61.4199642075012 ori=[-0.373016235277667, -0.8445013269881035, -0.3842868680226106]  id=4\n",
      "weight=-4.110094852685698 ori=[-0.46308903461865186, -0.807830507167262, -0.36463463591088935]  id=4\n",
      "weight=-2.43829104990602 ori=[-0.46671499965861535, -0.8238178101436686, -0.321716217781708]  id=4\n",
      "weight=-0.10949812001080517 ori=[-0.41247731385526315, -0.8085046291239842, -0.419741265829146]  id=4\n",
      "\n",
      "========Radius=0.05000000000000002========\n",
      "effective sample size: 1.2327158948707568, doing resample: true\n",
      "top5 traces:\n",
      "weight=-114.48816601232193 ori=[-0.4910364742618396, -0.8114882038911557, -0.3168123670092894]  id=4\n",
      "weight=-89.22635888591276 ori=[-0.5048747382387477, -0.8015114645521504, -0.3204385602262007]  id=4\n",
      "weight=-87.84987362002312 ori=[-0.4139690822511693, -0.8392383502068244, -0.3525742340022443]  id=4\n",
      "weight=-31.080215215431053 ori=[-0.44770961114773355, -0.8210014956473415, -0.35427764286049784]  id=4\n",
      "weight=-28.695986133391443 ori=[-0.5647898962924015, -0.7720369163031591, -0.2914984955555387]  id=4\n",
      "weight=-4.547473508864641e-13 ori=[-0.4213647673087276, -0.8366908463437418, -0.3498573430921121]  id=4\n",
      "  6.148284 seconds (22.58 M allocations: 2.968 GiB, 42.19% gc time)\n"
     ]
    }
   ],
   "source": [
    "\n",
    "\n",
    "# precompute enumeration; run the below code once and comment out\n",
    "num_candidate_objs = length(all_ids)  #set to 1 for fixed object id\n",
    "\n",
    "@show gt_obj_id = 4#rand(1:num_candidate_objs)\n",
    "@show object = names[gt_obj_id]\n",
    " \n",
    "# get GT data (to infer)\n",
    "gx, gy, gz = Gen.uniform(0.0, 5.0), Gen.uniform(0.0, 5.0), Gen.uniform(0.0, 5.0)\n",
    "@show gt_position = [gx, gy, gz]\n",
    "tr, _ = Gen.generate(model, (init_radius, renderer, gt_position), Gen.choicemap(:id => gt_obj_id))\n",
    "gt_pose = T.Pose(pos=gt_position, orientation=Gen.get_retval(tr).ori)\n",
    "\n",
    "# gt_cloud = get_cloud_nocache([gt_pose], [gt_obj_id])\n",
    "gt_cloud = get_cloud_func_cached(gt_pose, gt_obj_id);\n",
    "gt_voxelized_cloud = GL.voxelize(gt_cloud, v_resolution(init_radius))\n",
    "\n",
    "# get centroid (at a finer resolution)\n",
    "centroid = T.centroid(GL.voxelize(gt_cloud, v_resolution(1e-10)))\n",
    "\n",
    "\n",
    "@time enum_ori_traces = precompute_enumerations(gt_voxelized_cloud, gt_pose, init_radius, renderer, \n",
    "    num_candidate_objs, reduced_rotations_to_enumerate_over);\n",
    "\n",
    "\n",
    "\n",
    "topnprint, vis = true, false  # print top particles / meshcat viz\n",
    "@time _, pf_traces = particle_filter(renderer, init_radius, final_radius, radius_step,\n",
    "                                    enum_ori_traces, gt_obj_id, gt_pose, centroid, num_particles, num_samples);\n"
   ]
  },
  {
   "cell_type": "markdown",
   "id": "ec4bae27",
   "metadata": {},
   "source": [
    "## Pose+ID Test"
   ]
  },
  {
   "cell_type": "code",
   "execution_count": 207,
   "id": "9ae30445",
   "metadata": {},
   "outputs": [
    {
     "data": {
      "text/plain": [
       "Dict{String, Dict{Any, Any}} with 3 entries:\n",
       "  \"errors\"   => Dict()\n",
       "  \"time\"     => Dict()\n",
       "  \"accuracy\" => Dict()"
      ]
     },
     "execution_count": 207,
     "metadata": {},
     "output_type": "execute_result"
    }
   ],
   "source": [
    "num_trials_per_obj = 25\n",
    "# results_dict = Dict(\"accuracy\" => Dict(), \"time\" => Dict(), \"errors\" => Dict())"
   ]
  },
  {
   "cell_type": "code",
   "execution_count": 1,
   "id": "2c8c5fb0",
   "metadata": {},
   "outputs": [
    {
     "ename": "LoadError",
     "evalue": "UndefVarError: all_ids not defined",
     "output_type": "error",
     "traceback": [
      "UndefVarError: all_ids not defined",
      "",
      "Stacktrace:",
      " [1] top-level scope",
      "   @ .\\In[1]:1",
      " [2] eval",
      "   @ .\\boot.jl:373 [inlined]",
      " [3] include_string(mapexpr::typeof(REPL.softscope), mod::Module, code::String, filename::String)",
      "   @ Base .\\loading.jl:1196"
     ]
    }
   ],
   "source": [
    "for gt_obj_id in all_ids\n",
    "    accuracy = 0\n",
    "    error = 0\n",
    "    valid = 0\n",
    "    results_dict[\"accuracy\"][gt_obj_id] = 0\n",
    "    results_dict[\"errors\"][gt_obj_id] = 0\n",
    "\n",
    "\n",
    "    results_dict[\"time\"][gt_obj_id] = @elapsed for ii=1:num_trials_per_obj\n",
    "\n",
    "        # precompute enumeration; run the below code once and comment out\n",
    "        num_candidate_objs = length(all_ids)  #set to 1 for fixed object id\n",
    "\n",
    "        # get GT data (to infer)\n",
    "        gx, gy, gz = Gen.uniform(0.0, 5.0), Gen.uniform(0.0, 5.0), Gen.uniform(0.0, 5.0)\n",
    "        gt_position = [gx, gy, gz]\n",
    "        tr, _ = Gen.generate(model, (init_radius, renderer, gt_position), Gen.choicemap(:id => gt_obj_id))\n",
    "        gt_pose = T.Pose(pos=gt_position, orientation=Gen.get_retval(tr).ori)\n",
    "\n",
    "        # gt_cloud = get_cloud_nocache([gt_pose], [gt_obj_id])\n",
    "        gt_cloud = get_cloud_func_cached(gt_pose, gt_obj_id);\n",
    "        gt_voxelized_cloud = GL.voxelize(gt_cloud, v_resolution(init_radius))\n",
    "\n",
    "        # get centroid (at a finer resolution)\n",
    "        centroid = T.centroid(GL.voxelize(gt_cloud, v_resolution(1e-10)))\n",
    "\n",
    "\n",
    "        @time enum_ori_traces = precompute_enumerations(gt_voxelized_cloud, gt_pose, init_radius, renderer, num_candidate_objs, rotations_to_enumerate_over);\n",
    "\n",
    "        try\n",
    "            @time weights, pf_traces = particle_filter(renderer, init_radius, final_radius, radius_step,\n",
    "                                                enum_ori_traces, gt_obj_id, gt_pose, centroid, num_particles, num_samples);\n",
    "            accuracy += (Gen.get_retval(pf_traces[argmax(weights)]).id == gt_obj_id)\n",
    "            valid += 1\n",
    "        catch BoundsError  #result of precompute_enumerations with low # rotations\n",
    "            error += 1\n",
    "            accuracy += 0\n",
    "        end\n",
    "        println(\"$accuracy/$valid\"); flush(stdout);\n",
    "    end\n",
    "\n",
    "    @show results_dict[\"accuracy\"][gt_obj_id] = accuracy \n",
    "    @show results_dict[\"errors\"][gt_obj_id] = error / valid\n",
    "end"
   ]
  },
  {
   "cell_type": "code",
   "execution_count": 227,
   "id": "8604fc37",
   "metadata": {},
   "outputs": [],
   "source": [
    "results_dict\n",
    "# JLD.save(\"results_$init_radius-$final_radius-$num_steps.jld\", \"results\", results_dict)  # TODO: doesnt work when jld?\n"
   ]
  },
  {
   "cell_type": "code",
   "execution_count": 226,
   "id": "7df31b7e",
   "metadata": {},
   "outputs": [
    {
     "data": {
      "text/plain": [
       "0.3"
      ]
     },
     "execution_count": 226,
     "metadata": {},
     "output_type": "execute_result"
    }
   ],
   "source": []
  },
  {
   "cell_type": "code",
   "execution_count": 248,
   "id": "dee65ecc",
   "metadata": {},
   "outputs": [
    {
     "data": {
      "text/plain": [
       "Dict{Any, Any} with 21 entries:\n",
       "  5  => 21\n",
       "  16 => 24\n",
       "  20 => 21\n",
       "  7  => 8\n",
       "  12 => 17\n",
       "  8  => 10\n",
       "  17 => 20\n",
       "  1  => 23\n",
       "  19 => 20\n",
       "  4  => 3\n",
       "  6  => 19\n",
       "  13 => 24\n",
       "  11 => 25\n",
       "  15 => 24\n",
       "  2  => 23\n",
       "  9  => 7\n",
       "  10 => 24\n",
       "  18 => 19\n",
       "  21 => 16\n",
       "  14 => 11\n",
       "  3  => 23"
      ]
     },
     "execution_count": 248,
     "metadata": {},
     "output_type": "execute_result"
    }
   ],
   "source": [
    "JLD.load(\"results_0.45-$final_radius-$num_steps.jld\")[\"results\"][\"accuracy\"]"
   ]
  },
  {
   "cell_type": "code",
   "execution_count": 26,
   "id": "b4fc9cc8",
   "metadata": {},
   "outputs": [],
   "source": [
    "# xyz = [\n",
    "#     rotations_to_enumerate_over[i,1] * [1, 0, 0]\n",
    "#     for i in 1:size(rotations_to_enumerate_over)[1] \n",
    "# ];\n",
    "# log_weights_xyz = zeros(size(rotations_to_enumerate_over)[1])\n",
    "# weights_xyz = exp.(log_weights_xyz)\n",
    "# order = sortperm(weights_xyz,rev=true)\n",
    "# weights_xyz = weights_xyz[order]\n",
    "# xyz = xyz[order]\n",
    "# weights_xyz\n"
   ]
  },
  {
   "cell_type": "code",
   "execution_count": 27,
   "id": "287564a7",
   "metadata": {},
   "outputs": [],
   "source": [
    "# using PyCall\n",
    "# using PyPlot\n",
    "\n",
    "# plt = pyimport(\"matplotlib.pyplot\")\n",
    "# mpl_toolkits = pyimport(\"mpl_toolkits\")\n",
    "# x = range(0;stop=2*pi,length=1000); y = sin.(3*x + 4*cos.(2*x));\n",
    "# plot(x, y, color=\"red\", linewidth=2.0, linestyle=\"--\")\n",
    "# # plt.show()\n",
    "\n",
    "# function run_viz(x, y, z, c)\n",
    "#     fig = plt.figure(figsize=(9, 6))\n",
    "#     ax = plt.axes(projection=\"3d\")\n",
    "#     ax.scatter3D(x, y, z, c=c)\n",
    "#     p = ax.set_title(\"3D scatterplot\", pad=25, size=15)\n",
    "#     ax.set_xlabel(\"X\") \n",
    "#     ax.set_ylabel(\"Y\") \n",
    "#     ax.set_zlabel(\"Z\")\n",
    "#     plt.show()\n",
    "# end\n",
    "\n",
    "\n",
    "\n",
    "# # PyCall.py\"\"\"\n",
    "# # import matplotlib.pyplot as plt\n",
    "# # from mpl_toolkits import mplot3d\n",
    "# # def run_viz(x,y,z,c):\n",
    "# #     fig = plt.figure(figsize=(9, 6))\n",
    "# #     ax = plt.axes(projection='3d')\n",
    "# #     ax.scatter3D(x, y, z, c=c)\n",
    "# #     p = ax.set_title(\"3D scatterplot\", pad=25, size=15)\n",
    "# #     ax.set_xlabel(\"X\") \n",
    "# #     ax.set_ylabel(\"Y\") \n",
    "# #     ax.set_zlabel(\"Z\")\n",
    "# #     plt.show()\n",
    "# # \"\"\"\n",
    "\n",
    "# run_viz( (i->i[1]).(xyz), (i->i[2]).(xyz), (i->i[3]).(xyz), weights_xyz)"
   ]
  },
  {
   "cell_type": "code",
   "execution_count": null,
   "id": "dbdbf8d1",
   "metadata": {},
   "outputs": [],
   "source": []
  }
 ],
 "metadata": {
  "jupytext": {
   "cell_metadata_filter": "-all",
   "encoding": "# -*- coding: utf-8 -*-",
   "notebook_metadata_filter": "-all"
  },
  "kernelspec": {
   "display_name": "Julia multithreading6 1.7.2",
   "language": "julia",
   "name": "julia-multithreading6-1.7"
  },
  "language_info": {
   "file_extension": ".jl",
   "mimetype": "application/julia",
   "name": "julia",
   "version": "1.7.2"
  },
  "toc": {
   "base_numbering": 1,
   "nav_menu": {},
   "number_sections": true,
   "sideBar": true,
   "skip_h1_title": false,
   "title_cell": "Table of Contents",
   "title_sidebar": "Contents",
   "toc_cell": false,
   "toc_position": {},
   "toc_section_display": true,
   "toc_window_display": false
  },
  "varInspector": {
   "cols": {
    "lenName": 16,
    "lenType": 16,
    "lenVar": 40
   },
   "kernels_config": {
    "python": {
     "delete_cmd_postfix": "",
     "delete_cmd_prefix": "del ",
     "library": "var_list.py",
     "varRefreshCmd": "print(var_dic_list())"
    },
    "r": {
     "delete_cmd_postfix": ") ",
     "delete_cmd_prefix": "rm(",
     "library": "var_list.r",
     "varRefreshCmd": "cat(var_dic_list()) "
    }
   },
   "types_to_exclude": [
    "module",
    "function",
    "builtin_function_or_method",
    "instance",
    "_Feature"
   ],
   "window_display": false
  }
 },
 "nbformat": 4,
 "nbformat_minor": 5
}
