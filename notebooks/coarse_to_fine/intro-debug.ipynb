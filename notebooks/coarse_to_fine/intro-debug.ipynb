{
 "cells": [
  {
   "cell_type": "code",
   "execution_count": 1,
   "id": "2578a13f",
   "metadata": {},
   "outputs": [
    {
     "name": "stderr",
     "output_type": "stream",
     "text": [
      "\u001b[32m\u001b[1m  Activating\u001b[22m\u001b[39m project at `C:\\SY\\MIT\\UROP\\InverseGraphics\\InverseGraphics`\n"
     ]
    }
   ],
   "source": [
    "import Pkg\n",
    "Pkg.activate(\"../../\");"
   ]
  },
  {
   "cell_type": "code",
   "execution_count": 2,
   "id": "282f1623",
   "metadata": {},
   "outputs": [],
   "source": [
    "import Revise\n",
    "import GLRenderer as GL\n",
    "import Images as I\n",
    "import MiniGSG as S\n",
    "import Rotations as R\n",
    "import PoseComposition: Pose, IDENTITY_POSE, IDENTITY_ORN\n",
    "import InverseGraphics as T\n",
    "import NearestNeighbors\n",
    "import LightGraphs as LG\n",
    "import StaticArrays\n",
    "import ProgressMeter\n",
    "using Distributions\n",
    "import Gen\n",
    "using Plots\n",
    "using ProgressMeter\n",
    "try\n",
    "    import MeshCatViz as V\n",
    "catch\n",
    "    import MeshCatViz as V    \n",
    "end"
   ]
  },
  {
   "cell_type": "code",
   "execution_count": 3,
   "id": "f4fb0045",
   "metadata": {},
   "outputs": [],
   "source": [
    "# # Initialize the renderer\n",
    "# V.setup_visualizer()"
   ]
  },
  {
   "cell_type": "code",
   "execution_count": 4,
   "id": "ed750894",
   "metadata": {},
   "outputs": [
    {
     "data": {
      "text/plain": [
       "21-element Vector{String}:\n",
       " \"002_master_chef_can\"\n",
       " \"003_cracker_box\"\n",
       " \"004_sugar_box\"\n",
       " \"005_tomato_soup_can\"\n",
       " \"006_mustard_bottle\"\n",
       " \"007_tuna_fish_can\"\n",
       " \"008_pudding_box\"\n",
       " \"009_gelatin_box\"\n",
       " \"010_potted_meat_can\"\n",
       " \"011_banana\"\n",
       " \"019_pitcher_base\"\n",
       " \"021_bleach_cleanser\"\n",
       " \"024_bowl\"\n",
       " \"025_mug\"\n",
       " \"035_power_drill\"\n",
       " \"036_wood_block\"\n",
       " \"037_scissors\"\n",
       " \"040_large_marker\"\n",
       " \"051_large_clamp\"\n",
       " \"052_extra_large_clamp\"\n",
       " \"061_foam_brick\""
      ]
     },
     "execution_count": 4,
     "metadata": {},
     "output_type": "execute_result"
    }
   ],
   "source": [
    "# Loading the YCB object models\n",
    "YCB_DIR = joinpath(dirname(dirname(pwd())),\"data\")\n",
    "world_scaling_factor = 10.0\n",
    "id_to_cloud, id_to_shift, id_to_box  = T.load_ycbv_models_adjusted(YCB_DIR, world_scaling_factor);\n",
    "all_ids = sort(collect(keys(id_to_cloud)));\n",
    "names = T.load_ycb_model_list(YCB_DIR)"
   ]
  },
  {
   "cell_type": "code",
   "execution_count": 5,
   "id": "d736430a",
   "metadata": {},
   "outputs": [
    {
     "name": "stdout",
     "output_type": "stream",
     "text": [
      "gl_version_for_shaders = \"460\"\n",
      "true\n",
      "camera = GLRenderer.CameraIntrinsics\n",
      "  width: Int64 640\n",
      "  height: Int64 480\n",
      "  fx: Float64 640.0\n",
      "  fy: Float64 640.0\n",
      "  cx: Float64 320.0\n",
      "  cy: Float64 240.0\n",
      "  near: Float64 0.001\n",
      "  far: Float64 100.0\n",
      "\n"
     ]
    }
   ],
   "source": [
    "# Initialize the canera intrinsics and renderer that will render using those intrinsics.\n",
    "camera = GL.CameraIntrinsics()\n",
    "renderer = GL.setup_renderer(camera, GL.DepthMode())\n",
    "resolution = 0.05\n",
    "# for id in all_ids\n",
    "#     cloud = id_to_cloud[id]\n",
    "#     mesh = GL.mesh_from_voxelized_cloud(GL.voxelize(cloud, resolution), resolution);\n",
    "#     GL.load_object!(renderer, mesh)\n",
    "# end\n",
    "\n",
    "\n",
    "box_mesh = GL.box_mesh_from_dims([2.0, 2.0, 2.0])\n",
    "GL.load_object!(renderer, box_mesh)\n",
    "\n",
    "@show camera;"
   ]
  },
  {
   "cell_type": "code",
   "execution_count": null,
   "id": "7eca87fa",
   "metadata": {},
   "outputs": [],
   "source": []
  },
  {
   "cell_type": "markdown",
   "id": "aea02c1b",
   "metadata": {},
   "source": [
    "## introductory visualizations\n",
    "to get a better sense of resolution effect on likelihood + qualitative results "
   ]
  },
  {
   "cell_type": "code",
   "execution_count": 6,
   "id": "b85f67e4",
   "metadata": {},
   "outputs": [],
   "source": [
    "# #########\n",
    "# # radius scaling\n",
    "# #########\n",
    "# bounds = (-100.0, 100.0, -100.0, 100.0,-100.0,100.0)\n",
    "\n",
    "# i = 1\n",
    "# pose = Pose([0.0, 0.0, 3.0], R.RotXYZ(0.4, -0.2, 0.4))\n",
    "\n",
    "# # Reset the intrinsics inside of the renderer.\n",
    "# GL.set_intrinsics!(renderer, camera) \n",
    "\n",
    "# # And render the same image as above.\n",
    "# gt_depth_image = GL.gl_render(renderer, [i], [pose], IDENTITY_POSE)\n",
    "# IJulia.display(GL.view_depth_image(gt_depth_image))\n",
    "\n",
    "# # Create point cloud corresponding to that rendered depth image.\n",
    "# gt_cloud = GL.depth_image_to_point_cloud(gt_depth_image, camera)\n",
    "# # print(size(gt_cloud))\n",
    "\n",
    "\n",
    "# @show i\n",
    "\n",
    "# radius = 0.01  # \"tight\" radius\n",
    "# sampled_cloud = Gen.random(T.uniform_mixture_from_template, gt_cloud, 0.0001, radius, bounds)\n",
    "# # Visualize that point cloud.\n",
    "# V.setup_visualizer()\n",
    "# V.viz(sampled_cloud)  # = V.viz(T.move_points_to_frame_b(c, camera_pose))\n",
    "\n",
    " \n",
    "# radius = float(1)  # \"loose\" radius (can still pick out general shape)\n",
    "# sampled_cloud = Gen.random(T.uniform_mixture_from_template, gt_cloud, 0.0001, radius, bounds)\n",
    "# # Visualize that point cloud.\n",
    "# V.setup_visualizer()\n",
    "# V.viz(sampled_cloud)  # = V.viz(T.move_points_to_frame_b(c, camera_pose))\n",
    "\n",
    " \n",
    "# radius = float(10)  # very loose radius; points on a sphere (w/ some concentration on center with shape of obj)\n",
    "# sampled_cloud = Gen.random(T.uniform_mixture_from_template, gt_cloud, 0.0001, radius, bounds)\n",
    "# # # Visualize that point cloud.\n",
    "# # V.setup_visualizer()\n",
    "# # V.viz(sampled_cloud)  # = V.viz(T.move_points_to_frame_b(c, camera_pose))"
   ]
  },
  {
   "cell_type": "code",
   "execution_count": 7,
   "id": "4deb070c",
   "metadata": {},
   "outputs": [],
   "source": [
    "# ########\n",
    "# # camera downscaling\n",
    "# ########\n",
    "# using IJulia\n",
    "\n",
    "# final = 24\n",
    "# for downscale_factor=1:3.0:final\n",
    "#     println(\"scale down by $downscale_factor\")\n",
    "    \n",
    "#     # scale camera according to resolution; reset renderer\n",
    "#     scaled_camera = GL.scale_down_camera(camera, downscale_factor)\n",
    "        \n",
    "#     # Set the renderer to now have those scaled down intrinsics.\n",
    "#     GL.set_intrinsics!(renderer, scaled_camera)\n",
    " \n",
    "#     d = GL.gl_render(renderer, [i], [pose], IDENTITY_POSE)\n",
    "\n",
    "#     img = GL.view_depth_image(d)\n",
    "#     img = I.imresize(img, (camera.height, camera.width));\n",
    "#     IJulia.display(img)\n",
    "  \n",
    "#     # revert intrinsics\n",
    "#     GL.set_intrinsics!(renderer, camera)\n",
    "\n",
    "# end\n"
   ]
  },
  {
   "cell_type": "markdown",
   "id": "9d56301b",
   "metadata": {},
   "source": [
    "# Intro demo of coarse-to-fine with particle filtering"
   ]
  },
  {
   "cell_type": "markdown",
   "id": "3e9be6e7",
   "metadata": {},
   "source": [
    "## Particle Filtering + Orientation enumeration"
   ]
  },
  {
   "cell_type": "markdown",
   "id": "cd28dd51",
   "metadata": {},
   "source": [
    "### Orientation enumeration"
   ]
  },
  {
   "cell_type": "code",
   "execution_count": 8,
   "id": "7035b31c",
   "metadata": {},
   "outputs": [
    {
     "data": {
      "text/plain": [
       "fibonacci_sphere (generic function with 1 method)"
      ]
     },
     "execution_count": 8,
     "metadata": {},
     "output_type": "execute_result"
    }
   ],
   "source": [
    "function fibonacci_sphere(samples)\n",
    "    points = []\n",
    "    phi = π * (3. - sqrt(5.))\n",
    " \n",
    "    for i in 0:(samples-1)\n",
    "        y = 1 - (i / Float64(samples - 1)) * 2\n",
    "        #@show y\n",
    "        radius = sqrt(1 - y * y)\n",
    "\n",
    "        theta = phi * i\n",
    "\n",
    "        x = cos(theta) * radius\n",
    "        z = sin(theta) * radius\n",
    "\n",
    "        push!(points, (x, y, z))\n",
    "    end\n",
    "    return points\n",
    "end"
   ]
  },
  {
   "cell_type": "code",
   "execution_count": 52,
   "id": "272863cd",
   "metadata": {},
   "outputs": [],
   "source": [
    "unit_sphere_directions = fibonacci_sphere(100);\n",
    "other_rotation_angle = collect(0:0.2:(2*π));\n",
    "\n",
    "rotations_to_enumerate_over = [\n",
    "    let\n",
    "        T.geodesicHopf_select_axis(StaticArrays.SVector(dir), ang, 1)\n",
    "    end\n",
    "    for dir in unit_sphere_directions, \n",
    "        ang in other_rotation_angle\n",
    "];\n",
    "num_rotations_to_enumerate_over = length(rotations_to_enumerate_over);"
   ]
  },
  {
   "cell_type": "markdown",
   "id": "3652db75",
   "metadata": {},
   "source": [
    "### Helpers"
   ]
  },
  {
   "cell_type": "code",
   "execution_count": 10,
   "id": "40f23381",
   "metadata": {},
   "outputs": [
    {
     "data": {
      "text/plain": [
       "viz_trace (generic function with 1 method)"
      ]
     },
     "execution_count": 10,
     "metadata": {},
     "output_type": "execute_result"
    }
   ],
   "source": [
    "function viz_trace(trace)\n",
    "    V.setup_visualizer()\n",
    "#     V.reset_visualizer()\n",
    "    V.viz(Gen.get_retval(trace).voxelized_cloud  ./ 10.0; color=I.colorant\"red\", channel_name=:gen);\n",
    "    V.viz(Gen.get_retval(trace).obs_cloud ./ 10.0; color=I.colorant\"blue\", channel_name=:obs);\n",
    "end"
   ]
  },
  {
   "cell_type": "code",
   "execution_count": 11,
   "id": "49a75944",
   "metadata": {},
   "outputs": [
    {
     "data": {
      "text/plain": [
       "get_cloud (generic function with 1 method)"
      ]
     },
     "execution_count": 11,
     "metadata": {},
     "output_type": "execute_result"
    }
   ],
   "source": [
    "# Helper function to get point cloud from the object ids, object poses, and camera pose\n",
    "# (see demo.jl)\n",
    "function get_cloud(poses, ids, camera_pose)\n",
    "    depth_image = GL.gl_render(renderer, ids, poses, camera_pose)\n",
    "    cloud = GL.depth_image_to_point_cloud(depth_image, camera)\n",
    "    if isnothing(cloud)\n",
    "        cloud = zeros(3,1)\n",
    "    end\n",
    "    cloud\n",
    "end"
   ]
  },
  {
   "cell_type": "code",
   "execution_count": 113,
   "id": "a4c88c75",
   "metadata": {},
   "outputs": [
    {
     "data": {
      "text/plain": [
       "particle_filter_step!"
      ]
     },
     "execution_count": 113,
     "metadata": {},
     "output_type": "execute_result"
    }
   ],
   "source": [
    "\"\"\"adapted from gen pf_step:\n",
    "Perform a particle filter update, where the model arguments are adjusted, new observations are added, and the default proposal is used for new latent state.\n",
    "\"\"\"\n",
    "function particle_filter_step!(state::Gen.ParticleFilterState{U}, new_args::Tuple, argdiffs::Tuple,\n",
    "        observations) where {U}    \n",
    "    \n",
    "    log_incremental_weights = Vector{Float64}(undef, num_particles) \n",
    "    radius::Float64 = new_args[1]\n",
    "    @showprogress for i=1:num_particles\n",
    "        # TODO? do mh, drift moves, etc. tune particle before update (i.e. new likelihood)\n",
    "        println(\"entering ICP\")\n",
    "        state.traces[i], acc, _ = icp_move(state.traces[i], Gen.get_retval(state.traces[i]).id, radius, camera_pose; iterations=10)\n",
    "        println(\"exiting ICP\")\n",
    "        \n",
    "        # evolve the particle (with new radius involved in new_args)\n",
    "        (state.new_traces[i], increment, _, discard) = Gen.update(\n",
    "            state.traces[i], new_args, argdiffs, observations)\n",
    "#         if !isempty(discard)\n",
    "#             error(\"Choices were updated or deleted inside particle filter step: $discard\")\n",
    "#         end\n",
    "        log_incremental_weights[i] = increment\n",
    "        state.log_weights[i] += increment\n",
    "    end\n",
    "    \n",
    "    # swap references\n",
    "    tmp = state.traces\n",
    "    state.traces = state.new_traces\n",
    "    state.new_traces = tmp\n",
    "\n",
    "    return log_incremental_weights\n",
    "end"
   ]
  },
  {
   "cell_type": "code",
   "execution_count": 105,
   "id": "31c8e92f",
   "metadata": {},
   "outputs": [
    {
     "data": {
      "text/plain": [
       "scale_factor"
      ]
     },
     "execution_count": 105,
     "metadata": {},
     "output_type": "execute_result"
    }
   ],
   "source": [
    "bounds = (-100.0, 100.0, -100.0, 100.0,-100.0,300.0)\n",
    "v_resolution = 0.2  # distance between two points on the pointcloud \n",
    "num_candidate_objs = 1\n",
    "\n",
    "\"\"\"sample point clouds at the given camera resolution and radius\"\"\"\n",
    "Gen.@gen function model(radius, renderer)\n",
    "    \n",
    "    # fixed object (TODO: generalize to any obj id) and pose\n",
    "    i = {:id} ~ Gen.categorical(fill(1.0/num_candidate_objs, (num_candidate_objs,)))\n",
    "    p = {T.floating_pose_addr(1)} ~ T.uniformPose(-0.001, 0.001, -0.001, 0.001, 4.999, 5.001)\n",
    "    \n",
    "    \n",
    "    rendered_depth = GL.gl_render(renderer, [i], [p], camera_pose)\n",
    "    gt_cloud = GL.depth_image_to_point_cloud(rendered_depth, renderer.camera_intrinsics)\n",
    "    voxelized_cloud = GL.voxelize(gt_cloud, v_resolution)\n",
    "    obs_cloud = {T.obs_addr()} ~ T.uniform_mixture_from_template(voxelized_cloud, 0.0001, radius, bounds)\n",
    "#     print(\".\"); flush(stdout)\n",
    "         \n",
    "    (id=i, pose=p, ori=p.orientation, cloud=gt_cloud, voxelized_cloud=voxelized_cloud, rendered_clouds=[voxelized_cloud], obs_cloud=obs_cloud)\n",
    "\n",
    "end\n",
    " \n",
    "\"\"\"return scale down factor of camera given desired resolution\"\"\"\n",
    "function scale_factor(resolution, final_resolution)\n",
    "   return final_resolution-resolution+1 \n",
    "end"
   ]
  },
  {
   "cell_type": "code",
   "execution_count": 106,
   "id": "9c4a5277",
   "metadata": {},
   "outputs": [
    {
     "data": {
      "text/plain": [
       "generate_initial_pf_state"
      ]
     },
     "execution_count": 106,
     "metadata": {},
     "output_type": "execute_result"
    }
   ],
   "source": [
    "\"\"\"Selecting from a set of traces over all enumerated angles, generate a set of initial particles\"\"\"\n",
    "Gen.@gen function generate_initial_pf_state(scored_traces, num_particles, U=Gen.DynamicDSLTrace{Gen.DynamicDSLFunction{Any}})\n",
    "    # unpack traces\n",
    "    traces = (t -> t[1]).(scored_traces)\n",
    "    log_weights = (t -> t[2]).(scored_traces) #; log_weights = log_weights .- Gen.logsumexp(log_weights)  # ∝ likelihood\n",
    "    \n",
    "    _, norm_log_weights = Gen.normalize_weights(log_weights)       \n",
    "    \n",
    "    # sample initial set of particles\n",
    "    selected_traces = Vector{Gen.DynamicDSLTrace{Gen.DynamicDSLFunction{Any}}}(undef, num_particles)\n",
    "    selected_log_weights = Vector{Float64}(undef, num_particles)\n",
    "    for i=1:num_particles\n",
    "        trace_idx = {:t_idx => i} ~ Gen.categorical(exp.(norm_log_weights))   \n",
    "        selected_traces[i] = traces[trace_idx]\n",
    "        selected_log_weights[i] = log_weights[trace_idx]\n",
    "    end\n",
    "    \n",
    "    println(\"Initial particle state computed\"); flush(stdout)\n",
    "\n",
    "#     # visualize pdf of initial weights (?)\n",
    "#     plot(selected_log_weights, seriestype=:stephist, fmt = :png)\n",
    "    \n",
    "    # see intermediate results\n",
    "    top_n = 10\n",
    "    _, norm_log_weights = Gen.normalize_weights(selected_log_weights)\n",
    "    p = sortperm(norm_log_weights)[end-top_n:end]; \n",
    "\n",
    "    best_trace = selected_traces[argmax(norm_log_weights)];\n",
    "#     viz_trace(best_trace);\n",
    "    println(\"top$top_n traces:\")\n",
    "    for idx in p\n",
    "       println(\"current weight=\", norm_log_weights[idx], \"\\t orientation=\", Gen.get_retval(selected_traces[idx]).ori[1:3]) \n",
    "    end\n",
    "    flush(stdout)\n",
    "    \n",
    "    return Gen.ParticleFilterState{U}(selected_traces, Vector{U}(undef, num_particles), selected_log_weights, 0., collect(1:num_particles))\n",
    "\n",
    "end"
   ]
  },
  {
   "cell_type": "markdown",
   "id": "6b463d3c",
   "metadata": {},
   "source": [
    "### control resolution with radius (fixed camera intrinsics)"
   ]
  },
  {
   "cell_type": "code",
   "execution_count": 107,
   "id": "2f3ac3b7",
   "metadata": {},
   "outputs": [
    {
     "data": {
      "text/plain": [
       "particle_filter (generic function with 2 methods)"
      ]
     },
     "execution_count": 107,
     "metadata": {},
     "output_type": "execute_result"
    }
   ],
   "source": [
    "\"\"\"Particle filter on the evolution of agent knowledge over time; resolution control with radius\"\"\"\n",
    "\n",
    "\n",
    "function particle_filter(renderer, init_radius::Float64, final_radius::Float64, enum_ori_traces,\n",
    "                        gt_obj_id::Int, gt_pose::Pose, num_particles::Int, num_samples::Int, U=Gen.DynamicDSLTrace{Gen.DynamicDSLFunction{Any}})\n",
    "    \n",
    "    # initialize renderer and particle filter\n",
    "    GL.set_intrinsics!(renderer, camera)  \n",
    "    gt_cloud = get_cloud([gt_pose], [gt_obj_id], camera_pose)\n",
    "    gt_voxelized_cloud = GL.voxelize(gt_cloud, v_resolution)\n",
    "    V.setup_visualizer()\n",
    "    V.viz(gt_voxelized_cloud)\n",
    "    println(\"\\ninitializing particle filter at radius $init_radius\") \n",
    "    flush(stdout)\n",
    "    \n",
    "    \n",
    "    # initialize a state of initial particles with various rotations\n",
    "    scored_traces = enum_ori_traces  # get precomputed\n",
    "    \n",
    "    state::Gen.ParticleFilterState{U} = generate_initial_pf_state(scored_traces, num_particles)\n",
    "    \n",
    "    \n",
    "    # evolve over resolutions (modify sphere radius `r` of mixture point cloud likelihood)\n",
    "    @assert(final_radius <= init_radius)\n",
    "    observations = Gen.choicemap(T.obs_addr() => gt_voxelized_cloud, :id => gt_obj_id)\n",
    "    step = -0.3 \n",
    "    for radius in init_radius+step:step:final_radius\n",
    "        println(\"\\n========Radius=$radius========\"); flush(stdout)\n",
    "        Gen.maybe_resample!(state, ess_threshold=num_particles/3, verbose=true)  \n",
    "        \n",
    "        # update pf \n",
    "        current_log_weights = particle_filter_step!(state, (radius, renderer), (Gen.UnknownChange(),), observations)    \n",
    "        \n",
    "        # see intermediate results\n",
    "        top_n = 10\n",
    "        _, norm_log_weights = Gen.normalize_weights(current_log_weights)\n",
    "        p = sortperm(norm_log_weights)[end-top_n:end]; \n",
    "        \n",
    "        best_trace = state.traces[argmax(norm_log_weights)];\n",
    "#         viz_trace(best_trace);\n",
    "        println(\"top$top_n traces:\")\n",
    "        for idx in p\n",
    "           println(\"current weight=\", norm_log_weights[idx], \"\\t orientation=\", Gen.get_retval(state.traces[idx]).ori[1:3]) \n",
    "        end\n",
    "        flush(stdout)\n",
    "        \n",
    "    end;\n",
    "    \n",
    "     return Gen.sample_unweighted_traces(state, num_samples)\n",
    "    \n",
    "end"
   ]
  },
  {
   "cell_type": "code",
   "execution_count": 108,
   "id": "87503201",
   "metadata": {},
   "outputs": [
    {
     "name": "stdout",
     "output_type": "stream",
     "text": [
      "true\n",
      "num_rotations_to_enumerate_over = 3200\n"
     ]
    },
    {
     "data": {
      "text/plain": [
       "3200"
      ]
     },
     "execution_count": 108,
     "metadata": {},
     "output_type": "execute_result"
    }
   ],
   "source": [
    "# Initialize the canera intrinsics and renderer that will render using those intrinsics.\n",
    "GL.set_intrinsics!(renderer, camera)\n",
    " \n",
    "init_radius, final_radius = float(1), float(0.1)  # low to high \"focus\"\n",
    "camera_pose = IDENTITY_POSE\n",
    "\n",
    "gt_object_id = 1   # cube\n",
    "# gt_pose = T.Pose(pos=[0.0, 0.0, 5.0], orientation=R.QuatRotation(0.2, -0.5, 0.1, -0.8))\n",
    "tr, _ = Gen.generate(model, (init_radius, renderer),                 \n",
    "            Gen.choicemap(:id => 1))\n",
    "gt_pose = T.Pose(pos=[0.0, 0.0, 5.0], orientation=Gen.get_retval(tr).ori)\n",
    "\n",
    "function precompute_enumerations(gt_voxelized_cloud, gt_pose, init_radius, renderer, rotations_to_enumerate_over)\n",
    "    # initialize a state of initial particles with various rotations\n",
    "    println(\"Enumerating over all angles:\")\n",
    "    scored_traces = @showprogress map(orn -> \n",
    "                    Gen.generate(model, (init_radius, renderer),                 \n",
    "                                Gen.choicemap(T.obs_addr() => gt_voxelized_cloud, \n",
    "                                            :id => 1, \n",
    "                                            T.floating_pose_addr(1) => Pose(gt_pose.pos, orn))),\n",
    "                                rotations_to_enumerate_over[:]);   \n",
    "    return scored_traces\n",
    "end \n",
    "gt_depth_image = GL.gl_render(renderer, [gt_object_id], [gt_pose], camera_pose)\n",
    "gt_cloud = GL.depth_image_to_point_cloud(gt_depth_image, renderer.camera_intrinsics)\n",
    "gt_voxelized_cloud = GL.voxelize(gt_cloud, v_resolution)\n",
    "## precompute enumeration; run the below code once and comment out\n",
    "# enum_ori_traces = precompute_enumerations(gt_voxelized_cloud, gt_pose, init_radius, renderer, rotations_to_enumerate_over)\n",
    "\n",
    "num_rotations_to_enumerate_over = length(enum_ori_traces)\n",
    "@show num_rotations_to_enumerate_over"
   ]
  },
  {
   "cell_type": "code",
   "execution_count": 120,
   "id": "d908b4df",
   "metadata": {},
   "outputs": [
    {
     "data": {
      "text/plain": [
       "pose_mixture_move (generic function with 2 methods)"
      ]
     },
     "execution_count": 120,
     "metadata": {},
     "output_type": "execute_result"
    }
   ],
   "source": [
    "function metropolis_hastings(\n",
    "        trace, proposal::Gen.GenerativeFunction, proposal_args::Tuple;\n",
    "        check=false, observations=Gen.EmptyChoiceMap())\n",
    "    # TODO add a round trip check\n",
    "    model_args = Gen.get_args(trace)\n",
    "    argdiffs = map((_) -> Gen.NoChange(), model_args)\n",
    "    proposal_args_forward = (trace, proposal_args...,)\n",
    "    @show typeof(trace)\n",
    "    (fwd_choices, fwd_weight, _) = Gen.propose(proposal, proposal_args_forward)\n",
    "    (new_trace, weight, _, discard) = Gen.update(trace,\n",
    "        model_args, argdiffs, fwd_choices)\n",
    "    \n",
    "    proposal_args_backward = (new_trace, proposal_args...,)\n",
    "    (bwd_weight, _) = Gen.assess(proposal, proposal_args_backward, discard)\n",
    "    alpha = weight - fwd_weight + bwd_weight\n",
    "    check && Gen.check_observations(Gen.get_choices(new_trace), observations)\n",
    "    if log(rand()) < alpha\n",
    "        # accept\n",
    "        return (new_trace, true)\n",
    "    else\n",
    "        # reject\n",
    "        return (trace, false)\n",
    "    end\n",
    "end\n",
    "\n",
    "\n",
    "Gen.@gen function propose_pose_mixture(trace, addr, radius, poses, weights, posVar, rotConc)\n",
    "    pose = Gen.random(T.gaussianVMF_weighted_mixture, poses, weights, posVar, rotConc)\n",
    "    id = {:id} ~ Gen.categorical(fill(1.0/num_candidate_objs, (num_candidate_objs,)))\n",
    "\n",
    "    rendered_depth = GL.gl_render(renderer, [id], [pose], camera_pose)\n",
    "    gt_cloud = GL.depth_image_to_point_cloud(rendered_depth, renderer.camera_intrinsics)\n",
    "    voxelized_cloud = GL.voxelize(gt_cloud, v_resolution)\n",
    "    \n",
    "    obs_cloud = {T.obs_addr()} ~ T.uniform_mixture_from_template(voxelized_cloud, 0.0001, radius, bounds)\n",
    "end\n",
    "\n",
    "\n",
    "pose_mixture_move(trace, addr, inf_radius, poses, weights, posVar, rotConc) = metropolis_hastings(trace, propose_pose_mixture, (addr, inf_radius, poses, weights, posVar, rotConc))\n"
   ]
  },
  {
   "cell_type": "code",
   "execution_count": 121,
   "id": "9ca02ee9",
   "metadata": {},
   "outputs": [
    {
     "data": {
      "text/plain": [
       "InverseGraphics.GaussianVMFWeightedMixture()"
      ]
     },
     "execution_count": 121,
     "metadata": {},
     "output_type": "execute_result"
    }
   ],
   "source": [
    "T.gaussianVMF_weighted_mixture"
   ]
  },
  {
   "cell_type": "code",
   "execution_count": 126,
   "id": "9d1b4a1f",
   "metadata": {},
   "outputs": [
    {
     "data": {
      "text/plain": [
       "icp_move (generic function with 2 methods)"
      ]
     },
     "execution_count": 126,
     "metadata": {},
     "output_type": "execute_result"
    }
   ],
   "source": [
    "function icp_move(trace, i, inf_radius, cam_pose; iterations=10, unexplained_radius=0.2, crazy_pose=Pose([-100.0,-100.0,-100.0]))\n",
    "    # get_cloud_func needs to give the points in the world frame\n",
    "    model_params = Gen.get_args(trace)[1]\n",
    "    get_cloud_func = (poses, ids, cam_pose, i) -> get_cloud(poses, ids, cam_pose) #model_params.get_cloud\n",
    "\n",
    "    id = Gen.get_choices(trace)[:id] #model_params.ids[i]\n",
    "    addr = T.floating_pose_addr(i)\n",
    "    \n",
    "    crazy_voxelized_cloud = GL.voxelize(get_cloud([crazy_pose], [id], cam_pose), v_resolution)\n",
    "    observations = Gen.choicemap(T.obs_addr() => crazy_voxelized_cloud, :id => id)\n",
    "\n",
    "    t, _,_,_ = Gen.update(trace, observations)\n",
    "    obs_cloud = T.move_points_to_frame_b(\n",
    "        T.get_unexplained_obs_cloud(t, unexplained_radius)[1], cam_pose)\n",
    "\n",
    "    refined_pose = trace[addr]\n",
    "    refined_pose = T.icp_object_pose(\n",
    "        refined_pose,\n",
    "        obs_cloud,\n",
    "        p -> T.move_points_to_frame_b(get_cloud_func([p], [id], cam_pose, 1), cam_pose)\n",
    "    )\n",
    "\n",
    "    acceptances = false\n",
    "     \n",
    "    for _ in 1:iterations\n",
    "        println(\"MH\")\n",
    "        new_trace, acc = pose_mixture_move(\n",
    "            trace, addr, inf_radius, [trace[addr], refined_pose], [0.5, 0.5], 0.001, 5000.0\n",
    "        )\n",
    "        @show new_trace == trace\n",
    "        trace = new_trace\n",
    "        acceptances = acc || acceptances\n",
    "    end\n",
    "    \n",
    "    println(\"returning\")\n",
    "    trace, acceptances, refined_pose\n",
    "end"
   ]
  },
  {
   "cell_type": "code",
   "execution_count": 127,
   "id": "dcced642",
   "metadata": {
    "scrolled": true
   },
   "outputs": [
    {
     "name": "stdout",
     "output_type": "stream",
     "text": [
      "true\n",
      "\n",
      "initializing particle filter at radius 1.0\n",
      "Initial particle state computed\n",
      "top10 traces:\n",
      "current weight=-4.216930891447419\t orientation=[-0.47663717047448656, -0.7777777777777777, -0.4097300771448647]\n",
      "current weight=-4.216930891447419\t orientation=[-0.47663717047448656, -0.7777777777777777, -0.4097300771448647]\n",
      "current weight=-4.216930891447419\t orientation=[-0.47663717047448656, -0.7777777777777777, -0.4097300771448647]\n",
      "current weight=-4.216930891447419\t orientation=[-0.47663717047448656, -0.7777777777777777, -0.4097300771448647]\n",
      "current weight=-4.216930891447419\t orientation=[-0.47663717047448656, -0.7777777777777777, -0.4097300771448647]\n",
      "current weight=-4.216930891447419\t orientation=[-0.47663717047448656, -0.7777777777777777, -0.4097300771448647]\n",
      "current weight=-4.216930891447419\t orientation=[-0.47663717047448656, -0.7777777777777777, -0.4097300771448647]\n",
      "current weight=-4.216930891447419\t orientation=[-0.47663717047448656, -0.7777777777777777, -0.4097300771448647]\n",
      "current weight=-4.216930891447419\t orientation=[-0.47663717047448656, -0.7777777777777777, -0.4097300771448647]\n",
      "current weight=-4.216930891447419\t orientation=[-0.47663717047448656, -0.7777777777777777, -0.4097300771448647]\n",
      "current weight=-4.216930891447419\t orientation=[-0.47663717047448656, -0.7777777777777777, -0.4097300771448647]\n",
      "\n",
      "========Radius=0.7========\n",
      "effective sample size: 71.27147001729877, doing resample: false\n",
      "entering ICP\n",
      "MH\n",
      "typeof(trace) = Gen.DynamicDSLTrace{Gen.DynamicDSLFunction{Any}}\n"
     ]
    },
    {
     "name": "stderr",
     "output_type": "stream",
     "text": [
      "┌ Info: MeshCat server started. You can open the visualizer by visiting the following URL in your browser:\n",
      "│ http://127.0.0.1:8728\n",
      "└ @ MeshCat C:\\Users\\karen\\.julia\\packages\\MeshCat\\Ax8pH\\src\\visualizer.jl:73\n"
     ]
    },
    {
     "ename": "LoadError",
     "evalue": "MethodError: no method matching /(::Nothing, ::Float64)\n\u001b[0mClosest candidates are:\n\u001b[0m  /(::Any, \u001b[91m::ChainRulesCore.AbstractThunk\u001b[39m) at C:\\Users\\karen\\.julia\\packages\\ChainRulesCore\\RbX5a\\src\\tangent_types\\thunks.jl:33\n\u001b[0m  /(\u001b[91m::StridedArray{P}\u001b[39m, ::Real) where P<:Dates.Period at C:\\Users\\karen\\AppData\\Local\\Programs\\Julia-1.7.2\\share\\julia\\stdlib\\v1.7\\Dates\\src\\deprecated.jl:44\n\u001b[0m  /(\u001b[91m::Union{SparseArrays.SparseVector{Tv, Ti}, SubArray{Tv, 1, <:SparseArrays.AbstractSparseVector{Tv, Ti}, Tuple{Base.Slice{Base.OneTo{Int64}}}, false}, SubArray{Tv, 1, <:SparseArrays.AbstractSparseMatrixCSC{Tv, Ti}, Tuple{Base.Slice{Base.OneTo{Int64}}, Int64}, false}} where {Tv, Ti}\u001b[39m, ::Number) at C:\\Users\\karen\\AppData\\Local\\Programs\\Julia-1.7.2\\share\\julia\\stdlib\\v1.7\\SparseArrays\\src\\sparsevector.jl:1476\n\u001b[0m  ...",
     "output_type": "error",
     "traceback": [
      "MethodError: no method matching /(::Nothing, ::Float64)\n\u001b[0mClosest candidates are:\n\u001b[0m  /(::Any, \u001b[91m::ChainRulesCore.AbstractThunk\u001b[39m) at C:\\Users\\karen\\.julia\\packages\\ChainRulesCore\\RbX5a\\src\\tangent_types\\thunks.jl:33\n\u001b[0m  /(\u001b[91m::StridedArray{P}\u001b[39m, ::Real) where P<:Dates.Period at C:\\Users\\karen\\AppData\\Local\\Programs\\Julia-1.7.2\\share\\julia\\stdlib\\v1.7\\Dates\\src\\deprecated.jl:44\n\u001b[0m  /(\u001b[91m::Union{SparseArrays.SparseVector{Tv, Ti}, SubArray{Tv, 1, <:SparseArrays.AbstractSparseVector{Tv, Ti}, Tuple{Base.Slice{Base.OneTo{Int64}}}, false}, SubArray{Tv, 1, <:SparseArrays.AbstractSparseMatrixCSC{Tv, Ti}, Tuple{Base.Slice{Base.OneTo{Int64}}, Int64}, false}} where {Tv, Ti}\u001b[39m, ::Number) at C:\\Users\\karen\\AppData\\Local\\Programs\\Julia-1.7.2\\share\\julia\\stdlib\\v1.7\\SparseArrays\\src\\sparsevector.jl:1476\n\u001b[0m  ...",
      "",
      "Stacktrace:",
      "  [1] _broadcast_getindex_evalf",
      "    @ .\\broadcast.jl:670 [inlined]",
      "  [2] _broadcast_getindex",
      "    @ .\\broadcast.jl:643 [inlined]",
      "  [3] _getindex",
      "    @ .\\broadcast.jl:667 [inlined]",
      "  [4] _broadcast_getindex",
      "    @ .\\broadcast.jl:642 [inlined]",
      "  [5] getindex",
      "    @ .\\broadcast.jl:597 [inlined]",
      "  [6] copy",
      "    @ .\\broadcast.jl:875 [inlined]",
      "  [7] materialize",
      "    @ .\\broadcast.jl:860 [inlined]",
      "  [8] voxelize(cloud::Nothing, resolution::Float64)",
      "    @ GLRenderer C:\\Users\\karen\\.julia\\packages\\GLRenderer\\TkAsH\\src\\mesh.jl:4",
      "  [9] var\"##propose_pose_mixture#324\"(state#293::Gen.GFAssessState, trace::Gen.DynamicDSLTrace{Gen.DynamicDSLFunction{Any}}, addr::Pair{Symbol, Pair{Symbol, Pair{Int64, Pair{Symbol, Symbol}}}}, radius::Float64, poses::Vector{Pose}, weights::Vector{Float64}, posVar::Float64, rotConc::Float64)",
      "    @ Main .\\In[120]:33",
      " [10] exec(gen_fn::Gen.DynamicDSLFunction{Any}, state::Gen.GFAssessState, args::Tuple{Gen.DynamicDSLTrace{Gen.DynamicDSLFunction{Any}}, Pair{Symbol, Pair{Symbol, Pair{Int64, Pair{Symbol, Symbol}}}}, Float64, Vector{Pose}, Vector{Float64}, Float64, Float64})",
      "    @ Gen C:\\Users\\karen\\.julia\\packages\\Gen\\thmFY\\src\\dynamic\\dynamic.jl:58",
      " [11] assess(gen_fn::Gen.DynamicDSLFunction{Any}, args::Tuple{Gen.DynamicDSLTrace{Gen.DynamicDSLFunction{Any}}, Pair{Symbol, Pair{Symbol, Pair{Int64, Pair{Symbol, Symbol}}}}, Float64, Vector{Pose}, Vector{Float64}, Float64, Float64}, choices::Gen.DynamicChoiceMap)",
      "    @ Gen C:\\Users\\karen\\.julia\\packages\\Gen\\thmFY\\src\\dynamic\\assess.jl:57",
      " [12] metropolis_hastings(trace::Gen.DynamicDSLTrace{Gen.DynamicDSLFunction{Any}}, proposal::Gen.DynamicDSLFunction{Any}, proposal_args::Tuple{Pair{Symbol, Pair{Symbol, Pair{Int64, Pair{Symbol, Symbol}}}}, Float64, Vector{Pose}, Vector{Float64}, Float64, Float64}; check::Bool, observations::Gen.EmptyChoiceMap)",
      "    @ Main .\\In[120]:14",
      " [13] metropolis_hastings(trace::Gen.DynamicDSLTrace{Gen.DynamicDSLFunction{Any}}, proposal::Gen.DynamicDSLFunction{Any}, proposal_args::Tuple{Pair{Symbol, Pair{Symbol, Pair{Int64, Pair{Symbol, Symbol}}}}, Float64, Vector{Pose}, Vector{Float64}, Float64, Float64})",
      "    @ Main .\\In[120]:5",
      " [14] pose_mixture_move(trace::Gen.DynamicDSLTrace{Gen.DynamicDSLFunction{Any}}, addr::Pair{Symbol, Pair{Symbol, Pair{Int64, Pair{Symbol, Symbol}}}}, inf_radius::Float64, poses::Vector{Pose}, weights::Vector{Float64}, posVar::Float64, rotConc::Float64)",
      "    @ Main .\\In[120]:39",
      " [15] icp_move(trace::Gen.DynamicDSLTrace{Gen.DynamicDSLFunction{Any}}, i::Int64, inf_radius::Float64, cam_pose::Pose; iterations::Int64, unexplained_radius::Float64, crazy_pose::Pose)",
      "    @ Main .\\In[126]:27",
      " [16] macro expansion",
      "    @ .\\In[113]:12 [inlined]",
      " [17] macro expansion",
      "    @ C:\\Users\\karen\\.julia\\packages\\ProgressMeter\\sN2xr\\src\\ProgressMeter.jl:938 [inlined]",
      " [18] particle_filter_step!(state::Gen.ParticleFilterState{Gen.DynamicDSLTrace{Gen.DynamicDSLFunction{Any}}}, new_args::Tuple{Float64, GLRenderer.Renderer{GLRenderer.DepthMode}}, argdiffs::Tuple{Gen.UnknownChange}, observations::Gen.DynamicChoiceMap)",
      "    @ Main .\\In[113]:9",
      " [19] particle_filter(renderer::GLRenderer.Renderer{GLRenderer.DepthMode}, init_radius::Float64, final_radius::Float64, enum_ori_traces::Vector{Tuple{Gen.DynamicDSLTrace{Gen.DynamicDSLFunction{Any}}, Float64}}, gt_obj_id::Int64, gt_pose::Pose, num_particles::Int64, num_samples::Int64, U::Type)",
      "    @ Main .\\In[107]:32",
      " [20] particle_filter(renderer::GLRenderer.Renderer{GLRenderer.DepthMode}, init_radius::Float64, final_radius::Float64, enum_ori_traces::Vector{Tuple{Gen.DynamicDSLTrace{Gen.DynamicDSLFunction{Any}}, Float64}}, gt_obj_id::Int64, gt_pose::Pose, num_particles::Int64, num_samples::Int64)",
      "    @ Main .\\In[107]:8",
      " [21] top-level scope",
      "    @ .\\timing.jl:220 [inlined]",
      " [22] top-level scope",
      "    @ .\\In[127]:0",
      " [23] eval",
      "    @ .\\boot.jl:373 [inlined]",
      " [24] include_string(mapexpr::typeof(REPL.softscope), mod::Module, code::String, filename::String)",
      "    @ Base .\\loading.jl:1196"
     ]
    }
   ],
   "source": [
    "\n",
    "num_particles = 100\n",
    "num_samples = num_particles\n",
    "@time pf_traces = particle_filter(renderer, init_radius, final_radius, enum_ori_traces, gt_object_id, gt_pose, num_particles, num_samples);\n"
   ]
  },
  {
   "cell_type": "code",
   "execution_count": 20,
   "id": "3b9d5897",
   "metadata": {
    "scrolled": true
   },
   "outputs": [
    {
     "ename": "LoadError",
     "evalue": "UndefVarError: pf_traces not defined",
     "output_type": "error",
     "traceback": [
      "UndefVarError: pf_traces not defined",
      "",
      "Stacktrace:",
      " [1] top-level scope",
      "   @ :0",
      " [2] eval",
      "   @ .\\boot.jl:373 [inlined]",
      " [3] include_string(mapexpr::typeof(REPL.softscope), mod::Module, code::String, filename::String)",
      "   @ Base .\\loading.jl:1196"
     ]
    }
   ],
   "source": [
    "pf_traces"
   ]
  },
  {
   "cell_type": "markdown",
   "id": "ec4bae27",
   "metadata": {},
   "source": [
    "### visualization of the enumerated posterior at multiple different resolutions"
   ]
  },
  {
   "cell_type": "code",
   "execution_count": 21,
   "id": "b4fc9cc8",
   "metadata": {},
   "outputs": [
    {
     "data": {
      "text/plain": [
       "25-element Vector{Float64}:\n",
       " 1.0\n",
       " 1.0\n",
       " 1.0\n",
       " 1.0\n",
       " 1.0\n",
       " 1.0\n",
       " 1.0\n",
       " 1.0\n",
       " 1.0\n",
       " 1.0\n",
       " 1.0\n",
       " 1.0\n",
       " 1.0\n",
       " 1.0\n",
       " 1.0\n",
       " 1.0\n",
       " 1.0\n",
       " 1.0\n",
       " 1.0\n",
       " 1.0\n",
       " 1.0\n",
       " 1.0\n",
       " 1.0\n",
       " 1.0\n",
       " 1.0"
      ]
     },
     "execution_count": 21,
     "metadata": {},
     "output_type": "execute_result"
    }
   ],
   "source": [
    "xyz = [\n",
    "    rotations_to_enumerate_over[i,1] * [1, 0, 0]\n",
    "    for i in 1:size(rotations_to_enumerate_over)[1] \n",
    "];\n",
    "log_weights_xyz = zeros(size(rotations_to_enumerate_over)[1])\n",
    "weights_xyz = exp.(log_weights_xyz)\n",
    "order = sortperm(weights_xyz,rev=true)\n",
    "weights_xyz = weights_xyz[order]\n",
    "xyz = xyz[order]\n",
    "weights_xyz\n"
   ]
  },
  {
   "cell_type": "code",
   "execution_count": 22,
   "id": "287564a7",
   "metadata": {},
   "outputs": [
    {
     "name": "stderr",
     "output_type": "stream",
     "text": [
      "WARNING: both PyPlot and Plots export \"plot\"; uses of it in module Main must be qualified\n"
     ]
    },
    {
     "ename": "LoadError",
     "evalue": "UndefVarError: plot not defined",
     "output_type": "error",
     "traceback": [
      "UndefVarError: plot not defined",
      "",
      "Stacktrace:",
      " [1] top-level scope",
      "   @ In[22]:7",
      " [2] eval",
      "   @ .\\boot.jl:373 [inlined]",
      " [3] include_string(mapexpr::typeof(REPL.softscope), mod::Module, code::String, filename::String)",
      "   @ Base .\\loading.jl:1196"
     ]
    }
   ],
   "source": [
    "using PyCall\n",
    "using PyPlot\n",
    "\n",
    "plt = pyimport(\"matplotlib.pyplot\")\n",
    "mpl_toolkits = pyimport(\"mpl_toolkits\")\n",
    "x = range(0;stop=2*pi,length=1000); y = sin.(3*x + 4*cos.(2*x));\n",
    "plot(x, y, color=\"red\", linewidth=2.0, linestyle=\"--\")\n",
    "# plt.show()\n",
    "\n",
    "function run_viz(x, y, z, c)\n",
    "    fig = plt.figure(figsize=(9, 6))\n",
    "    ax = plt.axes(projection=\"3d\")\n",
    "    ax.scatter3D(x, y, z, c=c)\n",
    "    p = ax.set_title(\"3D scatterplot\", pad=25, size=15)\n",
    "    ax.set_xlabel(\"X\") \n",
    "    ax.set_ylabel(\"Y\") \n",
    "    ax.set_zlabel(\"Z\")\n",
    "    plt.show()\n",
    "end\n",
    "\n",
    "\n",
    "\n",
    "# PyCall.py\"\"\"\n",
    "# import matplotlib.pyplot as plt\n",
    "# from mpl_toolkits import mplot3d\n",
    "# def run_viz(x,y,z,c):\n",
    "#     fig = plt.figure(figsize=(9, 6))\n",
    "#     ax = plt.axes(projection='3d')\n",
    "#     ax.scatter3D(x, y, z, c=c)\n",
    "#     p = ax.set_title(\"3D scatterplot\", pad=25, size=15)\n",
    "#     ax.set_xlabel(\"X\") \n",
    "#     ax.set_ylabel(\"Y\") \n",
    "#     ax.set_zlabel(\"Z\")\n",
    "#     plt.show()\n",
    "# \"\"\"\n",
    "\n",
    "run_viz( (i->i[1]).(xyz), (i->i[2]).(xyz), (i->i[3]).(xyz), weights_xyz)"
   ]
  },
  {
   "cell_type": "code",
   "execution_count": null,
   "id": "dbdbf8d1",
   "metadata": {},
   "outputs": [],
   "source": []
  }
 ],
 "metadata": {
  "jupytext": {
   "cell_metadata_filter": "-all",
   "encoding": "# -*- coding: utf-8 -*-",
   "notebook_metadata_filter": "-all"
  },
  "kernelspec": {
   "display_name": "Julia 1.7.2",
   "language": "julia",
   "name": "julia-1.7"
  },
  "language_info": {
   "file_extension": ".jl",
   "mimetype": "application/julia",
   "name": "julia",
   "version": "1.7.2"
  },
  "toc": {
   "base_numbering": 1,
   "nav_menu": {},
   "number_sections": true,
   "sideBar": true,
   "skip_h1_title": false,
   "title_cell": "Table of Contents",
   "title_sidebar": "Contents",
   "toc_cell": false,
   "toc_position": {},
   "toc_section_display": true,
   "toc_window_display": false
  },
  "varInspector": {
   "cols": {
    "lenName": 16,
    "lenType": 16,
    "lenVar": 40
   },
   "kernels_config": {
    "python": {
     "delete_cmd_postfix": "",
     "delete_cmd_prefix": "del ",
     "library": "var_list.py",
     "varRefreshCmd": "print(var_dic_list())"
    },
    "r": {
     "delete_cmd_postfix": ") ",
     "delete_cmd_prefix": "rm(",
     "library": "var_list.r",
     "varRefreshCmd": "cat(var_dic_list()) "
    }
   },
   "types_to_exclude": [
    "module",
    "function",
    "builtin_function_or_method",
    "instance",
    "_Feature"
   ],
   "window_display": false
  }
 },
 "nbformat": 4,
 "nbformat_minor": 5
}
