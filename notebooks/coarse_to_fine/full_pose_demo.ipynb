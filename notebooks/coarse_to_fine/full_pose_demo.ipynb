{
 "cells": [
  {
   "cell_type": "markdown",
   "id": "e140c587-f9b2-4d14-81a0-dd278b7f9138",
   "metadata": {},
   "source": [
    "## Full demo notebook for pose estimation \n",
    "**This notebook demonstrates the coarse-to-fine, bottom-up approach to pose estimation for an object with known identity.**"
   ]
  },
  {
   "cell_type": "markdown",
   "id": "9f98afea-6c3b-40a7-bdfc-95e120595a0c",
   "metadata": {
    "tags": []
   },
   "source": [
    "### Setup"
   ]
  },
  {
   "cell_type": "code",
   "execution_count": 1,
   "id": "5b0ecb18-c16a-409a-843d-bfe8b21e7c65",
   "metadata": {},
   "outputs": [
    {
     "name": "stderr",
     "output_type": "stream",
     "text": [
      "\u001b[32m\u001b[1m  Activating\u001b[22m\u001b[39m project at `C:\\SY\\MIT\\UROP\\InverseGraphics\\InverseGraphics`\n"
     ]
    }
   ],
   "source": [
    "import Pkg\n",
    "Pkg.activate(\"../../\");  # setup InverseGraphics environment\n"
   ]
  },
  {
   "cell_type": "code",
   "execution_count": 2,
   "id": "3d41b1ef-e5ba-4e9f-b314-6829becaa52d",
   "metadata": {
    "tags": []
   },
   "outputs": [],
   "source": [
    "# Pkg.precompile()"
   ]
  },
  {
   "cell_type": "code",
   "execution_count": 3,
   "id": "123c81a1-1ded-4495-8b5d-060a2399015c",
   "metadata": {
    "jupyter": {
     "outputs_hidden": true
    },
    "tags": []
   },
   "outputs": [],
   "source": [
    "import Revise\n",
    "import GLRenderer as GL\n",
    "import Images as I\n",
    "import MiniGSG as S\n",
    "import Rotations as R\n",
    "import PoseComposition: Pose, IDENTITY_POSE, IDENTITY_ORN"
   ]
  },
  {
   "cell_type": "code",
   "execution_count": 4,
   "id": "2953c409-ced0-42e9-b765-ddfa8fec2e4c",
   "metadata": {
    "jupyter": {
     "outputs_hidden": true
    },
    "tags": []
   },
   "outputs": [],
   "source": [
    "import InverseGraphics as T\n",
    "import NearestNeighbors\n",
    "import LightGraphs as LG\n",
    "import StaticArrays\n",
    "import ProgressMeter\n",
    "import Serialization\n"
   ]
  },
  {
   "cell_type": "code",
   "execution_count": 5,
   "id": "bff7eb14-43a8-4fc7-9117-e7475ab1a0f9",
   "metadata": {},
   "outputs": [],
   "source": [
    "using Distributions\n",
    "import Gen\n",
    "using ProgressMeter\n",
    "try\n",
    "    import MeshCatViz as V\n",
    "catch\n",
    "    import MeshCatViz as V    \n",
    "end"
   ]
  },
  {
   "cell_type": "code",
   "execution_count": null,
   "id": "95663fc1-f09b-4847-bf25-6d531c4fc492",
   "metadata": {},
   "outputs": [],
   "source": [
    "V.setup_visualizer()"
   ]
  },
  {
   "cell_type": "code",
   "execution_count": 7,
   "id": "81920d30-7d2b-4674-ae26-2598081a3122",
   "metadata": {},
   "outputs": [],
   "source": [
    "# Load the YCB object models\n",
    "YCB_DIR = joinpath(dirname(dirname(pwd())),\"data\")\n",
    "world_scaling_factor = 10.0\n",
    "id_to_cloud, id_to_shift, id_to_box  = T.load_ycbv_models_adjusted(YCB_DIR, world_scaling_factor);\n",
    "all_ids = sort(collect(keys(id_to_cloud)));\n",
    "names = T.load_ycb_model_list(YCB_DIR);"
   ]
  },
  {
   "cell_type": "code",
   "execution_count": 8,
   "id": "2f3232bc-97f1-46dc-ba3e-f2fee3787257",
   "metadata": {},
   "outputs": [
    {
     "data": {
      "text/plain": [
       "Pose⟨pos=[0, 0, 0], orientation=(w=1.0, x=0.0, y=0.0, z=0.0)⟩"
      ]
     },
     "execution_count": 8,
     "metadata": {},
     "output_type": "execute_result"
    }
   ],
   "source": [
    "# Initialize the canera intrinsics and renderer that will render using those intrinsics.\n",
    "camera = GL.CameraIntrinsics()\n",
    "camera = T.scale_down_camera(camera, 5.5)\n",
    "camera_pose = IDENTITY_POSE"
   ]
  },
  {
   "cell_type": "code",
   "execution_count": 9,
   "id": "b9f85458-e9d3-460b-bd9c-7492aa53c6c9",
   "metadata": {},
   "outputs": [
    {
     "name": "stdout",
     "output_type": "stream",
     "text": [
      "gl_version_for_shaders = \"460\"\n",
      "true\n",
      "length(all_ids) = 21\n"
     ]
    },
    {
     "data": {
      "text/plain": [
       "21"
      ]
     },
     "execution_count": 9,
     "metadata": {},
     "output_type": "execute_result"
    }
   ],
   "source": [
    "# Initialize renderer and load all ycb objects\n",
    "renderer = GL.setup_renderer(camera, GL.DepthMode())\n",
    "resolution = 0.05\n",
    "\n",
    "for id in all_ids\n",
    "    cloud = id_to_cloud[id]\n",
    "    mesh = GL.mesh_from_voxelized_cloud(GL.voxelize(cloud, resolution), resolution);\n",
    "    GL.load_object!(renderer, mesh)\n",
    "end\n",
    "@show length(all_ids)"
   ]
  },
  {
   "cell_type": "markdown",
   "id": "bab130d3-c592-479c-9a00-7544204e1ed9",
   "metadata": {},
   "source": [
    "### Introductory visualizations\n",
    "Visual examples of coarse-to-fine rendering"
   ]
  },
  {
   "cell_type": "markdown",
   "id": "4b21fec0-7465-41db-a19f-8bd83fe00ac7",
   "metadata": {},
   "source": [
    "#### \"Radius\" ($r$ in likelihood) scaling\n",
    "$$p(Y \\vert \\textbf{O}^M, \\textbf{x}_v) = \\prod_{i=1}^{K} (C \\cdot \\frac{1}{B} + \\frac{1-C}{\\tilde{K}} \\sum_{j=1}^{\\tilde{K}}\\frac{\\mathbf{1} (\\vert\\vert{y_i - \\tilde{y_i}}\\vert\\vert  \\leq r)}{\\frac{4}{3}\\pi r^3}) \n",
    "\\label{equation:likelihood}$$\n",
    "\n",
    "\n",
    "\n",
    "Infinite mixture (for $K$, the # of points in the sampled cloud) of finite mixtures (each sphere centered at template cloud point)\n"
   ]
  },
  {
   "cell_type": "code",
   "execution_count": 10,
   "id": "54cfcb57-3eeb-446d-80b2-d4f3b9d40268",
   "metadata": {},
   "outputs": [
    {
     "name": "stdout",
     "output_type": "stream",
     "text": [
      "names[sample_id] = \"005_tomato_soup_can\"\n",
      "true\n"
     ]
    },
    {
     "data": {
      "image/png": "[encoded data removed]",
      "text/plain": [
       "87×116 Array{RGBA{Float64},2} with eltype ColorTypes.RGBA{Float64}:\n",
       " RGBA{Float64}(1.0,1.0,1.0,1.0)  …  RGBA{Float64}(1.0,1.0,1.0,1.0)\n",
       " RGBA{Float64}(1.0,1.0,1.0,1.0)     RGBA{Float64}(1.0,1.0,1.0,1.0)\n",
       " RGBA{Float64}(1.0,1.0,1.0,1.0)     RGBA{Float64}(1.0,1.0,1.0,1.0)\n",
       " RGBA{Float64}(1.0,1.0,1.0,1.0)     RGBA{Float64}(1.0,1.0,1.0,1.0)\n",
       " RGBA{Float64}(1.0,1.0,1.0,1.0)     RGBA{Float64}(1.0,1.0,1.0,1.0)\n",
       " RGBA{Float64}(1.0,1.0,1.0,1.0)  …  RGBA{Float64}(1.0,1.0,1.0,1.0)\n",
       " RGBA{Float64}(1.0,1.0,1.0,1.0)     RGBA{Float64}(1.0,1.0,1.0,1.0)\n",
       " RGBA{Float64}(1.0,1.0,1.0,1.0)     RGBA{Float64}(1.0,1.0,1.0,1.0)\n",
       " RGBA{Float64}(1.0,1.0,1.0,1.0)     RGBA{Float64}(1.0,1.0,1.0,1.0)\n",
       " RGBA{Float64}(1.0,1.0,1.0,1.0)     RGBA{Float64}(1.0,1.0,1.0,1.0)\n",
       " RGBA{Float64}(1.0,1.0,1.0,1.0)  …  RGBA{Float64}(1.0,1.0,1.0,1.0)\n",
       " RGBA{Float64}(1.0,1.0,1.0,1.0)     RGBA{Float64}(1.0,1.0,1.0,1.0)\n",
       " RGBA{Float64}(1.0,1.0,1.0,1.0)     RGBA{Float64}(1.0,1.0,1.0,1.0)\n",
       " ⋮                               ⋱  ⋮\n",
       " RGBA{Float64}(1.0,1.0,1.0,1.0)  …  RGBA{Float64}(1.0,1.0,1.0,1.0)\n",
       " RGBA{Float64}(1.0,1.0,1.0,1.0)     RGBA{Float64}(1.0,1.0,1.0,1.0)\n",
       " RGBA{Float64}(1.0,1.0,1.0,1.0)     RGBA{Float64}(1.0,1.0,1.0,1.0)\n",
       " RGBA{Float64}(1.0,1.0,1.0,1.0)     RGBA{Float64}(1.0,1.0,1.0,1.0)\n",
       " RGBA{Float64}(1.0,1.0,1.0,1.0)     RGBA{Float64}(1.0,1.0,1.0,1.0)\n",
       " RGBA{Float64}(1.0,1.0,1.0,1.0)  …  RGBA{Float64}(1.0,1.0,1.0,1.0)\n",
       " RGBA{Float64}(1.0,1.0,1.0,1.0)     RGBA{Float64}(1.0,1.0,1.0,1.0)\n",
       " RGBA{Float64}(1.0,1.0,1.0,1.0)     RGBA{Float64}(1.0,1.0,1.0,1.0)\n",
       " RGBA{Float64}(1.0,1.0,1.0,1.0)     RGBA{Float64}(1.0,1.0,1.0,1.0)\n",
       " RGBA{Float64}(1.0,1.0,1.0,1.0)     RGBA{Float64}(1.0,1.0,1.0,1.0)\n",
       " RGBA{Float64}(1.0,1.0,1.0,1.0)  …  RGBA{Float64}(1.0,1.0,1.0,1.0)\n",
       " RGBA{Float64}(1.0,1.0,1.0,1.0)     RGBA{Float64}(1.0,1.0,1.0,1.0)"
      ]
     },
     "metadata": {},
     "output_type": "display_data"
    }
   ],
   "source": [
    "bounds = (-100.0, 100.0, -100.0, 100.0,-100.0, 100.0)  # world bounds\n",
    "\n",
    "sample_id = rand(all_ids)  # choose some object in all_ids\n",
    "@show names[sample_id]\n",
    "sample_pose = Pose([0.0, 0.0, 3.0], R.RotXYZ(0.4, -0.2, 0.4))  # and a random pose\n",
    "\n",
    "# Reset the intrinsics inside of the renderer.\n",
    "GL.set_intrinsics!(renderer, camera) \n",
    "\n",
    "# And render the same image as above.\n",
    "gt_depth_image = GL.gl_render(renderer, [sample_id], [sample_pose], camera_pose)\n",
    "IJulia.display(GL.view_depth_image(gt_depth_image))\n",
    "\n",
    "# Create point cloud corresponding to that rendered depth image.\n",
    "gt_cloud = GL.depth_image_to_point_cloud(gt_depth_image, camera);"
   ]
  },
  {
   "cell_type": "markdown",
   "id": "245f1568",
   "metadata": {},
   "source": [
    "Try varying the radius between small (0.01) to large (10) and observe the sampled point cloud visualization"
   ]
  },
  {
   "cell_type": "code",
   "execution_count": null,
   "id": "56c0439e-3399-491f-a186-4580c6e9b467",
   "metadata": {},
   "outputs": [],
   "source": [
    "# radius = 0.01 \n",
    "# radius = 0.1\n",
    "radius = 1.0\n",
    "# radius = 10.0\n",
    "\n",
    "sampled_cloud = T.voxelize(Gen.random(T.uniform_mixture_from_template, gt_cloud, 0.0001, radius, bounds), 0.005)\n",
    "\n",
    "# Visualize the point cloud.\n",
    "V.setup_visualizer()\n",
    "V.viz(sampled_cloud, color=I.colorant\"red\", channel_name=:origin)  # = V.viz(T.move_points_to_frame_b(c, camera_pose))\n",
    "\n",
    "\n",
    "function move_points_to_frame_b(points_in_frame_a::Matrix{<:Real}, b_relative_to_a::Pose)\n",
    "    if size(points_in_frame_a)[1] != 3\n",
    "        error(\"expected an 3 x n matrix\")\n",
    "    end\n",
    "    n = size(points_in_frame_a[2])\n",
    "    return b_relative_to_a.orientation * points_in_frame_a .+ b_relative_to_a.pos\n",
    "end"
   ]
  },
  {
   "cell_type": "markdown",
   "id": "56b0b61a",
   "metadata": {},
   "source": [
    "#### Camera downscaling\n",
    "Alternatively, we can downscale the camera resolution to generate depth images of different coarseness"
   ]
  },
  {
   "cell_type": "code",
   "execution_count": 12,
   "id": "477d1507",
   "metadata": {},
   "outputs": [
    {
     "name": "stdout",
     "output_type": "stream",
     "text": [
      "scale down by 3.0\n",
      "true\n"
     ]
    },
    {
     "data": {
      "image/png": "[encoded data removed]",
      "text/plain": [
       "87×116 Array{RGBA{Float64},2} with eltype ColorTypes.RGBA{Float64}:\n",
       " RGBA{Float64}(1.0,1.0,1.0,1.0)  …  RGBA{Float64}(1.0,1.0,1.0,1.0)\n",
       " RGBA{Float64}(1.0,1.0,1.0,1.0)     RGBA{Float64}(1.0,1.0,1.0,1.0)\n",
       " RGBA{Float64}(1.0,1.0,1.0,1.0)     RGBA{Float64}(1.0,1.0,1.0,1.0)\n",
       " RGBA{Float64}(1.0,1.0,1.0,1.0)     RGBA{Float64}(1.0,1.0,1.0,1.0)\n",
       " RGBA{Float64}(1.0,1.0,1.0,1.0)     RGBA{Float64}(1.0,1.0,1.0,1.0)\n",
       " RGBA{Float64}(1.0,1.0,1.0,1.0)  …  RGBA{Float64}(1.0,1.0,1.0,1.0)\n",
       " RGBA{Float64}(1.0,1.0,1.0,1.0)     RGBA{Float64}(1.0,1.0,1.0,1.0)\n",
       " RGBA{Float64}(1.0,1.0,1.0,1.0)     RGBA{Float64}(1.0,1.0,1.0,1.0)\n",
       " RGBA{Float64}(1.0,1.0,1.0,1.0)     RGBA{Float64}(1.0,1.0,1.0,1.0)\n",
       " RGBA{Float64}(1.0,1.0,1.0,1.0)     RGBA{Float64}(1.0,1.0,1.0,1.0)\n",
       " RGBA{Float64}(1.0,1.0,1.0,1.0)  …  RGBA{Float64}(1.0,1.0,1.0,1.0)\n",
       " RGBA{Float64}(1.0,1.0,1.0,1.0)     RGBA{Float64}(1.0,1.0,1.0,1.0)\n",
       " RGBA{Float64}(1.0,1.0,1.0,1.0)     RGBA{Float64}(1.0,1.0,1.0,1.0)\n",
       " ⋮                               ⋱  ⋮\n",
       " RGBA{Float64}(1.0,1.0,1.0,1.0)  …  RGBA{Float64}(1.0,1.0,1.0,1.0)\n",
       " RGBA{Float64}(1.0,1.0,1.0,1.0)     RGBA{Float64}(1.0,1.0,1.0,1.0)\n",
       " RGBA{Float64}(1.0,1.0,1.0,1.0)     RGBA{Float64}(1.0,1.0,1.0,1.0)\n",
       " RGBA{Float64}(1.0,1.0,1.0,1.0)     RGBA{Float64}(1.0,1.0,1.0,1.0)\n",
       " RGBA{Float64}(1.0,1.0,1.0,1.0)     RGBA{Float64}(1.0,1.0,1.0,1.0)\n",
       " RGBA{Float64}(1.0,1.0,1.0,1.0)  …  RGBA{Float64}(1.0,1.0,1.0,1.0)\n",
       " RGBA{Float64}(1.0,1.0,1.0,1.0)     RGBA{Float64}(1.0,1.0,1.0,1.0)\n",
       " RGBA{Float64}(1.0,1.0,1.0,1.0)     RGBA{Float64}(1.0,1.0,1.0,1.0)\n",
       " RGBA{Float64}(1.0,1.0,1.0,1.0)     RGBA{Float64}(1.0,1.0,1.0,1.0)\n",
       " RGBA{Float64}(1.0,1.0,1.0,1.0)     RGBA{Float64}(1.0,1.0,1.0,1.0)\n",
       " RGBA{Float64}(1.0,1.0,1.0,1.0)  …  RGBA{Float64}(1.0,1.0,1.0,1.0)\n",
       " RGBA{Float64}(1.0,1.0,1.0,1.0)     RGBA{Float64}(1.0,1.0,1.0,1.0)"
      ]
     },
     "metadata": {},
     "output_type": "display_data"
    },
    {
     "name": "stdout",
     "output_type": "stream",
     "text": [
      "true\n",
      "scale down by 4.0\n",
      "true\n"
     ]
    },
    {
     "data": {
      "image/png": "[encoded data removed]",
      "text/plain": [
       "87×116 Array{RGBA{Float64},2} with eltype ColorTypes.RGBA{Float64}:\n",
       " RGBA{Float64}(1.0,1.0,1.0,1.0)  …  RGBA{Float64}(1.0,1.0,1.0,1.0)\n",
       " RGBA{Float64}(1.0,1.0,1.0,1.0)     RGBA{Float64}(1.0,1.0,1.0,1.0)\n",
       " RGBA{Float64}(1.0,1.0,1.0,1.0)     RGBA{Float64}(1.0,1.0,1.0,1.0)\n",
       " RGBA{Float64}(1.0,1.0,1.0,1.0)     RGBA{Float64}(1.0,1.0,1.0,1.0)\n",
       " RGBA{Float64}(1.0,1.0,1.0,1.0)     RGBA{Float64}(1.0,1.0,1.0,1.0)\n",
       " RGBA{Float64}(1.0,1.0,1.0,1.0)  …  RGBA{Float64}(1.0,1.0,1.0,1.0)\n",
       " RGBA{Float64}(1.0,1.0,1.0,1.0)     RGBA{Float64}(1.0,1.0,1.0,1.0)\n",
       " RGBA{Float64}(1.0,1.0,1.0,1.0)     RGBA{Float64}(1.0,1.0,1.0,1.0)\n",
       " RGBA{Float64}(1.0,1.0,1.0,1.0)     RGBA{Float64}(1.0,1.0,1.0,1.0)\n",
       " RGBA{Float64}(1.0,1.0,1.0,1.0)     RGBA{Float64}(1.0,1.0,1.0,1.0)\n",
       " RGBA{Float64}(1.0,1.0,1.0,1.0)  …  RGBA{Float64}(1.0,1.0,1.0,1.0)\n",
       " RGBA{Float64}(1.0,1.0,1.0,1.0)     RGBA{Float64}(1.0,1.0,1.0,1.0)\n",
       " RGBA{Float64}(1.0,1.0,1.0,1.0)     RGBA{Float64}(1.0,1.0,1.0,1.0)\n",
       " ⋮                               ⋱  ⋮\n",
       " RGBA{Float64}(1.0,1.0,1.0,1.0)  …  RGBA{Float64}(1.0,1.0,1.0,1.0)\n",
       " RGBA{Float64}(1.0,1.0,1.0,1.0)     RGBA{Float64}(1.0,1.0,1.0,1.0)\n",
       " RGBA{Float64}(1.0,1.0,1.0,1.0)     RGBA{Float64}(1.0,1.0,1.0,1.0)\n",
       " RGBA{Float64}(1.0,1.0,1.0,1.0)     RGBA{Float64}(1.0,1.0,1.0,1.0)\n",
       " RGBA{Float64}(1.0,1.0,1.0,1.0)     RGBA{Float64}(1.0,1.0,1.0,1.0)\n",
       " RGBA{Float64}(1.0,1.0,1.0,1.0)  …  RGBA{Float64}(1.0,1.0,1.0,1.0)\n",
       " RGBA{Float64}(1.0,1.0,1.0,1.0)     RGBA{Float64}(1.0,1.0,1.0,1.0)\n",
       " RGBA{Float64}(1.0,1.0,1.0,1.0)     RGBA{Float64}(1.0,1.0,1.0,1.0)\n",
       " RGBA{Float64}(1.0,1.0,1.0,1.0)     RGBA{Float64}(1.0,1.0,1.0,1.0)\n",
       " RGBA{Float64}(1.0,1.0,1.0,1.0)     RGBA{Float64}(1.0,1.0,1.0,1.0)\n",
       " RGBA{Float64}(1.0,1.0,1.0,1.0)  …  RGBA{Float64}(1.0,1.0,1.0,1.0)\n",
       " RGBA{Float64}(1.0,1.0,1.0,1.0)     RGBA{Float64}(1.0,1.0,1.0,1.0)"
      ]
     },
     "metadata": {},
     "output_type": "display_data"
    },
    {
     "name": "stdout",
     "output_type": "stream",
     "text": [
      "true\n",
      "scale down by 5.0\n",
      "true\n"
     ]
    },
    {
     "data": {
      "image/png": "[encoded data removed]",
      "text/plain": [
       "87×116 Array{RGBA{Float64},2} with eltype ColorTypes.RGBA{Float64}:\n",
       " RGBA{Float64}(1.0,1.0,1.0,1.0)  …  RGBA{Float64}(1.0,1.0,1.0,1.0)\n",
       " RGBA{Float64}(1.0,1.0,1.0,1.0)     RGBA{Float64}(1.0,1.0,1.0,1.0)\n",
       " RGBA{Float64}(1.0,1.0,1.0,1.0)     RGBA{Float64}(1.0,1.0,1.0,1.0)\n",
       " RGBA{Float64}(1.0,1.0,1.0,1.0)     RGBA{Float64}(1.0,1.0,1.0,1.0)\n",
       " RGBA{Float64}(1.0,1.0,1.0,1.0)     RGBA{Float64}(1.0,1.0,1.0,1.0)\n",
       " RGBA{Float64}(1.0,1.0,1.0,1.0)  …  RGBA{Float64}(1.0,1.0,1.0,1.0)\n",
       " RGBA{Float64}(1.0,1.0,1.0,1.0)     RGBA{Float64}(1.0,1.0,1.0,1.0)\n",
       " RGBA{Float64}(1.0,1.0,1.0,1.0)     RGBA{Float64}(1.0,1.0,1.0,1.0)\n",
       " RGBA{Float64}(1.0,1.0,1.0,1.0)     RGBA{Float64}(1.0,1.0,1.0,1.0)\n",
       " RGBA{Float64}(1.0,1.0,1.0,1.0)     RGBA{Float64}(1.0,1.0,1.0,1.0)\n",
       " RGBA{Float64}(1.0,1.0,1.0,1.0)  …  RGBA{Float64}(1.0,1.0,1.0,1.0)\n",
       " RGBA{Float64}(1.0,1.0,1.0,1.0)     RGBA{Float64}(1.0,1.0,1.0,1.0)\n",
       " RGBA{Float64}(1.0,1.0,1.0,1.0)     RGBA{Float64}(1.0,1.0,1.0,1.0)\n",
       " ⋮                               ⋱  ⋮\n",
       " RGBA{Float64}(1.0,1.0,1.0,1.0)  …  RGBA{Float64}(1.0,1.0,1.0,1.0)\n",
       " RGBA{Float64}(1.0,1.0,1.0,1.0)     RGBA{Float64}(1.0,1.0,1.0,1.0)\n",
       " RGBA{Float64}(1.0,1.0,1.0,1.0)     RGBA{Float64}(1.0,1.0,1.0,1.0)\n",
       " RGBA{Float64}(1.0,1.0,1.0,1.0)     RGBA{Float64}(1.0,1.0,1.0,1.0)\n",
       " RGBA{Float64}(1.0,1.0,1.0,1.0)     RGBA{Float64}(1.0,1.0,1.0,1.0)\n",
       " RGBA{Float64}(1.0,1.0,1.0,1.0)  …  RGBA{Float64}(1.0,1.0,1.0,1.0)\n",
       " RGBA{Float64}(1.0,1.0,1.0,1.0)     RGBA{Float64}(1.0,1.0,1.0,1.0)\n",
       " RGBA{Float64}(1.0,1.0,1.0,1.0)     RGBA{Float64}(1.0,1.0,1.0,1.0)\n",
       " RGBA{Float64}(1.0,1.0,1.0,1.0)     RGBA{Float64}(1.0,1.0,1.0,1.0)\n",
       " RGBA{Float64}(1.0,1.0,1.0,1.0)     RGBA{Float64}(1.0,1.0,1.0,1.0)\n",
       " RGBA{Float64}(1.0,1.0,1.0,1.0)  …  RGBA{Float64}(1.0,1.0,1.0,1.0)\n",
       " RGBA{Float64}(1.0,1.0,1.0,1.0)     RGBA{Float64}(1.0,1.0,1.0,1.0)"
      ]
     },
     "metadata": {},
     "output_type": "display_data"
    },
    {
     "name": "stdout",
     "output_type": "stream",
     "text": [
      "true\n",
      "scale down by 6.0\n",
      "true\n"
     ]
    },
    {
     "data": {
      "image/png": "[encoded data removed]",
      "text/plain": [
       "87×116 Array{RGBA{Float64},2} with eltype ColorTypes.RGBA{Float64}:\n",
       " RGBA{Float64}(1.0,1.0,1.0,1.0)  …  RGBA{Float64}(1.0,1.0,1.0,1.0)\n",
       " RGBA{Float64}(1.0,1.0,1.0,1.0)     RGBA{Float64}(1.0,1.0,1.0,1.0)\n",
       " RGBA{Float64}(1.0,1.0,1.0,1.0)     RGBA{Float64}(1.0,1.0,1.0,1.0)\n",
       " RGBA{Float64}(1.0,1.0,1.0,1.0)     RGBA{Float64}(1.0,1.0,1.0,1.0)\n",
       " RGBA{Float64}(1.0,1.0,1.0,1.0)     RGBA{Float64}(1.0,1.0,1.0,1.0)\n",
       " RGBA{Float64}(1.0,1.0,1.0,1.0)  …  RGBA{Float64}(1.0,1.0,1.0,1.0)\n",
       " RGBA{Float64}(1.0,1.0,1.0,1.0)     RGBA{Float64}(1.0,1.0,1.0,1.0)\n",
       " RGBA{Float64}(1.0,1.0,1.0,1.0)     RGBA{Float64}(1.0,1.0,1.0,1.0)\n",
       " RGBA{Float64}(1.0,1.0,1.0,1.0)     RGBA{Float64}(1.0,1.0,1.0,1.0)\n",
       " RGBA{Float64}(1.0,1.0,1.0,1.0)     RGBA{Float64}(1.0,1.0,1.0,1.0)\n",
       " RGBA{Float64}(1.0,1.0,1.0,1.0)  …  RGBA{Float64}(1.0,1.0,1.0,1.0)\n",
       " RGBA{Float64}(1.0,1.0,1.0,1.0)     RGBA{Float64}(1.0,1.0,1.0,1.0)\n",
       " RGBA{Float64}(1.0,1.0,1.0,1.0)     RGBA{Float64}(1.0,1.0,1.0,1.0)\n",
       " ⋮                               ⋱  ⋮\n",
       " RGBA{Float64}(1.0,1.0,1.0,1.0)  …  RGBA{Float64}(1.0,1.0,1.0,1.0)\n",
       " RGBA{Float64}(1.0,1.0,1.0,1.0)     RGBA{Float64}(1.0,1.0,1.0,1.0)\n",
       " RGBA{Float64}(1.0,1.0,1.0,1.0)     RGBA{Float64}(1.0,1.0,1.0,1.0)\n",
       " RGBA{Float64}(1.0,1.0,1.0,1.0)     RGBA{Float64}(1.0,1.0,1.0,1.0)\n",
       " RGBA{Float64}(1.0,1.0,1.0,1.0)     RGBA{Float64}(1.0,1.0,1.0,1.0)\n",
       " RGBA{Float64}(1.0,1.0,1.0,1.0)  …  RGBA{Float64}(1.0,1.0,1.0,1.0)\n",
       " RGBA{Float64}(1.0,1.0,1.0,1.0)     RGBA{Float64}(1.0,1.0,1.0,1.0)\n",
       " RGBA{Float64}(1.0,1.0,1.0,1.0)     RGBA{Float64}(1.0,1.0,1.0,1.0)\n",
       " RGBA{Float64}(1.0,1.0,1.0,1.0)     RGBA{Float64}(1.0,1.0,1.0,1.0)\n",
       " RGBA{Float64}(1.0,1.0,1.0,1.0)     RGBA{Float64}(1.0,1.0,1.0,1.0)\n",
       " RGBA{Float64}(1.0,1.0,1.0,1.0)  …  RGBA{Float64}(1.0,1.0,1.0,1.0)\n",
       " RGBA{Float64}(1.0,1.0,1.0,1.0)     RGBA{Float64}(1.0,1.0,1.0,1.0)"
      ]
     },
     "metadata": {},
     "output_type": "display_data"
    },
    {
     "name": "stdout",
     "output_type": "stream",
     "text": [
      "true\n"
     ]
    }
   ],
   "source": [
    "using IJulia\n",
    "\n",
    "final = 6\n",
    "for downscale_factor=:3.0:final\n",
    "    println(\"scale down by $downscale_factor\")\n",
    "    \n",
    "    # scale camera according to resolution; reset renderer\n",
    "    scaled_camera = GL.scale_down_camera(camera, downscale_factor)\n",
    "        \n",
    "    # Set the renderer to now have those scaled down intrinsics.\n",
    "    GL.set_intrinsics!(renderer, scaled_camera)\n",
    " \n",
    "    d = GL.gl_render(renderer, [sample_id], [sample_pose], IDENTITY_POSE)\n",
    "\n",
    "    img = GL.view_depth_image(d)\n",
    "    img = I.imresize(img, (camera.height, camera.width));\n",
    "    IJulia.display(img)\n",
    "  \n",
    "    # revert intrinsics\n",
    "    GL.set_intrinsics!(renderer, camera)\n",
    "\n",
    "end\n"
   ]
  },
  {
   "cell_type": "markdown",
   "id": "a779f931",
   "metadata": {},
   "source": [
    "### Enumerative inference setup"
   ]
  },
  {
   "cell_type": "markdown",
   "id": "109e1fe5",
   "metadata": {},
   "source": [
    "#### Cloud helper functions"
   ]
  },
  {
   "cell_type": "code",
   "execution_count": 13,
   "id": "b87b1b70",
   "metadata": {},
   "outputs": [
    {
     "data": {
      "text/plain": [
       "viz_trace (generic function with 1 method)"
      ]
     },
     "execution_count": 13,
     "metadata": {},
     "output_type": "execute_result"
    }
   ],
   "source": [
    "# generative model trace visualization\n",
    "function viz_trace(trace)\n",
    "    V.setup_visualizer()\n",
    "    V.viz(Gen.get_retval(trace).voxelized_cloud  ./ 10.0; color=I.colorant\"red\", channel_name=:gen);\n",
    "    V.viz(Gen.get_retval(trace).obs_cloud ./ 10.0; color=I.colorant\"blue\", channel_name=:obs);\n",
    "end"
   ]
  },
  {
   "cell_type": "code",
   "execution_count": 14,
   "id": "aff608eb",
   "metadata": {},
   "outputs": [
    {
     "data": {
      "text/plain": [
       "get_cloud_func_cached (generic function with 1 method)"
      ]
     },
     "execution_count": 14,
     "metadata": {},
     "output_type": "execute_result"
    }
   ],
   "source": [
    "# Get point cloud from the object ids, object poses, and camera pose\n",
    "\n",
    "# Render and calculate pc\n",
    "function get_cloud_nocache(poses, ids)\n",
    "    depth_image = GL.gl_render(renderer, ids, poses, camera_pose)\n",
    "    cloud = GL.depth_image_to_point_cloud(depth_image, renderer.camera_intrinsics)\n",
    "    if isnothing(cloud)\n",
    "        cloud = zeros(3,1)\n",
    "    else\n",
    "        cloud = T.move_points_to_frame_b(cloud, camera_pose)\n",
    "    end\n",
    "    cloud\n",
    "end\n",
    "\n",
    "# Get cloud from cache\n",
    "function get_cloud_func_cached(p, id)\n",
    "    idx1 = argmin(sum((dirs .- (p.orientation * [1,0,0])).^2, dims=1))[2]\n",
    "    idx2 = argmin([abs(R.rotation_angle(inv(p.orientation) * r)) for r in rotations_to_enumerate_over[idx1,:]])\n",
    "    # closest_orientation = rotations_to_enumerate_over[idx1,idx2]\n",
    "    c = T.move_points_to_frame_b(cloud_lookup[id][idx1,idx2], p)\n",
    "end"
   ]
  },
  {
   "cell_type": "code",
   "execution_count": 15,
   "id": "674cc8be",
   "metadata": {},
   "outputs": [
    {
     "data": {
      "text/plain": [
       "generate_cloud_cache (generic function with 1 method)"
      ]
     },
     "execution_count": 15,
     "metadata": {},
     "output_type": "execute_result"
    }
   ],
   "source": [
    "# generate cached renderings of all objects at all rotations, positioned at reference frame\n",
    "function generate_cloud_cache()\n",
    "    cloud_lookup = []\n",
    "    @showprogress for id in all_ids\n",
    "        cloud = \n",
    "        [\n",
    "            let\n",
    "                position = [0.0, 0.0, 10.0]\n",
    "                pose = Pose(position, rotations_to_enumerate_over[i,j])\n",
    "                d = T.GL.gl_render(renderer, [id], [pose], IDENTITY_POSE);\n",
    "                c = T.GL.depth_image_to_point_cloud(d, camera)\n",
    "                c = T.get_points_in_frame_b(c, pose)  # gets the cloud in the render pose reference frame\n",
    "            end\n",
    "            for i = 1:size(rotations_to_enumerate_over,1), j = 1:size(rotations_to_enumerate_over,2)\n",
    "        ]\n",
    "        push!(cloud_lookup, cloud)    \n",
    "    end \n",
    "    \n",
    "    return cloud_lookup\n",
    "end\n"
   ]
  },
  {
   "cell_type": "markdown",
   "id": "850dd395",
   "metadata": {},
   "source": [
    "#### Inference helper functions"
   ]
  },
  {
   "cell_type": "code",
   "execution_count": 16,
   "id": "f106c2c5",
   "metadata": {},
   "outputs": [
    {
     "data": {
      "text/plain": [
       "precompute_enumerations (generic function with 1 method)"
      ]
     },
     "execution_count": 16,
     "metadata": {},
     "output_type": "execute_result"
    }
   ],
   "source": [
    "function precompute_enumerations(gt_voxelized_cloud, gt_pose, init_radius, renderer, first_candidate_obj, last_candidate_obj, rotations_to_enumerate_over)\n",
    "    # initialize a state of initial particles with various rotations\n",
    "    all_scored_traces = []\n",
    "    x, y, z = gt_pose.pos\n",
    "    gt_position = [x,y,z]\n",
    "    @Threads.threads for obj_id=first_candidate_obj:last_candidate_obj\n",
    "        scored_traces = map(orn -> \n",
    "                        Gen.generate(model, (init_radius, renderer, gt_position),                 \n",
    "                                    Gen.choicemap(T.obs_addr() => gt_voxelized_cloud, \n",
    "                                                :id => obj_id, \n",
    "                                                T.floating_pose_addr(1) => Pose(gt_position, orn))),\n",
    "                                    rotations_to_enumerate_over[:]);\n",
    "    \n",
    "        all_scored_traces = vcat(all_scored_traces, scored_traces)\n",
    "    end\n",
    "    return all_scored_traces\n",
    "    \n",
    "end "
   ]
  },
  {
   "cell_type": "code",
   "execution_count": 17,
   "id": "6d12e369",
   "metadata": {},
   "outputs": [
    {
     "data": {
      "text/plain": [
       "icp_move_no_unexplained (generic function with 1 method)"
      ]
     },
     "execution_count": 17,
     "metadata": {},
     "output_type": "execute_result"
    }
   ],
   "source": [
    "function icp_move_no_unexplained(trace, i, inf_radius, renderer, cam_pose; iterations=10)\n",
    "    # get_cloud_func needs to give the points in the world frame\n",
    "#     get_cloud_func = (poses, ids, cam_pose) -> get_cloud_nocache([poses], [ids])  \n",
    "    get_cloud_func = (pose, id, cam_pose) -> get_cloud_func_cached(pose, id);\n",
    "\n",
    "    id = Gen.get_choices(trace)[:id]  \n",
    "    addr = T.floating_pose_addr(1)\n",
    "    \n",
    "    obs_cloud = T.move_points_to_frame_b(T.get_obs_cloud(trace), cam_pose)\n",
    "    c1_tree = NearestNeighbors.KDTree(obs_cloud);\n",
    "\n",
    "    refined_pose = trace[addr]\n",
    "    \n",
    "    refined_pose = T.icp_object_pose(\n",
    "        refined_pose,\n",
    "        obs_cloud,\n",
    "        p -> T.voxelize(get_cloud_func(p, id, cam_pose), v_resolution(inf_radius)),\n",
    "        c1_tree=c1_tree,\n",
    "        iterations=iterations\n",
    "    );\n",
    "\n",
    "    acceptances = false\n",
    "     \n",
    "    for _ in 1:iterations\n",
    "        trace, acc = T.pose_mixture_move(\n",
    "            trace, addr, [trace[addr], refined_pose], [0.5, 0.5], 1e-2, 5000.0\n",
    "        )\n",
    "        acceptances = acc || acceptances\n",
    "    end\n",
    "    \n",
    "    trace, acceptances, refined_pose\n",
    "end"
   ]
  },
  {
   "cell_type": "code",
   "execution_count": 18,
   "id": "f1024d13",
   "metadata": {},
   "outputs": [
    {
     "data": {
      "text/plain": [
       "generate_initial_pf_state_from_enum"
      ]
     },
     "execution_count": 18,
     "metadata": {},
     "output_type": "execute_result"
    }
   ],
   "source": [
    "\"\"\"Selecting from a set of traces over all enumerated angles, generate a set of initial particles\"\"\"\n",
    "Gen.@gen function generate_initial_pf_state_from_enum(scored_traces, num_particles, U=Gen.DynamicDSLTrace{Gen.DynamicDSLFunction{Any}})\n",
    "    # unpack traces\n",
    "    traces = (t -> t[1]).(scored_traces)\n",
    "    log_weights = (t -> t[1].score).(scored_traces)#(t -> t[2]).(scored_traces)  \n",
    "    \n",
    "    _, norm_log_weights = Gen.normalize_weights(log_weights)       \n",
    "    \n",
    "    # sample initial set of particles\n",
    "    selected_traces = Vector{Gen.DynamicDSLTrace{Gen.DynamicDSLFunction{Any}}}(undef, num_particles)\n",
    "    selected_log_weights = Vector{Float64}(undef, num_particles)\n",
    "    for i=1:num_particles\n",
    "        trace_idx = Gen.random(Gen.categorical, exp.(norm_log_weights))   \n",
    "        selected_traces[i] = traces[trace_idx]\n",
    "        selected_log_weights[i] = norm_log_weights[trace_idx]\n",
    "    end\n",
    "    \n",
    "    println(\"Initial particle state computed\"); flush(stdout)\n",
    "\n",
    "#     # visualize pdf of initial weights (?)\n",
    "#     plot(selected_log_weights, seriestype=:stephist, fmt = :png)\n",
    "    \n",
    "    # see intermediate results\n",
    "    top_n = min(5, num_particles-1)\n",
    "    _, norm_log_weights = Gen.normalize_weights(selected_log_weights)\n",
    "    p = sortperm(norm_log_weights)[end-top_n:end]; \n",
    "\n",
    "    best_trace = selected_traces[argmax(norm_log_weights)];\n",
    "    if vis\n",
    "        viz_trace(best_trace);\n",
    "    end\n",
    "    println(\"top$top_n traces:\")\n",
    "    for idx in p\n",
    "       println(\"curr_weight=\", norm_log_weights[idx], \" ori=\", R.params(Gen.get_retval(selected_traces[idx]).ori), \" id=\", Gen.get_retval(selected_traces[idx]).id) \n",
    "    end\n",
    "    flush(stdout)\n",
    "    \n",
    "    return Gen.ParticleFilterState{U}(selected_traces, Vector{U}(undef, num_particles), selected_log_weights, 0., collect(1:num_particles))\n",
    "\n",
    "end"
   ]
  },
  {
   "cell_type": "code",
   "execution_count": 19,
   "id": "26bdf889",
   "metadata": {},
   "outputs": [
    {
     "data": {
      "text/plain": [
       "generate_initial_pf_state"
      ]
     },
     "execution_count": 19,
     "metadata": {},
     "output_type": "execute_result"
    }
   ],
   "source": [
    "\"\"\"Selecting from a set of traces over all enumerated angles, generate a set of initial particles\"\"\"\n",
    "Gen.@gen function generate_initial_pf_state(scored_traces, num_particles, U=Gen.DynamicDSLTrace{Gen.DynamicDSLFunction{Any}})\n",
    "    # unpack traces\n",
    "    traces = (t -> t[1]).(scored_traces)\n",
    "    log_weights = (t -> t[1].score).(scored_traces)#(t -> t[2]).(scored_traces)  \n",
    "    \n",
    "     _, norm_log_weights = Gen.normalize_weights(log_weights)    \n",
    "    flush(stdout)\n",
    "    \n",
    "    # sample initial set of particles\n",
    "    num_particles_per_obj = num_particles ÷ num_candidate_objs\n",
    "    selected_traces = Vector{Gen.DynamicDSLTrace{Gen.DynamicDSLFunction{Any}}}(undef, num_particles_per_obj * num_candidate_objs)\n",
    "    selected_log_weights = Vector{Float64}(undef, num_particles_per_obj * num_candidate_objs)\n",
    "        \n",
    "    stepsize = num_rotations_to_enumerate_over ÷ num_candidate_objs\n",
    "    \n",
    "    for i=0:num_candidate_objs-1  # TODO: Avoid globals\n",
    "        for j = 1:num_particles_per_obj\n",
    "            trace_idx = stepsize * i + \n",
    "                        Gen.random(Gen.categorical, \n",
    "                        exp.(Gen.normalize_weights(log_weights[stepsize*i+1:stepsize*(i+1)])[2]))   \n",
    "            selected_traces[num_particles_per_obj*i+j] = traces[trace_idx]\n",
    "            selected_log_weights[num_particles_per_obj*i+j] = norm_log_weights[trace_idx]\n",
    "        end        \n",
    "    end\n",
    "     \n",
    "    \n",
    "    println(\"Initial particle state computed ($num_particles_per_obj particles per object)\"); flush(stdout)\n",
    "\n",
    "    \n",
    "    # see intermediate results\n",
    "    top_n = min(10, num_particles-1)\n",
    "    _, norm_log_weights = Gen.normalize_weights(selected_log_weights)\n",
    "    p = sortperm(norm_log_weights)[end-top_n:end]; \n",
    "\n",
    "    best_trace = selected_traces[argmax(norm_log_weights)];\n",
    "    if vis\n",
    "        viz_trace(best_trace);\n",
    "    end\n",
    "    if topnprint\n",
    "        println(\"top$top_n traces:\")\n",
    "        for idx in p\n",
    "           println(\"curr_weight=\", norm_log_weights[idx], \" ori=\", R.params(Gen.get_retval(selected_traces[idx]).ori), \" id=\", Gen.get_retval(selected_traces[idx]).id) \n",
    "        end\n",
    "        flush(stdout)\n",
    "    end\n",
    "    \n",
    "    return Gen.ParticleFilterState{U}(selected_traces, Vector{U}(undef, num_particles), selected_log_weights, 0., collect(1:num_particles))\n",
    "\n",
    "end"
   ]
  },
  {
   "cell_type": "markdown",
   "id": "576f27f2",
   "metadata": {},
   "source": [
    "Note the parallelization via @Threads (there is no significant performance gain for this demo example (few objects))"
   ]
  },
  {
   "cell_type": "code",
   "execution_count": 20,
   "id": "54354deb",
   "metadata": {},
   "outputs": [
    {
     "data": {
      "text/plain": [
       "particle_filter_step!"
      ]
     },
     "execution_count": 20,
     "metadata": {},
     "output_type": "execute_result"
    }
   ],
   "source": [
    "\"\"\"\n",
    "Overloads the Gen function\n",
    "Perform a particle filter update, where the model arguments are adjusted, new observations are added, \n",
    "and the default proposal is used for new latent state.\n",
    "\"\"\"\n",
    "function particle_filter_step!(state::Gen.ParticleFilterState{U}, new_args::Tuple, argdiffs::Tuple,\n",
    "        observations) where {U}    \n",
    "    log_incremental_weights = Vector{Float64}(undef, num_particles) \n",
    "    radius::Float64 = new_args[1]\n",
    "#     centroid::Vector{Float64} = new_args[end]\n",
    "    \n",
    "    @Threads.threads for i=1:num_particles\n",
    "    ## do mh, drift moves, etc. tune particle before update (i.e. new likelihood)\n",
    "        state.traces[i], acc, _ = icp_move_no_unexplained(state.traces[i], Gen.get_retval(state.traces[i]).id, \n",
    "                                            radius, renderer, camera_pose; iterations=15)\n",
    "\n",
    "        state.traces[i], acc = T.drift_move(state.traces[i], T.floating_pose_addr(1), 0.001, 100.0)\n",
    "        state.traces[i], acc = T.drift_move(state.traces[i], T.floating_pose_addr(1), 0.0005, 100.0)\n",
    "        state.traces[i], acc = T.drift_move(state.traces[i], T.floating_pose_addr(1), 0.0005, 500.0)\n",
    "        state.traces[i], acc = T.drift_move(state.traces[i], T.floating_pose_addr(1), 0.001, 1000.0)\n",
    "        state.traces[i], acc = T.drift_move(state.traces[i], T.floating_pose_addr(1), 0.0005, 1000.0)\n",
    "        \n",
    "        \n",
    "        # evolve the particle (with new radius involved in new_args)\n",
    "        (state.new_traces[i], increment, _, discard) = Gen.update(\n",
    "            state.traces[i], new_args, argdiffs, observations)\n",
    "#         if !isempty(discard)\n",
    "#             error(\"Choices were updated or deleted inside particle filter step: $discard\")\n",
    "#         end\n",
    "        log_incremental_weights[i] = increment\n",
    "        state.log_weights[i] += increment\n",
    "    end\n",
    "    \n",
    "    # swap references\n",
    "    tmp = state.traces\n",
    "    state.traces = state.new_traces\n",
    "    state.new_traces = tmp\n",
    "    \n",
    "    return log_incremental_weights\n",
    "end"
   ]
  },
  {
   "cell_type": "code",
   "execution_count": 21,
   "id": "bc379a22",
   "metadata": {},
   "outputs": [
    {
     "name": "stdout",
     "output_type": "stream",
     "text": [
      "num_rotations_to_enumerate_over = length(rotations_to_enumerate_over) = 1620\n"
     ]
    }
   ],
   "source": [
    "## Control rotation enumeration / update render cache\n",
    "\n",
    "unit_sphere_directions = T.fibonacci_sphere(60);\n",
    "other_rotation_angle = collect(0:0.24:(2*π));\n",
    "rotations_to_enumerate_over = [\n",
    "    let\n",
    "        T.geodesicHopf_select_axis(StaticArrays.SVector(dir...), ang, 1)\n",
    "    end\n",
    "    for dir in unit_sphere_directions, \n",
    "        ang in other_rotation_angle\n",
    "];\n",
    "@show num_rotations_to_enumerate_over = length(rotations_to_enumerate_over)\n",
    "dirs = hcat(unit_sphere_directions...)\n",
    "\n",
    "# cloud_lookup = generate_cloud_cache()\n",
    "# Serialization.serialize(\"render_caching_data.data\", (cloud_lookup, rotations_to_enumerate_over, unit_sphere_directions, other_rotation_angle, dirs))\n",
    "# @show length(cloud_lookup)\n",
    "\n",
    "(cloud_lookup, rotations_to_enumerate_over, unit_sphere_directions, other_rotation_angle, dirs) = \n",
    "Serialization.deserialize(\"render_caching_data_200_10.data\");"
   ]
  },
  {
   "cell_type": "markdown",
   "id": "bee47e6a",
   "metadata": {},
   "source": [
    "#### Model & main particle filter function"
   ]
  },
  {
   "cell_type": "code",
   "execution_count": 22,
   "id": "ca8a68f3",
   "metadata": {},
   "outputs": [
    {
     "data": {
      "text/plain": [
       "model"
      ]
     },
     "execution_count": 22,
     "metadata": {},
     "output_type": "execute_result"
    }
   ],
   "source": [
    "bounds = (-100.0, 100.0, -100.0, 100.0,-100.0,300.0)\n",
    "\n",
    "# distance between two points on the pointcloud \n",
    "v_resolution = radius -> radius * 0.6   # TODO: experiment with relation btwn resolution and likelihood radius \n",
    "\n",
    "\"\"\"sample point clouds at the given camera resolution and radius\"\"\"\n",
    "Gen.@gen function model(radius, renderer, centroid, delta=0.9)\n",
    "    \n",
    "    # sample object id  \n",
    "    i = {:id} ~ Gen.uniform_discrete(first_candidate_obj, last_candidate_obj )\n",
    "\n",
    "    # sample pose\n",
    "    xc, yc, zc = centroid\n",
    "    p = {T.floating_pose_addr(1)} ~ T.uniformPose(xc-delta, xc+delta, yc-delta, yc+delta, zc-delta, zc+delta)\n",
    "#     gt_cloud = get_cloud_nocache([p], [i])    \n",
    "    gt_cloud = get_cloud_func_cached(p, i);\n",
    "\n",
    "    voxelized_cloud = GL.voxelize(gt_cloud, v_resolution(radius))\n",
    "    obs_cloud = {T.obs_addr()} ~ T.uniform_mixture_from_template(voxelized_cloud, 0.0001, radius, bounds)\n",
    "         \n",
    "    (id=i, pose=p, pos=p.pos, ori=p.orientation, cloud=gt_cloud, voxelized_cloud=voxelized_cloud, rendered_clouds=[voxelized_cloud], obs_cloud=obs_cloud)\n",
    "\n",
    "end\n",
    " "
   ]
  },
  {
   "cell_type": "code",
   "execution_count": 23,
   "id": "486fd83e",
   "metadata": {},
   "outputs": [
    {
     "data": {
      "text/plain": [
       "particle_filter"
      ]
     },
     "execution_count": 23,
     "metadata": {},
     "output_type": "execute_result"
    }
   ],
   "source": [
    "\"\"\"Particle filter on the evolution of agent knowledge over time; resolution control with radius\"\"\"\n",
    "function particle_filter(renderer, init_radius::Float64, final_radius::Float64, radius_step::Float64, scored_traces,\n",
    "                        gt_obj_id::Int, gt_pose::Pose, centroid, num_particles::Int, num_samples::Int, U=Gen.DynamicDSLTrace{Gen.DynamicDSLFunction{Any}})\n",
    "    \n",
    "    # initialize renderer and particle filter\n",
    "    GL.set_intrinsics!(renderer, camera)  \n",
    "#     gt_cloud = get_cloud_nocache([gt_pose], [gt_obj_id])\n",
    "    gt_cloud = get_cloud_func_cached(gt_pose, gt_obj_id)\n",
    "    gt_voxelized_cloud = GL.voxelize(gt_cloud, v_resolution(init_radius))\n",
    "    \n",
    "    println(\"\\ninitializing particle filter at radius $init_radius\") \n",
    "    flush(stdout)\n",
    "    \n",
    "    \n",
    "    # initialize a state of initial particles with various rotations  \n",
    "    state::Gen.ParticleFilterState{U} = generate_initial_pf_state(scored_traces, num_particles)\n",
    "\n",
    "    \n",
    "    # evolve over resolutions (modify sphere radius `r` of mixture point cloud likelihood)\n",
    "    @assert(radius_step < 0.0)\n",
    "    for radius in init_radius+radius_step:radius_step:final_radius-eps()\n",
    "        println(\"\\n========Radius=$radius========\"); flush(stdout)\n",
    "        Gen.maybe_resample!(state, ess_threshold=num_particles/3, verbose=true)  \n",
    "        \n",
    "        # update pf \n",
    "        gt_voxelized_cloud = GL.voxelize(gt_cloud, v_resolution(radius))\n",
    "        observations = Gen.choicemap(T.obs_addr() => gt_voxelized_cloud) \n",
    "        current_log_weights = particle_filter_step!(state, (radius, renderer, centroid),   \n",
    "                                                    (Gen.UnknownChange(),), observations)    \n",
    "        \n",
    "        # see intermediate results\n",
    "        top_n = min(5, num_particles-1)\n",
    "        _, norm_log_weights = Gen.normalize_weights(current_log_weights)\n",
    "        p = sortperm(norm_log_weights)[end-top_n:end]; \n",
    "        \n",
    "        best_trace = state.traces[argmax(norm_log_weights)];\n",
    "        \n",
    "        if vis\n",
    "            viz_trace(best_trace);\n",
    "        end\n",
    "        if topnprint\n",
    "            println(\"top$top_n traces:\")\n",
    "            for idx in p\n",
    "               println(\"weight=\", norm_log_weights[idx], \" ori=\", (Gen.get_retval(state.traces[idx]).ori)[1:3], \"  id=\", Gen.get_retval(state.traces[idx]).id) \n",
    "            end\n",
    "            flush(stdout)\n",
    "        end\n",
    "        \n",
    "    end;\n",
    "    \n",
    "    # normalize final weights\n",
    "    log_total_weight, norm_weights = Gen.normalize_weights(state.log_weights)\n",
    "    return [norm_weights, Gen.sample_unweighted_traces(state, num_samples)]\n",
    "    \n",
    "end"
   ]
  },
  {
   "cell_type": "code",
   "execution_count": null,
   "id": "271cb670",
   "metadata": {},
   "outputs": [],
   "source": []
  },
  {
   "cell_type": "markdown",
   "id": "0001e938",
   "metadata": {},
   "source": [
    "### Conduct enumerative inference "
   ]
  },
  {
   "cell_type": "markdown",
   "id": "4311cfdd",
   "metadata": {},
   "source": [
    "Choose object to infer:\n",
    "\n",
    "(for pose-only inference, first = last = gt_id)\n",
    "(to add object id inference as well, specify the range of objects to consider with first_candidiate_obj and last_candidate_obj)\n"
   ]
  },
  {
   "cell_type": "code",
   "execution_count": 24,
   "id": "339ae526",
   "metadata": {},
   "outputs": [
    {
     "name": "stdout",
     "output_type": "stream",
     "text": [
      "first_candidate_obj = (last_candidate_obj = (gt_obj_id = rand(1:length(all_ids)))) = 15\n",
      "object = names[gt_obj_id] = \"035_power_drill\"\n"
     ]
    },
    {
     "data": {
      "text/plain": [
       "\"035_power_drill\""
      ]
     },
     "execution_count": 24,
     "metadata": {},
     "output_type": "execute_result"
    }
   ],
   "source": [
    "# 1) Choose gt object\n",
    "# enumerate between objects with id in range [first_candidate_obj, last_candidate_obj]\n",
    "\n",
    "@show first_candidate_obj = last_candidate_obj = gt_obj_id = rand(1:length(all_ids))  # choose some random obj\n",
    "num_candidate_objs = last_candidate_obj - first_candidate_obj + 1 #length(all_ids)\n",
    "@show object = names[gt_obj_id]\n"
   ]
  },
  {
   "cell_type": "markdown",
   "id": "e3e07aaa",
   "metadata": {},
   "source": [
    "**Configure pf with parameters below:**"
   ]
  },
  {
   "cell_type": "code",
   "execution_count": 25,
   "id": "d18ae7fa",
   "metadata": {},
   "outputs": [
    {
     "data": {
      "text/plain": [
       "(true, false)"
      ]
     },
     "execution_count": 25,
     "metadata": {},
     "output_type": "execute_result"
    }
   ],
   "source": [
    "num_particles_per_obj = 4  # note that few particles suffice\n",
    "num_particles = num_candidate_objs * num_particles_per_obj\n",
    "num_samples = num_particles  # number of samples to take from final pf state\n",
    "num_steps = 3\n",
    "final_radius = float(0.05)# low to high \"focus\"\n",
    "init_radius = float(0.30)  # high num = faster enum\n",
    "radius_step = (final_radius - init_radius)/num_steps\n",
    "\n",
    "topnprint, vis = true, false  # print info on top particles / meshcat viz top trace\n",
    "\n",
    "\n"
   ]
  },
  {
   "cell_type": "markdown",
   "id": "646f4fad",
   "metadata": {},
   "source": [
    "Choose pose to infer "
   ]
  },
  {
   "cell_type": "code",
   "execution_count": 26,
   "id": "0ef6478a",
   "metadata": {},
   "outputs": [
    {
     "name": "stdout",
     "output_type": "stream",
     "text": [
      "gt_position = [gx, gy, gz] = [3.7895996096353715, 0.16365652266381758, 3.1785346468769973]\n"
     ]
    },
    {
     "data": {
      "text/plain": [
       "Pose⟨pos=[3.7895996096353715, 0.16365652266381758, 3.1785346468769973], orientation=(w=0.20556976341211106, x=-0.7235405567471094, y=0.5230588790278129, z=-0.4007986329604177)⟩"
      ]
     },
     "execution_count": 26,
     "metadata": {},
     "output_type": "execute_result"
    }
   ],
   "source": [
    "# 2) Choose gt pose\n",
    "gx, gy, gz = Gen.uniform(0.0, 5.0), Gen.uniform(0.0, 5.0), Gen.uniform(0.0, 5.0)\n",
    "@show gt_position = [gx, gy, gz]\n",
    "tr, _ = Gen.generate(model, (init_radius, renderer, gt_position), Gen.choicemap(:id => gt_obj_id))\n",
    "gt_pose = T.Pose(pos=gt_position, orientation=Gen.get_retval(tr).ori)"
   ]
  },
  {
   "cell_type": "markdown",
   "id": "1876876a",
   "metadata": {},
   "source": [
    "precompute enumeration; run the below code once and comment out"
   ]
  },
  {
   "cell_type": "code",
   "execution_count": 27,
   "id": "85fd6a8f",
   "metadata": {},
   "outputs": [
    {
     "name": "stdout",
     "output_type": "stream",
     "text": [
      "  3.941476 seconds (15.65 M allocations: 1.974 GiB, 12.93% gc time, 19.02% compilation time)\n"
     ]
    }
   ],
   "source": [
    "# gt_cloud = get_cloud_nocache([gt_pose], [gt_obj_id])\n",
    "gt_cloud = get_cloud_func_cached(gt_pose, gt_obj_id);\n",
    "gt_voxelized_cloud = GL.voxelize(gt_cloud, v_resolution(init_radius))\n",
    "\n",
    "# get centroid (at a finer resolution)\n",
    "centroid = T.centroid(GL.voxelize(gt_cloud, v_resolution(1e-10)))\n",
    "\n",
    "\n",
    "@time enum_ori_traces = precompute_enumerations(gt_voxelized_cloud, gt_pose, init_radius, renderer, \n",
    "    first_candidate_obj, last_candidate_obj, rotations_to_enumerate_over);\n",
    "\n"
   ]
  },
  {
   "cell_type": "markdown",
   "id": "fdd3cadf",
   "metadata": {},
   "source": [
    "Run particle filter; generate traces"
   ]
  },
  {
   "cell_type": "code",
   "execution_count": 33,
   "id": "7bee7488",
   "metadata": {},
   "outputs": [
    {
     "name": "stdout",
     "output_type": "stream",
     "text": [
      "true\n",
      "\n",
      "initializing particle filter at radius 0.3\n",
      "Initial particle state computed (4 particles per object)\n",
      "top3 traces:\n",
      "curr_weight=-1.3862943611198943 ori=[0.6070474850634116, 0.1877817923644695, -0.45235838400720324, -0.625782104052973] id=15\n",
      "curr_weight=-1.3862943611198943 ori=[0.6070474850634116, 0.1877817923644695, -0.45235838400720324, -0.625782104052973] id=15\n",
      "curr_weight=-1.3862943611198943 ori=[0.6070474850634116, 0.1877817923644695, -0.45235838400720324, -0.625782104052973] id=15\n",
      "curr_weight=-1.3862943611198943 ori=[0.6070474850634116, 0.1877817923644695, -0.45235838400720324, -0.625782104052973] id=15\n",
      "\n",
      "========Radius=0.21666666666666667========\n",
      "effective sample size: 4.00000000000003, doing resample: false\n",
      "top3 traces:\n",
      "weight=-177.448902068503 ori=[-0.14271988876313058, -0.9346906221230954, 0.32555256759328455]  id=15\n",
      "weight=-119.9227904102762 ori=[-0.20841982573995468, -0.952767443598743, 0.220896751123333]  id=15\n",
      "weight=-91.55581806514414 ori=[-0.2377744874197171, -0.9339982355065996, 0.2666656880868829]  id=15\n",
      "weight=0.0 ori=[-0.15227595680527153, -0.9331736920213171, 0.32557471262114723]  id=15\n",
      "\n",
      "========Radius=0.13333333333333336========\n",
      "effective sample size: 1.0, doing resample: true\n",
      "top3 traces:\n",
      "weight=-308.9733337964974 ori=[0.04697511609183342, -0.9154735899414027, 0.39962663147988187]  id=15\n",
      "weight=-134.13114803810345 ori=[0.013281908699119101, -0.9830353241888025, 0.18293480340908913]  id=15\n",
      "weight=-22.863350104802976 ori=[-0.14578406825208762, -0.9430117096402915, 0.2991252595906344]  id=15\n",
      "weight=-1.176658770418726e-10 ori=[0.05755168910483463, -0.9855723280278536, 0.15916968714844965]  id=15\n",
      "\n",
      "========Radius=0.05000000000000002========\n",
      "effective sample size: 1.0000000002353318, doing resample: true\n",
      "top3 traces:\n",
      "weight=-196.92107118184776 ori=[0.08375538606294314, -0.9817354928735319, 0.1708228829454902]  id=15\n",
      "weight=-86.62201883472153 ori=[0.07824678323100515, -0.983076333229034, 0.16564529561371572]  id=15\n",
      "weight=-76.69509423149702 ori=[0.10688267055988293, -0.9689574666090283, 0.22292941178005315]  id=15\n",
      "weight=0.0 ori=[0.05053395458696587, -0.9907833448212326, 0.12567689946307145]  id=15\n",
      "  0.150341 seconds (1.44 M allocations: 201.224 MiB)\n"
     ]
    }
   ],
   "source": [
    "@time weights, pf_traces = particle_filter(renderer, init_radius, final_radius, radius_step,\n",
    "                                    enum_ori_traces, gt_obj_id, gt_pose, centroid, num_particles, num_samples);\n"
   ]
  },
  {
   "cell_type": "markdown",
   "id": "80a1c233",
   "metadata": {},
   "source": []
  },
  {
   "cell_type": "markdown",
   "id": "912f566b",
   "metadata": {},
   "source": [
    "### results\n",
    "Quantify the localization error (of the highest-weight trace); units are in centimeters"
   ]
  },
  {
   "cell_type": "code",
   "execution_count": 29,
   "id": "dd089b2c",
   "metadata": {},
   "outputs": [
    {
     "data": {
      "text/plain": [
       "pose_error (generic function with 1 method)"
      ]
     },
     "execution_count": 29,
     "metadata": {},
     "output_type": "execute_result"
    }
   ],
   "source": [
    "function pose_error(object_cloud, ground_truth_pose, predicted_pose)\n",
    "    tree = NearestNeighbors.KDTree(T.move_points_to_frame_b(object_cloud, predicted_pose))\n",
    "    _, dists = NearestNeighbors.nn(tree, T.move_points_to_frame_b(object_cloud, ground_truth_pose))\n",
    "    sum(dists) ./ length(dists) * 10    # scale to cm\n",
    "end"
   ]
  },
  {
   "cell_type": "code",
   "execution_count": 32,
   "id": "8bf15057",
   "metadata": {},
   "outputs": [
    {
     "name": "stdout",
     "output_type": "stream",
     "text": [
      "pose_error(obj_cloud, gt_pose, (Gen.get_retval(pf_traces[argmax(weights)])).pose) = 0.9233203952422492\n",
      "  0.016229 seconds (18.45 k allocations: 3.102 MiB)\n"
     ]
    },
    {
     "data": {
      "text/plain": [
       "0.9233203952422492"
      ]
     },
     "execution_count": 32,
     "metadata": {},
     "output_type": "execute_result"
    }
   ],
   "source": [
    "obj_cloud = id_to_cloud[gt_obj_id] \n",
    "\n",
    "@time @show pose_error(obj_cloud, gt_pose, (Gen.get_retval(pf_traces[argmax(weights)]).pose))"
   ]
  },
  {
   "cell_type": "code",
   "execution_count": null,
   "id": "71f31367",
   "metadata": {},
   "outputs": [],
   "source": []
  },
  {
   "cell_type": "code",
   "execution_count": null,
   "id": "cf3834bd",
   "metadata": {},
   "outputs": [],
   "source": []
  }
 ],
 "metadata": {
  "kernelspec": {
   "display_name": "Julia multithreading6 1.7.2",
   "language": "julia",
   "name": "julia-multithreading6-1.7"
  },
  "language_info": {
   "file_extension": ".jl",
   "mimetype": "application/julia",
   "name": "julia",
   "version": "1.7.2"
  },
  "toc": {
   "base_numbering": 1,
   "nav_menu": {},
   "number_sections": true,
   "sideBar": true,
   "skip_h1_title": false,
   "title_cell": "Table of Contents",
   "title_sidebar": "Contents",
   "toc_cell": false,
   "toc_position": {},
   "toc_section_display": true,
   "toc_window_display": false
  },
  "varInspector": {
   "cols": {
    "lenName": 16,
    "lenType": 16,
    "lenVar": 40
   },
   "kernels_config": {
    "python": {
     "delete_cmd_postfix": "",
     "delete_cmd_prefix": "del ",
     "library": "var_list.py",
     "varRefreshCmd": "print(var_dic_list())"
    },
    "r": {
     "delete_cmd_postfix": ") ",
     "delete_cmd_prefix": "rm(",
     "library": "var_list.r",
     "varRefreshCmd": "cat(var_dic_list()) "
    }
   },
   "types_to_exclude": [
    "module",
    "function",
    "builtin_function_or_method",
    "instance",
    "_Feature"
   ],
   "window_display": false
  }
 },
 "nbformat": 4,
 "nbformat_minor": 5
}
